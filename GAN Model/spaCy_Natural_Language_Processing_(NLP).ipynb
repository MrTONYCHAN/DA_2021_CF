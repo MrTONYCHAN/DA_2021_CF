{
  "nbformat": 4,
  "nbformat_minor": 0,
  "metadata": {
    "colab": {
      "name": "spaCy Natural Language Processing (NLP).ipynb",
      "provenance": [],
      "collapsed_sections": [
        "DQH2S51fNid9",
        "gqBdnoe7MUDd",
        "vg2_m-LGMaDF",
        "eTsAc3MtN_yL",
        "jqV2vXgPtm3p",
        "WXjJ3UJFW_5f",
        "K3jiHE_0YBX4",
        "KGqV6TCoYMnh",
        "mPH6RWGk4DuQ",
        "T7Zg1jYN6ACw",
        "FossT05Hraa-",
        "N49RMlSCs4i4",
        "wbnOE0i7uuJo",
        "Br63Ap5xwQpF",
        "27GXRQkIw-5N",
        "PjHuDcU1xLY2",
        "7GLUAsmjlG2f",
        "EbqJQIrMmONy",
        "fdNgUm6cmyr_",
        "W31NhaezO9ah",
        "2iKJQcxlTGbp",
        "e3rPxKs8TejR",
        "bKOaGVLcTq5w",
        "D5kyIp8-UQT4",
        "carfSde6U8PB",
        "QFRMJWxAVJ4A",
        "I_X3CkG0VXxg"
      ]
    },
    "kernelspec": {
      "name": "python3",
      "display_name": "Python 3"
    },
    "language_info": {
      "name": "python"
    }
  },
  "cells": [
    {
      "cell_type": "markdown",
      "metadata": {
        "id": "DQH2S51fNid9"
      },
      "source": [
        "#Spacy\n",
        "\n"
      ]
    },
    {
      "cell_type": "code",
      "metadata": {
        "colab": {
          "base_uri": "https://localhost:8080/"
        },
        "id": "sVvkvqyi5O6A",
        "outputId": "df8c3c43-73e8-4fcf-edc6-572c9da4c5be"
      },
      "source": [
        "!pip install -U pip setuptools wheel\n",
        "!pip install -U spacy\n",
        "!python -m spacy download en_core_web_sm"
      ],
      "execution_count": null,
      "outputs": [
        {
          "output_type": "stream",
          "name": "stdout",
          "text": [
            "Requirement already satisfied: pip in /usr/local/lib/python3.7/dist-packages (21.2.4)\n",
            "Requirement already satisfied: setuptools in /usr/local/lib/python3.7/dist-packages (58.2.0)\n",
            "Requirement already satisfied: wheel in /usr/local/lib/python3.7/dist-packages (0.37.0)\n",
            "\u001b[33mWARNING: Running pip as the 'root' user can result in broken permissions and conflicting behaviour with the system package manager. It is recommended to use a virtual environment instead: https://pip.pypa.io/warnings/venv\u001b[0m\n",
            "Requirement already satisfied: spacy in /usr/local/lib/python3.7/dist-packages (3.1.3)\n",
            "Requirement already satisfied: blis<0.8.0,>=0.4.0 in /usr/local/lib/python3.7/dist-packages (from spacy) (0.4.1)\n",
            "Requirement already satisfied: cymem<2.1.0,>=2.0.2 in /usr/local/lib/python3.7/dist-packages (from spacy) (2.0.5)\n",
            "Requirement already satisfied: thinc<8.1.0,>=8.0.9 in /usr/local/lib/python3.7/dist-packages (from spacy) (8.0.10)\n",
            "Requirement already satisfied: numpy>=1.15.0 in /usr/local/lib/python3.7/dist-packages (from spacy) (1.19.5)\n",
            "Requirement already satisfied: pathy>=0.3.5 in /usr/local/lib/python3.7/dist-packages (from spacy) (0.6.0)\n",
            "Requirement already satisfied: jinja2 in /usr/local/lib/python3.7/dist-packages (from spacy) (2.11.3)\n",
            "Requirement already satisfied: preshed<3.1.0,>=3.0.2 in /usr/local/lib/python3.7/dist-packages (from spacy) (3.0.5)\n",
            "Requirement already satisfied: requests<3.0.0,>=2.13.0 in /usr/local/lib/python3.7/dist-packages (from spacy) (2.23.0)\n",
            "Requirement already satisfied: typer<0.5.0,>=0.3.0 in /usr/local/lib/python3.7/dist-packages (from spacy) (0.4.0)\n",
            "Requirement already satisfied: wasabi<1.1.0,>=0.8.1 in /usr/local/lib/python3.7/dist-packages (from spacy) (0.8.2)\n",
            "Requirement already satisfied: packaging>=20.0 in /usr/local/lib/python3.7/dist-packages (from spacy) (21.0)\n",
            "Requirement already satisfied: catalogue<2.1.0,>=2.0.6 in /usr/local/lib/python3.7/dist-packages (from spacy) (2.0.6)\n",
            "Requirement already satisfied: tqdm<5.0.0,>=4.38.0 in /usr/local/lib/python3.7/dist-packages (from spacy) (4.62.3)\n",
            "Requirement already satisfied: srsly<3.0.0,>=2.4.1 in /usr/local/lib/python3.7/dist-packages (from spacy) (2.4.1)\n",
            "Requirement already satisfied: setuptools in /usr/local/lib/python3.7/dist-packages (from spacy) (58.2.0)\n",
            "Requirement already satisfied: typing-extensions<4.0.0.0,>=3.7.4 in /usr/local/lib/python3.7/dist-packages (from spacy) (3.7.4.3)\n",
            "Requirement already satisfied: spacy-legacy<3.1.0,>=3.0.8 in /usr/local/lib/python3.7/dist-packages (from spacy) (3.0.8)\n",
            "Requirement already satisfied: pydantic!=1.8,!=1.8.1,<1.9.0,>=1.7.4 in /usr/local/lib/python3.7/dist-packages (from spacy) (1.8.2)\n",
            "Requirement already satisfied: murmurhash<1.1.0,>=0.28.0 in /usr/local/lib/python3.7/dist-packages (from spacy) (1.0.5)\n",
            "Requirement already satisfied: zipp>=0.5 in /usr/local/lib/python3.7/dist-packages (from catalogue<2.1.0,>=2.0.6->spacy) (3.6.0)\n",
            "Requirement already satisfied: pyparsing>=2.0.2 in /usr/local/lib/python3.7/dist-packages (from packaging>=20.0->spacy) (2.4.7)\n",
            "Requirement already satisfied: smart-open<6.0.0,>=5.0.0 in /usr/local/lib/python3.7/dist-packages (from pathy>=0.3.5->spacy) (5.2.1)\n",
            "Requirement already satisfied: certifi>=2017.4.17 in /usr/local/lib/python3.7/dist-packages (from requests<3.0.0,>=2.13.0->spacy) (2021.5.30)\n",
            "Requirement already satisfied: urllib3!=1.25.0,!=1.25.1,<1.26,>=1.21.1 in /usr/local/lib/python3.7/dist-packages (from requests<3.0.0,>=2.13.0->spacy) (1.24.3)\n",
            "Requirement already satisfied: chardet<4,>=3.0.2 in /usr/local/lib/python3.7/dist-packages (from requests<3.0.0,>=2.13.0->spacy) (3.0.4)\n",
            "Requirement already satisfied: idna<3,>=2.5 in /usr/local/lib/python3.7/dist-packages (from requests<3.0.0,>=2.13.0->spacy) (2.10)\n",
            "Requirement already satisfied: click<9.0.0,>=7.1.1 in /usr/local/lib/python3.7/dist-packages (from typer<0.5.0,>=0.3.0->spacy) (7.1.2)\n",
            "Requirement already satisfied: MarkupSafe>=0.23 in /usr/local/lib/python3.7/dist-packages (from jinja2->spacy) (2.0.1)\n",
            "\u001b[33mWARNING: Running pip as the 'root' user can result in broken permissions and conflicting behaviour with the system package manager. It is recommended to use a virtual environment instead: https://pip.pypa.io/warnings/venv\u001b[0m\n",
            "Collecting en-core-web-sm==3.1.0\n",
            "  Downloading https://github.com/explosion/spacy-models/releases/download/en_core_web_sm-3.1.0/en_core_web_sm-3.1.0-py3-none-any.whl (13.6 MB)\n",
            "\u001b[K     |████████████████████████████████| 13.6 MB 70 kB/s \n",
            "\u001b[?25hRequirement already satisfied: spacy<3.2.0,>=3.1.0 in /usr/local/lib/python3.7/dist-packages (from en-core-web-sm==3.1.0) (3.1.3)\n",
            "Requirement already satisfied: numpy>=1.15.0 in /usr/local/lib/python3.7/dist-packages (from spacy<3.2.0,>=3.1.0->en-core-web-sm==3.1.0) (1.19.5)\n",
            "Requirement already satisfied: wasabi<1.1.0,>=0.8.1 in /usr/local/lib/python3.7/dist-packages (from spacy<3.2.0,>=3.1.0->en-core-web-sm==3.1.0) (0.8.2)\n",
            "Requirement already satisfied: blis<0.8.0,>=0.4.0 in /usr/local/lib/python3.7/dist-packages (from spacy<3.2.0,>=3.1.0->en-core-web-sm==3.1.0) (0.4.1)\n",
            "Requirement already satisfied: jinja2 in /usr/local/lib/python3.7/dist-packages (from spacy<3.2.0,>=3.1.0->en-core-web-sm==3.1.0) (2.11.3)\n",
            "Requirement already satisfied: preshed<3.1.0,>=3.0.2 in /usr/local/lib/python3.7/dist-packages (from spacy<3.2.0,>=3.1.0->en-core-web-sm==3.1.0) (3.0.5)\n",
            "Requirement already satisfied: typing-extensions<4.0.0.0,>=3.7.4 in /usr/local/lib/python3.7/dist-packages (from spacy<3.2.0,>=3.1.0->en-core-web-sm==3.1.0) (3.7.4.3)\n",
            "Requirement already satisfied: setuptools in /usr/local/lib/python3.7/dist-packages (from spacy<3.2.0,>=3.1.0->en-core-web-sm==3.1.0) (58.2.0)\n",
            "Requirement already satisfied: typer<0.5.0,>=0.3.0 in /usr/local/lib/python3.7/dist-packages (from spacy<3.2.0,>=3.1.0->en-core-web-sm==3.1.0) (0.4.0)\n",
            "Requirement already satisfied: tqdm<5.0.0,>=4.38.0 in /usr/local/lib/python3.7/dist-packages (from spacy<3.2.0,>=3.1.0->en-core-web-sm==3.1.0) (4.62.3)\n",
            "Requirement already satisfied: pathy>=0.3.5 in /usr/local/lib/python3.7/dist-packages (from spacy<3.2.0,>=3.1.0->en-core-web-sm==3.1.0) (0.6.0)\n",
            "Requirement already satisfied: thinc<8.1.0,>=8.0.9 in /usr/local/lib/python3.7/dist-packages (from spacy<3.2.0,>=3.1.0->en-core-web-sm==3.1.0) (8.0.10)\n",
            "Requirement already satisfied: murmurhash<1.1.0,>=0.28.0 in /usr/local/lib/python3.7/dist-packages (from spacy<3.2.0,>=3.1.0->en-core-web-sm==3.1.0) (1.0.5)\n",
            "Requirement already satisfied: requests<3.0.0,>=2.13.0 in /usr/local/lib/python3.7/dist-packages (from spacy<3.2.0,>=3.1.0->en-core-web-sm==3.1.0) (2.23.0)\n",
            "Requirement already satisfied: pydantic!=1.8,!=1.8.1,<1.9.0,>=1.7.4 in /usr/local/lib/python3.7/dist-packages (from spacy<3.2.0,>=3.1.0->en-core-web-sm==3.1.0) (1.8.2)\n",
            "Requirement already satisfied: cymem<2.1.0,>=2.0.2 in /usr/local/lib/python3.7/dist-packages (from spacy<3.2.0,>=3.1.0->en-core-web-sm==3.1.0) (2.0.5)\n",
            "Requirement already satisfied: spacy-legacy<3.1.0,>=3.0.8 in /usr/local/lib/python3.7/dist-packages (from spacy<3.2.0,>=3.1.0->en-core-web-sm==3.1.0) (3.0.8)\n",
            "Requirement already satisfied: srsly<3.0.0,>=2.4.1 in /usr/local/lib/python3.7/dist-packages (from spacy<3.2.0,>=3.1.0->en-core-web-sm==3.1.0) (2.4.1)\n",
            "Requirement already satisfied: packaging>=20.0 in /usr/local/lib/python3.7/dist-packages (from spacy<3.2.0,>=3.1.0->en-core-web-sm==3.1.0) (21.0)\n",
            "Requirement already satisfied: catalogue<2.1.0,>=2.0.6 in /usr/local/lib/python3.7/dist-packages (from spacy<3.2.0,>=3.1.0->en-core-web-sm==3.1.0) (2.0.6)\n",
            "Requirement already satisfied: zipp>=0.5 in /usr/local/lib/python3.7/dist-packages (from catalogue<2.1.0,>=2.0.6->spacy<3.2.0,>=3.1.0->en-core-web-sm==3.1.0) (3.6.0)\n",
            "Requirement already satisfied: pyparsing>=2.0.2 in /usr/local/lib/python3.7/dist-packages (from packaging>=20.0->spacy<3.2.0,>=3.1.0->en-core-web-sm==3.1.0) (2.4.7)\n",
            "Requirement already satisfied: smart-open<6.0.0,>=5.0.0 in /usr/local/lib/python3.7/dist-packages (from pathy>=0.3.5->spacy<3.2.0,>=3.1.0->en-core-web-sm==3.1.0) (5.2.1)\n",
            "Requirement already satisfied: idna<3,>=2.5 in /usr/local/lib/python3.7/dist-packages (from requests<3.0.0,>=2.13.0->spacy<3.2.0,>=3.1.0->en-core-web-sm==3.1.0) (2.10)\n",
            "Requirement already satisfied: urllib3!=1.25.0,!=1.25.1,<1.26,>=1.21.1 in /usr/local/lib/python3.7/dist-packages (from requests<3.0.0,>=2.13.0->spacy<3.2.0,>=3.1.0->en-core-web-sm==3.1.0) (1.24.3)\n",
            "Requirement already satisfied: chardet<4,>=3.0.2 in /usr/local/lib/python3.7/dist-packages (from requests<3.0.0,>=2.13.0->spacy<3.2.0,>=3.1.0->en-core-web-sm==3.1.0) (3.0.4)\n",
            "Requirement already satisfied: certifi>=2017.4.17 in /usr/local/lib/python3.7/dist-packages (from requests<3.0.0,>=2.13.0->spacy<3.2.0,>=3.1.0->en-core-web-sm==3.1.0) (2021.5.30)\n",
            "Requirement already satisfied: click<9.0.0,>=7.1.1 in /usr/local/lib/python3.7/dist-packages (from typer<0.5.0,>=0.3.0->spacy<3.2.0,>=3.1.0->en-core-web-sm==3.1.0) (7.1.2)\n",
            "Requirement already satisfied: MarkupSafe>=0.23 in /usr/local/lib/python3.7/dist-packages (from jinja2->spacy<3.2.0,>=3.1.0->en-core-web-sm==3.1.0) (2.0.1)\n",
            "\u001b[33mWARNING: Running pip as the 'root' user can result in broken permissions and conflicting behaviour with the system package manager. It is recommended to use a virtual environment instead: https://pip.pypa.io/warnings/venv\u001b[0m\n",
            "\u001b[38;5;2m✔ Download and installation successful\u001b[0m\n",
            "You can now load the package via spacy.load('en_core_web_sm')\n"
          ]
        }
      ]
    },
    {
      "cell_type": "markdown",
      "metadata": {
        "id": "gqBdnoe7MUDd"
      },
      "source": [
        "#Explacy.py"
      ]
    },
    {
      "cell_type": "code",
      "metadata": {
        "id": "_gAvkeRQJtGH"
      },
      "source": [
        "# -*- coding: utf-8 -*-\n",
        "#\n",
        "# Box-drawing characters are the thin variants, and can be found here:\n",
        "# https://en.wikipedia.org/wiki/Box-drawing_character\n",
        "#\n",
        "\"\"\" explacy.py\n",
        "\n",
        "    This module uses unicode box-drawing characters to draw the spacy-derived\n",
        "    dependency tree of whichever (unicode) string you provide as input.\n",
        "\n",
        "    Usage:\n",
        "\n",
        "        import explacy\n",
        "        import spacy\n",
        "\n",
        "        nlp = spacy.load('en')\n",
        "\n",
        "        explacy.print_parse_info(nlp, 'The salad was surprisingly tasty.')\n",
        "\n",
        "        # Use a unicode string as input (eg u'The dog jumped.') in Python 2.\n",
        "\n",
        "    Example tree rendering:\n",
        "\n",
        "        Dep tree Token        Dep type Lemma        Part of Sp\n",
        "        ──────── ──────────── ──────── ──────────── ──────────\n",
        "            ┌─►  The          det      the          DET\n",
        "         ┌─►└──  salad        nsubj    salad        NOUN\n",
        "        ┌┼─────  was          ROOT     be           VERB\n",
        "        ││  ┌─►  surprisingly advmod   surprisingly ADV\n",
        "        │└─►└──  tasty        acomp    tasty        ADJ\n",
        "        └─────►  .            punct    .            PUNCT\n",
        "\"\"\"\n",
        "\n",
        "import sys\n",
        "from collections import defaultdict\n",
        "\n",
        "from pprint import pprint\n",
        "\n",
        "_do_print_debug_info = False\n",
        "\n",
        "def _print_table(rows):\n",
        "    col_widths = [max(len(s) for s in col) for col in zip(*rows)]\n",
        "    fmt = ' '.join('%%-%ds' % width for width in col_widths)\n",
        "    rows.insert(1, ['─' * width for width in col_widths])\n",
        "    for row in rows:\n",
        "        # Uncomment this version to see code points printed out (for debugging).\n",
        "        # print(list(map(hex, map(ord, list(fmt % tuple(row))))))\n",
        "        print(fmt % tuple(row))\n",
        "\n",
        "def _start_end(arrow):\n",
        "    start, end = arrow['from'].i, arrow['to'].i\n",
        "    mn = min(start, end)\n",
        "    mx = max(start, end)\n",
        "    return start, end, mn, mx\n",
        "\n",
        "def print_parse_info(nlp, sent):\n",
        "    \"\"\" Print the dependency tree of `sent` (sentence), along with the lemmas\n",
        "        (de-inflected forms) and parts-of-speech of the words.\n",
        "\n",
        "        The input `sent` is expected to be a unicode string (of type unicode in\n",
        "        Python 2; of type str in Python 3). The input `nlp` (for natural\n",
        "        language parser) is expected to be the return value from a call to\n",
        "        spacy.load(), in other words, it's the callable instance of a spacy\n",
        "        language model.\n",
        "    \"\"\"\n",
        "\n",
        "    unicode_type = unicode if sys.version_info[0] < 3 else str\n",
        "    assert type(sent) is unicode_type\n",
        "\n",
        "    # Parse our sentence.\n",
        "    doc = nlp(sent)\n",
        "\n",
        "    # Build a list of arrow heights (distance from tokens) per token.\n",
        "    heights = [[] for token in doc]\n",
        "\n",
        "    # Build the arrows.\n",
        "\n",
        "    # Set the from and to tokens for each arrow.\n",
        "    arrows = [{'from': src, 'to': dst, 'underset': set()}\n",
        "              for src in doc\n",
        "              for dst in src.children]\n",
        "\n",
        "    # Set the base height; these may increase to allow room for arrowheads after this.\n",
        "    arrows_with_deps = defaultdict(set)\n",
        "    for i, arrow in enumerate(arrows):\n",
        "        if _do_print_debug_info:\n",
        "            print('Arrow %d: \"%s\" -> \"%s\"' % (i, arrow['from'], arrow['to']))\n",
        "        num_deps = 0\n",
        "        start, end, mn, mx = _start_end(arrow)\n",
        "        for j, other in enumerate(arrows):\n",
        "            if arrow is other:\n",
        "                continue\n",
        "            o_start, o_end, o_mn, o_mx = _start_end(other)\n",
        "            if ((start == o_start and mn <= o_end <= mx) or\n",
        "                (start != o_start and mn <= o_start <= mx)):\n",
        "                num_deps += 1\n",
        "                if _do_print_debug_info:\n",
        "                    print('%d is over %d' % (i, j))\n",
        "                arrow['underset'].add(j)\n",
        "        arrow['num_deps_left'] = arrow['num_deps'] = num_deps\n",
        "        arrows_with_deps[num_deps].add(i)\n",
        "\n",
        "    if _do_print_debug_info:\n",
        "        print('')\n",
        "        print('arrows:')\n",
        "        pprint(arrows)\n",
        "\n",
        "        print('')\n",
        "        print('arrows_with_deps:')\n",
        "        pprint(arrows_with_deps)\n",
        "\n",
        "    # Render the arrows in characters. Some heights will be raised to make room for arrowheads.\n",
        "\n",
        "    lines = [[] for token in doc]\n",
        "    num_arrows_left = len(arrows)\n",
        "    while num_arrows_left > 0:\n",
        "\n",
        "        assert len(arrows_with_deps[0])\n",
        "\n",
        "        arrow_index = arrows_with_deps[0].pop()\n",
        "        arrow = arrows[arrow_index]\n",
        "        src, dst, mn, mx = _start_end(arrow)\n",
        "\n",
        "        # Check the height needed.\n",
        "        height = 3\n",
        "        if arrow['underset']:\n",
        "            height = max(arrows[i]['height'] for i in arrow['underset']) + 1\n",
        "        height = max(height, 3, len(lines[dst]) + 3)\n",
        "        arrow['height'] = height\n",
        "\n",
        "        if _do_print_debug_info:\n",
        "            print('')\n",
        "            print('Rendering arrow %d: \"%s\" -> \"%s\"' % (arrow_index,\n",
        "                                                        arrow['from'],\n",
        "                                                        arrow['to']))\n",
        "            print('  height = %d' % height)\n",
        "\n",
        "        goes_up = src > dst\n",
        "\n",
        "        # Draw the outgoing src line.\n",
        "        if lines[src] and len(lines[src]) < height:\n",
        "            lines[src][-1].add('w')\n",
        "        while len(lines[src]) < height - 1:\n",
        "            lines[src].append(set(['e', 'w']))\n",
        "        if len(lines[src]) < height:\n",
        "            lines[src].append({'e'})\n",
        "        lines[src][height - 1].add('n' if goes_up else 's')\n",
        "\n",
        "        # Draw the incoming dst line.\n",
        "        lines[dst].append(u'►')\n",
        "        while len(lines[dst]) < height:\n",
        "            lines[dst].append(set(['e', 'w']))\n",
        "        lines[dst][-1] = set(['e', 's']) if goes_up else set(['e', 'n'])\n",
        "\n",
        "        # Draw the adjoining vertical line.\n",
        "        for i in range(mn + 1, mx):\n",
        "            while len(lines[i]) < height - 1:\n",
        "                lines[i].append(' ')\n",
        "            lines[i].append(set(['n', 's']))\n",
        "\n",
        "        # Update arrows_with_deps.\n",
        "        for arr_i, arr in enumerate(arrows):\n",
        "            if arrow_index in arr['underset']:\n",
        "                arrows_with_deps[arr['num_deps_left']].remove(arr_i)\n",
        "                arr['num_deps_left'] -= 1\n",
        "                arrows_with_deps[arr['num_deps_left']].add(arr_i)\n",
        "\n",
        "        num_arrows_left -= 1\n",
        "\n",
        "    arr_chars = {'ew'  : u'─',\n",
        "                 'ns'  : u'│',\n",
        "                 'en'  : u'└',\n",
        "                 'es'  : u'┌',\n",
        "                 'ens' : u'├',\n",
        "                 'enw' : u'┴',\n",
        "                 'ensw': u'┼',\n",
        "                 'esw' : u'┬'}\n",
        "\n",
        "    # Convert the character lists into strings.\n",
        "    max_len = max(len(line) for line in lines)\n",
        "    for i in range(len(lines)):\n",
        "        lines[i] = [arr_chars[''.join(sorted(ch))] if type(ch) is set else ch\n",
        "                    for ch in lines[i]]\n",
        "        lines[i] = ''.join(reversed(lines[i]))\n",
        "        lines[i] = ' ' * (max_len - len(lines[i])) + lines[i]\n",
        "\n",
        "    # Compile full table to print out.\n",
        "    rows = [['Dep tree', 'Token', 'Dep type', 'Lemma', 'Part of Sp']]\n",
        "    for i, token in enumerate(doc):\n",
        "        rows.append([lines[i], token, token.dep_, token.lemma_, token.pos_])\n",
        "    _print_table(rows)\n"
      ],
      "execution_count": null,
      "outputs": []
    },
    {
      "cell_type": "markdown",
      "metadata": {
        "id": "vg2_m-LGMaDF"
      },
      "source": [
        "#Import Python Libraries"
      ]
    },
    {
      "cell_type": "code",
      "metadata": {
        "id": "KNM6jmI_5Et-"
      },
      "source": [
        "import pandas as pd\n",
        "import numpy as np\n",
        "import spacy\n",
        "from spacy import displacy\n",
        "from spacy.util import minibatch, compounding\n",
        "\n",
        "import matplotlib.pyplot as plt\n",
        "%matplotlib inline"
      ],
      "execution_count": null,
      "outputs": []
    },
    {
      "cell_type": "markdown",
      "metadata": {
        "id": "eTsAc3MtN_yL"
      },
      "source": [
        "#Performing POS tagging, in spaCy, is a cakewalk:\n",
        "\n",
        "- POS tagging is :\n",
        "\n",
        " - the task of automatically assigning POS tags to all the words of a sentence. It is helpful in various downstream tasks in NLP, such as feature engineering, language understanding, and information extraction."
      ]
    },
    {
      "cell_type": "code",
      "metadata": {
        "id": "y0rX-C-0NUwU"
      },
      "source": [
        "# Create an nlp object\n",
        "nlp = spacy.load('en_core_web_sm')"
      ],
      "execution_count": null,
      "outputs": []
    },
    {
      "cell_type": "code",
      "metadata": {
        "id": "NDndnJznNZY8"
      },
      "source": [
        "doc = nlp(\"chandan learned rapidly because first training \")"
      ],
      "execution_count": null,
      "outputs": []
    },
    {
      "cell_type": "code",
      "metadata": {
        "colab": {
          "base_uri": "https://localhost:8080/"
        },
        "id": "HzsiQUoU5OL5",
        "outputId": "6b3dcabf-cb00-4f97-c717-af2581f27f1a"
      },
      "source": [
        "# Iterate over the tokens\n",
        "for token in doc:\n",
        "    # Print the token and its part-of-speech tag\n",
        "    print(token.text, \"-->\", token.pos_)"
      ],
      "execution_count": null,
      "outputs": [
        {
          "output_type": "stream",
          "name": "stdout",
          "text": [
            "chandan --> PROPN\n",
            "learned --> VERB\n",
            "rapidly --> ADV\n",
            "because --> SCONJ\n",
            "first --> ADJ\n",
            "training --> NOUN\n"
          ]
        }
      ]
    },
    {
      "cell_type": "code",
      "metadata": {
        "colab": {
          "base_uri": "https://localhost:8080/",
          "height": 86
        },
        "id": "X8Syt2Dfq6sE",
        "outputId": "f183b595-5877-451f-f3d7-d56998cd9da7"
      },
      "source": [
        "\"\"\"file_name = '/content/oneplus_comment_file.txt' \n",
        "introduction_file_text = open(file_name).read()\n",
        "introduction_file_doc = nlp(introduction_file_text)\n",
        "# Extract tokens for the given doc\n",
        "print ([token.text for token in introduction_file_doc])\n",
        "\"\"\""
      ],
      "execution_count": null,
      "outputs": [
        {
          "output_type": "execute_result",
          "data": {
            "application/vnd.google.colaboratory.intrinsic+json": {
              "type": "string"
            },
            "text/plain": [
              "\"file_name = '/content/oneplus_comment_file.txt' \\nintroduction_file_text = open(file_name).read()\\nintroduction_file_doc = nlp(introduction_file_text)\\n# Extract tokens for the given doc\\nprint ([token.text for token in introduction_file_doc])\\n\""
            ]
          },
          "metadata": {},
          "execution_count": 98
        }
      ]
    },
    {
      "cell_type": "code",
      "metadata": {
        "colab": {
          "base_uri": "https://localhost:8080/"
        },
        "id": "n3keDzMhruxr",
        "outputId": "69fd667d-d177-45d8-97b2-cef92c30699f"
      },
      "source": [
        "file_name = '/content/oneplus.txt'\n",
        "doc = open(file_name).read()\n",
        "about_doc = nlp(doc)\n",
        "sentences = list(about_doc.sents)\n",
        "len(sentences)"
      ],
      "execution_count": null,
      "outputs": [
        {
          "output_type": "execute_result",
          "data": {
            "text/plain": [
              "79"
            ]
          },
          "metadata": {},
          "execution_count": 99
        }
      ]
    },
    {
      "cell_type": "code",
      "metadata": {
        "colab": {
          "base_uri": "https://localhost:8080/"
        },
        "id": "aaGfc5-DsAgT",
        "outputId": "0455f3d6-99cf-479f-ce3f-cf7b439c522a"
      },
      "source": [
        "for sentence in sentences:\n",
        "  print (sentence)"
      ],
      "execution_count": null,
      "outputs": [
        {
          "output_type": "stream",
          "name": "stdout",
          "text": [
            "1.\n",
            "Battery is worse , you cannot keep on carrying a charger along with you if you are going outdoor for full-day, even at standby mode also battery keeps on draining, pathetic battery life.\n",
            "\n",
            "2.\n",
            "I odont know about other one plus phone as this is my first one, so I will say a proper 10000rs cellphone has a better front camera as compared to this one.\n",
            "Rear camera with 50mp is of low quality, you cannot get details of any pic if you zoom it after capturing.\n",
            "2mp ultrawide camera is useless , low quality images.\n",
            "\n",
            "\n",
            "Worst thing is it's battery won't last for even half day, it's good that it has fast charger BUT who carries charger with them all day, atleast One Plus could have increased the battery capacity.\n",
            "\n",
            "\n",
            "One last thing, please STOP collaborating with OPPO to manufacture cellphones or else you will end up like Nokia in next two three years.\n",
            "\n",
            "\n",
            "All in all, this is the worst cellphone ever manufactured by One Plus.\n",
            "Even the side casing is of cheap quality plastic.\n",
            "\n",
            "\n",
            "\n",
            "Camera doesn't Start when it's get heat\n",
            "\n",
            "Some softwere issue\n",
            "Don't buy if u are a gamer\n",
            "Screen is small for gameing\n",
            "And don't by otg cabe buy a jack for headphone\n",
            "Hactic feedback is too good\n",
            "\n",
            "And I wanted to return which was impossible and I want to return now too and buy poco gt\n",
            "\n",
            "\n",
            "1) Built and Finish : \"Excellent\" build quality and it looks premium.\n",
            "\n",
            "\n",
            "2)\n",
            "Performance : \"Excellent\" performance at this price.\n",
            "You can play BGMI with high settings on and it doesn't get too hot.\n",
            "\n",
            "\n",
            "3) Display : \"Very good\" even it has 90hz refresh rate, Vivid and vibrant colours.\n",
            "\n",
            "\n",
            "4) Rear Camera : \"Great\" 50MP sensor, it can compete with OnePlus 9pro's Camera.\n",
            "\n",
            "Ultrawide lens performance is below average.\n",
            "\n",
            "\n",
            "5) Front Camera : \"Poor\" performance with dynamic range.\n",
            "\n",
            "\n",
            "6) Speaker : \"Good\" streo speakers.\n",
            "\n",
            "\n",
            "7)\n",
            "Charging speed : \"Mind Blowing\" it can charge from 10-100% within 30 minutes.\n",
            "\n",
            "\n",
            "8) Battery : \"Below Average\" battery, it drains really quickly when you use Camera for a quiet long time.\n",
            "You may expect 24 hours usage if you're a normal user.\n",
            "\n",
            "\n",
            "My Verdict :\n",
            "You should definitely go for it if you a have a budget around 30k.\n",
            "Even it's a better option as compared to it's Big brother OnePlus 9R coz that costs 40k.\n",
            "\n",
            "\n",
            "\n",
            "\n",
            "Your browser does not support HTML5 video.\n",
            "\n",
            " Heating issue mainly and screen cast in OTT very worst ,when call recording enable it heared by other person as call recording is one .its very worst function .battery faster drains and every time it ask all permissions why it need.i expect may be chaina hackers steal this our information.\n",
            "3days to buy this phone but iam not daring my financial apps not install in this phone that means i think it is not secured phone.\n",
            "\n",
            "\n",
            "\n",
            "1.\n",
            "In terms of browsing application mobile feels premium, it doesn't put external apps other then Google apps in ram.\n",
            "\n",
            "2.\n",
            "Front camera is Just ok ok, previously using mi A2 takes better selfies.\n",
            "Rear camera even worst when click on human subject makes whitish face, get 1 better shot out of 6.\n",
            "Camera is only for natural photography not for human subject\n",
            "3.\n",
            "Battery backup is good easily get one day in single charge, charge from 0 to 100 within 35 minutes\n",
            "4.\n",
            "Wifi speed is getting better than other phones,data speed also good due to having more supported bands\n",
            "5.\n",
            "Gaming experience is also good on this\n",
            "6.\n",
            "Con is mainly camera, doesn't put external apps in ram due to this multitasking not so good,poor ram management, apps are not present in ram\n",
            "7.\n",
            "This phone is good for those who don't uses much camera,only engage in daily activities like phone calls, messages, whatsapp,\n",
            "Netflix\n",
            "\n",
            "Battery charging is fast\n",
            "\n",
            "Camera quality very poor\n",
            "Not worth of 30k getting better option in market,go for Snapdragon processor phones\n",
            "\n",
            "\n",
            "\n",
            "But, they could have improved camera quality.\n",
            "I am not that satisfied with it.\n",
            "\n",
            "Seems battery drains fast….\n",
            "Will have to observe for few more days as its delivered today only..\n",
            "\n",
            "\n",
            "Super duper fast charging.. charged my phone from 8% to 100% in 41 mins.\n",
            "\n",
            "\n",
            "Nothing much to say..\n",
            "\n",
            "\n",
            "\n",
            "This is my first one plus.\n",
            "I was looking for a good camera phone,this phone camera both front and rear camera is ultimate in picture clarity compare to all other phones not even oppo.\n",
            "There is no issue as such.this is the latest phone with latest os and basic priced in one plus.\n",
            "Iam happy with new one plus.. thanks\n",
            "\n",
            "\n",
            "The phone indeed feels very premium.\n",
            "The matte glass back is great.\n",
            "The display is crisp and has punchy colors.\n",
            "The Oxygen OS is smooth and clutter free.\n",
            "The cameras are a highlight point, low light performance is also great.\n",
            "The processor is butter smooth, very powerful.\n",
            "The battery life is good and has got insane charging speed, charges in less than 25 mins.\n",
            "Also no heating issue experienced.\n",
            "Can definitely go with this.\n",
            "Really loved the phone.\n",
            "\n",
            "\n",
            "\n",
            "\n",
            "After waiting and thinking a couple of year finaly I purchased my 1st\n",
            "OnePlus smartphone after knowing that the experience of OnePlus is smooth like butter and bloatfree.\n",
            "\n",
            "\n",
            "\n",
            "But I things were not so easy.\n",
            "\n",
            "1.\n",
            "I love replying any messages on social media or whatsapp by just going in Notification panel.\n",
            "\n",
            "\n",
            "But here in Nord 2 it's a nightmere for me.\n",
            "\n",
            "Replying to messages notification panel was pathetic.\n",
            "\n",
            "\n",
            "Multiple keywords never worked so far (p, q and caps keywords).\n"
          ]
        }
      ]
    },
    {
      "cell_type": "code",
      "metadata": {
        "id": "fvxA-MLRWuko"
      },
      "source": [
        ""
      ],
      "execution_count": null,
      "outputs": []
    },
    {
      "cell_type": "markdown",
      "metadata": {
        "id": "jqV2vXgPtm3p"
      },
      "source": [
        "#1.Tokenization in spaCy\n"
      ]
    },
    {
      "cell_type": "code",
      "metadata": {
        "colab": {
          "base_uri": "https://localhost:8080/"
        },
        "id": "CDmhh21Wthbi",
        "outputId": "c6061302-6b09-40f5-acec-8946ba170855"
      },
      "source": [
        "for token in about_doc:\n",
        "  print (token, token.idx)\n"
      ],
      "execution_count": null,
      "outputs": [
        {
          "output_type": "stream",
          "name": "stdout",
          "text": [
            "1 0\n",
            ". 1\n",
            "Battery 3\n",
            "is 11\n",
            "worse 14\n",
            ", 20\n",
            "you 22\n",
            "can 26\n",
            "not 29\n",
            "keep 33\n",
            "on 38\n",
            "carrying 41\n",
            "a 50\n",
            "charger 52\n",
            "along 60\n",
            "with 66\n",
            "you 71\n",
            "if 75\n",
            "you 78\n",
            "are 82\n",
            "going 86\n",
            "outdoor 92\n",
            "for 100\n",
            "full 104\n",
            "- 108\n",
            "day 109\n",
            ", 112\n",
            "even 114\n",
            "at 119\n",
            "standby 122\n",
            "mode 130\n",
            "also 135\n",
            "battery 140\n",
            "keeps 148\n",
            "on 154\n",
            "draining 157\n",
            ", 165\n",
            "pathetic 167\n",
            "battery 176\n",
            "life 184\n",
            ". 188\n",
            "\n",
            " 189\n",
            "2 190\n",
            ". 191\n",
            "I 193\n",
            "odont 195\n",
            "know 201\n",
            "about 206\n",
            "other 212\n",
            "one 218\n",
            "plus 222\n",
            "phone 227\n",
            "as 233\n",
            "this 236\n",
            "is 241\n",
            "my 244\n",
            "first 247\n",
            "one 253\n",
            ", 256\n",
            "so 258\n",
            "I 261\n",
            "will 263\n",
            "say 268\n",
            "a 272\n",
            "proper 274\n",
            "10000rs 281\n",
            "cellphone 289\n",
            "has 299\n",
            "a 303\n",
            "better 305\n",
            "front 312\n",
            "camera 318\n",
            "as 325\n",
            "compared 328\n",
            "to 337\n",
            "this 340\n",
            "one 345\n",
            ". 348\n",
            "Rear 350\n",
            "camera 355\n",
            "with 362\n",
            "50mp 367\n",
            "is 372\n",
            "of 375\n",
            "low 378\n",
            "quality 382\n",
            ", 389\n",
            "you 391\n",
            "can 395\n",
            "not 398\n",
            "get 402\n",
            "details 406\n",
            "of 414\n",
            "any 417\n",
            "pic 421\n",
            "if 425\n",
            "you 428\n",
            "zoom 432\n",
            "it 437\n",
            "after 440\n",
            "capturing 446\n",
            ". 455\n",
            "2mp 457\n",
            "ultrawide 461\n",
            "camera 471\n",
            "is 478\n",
            "useless 481\n",
            ", 489\n",
            "low 491\n",
            "quality 495\n",
            "images 503\n",
            ". 509\n",
            "\n",
            "\n",
            " 510\n",
            "Worst 512\n",
            "thing 518\n",
            "is 524\n",
            "it 527\n",
            "'s 529\n",
            "battery 532\n",
            "wo 540\n",
            "n't 542\n",
            "last 546\n",
            "for 551\n",
            "even 555\n",
            "half 560\n",
            "day 565\n",
            ", 568\n",
            "it 570\n",
            "'s 572\n",
            "good 575\n",
            "that 580\n",
            "it 585\n",
            "has 588\n",
            "fast 592\n",
            "charger 597\n",
            "BUT 605\n",
            "who 609\n",
            "carries 613\n",
            "charger 621\n",
            "with 629\n",
            "them 634\n",
            "all 639\n",
            "day 643\n",
            ", 646\n",
            "atleast 648\n",
            "One 656\n",
            "Plus 660\n",
            "could 665\n",
            "have 671\n",
            "increased 676\n",
            "the 686\n",
            "battery 690\n",
            "capacity 698\n",
            ". 706\n",
            "\n",
            "\n",
            " 707\n",
            "One 709\n",
            "last 713\n",
            "thing 718\n",
            ", 723\n",
            "please 725\n",
            "STOP 732\n",
            "collaborating 737\n",
            "with 751\n",
            "OPPO 756\n",
            "to 761\n",
            "manufacture 764\n",
            "cellphones 776\n",
            "or 787\n",
            "else 790\n",
            "you 795\n",
            "will 799\n",
            "end 804\n",
            "up 808\n",
            "like 811\n",
            "Nokia 816\n",
            "in 822\n",
            "next 825\n",
            "two 830\n",
            "three 834\n",
            "years 840\n",
            ". 845\n",
            "\n",
            "\n",
            " 846\n",
            "All 848\n",
            "in 852\n",
            "all 855\n",
            ", 858\n",
            "this 860\n",
            "is 865\n",
            "the 868\n",
            "worst 872\n",
            "cellphone 878\n",
            "ever 888\n",
            "manufactured 893\n",
            "by 906\n",
            "One 909\n",
            "Plus 913\n",
            ". 917\n",
            "Even 919\n",
            "the 924\n",
            "side 928\n",
            "casing 933\n",
            "is 940\n",
            "of 943\n",
            "cheap 946\n",
            "quality 952\n",
            "plastic 960\n",
            ". 967\n",
            "\n",
            "\n",
            "\n",
            " 968\n",
            "Camera 971\n",
            "does 978\n",
            "n't 982\n",
            "Start 986\n",
            "when 992\n",
            "it 997\n",
            "'s 999\n",
            "get 1002\n",
            "heat 1006\n",
            "\n",
            " 1010\n",
            "Some 1011\n",
            "softwere 1016\n",
            "issue 1025\n",
            "\n",
            " 1030\n",
            "Do 1031\n",
            "n't 1033\n",
            "buy 1037\n",
            "if 1041\n",
            "u 1044\n",
            "are 1046\n",
            "a 1050\n",
            "gamer 1052\n",
            "\n",
            " 1057\n",
            "Screen 1058\n",
            "is 1065\n",
            "small 1068\n",
            "for 1074\n",
            "gameing 1078\n",
            "\n",
            " 1085\n",
            "And 1086\n",
            "do 1090\n",
            "n't 1092\n",
            "by 1096\n",
            "otg 1099\n",
            "cabe 1103\n",
            "buy 1108\n",
            "a 1112\n",
            "jack 1114\n",
            "for 1119\n",
            "headphone 1123\n",
            "\n",
            " 1132\n",
            "Hactic 1133\n",
            "feedback 1140\n",
            "is 1149\n",
            "too 1152\n",
            "good 1156\n",
            "\n",
            " 1160\n",
            "And 1161\n",
            "I 1165\n",
            "wanted 1167\n",
            "to 1174\n",
            "return 1177\n",
            "which 1184\n",
            "was 1190\n",
            "impossible 1194\n",
            "and 1205\n",
            "I 1209\n",
            "want 1211\n",
            "to 1216\n",
            "return 1219\n",
            "now 1226\n",
            "too 1230\n",
            "and 1234\n",
            "buy 1238\n",
            "poco 1242\n",
            "gt 1247\n",
            "\n",
            "\n",
            "\n",
            " 1249\n",
            "1 1252\n",
            ") 1253\n",
            "Built 1255\n",
            "and 1261\n",
            "Finish 1265\n",
            ": 1272\n",
            "\" 1274\n",
            "Excellent 1275\n",
            "\" 1284\n",
            "build 1286\n",
            "quality 1292\n",
            "and 1300\n",
            "it 1304\n",
            "looks 1307\n",
            "premium 1313\n",
            ". 1320\n",
            "\n",
            "\n",
            " 1321\n",
            "2 1323\n",
            ") 1324\n",
            "Performance 1326\n",
            ": 1338\n",
            "\" 1340\n",
            "Excellent 1341\n",
            "\" 1350\n",
            "performance 1352\n",
            "at 1364\n",
            "this 1367\n",
            "price 1372\n",
            ". 1377\n",
            "You 1379\n",
            "can 1383\n",
            "play 1387\n",
            "BGMI 1392\n",
            "with 1397\n",
            "high 1402\n",
            "settings 1407\n",
            "on 1416\n",
            "and 1419\n",
            "it 1423\n",
            "does 1426\n",
            "n't 1430\n",
            "get 1434\n",
            "too 1438\n",
            "hot 1442\n",
            ". 1445\n",
            "\n",
            "\n",
            " 1446\n",
            "3 1448\n",
            ") 1449\n",
            "Display 1451\n",
            ": 1459\n",
            "\" 1461\n",
            "Very 1462\n",
            "good 1467\n",
            "\" 1471\n",
            "even 1473\n",
            "it 1478\n",
            "has 1481\n",
            "90hz 1485\n",
            "refresh 1490\n",
            "rate 1498\n",
            ", 1502\n",
            "Vivid 1504\n",
            "and 1510\n",
            "vibrant 1514\n",
            "colours 1522\n",
            ". 1529\n",
            "\n",
            "\n",
            " 1530\n",
            "4 1532\n",
            ") 1533\n",
            "Rear 1535\n",
            "Camera 1540\n",
            ": 1547\n",
            "\" 1549\n",
            "Great 1550\n",
            "\" 1555\n",
            "50MP 1557\n",
            "sensor 1562\n",
            ", 1568\n",
            "it 1570\n",
            "can 1573\n",
            "compete 1577\n",
            "with 1585\n",
            "OnePlus 1590\n",
            "9pro 1598\n",
            "'s 1602\n",
            "Camera 1605\n",
            ". 1611\n",
            "\n",
            " 1612\n",
            "Ultrawide 1613\n",
            "lens 1623\n",
            "performance 1628\n",
            "is 1640\n",
            "below 1643\n",
            "average 1649\n",
            ". 1656\n",
            "\n",
            "\n",
            " 1657\n",
            "5 1659\n",
            ") 1660\n",
            "Front 1662\n",
            "Camera 1668\n",
            ": 1675\n",
            "\" 1677\n",
            "Poor 1678\n",
            "\" 1682\n",
            "performance 1684\n",
            "with 1696\n",
            "dynamic 1701\n",
            "range 1709\n",
            ". 1714\n",
            "\n",
            "\n",
            " 1715\n",
            "6 1717\n",
            ") 1718\n",
            "Speaker 1720\n",
            ": 1728\n",
            "\" 1730\n",
            "Good 1731\n",
            "\" 1735\n",
            "streo 1737\n",
            "speakers 1743\n",
            ". 1751\n",
            "\n",
            "\n",
            " 1752\n",
            "7 1754\n",
            ") 1755\n",
            "Charging 1757\n",
            "speed 1766\n",
            ": 1772\n",
            "\" 1774\n",
            "Mind 1775\n",
            "Blowing 1780\n",
            "\" 1787\n",
            "it 1789\n",
            "can 1792\n",
            "charge 1796\n",
            "from 1803\n",
            "10 1808\n",
            "- 1810\n",
            "100 1811\n",
            "% 1814\n",
            "within 1816\n",
            "30 1823\n",
            "minutes 1826\n",
            ". 1833\n",
            "\n",
            "\n",
            " 1834\n",
            "8) 1836\n",
            "Battery 1839\n",
            ": 1847\n",
            "\" 1849\n",
            "Below 1850\n",
            "Average 1856\n",
            "\" 1863\n",
            "battery 1865\n",
            ", 1872\n",
            "it 1874\n",
            "drains 1877\n",
            "really 1884\n",
            "quickly 1891\n",
            "when 1899\n",
            "you 1904\n",
            "use 1908\n",
            "Camera 1912\n",
            "for 1919\n",
            "a 1923\n",
            "quiet 1925\n",
            "long 1931\n",
            "time 1936\n",
            ". 1940\n",
            "You 1942\n",
            "may 1946\n",
            "expect 1950\n",
            "24 1957\n",
            "hours 1960\n",
            "usage 1966\n",
            "if 1972\n",
            "you 1975\n",
            "'re 1978\n",
            "a 1982\n",
            "normal 1984\n",
            "user 1991\n",
            ". 1995\n",
            "\n",
            "\n",
            " 1996\n",
            "My 1998\n",
            "Verdict 2001\n",
            ": 2009\n",
            "You 2011\n",
            "should 2015\n",
            "definitely 2022\n",
            "go 2033\n",
            "for 2036\n",
            "it 2040\n",
            "if 2043\n",
            "you 2046\n",
            "a 2050\n",
            "have 2052\n",
            "a 2057\n",
            "budget 2059\n",
            "around 2066\n",
            "30k 2073\n",
            ". 2076\n",
            "Even 2078\n",
            "it 2083\n",
            "'s 2085\n",
            "a 2088\n",
            "better 2090\n",
            "option 2097\n",
            "as 2104\n",
            "compared 2107\n",
            "to 2116\n",
            "it 2119\n",
            "'s 2121\n",
            "Big 2124\n",
            "brother 2128\n",
            "OnePlus 2136\n",
            "9R 2144\n",
            "coz 2147\n",
            "that 2151\n",
            "costs 2156\n",
            "40k 2162\n",
            ". 2165\n",
            "\n",
            "\n",
            "\n",
            " 2166\n",
            "Your 2169\n",
            "browser 2174\n",
            "does 2182\n",
            "not 2187\n",
            "support 2191\n",
            "HTML5 2199\n",
            "video 2205\n",
            ". 2210\n",
            "\n",
            "  2211\n",
            "Heating 2213\n",
            "issue 2221\n",
            "mainly 2227\n",
            "and 2234\n",
            "screen 2238\n",
            "cast 2245\n",
            "in 2250\n",
            "OTT 2253\n",
            "very 2257\n",
            "worst 2262\n",
            ", 2268\n",
            "when 2269\n",
            "call 2274\n",
            "recording 2279\n",
            "enable 2289\n",
            "it 2296\n",
            "heared 2299\n",
            "by 2306\n",
            "other 2309\n",
            "person 2315\n",
            "as 2322\n",
            "call 2325\n",
            "recording 2330\n",
            "is 2340\n",
            "one 2343\n",
            ".its 2347\n",
            "very 2352\n",
            "worst 2357\n",
            "function 2363\n",
            ".battery 2372\n",
            "faster 2381\n",
            "drains 2388\n",
            "and 2395\n",
            "every 2399\n",
            "time 2405\n",
            "it 2410\n",
            "ask 2413\n",
            "all 2417\n",
            "permissions 2421\n",
            "why 2433\n",
            "it 2437\n",
            "need.i 2440\n",
            "expect 2447\n",
            "may 2454\n",
            "be 2458\n",
            "chaina 2461\n",
            "hackers 2468\n",
            "steal 2476\n",
            "this 2482\n",
            "our 2487\n",
            "information 2491\n",
            ". 2502\n",
            "3days 2504\n",
            "to 2510\n",
            "buy 2513\n",
            "this 2517\n",
            "phone 2522\n",
            "but 2528\n",
            "iam 2532\n",
            "not 2536\n",
            "daring 2540\n",
            "my 2547\n",
            "financial 2550\n",
            "apps 2560\n",
            "not 2565\n",
            "install 2569\n",
            "in 2577\n",
            "this 2580\n",
            "phone 2585\n",
            "that 2591\n",
            "means 2596\n",
            "i 2602\n",
            "think 2604\n",
            "it 2610\n",
            "is 2613\n",
            "not 2616\n",
            "secured 2620\n",
            "phone 2628\n",
            ". 2633\n",
            "\n",
            "\n",
            "\n",
            " 2634\n",
            "1 2637\n",
            ". 2638\n",
            "In 2640\n",
            "terms 2643\n",
            "of 2649\n",
            "browsing 2652\n",
            "application 2661\n",
            "mobile 2673\n",
            "feels 2680\n",
            "premium 2686\n",
            ", 2693\n",
            "it 2695\n",
            "does 2698\n",
            "n't 2702\n",
            "put 2706\n",
            "external 2710\n",
            "apps 2719\n",
            "other 2724\n",
            "then 2730\n",
            "Google 2735\n",
            "apps 2742\n",
            "in 2747\n",
            "ram 2750\n",
            ". 2753\n",
            "\n",
            " 2754\n",
            "2 2755\n",
            ". 2756\n",
            "Front 2758\n",
            "camera 2764\n",
            "is 2771\n",
            "Just 2774\n",
            "ok 2779\n",
            "ok 2782\n",
            ", 2784\n",
            "previously 2786\n",
            "using 2797\n",
            "mi 2803\n",
            "A2 2806\n",
            "takes 2809\n",
            "better 2815\n",
            "selfies 2822\n",
            ". 2829\n",
            "Rear 2831\n",
            "camera 2836\n",
            "even 2843\n",
            "worst 2848\n",
            "when 2854\n",
            "click 2859\n",
            "on 2865\n",
            "human 2868\n",
            "subject 2874\n",
            "makes 2882\n",
            "whitish 2888\n",
            "face 2896\n",
            ", 2900\n",
            "get 2902\n",
            "1 2906\n",
            "better 2908\n",
            "shot 2915\n",
            "out 2920\n",
            "of 2924\n",
            "6 2927\n",
            ". 2928\n",
            "Camera 2930\n",
            "is 2937\n",
            "only 2940\n",
            "for 2945\n",
            "natural 2949\n",
            "photography 2957\n",
            "not 2969\n",
            "for 2973\n",
            "human 2977\n",
            "subject 2983\n",
            "\n",
            " 2990\n",
            "3 2991\n",
            ". 2992\n",
            "Battery 2994\n",
            "backup 3002\n",
            "is 3009\n",
            "good 3012\n",
            "easily 3017\n",
            "get 3024\n",
            "one 3028\n",
            "day 3032\n",
            "in 3036\n",
            "single 3039\n",
            "charge 3046\n",
            ", 3052\n",
            "charge 3054\n",
            "from 3061\n",
            "0 3066\n",
            "to 3068\n",
            "100 3071\n",
            "within 3075\n",
            "35 3082\n",
            "minutes 3085\n",
            "\n",
            " 3092\n",
            "4 3093\n",
            ". 3094\n",
            "Wifi 3096\n",
            "speed 3101\n",
            "is 3107\n",
            "getting 3110\n",
            "better 3118\n",
            "than 3125\n",
            "other 3130\n",
            "phones 3136\n",
            ", 3142\n",
            "data 3143\n",
            "speed 3148\n",
            "also 3154\n",
            "good 3159\n",
            "due 3164\n",
            "to 3168\n",
            "having 3171\n",
            "more 3178\n",
            "supported 3183\n",
            "bands 3193\n",
            "\n",
            " 3198\n",
            "5 3199\n",
            ". 3200\n",
            "Gaming 3202\n",
            "experience 3209\n",
            "is 3220\n",
            "also 3223\n",
            "good 3228\n",
            "on 3233\n",
            "this 3236\n",
            "\n",
            " 3240\n",
            "6 3241\n",
            ". 3242\n",
            "Con 3244\n",
            "is 3248\n",
            "mainly 3251\n",
            "camera 3258\n",
            ", 3264\n",
            "does 3266\n",
            "n't 3270\n",
            "put 3274\n",
            "external 3278\n",
            "apps 3287\n",
            "in 3292\n",
            "ram 3295\n",
            "due 3299\n",
            "to 3303\n",
            "this 3306\n",
            "multitasking 3311\n",
            "not 3324\n",
            "so 3328\n",
            "good 3331\n",
            ", 3335\n",
            "poor 3336\n",
            "ram 3341\n",
            "management 3345\n",
            ", 3355\n",
            "apps 3357\n",
            "are 3362\n",
            "not 3366\n",
            "present 3370\n",
            "in 3378\n",
            "ram 3381\n",
            "\n",
            " 3384\n",
            "7 3385\n",
            ". 3386\n",
            "This 3388\n",
            "phone 3393\n",
            "is 3399\n",
            "good 3402\n",
            "for 3407\n",
            "those 3411\n",
            "who 3417\n",
            "do 3421\n",
            "n't 3423\n",
            "uses 3427\n",
            "much 3432\n",
            "camera 3437\n",
            ", 3443\n",
            "only 3444\n",
            "engage 3449\n",
            "in 3456\n",
            "daily 3459\n",
            "activities 3465\n",
            "like 3476\n",
            "phone 3481\n",
            "calls 3487\n",
            ", 3492\n",
            "messages 3494\n",
            ", 3502\n",
            "whatsapp 3504\n",
            ", 3512\n",
            "Netflix 3514\n",
            "\n",
            " 3521\n",
            "Battery 3522\n",
            "charging 3530\n",
            "is 3539\n",
            "fast 3542\n",
            "\n",
            " 3546\n",
            "Camera 3547\n",
            "quality 3554\n",
            "very 3562\n",
            "poor 3567\n",
            "\n",
            " 3571\n",
            "Not 3572\n",
            "worth 3576\n",
            "of 3582\n",
            "30k 3585\n",
            "getting 3589\n",
            "better 3597\n",
            "option 3604\n",
            "in 3611\n",
            "market 3614\n",
            ", 3620\n",
            "go 3621\n",
            "for 3624\n",
            "Snapdragon 3628\n",
            "processor 3639\n",
            "phones 3649\n",
            "\n",
            "\n",
            "\n",
            " 3655\n",
            "But 3658\n",
            ", 3661\n",
            "they 3663\n",
            "could 3668\n",
            "have 3674\n",
            "improved 3679\n",
            "camera 3688\n",
            "quality 3695\n",
            ". 3702\n",
            "I 3704\n",
            "am 3706\n",
            "not 3709\n",
            "that 3713\n",
            "satisfied 3718\n",
            "with 3728\n",
            "it 3733\n",
            ". 3735\n",
            "\n",
            " 3736\n",
            "Seems 3737\n",
            "battery 3743\n",
            "drains 3751\n",
            "fast 3758\n",
            "… 3762\n",
            ". 3763\n",
            "Will 3765\n",
            "have 3770\n",
            "to 3775\n",
            "observe 3778\n",
            "for 3786\n",
            "few 3790\n",
            "more 3794\n",
            "days 3799\n",
            "as 3804\n",
            "its 3807\n",
            "delivered 3811\n",
            "today 3821\n",
            "only 3827\n",
            ".. 3831\n",
            "\n",
            " 3833\n",
            "Super 3834\n",
            "duper 3840\n",
            "fast 3846\n",
            "charging 3851\n",
            ".. 3859\n",
            "charged 3862\n",
            "my 3870\n",
            "phone 3873\n",
            "from 3879\n",
            "8 3884\n",
            "% 3885\n",
            "to 3887\n",
            "100 3890\n",
            "% 3893\n",
            "in 3895\n",
            "41 3898\n",
            "mins 3901\n",
            ". 3905\n",
            "\n",
            " 3906\n",
            "Nothing 3907\n",
            "much 3915\n",
            "to 3920\n",
            "say 3923\n",
            ".. 3926\n",
            "\n",
            "\n",
            "\n",
            " 3928\n",
            "This 3931\n",
            "is 3936\n",
            "my 3939\n",
            "first 3942\n",
            "one 3948\n",
            "plus 3952\n",
            ". 3956\n",
            "I 3957\n",
            "was 3959\n",
            "looking 3963\n",
            "for 3971\n",
            "a 3975\n",
            "good 3977\n",
            "camera 3982\n",
            "phone 3989\n",
            ", 3994\n",
            "this 3995\n",
            "phone 4000\n",
            "camera 4006\n",
            "both 4013\n",
            "front 4018\n",
            "and 4024\n",
            "rear 4028\n",
            "camera 4033\n",
            "is 4040\n",
            "ultimate 4043\n",
            "in 4052\n",
            "picture 4055\n",
            "clarity 4063\n",
            "compare 4071\n",
            "to 4079\n",
            "all 4082\n",
            "other 4086\n",
            "phones 4092\n",
            "not 4099\n",
            "even 4103\n",
            "oppo 4108\n",
            ". 4112\n",
            "There 4113\n",
            "is 4119\n",
            "no 4122\n",
            "issue 4125\n",
            "as 4131\n",
            "such.this 4134\n",
            "is 4144\n",
            "the 4147\n",
            "latest 4151\n",
            "phone 4158\n",
            "with 4164\n",
            "latest 4169\n",
            "os 4176\n",
            "and 4179\n",
            "basic 4183\n",
            "priced 4189\n",
            "in 4196\n",
            "one 4199\n",
            "plus 4203\n",
            ". 4207\n",
            "Iam 4209\n",
            "happy 4213\n",
            "with 4219\n",
            "new 4224\n",
            "one 4228\n",
            "plus 4232\n",
            ".. 4236\n",
            "thanks 4239\n",
            "\n",
            "\n",
            "\n",
            " 4245\n",
            "The 4248\n",
            "phone 4252\n",
            "indeed 4258\n",
            "feels 4265\n",
            "very 4271\n",
            "premium 4276\n",
            ". 4283\n",
            "The 4285\n",
            "matte 4289\n",
            "glass 4295\n",
            "back 4301\n",
            "is 4306\n",
            "great 4309\n",
            ". 4314\n",
            "The 4316\n",
            "display 4320\n",
            "is 4328\n",
            "crisp 4331\n",
            "and 4337\n",
            "has 4341\n",
            "punchy 4345\n",
            "colors 4352\n",
            ". 4358\n",
            "The 4360\n",
            "Oxygen 4364\n",
            "OS 4371\n",
            "is 4374\n",
            "smooth 4377\n",
            "and 4384\n",
            "clutter 4388\n",
            "free 4396\n",
            ". 4400\n",
            "The 4402\n",
            "cameras 4406\n",
            "are 4414\n",
            "a 4418\n",
            "highlight 4420\n",
            "point 4430\n",
            ", 4435\n",
            "low 4437\n",
            "light 4441\n",
            "performance 4447\n",
            "is 4459\n",
            "also 4462\n",
            "great 4467\n",
            ". 4472\n",
            "The 4474\n",
            "processor 4478\n",
            "is 4488\n",
            "butter 4491\n",
            "smooth 4498\n",
            ", 4504\n",
            "very 4506\n",
            "powerful 4511\n",
            ". 4519\n",
            "The 4521\n",
            "battery 4525\n",
            "life 4533\n",
            "is 4538\n",
            "good 4541\n",
            "and 4546\n",
            "has 4550\n",
            "got 4554\n",
            "insane 4558\n",
            "charging 4565\n",
            "speed 4574\n",
            ", 4579\n",
            "charges 4581\n",
            "in 4589\n",
            "less 4592\n",
            "than 4597\n",
            "25 4602\n",
            "mins 4605\n",
            ". 4609\n",
            "Also 4611\n",
            "no 4616\n",
            "heating 4619\n",
            "issue 4627\n",
            "experienced 4633\n",
            ". 4644\n",
            "Can 4646\n",
            "definitely 4650\n",
            "go 4661\n",
            "with 4664\n",
            "this 4669\n",
            ". 4673\n",
            "Really 4675\n",
            "loved 4682\n",
            "the 4688\n",
            "phone 4692\n",
            ". 4697\n",
            "\n",
            "\n",
            "\n",
            " 4698\n",
            "After 4701\n",
            "waiting 4707\n",
            "and 4715\n",
            "thinking 4719\n",
            "a 4728\n",
            "couple 4730\n",
            "of 4737\n",
            "year 4740\n",
            "finaly 4745\n",
            "I 4752\n",
            "purchased 4754\n",
            "my 4764\n",
            "1st 4767\n",
            "OnePlus 4771\n",
            "smartphone 4779\n",
            "after 4790\n",
            "knowing 4796\n",
            "that 4804\n",
            "the 4809\n",
            "experience 4813\n",
            "of 4824\n",
            "OnePlus 4827\n",
            "is 4835\n",
            "smooth 4838\n",
            "like 4845\n",
            "butter 4850\n",
            "and 4857\n",
            "bloatfree 4861\n",
            ". 4870\n",
            "\n",
            "\n",
            " 4871\n",
            "But 4873\n",
            "I 4877\n",
            "things 4879\n",
            "were 4886\n",
            "not 4891\n",
            "so 4895\n",
            "easy 4898\n",
            ". 4902\n",
            "\n",
            " 4903\n",
            "1 4904\n",
            ". 4905\n",
            "I 4907\n",
            "love 4909\n",
            "replying 4914\n",
            "any 4923\n",
            "messages 4927\n",
            "on 4936\n",
            "social 4939\n",
            "media 4946\n",
            "or 4952\n",
            "whatsapp 4955\n",
            "by 4964\n",
            "just 4967\n",
            "going 4972\n",
            "in 4978\n",
            "Notification 4981\n",
            "panel 4994\n",
            ". 4999\n",
            "\n",
            " 5000\n",
            "But 5001\n",
            "here 5005\n",
            "in 5010\n",
            "Nord 5013\n",
            "2 5018\n",
            "it 5020\n",
            "'s 5022\n",
            "a 5025\n",
            "nightmere 5027\n",
            "for 5037\n",
            "me 5041\n",
            ". 5043\n",
            "\n",
            " 5044\n",
            "Replying 5045\n",
            "to 5054\n",
            "messages 5057\n",
            "notification 5066\n",
            "panel 5079\n",
            "was 5085\n",
            "pathetic 5089\n",
            ". 5097\n",
            "\n",
            " 5098\n",
            "Multiple 5099\n",
            "keywords 5108\n",
            "never 5117\n",
            "worked 5123\n",
            "so 5130\n",
            "far 5133\n",
            "( 5137\n",
            "p 5138\n",
            ", 5139\n",
            "q 5141\n",
            "and 5143\n",
            "caps 5147\n",
            "keywords 5152\n",
            ") 5160\n",
            ". 5161\n"
          ]
        }
      ]
    },
    {
      "cell_type": "code",
      "metadata": {
        "colab": {
          "base_uri": "https://localhost:8080/"
        },
        "id": "qV88N07ptqcS",
        "outputId": "76189780-b101-4c46-f837-2aa5b10a5b42"
      },
      "source": [
        "for token in about_doc:\n",
        "  print (token, token.idx, token.text_with_ws,\n",
        "         token.is_alpha, token.is_punct, token.is_space,\n",
        "         token.shape_, token.is_stop)"
      ],
      "execution_count": null,
      "outputs": [
        {
          "output_type": "stream",
          "name": "stdout",
          "text": [
            "1 0 1 False False False d False\n",
            ". 1 .  False True False . False\n",
            "Battery 3 Battery  True False False Xxxxx False\n",
            "is 11 is  True False False xx True\n",
            "worse 14 worse  True False False xxxx False\n",
            ", 20 ,  False True False , False\n",
            "you 22 you  True False False xxx True\n",
            "can 26 can True False False xxx True\n",
            "not 29 not  True False False xxx True\n",
            "keep 33 keep  True False False xxxx True\n",
            "on 38 on  True False False xx True\n",
            "carrying 41 carrying  True False False xxxx False\n",
            "a 50 a  True False False x True\n",
            "charger 52 charger  True False False xxxx False\n",
            "along 60 along  True False False xxxx True\n",
            "with 66 with  True False False xxxx True\n",
            "you 71 you  True False False xxx True\n",
            "if 75 if  True False False xx True\n",
            "you 78 you  True False False xxx True\n",
            "are 82 are  True False False xxx True\n",
            "going 86 going  True False False xxxx False\n",
            "outdoor 92 outdoor  True False False xxxx False\n",
            "for 100 for  True False False xxx True\n",
            "full 104 full True False False xxxx True\n",
            "- 108 - False True False - False\n",
            "day 109 day True False False xxx False\n",
            ", 112 ,  False True False , False\n",
            "even 114 even  True False False xxxx True\n",
            "at 119 at  True False False xx True\n",
            "standby 122 standby  True False False xxxx False\n",
            "mode 130 mode  True False False xxxx False\n",
            "also 135 also  True False False xxxx True\n",
            "battery 140 battery  True False False xxxx False\n",
            "keeps 148 keeps  True False False xxxx False\n",
            "on 154 on  True False False xx True\n",
            "draining 157 draining True False False xxxx False\n",
            ", 165 ,  False True False , False\n",
            "pathetic 167 pathetic  True False False xxxx False\n",
            "battery 176 battery  True False False xxxx False\n",
            "life 184 life True False False xxxx False\n",
            ". 188 . False True False . False\n",
            "\n",
            " 189 \n",
            " False False True \n",
            " False\n",
            "2 190 2 False False False d False\n",
            ". 191 .  False True False . False\n",
            "I 193 I  True False False X True\n",
            "odont 195 odont  True False False xxxx False\n",
            "know 201 know  True False False xxxx False\n",
            "about 206 about  True False False xxxx True\n",
            "other 212 other  True False False xxxx True\n",
            "one 218 one  True False False xxx True\n",
            "plus 222 plus  True False False xxxx False\n",
            "phone 227 phone  True False False xxxx False\n",
            "as 233 as  True False False xx True\n",
            "this 236 this  True False False xxxx True\n",
            "is 241 is  True False False xx True\n",
            "my 244 my  True False False xx True\n",
            "first 247 first  True False False xxxx True\n",
            "one 253 one True False False xxx True\n",
            ", 256 ,  False True False , False\n",
            "so 258 so  True False False xx True\n",
            "I 261 I  True False False X True\n",
            "will 263 will  True False False xxxx True\n",
            "say 268 say  True False False xxx True\n",
            "a 272 a  True False False x True\n",
            "proper 274 proper  True False False xxxx False\n",
            "10000rs 281 10000rs  False False False ddddxx False\n",
            "cellphone 289 cellphone  True False False xxxx False\n",
            "has 299 has  True False False xxx True\n",
            "a 303 a  True False False x True\n",
            "better 305 better  True False False xxxx False\n",
            "front 312 front  True False False xxxx True\n",
            "camera 318 camera  True False False xxxx False\n",
            "as 325 as  True False False xx True\n",
            "compared 328 compared  True False False xxxx False\n",
            "to 337 to  True False False xx True\n",
            "this 340 this  True False False xxxx True\n",
            "one 345 one True False False xxx True\n",
            ". 348 .  False True False . False\n",
            "Rear 350 Rear  True False False Xxxx False\n",
            "camera 355 camera  True False False xxxx False\n",
            "with 362 with  True False False xxxx True\n",
            "50mp 367 50mp  False False False ddxx False\n",
            "is 372 is  True False False xx True\n",
            "of 375 of  True False False xx True\n",
            "low 378 low  True False False xxx False\n",
            "quality 382 quality True False False xxxx False\n",
            ", 389 ,  False True False , False\n",
            "you 391 you  True False False xxx True\n",
            "can 395 can True False False xxx True\n",
            "not 398 not  True False False xxx True\n",
            "get 402 get  True False False xxx True\n",
            "details 406 details  True False False xxxx False\n",
            "of 414 of  True False False xx True\n",
            "any 417 any  True False False xxx True\n",
            "pic 421 pic  True False False xxx False\n",
            "if 425 if  True False False xx True\n",
            "you 428 you  True False False xxx True\n",
            "zoom 432 zoom  True False False xxxx False\n",
            "it 437 it  True False False xx True\n",
            "after 440 after  True False False xxxx True\n",
            "capturing 446 capturing True False False xxxx False\n",
            ". 455 .  False True False . False\n",
            "2mp 457 2mp  False False False dxx False\n",
            "ultrawide 461 ultrawide  True False False xxxx False\n",
            "camera 471 camera  True False False xxxx False\n",
            "is 478 is  True False False xx True\n",
            "useless 481 useless  True False False xxxx False\n",
            ", 489 ,  False True False , False\n",
            "low 491 low  True False False xxx False\n",
            "quality 495 quality  True False False xxxx False\n",
            "images 503 images True False False xxxx False\n",
            ". 509 . False True False . False\n",
            "\n",
            "\n",
            " 510 \n",
            "\n",
            " False False True \n",
            "\n",
            " False\n",
            "Worst 512 Worst  True False False Xxxxx False\n",
            "thing 518 thing  True False False xxxx False\n",
            "is 524 is  True False False xx True\n",
            "it 527 it True False False xx True\n",
            "'s 529 's  False False False 'x True\n",
            "battery 532 battery  True False False xxxx False\n",
            "wo 540 wo True False False xx False\n",
            "n't 542 n't  False False False x'x True\n",
            "last 546 last  True False False xxxx True\n",
            "for 551 for  True False False xxx True\n",
            "even 555 even  True False False xxxx True\n",
            "half 560 half  True False False xxxx False\n",
            "day 565 day True False False xxx False\n",
            ", 568 ,  False True False , False\n",
            "it 570 it True False False xx True\n",
            "'s 572 's  False False False 'x True\n",
            "good 575 good  True False False xxxx False\n",
            "that 580 that  True False False xxxx True\n",
            "it 585 it  True False False xx True\n",
            "has 588 has  True False False xxx True\n",
            "fast 592 fast  True False False xxxx False\n",
            "charger 597 charger  True False False xxxx False\n",
            "BUT 605 BUT  True False False XXX True\n",
            "who 609 who  True False False xxx True\n",
            "carries 613 carries  True False False xxxx False\n",
            "charger 621 charger  True False False xxxx False\n",
            "with 629 with  True False False xxxx True\n",
            "them 634 them  True False False xxxx True\n",
            "all 639 all  True False False xxx True\n",
            "day 643 day True False False xxx False\n",
            ", 646 ,  False True False , False\n",
            "atleast 648 atleast  True False False xxxx False\n",
            "One 656 One  True False False Xxx True\n",
            "Plus 660 Plus  True False False Xxxx False\n",
            "could 665 could  True False False xxxx True\n",
            "have 671 have  True False False xxxx True\n",
            "increased 676 increased  True False False xxxx False\n",
            "the 686 the  True False False xxx True\n",
            "battery 690 battery  True False False xxxx False\n",
            "capacity 698 capacity True False False xxxx False\n",
            ". 706 . False True False . False\n",
            "\n",
            "\n",
            " 707 \n",
            "\n",
            " False False True \n",
            "\n",
            " False\n",
            "One 709 One  True False False Xxx True\n",
            "last 713 last  True False False xxxx True\n",
            "thing 718 thing True False False xxxx False\n",
            ", 723 ,  False True False , False\n",
            "please 725 please  True False False xxxx True\n",
            "STOP 732 STOP  True False False XXXX False\n",
            "collaborating 737 collaborating  True False False xxxx False\n",
            "with 751 with  True False False xxxx True\n",
            "OPPO 756 OPPO  True False False XXXX False\n",
            "to 761 to  True False False xx True\n",
            "manufacture 764 manufacture  True False False xxxx False\n",
            "cellphones 776 cellphones  True False False xxxx False\n",
            "or 787 or  True False False xx True\n",
            "else 790 else  True False False xxxx True\n",
            "you 795 you  True False False xxx True\n",
            "will 799 will  True False False xxxx True\n",
            "end 804 end  True False False xxx False\n",
            "up 808 up  True False False xx True\n",
            "like 811 like  True False False xxxx False\n",
            "Nokia 816 Nokia  True False False Xxxxx False\n",
            "in 822 in  True False False xx True\n",
            "next 825 next  True False False xxxx True\n",
            "two 830 two  True False False xxx True\n",
            "three 834 three  True False False xxxx True\n",
            "years 840 years True False False xxxx False\n",
            ". 845 . False True False . False\n",
            "\n",
            "\n",
            " 846 \n",
            "\n",
            " False False True \n",
            "\n",
            " False\n",
            "All 848 All  True False False Xxx True\n",
            "in 852 in  True False False xx True\n",
            "all 855 all True False False xxx True\n",
            ", 858 ,  False True False , False\n",
            "this 860 this  True False False xxxx True\n",
            "is 865 is  True False False xx True\n",
            "the 868 the  True False False xxx True\n",
            "worst 872 worst  True False False xxxx False\n",
            "cellphone 878 cellphone  True False False xxxx False\n",
            "ever 888 ever  True False False xxxx True\n",
            "manufactured 893 manufactured  True False False xxxx False\n",
            "by 906 by  True False False xx True\n",
            "One 909 One  True False False Xxx True\n",
            "Plus 913 Plus True False False Xxxx False\n",
            ". 917 .  False True False . False\n",
            "Even 919 Even  True False False Xxxx True\n",
            "the 924 the  True False False xxx True\n",
            "side 928 side  True False False xxxx True\n",
            "casing 933 casing  True False False xxxx False\n",
            "is 940 is  True False False xx True\n",
            "of 943 of  True False False xx True\n",
            "cheap 946 cheap  True False False xxxx False\n",
            "quality 952 quality  True False False xxxx False\n",
            "plastic 960 plastic True False False xxxx False\n",
            ". 967 . False True False . False\n",
            "\n",
            "\n",
            "\n",
            " 968 \n",
            "\n",
            "\n",
            " False False True \n",
            "\n",
            "\n",
            " False\n",
            "Camera 971 Camera  True False False Xxxxx False\n",
            "does 978 does True False False xxxx True\n",
            "n't 982 n't  False False False x'x True\n",
            "Start 986 Start  True False False Xxxxx False\n",
            "when 992 when  True False False xxxx True\n",
            "it 997 it True False False xx True\n",
            "'s 999 's  False False False 'x True\n",
            "get 1002 get  True False False xxx True\n",
            "heat 1006 heat True False False xxxx False\n",
            "\n",
            " 1010 \n",
            " False False True \n",
            " False\n",
            "Some 1011 Some  True False False Xxxx True\n",
            "softwere 1016 softwere  True False False xxxx False\n",
            "issue 1025 issue True False False xxxx False\n",
            "\n",
            " 1030 \n",
            " False False True \n",
            " False\n",
            "Do 1031 Do True False False Xx True\n",
            "n't 1033 n't  False False False x'x True\n",
            "buy 1037 buy  True False False xxx False\n",
            "if 1041 if  True False False xx True\n",
            "u 1044 u  True False False x False\n",
            "are 1046 are  True False False xxx True\n",
            "a 1050 a  True False False x True\n",
            "gamer 1052 gamer True False False xxxx False\n",
            "\n",
            " 1057 \n",
            " False False True \n",
            " False\n",
            "Screen 1058 Screen  True False False Xxxxx False\n",
            "is 1065 is  True False False xx True\n",
            "small 1068 small  True False False xxxx False\n",
            "for 1074 for  True False False xxx True\n",
            "gameing 1078 gameing True False False xxxx False\n",
            "\n",
            " 1085 \n",
            " False False True \n",
            " False\n",
            "And 1086 And  True False False Xxx True\n",
            "do 1090 do True False False xx True\n",
            "n't 1092 n't  False False False x'x True\n",
            "by 1096 by  True False False xx True\n",
            "otg 1099 otg  True False False xxx False\n",
            "cabe 1103 cabe  True False False xxxx False\n",
            "buy 1108 buy  True False False xxx False\n",
            "a 1112 a  True False False x True\n",
            "jack 1114 jack  True False False xxxx False\n",
            "for 1119 for  True False False xxx True\n",
            "headphone 1123 headphone True False False xxxx False\n",
            "\n",
            " 1132 \n",
            " False False True \n",
            " False\n",
            "Hactic 1133 Hactic  True False False Xxxxx False\n",
            "feedback 1140 feedback  True False False xxxx False\n",
            "is 1149 is  True False False xx True\n",
            "too 1152 too  True False False xxx True\n",
            "good 1156 good True False False xxxx False\n",
            "\n",
            " 1160 \n",
            " False False True \n",
            " False\n",
            "And 1161 And  True False False Xxx True\n",
            "I 1165 I  True False False X True\n",
            "wanted 1167 wanted  True False False xxxx False\n",
            "to 1174 to  True False False xx True\n",
            "return 1177 return  True False False xxxx False\n",
            "which 1184 which  True False False xxxx True\n",
            "was 1190 was  True False False xxx True\n",
            "impossible 1194 impossible  True False False xxxx False\n",
            "and 1205 and  True False False xxx True\n",
            "I 1209 I  True False False X True\n",
            "want 1211 want  True False False xxxx False\n",
            "to 1216 to  True False False xx True\n",
            "return 1219 return  True False False xxxx False\n",
            "now 1226 now  True False False xxx True\n",
            "too 1230 too  True False False xxx True\n",
            "and 1234 and  True False False xxx True\n",
            "buy 1238 buy  True False False xxx False\n",
            "poco 1242 poco  True False False xxxx False\n",
            "gt 1247 gt True False False xx False\n",
            "\n",
            "\n",
            "\n",
            " 1249 \n",
            "\n",
            "\n",
            " False False True \n",
            "\n",
            "\n",
            " False\n",
            "1 1252 1 False False False d False\n",
            ") 1253 )  False True False ) False\n",
            "Built 1255 Built  True False False Xxxxx False\n",
            "and 1261 and  True False False xxx True\n",
            "Finish 1265 Finish  True False False Xxxxx False\n",
            ": 1272 :  False True False : False\n",
            "\" 1274 \" False True False \" False\n",
            "Excellent 1275 Excellent True False False Xxxxx False\n",
            "\" 1284 \"  False True False \" False\n",
            "build 1286 build  True False False xxxx False\n",
            "quality 1292 quality  True False False xxxx False\n",
            "and 1300 and  True False False xxx True\n",
            "it 1304 it  True False False xx True\n",
            "looks 1307 looks  True False False xxxx False\n",
            "premium 1313 premium True False False xxxx False\n",
            ". 1320 . False True False . False\n",
            "\n",
            "\n",
            " 1321 \n",
            "\n",
            " False False True \n",
            "\n",
            " False\n",
            "2 1323 2 False False False d False\n",
            ") 1324 )  False True False ) False\n",
            "Performance 1326 Performance  True False False Xxxxx False\n",
            ": 1338 :  False True False : False\n",
            "\" 1340 \" False True False \" False\n",
            "Excellent 1341 Excellent True False False Xxxxx False\n",
            "\" 1350 \"  False True False \" False\n",
            "performance 1352 performance  True False False xxxx False\n",
            "at 1364 at  True False False xx True\n",
            "this 1367 this  True False False xxxx True\n",
            "price 1372 price True False False xxxx False\n",
            ". 1377 .  False True False . False\n",
            "You 1379 You  True False False Xxx True\n",
            "can 1383 can  True False False xxx True\n",
            "play 1387 play  True False False xxxx False\n",
            "BGMI 1392 BGMI  True False False XXXX False\n",
            "with 1397 with  True False False xxxx True\n",
            "high 1402 high  True False False xxxx False\n",
            "settings 1407 settings  True False False xxxx False\n",
            "on 1416 on  True False False xx True\n",
            "and 1419 and  True False False xxx True\n",
            "it 1423 it  True False False xx True\n",
            "does 1426 does True False False xxxx True\n",
            "n't 1430 n't  False False False x'x True\n",
            "get 1434 get  True False False xxx True\n",
            "too 1438 too  True False False xxx True\n",
            "hot 1442 hot True False False xxx False\n",
            ". 1445 . False True False . False\n",
            "\n",
            "\n",
            " 1446 \n",
            "\n",
            " False False True \n",
            "\n",
            " False\n",
            "3 1448 3 False False False d False\n",
            ") 1449 )  False True False ) False\n",
            "Display 1451 Display  True False False Xxxxx False\n",
            ": 1459 :  False True False : False\n",
            "\" 1461 \" False True False \" False\n",
            "Very 1462 Very  True False False Xxxx True\n",
            "good 1467 good True False False xxxx False\n",
            "\" 1471 \"  False True False \" False\n",
            "even 1473 even  True False False xxxx True\n",
            "it 1478 it  True False False xx True\n",
            "has 1481 has  True False False xxx True\n",
            "90hz 1485 90hz  False False False ddxx False\n",
            "refresh 1490 refresh  True False False xxxx False\n",
            "rate 1498 rate True False False xxxx False\n",
            ", 1502 ,  False True False , False\n",
            "Vivid 1504 Vivid  True False False Xxxxx False\n",
            "and 1510 and  True False False xxx True\n",
            "vibrant 1514 vibrant  True False False xxxx False\n",
            "colours 1522 colours True False False xxxx False\n",
            ". 1529 . False True False . False\n",
            "\n",
            "\n",
            " 1530 \n",
            "\n",
            " False False True \n",
            "\n",
            " False\n",
            "4 1532 4 False False False d False\n",
            ") 1533 )  False True False ) False\n",
            "Rear 1535 Rear  True False False Xxxx False\n",
            "Camera 1540 Camera  True False False Xxxxx False\n",
            ": 1547 :  False True False : False\n",
            "\" 1549 \" False True False \" False\n",
            "Great 1550 Great True False False Xxxxx False\n",
            "\" 1555 \"  False True False \" False\n",
            "50MP 1557 50MP  False False False ddXX False\n",
            "sensor 1562 sensor True False False xxxx False\n",
            ", 1568 ,  False True False , False\n",
            "it 1570 it  True False False xx True\n",
            "can 1573 can  True False False xxx True\n",
            "compete 1577 compete  True False False xxxx False\n",
            "with 1585 with  True False False xxxx True\n",
            "OnePlus 1590 OnePlus  True False False XxxXxxx False\n",
            "9pro 1598 9pro False False False dxxx False\n",
            "'s 1602 's  False False False 'x True\n",
            "Camera 1605 Camera True False False Xxxxx False\n",
            ". 1611 . False True False . False\n",
            "\n",
            " 1612 \n",
            " False False True \n",
            " False\n",
            "Ultrawide 1613 Ultrawide  True False False Xxxxx False\n",
            "lens 1623 lens  True False False xxxx False\n",
            "performance 1628 performance  True False False xxxx False\n",
            "is 1640 is  True False False xx True\n",
            "below 1643 below  True False False xxxx True\n",
            "average 1649 average True False False xxxx False\n",
            ". 1656 . False True False . False\n",
            "\n",
            "\n",
            " 1657 \n",
            "\n",
            " False False True \n",
            "\n",
            " False\n",
            "5 1659 5 False False False d False\n",
            ") 1660 )  False True False ) False\n",
            "Front 1662 Front  True False False Xxxxx True\n",
            "Camera 1668 Camera  True False False Xxxxx False\n",
            ": 1675 :  False True False : False\n",
            "\" 1677 \" False True False \" False\n",
            "Poor 1678 Poor True False False Xxxx False\n",
            "\" 1682 \"  False True False \" False\n",
            "performance 1684 performance  True False False xxxx False\n",
            "with 1696 with  True False False xxxx True\n",
            "dynamic 1701 dynamic  True False False xxxx False\n",
            "range 1709 range True False False xxxx False\n",
            ". 1714 . False True False . False\n",
            "\n",
            "\n",
            " 1715 \n",
            "\n",
            " False False True \n",
            "\n",
            " False\n",
            "6 1717 6 False False False d False\n",
            ") 1718 )  False True False ) False\n",
            "Speaker 1720 Speaker  True False False Xxxxx False\n",
            ": 1728 :  False True False : False\n",
            "\" 1730 \" False True False \" False\n",
            "Good 1731 Good True False False Xxxx False\n",
            "\" 1735 \"  False True False \" False\n",
            "streo 1737 streo  True False False xxxx False\n",
            "speakers 1743 speakers True False False xxxx False\n",
            ". 1751 . False True False . False\n",
            "\n",
            "\n",
            " 1752 \n",
            "\n",
            " False False True \n",
            "\n",
            " False\n",
            "7 1754 7 False False False d False\n",
            ") 1755 )  False True False ) False\n",
            "Charging 1757 Charging  True False False Xxxxx False\n",
            "speed 1766 speed  True False False xxxx False\n",
            ": 1772 :  False True False : False\n",
            "\" 1774 \" False True False \" False\n",
            "Mind 1775 Mind  True False False Xxxx False\n",
            "Blowing 1780 Blowing True False False Xxxxx False\n",
            "\" 1787 \"  False True False \" False\n",
            "it 1789 it  True False False xx True\n",
            "can 1792 can  True False False xxx True\n",
            "charge 1796 charge  True False False xxxx False\n",
            "from 1803 from  True False False xxxx True\n",
            "10 1808 10 False False False dd False\n",
            "- 1810 - False True False - False\n",
            "100 1811 100 False False False ddd False\n",
            "% 1814 %  False True False % False\n",
            "within 1816 within  True False False xxxx True\n",
            "30 1823 30  False False False dd False\n",
            "minutes 1826 minutes True False False xxxx False\n",
            ". 1833 . False True False . False\n",
            "\n",
            "\n",
            " 1834 \n",
            "\n",
            " False False True \n",
            "\n",
            " False\n",
            "8) 1836 8)  False False False d) False\n",
            "Battery 1839 Battery  True False False Xxxxx False\n",
            ": 1847 :  False True False : False\n",
            "\" 1849 \" False True False \" False\n",
            "Below 1850 Below  True False False Xxxxx True\n",
            "Average 1856 Average True False False Xxxxx False\n",
            "\" 1863 \"  False True False \" False\n",
            "battery 1865 battery True False False xxxx False\n",
            ", 1872 ,  False True False , False\n",
            "it 1874 it  True False False xx True\n",
            "drains 1877 drains  True False False xxxx False\n",
            "really 1884 really  True False False xxxx True\n",
            "quickly 1891 quickly  True False False xxxx False\n",
            "when 1899 when  True False False xxxx True\n",
            "you 1904 you  True False False xxx True\n",
            "use 1908 use  True False False xxx False\n",
            "Camera 1912 Camera  True False False Xxxxx False\n",
            "for 1919 for  True False False xxx True\n",
            "a 1923 a  True False False x True\n",
            "quiet 1925 quiet  True False False xxxx False\n",
            "long 1931 long  True False False xxxx False\n",
            "time 1936 time True False False xxxx False\n",
            ". 1940 .  False True False . False\n",
            "You 1942 You  True False False Xxx True\n",
            "may 1946 may  True False False xxx True\n",
            "expect 1950 expect  True False False xxxx False\n",
            "24 1957 24  False False False dd False\n",
            "hours 1960 hours  True False False xxxx False\n",
            "usage 1966 usage  True False False xxxx False\n",
            "if 1972 if  True False False xx True\n",
            "you 1975 you True False False xxx True\n",
            "'re 1978 're  False False False 'xx True\n",
            "a 1982 a  True False False x True\n",
            "normal 1984 normal  True False False xxxx False\n",
            "user 1991 user True False False xxxx False\n",
            ". 1995 . False True False . False\n",
            "\n",
            "\n",
            " 1996 \n",
            "\n",
            " False False True \n",
            "\n",
            " False\n",
            "My 1998 My  True False False Xx True\n",
            "Verdict 2001 Verdict  True False False Xxxxx False\n",
            ": 2009 :  False True False : False\n",
            "You 2011 You  True False False Xxx True\n",
            "should 2015 should  True False False xxxx True\n",
            "definitely 2022 definitely  True False False xxxx False\n",
            "go 2033 go  True False False xx True\n",
            "for 2036 for  True False False xxx True\n",
            "it 2040 it  True False False xx True\n",
            "if 2043 if  True False False xx True\n",
            "you 2046 you  True False False xxx True\n",
            "a 2050 a  True False False x True\n",
            "have 2052 have  True False False xxxx True\n",
            "a 2057 a  True False False x True\n",
            "budget 2059 budget  True False False xxxx False\n",
            "around 2066 around  True False False xxxx True\n",
            "30k 2073 30k False False False ddx False\n",
            ". 2076 .  False True False . False\n",
            "Even 2078 Even  True False False Xxxx True\n",
            "it 2083 it True False False xx True\n",
            "'s 2085 's  False False False 'x True\n",
            "a 2088 a  True False False x True\n",
            "better 2090 better  True False False xxxx False\n",
            "option 2097 option  True False False xxxx False\n",
            "as 2104 as  True False False xx True\n",
            "compared 2107 compared  True False False xxxx False\n",
            "to 2116 to  True False False xx True\n",
            "it 2119 it True False False xx True\n",
            "'s 2121 's  False False False 'x True\n",
            "Big 2124 Big  True False False Xxx False\n",
            "brother 2128 brother  True False False xxxx False\n",
            "OnePlus 2136 OnePlus  True False False XxxXxxx False\n",
            "9R 2144 9R  False False False dX False\n",
            "coz 2147 coz  True False False xxx False\n",
            "that 2151 that  True False False xxxx True\n",
            "costs 2156 costs  True False False xxxx False\n",
            "40k 2162 40k False False False ddx False\n",
            ". 2165 . False True False . False\n",
            "\n",
            "\n",
            "\n",
            " 2166 \n",
            "\n",
            "\n",
            " False False True \n",
            "\n",
            "\n",
            " False\n",
            "Your 2169 Your  True False False Xxxx True\n",
            "browser 2174 browser  True False False xxxx False\n",
            "does 2182 does  True False False xxxx True\n",
            "not 2187 not  True False False xxx True\n",
            "support 2191 support  True False False xxxx False\n",
            "HTML5 2199 HTML5  False False False XXXXd False\n",
            "video 2205 video True False False xxxx False\n",
            ". 2210 . False True False . False\n",
            "\n",
            "  2211 \n",
            "  False False True \n",
            "  False\n",
            "Heating 2213 Heating  True False False Xxxxx False\n",
            "issue 2221 issue  True False False xxxx False\n",
            "mainly 2227 mainly  True False False xxxx False\n",
            "and 2234 and  True False False xxx True\n",
            "screen 2238 screen  True False False xxxx False\n",
            "cast 2245 cast  True False False xxxx False\n",
            "in 2250 in  True False False xx True\n",
            "OTT 2253 OTT  True False False XXX False\n",
            "very 2257 very  True False False xxxx True\n",
            "worst 2262 worst  True False False xxxx False\n",
            ", 2268 , False True False , False\n",
            "when 2269 when  True False False xxxx True\n",
            "call 2274 call  True False False xxxx True\n",
            "recording 2279 recording  True False False xxxx False\n",
            "enable 2289 enable  True False False xxxx False\n",
            "it 2296 it  True False False xx True\n",
            "heared 2299 heared  True False False xxxx False\n",
            "by 2306 by  True False False xx True\n",
            "other 2309 other  True False False xxxx True\n",
            "person 2315 person  True False False xxxx False\n",
            "as 2322 as  True False False xx True\n",
            "call 2325 call  True False False xxxx True\n",
            "recording 2330 recording  True False False xxxx False\n",
            "is 2340 is  True False False xx True\n",
            "one 2343 one  True False False xxx True\n",
            ".its 2347 .its  False False False .xxx False\n",
            "very 2352 very  True False False xxxx True\n",
            "worst 2357 worst  True False False xxxx False\n",
            "function 2363 function  True False False xxxx False\n",
            ".battery 2372 .battery  False False False .xxxx False\n",
            "faster 2381 faster  True False False xxxx False\n",
            "drains 2388 drains  True False False xxxx False\n",
            "and 2395 and  True False False xxx True\n",
            "every 2399 every  True False False xxxx True\n",
            "time 2405 time  True False False xxxx False\n",
            "it 2410 it  True False False xx True\n",
            "ask 2413 ask  True False False xxx False\n",
            "all 2417 all  True False False xxx True\n",
            "permissions 2421 permissions  True False False xxxx False\n",
            "why 2433 why  True False False xxx True\n",
            "it 2437 it  True False False xx True\n",
            "need.i 2440 need.i  False False False xxxx.x False\n",
            "expect 2447 expect  True False False xxxx False\n",
            "may 2454 may  True False False xxx True\n",
            "be 2458 be  True False False xx True\n",
            "chaina 2461 chaina  True False False xxxx False\n",
            "hackers 2468 hackers  True False False xxxx False\n",
            "steal 2476 steal  True False False xxxx False\n",
            "this 2482 this  True False False xxxx True\n",
            "our 2487 our  True False False xxx True\n",
            "information 2491 information True False False xxxx False\n",
            ". 2502 .  False True False . False\n",
            "3days 2504 3days  False False False dxxxx False\n",
            "to 2510 to  True False False xx True\n",
            "buy 2513 buy  True False False xxx False\n",
            "this 2517 this  True False False xxxx True\n",
            "phone 2522 phone  True False False xxxx False\n",
            "but 2528 but  True False False xxx True\n",
            "iam 2532 iam  True False False xxx False\n",
            "not 2536 not  True False False xxx True\n",
            "daring 2540 daring  True False False xxxx False\n",
            "my 2547 my  True False False xx True\n",
            "financial 2550 financial  True False False xxxx False\n",
            "apps 2560 apps  True False False xxxx False\n",
            "not 2565 not  True False False xxx True\n",
            "install 2569 install  True False False xxxx False\n",
            "in 2577 in  True False False xx True\n",
            "this 2580 this  True False False xxxx True\n",
            "phone 2585 phone  True False False xxxx False\n",
            "that 2591 that  True False False xxxx True\n",
            "means 2596 means  True False False xxxx False\n",
            "i 2602 i  True False False x True\n",
            "think 2604 think  True False False xxxx False\n",
            "it 2610 it  True False False xx True\n",
            "is 2613 is  True False False xx True\n",
            "not 2616 not  True False False xxx True\n",
            "secured 2620 secured  True False False xxxx False\n",
            "phone 2628 phone True False False xxxx False\n",
            ". 2633 . False True False . False\n",
            "\n",
            "\n",
            "\n",
            " 2634 \n",
            "\n",
            "\n",
            " False False True \n",
            "\n",
            "\n",
            " False\n",
            "1 2637 1 False False False d False\n",
            ". 2638 .  False True False . False\n",
            "In 2640 In  True False False Xx True\n",
            "terms 2643 terms  True False False xxxx False\n",
            "of 2649 of  True False False xx True\n",
            "browsing 2652 browsing  True False False xxxx False\n",
            "application 2661 application  True False False xxxx False\n",
            "mobile 2673 mobile  True False False xxxx False\n",
            "feels 2680 feels  True False False xxxx False\n",
            "premium 2686 premium True False False xxxx False\n",
            ", 2693 ,  False True False , False\n",
            "it 2695 it  True False False xx True\n",
            "does 2698 does True False False xxxx True\n",
            "n't 2702 n't  False False False x'x True\n",
            "put 2706 put  True False False xxx True\n",
            "external 2710 external  True False False xxxx False\n",
            "apps 2719 apps  True False False xxxx False\n",
            "other 2724 other  True False False xxxx True\n",
            "then 2730 then  True False False xxxx True\n",
            "Google 2735 Google  True False False Xxxxx False\n",
            "apps 2742 apps  True False False xxxx False\n",
            "in 2747 in  True False False xx True\n",
            "ram 2750 ram True False False xxx False\n",
            ". 2753 . False True False . False\n",
            "\n",
            " 2754 \n",
            " False False True \n",
            " False\n",
            "2 2755 2 False False False d False\n",
            ". 2756 .  False True False . False\n",
            "Front 2758 Front  True False False Xxxxx True\n",
            "camera 2764 camera  True False False xxxx False\n",
            "is 2771 is  True False False xx True\n",
            "Just 2774 Just  True False False Xxxx True\n",
            "ok 2779 ok  True False False xx False\n",
            "ok 2782 ok True False False xx False\n",
            ", 2784 ,  False True False , False\n",
            "previously 2786 previously  True False False xxxx False\n",
            "using 2797 using  True False False xxxx True\n",
            "mi 2803 mi  True False False xx False\n",
            "A2 2806 A2  False False False Xd False\n",
            "takes 2809 takes  True False False xxxx False\n",
            "better 2815 better  True False False xxxx False\n",
            "selfies 2822 selfies True False False xxxx False\n",
            ". 2829 .  False True False . False\n",
            "Rear 2831 Rear  True False False Xxxx False\n",
            "camera 2836 camera  True False False xxxx False\n",
            "even 2843 even  True False False xxxx True\n",
            "worst 2848 worst  True False False xxxx False\n",
            "when 2854 when  True False False xxxx True\n",
            "click 2859 click  True False False xxxx False\n",
            "on 2865 on  True False False xx True\n",
            "human 2868 human  True False False xxxx False\n",
            "subject 2874 subject  True False False xxxx False\n",
            "makes 2882 makes  True False False xxxx False\n",
            "whitish 2888 whitish  True False False xxxx False\n",
            "face 2896 face True False False xxxx False\n",
            ", 2900 ,  False True False , False\n",
            "get 2902 get  True False False xxx True\n",
            "1 2906 1  False False False d False\n",
            "better 2908 better  True False False xxxx False\n",
            "shot 2915 shot  True False False xxxx False\n",
            "out 2920 out  True False False xxx True\n",
            "of 2924 of  True False False xx True\n",
            "6 2927 6 False False False d False\n",
            ". 2928 .  False True False . False\n",
            "Camera 2930 Camera  True False False Xxxxx False\n",
            "is 2937 is  True False False xx True\n",
            "only 2940 only  True False False xxxx True\n",
            "for 2945 for  True False False xxx True\n",
            "natural 2949 natural  True False False xxxx False\n",
            "photography 2957 photography  True False False xxxx False\n",
            "not 2969 not  True False False xxx True\n",
            "for 2973 for  True False False xxx True\n",
            "human 2977 human  True False False xxxx False\n",
            "subject 2983 subject True False False xxxx False\n",
            "\n",
            " 2990 \n",
            " False False True \n",
            " False\n",
            "3 2991 3 False False False d False\n",
            ". 2992 .  False True False . False\n",
            "Battery 2994 Battery  True False False Xxxxx False\n",
            "backup 3002 backup  True False False xxxx False\n",
            "is 3009 is  True False False xx True\n",
            "good 3012 good  True False False xxxx False\n",
            "easily 3017 easily  True False False xxxx False\n",
            "get 3024 get  True False False xxx True\n",
            "one 3028 one  True False False xxx True\n",
            "day 3032 day  True False False xxx False\n",
            "in 3036 in  True False False xx True\n",
            "single 3039 single  True False False xxxx False\n",
            "charge 3046 charge True False False xxxx False\n",
            ", 3052 ,  False True False , False\n",
            "charge 3054 charge  True False False xxxx False\n",
            "from 3061 from  True False False xxxx True\n",
            "0 3066 0  False False False d False\n",
            "to 3068 to  True False False xx True\n",
            "100 3071 100  False False False ddd False\n",
            "within 3075 within  True False False xxxx True\n",
            "35 3082 35  False False False dd False\n",
            "minutes 3085 minutes True False False xxxx False\n",
            "\n",
            " 3092 \n",
            " False False True \n",
            " False\n",
            "4 3093 4 False False False d False\n",
            ". 3094 .  False True False . False\n",
            "Wifi 3096 Wifi  True False False Xxxx False\n",
            "speed 3101 speed  True False False xxxx False\n",
            "is 3107 is  True False False xx True\n",
            "getting 3110 getting  True False False xxxx False\n",
            "better 3118 better  True False False xxxx False\n",
            "than 3125 than  True False False xxxx True\n",
            "other 3130 other  True False False xxxx True\n",
            "phones 3136 phones True False False xxxx False\n",
            ", 3142 , False True False , False\n",
            "data 3143 data  True False False xxxx False\n",
            "speed 3148 speed  True False False xxxx False\n",
            "also 3154 also  True False False xxxx True\n",
            "good 3159 good  True False False xxxx False\n",
            "due 3164 due  True False False xxx True\n",
            "to 3168 to  True False False xx True\n",
            "having 3171 having  True False False xxxx False\n",
            "more 3178 more  True False False xxxx True\n",
            "supported 3183 supported  True False False xxxx False\n",
            "bands 3193 bands True False False xxxx False\n",
            "\n",
            " 3198 \n",
            " False False True \n",
            " False\n",
            "5 3199 5 False False False d False\n",
            ". 3200 .  False True False . False\n",
            "Gaming 3202 Gaming  True False False Xxxxx False\n",
            "experience 3209 experience  True False False xxxx False\n",
            "is 3220 is  True False False xx True\n",
            "also 3223 also  True False False xxxx True\n",
            "good 3228 good  True False False xxxx False\n",
            "on 3233 on  True False False xx True\n",
            "this 3236 this True False False xxxx True\n",
            "\n",
            " 3240 \n",
            " False False True \n",
            " False\n",
            "6 3241 6 False False False d False\n",
            ". 3242 .  False True False . False\n",
            "Con 3244 Con  True False False Xxx False\n",
            "is 3248 is  True False False xx True\n",
            "mainly 3251 mainly  True False False xxxx False\n",
            "camera 3258 camera True False False xxxx False\n",
            ", 3264 ,  False True False , False\n",
            "does 3266 does True False False xxxx True\n",
            "n't 3270 n't  False False False x'x True\n",
            "put 3274 put  True False False xxx True\n",
            "external 3278 external  True False False xxxx False\n",
            "apps 3287 apps  True False False xxxx False\n",
            "in 3292 in  True False False xx True\n",
            "ram 3295 ram  True False False xxx False\n",
            "due 3299 due  True False False xxx True\n",
            "to 3303 to  True False False xx True\n",
            "this 3306 this  True False False xxxx True\n",
            "multitasking 3311 multitasking  True False False xxxx False\n",
            "not 3324 not  True False False xxx True\n",
            "so 3328 so  True False False xx True\n",
            "good 3331 good True False False xxxx False\n",
            ", 3335 , False True False , False\n",
            "poor 3336 poor  True False False xxxx False\n",
            "ram 3341 ram  True False False xxx False\n",
            "management 3345 management True False False xxxx False\n",
            ", 3355 ,  False True False , False\n",
            "apps 3357 apps  True False False xxxx False\n",
            "are 3362 are  True False False xxx True\n",
            "not 3366 not  True False False xxx True\n",
            "present 3370 present  True False False xxxx False\n",
            "in 3378 in  True False False xx True\n",
            "ram 3381 ram True False False xxx False\n",
            "\n",
            " 3384 \n",
            " False False True \n",
            " False\n",
            "7 3385 7 False False False d False\n",
            ". 3386 .  False True False . False\n",
            "This 3388 This  True False False Xxxx True\n",
            "phone 3393 phone  True False False xxxx False\n",
            "is 3399 is  True False False xx True\n",
            "good 3402 good  True False False xxxx False\n",
            "for 3407 for  True False False xxx True\n",
            "those 3411 those  True False False xxxx True\n",
            "who 3417 who  True False False xxx True\n",
            "do 3421 do True False False xx True\n",
            "n't 3423 n't  False False False x'x True\n",
            "uses 3427 uses  True False False xxxx False\n",
            "much 3432 much  True False False xxxx True\n",
            "camera 3437 camera True False False xxxx False\n",
            ", 3443 , False True False , False\n",
            "only 3444 only  True False False xxxx True\n",
            "engage 3449 engage  True False False xxxx False\n",
            "in 3456 in  True False False xx True\n",
            "daily 3459 daily  True False False xxxx False\n",
            "activities 3465 activities  True False False xxxx False\n",
            "like 3476 like  True False False xxxx False\n",
            "phone 3481 phone  True False False xxxx False\n",
            "calls 3487 calls True False False xxxx False\n",
            ", 3492 ,  False True False , False\n",
            "messages 3494 messages True False False xxxx False\n",
            ", 3502 ,  False True False , False\n",
            "whatsapp 3504 whatsapp True False False xxxx False\n",
            ", 3512 ,  False True False , False\n",
            "Netflix 3514 Netflix True False False Xxxxx False\n",
            "\n",
            " 3521 \n",
            " False False True \n",
            " False\n",
            "Battery 3522 Battery  True False False Xxxxx False\n",
            "charging 3530 charging  True False False xxxx False\n",
            "is 3539 is  True False False xx True\n",
            "fast 3542 fast True False False xxxx False\n",
            "\n",
            " 3546 \n",
            " False False True \n",
            " False\n",
            "Camera 3547 Camera  True False False Xxxxx False\n",
            "quality 3554 quality  True False False xxxx False\n",
            "very 3562 very  True False False xxxx True\n",
            "poor 3567 poor True False False xxxx False\n",
            "\n",
            " 3571 \n",
            " False False True \n",
            " False\n",
            "Not 3572 Not  True False False Xxx True\n",
            "worth 3576 worth  True False False xxxx False\n",
            "of 3582 of  True False False xx True\n",
            "30k 3585 30k  False False False ddx False\n",
            "getting 3589 getting  True False False xxxx False\n",
            "better 3597 better  True False False xxxx False\n",
            "option 3604 option  True False False xxxx False\n",
            "in 3611 in  True False False xx True\n",
            "market 3614 market True False False xxxx False\n",
            ", 3620 , False True False , False\n",
            "go 3621 go  True False False xx True\n",
            "for 3624 for  True False False xxx True\n",
            "Snapdragon 3628 Snapdragon  True False False Xxxxx False\n",
            "processor 3639 processor  True False False xxxx False\n",
            "phones 3649 phones True False False xxxx False\n",
            "\n",
            "\n",
            "\n",
            " 3655 \n",
            "\n",
            "\n",
            " False False True \n",
            "\n",
            "\n",
            " False\n",
            "But 3658 But True False False Xxx True\n",
            ", 3661 ,  False True False , False\n",
            "they 3663 they  True False False xxxx True\n",
            "could 3668 could  True False False xxxx True\n",
            "have 3674 have  True False False xxxx True\n",
            "improved 3679 improved  True False False xxxx False\n",
            "camera 3688 camera  True False False xxxx False\n",
            "quality 3695 quality True False False xxxx False\n",
            ". 3702 .  False True False . False\n",
            "I 3704 I  True False False X True\n",
            "am 3706 am  True False False xx True\n",
            "not 3709 not  True False False xxx True\n",
            "that 3713 that  True False False xxxx True\n",
            "satisfied 3718 satisfied  True False False xxxx False\n",
            "with 3728 with  True False False xxxx True\n",
            "it 3733 it True False False xx True\n",
            ". 3735 . False True False . False\n",
            "\n",
            " 3736 \n",
            " False False True \n",
            " False\n",
            "Seems 3737 Seems  True False False Xxxxx True\n",
            "battery 3743 battery  True False False xxxx False\n",
            "drains 3751 drains  True False False xxxx False\n",
            "fast 3758 fast True False False xxxx False\n",
            "… 3762 … False True False … False\n",
            ". 3763 .  False True False . False\n",
            "Will 3765 Will  True False False Xxxx True\n",
            "have 3770 have  True False False xxxx True\n",
            "to 3775 to  True False False xx True\n",
            "observe 3778 observe  True False False xxxx False\n",
            "for 3786 for  True False False xxx True\n",
            "few 3790 few  True False False xxx True\n",
            "more 3794 more  True False False xxxx True\n",
            "days 3799 days  True False False xxxx False\n",
            "as 3804 as  True False False xx True\n",
            "its 3807 its  True False False xxx True\n",
            "delivered 3811 delivered  True False False xxxx False\n",
            "today 3821 today  True False False xxxx False\n",
            "only 3827 only True False False xxxx True\n",
            ".. 3831 .. False True False .. False\n",
            "\n",
            " 3833 \n",
            " False False True \n",
            " False\n",
            "Super 3834 Super  True False False Xxxxx False\n",
            "duper 3840 duper  True False False xxxx False\n",
            "fast 3846 fast  True False False xxxx False\n",
            "charging 3851 charging True False False xxxx False\n",
            ".. 3859 ..  False True False .. False\n",
            "charged 3862 charged  True False False xxxx False\n",
            "my 3870 my  True False False xx True\n",
            "phone 3873 phone  True False False xxxx False\n",
            "from 3879 from  True False False xxxx True\n",
            "8 3884 8 False False False d False\n",
            "% 3885 %  False True False % False\n",
            "to 3887 to  True False False xx True\n",
            "100 3890 100 False False False ddd False\n",
            "% 3893 %  False True False % False\n",
            "in 3895 in  True False False xx True\n",
            "41 3898 41  False False False dd False\n",
            "mins 3901 mins True False False xxxx False\n",
            ". 3905 . False True False . False\n",
            "\n",
            " 3906 \n",
            " False False True \n",
            " False\n",
            "Nothing 3907 Nothing  True False False Xxxxx True\n",
            "much 3915 much  True False False xxxx True\n",
            "to 3920 to  True False False xx True\n",
            "say 3923 say True False False xxx True\n",
            ".. 3926 .. False True False .. False\n",
            "\n",
            "\n",
            "\n",
            " 3928 \n",
            "\n",
            "\n",
            " False False True \n",
            "\n",
            "\n",
            " False\n",
            "This 3931 This  True False False Xxxx True\n",
            "is 3936 is  True False False xx True\n",
            "my 3939 my  True False False xx True\n",
            "first 3942 first  True False False xxxx True\n",
            "one 3948 one  True False False xxx True\n",
            "plus 3952 plus True False False xxxx False\n",
            ". 3956 . False True False . False\n",
            "I 3957 I  True False False X True\n",
            "was 3959 was  True False False xxx True\n",
            "looking 3963 looking  True False False xxxx False\n",
            "for 3971 for  True False False xxx True\n",
            "a 3975 a  True False False x True\n",
            "good 3977 good  True False False xxxx False\n",
            "camera 3982 camera  True False False xxxx False\n",
            "phone 3989 phone True False False xxxx False\n",
            ", 3994 , False True False , False\n",
            "this 3995 this  True False False xxxx True\n",
            "phone 4000 phone  True False False xxxx False\n",
            "camera 4006 camera  True False False xxxx False\n",
            "both 4013 both  True False False xxxx True\n",
            "front 4018 front  True False False xxxx True\n",
            "and 4024 and  True False False xxx True\n",
            "rear 4028 rear  True False False xxxx False\n",
            "camera 4033 camera  True False False xxxx False\n",
            "is 4040 is  True False False xx True\n",
            "ultimate 4043 ultimate  True False False xxxx False\n",
            "in 4052 in  True False False xx True\n",
            "picture 4055 picture  True False False xxxx False\n",
            "clarity 4063 clarity  True False False xxxx False\n",
            "compare 4071 compare  True False False xxxx False\n",
            "to 4079 to  True False False xx True\n",
            "all 4082 all  True False False xxx True\n",
            "other 4086 other  True False False xxxx True\n",
            "phones 4092 phones  True False False xxxx False\n",
            "not 4099 not  True False False xxx True\n",
            "even 4103 even  True False False xxxx True\n",
            "oppo 4108 oppo True False False xxxx False\n",
            ". 4112 . False True False . False\n",
            "There 4113 There  True False False Xxxxx True\n",
            "is 4119 is  True False False xx True\n",
            "no 4122 no  True False False xx True\n",
            "issue 4125 issue  True False False xxxx False\n",
            "as 4131 as  True False False xx True\n",
            "such.this 4134 such.this  False False False xxxx.xxxx False\n",
            "is 4144 is  True False False xx True\n",
            "the 4147 the  True False False xxx True\n",
            "latest 4151 latest  True False False xxxx False\n",
            "phone 4158 phone  True False False xxxx False\n",
            "with 4164 with  True False False xxxx True\n",
            "latest 4169 latest  True False False xxxx False\n",
            "os 4176 os  True False False xx False\n",
            "and 4179 and  True False False xxx True\n",
            "basic 4183 basic  True False False xxxx False\n",
            "priced 4189 priced  True False False xxxx False\n",
            "in 4196 in  True False False xx True\n",
            "one 4199 one  True False False xxx True\n",
            "plus 4203 plus True False False xxxx False\n",
            ". 4207 .  False True False . False\n",
            "Iam 4209 Iam  True False False Xxx False\n",
            "happy 4213 happy  True False False xxxx False\n",
            "with 4219 with  True False False xxxx True\n",
            "new 4224 new  True False False xxx False\n",
            "one 4228 one  True False False xxx True\n",
            "plus 4232 plus True False False xxxx False\n",
            ".. 4236 ..  False True False .. False\n",
            "thanks 4239 thanks True False False xxxx False\n",
            "\n",
            "\n",
            "\n",
            " 4245 \n",
            "\n",
            "\n",
            " False False True \n",
            "\n",
            "\n",
            " False\n",
            "The 4248 The  True False False Xxx True\n",
            "phone 4252 phone  True False False xxxx False\n",
            "indeed 4258 indeed  True False False xxxx True\n",
            "feels 4265 feels  True False False xxxx False\n",
            "very 4271 very  True False False xxxx True\n",
            "premium 4276 premium True False False xxxx False\n",
            ". 4283 .  False True False . False\n",
            "The 4285 The  True False False Xxx True\n",
            "matte 4289 matte  True False False xxxx False\n",
            "glass 4295 glass  True False False xxxx False\n",
            "back 4301 back  True False False xxxx True\n",
            "is 4306 is  True False False xx True\n",
            "great 4309 great True False False xxxx False\n",
            ". 4314 .  False True False . False\n",
            "The 4316 The  True False False Xxx True\n",
            "display 4320 display  True False False xxxx False\n",
            "is 4328 is  True False False xx True\n",
            "crisp 4331 crisp  True False False xxxx False\n",
            "and 4337 and  True False False xxx True\n",
            "has 4341 has  True False False xxx True\n",
            "punchy 4345 punchy  True False False xxxx False\n",
            "colors 4352 colors True False False xxxx False\n",
            ". 4358 .  False True False . False\n",
            "The 4360 The  True False False Xxx True\n",
            "Oxygen 4364 Oxygen  True False False Xxxxx False\n",
            "OS 4371 OS  True False False XX False\n",
            "is 4374 is  True False False xx True\n",
            "smooth 4377 smooth  True False False xxxx False\n",
            "and 4384 and  True False False xxx True\n",
            "clutter 4388 clutter  True False False xxxx False\n",
            "free 4396 free True False False xxxx False\n",
            ". 4400 .  False True False . False\n",
            "The 4402 The  True False False Xxx True\n",
            "cameras 4406 cameras  True False False xxxx False\n",
            "are 4414 are  True False False xxx True\n",
            "a 4418 a  True False False x True\n",
            "highlight 4420 highlight  True False False xxxx False\n",
            "point 4430 point True False False xxxx False\n",
            ", 4435 ,  False True False , False\n",
            "low 4437 low  True False False xxx False\n",
            "light 4441 light  True False False xxxx False\n",
            "performance 4447 performance  True False False xxxx False\n",
            "is 4459 is  True False False xx True\n",
            "also 4462 also  True False False xxxx True\n",
            "great 4467 great True False False xxxx False\n",
            ". 4472 .  False True False . False\n",
            "The 4474 The  True False False Xxx True\n",
            "processor 4478 processor  True False False xxxx False\n",
            "is 4488 is  True False False xx True\n",
            "butter 4491 butter  True False False xxxx False\n",
            "smooth 4498 smooth True False False xxxx False\n",
            ", 4504 ,  False True False , False\n",
            "very 4506 very  True False False xxxx True\n",
            "powerful 4511 powerful True False False xxxx False\n",
            ". 4519 .  False True False . False\n",
            "The 4521 The  True False False Xxx True\n",
            "battery 4525 battery  True False False xxxx False\n",
            "life 4533 life  True False False xxxx False\n",
            "is 4538 is  True False False xx True\n",
            "good 4541 good  True False False xxxx False\n",
            "and 4546 and  True False False xxx True\n",
            "has 4550 has  True False False xxx True\n",
            "got 4554 got  True False False xxx False\n",
            "insane 4558 insane  True False False xxxx False\n",
            "charging 4565 charging  True False False xxxx False\n",
            "speed 4574 speed True False False xxxx False\n",
            ", 4579 ,  False True False , False\n",
            "charges 4581 charges  True False False xxxx False\n",
            "in 4589 in  True False False xx True\n",
            "less 4592 less  True False False xxxx True\n",
            "than 4597 than  True False False xxxx True\n",
            "25 4602 25  False False False dd False\n",
            "mins 4605 mins True False False xxxx False\n",
            ". 4609 .  False True False . False\n",
            "Also 4611 Also  True False False Xxxx True\n",
            "no 4616 no  True False False xx True\n",
            "heating 4619 heating  True False False xxxx False\n",
            "issue 4627 issue  True False False xxxx False\n",
            "experienced 4633 experienced True False False xxxx False\n",
            ". 4644 .  False True False . False\n",
            "Can 4646 Can  True False False Xxx True\n",
            "definitely 4650 definitely  True False False xxxx False\n",
            "go 4661 go  True False False xx True\n",
            "with 4664 with  True False False xxxx True\n",
            "this 4669 this True False False xxxx True\n",
            ". 4673 .  False True False . False\n",
            "Really 4675 Really  True False False Xxxxx True\n",
            "loved 4682 loved  True False False xxxx False\n",
            "the 4688 the  True False False xxx True\n",
            "phone 4692 phone True False False xxxx False\n",
            ". 4697 . False True False . False\n",
            "\n",
            "\n",
            "\n",
            " 4698 \n",
            "\n",
            "\n",
            " False False True \n",
            "\n",
            "\n",
            " False\n",
            "After 4701 After  True False False Xxxxx True\n",
            "waiting 4707 waiting  True False False xxxx False\n",
            "and 4715 and  True False False xxx True\n",
            "thinking 4719 thinking  True False False xxxx False\n",
            "a 4728 a  True False False x True\n",
            "couple 4730 couple  True False False xxxx False\n",
            "of 4737 of  True False False xx True\n",
            "year 4740 year  True False False xxxx False\n",
            "finaly 4745 finaly  True False False xxxx False\n",
            "I 4752 I  True False False X True\n",
            "purchased 4754 purchased  True False False xxxx False\n",
            "my 4764 my  True False False xx True\n",
            "1st 4767 1st  False False False dxx False\n",
            "OnePlus 4771 OnePlus  True False False XxxXxxx False\n",
            "smartphone 4779 smartphone  True False False xxxx False\n",
            "after 4790 after  True False False xxxx True\n",
            "knowing 4796 knowing  True False False xxxx False\n",
            "that 4804 that  True False False xxxx True\n",
            "the 4809 the  True False False xxx True\n",
            "experience 4813 experience  True False False xxxx False\n",
            "of 4824 of  True False False xx True\n",
            "OnePlus 4827 OnePlus  True False False XxxXxxx False\n",
            "is 4835 is  True False False xx True\n",
            "smooth 4838 smooth  True False False xxxx False\n",
            "like 4845 like  True False False xxxx False\n",
            "butter 4850 butter  True False False xxxx False\n",
            "and 4857 and  True False False xxx True\n",
            "bloatfree 4861 bloatfree True False False xxxx False\n",
            ". 4870 . False True False . False\n",
            "\n",
            "\n",
            " 4871 \n",
            "\n",
            " False False True \n",
            "\n",
            " False\n",
            "But 4873 But  True False False Xxx True\n",
            "I 4877 I  True False False X True\n",
            "things 4879 things  True False False xxxx False\n",
            "were 4886 were  True False False xxxx True\n",
            "not 4891 not  True False False xxx True\n",
            "so 4895 so  True False False xx True\n",
            "easy 4898 easy True False False xxxx False\n",
            ". 4902 . False True False . False\n",
            "\n",
            " 4903 \n",
            " False False True \n",
            " False\n",
            "1 4904 1 False False False d False\n",
            ". 4905 .  False True False . False\n",
            "I 4907 I  True False False X True\n",
            "love 4909 love  True False False xxxx False\n",
            "replying 4914 replying  True False False xxxx False\n",
            "any 4923 any  True False False xxx True\n",
            "messages 4927 messages  True False False xxxx False\n",
            "on 4936 on  True False False xx True\n",
            "social 4939 social  True False False xxxx False\n",
            "media 4946 media  True False False xxxx False\n",
            "or 4952 or  True False False xx True\n",
            "whatsapp 4955 whatsapp  True False False xxxx False\n",
            "by 4964 by  True False False xx True\n",
            "just 4967 just  True False False xxxx True\n",
            "going 4972 going  True False False xxxx False\n",
            "in 4978 in  True False False xx True\n",
            "Notification 4981 Notification  True False False Xxxxx False\n",
            "panel 4994 panel True False False xxxx False\n",
            ". 4999 . False True False . False\n",
            "\n",
            " 5000 \n",
            " False False True \n",
            " False\n",
            "But 5001 But  True False False Xxx True\n",
            "here 5005 here  True False False xxxx True\n",
            "in 5010 in  True False False xx True\n",
            "Nord 5013 Nord  True False False Xxxx False\n",
            "2 5018 2  False False False d False\n",
            "it 5020 it True False False xx True\n",
            "'s 5022 's  False False False 'x True\n",
            "a 5025 a  True False False x True\n",
            "nightmere 5027 nightmere  True False False xxxx False\n",
            "for 5037 for  True False False xxx True\n",
            "me 5041 me True False False xx True\n",
            ". 5043 . False True False . False\n",
            "\n",
            " 5044 \n",
            " False False True \n",
            " False\n",
            "Replying 5045 Replying  True False False Xxxxx False\n",
            "to 5054 to  True False False xx True\n",
            "messages 5057 messages  True False False xxxx False\n",
            "notification 5066 notification  True False False xxxx False\n",
            "panel 5079 panel  True False False xxxx False\n",
            "was 5085 was  True False False xxx True\n",
            "pathetic 5089 pathetic True False False xxxx False\n",
            ". 5097 . False True False . False\n",
            "\n",
            " 5098 \n",
            " False False True \n",
            " False\n",
            "Multiple 5099 Multiple  True False False Xxxxx False\n",
            "keywords 5108 keywords  True False False xxxx False\n",
            "never 5117 never  True False False xxxx True\n",
            "worked 5123 worked  True False False xxxx False\n",
            "so 5130 so  True False False xx True\n",
            "far 5133 far  True False False xxx False\n",
            "( 5137 ( False True False ( False\n",
            "p 5138 p True False False x False\n",
            ", 5139 ,  False True False , False\n",
            "q 5141 q  True False False x False\n",
            "and 5143 and  True False False xxx True\n",
            "caps 5147 caps  True False False xxxx False\n",
            "keywords 5152 keywords True False False xxxx False\n",
            ") 5160 ) False True False ) False\n",
            ". 5161 . False True False . False\n"
          ]
        }
      ]
    },
    {
      "cell_type": "markdown",
      "metadata": {
        "id": "F1vNBHZMuBrZ"
      },
      "source": [
        "- text_with_ws prints token text with trailing space (if present).\n",
        "- is_alpha detects if the token consists of alphabetic characters or not.\n",
        "- is_punct detects if the token is a punctuation symbol or not.\n",
        "- is_space detects if the token is a space or not.\n",
        "- shape_ prints out the shape of the word.\n",
        "- is_stop detects if the token is a stop word or not."
      ]
    },
    {
      "cell_type": "markdown",
      "metadata": {
        "id": "WXjJ3UJFW_5f"
      },
      "source": [
        "#2. Dependency Parsing using spaCy"
      ]
    },
    {
      "cell_type": "markdown",
      "metadata": {
        "id": "ipUMy0_bXddI"
      },
      "source": [
        "Every sentence has a grammatical structure to it and with the help of dependency parsing, we can extract this structure. It can also be thought of as a directed graph, where nodes correspond to the words in the sentence and the edges between the nodes are the corresponding dependencies between the word."
      ]
    },
    {
      "cell_type": "code",
      "metadata": {
        "colab": {
          "base_uri": "https://localhost:8080/"
        },
        "id": "OsuKvxKwXwho",
        "outputId": "c29ea481-eefe-40a2-cc37-b64f5041c73b"
      },
      "source": [
        "\n",
        "import spacy \n",
        "nlp = spacy.load('en_core_web_sm')\n",
        "\n",
        "# Create an nlp object\n",
        "doc = nlp(\"He went to play basketball\")\n",
        " \n",
        "# Iterate over the tokens\n",
        "for token in doc:\n",
        "    # Print the token and its part-of-speech tag\n",
        "    print(token.text, \"-->\", token.pos_)"
      ],
      "execution_count": null,
      "outputs": [
        {
          "output_type": "stream",
          "name": "stdout",
          "text": [
            "He --> PRON\n",
            "went --> VERB\n",
            "to --> PART\n",
            "play --> VERB\n",
            "basketball --> NOUN\n"
          ]
        }
      ]
    },
    {
      "cell_type": "code",
      "metadata": {
        "id": "uqwrCWkRt-dC",
        "colab": {
          "base_uri": "https://localhost:8080/"
        },
        "outputId": "1c35bd3d-68f9-45bc-824a-0c68f12910b2"
      },
      "source": [
        "# dependency parsing\n",
        "for token in doc:\n",
        "    print(token.text, \"-->\", token.dep_)"
      ],
      "execution_count": null,
      "outputs": [
        {
          "output_type": "stream",
          "name": "stdout",
          "text": [
            "He --> nsubj\n",
            "went --> ROOT\n",
            "to --> aux\n",
            "play --> advcl\n",
            "basketball --> dobj\n"
          ]
        }
      ]
    },
    {
      "cell_type": "markdown",
      "metadata": {
        "id": "7U9fluukX_gR"
      },
      "source": [
        "The dependency tag ROOT denotes the main verb or action in the sentence. The other words are directly or indirectly connected to the ROOT word of the sentence. "
      ]
    },
    {
      "cell_type": "code",
      "metadata": {
        "colab": {
          "base_uri": "https://localhost:8080/"
        },
        "id": "PARcnFK7X7Jg",
        "outputId": "89b376cf-6750-4a6f-fba5-df74268e74db"
      },
      "source": [
        "spacy.explain(\"nsubj\"), spacy.explain(\"ROOT\"), spacy.explain(\"aux\"), spacy.explain(\"advcl\"), spacy.explain(\"dobj\")\n"
      ],
      "execution_count": null,
      "outputs": [
        {
          "output_type": "execute_result",
          "data": {
            "text/plain": [
              "('nominal subject',\n",
              " None,\n",
              " 'auxiliary',\n",
              " 'adverbial clause modifier',\n",
              " 'direct object')"
            ]
          },
          "metadata": {},
          "execution_count": 107
        }
      ]
    },
    {
      "cell_type": "markdown",
      "metadata": {
        "id": "K3jiHE_0YBX4"
      },
      "source": [
        "#3. Named Entity Recognition using spaCy"
      ]
    },
    {
      "cell_type": "markdown",
      "metadata": {
        "id": "V_xnDgCNYEsB"
      },
      "source": [
        "Entities are the words or groups of words that represent information about common things such as persons, locations, organizations, etc. These entities have proper names."
      ]
    },
    {
      "cell_type": "code",
      "metadata": {
        "colab": {
          "base_uri": "https://localhost:8080/"
        },
        "id": "WYLqvpVKX8kY",
        "outputId": "7b58159c-b011-4e0a-fdab-da32e989fe55"
      },
      "source": [
        "doc = nlp(\"Indians spent over $71 billion on clothes in 2018\")\n",
        " \n",
        "for ent in doc.ents:\n",
        "    print(ent.text, ent.label_)"
      ],
      "execution_count": null,
      "outputs": [
        {
          "output_type": "stream",
          "name": "stdout",
          "text": [
            "Indians NORP\n",
            "over $71 billion MONEY\n",
            "2018 DATE\n"
          ]
        }
      ]
    },
    {
      "cell_type": "code",
      "metadata": {
        "colab": {
          "base_uri": "https://localhost:8080/",
          "height": 35
        },
        "id": "rXdoqgr0YI2w",
        "outputId": "03caa525-147d-4f25-ae89-6b6da26d0bc9"
      },
      "source": [
        "spacy.explain(\"NORP\")"
      ],
      "execution_count": null,
      "outputs": [
        {
          "output_type": "execute_result",
          "data": {
            "application/vnd.google.colaboratory.intrinsic+json": {
              "type": "string"
            },
            "text/plain": [
              "'Nationalities or religious or political groups'"
            ]
          },
          "metadata": {},
          "execution_count": 109
        }
      ]
    },
    {
      "cell_type": "markdown",
      "metadata": {
        "id": "KGqV6TCoYMnh"
      },
      "source": [
        "#4. Rule-Based Matching using spaCy !!!!"
      ]
    },
    {
      "cell_type": "markdown",
      "metadata": {
        "id": "QaVZ7N7sYPgA"
      },
      "source": [
        "Rule-based matching is a new addition to spaCy’s arsenal. With this spaCy matcher, you can find words and phrases in the text using user-defined rules."
      ]
    },
    {
      "cell_type": "code",
      "metadata": {
        "id": "ZBxQC7XPYMCY"
      },
      "source": [
        "import spacy\n",
        "nlp = spacy.load('en_core_web_sm')\n",
        "\n",
        "# Import spaCy Matcher\n",
        "from spacy.matcher import Matcher\n",
        "\n",
        "# Initialize the matcher with the spaCy vocabulary\n",
        "matcher = Matcher(nlp.vocab)\n",
        "\n",
        "doc = nlp(\"Some people start their day with lemon water\")\n",
        "\n",
        "# Define rule\n",
        "pattern = [{'TEXT': 'lemon'}, {'TEXT': 'water'}]\n",
        "\n",
        "# Add rule\n",
        "matcher.add('rule_1', None, pattern)"
      ],
      "execution_count": null,
      "outputs": []
    },
    {
      "cell_type": "code",
      "metadata": {
        "id": "RxdtoSETYsYq",
        "colab": {
          "base_uri": "https://localhost:8080/"
        },
        "outputId": "0a013019-51d1-4226-c92b-22a618693876"
      },
      "source": [
        "matches = matcher(doc)\n",
        "matches"
      ],
      "execution_count": null,
      "outputs": [
        {
          "output_type": "execute_result",
          "data": {
            "text/plain": [
              "[(7604275899133490726, 6, 8)]"
            ]
          },
          "metadata": {},
          "execution_count": 2
        }
      ]
    },
    {
      "cell_type": "code",
      "metadata": {
        "id": "q6W2bgpBYtvw",
        "colab": {
          "base_uri": "https://localhost:8080/"
        },
        "outputId": "40892405-8206-418b-c037-da8d5992ae35"
      },
      "source": [
        "\n",
        "# Extract matched text\n",
        "for match_id, start, end in matches:\n",
        "    # Get the matched span\n",
        "    matched_span = doc[start:end]\n",
        "    print(matched_span.text)"
      ],
      "execution_count": null,
      "outputs": [
        {
          "output_type": "stream",
          "name": "stdout",
          "text": [
            "lemon water\n"
          ]
        }
      ]
    },
    {
      "cell_type": "markdown",
      "metadata": {
        "id": "0JSAd2LcWyu4"
      },
      "source": [
        "#_________________________________________________________________________"
      ]
    },
    {
      "cell_type": "markdown",
      "metadata": {
        "id": "mPH6RWGk4DuQ"
      },
      "source": [
        "#Natural Language Processing With Python's NLTK Package"
      ]
    },
    {
      "cell_type": "code",
      "metadata": {
        "id": "H0-VqVU35iAP"
      },
      "source": [
        "!python -m pip install nltk==3.5"
      ],
      "execution_count": null,
      "outputs": []
    },
    {
      "cell_type": "markdown",
      "metadata": {
        "id": "T7Zg1jYN6ACw"
      },
      "source": [
        "#Tokenizing"
      ]
    },
    {
      "cell_type": "code",
      "metadata": {
        "id": "v_AC0iRAqevn"
      },
      "source": [
        "import nltk\n",
        "nltk.download('punkt')"
      ],
      "execution_count": null,
      "outputs": []
    },
    {
      "cell_type": "code",
      "metadata": {
        "id": "2GF8sjKi59NP"
      },
      "source": [
        "from nltk.tokenize import sent_tokenize, word_tokenize"
      ],
      "execution_count": null,
      "outputs": []
    },
    {
      "cell_type": "code",
      "metadata": {
        "id": "4yCOVxN0p-QX"
      },
      "source": [
        "file_name = '/content/oneplus.txt'\n",
        "doc = open(file_name).read()"
      ],
      "execution_count": null,
      "outputs": []
    },
    {
      "cell_type": "markdown",
      "metadata": {
        "id": "GSZNOTkCqqGm"
      },
      "source": [
        "Use sent_tokenize() to split up doc into sentences:"
      ]
    },
    {
      "cell_type": "code",
      "metadata": {
        "id": "1yibq5J_qPBH"
      },
      "source": [
        "sent_tokenize(doc)"
      ],
      "execution_count": null,
      "outputs": []
    },
    {
      "cell_type": "code",
      "metadata": {
        "id": "-GGTObjPrR73"
      },
      "source": [
        "doc_quote = word_tokenize(doc)"
      ],
      "execution_count": null,
      "outputs": []
    },
    {
      "cell_type": "code",
      "metadata": {
        "id": "QgdMvzmMsQ63"
      },
      "source": [
        "doc_quote"
      ],
      "execution_count": null,
      "outputs": []
    },
    {
      "cell_type": "markdown",
      "metadata": {
        "id": "FossT05Hraa-"
      },
      "source": [
        "#Filtering Stop Words"
      ]
    },
    {
      "cell_type": "code",
      "metadata": {
        "id": "EopD0MEmrYmg"
      },
      "source": [
        "nltk.download(\"stopwords\")\n",
        "from nltk.corpus import stopwords\n",
        "from nltk.tokenize import word_tokenize"
      ],
      "execution_count": null,
      "outputs": []
    },
    {
      "cell_type": "code",
      "metadata": {
        "id": "4-R4CVZurmke"
      },
      "source": [
        "stop_words = set(stopwords.words(\"english\"))"
      ],
      "execution_count": null,
      "outputs": []
    },
    {
      "cell_type": "code",
      "metadata": {
        "id": "6yg0WuEiroNv"
      },
      "source": [
        "#an empty list to hold the words that make it past the filter:\n",
        "filtered_list = []"
      ],
      "execution_count": null,
      "outputs": []
    },
    {
      "cell_type": "markdown",
      "metadata": {
        "id": "uHbQPdiPr1HL"
      },
      "source": [
        "an empty list, filtered_list, to hold all the words in words_in_quote that aren’t stop words. Now you can use stop_words to filter words_in_quote:"
      ]
    },
    {
      "cell_type": "code",
      "metadata": {
        "id": "jN3XHcS5r19G"
      },
      "source": [
        "for word in doc_quote:\n",
        "  if word.casefold() not in stop_words:\n",
        "    filtered_list.append(word)"
      ],
      "execution_count": null,
      "outputs": []
    },
    {
      "cell_type": "markdown",
      "metadata": {
        "id": "ACzxfqO_sfY2"
      },
      "source": [
        "Alternatively, you could use a list comprehension to make a list of all the words in your text that aren’t stop words:"
      ]
    },
    {
      "cell_type": "code",
      "metadata": {
        "id": "nVPQ2vd1sgQW"
      },
      "source": [
        "filtered_list"
      ],
      "execution_count": null,
      "outputs": []
    },
    {
      "cell_type": "markdown",
      "metadata": {
        "id": "nBhNXqfvsq72"
      },
      "source": [
        "- Content words give you information about the topics covered in the text or the sentiment that the author has about those topics.\n",
        "\n",
        "- Context words give you information about writing style. You can observe patterns in how authors use context words in order to quantify their writing style. Once you’ve quantified their writing style, you can analyze a text written by an unknown author to see how closely it follows a particular writing style so you can try to identify who the author is.\n",
        "\n"
      ]
    },
    {
      "cell_type": "markdown",
      "metadata": {
        "id": "N49RMlSCs4i4"
      },
      "source": [
        "#Stemming"
      ]
    },
    {
      "cell_type": "markdown",
      "metadata": {
        "id": "l5jUidM0s7T2"
      },
      "source": [
        "Stemming is a text processing task in which you reduce words to their root, which is the core part of a word. For example, the words “helping” and “helper” share the root “help.” Stemming allows you to zero in on the basic meaning of a word rather than all the details of how it’s being used. NLTK has more than one stemmer, but you’ll be using the Porter stemmer."
      ]
    },
    {
      "cell_type": "code",
      "metadata": {
        "id": "Gd-obUVOsvDv"
      },
      "source": [
        "from nltk.stem import PorterStemmer\n",
        "from nltk.tokenize import word_tokenize"
      ],
      "execution_count": null,
      "outputs": []
    },
    {
      "cell_type": "code",
      "metadata": {
        "id": "hgHKpYgAt4VO"
      },
      "source": [
        "stemmer = PorterStemmer()"
      ],
      "execution_count": null,
      "outputs": []
    },
    {
      "cell_type": "code",
      "metadata": {
        "id": "29-eungOt7Qg"
      },
      "source": [
        "string_for_stemming = \"\"\"\n",
        "Wake up to reality! Nothing ever goes as planned in this world. \n",
        "The longer you live, the more you realize that in this reality only \n",
        "pain, \n",
        "suffering and futility exist. – Madara Uchiha \"\"\""
      ],
      "execution_count": null,
      "outputs": []
    },
    {
      "cell_type": "markdown",
      "metadata": {
        "id": "XPwqFlkyuNSQ"
      },
      "source": [
        "eparate all the words in it:"
      ]
    },
    {
      "cell_type": "code",
      "metadata": {
        "id": "xb3BURBRuJqW"
      },
      "source": [
        "words = word_tokenize(string_for_stemming)"
      ],
      "execution_count": null,
      "outputs": []
    },
    {
      "cell_type": "markdown",
      "metadata": {
        "id": "JgclgZCQuX8l"
      },
      "source": [
        "a list of the stemmed versions of the words in words by using stemmer.stem() in a list comprehension:"
      ]
    },
    {
      "cell_type": "code",
      "metadata": {
        "id": "ERoXbLfLuOGm"
      },
      "source": [
        "stemmed_words = [stemmer.stem(word) for word in words]"
      ],
      "execution_count": null,
      "outputs": []
    },
    {
      "cell_type": "code",
      "metadata": {
        "id": "q9BKnPxcub4m"
      },
      "source": [
        "stemmed_words"
      ],
      "execution_count": null,
      "outputs": []
    },
    {
      "cell_type": "markdown",
      "metadata": {
        "id": "5ve_7vIjugnP"
      },
      "source": [
        "- Understemming \n",
        " - happens when two related words should be reduced to the same stem but aren’t. This is a false negative.\n",
        "- Overstemming \n",
        " - happens when two unrelated words are reduced to the same stem even though they shouldn’t be. This is a false positive."
      ]
    },
    {
      "cell_type": "markdown",
      "metadata": {
        "id": "wbnOE0i7uuJo"
      },
      "source": [
        "#Tagging Parts of Speech"
      ]
    },
    {
      "cell_type": "markdown",
      "metadata": {
        "id": "W30jcd4uuyUd"
      },
      "source": [
        "Part of speech is a grammatical term that deals with the roles words play when you use them together in sentences. Tagging parts of speech, or POS tagging, is the task of labeling the words in your text according to their part of speech."
      ]
    },
    {
      "cell_type": "markdown",
      "metadata": {
        "id": "0aY3g8xdu7fO"
      },
      "source": [
        "####NLTK uses the word determiner to refer to articles."
      ]
    },
    {
      "cell_type": "code",
      "metadata": {
        "id": "bZGuyvUKupQ2"
      },
      "source": [
        "from nltk.tokenize import word_tokenize"
      ],
      "execution_count": null,
      "outputs": []
    },
    {
      "cell_type": "code",
      "metadata": {
        "id": "Tb8lO6hTvhie"
      },
      "source": [
        "string_for_tagging = \"\"\"\n",
        "Wake up to reality! Nothing ever goes as planned in this world. \n",
        "The longer you live, the more you realize that in this reality only \n",
        "pain, \n",
        "suffering and futility exist. – Madara Uchiha \"\"\""
      ],
      "execution_count": null,
      "outputs": []
    },
    {
      "cell_type": "markdown",
      "metadata": {
        "id": "q1QZqSLHv1SW"
      },
      "source": [
        "Use word_tokenize to separate the words in that string and store them in a list:"
      ]
    },
    {
      "cell_type": "code",
      "metadata": {
        "id": "DFzA0vVtvnQG"
      },
      "source": [
        "words_in_sagan_quote = word_tokenize(string_for_tagging)"
      ],
      "execution_count": null,
      "outputs": []
    },
    {
      "cell_type": "markdown",
      "metadata": {
        "id": "gUBElRmlvzjl"
      },
      "source": [
        "nltk.pos_tag() on your new list of words:\n",
        "\n"
      ]
    },
    {
      "cell_type": "code",
      "metadata": {
        "id": "UJwNIdOvv7bE"
      },
      "source": [
        "\"\"\"\n",
        "LookupError: \n",
        "**********************************************************************\n",
        "  Resource averaged_perceptron_tagger not found.\n",
        "  Please use the NLTK Downloader to obtain the resource:\n",
        "\n",
        "\"\"\"\n",
        "import nltk\n",
        "nltk.download('averaged_perceptron_tagger')"
      ],
      "execution_count": null,
      "outputs": []
    },
    {
      "cell_type": "code",
      "metadata": {
        "id": "1vwKPPxnvvLt"
      },
      "source": [
        "import nltk\n",
        "nltk.pos_tag(words_in_sagan_quote)"
      ],
      "execution_count": null,
      "outputs": []
    },
    {
      "cell_type": "markdown",
      "metadata": {
        "id": "HeWE2F5MwLE3"
      },
      "source": [
        "- the words in the quote are now in a separate tuple, with a tag that represents their part of speech. "
      ]
    },
    {
      "cell_type": "markdown",
      "metadata": {
        "id": "Br63Ap5xwQpF"
      },
      "source": [
        "#How to get a list of tags and their meanings:"
      ]
    },
    {
      "cell_type": "code",
      "metadata": {
        "id": "oTQTcEhOwX09"
      },
      "source": [
        "\"\"\"LookupError: \n",
        "**********************************************************************\n",
        "  Resource tagsets not found.\n",
        "  Please use the NLTK Downloader to obtain the resource:\n",
        "\"\"\"\n",
        "import nltk\n",
        "nltk.download('tagsets')"
      ],
      "execution_count": null,
      "outputs": []
    },
    {
      "cell_type": "code",
      "metadata": {
        "id": "WnorPc0JwNz0"
      },
      "source": [
        "nltk.help.upenn_tagset()"
      ],
      "execution_count": null,
      "outputs": []
    },
    {
      "cell_type": "markdown",
      "metadata": {
        "id": "Zaz2mSNHwlj2"
      },
      "source": [
        "#What the POS tags mean, you can see that your tagging was fairly successful:\n",
        "\n",
        "- 'pie' was tagged NN because it’s a singular noun.\n",
        "- 'you' was tagged PRP because it’s a personal pronoun.\n",
        "- 'invent' was tagged VB because it’s the base form of a verb."
      ]
    },
    {
      "cell_type": "markdown",
      "metadata": {
        "id": "27GXRQkIw-5N"
      },
      "source": [
        "#Lemmatizing"
      ]
    },
    {
      "cell_type": "markdown",
      "metadata": {
        "id": "fz8k2xm4xDCN"
      },
      "source": [
        "- Like stemming, lemmatizing reduces words to their core meaning, but it will give you a complete English word that makes sense on its own instead of just a fragment of a word like 'discoveri'."
      ]
    },
    {
      "cell_type": "markdown",
      "metadata": {
        "id": "PjHuDcU1xLY2"
      },
      "source": [
        "#Note: A lemma is a word that represents a whole group of words, and that group of words is called a lexeme.\n",
        "\n",
        "For example, if you were to look up the word “blending” in a dictionary, then you’d need to look at the entry for “blend,” but you would find “blending” listed in that entry.\n",
        "\n",
        "In this example, “blend” is the lemma, and “blending” is part of the lexeme. So when you lemmatize a word, you are reducing it to its lemma."
      ]
    },
    {
      "cell_type": "code",
      "metadata": {
        "id": "Uqlct7PuwlEV"
      },
      "source": [
        "from nltk.stem import WordNetLemmatizer"
      ],
      "execution_count": null,
      "outputs": []
    },
    {
      "cell_type": "code",
      "metadata": {
        "id": "-pGchrkh4BNn"
      },
      "source": [
        "#Create a lemmatizer to use:\n",
        "\n",
        "lemmatizer = WordNetLemmatizer()"
      ],
      "execution_count": null,
      "outputs": []
    },
    {
      "cell_type": "code",
      "metadata": {
        "id": "kJ5NB1q74C63"
      },
      "source": [
        "\"\"\" Resource wordnet not found.\n",
        "  Please use the NLTK Downloader to obtain the resource:\n",
        "\n",
        "  >>> import nltk\n",
        "  >>> nltk.download('wordnet')\n",
        "\"\"\"\n",
        "\n",
        "import nltk\n",
        "nltk.download('wordnet')\n",
        "#Let’s start with lemmatizing a plural noun:\n",
        "\n",
        "lemmatizer.lemmatize(\"scarves\")"
      ],
      "execution_count": null,
      "outputs": []
    },
    {
      "cell_type": "code",
      "metadata": {
        "id": "CRMjGqFUav0b"
      },
      "source": [
        "string_for_lemmatizing = \"When a man learns to love, he must bear the risk of hatred and The friends of DeSoto love scarves.\""
      ],
      "execution_count": null,
      "outputs": []
    },
    {
      "cell_type": "code",
      "metadata": {
        "id": "klyptrOlbCNz"
      },
      "source": [
        "#Now tokenize that string by word:\n",
        "words = word_tokenize(string_for_lemmatizing)"
      ],
      "execution_count": null,
      "outputs": []
    },
    {
      "cell_type": "code",
      "metadata": {
        "id": "E_4HhP2bbGIq"
      },
      "source": [
        "words"
      ],
      "execution_count": null,
      "outputs": []
    },
    {
      "cell_type": "markdown",
      "metadata": {
        "id": "3quhHwBYbewL"
      },
      "source": [
        "Create a list containing all the words in words after they’ve been lemmatized:"
      ]
    },
    {
      "cell_type": "code",
      "metadata": {
        "id": "UgjTiylfbfWD"
      },
      "source": [
        "lemmatized_words = [lemmatizer.lemmatize(word) for word in words]\n"
      ],
      "execution_count": null,
      "outputs": []
    },
    {
      "cell_type": "code",
      "metadata": {
        "id": "8Cm0p8wybjYb"
      },
      "source": [
        "lemmatized_words"
      ],
      "execution_count": null,
      "outputs": []
    },
    {
      "cell_type": "code",
      "metadata": {
        "id": "fau95854bxkb"
      },
      "source": [
        "lemmatizer.lemmatize(\"hatred\")"
      ],
      "execution_count": null,
      "outputs": []
    },
    {
      "cell_type": "markdown",
      "metadata": {
        "id": "8zvwymx1ceDD"
      },
      "source": [
        "###Treated as an adjective by adding the parameter pos=\"a\". "
      ]
    },
    {
      "cell_type": "code",
      "metadata": {
        "id": "g1ZcLbkGcA5L"
      },
      "source": [
        "lemmatizer.lemmatize(\"worst\", pos=\"a\")"
      ],
      "execution_count": null,
      "outputs": []
    },
    {
      "cell_type": "code",
      "metadata": {
        "id": "HbElB5Jtb3dL"
      },
      "source": [
        "lemmatizer.lemmatize(\"risk\", pos=\"a\")"
      ],
      "execution_count": null,
      "outputs": []
    },
    {
      "cell_type": "markdown",
      "metadata": {
        "id": "7GLUAsmjlG2f"
      },
      "source": [
        "#Chunking | Chinking !!! "
      ]
    },
    {
      "cell_type": "markdown",
      "metadata": {
        "id": "PFkDhog1lMa5"
      },
      "source": [
        "While tokenizing allows you to identify words and sentences, chunking allows you to identify phrases.\n",
        "\n",
        "Note: A phrase is a word or group of words that works as a single unit to perform a grammatical function. Noun phrases are built around a noun.\n",
        "\n",
        "Here are some examples:\n",
        "\n",
        "- “A planet”\n",
        "- “A tilting planet”\n",
        "- “A swiftly tilting planet”"
      ]
    },
    {
      "cell_type": "code",
      "metadata": {
        "id": "PmlLjwEWlHt6"
      },
      "source": [
        "from nltk.tokenize import word_tokenize"
      ],
      "execution_count": null,
      "outputs": []
    },
    {
      "cell_type": "code",
      "metadata": {
        "id": "lajK67UPlF06"
      },
      "source": [
        "#lotr_quote = \"If you don’t share someone’s pain, you can never understand them.” “War brings death.\"\n",
        "lotr_quote = \"It's a dangerous business, Frodo, going out your door.\" "
      ],
      "execution_count": null,
      "outputs": []
    },
    {
      "cell_type": "code",
      "metadata": {
        "id": "06KjN7qzlzsR"
      },
      "source": [
        "#Now tokenize that string by word:\n",
        "\n",
        "\n",
        "words_in_lotr_quote = word_tokenize(lotr_quote)\n",
        "words_in_lotr_quote"
      ],
      "execution_count": null,
      "outputs": []
    },
    {
      "cell_type": "markdown",
      "metadata": {
        "id": "WeG0fG2Bl-F_"
      },
      "source": [
        "- tag those words by part of speech:"
      ]
    },
    {
      "cell_type": "code",
      "metadata": {
        "id": "6uZE_oDpl5qp"
      },
      "source": [
        "nltk.download(\"averaged_perceptron_tagger\")\n",
        "lotr_pos_tags = nltk.pos_tag(words_in_lotr_quote)\n",
        "lotr_pos_tags"
      ],
      "execution_count": null,
      "outputs": []
    },
    {
      "cell_type": "markdown",
      "metadata": {
        "id": "EbqJQIrMmONy"
      },
      "source": [
        "##In order to chunk, you first need to define a chunk grammar.\n",
        "\n",
        "Note: A chunk grammar is a combination of rules on how sentences should be chunked. It often uses regular expressions, or regexes.\n",
        "\n",
        "For this tutorial, you don’t need to know how regular expressions work, but they will definitely come in handy for you in the future if you want to process text."
      ]
    },
    {
      "cell_type": "markdown",
      "metadata": {
        "id": "rQ09JdpTmVJp"
      },
      "source": [
        "Create a chunk grammar with one regular expression rule:\n",
        "\n"
      ]
    },
    {
      "cell_type": "code",
      "metadata": {
        "id": "yodbLLkymPEh"
      },
      "source": [
        "grammar = \"NP: {<DT>?<JJ>*<NN>}\""
      ],
      "execution_count": null,
      "outputs": []
    },
    {
      "cell_type": "markdown",
      "metadata": {
        "id": "FnNQpoR4mdl9"
      },
      "source": [
        "NP stands for noun phrase. of Natural Language Processing with Python—Analyzing Text with the Natural Language Toolkit.\n",
        "\n",
        "According to the rule you created, your chunks:\n",
        "\n",
        "Start with an optional (?) determiner ('DT')\n",
        "Can have any number (*) of adjectives (JJ)\n",
        "End with a noun (<NN>)\n",
        "Create a chunk parser with this grammar:"
      ]
    },
    {
      "cell_type": "code",
      "metadata": {
        "id": "tVo226eimh8Z"
      },
      "source": [
        "chunk_parser = nltk.RegexpParser(grammar)"
      ],
      "execution_count": null,
      "outputs": []
    },
    {
      "cell_type": "code",
      "metadata": {
        "id": "cIlAy1JPmoNi"
      },
      "source": [
        "tree = chunk_parser.parse(lotr_pos_tags)"
      ],
      "execution_count": null,
      "outputs": []
    },
    {
      "cell_type": "markdown",
      "metadata": {
        "id": "fdNgUm6cmyr_"
      },
      "source": [
        "##A visual representation of this tree: !!!!\n"
      ]
    },
    {
      "cell_type": "code",
      "metadata": {
        "id": "OKH5FCFHn0tS"
      },
      "source": [
        "\"\"\"import os\n",
        "import matplotlib as mpl\n",
        "if os.environ.get('DISPLAY','') == '':\n",
        "    print('no display found. Using non-interactive Agg backend')\n",
        "    mpl.use('Agg')\n",
        "import matplotlib.pyplot as plt\n",
        "\"\"\""
      ],
      "execution_count": null,
      "outputs": []
    },
    {
      "cell_type": "code",
      "metadata": {
        "id": "zdubeIcAoS6g"
      },
      "source": [
        "### CREATE VIRTUAL DISPLAY ###\n",
        "!apt-get install -y xvfb # Install X Virtual Frame Buffer\n",
        "import os\n",
        "os.system('Xvfb :1 -screen 0 1600x1200x16  &')    # create virtual display with size 1600x1200 and 16 bit color. Color can be changed to 24 or 8\n",
        "os.environ['DISPLAY']=':1.0'    # tell X clients to use our virtual DISPLAY :1.0."
      ],
      "execution_count": null,
      "outputs": []
    },
    {
      "cell_type": "code",
      "metadata": {
        "id": "oOOpkw4foPQQ"
      },
      "source": [
        "%matplotlib inline\n"
      ],
      "execution_count": null,
      "outputs": []
    },
    {
      "cell_type": "markdown",
      "metadata": {
        "id": "_XN170fUo4F5"
      },
      "source": [
        "### INSTALL GHOSTSCRIPT (Required to display NLTK trees) ###\n"
      ]
    },
    {
      "cell_type": "code",
      "metadata": {
        "id": "qTMgLic9oDHJ"
      },
      "source": [
        "!apt install ghostscript python3-tk\n"
      ],
      "execution_count": null,
      "outputs": []
    },
    {
      "cell_type": "code",
      "metadata": {
        "id": "w7F-Et-Tmrpq"
      },
      "source": [
        "#A visual representation of this tree:\n",
        "\n",
        "#tree.draw()"
      ],
      "execution_count": null,
      "outputs": []
    },
    {
      "cell_type": "code",
      "metadata": {
        "id": "0I_osuHyOgcS"
      },
      "source": [
        ""
      ],
      "execution_count": null,
      "outputs": []
    },
    {
      "cell_type": "markdown",
      "metadata": {
        "id": "W31NhaezO9ah"
      },
      "source": [
        "#Using Named Entity Recognition (NER)  !!!!"
      ]
    },
    {
      "cell_type": "markdown",
      "metadata": {
        "id": "q3nq5ruHPAZS"
      },
      "source": [
        "Named entities are noun phrases that refer to specific locations, people, organizations, and so on. With named entity recognition, you can find the named entities in your texts and also determine what kind of named entity they are.\n",
        "\n",
        "Here’s the list of named entity types from the NLTK book:\n",
        "\n",
        " nltk.ne_chunk() to recognize named entities. Let’s use lotr_pos_tags again to test it out:"
      ]
    },
    {
      "cell_type": "code",
      "metadata": {
        "id": "indeAqEVPCo4"
      },
      "source": [
        "nltk.download(\"maxent_ne_chunker\")\n",
        "nltk.download(\"words\")\n",
        "tree = nltk.ne_chunk(lotr_pos_tags)"
      ],
      "execution_count": null,
      "outputs": []
    },
    {
      "cell_type": "code",
      "metadata": {
        "id": "jTXjj7sbPTSh"
      },
      "source": [
        "quote = \"\"\"The world isn’t perfect. But it’s there for us, doing the best it can….that’s what makes it so damn beautiful.\n",
        "Fear is not evil. It tells you what your weakness is. And once you know your weakness, you can become stronger as well\n",
        "To know sorrow is not terrifying. What is terrifying is to know you can’t go back to happiness you could have.\n",
        "Knowing you’re different is only the beginning. If you accept these differences you’ll be able to get past them\"\"\""
      ],
      "execution_count": null,
      "outputs": []
    },
    {
      "cell_type": "markdown",
      "metadata": {
        "id": "B2udzVx5P-Mp"
      },
      "source": [
        "###Now create a function to extract named entities:"
      ]
    },
    {
      "cell_type": "code",
      "metadata": {
        "id": "yxiKWJaeP527"
      },
      "source": [
        "def extract_ne(quote):\n",
        "  words = word_tokenize(quote, language=\"english\") # !!!!\n",
        "  tags = nltk.pos_tag(words)\n",
        "  tree = nltk.ne_chunk(tags, binary=True)\n",
        "  return set(\" \".join(i[0] for i in t)\n",
        "      for t in tree\n",
        "      if hasattr(t, \"label\") and t.label() == \"NE\"\n",
        "     )"
      ],
      "execution_count": null,
      "outputs": []
    },
    {
      "cell_type": "markdown",
      "metadata": {
        "id": "Zr-RRp4UQXjQ"
      },
      "source": [
        "gather all named entities, with no repeats. In order to do that, you tokenize by word, apply part of speech tags to those words, and then extract named entities based on those tags. Because you included binary=True, the named entities you’ll get won’t be labeled more specifically. You’ll just know that they’re named entities."
      ]
    },
    {
      "cell_type": "code",
      "metadata": {
        "id": "hbR9zXttQYe5"
      },
      "source": [
        "extract_ne(quote) # !!!!!"
      ],
      "execution_count": null,
      "outputs": []
    },
    {
      "cell_type": "markdown",
      "metadata": {
        "id": "LI0WuKjiWSoB"
      },
      "source": [
        ""
      ]
    },
    {
      "cell_type": "markdown",
      "metadata": {
        "id": "2iKJQcxlTGbp"
      },
      "source": [
        "#Getting Text to Analyze"
      ]
    },
    {
      "cell_type": "markdown",
      "metadata": {
        "id": "I4PUTPszTIb5"
      },
      "source": [
        " A group of texts is called a corpus. NLTK provides several corpora covering everything from novels hosted by Project Gutenberg to inaugural speeches by presidents of the United States.\n",
        "\n",
        "In order to analyze texts in NLTK, you first need to import them. This requires nltk.download(\"book\"), which is a pretty big download:"
      ]
    },
    {
      "cell_type": "code",
      "metadata": {
        "id": "Vj0qxUwOTQpY"
      },
      "source": [
        "nltk.download(\"book\")\n",
        "from nltk.book import *"
      ],
      "execution_count": null,
      "outputs": []
    },
    {
      "cell_type": "markdown",
      "metadata": {
        "id": "e3rPxKs8TejR"
      },
      "source": [
        "###Using a Concordance"
      ]
    },
    {
      "cell_type": "markdown",
      "metadata": {
        "id": "ILFTTNjlTi0x"
      },
      "source": [
        "A concordance, you can see each time a word is used, along with its immediate context. This can give you a peek into how a word is being used at the sentence level and what words are used with it.\n",
        "\n",
        "Let’s see what these good people looking for love have to say! The personals corpus is called text8, so we’re going to call .concordance() on it with the parameter \"man\""
      ]
    },
    {
      "cell_type": "code",
      "metadata": {
        "id": "v-uxZ-SJTduR"
      },
      "source": [
        "text8.concordance(\"man\")"
      ],
      "execution_count": null,
      "outputs": []
    },
    {
      "cell_type": "markdown",
      "metadata": {
        "id": "1Xp1VRd4TrAZ"
      },
      "source": [
        "Interestingly, the last three of those fourteen matches have to do with seeking an honest man, specifically:\n",
        "\n",
        "SEEKING HONEST MAN\n",
        "Seeks 35 - 45 , honest man with good SOH & similar interests\n",
        "genuine , caring , honest and normal man for fship , poss rship"
      ]
    },
    {
      "cell_type": "code",
      "metadata": {
        "id": "YnPap0WZTu3q"
      },
      "source": [
        "text8.concordance(\"woman\")"
      ],
      "execution_count": null,
      "outputs": []
    },
    {
      "cell_type": "markdown",
      "metadata": {
        "id": "qmBfnPa5T3ex"
      },
      "source": [
        "Dipping into a corpus with a concordance won’t give you the full picture, but it can still be interesting to take a peek and see if anything stands out."
      ]
    },
    {
      "cell_type": "markdown",
      "metadata": {
        "id": "bKOaGVLcTq5w"
      },
      "source": [
        "#Making a Dispersion Plot"
      ]
    },
    {
      "cell_type": "code",
      "metadata": {
        "id": "8uvxfHaNT3BZ"
      },
      "source": [
        "text8.dispersion_plot(\n",
        "    [\"woman\", \"lady\", \"girl\", \"gal\", \"man\", \"gentleman\", \"boy\", \"guy\"]\n",
        "    )"
      ],
      "execution_count": null,
      "outputs": []
    },
    {
      "cell_type": "markdown",
      "metadata": {
        "id": "lwJcpz6YT_8a"
      },
      "source": [
        "- \"lady\" was used a lot more than \"woman\" or \"girl\". There were no instances of \"gal\".\n",
        "- \"man\" and \"guy\" were used a similar number of times and were more common than \"gentleman\" or \"boy\"."
      ]
    },
    {
      "cell_type": "code",
      "metadata": {
        "id": "h3MfyebSUCeo"
      },
      "source": [
        "text2.dispersion_plot([\"Allenham\", \"Whitwell\", \"Cleveland\", \"Combe\"])\n"
      ],
      "execution_count": null,
      "outputs": []
    },
    {
      "cell_type": "markdown",
      "metadata": {
        "id": "-ImkK4REUImo"
      },
      "source": [
        "- Allenham is the home of Willoughby’s benefactress and comes up a lot when Marianne is first interested in him.\n",
        "- Cleveland is a home that Marianne stays at after she goes to see Willoughby in London and things go wrong.\n",
        "\n",
        "- Dispersion plots are just one type of visualization you can make for textual data. The next one you’ll take a look at is frequency distributions"
      ]
    },
    {
      "cell_type": "markdown",
      "metadata": {
        "id": "D5kyIp8-UQT4"
      },
      "source": [
        "#Making a Frequency Distribution"
      ]
    },
    {
      "cell_type": "code",
      "metadata": {
        "id": "8pVwmqAWUR-S"
      },
      "source": [
        "from nltk import FreqDist"
      ],
      "execution_count": null,
      "outputs": []
    },
    {
      "cell_type": "code",
      "metadata": {
        "id": "hcT3PsFiUVvf"
      },
      "source": [
        "frequency_distribution = FreqDist(text8)\n",
        "print(frequency_distribution)"
      ],
      "execution_count": null,
      "outputs": []
    },
    {
      "cell_type": "code",
      "metadata": {
        "id": "aNyi8avpUZZf"
      },
      "source": [
        "frequency_distribution.most_common(20)"
      ],
      "execution_count": null,
      "outputs": []
    },
    {
      "cell_type": "markdown",
      "metadata": {
        "id": "kGZylbWcUiCI"
      },
      "source": [
        " Create a list of all of the words in text8 that aren’t stop words:"
      ]
    },
    {
      "cell_type": "code",
      "metadata": {
        "id": "T_cAi6WQUbio"
      },
      "source": [
        " meaningful_words = [\n",
        "                     word for word in text8 if word.casefold() not in stop_words\n",
        "                     ]"
      ],
      "execution_count": null,
      "outputs": []
    },
    {
      "cell_type": "markdown",
      "metadata": {
        "id": "iRxiWreoUliY"
      },
      "source": [
        "Have a list of all of the words in your corpus that aren’t stop words, make a frequency distribution:"
      ]
    },
    {
      "cell_type": "code",
      "metadata": {
        "id": "_szo5AXTUirQ"
      },
      "source": [
        "frequency_distribution = FreqDist(meaningful_words)"
      ],
      "execution_count": null,
      "outputs": []
    },
    {
      "cell_type": "markdown",
      "metadata": {
        "id": "C9_Hq-C7UsUo"
      },
      "source": [
        "the 20 most common words:\n",
        "\n"
      ]
    },
    {
      "cell_type": "code",
      "metadata": {
        "id": "82ZwWkVaUubY"
      },
      "source": [
        "frequency_distribution.most_common(20)"
      ],
      "execution_count": null,
      "outputs": []
    },
    {
      "cell_type": "markdown",
      "metadata": {
        "id": "J63C3MRVUywh"
      },
      "source": [
        "#Graph:"
      ]
    },
    {
      "cell_type": "markdown",
      "metadata": {
        "id": "carfSde6U8PB"
      },
      "source": [
        "##frequency_distribution"
      ]
    },
    {
      "cell_type": "code",
      "metadata": {
        "id": "A_0eJW7XU4EA"
      },
      "source": [
        "frequency_distribution.plot(20, cumulative=True)"
      ],
      "execution_count": null,
      "outputs": []
    },
    {
      "cell_type": "markdown",
      "metadata": {
        "id": "LWl8bZkkVA6G"
      },
      "source": [
        "Some of the most common words are:\n",
        "\n",
        "- 'lady'\n",
        "- 'seeks'\n",
        "- 'ship'\n",
        "- 'relationship'\n",
        "- 'fun'\n",
        "- 'slim'\n",
        "- 'build'\n",
        "- 'smoker'\n",
        "- '50'\n",
        "- 'non'\n",
        "- 'movies'\n",
        "- 'good'\n",
        "- 'honest'"
      ]
    },
    {
      "cell_type": "markdown",
      "metadata": {
        "id": "QFRMJWxAVJ4A"
      },
      "source": [
        "#Finding Collocations"
      ]
    },
    {
      "cell_type": "markdown",
      "metadata": {
        "id": "HZSUmxM-VM8R"
      },
      "source": [
        "- Syntax tree\n",
        "- Family tree\n",
        "- Decision tree"
      ]
    },
    {
      "cell_type": "markdown",
      "metadata": {
        "id": "QZ19WnD5VSHR"
      },
      "source": [
        "To see pairs of words that come up often in your corpus, you need to call .collocations() on it:"
      ]
    },
    {
      "cell_type": "code",
      "metadata": {
        "id": "D5rNGY5LVJO4"
      },
      "source": [
        "text8.collocations()"
      ],
      "execution_count": null,
      "outputs": []
    },
    {
      "cell_type": "markdown",
      "metadata": {
        "id": "I_X3CkG0VXxg"
      },
      "source": [
        "#Creating a list of the lemmatized versions of all the words in text8:"
      ]
    },
    {
      "cell_type": "code",
      "metadata": {
        "id": "Ibaxw79sVUB5"
      },
      "source": [
        " lemmatized_words = [lemmatizer.lemmatize(word) for word in text8]"
      ],
      "execution_count": null,
      "outputs": []
    },
    {
      "cell_type": "code",
      "metadata": {
        "id": "tegStj0VVW_j"
      },
      "source": [
        "new_text = nltk.Text(lemmatized_words)"
      ],
      "execution_count": null,
      "outputs": []
    },
    {
      "cell_type": "markdown",
      "metadata": {
        "id": "7zBJDD86VjIQ"
      },
      "source": [
        "Here’s how to see the collocations in your new_text:\n",
        "\n"
      ]
    },
    {
      "cell_type": "code",
      "metadata": {
        "id": "C1yxeKxaVj2v"
      },
      "source": [
        "new_text.collocations()"
      ],
      "execution_count": null,
      "outputs": []
    },
    {
      "cell_type": "markdown",
      "metadata": {
        "id": "ZGQTVuq1Vq8g"
      },
      "source": [
        "Compared to your previous list of collocations, this new one is missing a few:\n",
        "\n",
        "- weekends away\n",
        "- poss rship\n",
        "\n",
        "\n",
        "The idea of quiet nights still shows up in the lemmatized version, quiet night. Your latest search for collocations also brought up a few news ones:\n",
        "\n",
        "- year old suggests that users often mention ages.\n",
        "- photo pls suggests that users often request one or more photos.\n",
        "That’s how you can find common word combinations to see what people are talking about and how they’re talking about it!"
      ]
    }
  ]
}