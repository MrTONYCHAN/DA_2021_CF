{
 "cells": [
  {
   "cell_type": "code",
   "execution_count": 1,
   "metadata": {},
   "outputs": [],
   "source": [
    "from selenium import webdriver as wb \n",
    "from selenium.webdriver.support.select import Select\n",
    "from selenium.webdriver.common.keys import Keys\n",
    "import time\n",
    "import csv\n",
    "import pandas as pd\n",
    "from selenium.common.exceptions import NoSuchElementException"
   ]
  },
  {
   "cell_type": "code",
   "execution_count": 2,
   "metadata": {},
   "outputs": [],
   "source": [
    "Name=[]\n",
    "S=[]\n"
   ]
  },
  {
   "cell_type": "code",
   "execution_count": 3,
   "metadata": {},
   "outputs": [],
   "source": [
    "webD=wb.Chrome(executable_path=\"C:\\Local Disk(Personal)\\Insataller\\SeleniumDriver\\\\chromedriver.exe\")\n",
    "webD.maximize_window()\n",
    "#for j in range(1,3):\n",
    "webD.get('https://www.greatschools.org/california/schools/?gradeLevels%5B%5D=e&gradeLevels%5B%5D=h&gradeLevels%5B%5D=m&gradeLevels%5B%5D=p&page=1&sort=rating&view=table')\n",
    "\n",
    "for i in range(1,26):\n",
    "    try:\n",
    "        name=webD.find_element_by_xpath('/html/body/div[5]/div/div/div[3]/section/table/tbody/tr['+str(i)+']/td[1]/span[2]/a')\n",
    "        Name.append(name.text)\n",
    "    except NoSuchElementException:\n",
    "        Name.append(None)\n",
    "\n",
    "    try:\n",
    "        s=webD.find_element_by_xpath('/html/body/div[5]/div/div/div[3]/section/table/tbody/tr['+str(i)+']/td[5]')\n",
    "        S.append(s.text)\n",
    "\n",
    "    except NoSuchElementException:\n",
    "        S.append(None)"
   ]
  },
  {
   "cell_type": "code",
   "execution_count": 4,
   "metadata": {},
   "outputs": [
    {
     "data": {
      "text/plain": [
       "['Great Oak High',\n",
       " 'University Preparatory',\n",
       " 'International Polytechnic High',\n",
       " 'Natomas Pacific Pathways Prep',\n",
       " 'SOAR High (Students On Academic Rise)',\n",
       " 'William & Marian Ghidotti High',\n",
       " 'El Segundo High',\n",
       " 'Dougherty Valley High',\n",
       " 'University High',\n",
       " 'Granite Ridge Intermediate',\n",
       " 'Clovis North High',\n",
       " 'Dr. TJ Owens Gilroy Early College Academy',\n",
       " 'Anderson W. Clark Magnet High',\n",
       " 'Valley View Elementary',\n",
       " 'Hermosa View Elementary',\n",
       " 'Balboa Gifted/High Ability Magnet Elementary',\n",
       " 'Francisco Bravo Medical Magnet High',\n",
       " 'Downtown Business High',\n",
       " 'Middle College High',\n",
       " 'Carmel Valley Middle',\n",
       " 'Pacific Collegiate Charter',\n",
       " 'Academy of the Canyons',\n",
       " 'Ocsa',\n",
       " 'Middle College High',\n",
       " 'Redwood Academy of Ukiah']"
      ]
     },
     "execution_count": 4,
     "metadata": {},
     "output_type": "execute_result"
    }
   ],
   "source": [
    "Name"
   ]
  },
  {
   "cell_type": "code",
   "execution_count": null,
   "metadata": {},
   "outputs": [],
   "source": []
  }
 ],
 "metadata": {
  "kernelspec": {
   "display_name": "Python 3",
   "language": "python",
   "name": "python3"
  },
  "language_info": {
   "codemirror_mode": {
    "name": "ipython",
    "version": 3
   },
   "file_extension": ".py",
   "mimetype": "text/x-python",
   "name": "python",
   "nbconvert_exporter": "python",
   "pygments_lexer": "ipython3",
   "version": "3.8.5"
  }
 },
 "nbformat": 4,
 "nbformat_minor": 4
}
