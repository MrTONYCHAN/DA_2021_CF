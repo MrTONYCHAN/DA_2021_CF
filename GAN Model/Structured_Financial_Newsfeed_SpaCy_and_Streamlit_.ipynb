{
  "nbformat": 4,
  "nbformat_minor": 0,
  "metadata": {
    "colab": {
      "name": "Structured Financial Newsfeed : SpaCy and Streamlit .ipynb",
      "provenance": [],
      "collapsed_sections": [
        "pHfUdbVhq_xP"
      ]
    },
    "kernelspec": {
      "name": "python3",
      "display_name": "Python 3"
    },
    "language_info": {
      "name": "python"
    }
  },
  "cells": [
    {
      "cell_type": "markdown",
      "metadata": {
        "id": "lUHf42uyqIYn"
      },
      "source": [
        "# Structured Financial Newsfeed : SpaCy and Streamlit "
      ]
    },
    {
      "cell_type": "markdown",
      "metadata": {
        "id": "Dr0Orf02wTtB"
      },
      "source": [
        "[https://economictimes.indiatimes.com/rss.cms](https://economictimes.indiatimes.com/rss.cms)"
      ]
    },
    {
      "cell_type": "markdown",
      "metadata": {
        "id": "b15NKJVUDPp5"
      },
      "source": [
        "https://spacy.io/architecture-415624fc7d149ec03f2736c4aa8b8f3c.svg"
      ]
    },
    {
      "cell_type": "markdown",
      "metadata": {
        "id": "1gVNCQrpqTlV"
      },
      "source": [
        "## Natural Language Processing is Named Entity Recognition (NER)."
      ]
    },
    {
      "cell_type": "markdown",
      "metadata": {
        "id": "aZm4RnF7qeFT"
      },
      "source": [
        "### Extract the trending stocks news data"
      ]
    },
    {
      "cell_type": "code",
      "metadata": {
        "id": "IC-Fb9U0qFee"
      },
      "source": [
        "import requests\n",
        "resp = requests.get(\"https://economictimes.indiatimes.com/markets/rssfeeds/1977021501.cms\")\n"
      ],
      "execution_count": 36,
      "outputs": []
    },
    {
      "cell_type": "code",
      "metadata": {
        "colab": {
          "base_uri": "https://localhost:8080/"
        },
        "id": "sUKtwqJKqxdO",
        "outputId": "ca9c62a2-60c4-43b6-a12b-3acc4d887d62"
      },
      "source": [
        "resp"
      ],
      "execution_count": 37,
      "outputs": [
        {
          "output_type": "execute_result",
          "data": {
            "text/plain": [
              "<Response [200]>"
            ]
          },
          "metadata": {},
          "execution_count": 37
        }
      ]
    },
    {
      "cell_type": "markdown",
      "metadata": {
        "id": "8XMeDYIfrGzc"
      },
      "source": [
        "Headlines inside a list:"
      ]
    },
    {
      "cell_type": "markdown",
      "metadata": {
        "id": "V1aAAzP45wRT"
      },
      "source": [
        "\n",
        "\n",
        "```\n",
        "/bs4/doc\n",
        "\n",
        "```\n",
        "(https://www.crummy.com/software/BeautifulSoup/bs4/doc/)\n"
      ]
    },
    {
      "cell_type": "code",
      "metadata": {
        "colab": {
          "base_uri": "https://localhost:8080/"
        },
        "id": "ERprPGZ0q2vb",
        "outputId": "ecda5776-72f3-47a8-c1df-aef6864ad40b"
      },
      "source": [
        "from bs4 import BeautifulSoup\n",
        "soup = BeautifulSoup(resp.content, features='xml')\n",
        "soup.findAll('title')"
      ],
      "execution_count": 38,
      "outputs": [
        {
          "output_type": "execute_result",
          "data": {
            "text/plain": [
              "[<title>Markets-Economic Times</title>,\n",
              " <title>Economic Times</title>,\n",
              " <title>ETMarkets Investors' Guide: Will Indian markets sustain outperformance against the world in 2022?</title>,\n",
              " <title>New global rules leave just 10 big EU banks short of capital, draft shows</title>,\n",
              " <title>Is Nifty nearing the last phase of Dow Theory? Retail frenzy holds the clue</title>,\n",
              " <title>5 world market themes for the week ahead</title>,\n",
              " <title>Wall Street Week Ahead: Tech giants' earnings may be another test for markets at new highs</title>,\n",
              " <title>Stocks end mixed on Wall Street, still notch weekly gains</title>,\n",
              " <title>Sebi may cap ISINs for corporate bonds</title>,\n",
              " <title>RIL net profit jumps 46% in Sept quarter to Rs 15,479 crore</title>,\n",
              " <title>Paytm gets Sebi approval to launch India’s biggest IPO</title>,\n",
              " <title>Petrol and diesel up for fourth straight day. Here's what it will cost you today</title>,\n",
              " <title>IPO-bound Nykaa buys skincare company Dot &amp; Key</title>,\n",
              " <title>RBI caps NBFC IPO funding at Rs 1 crore per borrower from FY23</title>,\n",
              " <title>Ford infuses over Rs 5,000 crore in Indian unit to manage exit costs</title>,\n",
              " <title>Jubilant Pharmova Q2 net dips 3% to Rs 143 crore</title>,\n",
              " <title>Tata Elxsi Q2 profit up 59% to Rs 125 cr</title>,\n",
              " <title>Crompton Greaves Q2 net profit up 12% at Rs 159 cr</title>,\n",
              " <title>Polycab India Q2 consolidated net down 9.49% at Rs 200 crore</title>,\n",
              " <title>Hindustan Zinc Q2 net profit up 4% at Rs 2,017 cr</title>,\n",
              " <title>TCI Express Q2 net profit grows 41% to Rs 34 cr</title>,\n",
              " <title>Deepak Fertilisers raises Rs 510 cr via sale of shares to institutional investors</title>,\n",
              " <title>Aegis Investment Fund buys stake in Muzalis Arts</title>,\n",
              " <title>RBI introduces new rules for NBFCs, caps IPO financing</title>,\n",
              " <title>HDFC Life Q2 profit falls on claims, provisions</title>,\n",
              " <title>CoinSwitch Kuber plans to expand beyond cryptos, onboards Krishna Hegde</title>,\n",
              " <title>RIL Q2 Takeaways: Loss of subscribers for Jio takes sheen off a strong show</title>,\n",
              " <title>Reliance Retail Q2 results: Net profit jumps 74% to Rs 1,695 cr</title>,\n",
              " <title>RBI plans a minimum 11.5% capital adequacy for 4 AIFIs</title>,\n",
              " <title>Jio Platforms Q2 results: Net profit up over 23%; ARPU rises but co loses subscribers</title>,\n",
              " <title>Reliance Industries posts Q2 net profit at Rs 13680 crore, Jio net profit up over 23%</title>,\n",
              " <title>DoT frames rules for overhead fiber laying</title>,\n",
              " <title>RIL Q2 results: Consolidated PAT rises 43% YoY to Rs 13,680 crore, beats estimate</title>,\n",
              " <title>Global factors pose a challenge to India’s growth outlook: MPC</title>,\n",
              " <title>Sebi confirms directions passed against 12 promoters of DHFL</title>,\n",
              " <title>Federal Bank net profit jumped 50% on lower provisions</title>,\n",
              " <title>Yes Bank net profits helped by fall in provisions</title>,\n",
              " <title>Cryptocurrency is gaining worldwide acceptance, here are 5 reasons why</title>,\n",
              " <title>Market Watch: Will there be more pain in the broader market?</title>,\n",
              " <title>Wall Street's main indexes turn lower as Powell talks taper</title>,\n",
              " <title>Tata Consumer Q2 results: Consolidated PAT rises 4% YoY, below estimate</title>,\n",
              " <title>Tech View: Nifty50 forms bearish candle; support seen at 18,050 level</title>,\n",
              " <title>Crude rally, US Treasury yield surge fuel fear RBI may be compelled to tighten rate soon: OIS market</title>,\n",
              " <title>Market Movers: A long, cold winter is setting in for ITC’s stock</title>,\n",
              " <title>Rupee falls ahead of key US data; lack of OMO disappoints gilts; MPC minutes eyed</title>,\n",
              " <title>Pre-IPO placement trouble punishes Paytm shares in unlisted market</title>,\n",
              " <title>If this is a correction, it is much awaited and much needed: Nitin Raheja</title>,\n",
              " <title>Sensex  falls! These  stocks fell 5% or more in Friday's session</title>,\n",
              " <title>Biggest gainers &amp; losers of the day: IRB Infra, RVNL hit upper circuit; IIFL Wealth bleeds</title>,\n",
              " <title>Stock market update: Nifty Bank index  advances  0.73%</title>,\n",
              " <title>Stock market update: Nifty IT index  falls  1.44%</title>,\n",
              " <title>Stock market update: Mining stocks  down  as market  falls </title>]"
            ]
          },
          "metadata": {},
          "execution_count": 38
        }
      ]
    },
    {
      "cell_type": "markdown",
      "metadata": {
        "id": "pHfUdbVhq_xP"
      },
      "source": [
        "\n",
        "#NLP into action."
      ]
    },
    {
      "cell_type": "markdown",
      "metadata": {
        "id": "Oxm9GyytrQPN"
      },
      "source": [
        "## Extract entities from the headlines"
      ]
    },
    {
      "cell_type": "markdown",
      "metadata": {
        "id": "GtCLuFBUrZQM"
      },
      "source": [
        "\n",
        "\n",
        "```\n",
        "    Core Models — for general-purpose basic NLP tasks.\n",
        "    Starter Models — for niche applications that require transfer learning. We can leverage the model’s learned \n",
        "    weights to fine-tune our custom models without having to train the model from scratch.\n",
        "```\n",
        "\n"
      ]
    },
    {
      "cell_type": "code",
      "metadata": {
        "colab": {
          "base_uri": "https://localhost:8080/"
        },
        "id": "xLUrXbdRrisA",
        "outputId": "8e10c38e-c291-4a7e-f8a0-2c3a8f1e043b"
      },
      "source": [
        "!pip install -U pip setuptools wheel\n",
        "!pip install -U spacy\n",
        "!python -m spacy download en_core_web_sm"
      ],
      "execution_count": 39,
      "outputs": [
        {
          "output_type": "stream",
          "name": "stdout",
          "text": [
            "Requirement already satisfied: pip in /usr/local/lib/python3.7/dist-packages (21.3.1)\n",
            "Requirement already satisfied: setuptools in /usr/local/lib/python3.7/dist-packages (58.3.0)\n",
            "Requirement already satisfied: wheel in /usr/local/lib/python3.7/dist-packages (0.37.0)\n",
            "\u001b[33mWARNING: Running pip as the 'root' user can result in broken permissions and conflicting behaviour with the system package manager. It is recommended to use a virtual environment instead: https://pip.pypa.io/warnings/venv\u001b[0m\n",
            "Requirement already satisfied: spacy in /usr/local/lib/python3.7/dist-packages (3.1.3)\n",
            "Requirement already satisfied: preshed<3.1.0,>=3.0.2 in /usr/local/lib/python3.7/dist-packages (from spacy) (3.0.5)\n",
            "Requirement already satisfied: typing-extensions<4.0.0.0,>=3.7.4 in /usr/local/lib/python3.7/dist-packages (from spacy) (3.7.4.3)\n",
            "Requirement already satisfied: spacy-legacy<3.1.0,>=3.0.8 in /usr/local/lib/python3.7/dist-packages (from spacy) (3.0.8)\n",
            "Requirement already satisfied: tqdm<5.0.0,>=4.38.0 in /usr/local/lib/python3.7/dist-packages (from spacy) (4.62.3)\n",
            "Requirement already satisfied: jinja2 in /usr/local/lib/python3.7/dist-packages (from spacy) (2.11.3)\n",
            "Requirement already satisfied: pydantic!=1.8,!=1.8.1,<1.9.0,>=1.7.4 in /usr/local/lib/python3.7/dist-packages (from spacy) (1.8.2)\n",
            "Requirement already satisfied: blis<0.8.0,>=0.4.0 in /usr/local/lib/python3.7/dist-packages (from spacy) (0.4.1)\n",
            "Requirement already satisfied: numpy>=1.15.0 in /usr/local/lib/python3.7/dist-packages (from spacy) (1.19.5)\n",
            "Requirement already satisfied: setuptools in /usr/local/lib/python3.7/dist-packages (from spacy) (58.3.0)\n",
            "Requirement already satisfied: packaging>=20.0 in /usr/local/lib/python3.7/dist-packages (from spacy) (21.0)\n",
            "Requirement already satisfied: thinc<8.1.0,>=8.0.9 in /usr/local/lib/python3.7/dist-packages (from spacy) (8.0.11)\n",
            "Requirement already satisfied: srsly<3.0.0,>=2.4.1 in /usr/local/lib/python3.7/dist-packages (from spacy) (2.4.2)\n",
            "Requirement already satisfied: cymem<2.1.0,>=2.0.2 in /usr/local/lib/python3.7/dist-packages (from spacy) (2.0.5)\n",
            "Requirement already satisfied: catalogue<2.1.0,>=2.0.6 in /usr/local/lib/python3.7/dist-packages (from spacy) (2.0.6)\n",
            "Requirement already satisfied: typer<0.5.0,>=0.3.0 in /usr/local/lib/python3.7/dist-packages (from spacy) (0.4.0)\n",
            "Requirement already satisfied: murmurhash<1.1.0,>=0.28.0 in /usr/local/lib/python3.7/dist-packages (from spacy) (1.0.5)\n",
            "Requirement already satisfied: wasabi<1.1.0,>=0.8.1 in /usr/local/lib/python3.7/dist-packages (from spacy) (0.8.2)\n",
            "Requirement already satisfied: requests<3.0.0,>=2.13.0 in /usr/local/lib/python3.7/dist-packages (from spacy) (2.23.0)\n",
            "Requirement already satisfied: pathy>=0.3.5 in /usr/local/lib/python3.7/dist-packages (from spacy) (0.6.0)\n",
            "Requirement already satisfied: zipp>=0.5 in /usr/local/lib/python3.7/dist-packages (from catalogue<2.1.0,>=2.0.6->spacy) (3.6.0)\n",
            "Requirement already satisfied: pyparsing>=2.0.2 in /usr/local/lib/python3.7/dist-packages (from packaging>=20.0->spacy) (2.4.7)\n",
            "Requirement already satisfied: smart-open<6.0.0,>=5.0.0 in /usr/local/lib/python3.7/dist-packages (from pathy>=0.3.5->spacy) (5.2.1)\n",
            "Requirement already satisfied: urllib3!=1.25.0,!=1.25.1,<1.26,>=1.21.1 in /usr/local/lib/python3.7/dist-packages (from requests<3.0.0,>=2.13.0->spacy) (1.24.3)\n",
            "Requirement already satisfied: chardet<4,>=3.0.2 in /usr/local/lib/python3.7/dist-packages (from requests<3.0.0,>=2.13.0->spacy) (3.0.4)\n",
            "Requirement already satisfied: idna<3,>=2.5 in /usr/local/lib/python3.7/dist-packages (from requests<3.0.0,>=2.13.0->spacy) (2.10)\n",
            "Requirement already satisfied: certifi>=2017.4.17 in /usr/local/lib/python3.7/dist-packages (from requests<3.0.0,>=2.13.0->spacy) (2021.5.30)\n",
            "Requirement already satisfied: click<9.0.0,>=7.1.1 in /usr/local/lib/python3.7/dist-packages (from typer<0.5.0,>=0.3.0->spacy) (7.1.2)\n",
            "Requirement already satisfied: MarkupSafe>=0.23 in /usr/local/lib/python3.7/dist-packages (from jinja2->spacy) (2.0.1)\n",
            "\u001b[33mWARNING: Running pip as the 'root' user can result in broken permissions and conflicting behaviour with the system package manager. It is recommended to use a virtual environment instead: https://pip.pypa.io/warnings/venv\u001b[0m\n",
            "Collecting en-core-web-sm==3.1.0\n",
            "  Downloading https://github.com/explosion/spacy-models/releases/download/en_core_web_sm-3.1.0/en_core_web_sm-3.1.0-py3-none-any.whl (13.6 MB)\n",
            "     |████████████████████████████████| 13.6 MB 72 kB/s             \n",
            "\u001b[?25hRequirement already satisfied: spacy<3.2.0,>=3.1.0 in /usr/local/lib/python3.7/dist-packages (from en-core-web-sm==3.1.0) (3.1.3)\n",
            "Requirement already satisfied: pathy>=0.3.5 in /usr/local/lib/python3.7/dist-packages (from spacy<3.2.0,>=3.1.0->en-core-web-sm==3.1.0) (0.6.0)\n",
            "Requirement already satisfied: murmurhash<1.1.0,>=0.28.0 in /usr/local/lib/python3.7/dist-packages (from spacy<3.2.0,>=3.1.0->en-core-web-sm==3.1.0) (1.0.5)\n",
            "Requirement already satisfied: thinc<8.1.0,>=8.0.9 in /usr/local/lib/python3.7/dist-packages (from spacy<3.2.0,>=3.1.0->en-core-web-sm==3.1.0) (8.0.11)\n",
            "Requirement already satisfied: requests<3.0.0,>=2.13.0 in /usr/local/lib/python3.7/dist-packages (from spacy<3.2.0,>=3.1.0->en-core-web-sm==3.1.0) (2.23.0)\n",
            "Requirement already satisfied: jinja2 in /usr/local/lib/python3.7/dist-packages (from spacy<3.2.0,>=3.1.0->en-core-web-sm==3.1.0) (2.11.3)\n",
            "Requirement already satisfied: packaging>=20.0 in /usr/local/lib/python3.7/dist-packages (from spacy<3.2.0,>=3.1.0->en-core-web-sm==3.1.0) (21.0)\n",
            "Requirement already satisfied: wasabi<1.1.0,>=0.8.1 in /usr/local/lib/python3.7/dist-packages (from spacy<3.2.0,>=3.1.0->en-core-web-sm==3.1.0) (0.8.2)\n",
            "Requirement already satisfied: catalogue<2.1.0,>=2.0.6 in /usr/local/lib/python3.7/dist-packages (from spacy<3.2.0,>=3.1.0->en-core-web-sm==3.1.0) (2.0.6)\n",
            "Requirement already satisfied: srsly<3.0.0,>=2.4.1 in /usr/local/lib/python3.7/dist-packages (from spacy<3.2.0,>=3.1.0->en-core-web-sm==3.1.0) (2.4.2)\n",
            "Requirement already satisfied: typer<0.5.0,>=0.3.0 in /usr/local/lib/python3.7/dist-packages (from spacy<3.2.0,>=3.1.0->en-core-web-sm==3.1.0) (0.4.0)\n",
            "Requirement already satisfied: typing-extensions<4.0.0.0,>=3.7.4 in /usr/local/lib/python3.7/dist-packages (from spacy<3.2.0,>=3.1.0->en-core-web-sm==3.1.0) (3.7.4.3)\n",
            "Requirement already satisfied: numpy>=1.15.0 in /usr/local/lib/python3.7/dist-packages (from spacy<3.2.0,>=3.1.0->en-core-web-sm==3.1.0) (1.19.5)\n",
            "Requirement already satisfied: preshed<3.1.0,>=3.0.2 in /usr/local/lib/python3.7/dist-packages (from spacy<3.2.0,>=3.1.0->en-core-web-sm==3.1.0) (3.0.5)\n",
            "Requirement already satisfied: pydantic!=1.8,!=1.8.1,<1.9.0,>=1.7.4 in /usr/local/lib/python3.7/dist-packages (from spacy<3.2.0,>=3.1.0->en-core-web-sm==3.1.0) (1.8.2)\n",
            "Requirement already satisfied: tqdm<5.0.0,>=4.38.0 in /usr/local/lib/python3.7/dist-packages (from spacy<3.2.0,>=3.1.0->en-core-web-sm==3.1.0) (4.62.3)\n",
            "Requirement already satisfied: spacy-legacy<3.1.0,>=3.0.8 in /usr/local/lib/python3.7/dist-packages (from spacy<3.2.0,>=3.1.0->en-core-web-sm==3.1.0) (3.0.8)\n",
            "Requirement already satisfied: setuptools in /usr/local/lib/python3.7/dist-packages (from spacy<3.2.0,>=3.1.0->en-core-web-sm==3.1.0) (58.3.0)\n",
            "Requirement already satisfied: cymem<2.1.0,>=2.0.2 in /usr/local/lib/python3.7/dist-packages (from spacy<3.2.0,>=3.1.0->en-core-web-sm==3.1.0) (2.0.5)\n",
            "Requirement already satisfied: blis<0.8.0,>=0.4.0 in /usr/local/lib/python3.7/dist-packages (from spacy<3.2.0,>=3.1.0->en-core-web-sm==3.1.0) (0.4.1)\n",
            "Requirement already satisfied: zipp>=0.5 in /usr/local/lib/python3.7/dist-packages (from catalogue<2.1.0,>=2.0.6->spacy<3.2.0,>=3.1.0->en-core-web-sm==3.1.0) (3.6.0)\n",
            "Requirement already satisfied: pyparsing>=2.0.2 in /usr/local/lib/python3.7/dist-packages (from packaging>=20.0->spacy<3.2.0,>=3.1.0->en-core-web-sm==3.1.0) (2.4.7)\n",
            "Requirement already satisfied: smart-open<6.0.0,>=5.0.0 in /usr/local/lib/python3.7/dist-packages (from pathy>=0.3.5->spacy<3.2.0,>=3.1.0->en-core-web-sm==3.1.0) (5.2.1)\n",
            "Requirement already satisfied: certifi>=2017.4.17 in /usr/local/lib/python3.7/dist-packages (from requests<3.0.0,>=2.13.0->spacy<3.2.0,>=3.1.0->en-core-web-sm==3.1.0) (2021.5.30)\n",
            "Requirement already satisfied: idna<3,>=2.5 in /usr/local/lib/python3.7/dist-packages (from requests<3.0.0,>=2.13.0->spacy<3.2.0,>=3.1.0->en-core-web-sm==3.1.0) (2.10)\n",
            "Requirement already satisfied: urllib3!=1.25.0,!=1.25.1,<1.26,>=1.21.1 in /usr/local/lib/python3.7/dist-packages (from requests<3.0.0,>=2.13.0->spacy<3.2.0,>=3.1.0->en-core-web-sm==3.1.0) (1.24.3)\n",
            "Requirement already satisfied: chardet<4,>=3.0.2 in /usr/local/lib/python3.7/dist-packages (from requests<3.0.0,>=2.13.0->spacy<3.2.0,>=3.1.0->en-core-web-sm==3.1.0) (3.0.4)\n",
            "Requirement already satisfied: click<9.0.0,>=7.1.1 in /usr/local/lib/python3.7/dist-packages (from typer<0.5.0,>=0.3.0->spacy<3.2.0,>=3.1.0->en-core-web-sm==3.1.0) (7.1.2)\n",
            "Requirement already satisfied: MarkupSafe>=0.23 in /usr/local/lib/python3.7/dist-packages (from jinja2->spacy<3.2.0,>=3.1.0->en-core-web-sm==3.1.0) (2.0.1)\n",
            "\u001b[33mWARNING: Running pip as the 'root' user can result in broken permissions and conflicting behaviour with the system package manager. It is recommended to use a virtual environment instead: https://pip.pypa.io/warnings/venv\u001b[0m\n",
            "\u001b[38;5;2m✔ Download and installation successful\u001b[0m\n",
            "You can now load the package via spacy.load('en_core_web_sm')\n"
          ]
        }
      ]
    },
    {
      "cell_type": "markdown",
      "metadata": {
        "id": "8HUx7WQ7rCfN"
      },
      "source": [
        "    tok2vec — token to vector s(performs tokenization on the textual data),\n",
        "    tagger — adds relevant metadata to each token. spaCy makes use of some statistical models to predict the part of speech (POS) of each token. More in the documentation.\n",
        "    parser — dependency parser establishes relationships among the tokens.\n",
        "    Other components include senter, ner, attribute_ruler, and lemmatizer."
      ]
    },
    {
      "cell_type": "markdown",
      "metadata": {
        "id": "F7-dPmPbsZ-u"
      },
      "source": [
        "extract the text out of <title> tags\n",
        "processed_hline = nlp(headlines[4].text)"
      ]
    },
    {
      "cell_type": "markdown",
      "metadata": {
        "id": "Y0xntf7ysgbk"
      },
      "source": [
        "# The pipeline performs all the tasks from tokenization to NER"
      ]
    },
    {
      "cell_type": "markdown",
      "metadata": {
        "id": "zuUpTgVGsgUT"
      },
      "source": [
        "\n",
        "```\n",
        " we have the tokens first:\n",
        "```\n",
        "\n"
      ]
    },
    {
      "cell_type": "code",
      "metadata": {
        "id": "NLvNrw8U7EIE"
      },
      "source": [
        "import spacy\n",
        "import pandas as pd"
      ],
      "execution_count": 40,
      "outputs": []
    },
    {
      "cell_type": "code",
      "metadata": {
        "id": "H8PgfXQK6spK"
      },
      "source": [
        "nlp = spacy.load(\"en_core_web_sm\")"
      ],
      "execution_count": 41,
      "outputs": []
    },
    {
      "cell_type": "code",
      "metadata": {
        "id": "URM10Mju7u2b"
      },
      "source": [
        "headlines = soup.findAll('title')"
      ],
      "execution_count": 42,
      "outputs": []
    },
    {
      "cell_type": "code",
      "metadata": {
        "colab": {
          "base_uri": "https://localhost:8080/"
        },
        "id": "inqd79mWsVve",
        "outputId": "033d62a8-5bd8-43b6-e80d-688ed07bbad1"
      },
      "source": [
        "print(headlines[4])\n",
        "\n",
        "processed_hline = nlp(headlines[4].text)\n",
        "for token in processed_hline:\n",
        "  print(token)"
      ],
      "execution_count": 44,
      "outputs": [
        {
          "output_type": "stream",
          "name": "stdout",
          "text": [
            "<title>Is Nifty nearing the last phase of Dow Theory? Retail frenzy holds the clue</title>\n",
            "Is\n",
            "Nifty\n",
            "nearing\n",
            "the\n",
            "last\n",
            "phase\n",
            "of\n",
            "Dow\n",
            "Theory\n",
            "?\n",
            "Retail\n",
            "frenzy\n",
            "holds\n",
            "the\n",
            "clue\n"
          ]
        }
      ]
    },
    {
      "cell_type": "code",
      "metadata": {
        "colab": {
          "base_uri": "https://localhost:8080/"
        },
        "id": "zcytjH748DNT",
        "outputId": "725a8bb2-66c1-419c-e13e-c1b8bbc07f8d"
      },
      "source": [
        "print(headlines[9])\n",
        "\n",
        "processed_hline = nlp(headlines[9].text)\n",
        "for token in processed_hline:\n",
        "  print(token)"
      ],
      "execution_count": 45,
      "outputs": [
        {
          "output_type": "stream",
          "name": "stdout",
          "text": [
            "<title>RIL net profit jumps 46% in Sept quarter to Rs 15,479 crore</title>\n",
            "RIL\n",
            "net\n",
            "profit\n",
            "jumps\n",
            "46\n",
            "%\n",
            "in\n",
            "Sept\n",
            "quarter\n",
            "to\n",
            "Rs\n",
            "15,479\n",
            "crore\n"
          ]
        }
      ]
    },
    {
      "cell_type": "markdown",
      "metadata": {
        "id": "sC5RJv5jAJTR"
      },
      "source": [
        "[spacy](https://spacy.io/api/doc)"
      ]
    },
    {
      "cell_type": "markdown",
      "metadata": {
        "id": "ejJEK5WwAvZx"
      },
      "source": [
        "\n",
        "\n",
        "```\n",
        "tok2vec — token to vector s(performs tokenization on the textual data),\n",
        "tagger — adds relevant metadata to each token. spaCy makes use of some statistical models to predict the part of speech (POS) of each token. More in the documentation.\n",
        "parser — dependency parser establishes relationships among the tokens.\n",
        "Other components include senter, ner, attribute_ruler, and lemmatizer```\n",
        "\n"
      ]
    },
    {
      "cell_type": "code",
      "metadata": {
        "colab": {
          "base_uri": "https://localhost:8080/"
        },
        "id": "sE_NpX1K8j01",
        "outputId": "7476a593-87f5-4061-cd9e-ce1edcd5b4f5"
      },
      "source": [
        "for token in processed_hline:\n",
        "  print(token.text, \"---\", token.pos_)"
      ],
      "execution_count": 46,
      "outputs": [
        {
          "output_type": "stream",
          "name": "stdout",
          "text": [
            "RIL --- NUM\n",
            "net --- ADJ\n",
            "profit --- NOUN\n",
            "jumps --- VERB\n",
            "46 --- NUM\n",
            "% --- NOUN\n",
            "in --- ADP\n",
            "Sept --- PROPN\n",
            "quarter --- NOUN\n",
            "to --- ADP\n",
            "Rs --- NOUN\n",
            "15,479 --- NUM\n",
            "crore --- NOUN\n"
          ]
        }
      ]
    },
    {
      "cell_type": "code",
      "metadata": {
        "colab": {
          "base_uri": "https://localhost:8080/"
        },
        "id": "gdyy_0kJ_7CN",
        "outputId": "85551333-5d55-4cc2-a106-6546691b6626"
      },
      "source": [
        "for token in processed_hline:\n",
        "  print(token.text, \"---\", token.pos_, \"---\", token.dep_)"
      ],
      "execution_count": 47,
      "outputs": [
        {
          "output_type": "stream",
          "name": "stdout",
          "text": [
            "RIL --- NUM --- amod\n",
            "net --- ADJ --- amod\n",
            "profit --- NOUN --- nsubj\n",
            "jumps --- VERB --- ROOT\n",
            "46 --- NUM --- nummod\n",
            "% --- NOUN --- dobj\n",
            "in --- ADP --- prep\n",
            "Sept --- PROPN --- compound\n",
            "quarter --- NOUN --- pobj\n",
            "to --- ADP --- prep\n",
            "Rs --- NOUN --- nmod\n",
            "15,479 --- NUM --- nummod\n",
            "crore --- NOUN --- pobj\n"
          ]
        }
      ]
    },
    {
      "cell_type": "code",
      "metadata": {
        "colab": {
          "base_uri": "https://localhost:8080/"
        },
        "id": "Zv4VmDhYBcR4",
        "outputId": "42fb3fc3-5ba6-4b38-d0fd-95677527fb16"
      },
      "source": [
        "for token in processed_hline:\n",
        "  print(token.text, \"---\", token.pos_, \"---\", spacy.explain(token.dep_))"
      ],
      "execution_count": 50,
      "outputs": [
        {
          "output_type": "stream",
          "name": "stdout",
          "text": [
            "RIL --- NUM --- adjectival modifier\n",
            "net --- ADJ --- adjectival modifier\n",
            "profit --- NOUN --- nominal subject\n",
            "jumps --- VERB --- None\n",
            "46 --- NUM --- numeric modifier\n",
            "% --- NOUN --- direct object\n",
            "in --- ADP --- prepositional modifier\n",
            "Sept --- PROPN --- compound\n",
            "quarter --- NOUN --- object of preposition\n",
            "to --- ADP --- prepositional modifier\n",
            "Rs --- NOUN --- modifier of nominal\n",
            "15,479 --- NUM --- numeric modifier\n",
            "crore --- NOUN --- object of preposition\n"
          ]
        }
      ]
    },
    {
      "cell_type": "code",
      "metadata": {
        "colab": {
          "base_uri": "https://localhost:8080/"
        },
        "id": "kmRVayiNCgIh",
        "outputId": "17bd37cf-d9ce-41e7-a861-2654a68d711c"
      },
      "source": [
        "for token in processed_hline:\n",
        "  print(token.text, \"---\", token.pos_, \"---\", token.dep_, \"---\", spacy.explain(token.pos_))"
      ],
      "execution_count": 52,
      "outputs": [
        {
          "output_type": "stream",
          "name": "stdout",
          "text": [
            "RIL --- NUM --- amod --- numeral\n",
            "net --- ADJ --- amod --- adjective\n",
            "profit --- NOUN --- nsubj --- noun\n",
            "jumps --- VERB --- ROOT --- verb\n",
            "46 --- NUM --- nummod --- numeral\n",
            "% --- NOUN --- dobj --- noun\n",
            "in --- ADP --- prep --- adposition\n",
            "Sept --- PROPN --- compound --- proper noun\n",
            "quarter --- NOUN --- pobj --- noun\n",
            "to --- ADP --- prep --- adposition\n",
            "Rs --- NOUN --- nmod --- noun\n",
            "15,479 --- NUM --- nummod --- numeral\n",
            "crore --- NOUN --- pobj --- noun\n"
          ]
        }
      ]
    },
    {
      "cell_type": "markdown",
      "metadata": {
        "id": "JGka-BaJD_lB"
      },
      "source": [
        "\n",
        "\n",
        "```\n",
        "CNN / CPU pipeline design\n",
        "```\n",
        "\n"
      ]
    },
    {
      "cell_type": "markdown",
      "metadata": {
        "id": "dMZN9ltGD5SI"
      },
      "source": [
        "![image.png](data:image/png;base64,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)"
      ]
    },
    {
      "cell_type": "code",
      "metadata": {
        "id": "mi0RdawfD60A"
      },
      "source": [
        "import spacy\n",
        "from spacy import displacy"
      ],
      "execution_count": 56,
      "outputs": []
    },
    {
      "cell_type": "code",
      "metadata": {
        "colab": {
          "base_uri": "https://localhost:8080/",
          "height": 418
        },
        "id": "bRA7kkPaFEKR",
        "outputId": "83d24d45-431c-448a-b3f4-f36c022d8cf5"
      },
      "source": [
        "spacy.displacy.render(processed_hline, style='dep', jupyter=True, options={'distance': 120})"
      ],
      "execution_count": 58,
      "outputs": [
        {
          "output_type": "display_data",
          "data": {
            "text/html": [
              "<span class=\"tex2jax_ignore\"><svg xmlns=\"http://www.w3.org/2000/svg\" xmlns:xlink=\"http://www.w3.org/1999/xlink\" xml:lang=\"en\" id=\"390a116c55ea482d8806cdfb6a550860-0\" class=\"displacy\" width=\"1490\" height=\"377.0\" direction=\"ltr\" style=\"max-width: none; height: 377.0px; color: #000000; background: #ffffff; font-family: Arial; direction: ltr\">\n",
              "<text class=\"displacy-token\" fill=\"currentColor\" text-anchor=\"middle\" y=\"287.0\">\n",
              "    <tspan class=\"displacy-word\" fill=\"currentColor\" x=\"50\">RIL</tspan>\n",
              "    <tspan class=\"displacy-tag\" dy=\"2em\" fill=\"currentColor\" x=\"50\">NUM</tspan>\n",
              "</text>\n",
              "\n",
              "<text class=\"displacy-token\" fill=\"currentColor\" text-anchor=\"middle\" y=\"287.0\">\n",
              "    <tspan class=\"displacy-word\" fill=\"currentColor\" x=\"170\">net</tspan>\n",
              "    <tspan class=\"displacy-tag\" dy=\"2em\" fill=\"currentColor\" x=\"170\">ADJ</tspan>\n",
              "</text>\n",
              "\n",
              "<text class=\"displacy-token\" fill=\"currentColor\" text-anchor=\"middle\" y=\"287.0\">\n",
              "    <tspan class=\"displacy-word\" fill=\"currentColor\" x=\"290\">profit</tspan>\n",
              "    <tspan class=\"displacy-tag\" dy=\"2em\" fill=\"currentColor\" x=\"290\">NOUN</tspan>\n",
              "</text>\n",
              "\n",
              "<text class=\"displacy-token\" fill=\"currentColor\" text-anchor=\"middle\" y=\"287.0\">\n",
              "    <tspan class=\"displacy-word\" fill=\"currentColor\" x=\"410\">jumps</tspan>\n",
              "    <tspan class=\"displacy-tag\" dy=\"2em\" fill=\"currentColor\" x=\"410\">VERB</tspan>\n",
              "</text>\n",
              "\n",
              "<text class=\"displacy-token\" fill=\"currentColor\" text-anchor=\"middle\" y=\"287.0\">\n",
              "    <tspan class=\"displacy-word\" fill=\"currentColor\" x=\"530\">46%</tspan>\n",
              "    <tspan class=\"displacy-tag\" dy=\"2em\" fill=\"currentColor\" x=\"530\">NOUN</tspan>\n",
              "</text>\n",
              "\n",
              "<text class=\"displacy-token\" fill=\"currentColor\" text-anchor=\"middle\" y=\"287.0\">\n",
              "    <tspan class=\"displacy-word\" fill=\"currentColor\" x=\"650\">in</tspan>\n",
              "    <tspan class=\"displacy-tag\" dy=\"2em\" fill=\"currentColor\" x=\"650\">ADP</tspan>\n",
              "</text>\n",
              "\n",
              "<text class=\"displacy-token\" fill=\"currentColor\" text-anchor=\"middle\" y=\"287.0\">\n",
              "    <tspan class=\"displacy-word\" fill=\"currentColor\" x=\"770\">Sept</tspan>\n",
              "    <tspan class=\"displacy-tag\" dy=\"2em\" fill=\"currentColor\" x=\"770\">PROPN</tspan>\n",
              "</text>\n",
              "\n",
              "<text class=\"displacy-token\" fill=\"currentColor\" text-anchor=\"middle\" y=\"287.0\">\n",
              "    <tspan class=\"displacy-word\" fill=\"currentColor\" x=\"890\">quarter</tspan>\n",
              "    <tspan class=\"displacy-tag\" dy=\"2em\" fill=\"currentColor\" x=\"890\">NOUN</tspan>\n",
              "</text>\n",
              "\n",
              "<text class=\"displacy-token\" fill=\"currentColor\" text-anchor=\"middle\" y=\"287.0\">\n",
              "    <tspan class=\"displacy-word\" fill=\"currentColor\" x=\"1010\">to</tspan>\n",
              "    <tspan class=\"displacy-tag\" dy=\"2em\" fill=\"currentColor\" x=\"1010\">ADP</tspan>\n",
              "</text>\n",
              "\n",
              "<text class=\"displacy-token\" fill=\"currentColor\" text-anchor=\"middle\" y=\"287.0\">\n",
              "    <tspan class=\"displacy-word\" fill=\"currentColor\" x=\"1130\">Rs</tspan>\n",
              "    <tspan class=\"displacy-tag\" dy=\"2em\" fill=\"currentColor\" x=\"1130\">NOUN</tspan>\n",
              "</text>\n",
              "\n",
              "<text class=\"displacy-token\" fill=\"currentColor\" text-anchor=\"middle\" y=\"287.0\">\n",
              "    <tspan class=\"displacy-word\" fill=\"currentColor\" x=\"1250\">15,479</tspan>\n",
              "    <tspan class=\"displacy-tag\" dy=\"2em\" fill=\"currentColor\" x=\"1250\">NUM</tspan>\n",
              "</text>\n",
              "\n",
              "<text class=\"displacy-token\" fill=\"currentColor\" text-anchor=\"middle\" y=\"287.0\">\n",
              "    <tspan class=\"displacy-word\" fill=\"currentColor\" x=\"1370\">crore</tspan>\n",
              "    <tspan class=\"displacy-tag\" dy=\"2em\" fill=\"currentColor\" x=\"1370\">NOUN</tspan>\n",
              "</text>\n",
              "\n",
              "<g class=\"displacy-arrow\">\n",
              "    <path class=\"displacy-arc\" id=\"arrow-390a116c55ea482d8806cdfb6a550860-0-0\" stroke-width=\"2px\" d=\"M70,242.0 C70,122.0 280.0,122.0 280.0,242.0\" fill=\"none\" stroke=\"currentColor\"/>\n",
              "    <text dy=\"1.25em\" style=\"font-size: 0.8em; letter-spacing: 1px\">\n",
              "        <textPath xlink:href=\"#arrow-390a116c55ea482d8806cdfb6a550860-0-0\" class=\"displacy-label\" startOffset=\"50%\" side=\"left\" fill=\"currentColor\" text-anchor=\"middle\">amod</textPath>\n",
              "    </text>\n",
              "    <path class=\"displacy-arrowhead\" d=\"M70,244.0 L62,232.0 78,232.0\" fill=\"currentColor\"/>\n",
              "</g>\n",
              "\n",
              "<g class=\"displacy-arrow\">\n",
              "    <path class=\"displacy-arc\" id=\"arrow-390a116c55ea482d8806cdfb6a550860-0-1\" stroke-width=\"2px\" d=\"M190,242.0 C190,182.0 275.0,182.0 275.0,242.0\" fill=\"none\" stroke=\"currentColor\"/>\n",
              "    <text dy=\"1.25em\" style=\"font-size: 0.8em; letter-spacing: 1px\">\n",
              "        <textPath xlink:href=\"#arrow-390a116c55ea482d8806cdfb6a550860-0-1\" class=\"displacy-label\" startOffset=\"50%\" side=\"left\" fill=\"currentColor\" text-anchor=\"middle\">amod</textPath>\n",
              "    </text>\n",
              "    <path class=\"displacy-arrowhead\" d=\"M190,244.0 L182,232.0 198,232.0\" fill=\"currentColor\"/>\n",
              "</g>\n",
              "\n",
              "<g class=\"displacy-arrow\">\n",
              "    <path class=\"displacy-arc\" id=\"arrow-390a116c55ea482d8806cdfb6a550860-0-2\" stroke-width=\"2px\" d=\"M310,242.0 C310,182.0 395.0,182.0 395.0,242.0\" fill=\"none\" stroke=\"currentColor\"/>\n",
              "    <text dy=\"1.25em\" style=\"font-size: 0.8em; letter-spacing: 1px\">\n",
              "        <textPath xlink:href=\"#arrow-390a116c55ea482d8806cdfb6a550860-0-2\" class=\"displacy-label\" startOffset=\"50%\" side=\"left\" fill=\"currentColor\" text-anchor=\"middle\">nsubj</textPath>\n",
              "    </text>\n",
              "    <path class=\"displacy-arrowhead\" d=\"M310,244.0 L302,232.0 318,232.0\" fill=\"currentColor\"/>\n",
              "</g>\n",
              "\n",
              "<g class=\"displacy-arrow\">\n",
              "    <path class=\"displacy-arc\" id=\"arrow-390a116c55ea482d8806cdfb6a550860-0-3\" stroke-width=\"2px\" d=\"M430,242.0 C430,182.0 515.0,182.0 515.0,242.0\" fill=\"none\" stroke=\"currentColor\"/>\n",
              "    <text dy=\"1.25em\" style=\"font-size: 0.8em; letter-spacing: 1px\">\n",
              "        <textPath xlink:href=\"#arrow-390a116c55ea482d8806cdfb6a550860-0-3\" class=\"displacy-label\" startOffset=\"50%\" side=\"left\" fill=\"currentColor\" text-anchor=\"middle\">dobj</textPath>\n",
              "    </text>\n",
              "    <path class=\"displacy-arrowhead\" d=\"M515.0,244.0 L523.0,232.0 507.0,232.0\" fill=\"currentColor\"/>\n",
              "</g>\n",
              "\n",
              "<g class=\"displacy-arrow\">\n",
              "    <path class=\"displacy-arc\" id=\"arrow-390a116c55ea482d8806cdfb6a550860-0-4\" stroke-width=\"2px\" d=\"M430,242.0 C430,122.0 640.0,122.0 640.0,242.0\" fill=\"none\" stroke=\"currentColor\"/>\n",
              "    <text dy=\"1.25em\" style=\"font-size: 0.8em; letter-spacing: 1px\">\n",
              "        <textPath xlink:href=\"#arrow-390a116c55ea482d8806cdfb6a550860-0-4\" class=\"displacy-label\" startOffset=\"50%\" side=\"left\" fill=\"currentColor\" text-anchor=\"middle\">prep</textPath>\n",
              "    </text>\n",
              "    <path class=\"displacy-arrowhead\" d=\"M640.0,244.0 L648.0,232.0 632.0,232.0\" fill=\"currentColor\"/>\n",
              "</g>\n",
              "\n",
              "<g class=\"displacy-arrow\">\n",
              "    <path class=\"displacy-arc\" id=\"arrow-390a116c55ea482d8806cdfb6a550860-0-5\" stroke-width=\"2px\" d=\"M790,242.0 C790,182.0 875.0,182.0 875.0,242.0\" fill=\"none\" stroke=\"currentColor\"/>\n",
              "    <text dy=\"1.25em\" style=\"font-size: 0.8em; letter-spacing: 1px\">\n",
              "        <textPath xlink:href=\"#arrow-390a116c55ea482d8806cdfb6a550860-0-5\" class=\"displacy-label\" startOffset=\"50%\" side=\"left\" fill=\"currentColor\" text-anchor=\"middle\">compound</textPath>\n",
              "    </text>\n",
              "    <path class=\"displacy-arrowhead\" d=\"M790,244.0 L782,232.0 798,232.0\" fill=\"currentColor\"/>\n",
              "</g>\n",
              "\n",
              "<g class=\"displacy-arrow\">\n",
              "    <path class=\"displacy-arc\" id=\"arrow-390a116c55ea482d8806cdfb6a550860-0-6\" stroke-width=\"2px\" d=\"M670,242.0 C670,122.0 880.0,122.0 880.0,242.0\" fill=\"none\" stroke=\"currentColor\"/>\n",
              "    <text dy=\"1.25em\" style=\"font-size: 0.8em; letter-spacing: 1px\">\n",
              "        <textPath xlink:href=\"#arrow-390a116c55ea482d8806cdfb6a550860-0-6\" class=\"displacy-label\" startOffset=\"50%\" side=\"left\" fill=\"currentColor\" text-anchor=\"middle\">pobj</textPath>\n",
              "    </text>\n",
              "    <path class=\"displacy-arrowhead\" d=\"M880.0,244.0 L888.0,232.0 872.0,232.0\" fill=\"currentColor\"/>\n",
              "</g>\n",
              "\n",
              "<g class=\"displacy-arrow\">\n",
              "    <path class=\"displacy-arc\" id=\"arrow-390a116c55ea482d8806cdfb6a550860-0-7\" stroke-width=\"2px\" d=\"M430,242.0 C430,2.0 1010.0,2.0 1010.0,242.0\" fill=\"none\" stroke=\"currentColor\"/>\n",
              "    <text dy=\"1.25em\" style=\"font-size: 0.8em; letter-spacing: 1px\">\n",
              "        <textPath xlink:href=\"#arrow-390a116c55ea482d8806cdfb6a550860-0-7\" class=\"displacy-label\" startOffset=\"50%\" side=\"left\" fill=\"currentColor\" text-anchor=\"middle\">prep</textPath>\n",
              "    </text>\n",
              "    <path class=\"displacy-arrowhead\" d=\"M1010.0,244.0 L1018.0,232.0 1002.0,232.0\" fill=\"currentColor\"/>\n",
              "</g>\n",
              "\n",
              "<g class=\"displacy-arrow\">\n",
              "    <path class=\"displacy-arc\" id=\"arrow-390a116c55ea482d8806cdfb6a550860-0-8\" stroke-width=\"2px\" d=\"M1150,242.0 C1150,122.0 1360.0,122.0 1360.0,242.0\" fill=\"none\" stroke=\"currentColor\"/>\n",
              "    <text dy=\"1.25em\" style=\"font-size: 0.8em; letter-spacing: 1px\">\n",
              "        <textPath xlink:href=\"#arrow-390a116c55ea482d8806cdfb6a550860-0-8\" class=\"displacy-label\" startOffset=\"50%\" side=\"left\" fill=\"currentColor\" text-anchor=\"middle\">nmod</textPath>\n",
              "    </text>\n",
              "    <path class=\"displacy-arrowhead\" d=\"M1150,244.0 L1142,232.0 1158,232.0\" fill=\"currentColor\"/>\n",
              "</g>\n",
              "\n",
              "<g class=\"displacy-arrow\">\n",
              "    <path class=\"displacy-arc\" id=\"arrow-390a116c55ea482d8806cdfb6a550860-0-9\" stroke-width=\"2px\" d=\"M1150,242.0 C1150,182.0 1235.0,182.0 1235.0,242.0\" fill=\"none\" stroke=\"currentColor\"/>\n",
              "    <text dy=\"1.25em\" style=\"font-size: 0.8em; letter-spacing: 1px\">\n",
              "        <textPath xlink:href=\"#arrow-390a116c55ea482d8806cdfb6a550860-0-9\" class=\"displacy-label\" startOffset=\"50%\" side=\"left\" fill=\"currentColor\" text-anchor=\"middle\">nummod</textPath>\n",
              "    </text>\n",
              "    <path class=\"displacy-arrowhead\" d=\"M1235.0,244.0 L1243.0,232.0 1227.0,232.0\" fill=\"currentColor\"/>\n",
              "</g>\n",
              "\n",
              "<g class=\"displacy-arrow\">\n",
              "    <path class=\"displacy-arc\" id=\"arrow-390a116c55ea482d8806cdfb6a550860-0-10\" stroke-width=\"2px\" d=\"M1030,242.0 C1030,62.0 1365.0,62.0 1365.0,242.0\" fill=\"none\" stroke=\"currentColor\"/>\n",
              "    <text dy=\"1.25em\" style=\"font-size: 0.8em; letter-spacing: 1px\">\n",
              "        <textPath xlink:href=\"#arrow-390a116c55ea482d8806cdfb6a550860-0-10\" class=\"displacy-label\" startOffset=\"50%\" side=\"left\" fill=\"currentColor\" text-anchor=\"middle\">pobj</textPath>\n",
              "    </text>\n",
              "    <path class=\"displacy-arrowhead\" d=\"M1365.0,244.0 L1373.0,232.0 1357.0,232.0\" fill=\"currentColor\"/>\n",
              "</g>\n",
              "</svg></span>"
            ],
            "text/plain": [
              "<IPython.core.display.HTML object>"
            ]
          },
          "metadata": {}
        }
      ]
    },
    {
      "cell_type": "code",
      "metadata": {
        "colab": {
          "base_uri": "https://localhost:8080/",
          "height": 51
        },
        "id": "jpR1CvXjFdEq",
        "outputId": "edfbb62b-0208-46e6-9a51-18cb0bbaa785"
      },
      "source": [
        "spacy.displacy.render(processed_hline, style='ent', jupyter=True, options={'distance': 120})"
      ],
      "execution_count": 59,
      "outputs": [
        {
          "output_type": "display_data",
          "data": {
            "text/html": [
              "<span class=\"tex2jax_ignore\"><div class=\"entities\" style=\"line-height: 2.5; direction: ltr\">RIL net profit jumps \n",
              "<mark class=\"entity\" style=\"background: #e4e7d2; padding: 0.45em 0.6em; margin: 0 0.25em; line-height: 1; border-radius: 0.35em;\">\n",
              "    46%\n",
              "    <span style=\"font-size: 0.8em; font-weight: bold; line-height: 1; border-radius: 0.35em; vertical-align: middle; margin-left: 0.5rem\">PERCENT</span>\n",
              "</mark>\n",
              " in \n",
              "<mark class=\"entity\" style=\"background: #bfe1d9; padding: 0.45em 0.6em; margin: 0 0.25em; line-height: 1; border-radius: 0.35em;\">\n",
              "    Sept quarter\n",
              "    <span style=\"font-size: 0.8em; font-weight: bold; line-height: 1; border-radius: 0.35em; vertical-align: middle; margin-left: 0.5rem\">DATE</span>\n",
              "</mark>\n",
              " to Rs \n",
              "<mark class=\"entity\" style=\"background: #e4e7d2; padding: 0.45em 0.6em; margin: 0 0.25em; line-height: 1; border-radius: 0.35em;\">\n",
              "    15,479\n",
              "    <span style=\"font-size: 0.8em; font-weight: bold; line-height: 1; border-radius: 0.35em; vertical-align: middle; margin-left: 0.5rem\">CARDINAL</span>\n",
              "</mark>\n",
              " crore</div></span>"
            ],
            "text/plain": [
              "<IPython.core.display.HTML object>"
            ]
          },
          "metadata": {}
        }
      ]
    },
    {
      "cell_type": "markdown",
      "metadata": {
        "id": "Vl9cvrwmYc_2"
      },
      "source": [
        "labeled all the main entity"
      ]
    },
    {
      "cell_type": "markdown",
      "metadata": {
        "id": "SHsxWXb6ZqE5"
      },
      "source": [
        "## Capture the Entity"
      ]
    },
    {
      "cell_type": "code",
      "metadata": {
        "id": "koir19J3FQeB"
      },
      "source": [
        ""
      ],
      "execution_count": null,
      "outputs": []
    }
  ]
}