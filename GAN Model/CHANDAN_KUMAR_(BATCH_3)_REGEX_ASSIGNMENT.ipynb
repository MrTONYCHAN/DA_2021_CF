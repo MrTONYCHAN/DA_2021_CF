{
  "nbformat": 4,
  "nbformat_minor": 0,
  "metadata": {
    "colab": {
      "name": "CHANDAN_KUMAR_(BATCH_3)_REGEX_ASSIGNMENT.ipynb",
      "provenance": [],
      "collapsed_sections": []
    },
    "kernelspec": {
      "name": "python3",
      "display_name": "Python 3"
    },
    "language_info": {
      "name": "python"
    }
  },
  "cells": [
    {
      "cell_type": "markdown",
      "metadata": {
        "id": "CsHnGuegLzkU"
      },
      "source": [
        "# CHANDAN KUMAR (BATCH 3)- REGEX-ASSIGNMENT\n",
        "## (Rahul Agnihotri(T.L))\n"
      ]
    },
    {
      "cell_type": "markdown",
      "metadata": {
        "id": "7qEKbNkSL_FM"
      },
      "source": [
        "# Q ) Questions on python data types.\n",
        "\n",
        " - Note: Every answer should be with the proper explanation and example\n",
        "    - 1. Write a lambda function to find the square of elements in a list\n",
        "    - 2. Write a lambda function to find the smallest between three elements.\n",
        "    - 3. Write a Python program to create Fibonacci series upto n using Lambda.\n",
        "    - 4. (from given dataset) Create new col  if grsswgt > 500 return good or bad\n",
        "    - 5.  Write a map function to assign numeric value to categorical features. (from given dataset)\n",
        "    - 6. Write a python code to fetch phone numbers from a text document.\n",
        "    - 7. Write a python code to fetch PIN code from a text document.\n",
        "    - 8. Write a python code to remove space from string.\n",
        "    - 9. Write a python code to find the customers name and their chargeable weight proportion  with the help of custom function. (from given dataset)\n",
        "    - 10. Write a python code to create a new chargeable weight column which will store max value between gross weight and chargeable weight. (from given dataset).\n"
      ]
    },
    {
      "cell_type": "code",
      "metadata": {
        "colab": {
          "base_uri": "https://localhost:8080/"
        },
        "id": "-mEUvD5glpda",
        "outputId": "a1af90bf-6e63-4ac0-fc81-7b53de98ceda"
      },
      "source": [
        "!pip install pandas\n",
        "!pip install numpy \n",
        "import pandas as pd\n",
        "import numpy as np\n",
        "import re\n",
        "\n",
        "from pandas import ExcelWriter # The ExcelWrite() class gives the writer object, and then we can use the to_excel()\n",
        "from pandas import ExcelFile  # An excel file has a '.xlsx' format. \n",
        " # Before we get started, we need to install a few libraries. pip install pandas pip install xlrd.\n",
        "\n",
        "data = pd.read_excel(\"/content/Pandas Assignment.xlsx\") \n",
        "df = pd.DataFrame(data) "
      ],
      "execution_count": 24,
      "outputs": [
        {
          "output_type": "stream",
          "text": [
            "Requirement already satisfied: pandas in /usr/local/lib/python3.7/dist-packages (1.1.5)\n",
            "Requirement already satisfied: numpy>=1.15.4 in /usr/local/lib/python3.7/dist-packages (from pandas) (1.19.5)\n",
            "Requirement already satisfied: python-dateutil>=2.7.3 in /usr/local/lib/python3.7/dist-packages (from pandas) (2.8.1)\n",
            "Requirement already satisfied: pytz>=2017.2 in /usr/local/lib/python3.7/dist-packages (from pandas) (2018.9)\n",
            "Requirement already satisfied: six>=1.5 in /usr/local/lib/python3.7/dist-packages (from python-dateutil>=2.7.3->pandas) (1.15.0)\n",
            "Requirement already satisfied: numpy in /usr/local/lib/python3.7/dist-packages (1.19.5)\n"
          ],
          "name": "stdout"
        }
      ]
    },
    {
      "cell_type": "code",
      "metadata": {
        "colab": {
          "base_uri": "https://localhost:8080/"
        },
        "id": "0oGL70xWIK3-",
        "outputId": "a47071ac-c5f5-4b0b-f761-c71118ab5ac7"
      },
      "source": [
        "# Q 1. Write a lambda function to find the square of elements in a list.\n",
        "\n",
        "Nub = [1, 2, 3, 4, 5]\n",
        "print(\"Original list of integers: - \",Nub)\n",
        "\n",
        "print(\"\\nSQUARE OF EVERY NUMBER OF THE GIVEN LIST :\")\n",
        "\n",
        "print(list(map(lambda x: x ** 2, Nub))) # 1^2, 2^2, 3^2, 4^2, 5^2"
      ],
      "execution_count": null,
      "outputs": [
        {
          "output_type": "stream",
          "text": [
            "Original list of integers: -  [1, 2, 3, 4, 5]\n",
            "\n",
            "SQUARE OF EVERY NUMBER OF THE GIVEN LIST :\n",
            "[1, 4, 9, 16, 25]\n"
          ],
          "name": "stdout"
        }
      ]
    },
    {
      "cell_type": "code",
      "metadata": {
        "colab": {
          "base_uri": "https://localhost:8080/"
        },
        "id": "VVq3oCNBIRQQ",
        "outputId": "cce16a90-ec90-40f7-caa9-10122817fa00"
      },
      "source": [
        "# Q 2. Write a lambda function to find the smallest between three elements.\n",
        "import functools # Higher-order functions and operations on callable objects.\n",
        "\n",
        "l = [5,2,1]\n",
        "print(functools.reduce(lambda a,b: a if a < b else b, l[1:], l[0]))\n",
        "# Apply function of two arguments cumulatively to the items of iterable, \n",
        "# from left to right, so as to reduce the iterable to a single value."
      ],
      "execution_count": 13,
      "outputs": [
        {
          "output_type": "stream",
          "text": [
            "1\n"
          ],
          "name": "stdout"
        }
      ]
    },
    {
      "cell_type": "code",
      "metadata": {
        "colab": {
          "base_uri": "https://localhost:8080/"
        },
        "id": "IUguinrrIV1q",
        "outputId": "a7b53d0a-c950-4177-f66c-d4b73e63c978"
      },
      "source": [
        "# Q 3. Write a Python program to create Fibonacci series upto n using Lambda\n",
        "import functools\n",
        "\n",
        "fibonacci_series_n = lambda n: functools.reduce(lambda a, _: a+[a[-1]+a[-2]], range(n-2), [0, 1]) # function in function \n",
        "\n",
        "x = int(input(\"Enter the nth no of the series : \\n\"))\n",
        "print(\"The Fibonacci series : \\n\",(fibonacci_series_n(x)))\n",
        "\n",
        "# fibonacci series be like : 0 1 1 2 3 5 . . . \n",
        "# a+(a(-1)+a(-2)) -----> left to right\n",
        "# range(n-2), [0, 1] here a[-1] -> 0 and a[-2] -> 1  \n",
        "# function passed in its argument to all of the list elements mentioned in the sequence passed along\n"
      ],
      "execution_count": null,
      "outputs": [
        {
          "output_type": "stream",
          "text": [
            "Enter the nth no of the series : \n",
            "8\n",
            "The Fibonacci series : \n",
            " [0, 1, 1, 2, 3, 5, 8, 13]\n"
          ],
          "name": "stdout"
        }
      ]
    },
    {
      "cell_type": "code",
      "metadata": {
        "id": "rgsZxBG5k3PG",
        "colab": {
          "base_uri": "https://localhost:8080/"
        },
        "outputId": "4b873498-da7a-4a38-84d7-af0b8469f3e9"
      },
      "source": [
        "# Q 4. (from given dataset) Create new col if grsswgt > 500 return good or bad\n",
        "\n",
        "from pandas import ExcelWriter # The ExcelWrite() class gives the writer object, and then we can use the to_excel()\n",
        "from pandas import ExcelFile  # An excel file has a '.xlsx' format. \n",
        " # Before we get started, we need to install a few libraries. pip install pandas pip install xlrd.\n",
        "\n",
        "data = pd.read_excel(\"/content/Pandas Assignment.xlsx\") \n",
        "df = pd.DataFrame(data) \n",
        "\n",
        "l = [] # Empty list for rating\n",
        "\n",
        "for r in data['GrossWeightBKD']: # along with rows the GrossWeightBKD vari\n",
        "  if r > 500:\n",
        "    l.append('good')\n",
        "  else:\n",
        "    l.append('bad')\n",
        "\n",
        "data['Rating_Col'] = l # New column for Rating in the dataset\n",
        "print(data)\n",
        "\n"
      ],
      "execution_count": 22,
      "outputs": [
        {
          "output_type": "stream",
          "text": [
            "         AWBNo AccountTypeName  ...   ShipmentType Rating_Col\n",
            "0   1-98827396       FORWARDER  ...  International        bad\n",
            "1   1-98827186       FORWARDER  ...  International        bad\n",
            "2   1-98830270       FORWARDER  ...  International       good\n",
            "3   1-98827805       FORWARDER  ...  International        bad\n",
            "4   1-98827805       FORWARDER  ...  International        bad\n",
            "..         ...             ...  ...            ...        ...\n",
            "94  1-37695744             POS  ...       Domestic        bad\n",
            "95  1-37695755       CORPORATE  ...       Domestic        bad\n",
            "96  1-37695766             POS  ...       Domestic        bad\n",
            "97  1-37695766             POS  ...       Domestic        bad\n",
            "98  1-37695770       FORWARDER  ...       Domestic        bad\n",
            "\n",
            "[99 rows x 11 columns]\n"
          ],
          "name": "stdout"
        }
      ]
    },
    {
      "cell_type": "code",
      "metadata": {
        "id": "JyckNPprk26z",
        "colab": {
          "base_uri": "https://localhost:8080/"
        },
        "outputId": "8b0eddcf-6ce5-4747-caa9-74c098e7bc5b"
      },
      "source": [
        "# Q 5. Write a map function to assign numeric value to categorical features. (from given dataset)\n",
        "\n",
        "from pandas import ExcelWriter # The ExcelWrite() class gives the writer object, and then we can use the to_excel()\n",
        "from pandas import ExcelFile  # An excel file has a '.xlsx' format. \n",
        " # Before we get started, we need to install a few libraries. pip install pandas pip install xlrd.\n",
        "\n",
        "data = pd.read_excel(\"/content/Pandas Assignment.xlsx\") \n",
        "df = pd.DataFrame(data) \n",
        "\n",
        "# for Numeric Value to categorical features and list.\n",
        "New_data = data['AccountTypeName'].astype('category').cat.categories.tolist() \n",
        "print(\"categorical features :\",New_data)\n",
        "assign_map = {'AccountTypeName' :{x: y for x,y in zip(New_data,list(range(1,len(New_data)+1)))}}\n",
        "print(\"\\n The Categories features values are :\",assign_map) \n",
        "# assign to New_data2\n",
        "New_data2 = data.copy()\n",
        "# Updating\n",
        "New_data2.replace(assign_map, inplace = True)\n",
        "print(\" \\n The Updated Data : -\\n\",New_data2)\n",
        "\n"
      ],
      "execution_count": 26,
      "outputs": [
        {
          "output_type": "stream",
          "text": [
            "categorical features : ['CORPORATE', 'FORWARDER', 'POS', 'SUB AGENT']\n",
            "\n",
            " The Categories features values are : {'AccountTypeName': {'CORPORATE': 1, 'FORWARDER': 2, 'POS': 3, 'SUB AGENT': 4}}\n",
            " \n",
            " The Updated Data : -\n",
            "          AWBNo  AccountTypeName  ... ChargeableWeightBKD   ShipmentType\n",
            "0   1-98827396                2  ...                45.0  International\n",
            "1   1-98827186                2  ...                45.0  International\n",
            "2   1-98830270                2  ...               794.0  International\n",
            "3   1-98827805                2  ...               220.0  International\n",
            "4   1-98827805                2  ...               220.0  International\n",
            "..         ...              ...  ...                 ...            ...\n",
            "94  1-37695744                3  ...                25.0       Domestic\n",
            "95  1-37695755                1  ...                10.0       Domestic\n",
            "96  1-37695766                3  ...                10.0       Domestic\n",
            "97  1-37695766                3  ...                10.0       Domestic\n",
            "98  1-37695770                2  ...                 2.0       Domestic\n",
            "\n",
            "[99 rows x 10 columns]\n"
          ],
          "name": "stdout"
        }
      ]
    },
    {
      "cell_type": "code",
      "metadata": {
        "colab": {
          "base_uri": "https://localhost:8080/"
        },
        "id": "wXUqPB91IY0W",
        "outputId": "29b134e1-cc5a-45f7-8d9a-c08802c3819d"
      },
      "source": [
        "# Q 6. Write a python code to fetch phone numbers from a text document.\n",
        "\n",
        "\n",
        "import re\n",
        "\n",
        "phone_string = \"\"\" yo guys I'm 0001 from planet 010B0D2 and my Contact no \n",
        "                  is +627082092562  and +919944529620\"\"\"\n",
        "\n",
        "\"\"\" \n",
        "** we can add more conditions or do modification as per requirement \n",
        "\"\"\"\n",
        "\n",
        "regex = '[+][0-9][0-9]\\d{10}'  # 10 digit phone number. ** [0-9][0-9] country code\n",
        "                  # \\d Any numeric digit from 0 to 9. [+] for the ' + '\n",
        "print(re.findall(regex, phone_string)) # findall\tReturns a list containing all matches\n"
      ],
      "execution_count": null,
      "outputs": [
        {
          "output_type": "stream",
          "text": [
            "['+627082092562', '+919944529620']\n"
          ],
          "name": "stdout"
        }
      ]
    },
    {
      "cell_type": "code",
      "metadata": {
        "colab": {
          "base_uri": "https://localhost:8080/"
        },
        "id": "1pLBs12lIrih",
        "outputId": "3c541e3c-eba8-488a-a82a-8cceb8c789a2"
      },
      "source": [
        "# Q 7. Write a python code to fetch PIN code from a text document.\n",
        "\n",
        "import re\n",
        "\n",
        "string = \"\"\"hi guys my name is 0020, I'm from 20030Area57 and my pin code is 112939\"\"\"\n",
        "\n",
        "regex = '(\\d{6})' # for india ^[1-9]{1}[0-9]{2}\\\\s{0,1}[0-9]{3}$ as per requirement\n",
        "\n",
        "print(re.findall(regex, string))"
      ],
      "execution_count": null,
      "outputs": [
        {
          "output_type": "stream",
          "text": [
            "['112939']\n"
          ],
          "name": "stdout"
        }
      ]
    },
    {
      "cell_type": "code",
      "metadata": {
        "colab": {
          "base_uri": "https://localhost:8080/"
        },
        "id": "rUYgB7ObMvjM",
        "outputId": "922223ce-5b3f-4e40-9303-646728cd38bc"
      },
      "source": [
        "# Q 8. Write a python code to remove space from string.\n",
        "\n",
        "import re\n",
        "  \n",
        "def remove_Space(stR1):           # def(function) name as remove_speace(argu)\n",
        "    stR2 = re.compile(r'\\s+')     # re.compile(pattern, repl, string): \\s+  matches sequence of one or more whitespace characters\n",
        "    return re.sub(stR2, '', stR1) # The re. sub() function is used to replace occurrences of a particular sub-string with another sub-string\n",
        "      \n",
        "stR1 = ' T O N Y C H A N '\n",
        "print(remove_Space(stR1))         # function call"
      ],
      "execution_count": 16,
      "outputs": [
        {
          "output_type": "stream",
          "text": [
            "TONYCHAN\n"
          ],
          "name": "stdout"
        }
      ]
    },
    {
      "cell_type": "code",
      "metadata": {
        "id": "2qP1azI-OQ3Y",
        "colab": {
          "base_uri": "https://localhost:8080/"
        },
        "outputId": "8d6dc237-5e24-4ed3-b54f-0e9729e5c264"
      },
      "source": [
        "# Q 9. Write a python code to find the customers name and their chargeable weight proportion with the help of custom function. (from given dataset)\n",
        "#!pip install pandas \n",
        "#import pandas as pd\n",
        "\n",
        "from pandas import ExcelWriter # The ExcelWrite() class gives the writer object, and then we can use the to_excel()\n",
        "from pandas import ExcelFile  # An excel file has a '.xlsx' format. \n",
        " # Before we get started, we need to install a few libraries. pip install pandas pip install xlrd.\n",
        "\n",
        "data = pd.read_excel(\"/content/Pandas Assignment.xlsx\") \n",
        "df = pd.DataFrame(data) \n",
        "\n",
        "def customers_name():\n",
        "  AccountTypename = data.groupby(['AccountTypeName']).sum() # sums up the numbers in the list.\n",
        "  ChargeableWeigh_Percentage = AccountTypename.apply(lambda x: x/x.sum()) * 100 # percentage\n",
        "  return ChargeableWeigh_Percentage.iloc[: ,[3]] # fetching \n",
        " \n",
        "  # A lambda function is a small anonymous function.\n",
        "  # A lambda function can take any number of arguments, but can only have one expression.\n",
        "  \n",
        "\n",
        "print(\"The Customer name \",customers_name())"
      ],
      "execution_count": 18,
      "outputs": [
        {
          "output_type": "stream",
          "text": [
            "The Customer name                   ChargeableWeightBKD\n",
            "AccountTypeName                     \n",
            "CORPORATE                   0.128991\n",
            "FORWARDER                  76.839729\n",
            "POS                        20.528862\n",
            "SUB AGENT                   2.502419\n"
          ],
          "name": "stdout"
        }
      ]
    },
    {
      "cell_type": "code",
      "metadata": {
        "id": "6wnUvM0lkoGX",
        "colab": {
          "base_uri": "https://localhost:8080/"
        },
        "outputId": "790c75e0-897a-4e74-c0e2-4ebd305b5f4b"
      },
      "source": [
        "# Q 10. Write a python code to create a new chargeable weight column which will store max value between gross weight and chargeable weight. (from given dataset).\n",
        "\n",
        "from pandas import ExcelWriter # The ExcelWrite() class gives the writer object, and then we can use the to_excel()\n",
        "from pandas import ExcelFile  # An excel file has a '.xlsx' format. \n",
        " # Before we get started, we need to install a few libraries. pip install pandas pip install xlrd.\n",
        "\n",
        "data = pd.read_excel(\"/content/Pandas Assignment.xlsx\") \n",
        "df = pd.DataFrame(data) \n",
        "\n",
        "\n",
        "\n",
        "new_charge_wgt = np.where(data[\"GrossWeightBKD\"] > data[\"ChargeableWeightBKD\"]\n",
        "                          ,data[\"GrossWeightBKD\"] , data[\"ChargeableWeightBKD\"])\n",
        "\n",
        "data['new_charge_wgt_col'] = new_charge_wgt\n",
        "print(data)\n"
      ],
      "execution_count": 20,
      "outputs": [
        {
          "output_type": "stream",
          "text": [
            "         AWBNo AccountTypeName  ...   ShipmentType new_charge_wgt_col\n",
            "0   1-98827396       FORWARDER  ...  International               45.0\n",
            "1   1-98827186       FORWARDER  ...  International               45.0\n",
            "2   1-98830270       FORWARDER  ...  International              794.0\n",
            "3   1-98827805       FORWARDER  ...  International              220.0\n",
            "4   1-98827805       FORWARDER  ...  International              220.0\n",
            "..         ...             ...  ...            ...                ...\n",
            "94  1-37695744             POS  ...       Domestic               25.0\n",
            "95  1-37695755       CORPORATE  ...       Domestic               10.0\n",
            "96  1-37695766             POS  ...       Domestic               10.0\n",
            "97  1-37695766             POS  ...       Domestic               10.0\n",
            "98  1-37695770       FORWARDER  ...       Domestic                2.0\n",
            "\n",
            "[99 rows x 11 columns]\n"
          ],
          "name": "stdout"
        }
      ]
    }
  ]
}