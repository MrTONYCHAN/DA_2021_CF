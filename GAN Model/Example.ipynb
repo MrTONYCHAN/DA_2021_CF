{
 "cells": [
  {
   "cell_type": "markdown",
   "id": "285b1c40",
   "metadata": {},
   "source": [
    "Q 4.) What is the difference between append and extend."
   ]
  },
  {
   "cell_type": "code",
   "execution_count": null,
   "id": "9f301b5e",
   "metadata": {},
   "outputs": [],
   "source": [
    "\"\"\" append adds an element to a list, \n",
    "    and \n",
    "    extend concatenates the first list with another list (or another iterable, not necessarily a list.)\"\"\"\n",
    "\n",
    "#append: Appends object at the end.\n",
    "\n",
    "x = [1, 2, 3]\n",
    "x.append([4, 5])\n",
    "print(x)\n",
    "\n",
    "#extend: Extends list by appending elements from the iterable.\n",
    "\n",
    "x = [1, 2, 3]\n",
    "x.extend([4, 5])\n",
    "print(x)"
   ]
  }
 ],
 "metadata": {
  "kernelspec": {
   "display_name": "Python 3",
   "language": "python",
   "name": "python3"
  },
  "language_info": {
   "codemirror_mode": {
    "name": "ipython",
    "version": 3
   },
   "file_extension": ".py",
   "mimetype": "text/x-python",
   "name": "python",
   "nbconvert_exporter": "python",
   "pygments_lexer": "ipython3",
   "version": "3.8.8"
  }
 },
 "nbformat": 4,
 "nbformat_minor": 5
}
