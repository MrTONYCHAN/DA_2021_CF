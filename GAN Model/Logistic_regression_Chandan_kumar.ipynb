{
  "nbformat": 4,
  "nbformat_minor": 0,
  "metadata": {
    "colab": {
      "name": "Logistic regression Chandan kumar.ipynb",
      "provenance": [],
      "collapsed_sections": []
    },
    "kernelspec": {
      "name": "python3",
      "display_name": "Python 3"
    },
    "language_info": {
      "name": "python"
    }
  },
  "cells": [
    {
      "cell_type": "markdown",
      "metadata": {
        "id": "fugDf_HPHTdi"
      },
      "source": [
        "\n",
        "\n",
        "\n",
        "#CHANDAN KUMAR (BATCH 3)- GOOGLE COLAB / logistic regression & Rigid & Lasso Regression\n",
        "##(Rahul Agnihotri(T.L))\n",
        " \n",
        "\n",
        "\n",
        "\n"
      ]
    },
    {
      "cell_type": "markdown",
      "metadata": {
        "id": "sExQpjPpOOg7"
      },
      "source": [
        "DATASET [HEART ](https://drive.google.com/file/d/10dopwCjH4VE557tSynCcY3fV9OBowq9h/view?usp=sharing)"
      ]
    },
    {
      "cell_type": "markdown",
      "metadata": {
        "id": "iRvNNDusd3-R"
      },
      "source": [
        "#Packages to load"
      ]
    },
    {
      "cell_type": "code",
      "metadata": {
        "id": "ajgbf27lMtKt"
      },
      "source": [
        "import numpy as np\n",
        "import pandas as pd\n",
        "from sklearn.linear_model import Ridge\n",
        "from sklearn.linear_model import Lasso\n",
        "import matplotlib.pyplot as plt\n",
        "import seaborn as sns\n",
        "\n",
        "from sklearn.model_selection import GridSearchCV\n",
        "\n",
        "# for hiding warning\n",
        "import warnings\n",
        "warnings.filterwarnings('ignore')"
      ],
      "execution_count": null,
      "outputs": []
    },
    {
      "cell_type": "markdown",
      "metadata": {
        "id": "f_U6L4fmeGJr"
      },
      "source": [
        "#Input directory"
      ]
    },
    {
      "cell_type": "code",
      "metadata": {
        "id": "WYaDKuMTbTLU"
      },
      "source": [
        "heart_df = pd.read_csv(r'/content/heart.csv')\n",
        "heart_df"
      ],
      "execution_count": null,
      "outputs": []
    },
    {
      "cell_type": "markdown",
      "metadata": {
        "id": "iPeO9-9KeXE1"
      },
      "source": [
        "#About data set"
      ]
    },
    {
      "cell_type": "markdown",
      "metadata": {
        "id": "WpeU4QMSdn4q"
      },
      "source": [
        "The \"target\" field refers to the presence of heart disease in the patient. It is integer valued 0 = no/less chance of heart attack and 1 = more chance of heart attack\n",
        "Attribute Information\n",
        "- 1) age\n",
        "- 2) sex\n",
        "- 3) chest pain type (4 values)\n",
        "- 4) resting blood pressure\n",
        "- 5) serum cholestoral in mg/dl\n",
        "- 6)fasting blood sugar > 120 mg/dl\n",
        "- 7) resting electrocardiographic results (values 0,1,2)\n",
        "- 8) maximum heart rate achieved\n",
        "- 9) exercise induced angina\n",
        "- 10) oldpeak = ST depression induced by exercise relative to rest\n",
        "- 11)the slope of the peak exercise ST segment\n",
        "- 12) number of major vessels (0-3) colored by flourosopy\n",
        "- 13) thal: 0 = normal; 1 = fixed defect; 2 = reversable defect\n",
        "- 14) target: 0= less chance of heart attack 1= more chance of heart attack"
      ]
    },
    {
      "cell_type": "markdown",
      "metadata": {
        "id": "BtOeXaKuelC_"
      },
      "source": [
        "#Get to know About data"
      ]
    },
    {
      "cell_type": "code",
      "metadata": {
        "id": "jG0x422Od1ji"
      },
      "source": [
        "heart_df.head()"
      ],
      "execution_count": null,
      "outputs": []
    },
    {
      "cell_type": "code",
      "metadata": {
        "id": "0SWWwtYFe1xT"
      },
      "source": [
        "heart_df.dtypes"
      ],
      "execution_count": null,
      "outputs": []
    },
    {
      "cell_type": "code",
      "metadata": {
        "id": "nfkaQ33pe8-H"
      },
      "source": [
        "heart_df.isnull().sum()"
      ],
      "execution_count": null,
      "outputs": []
    },
    {
      "cell_type": "code",
      "metadata": {
        "id": "3amRlEs7fFPv"
      },
      "source": [
        "print('Shape : ',heart_df.shape)\n",
        "print('Describe : ',heart_df.describe())"
      ],
      "execution_count": null,
      "outputs": []
    },
    {
      "cell_type": "markdown",
      "metadata": {
        "id": "bQGwI0ghey-i"
      },
      "source": [
        "#EDA(Exploratory Data Analysis)"
      ]
    },
    {
      "cell_type": "code",
      "metadata": {
        "id": "J0z_WzfvH6re"
      },
      "source": [
        "#import pandas_profiling as pp"
      ],
      "execution_count": null,
      "outputs": []
    },
    {
      "cell_type": "code",
      "metadata": {
        "id": "5fu6aHjmH8Qg"
      },
      "source": [
        "#pp.ProfileReport(heart_df)"
      ],
      "execution_count": null,
      "outputs": []
    },
    {
      "cell_type": "code",
      "metadata": {
        "id": "nnCxVXTXCBOi"
      },
      "source": [
        "%matplotlib inline\n",
        "from matplotlib import pyplot as plt"
      ],
      "execution_count": null,
      "outputs": []
    },
    {
      "cell_type": "code",
      "metadata": {
        "id": "G9LGcK-kfnZs"
      },
      "source": [
        "fig,axes=plt.subplots(nrows=1,ncols=1,figsize=(10,5))\n",
        "sns.countplot(heart_df.target)"
      ],
      "execution_count": null,
      "outputs": []
    },
    {
      "cell_type": "code",
      "metadata": {
        "id": "nbB5CjI4f5jJ"
      },
      "source": [
        "fig,axes=plt.subplots(nrows=1,ncols=1,figsize=(15,10))\n",
        "sns.distplot(heart_df['age'],hist=True,kde=True,rug=False,label='age',norm_hist=True)"
      ],
      "execution_count": null,
      "outputs": []
    },
    {
      "cell_type": "code",
      "metadata": {
        "id": "mH-fa1iMgDaH"
      },
      "source": [
        "heart_df.columns"
      ],
      "execution_count": null,
      "outputs": []
    },
    {
      "cell_type": "code",
      "metadata": {
        "id": "VAWsqJGrgK1e"
      },
      "source": [
        "corr = heart_df.corr(method = 'pearson')\n",
        "corr"
      ],
      "execution_count": null,
      "outputs": []
    },
    {
      "cell_type": "code",
      "metadata": {
        "cellView": "code",
        "id": "NQ7b7mjmgTjJ"
      },
      "source": [
        "\n",
        "colormap = plt.cm.OrRd \n",
        "plt.figure(figsize=(15, 10)) \n",
        "plt.title(\"Person Correlation of Features\", y = 1.05, size = 15) \n",
        "sns.heatmap(corr.astype(float).corr(), linecolor = \"white\", cmap = colormap, annot = True)"
      ],
      "execution_count": null,
      "outputs": []
    },
    {
      "cell_type": "code",
      "metadata": {
        "id": "0d2iLc6Ahq0d"
      },
      "source": [
        "import plotly.express as px"
      ],
      "execution_count": null,
      "outputs": []
    },
    {
      "cell_type": "code",
      "metadata": {
        "id": "pC32lvUZhAXe"
      },
      "source": [
        "px.bar(heart_df, x= 'age' , y='target', color='sex' , title= 'heart attack patoents age range and sex',\n",
        "      labels = { 'output': 'Number of patients', 'Age': 'Age od patient'})\n"
      ],
      "execution_count": null,
      "outputs": []
    },
    {
      "cell_type": "markdown",
      "metadata": {
        "id": "0Lnrv7VDiN1O"
      },
      "source": [
        "#Creating and Predicting Learning Models"
      ]
    },
    {
      "cell_type": "code",
      "metadata": {
        "id": "DwBLpyKmiELT"
      },
      "source": [
        "X= heart_df.drop(columns= ['target'])\n",
        "y= heart_df['target']"
      ],
      "execution_count": null,
      "outputs": []
    },
    {
      "cell_type": "markdown",
      "metadata": {
        "id": "HbmtC3JZiiyg"
      },
      "source": [
        "\n",
        "##Data normalization"
      ]
    },
    {
      "cell_type": "code",
      "metadata": {
        "id": "KwMYwsZdia-o"
      },
      "source": [
        "from sklearn.preprocessing import MinMaxScaler\n",
        "# Data normalization [0, 1]\n",
        "\n",
        "transformer = MinMaxScaler()\n",
        "transformer.fit(X)\n",
        "X = transformer.transform(X)\n",
        "X"
      ],
      "execution_count": null,
      "outputs": []
    },
    {
      "cell_type": "code",
      "metadata": {
        "id": "V8K-DZsXiqoC"
      },
      "source": [
        "from sklearn.model_selection import train_test_split\n",
        "x_test,x_train,y_test,y_train = train_test_split(X,y,test_size = 0.2,random_state = 123)"
      ],
      "execution_count": null,
      "outputs": []
    },
    {
      "cell_type": "code",
      "metadata": {
        "id": "MWVFgm5PiwRK"
      },
      "source": [
        "from sklearn.linear_model import LogisticRegression\n",
        "lr = LogisticRegression()\n",
        "lr.fit(x_train,y_train)"
      ],
      "execution_count": null,
      "outputs": []
    },
    {
      "cell_type": "code",
      "metadata": {
        "id": "YmZcLATGi1EH"
      },
      "source": [
        "y_pred = lr.predict( x_test)\n",
        "y_pred_proba = lr.predict_proba(x_test)[:, 1]"
      ],
      "execution_count": null,
      "outputs": []
    },
    {
      "cell_type": "markdown",
      "metadata": {
        "id": "aRw9IKuWi9TH"
      },
      "source": [
        "##Confusion_matrix"
      ]
    },
    {
      "cell_type": "markdown",
      "metadata": {
        "id": "ee6jEPSjjOOz"
      },
      "source": [
        "- conf_mat=multiclass,\n",
        "- colorbar=True,\n",
        "- show_absolute=False,\n",
        "- show_normed=True,\n",
        "- class_names=class_names\n"
      ]
    },
    {
      "cell_type": "code",
      "metadata": {
        "id": "tUa_uJzdi5TX"
      },
      "source": [
        "from sklearn.metrics import confusion_matrix, classification_report\n",
        "from mlxtend.plotting import plot_confusion_matrix\n",
        "\n",
        "cm=confusion_matrix(y_test, y_pred)\n",
        "fig, ax = plot_confusion_matrix(conf_mat=cm)\n",
        "plt.rcParams['font.size'] = 40\n",
        "#(conf_mat=multiclass,colorbar=True, show_absolute=False, show_normed=True, class_names=class_names)\n",
        "plt.show()\n",
        "\n",
        "# 0,0  \n",
        "# 0,1   \n",
        "# 1,0\n",
        "# 1,1 "
      ],
      "execution_count": null,
      "outputs": []
    },
    {
      "cell_type": "code",
      "metadata": {
        "id": "aqUf10b8jnAb"
      },
      "source": [
        "print(classification_report(y_test, y_pred))"
      ],
      "execution_count": null,
      "outputs": []
    },
    {
      "cell_type": "code",
      "metadata": {
        "id": "cJFF8Jysj8yU"
      },
      "source": [
        "from sklearn.model_selection import train_test_split, cross_val_score\n",
        "from sklearn.metrics import accuracy_score, classification_report, precision_score, recall_score \n",
        "from sklearn.metrics import confusion_matrix, precision_recall_curve, roc_curve, auc, log_loss"
      ],
      "execution_count": null,
      "outputs": []
    },
    {
      "cell_type": "code",
      "metadata": {
        "id": "mu26-7BQj44c"
      },
      "source": [
        "[fpr, tpr, thr] = roc_curve(y_test, y_pred_proba)"
      ],
      "execution_count": null,
      "outputs": []
    },
    {
      "cell_type": "code",
      "metadata": {
        "id": "OXkrW3xojrbC"
      },
      "source": [
        "print('Train/Test split results:')\n",
        "print(lr.__class__.__name__+\" accuracy is %2.3f\" % accuracy_score(y_test, y_pred))\n",
        "print(lr.__class__.__name__+\" log_loss is %2.3f\" % log_loss(y_test, y_pred_proba))\n",
        "print(lr.__class__.__name__+\" auc is %2.3f\" % auc(fpr, tpr))\n",
        "\n",
        "idx = np.min(np.where(tpr > 0.95)) # index of the first threshold for which the sensibility > 0.95"
      ],
      "execution_count": null,
      "outputs": []
    },
    {
      "cell_type": "code",
      "metadata": {
        "id": "OZb4VxfSkWn7"
      },
      "source": [
        "plt.figure(figsize=(10,10))\n",
        "plt.plot(fpr, tpr, color='coral', label='ROC curve (area = %0.3f)' % auc(fpr, tpr))\n",
        "plt.plot([0, 1], [0, 1], 'k--')\n",
        "plt.plot([0,fpr[idx]], [tpr[idx],tpr[idx]], 'k--', color='blue')\n",
        "plt.plot([fpr[idx],fpr[idx]], [0,tpr[idx]], 'k--', color='blue')\n",
        "plt.xlim([0.0, 1.0])\n",
        "plt.ylim([0.0, 1.05])\n",
        "plt.xlabel('False Positive Rate (1 - specificity)', fontsize=5)\n",
        "plt.ylabel('True Positive Rate (recall)', fontsize=5)\n",
        "plt.title('Receiver operating characteristic (ROC) curve')\n",
        "plt.legend(loc=\"lower right\")\n",
        "plt.show()"
      ],
      "execution_count": null,
      "outputs": []
    },
    {
      "cell_type": "code",
      "metadata": {
        "id": "qvBzGwQf2LC3"
      },
      "source": [
        "heart_df.corr()"
      ],
      "execution_count": null,
      "outputs": []
    },
    {
      "cell_type": "code",
      "metadata": {
        "id": "LURO933S2s6y"
      },
      "source": [
        "from sklearn.linear_model import LogisticRegression\n",
        "from sklearn.model_selection import cross_val_score\n",
        "from sklearn import metrics\n",
        "\n",
        "LR_model= LogisticRegression()\n",
        "\n",
        "tuned_parameters = {'C': [0.001, 0.01, 0.1, 1, 10, 100, 1000] ,\n",
        "              'penalty':['l1','l2']\n",
        "}"
      ],
      "execution_count": null,
      "outputs": []
    },
    {
      "cell_type": "markdown",
      "metadata": {
        "id": "KEbj9d0Z2v--"
      },
      "source": [
        "L1 and L2 are regularization parameters.They're used to avoid overfiting.Both L1 and L2 regularization prevents overfitting by shrinking (imposing a penalty) on the coefficients.\n",
        "L1 is the first moment norm |x1-x2| (|w| for regularization case) that is simply the absolute dıstance between two points where L2 is second moment norm corresponding to Eucledian Distance that is |x1-x2|^2 (|w|^2 for regularization case).\n",
        "In simple words,L2 (Ridge) shrinks all the coefficient by the same proportions but eliminates none, while L1 (Lasso) can shrink some coefficients to zero, performing variable selection. If all the features are correlated with the label, ridge outperforms lasso, as the coefficients are never zero in ridge. If only a subset of features are correlated with the label, lasso outperforms ridge as in lasso model some coefficient can be shrunken to zero."
      ]
    },
    {
      "cell_type": "code",
      "metadata": {
        "id": "sONm9KOQ2yj6"
      },
      "source": [
        "heart_df.corr()"
      ],
      "execution_count": null,
      "outputs": []
    },
    {
      "cell_type": "code",
      "metadata": {
        "id": "VDa1jaU3240b"
      },
      "source": [
        "from sklearn.model_selection import GridSearchCV\n",
        "\n",
        "LR= GridSearchCV(LR_model, tuned_parameters,cv=10)"
      ],
      "execution_count": null,
      "outputs": []
    },
    {
      "cell_type": "code",
      "metadata": {
        "id": "BPJOjvq73GAj"
      },
      "source": [
        "LR.fit(x_train,y_train)"
      ],
      "execution_count": null,
      "outputs": []
    },
    {
      "cell_type": "code",
      "metadata": {
        "id": "gjBAYB3c3KW4"
      },
      "source": [
        "print(LR.best_params_)"
      ],
      "execution_count": null,
      "outputs": []
    },
    {
      "cell_type": "code",
      "metadata": {
        "id": "qgZY-KhA3OeX"
      },
      "source": [
        "y_prob = LR.predict_proba(x_test)[:,1] # This will give  positive class prediction probabilities  \n",
        "y_pred = np.where(y_prob > 0.5, 1, 0) # This will threshold the probabilities to give class predictions.\n",
        "LR.score(x_test, y_pred)"
      ],
      "execution_count": null,
      "outputs": []
    },
    {
      "cell_type": "code",
      "metadata": {
        "id": "QwPhYizx3fp0"
      },
      "source": [
        "confusion_matrix=metrics.confusion_matrix(y_test,y_pred)\n",
        "confusion_matrix"
      ],
      "execution_count": null,
      "outputs": []
    },
    {
      "cell_type": "code",
      "metadata": {
        "id": "65HB8REa3VsV"
      },
      "source": [
        "\n",
        "\n",
        "from sklearn.metrics import confusion_matrix, classification_report\n",
        "from mlxtend.plotting import plot_confusion_matrix\n",
        "\n",
        "cm=confusion_matrix(y_test, y_pred)\n",
        "fig, ax = plot_confusion_matrix(conf_mat=cm)\n",
        "plt.rcParams['font.size'] = 40\n",
        "#(conf_mat=multiclass,colorbar=True, show_absolute=False, show_normed=True, class_names=class_names)\n",
        "plt.show()"
      ],
      "execution_count": null,
      "outputs": []
    },
    {
      "cell_type": "code",
      "metadata": {
        "id": "OeoEj2tt3i0b"
      },
      "source": [
        "auc_roc=metrics.classification_report(y_test,y_pred)\n",
        "auc_roc"
      ],
      "execution_count": null,
      "outputs": []
    },
    {
      "cell_type": "code",
      "metadata": {
        "id": "Q1lCDPmk3mr3"
      },
      "source": [
        "auc_roc=metrics.roc_auc_score(y_test,y_pred)\n",
        "auc_roc"
      ],
      "execution_count": null,
      "outputs": []
    },
    {
      "cell_type": "code",
      "metadata": {
        "id": "vlm208QS3qVf"
      },
      "source": [
        "from sklearn.metrics import roc_curve, auc\n",
        "false_positive_rate, true_positive_rate, thresholds = roc_curve(y_test, y_prob)\n",
        "roc_auc = auc(false_positive_rate, true_positive_rate)\n",
        "roc_auc"
      ],
      "execution_count": null,
      "outputs": []
    },
    {
      "cell_type": "code",
      "metadata": {
        "id": "sMx6YtTg352E"
      },
      "source": [
        "LR_ridge= LogisticRegression(penalty='l2')\n",
        "LR_ridge.fit(x_train,y_train)"
      ],
      "execution_count": null,
      "outputs": []
    },
    {
      "cell_type": "code",
      "metadata": {
        "id": "mJUClN0P4Lcz"
      },
      "source": [
        "y_prob = LR_ridge.predict_proba(x_test)[:,1] # This will give positive class prediction probabilities  \n",
        "y_pred = np.where(y_prob > 0.5, 1, 0) # This will threshold the probabilities to give class predictions.\n",
        "LR_ridge.score(x_test, y_pred)"
      ],
      "execution_count": null,
      "outputs": []
    },
    {
      "cell_type": "code",
      "metadata": {
        "id": "QmOvBa9y4ThP"
      },
      "source": [
        "confusion_matrix=metrics.confusion_matrix(y_test,y_pred)\n",
        "confusion_matrix"
      ],
      "execution_count": null,
      "outputs": []
    },
    {
      "cell_type": "code",
      "metadata": {
        "id": "5bLOeo2I4VlP"
      },
      "source": [
        "from sklearn.metrics import confusion_matrix, classification_report\n",
        "from mlxtend.plotting import plot_confusion_matrix\n",
        "\n",
        "cm=confusion_matrix(y_test, y_pred)\n",
        "fig, ax = plot_confusion_matrix(conf_mat=cm)\n",
        "plt.rcParams['font.size'] = 40\n",
        "#(conf_mat=multiclass,colorbar=True, show_absolute=False, show_normed=True, class_names=class_names)\n",
        "plt.show()"
      ],
      "execution_count": null,
      "outputs": []
    },
    {
      "cell_type": "code",
      "metadata": {
        "id": "BeJRCudg4c8L"
      },
      "source": [
        "auc_roc=metrics.classification_report(y_test,y_pred)\n",
        "auc_roc"
      ],
      "execution_count": null,
      "outputs": []
    },
    {
      "cell_type": "code",
      "metadata": {
        "id": "aZDF--lT4jxx"
      },
      "source": [
        "auc_roc=metrics.roc_auc_score(y_test,y_pred)\n",
        "auc_roc"
      ],
      "execution_count": null,
      "outputs": []
    },
    {
      "cell_type": "code",
      "metadata": {
        "id": "_W7YrPrt4nbB"
      },
      "source": [
        "from sklearn.metrics import roc_curve, auc\n",
        "false_positive_rate, true_positive_rate, thresholds = roc_curve(y_test, y_prob)\n",
        "roc_auc = auc(false_positive_rate, true_positive_rate)\n",
        "roc_auc"
      ],
      "execution_count": null,
      "outputs": []
    },
    {
      "cell_type": "markdown",
      "metadata": {
        "id": "SdEjx3_AASQ6"
      },
      "source": [
        "#**EXPERIMENTAL ZONE**"
      ]
    },
    {
      "cell_type": "markdown",
      "metadata": {
        "id": "x5qGlmAO7aBi"
      },
      "source": [
        "#LASSO AND RIDGE\n",
        "\n",
        "```\n",
        "# This is formatted as code\n",
        "```\n",
        "\n"
      ]
    },
    {
      "cell_type": "code",
      "metadata": {
        "id": "7sS6z2ToC-X3"
      },
      "source": [
        "Training_Accuracy_Before = []\n",
        "Testing_Accuracy_Before = []\n",
        "Training_Accuracy_After = []\n",
        "Testing_Accuracy_After = []\n",
        "Models = ['Linear Regression', 'Lasso Regression', 'Ridge Regression']"
      ],
      "execution_count": null,
      "outputs": []
    },
    {
      "cell_type": "code",
      "metadata": {
        "id": "b1kcNqtJ7x5L"
      },
      "source": [
        "alpha_space = np.logspace(-4, 0, 30)   # Checking for alpha from .0001 to 1 and finding the best value for alpha\n",
        "alpha_space"
      ],
      "execution_count": null,
      "outputs": []
    },
    {
      "cell_type": "code",
      "metadata": {
        "id": "JVN3Qnrw7ZaI"
      },
      "source": [
        "ridge_scores = []\n",
        "ridge = Ridge(normalize = True)\n",
        "for alpha in alpha_space:\n",
        "    ridge.alpha = alpha\n",
        "    val = np.mean(cross_val_score(ridge,x_train,y_train, cv = 10))\n",
        "    ridge_scores.append(val)"
      ],
      "execution_count": null,
      "outputs": []
    },
    {
      "cell_type": "code",
      "metadata": {
        "id": "eViDwfze7ij6"
      },
      "source": [
        "lasso_scores = []\n",
        "lasso = Lasso(normalize = True)\n",
        "for alpha in alpha_space:\n",
        "    lasso.alpha = alpha\n",
        "    val = np.mean(cross_val_score(lasso, x_train,y_train, cv = 10))\n",
        "    lasso_scores.append(val)"
      ],
      "execution_count": null,
      "outputs": []
    },
    {
      "cell_type": "code",
      "metadata": {
        "id": "wfgjm6pd7lHs"
      },
      "source": [
        "plt.figure(figsize=(8, 8))\n",
        "plt.plot(alpha_space, ridge_scores, marker = 'D', label = \"Ridge\")\n",
        "plt.plot(alpha_space, lasso_scores, marker = 'D', label = \"Lasso\")\n",
        "plt.legend()\n",
        "plt.show()"
      ],
      "execution_count": null,
      "outputs": []
    },
    {
      "cell_type": "code",
      "metadata": {
        "id": "WnksxwYm96Jc"
      },
      "source": [
        "# Performing GridSearchCV with Cross Validation technique on Lasso Regression and finding the optimum value of alpha\n",
        "\n",
        "params = {'alpha': (np.logspace(-8, 8, 100))} # It will check from 1e-08 to 1e+08\n",
        "lasso = Lasso(normalize=True)\n",
        "lasso_model = GridSearchCV(lasso, params, cv = 10)\n",
        "lasso_model.fit(x_train, y_train)\n",
        "print(lasso_model.best_params_)\n",
        "print(lasso_model.best_score_)"
      ],
      "execution_count": null,
      "outputs": []
    },
    {
      "cell_type": "code",
      "metadata": {
        "id": "fGgLGmo1-BKY"
      },
      "source": [
        "# Using value of alpha as 0.009545 to get best accuracy for Lasso Regression\n",
        "lasso = Lasso(alpha = 0.009545, normalize = True)\n",
        "lasso.fit(x_train, y_train)\n",
        "\n",
        "train_score = lasso.score(x_train, y_train)\n",
        "print(train_score)\n",
        "test_score = lasso.score(x_test, y_test)\n",
        "print(test_score)\n",
        "Training_Accuracy_Before.append(train_score)\n",
        "Testing_Accuracy_Before.append(test_score)"
      ],
      "execution_count": null,
      "outputs": []
    },
    {
      "cell_type": "code",
      "metadata": {
        "id": "iCqTkWui-KLt"
      },
      "source": [
        "# Performing GridSearchCV with Cross Validation technique on Ridge Regression and finding the optimum value of alpha\n",
        "\n",
        "params = {'alpha': (np.logspace(-8, 8, 100))} # It will check from 1e-08 to 1e+08\n",
        "ridge = Ridge(normalize=True)\n",
        "ridge_model = GridSearchCV(ridge, params, cv = 10)\n",
        "ridge_model.fit(x_train, y_train)\n",
        "print(ridge_model.best_params_)\n",
        "print(ridge_model.best_score_)"
      ],
      "execution_count": null,
      "outputs": []
    },
    {
      "cell_type": "code",
      "metadata": {
        "id": "uObf9_ow-0Ny"
      },
      "source": [
        "# Using value of alpha as 1.2045035 to get best accuracy for Ridge Regression\n",
        "ridge = Ridge(alpha = 1.2045035, normalize = True)\n",
        "ridge.fit(x_train, y_train)\n",
        "\n",
        "train_score = ridge.score(x_train, y_train)\n",
        "print(train_score)\n",
        "test_score = ridge.score(x_test, y_test)\n",
        "print(test_score)\n",
        "Training_Accuracy_Before.append(train_score)\n",
        "Testing_Accuracy_Before.append(test_score)"
      ],
      "execution_count": null,
      "outputs": []
    },
    {
      "cell_type": "code",
      "metadata": {
        "id": "d8AVp14K_FvM"
      },
      "source": [
        "coefficients = lasso.coef_\n",
        "coefficients"
      ],
      "execution_count": null,
      "outputs": []
    },
    {
      "cell_type": "code",
      "metadata": {
        "id": "DWsqrFBTA7pZ"
      },
      "source": [
        "from sklearn.linear_model import LinearRegression"
      ],
      "execution_count": null,
      "outputs": []
    },
    {
      "cell_type": "code",
      "metadata": {
        "id": "yDO1yQGVAnkj"
      },
      "source": [
        "logreg = LinearRegression()\n",
        "logreg.fit(x_train, y_train)\n",
        "\n",
        "train_score = logreg.score(x_train, y_train)\n",
        "print(train_score)\n",
        "test_score = logreg.score(x_test, y_test)\n",
        "print(test_score)\n",
        "\n",
        "Training_Accuracy_After.append(train_score)\n",
        "Testing_Accuracy_After.append(test_score)"
      ],
      "execution_count": null,
      "outputs": []
    },
    {
      "cell_type": "code",
      "metadata": {
        "id": "tQbNGP8kBBxv"
      },
      "source": [
        "# Performing GridSearchCV with Cross Validation technique on Lasso Regression and finding the optimum value of alpha\n",
        "\n",
        "params = {'alpha': (np.logspace(-8, 8, 100))} # It will check from 1e-08 to 1e+08\n",
        "lasso = Lasso(normalize=True)\n",
        "lasso_model = GridSearchCV(lasso, params, cv = 10)\n",
        "lasso_model.fit(x_train, y_train)\n",
        "print(lasso_model.best_params_)\n",
        "print(lasso_model.best_score_)"
      ],
      "execution_count": null,
      "outputs": []
    },
    {
      "cell_type": "code",
      "metadata": {
        "id": "kxOnqk1FBI5e"
      },
      "source": [
        "# Using value of alpha as 0.009545 to get best accuracy for Lasso Regression\n",
        "lasso = Lasso(alpha = 0.009545, normalize = True)\n",
        "lasso.fit(x_train, y_train)\n",
        "\n",
        "train_score = lasso.score(x_train, y_train)\n",
        "print(train_score)\n",
        "test_score = lasso.score(x_test, y_test)\n",
        "print(test_score)\n",
        "Training_Accuracy_After.append(train_score)\n",
        "Testing_Accuracy_After.append(test_score)"
      ],
      "execution_count": null,
      "outputs": []
    },
    {
      "cell_type": "code",
      "metadata": {
        "id": "ChMbrNa3Bck8"
      },
      "source": [
        "# Performing GridSearchCV with Cross Validation technique on Ridge Regression and finding the optimum value of alpha\n",
        "\n",
        "params = {'alpha': (np.logspace(-8, 8, 100))} # It will check from 1e-08 to 1e+08\n",
        "ridge = Ridge(normalize=True)\n",
        "ridge_model = GridSearchCV(ridge, params, cv = 10)\n",
        "ridge_model.fit(x_train, y_train)\n",
        "print(ridge_model.best_params_)\n",
        "print(ridge_model.best_score_)"
      ],
      "execution_count": null,
      "outputs": []
    },
    {
      "cell_type": "code",
      "metadata": {
        "id": "Tlft01SFBjRv"
      },
      "source": [
        "# Using value of alpha as 1.204503 to get best accuracy for Ridge Regression\n",
        "ridge = Ridge(alpha = 1.204503, normalize = True)\n",
        "ridge.fit(x_train, y_train)\n",
        "\n",
        "train_score = ridge.score(x_train, y_train)\n",
        "print(train_score)\n",
        "test_score = ridge.score(x_test, y_test)\n",
        "print(test_score)\n",
        "Training_Accuracy_After.append(train_score)\n",
        "Testing_Accuracy_After.append(test_score)"
      ],
      "execution_count": null,
      "outputs": []
    },
    {
      "cell_type": "code",
      "metadata": {
        "id": "zUu90kBEDMgH"
      },
      "source": [
        ""
      ],
      "execution_count": null,
      "outputs": []
    },
    {
      "cell_type": "code",
      "metadata": {
        "id": "qxriKaznDHXl"
      },
      "source": [
        "plt.figure(figsize=(50,10))\n",
        "plt.plot(Training_Accuracy_Before, label = 'Training_Accuracy_Before')\n",
        "plt.plot(Training_Accuracy_After, label = 'Training_Accuracy_After')\n",
        "plt.xticks(range(len(Models)), Models, Rotation = 45)\n",
        "plt.title('Training Accuracy Behaviour')\n",
        "plt.legend()\n",
        "plt.show()"
      ],
      "execution_count": null,
      "outputs": []
    },
    {
      "cell_type": "code",
      "metadata": {
        "id": "GdRbP7uSCzAI"
      },
      "source": [
        "plt.figure(figsize=(50,10))\n",
        "plt.plot(Testing_Accuracy_Before, label = 'Testing_Accuracy_Before')\n",
        "plt.plot(Testing_Accuracy_After, label = 'Testing_Accuracy_After')\n",
        "plt.xticks(range(len(Models)), Models, Rotation = 45)\n",
        "plt.title('Testing Accuracy Behaviour')\n",
        "plt.legend()\n",
        "plt.show()"
      ],
      "execution_count": null,
      "outputs": []
    },
    {
      "cell_type": "markdown",
      "metadata": {
        "id": "V5UXCfFz3-va"
      },
      "source": [
        "#**DANGER** **ZONE**"
      ]
    },
    {
      "cell_type": "code",
      "metadata": {
        "id": "W9o5TwaxLOET"
      },
      "source": [
        "#list of alpha for tuning\n",
        "params = {'alpha' : [0.001 , 0.001,0.01,0.05,\n",
        "                     0.1,0.2,0.3,0.4,0.5,0.6,0.7,0.8,.9,\n",
        "                     1.0,2.0,3.0,4.0,5.0,6.0,7.0,8.0,9.0,\n",
        "                     10.0,20,30,40,50,100,500,1000]}\n",
        "\n",
        "ridge = Ridge()\n",
        "\n",
        "# cross validation\n",
        "folds = 5\n",
        "model_cv = GridSearchCV(estimator = ridge,\n",
        "                       param_grid = params,\n",
        "                       scoring = 'neg_mean_absolute_error',\n",
        "                       cv = folds,\n",
        "                       return_train_score = True,\n",
        "                       verbose = 1)\n",
        "\n",
        "model_cv.fit(x_train,y_train)"
      ],
      "execution_count": null,
      "outputs": []
    },
    {
      "cell_type": "code",
      "metadata": {
        "id": "oUmptY1wLbkR"
      },
      "source": [
        "#Checking the value of optimum number of parameters\n",
        "print(model_cv.best_params_)\n",
        "print(model_cv.best_score_)"
      ],
      "execution_count": null,
      "outputs": []
    },
    {
      "cell_type": "code",
      "metadata": {
        "id": "AZksEI9aLizk"
      },
      "source": [
        "cv_results = pd.DataFrame(model_cv.cv_results_)\n",
        "cv_results = cv_results[cv_results['param_alpha']<=1000]\n",
        "cv_results"
      ],
      "execution_count": null,
      "outputs": []
    },
    {
      "cell_type": "code",
      "metadata": {
        "id": "nRpqixjkLsRE"
      },
      "source": [
        "# plotting mean test and train scoes with alpha \n",
        "cv_results['param_alpha'] = cv_results['param_alpha'].astype('int32')\n",
        "plt.figure(figsize=(16,5))\n",
        "\n",
        "# plotting\n",
        "plt.plot(cv_results['param_alpha'], cv_results['mean_train_score'])\n",
        "plt.plot(cv_results['param_alpha'], cv_results['mean_test_score'])\n",
        "plt.xlabel('alpha')\n",
        "plt.ylabel('Negative Mean Absolute Error')\n",
        "plt.title(\"Negative Mean Absolute Error and alpha\")\n",
        "plt.legend(['train score', 'test score'], loc='upper right')\n",
        "plt.show()"
      ],
      "execution_count": null,
      "outputs": []
    },
    {
      "cell_type": "markdown",
      "metadata": {
        "id": "DinpbC5LL4Lb"
      },
      "source": [
        "#Insights:"
      ]
    },
    {
      "cell_type": "code",
      "metadata": {
        "id": "uyRNPMaLL0Ol"
      },
      "source": [
        "alpha = 4\n",
        "ridge = Ridge(alpha=alpha)\n",
        "\n",
        "ridge.fit(x_train,y_train)\n",
        "ridge.coef_"
      ],
      "execution_count": null,
      "outputs": []
    }
  ]
}