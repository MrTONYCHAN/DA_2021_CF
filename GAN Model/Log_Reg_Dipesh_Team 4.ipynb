{
 "cells": [
  {
   "cell_type": "markdown",
   "id": "910b1a17",
   "metadata": {},
   "source": [
    "# Logistic Regression"
   ]
  },
  {
   "cell_type": "markdown",
   "id": "54d4968d",
   "metadata": {},
   "source": [
    "## On "
   ]
  },
  {
   "cell_type": "code",
   "execution_count": 1,
   "id": "54144f7f",
   "metadata": {},
   "outputs": [],
   "source": [
    "import warnings\n",
    "warnings.filterwarnings('ignore')"
   ]
  },
  {
   "cell_type": "code",
   "execution_count": 2,
   "id": "95c52d77",
   "metadata": {},
   "outputs": [],
   "source": [
    "import pandas as pd\n",
    "import numpy as np\n",
    "import matplotlib.pyplot as plt \n",
    "import seaborn as sns\n",
    "from sklearn.linear_model import LogisticRegression\n",
    "from sklearn.model_selection import train_test_split\n",
    "from sklearn.preprocessing import StandardScaler\n",
    "from sklearn.metrics import confusion_matrix\n",
    "from sklearn import metrics"
   ]
  },
  {
   "cell_type": "code",
   "execution_count": 3,
   "id": "3a236578",
   "metadata": {},
   "outputs": [
    {
     "data": {
      "text/html": [
       "<div>\n",
       "<style scoped>\n",
       "    .dataframe tbody tr th:only-of-type {\n",
       "        vertical-align: middle;\n",
       "    }\n",
       "\n",
       "    .dataframe tbody tr th {\n",
       "        vertical-align: top;\n",
       "    }\n",
       "\n",
       "    .dataframe thead th {\n",
       "        text-align: right;\n",
       "    }\n",
       "</style>\n",
       "<table border=\"1\" class=\"dataframe\">\n",
       "  <thead>\n",
       "    <tr style=\"text-align: right;\">\n",
       "      <th></th>\n",
       "      <th>Type of Account</th>\n",
       "      <th>Account History</th>\n",
       "      <th>Reason for the Loan</th>\n",
       "      <th>Loan Amount</th>\n",
       "      <th>Account Savings</th>\n",
       "      <th>Employment History</th>\n",
       "      <th>Individual Stauts</th>\n",
       "      <th>Other Loans</th>\n",
       "      <th>Security / Collateral</th>\n",
       "      <th>Age</th>\n",
       "      <th>Residence Status</th>\n",
       "      <th>Job</th>\n",
       "      <th>Completed Other loan?</th>\n",
       "      <th>Good Loan</th>\n",
       "    </tr>\n",
       "  </thead>\n",
       "  <tbody>\n",
       "    <tr>\n",
       "      <th>0</th>\n",
       "      <td>No Data</td>\n",
       "      <td>critical</td>\n",
       "      <td>Learning / Edu purposes</td>\n",
       "      <td>2116.0</td>\n",
       "      <td>0-200</td>\n",
       "      <td>5-7 Years</td>\n",
       "      <td>Male</td>\n",
       "      <td>No</td>\n",
       "      <td>Property - Real Estate</td>\n",
       "      <td>47.0</td>\n",
       "      <td>House Owner</td>\n",
       "      <td>Services</td>\n",
       "      <td>No</td>\n",
       "      <td>No</td>\n",
       "    </tr>\n",
       "    <tr>\n",
       "      <th>1</th>\n",
       "      <td>No Data</td>\n",
       "      <td>critical</td>\n",
       "      <td>TV</td>\n",
       "      <td>2438.0</td>\n",
       "      <td>No Data</td>\n",
       "      <td>7+ Years</td>\n",
       "      <td>Male</td>\n",
       "      <td>No</td>\n",
       "      <td>Savings Account</td>\n",
       "      <td>52.0</td>\n",
       "      <td>House Owner</td>\n",
       "      <td>Skilled Labor</td>\n",
       "      <td>No</td>\n",
       "      <td>No</td>\n",
       "    </tr>\n",
       "    <tr>\n",
       "      <th>2</th>\n",
       "      <td>No Data</td>\n",
       "      <td>critical</td>\n",
       "      <td>Buying a New Car</td>\n",
       "      <td>2144.0</td>\n",
       "      <td>0-200</td>\n",
       "      <td>2-5 Years</td>\n",
       "      <td>Male</td>\n",
       "      <td>No</td>\n",
       "      <td>Vehicle</td>\n",
       "      <td>48.0</td>\n",
       "      <td>House Owner</td>\n",
       "      <td>Skilled Labor</td>\n",
       "      <td>No</td>\n",
       "      <td>No</td>\n",
       "    </tr>\n",
       "    <tr>\n",
       "      <th>3</th>\n",
       "      <td>No Data</td>\n",
       "      <td>critical</td>\n",
       "      <td>Home furniture</td>\n",
       "      <td>2073.0</td>\n",
       "      <td>No Data</td>\n",
       "      <td>2-5 Years</td>\n",
       "      <td>Married</td>\n",
       "      <td>No</td>\n",
       "      <td>Vehicle</td>\n",
       "      <td>25.0</td>\n",
       "      <td>House Owner</td>\n",
       "      <td>Skilled Labor</td>\n",
       "      <td>Yes</td>\n",
       "      <td>No</td>\n",
       "    </tr>\n",
       "    <tr>\n",
       "      <th>4</th>\n",
       "      <td>No Data</td>\n",
       "      <td>critical</td>\n",
       "      <td>Support for Business</td>\n",
       "      <td>1276.0</td>\n",
       "      <td>No Data</td>\n",
       "      <td>7+ Years</td>\n",
       "      <td>Male</td>\n",
       "      <td>No</td>\n",
       "      <td>No Security</td>\n",
       "      <td>59.0</td>\n",
       "      <td>Renting</td>\n",
       "      <td>Services</td>\n",
       "      <td>No</td>\n",
       "      <td>No</td>\n",
       "    </tr>\n",
       "  </tbody>\n",
       "</table>\n",
       "</div>"
      ],
      "text/plain": [
       "  Type of Account Account History      Reason for the Loan  Loan Amount  \\\n",
       "0         No Data        critical  Learning / Edu purposes       2116.0   \n",
       "1         No Data        critical                       TV       2438.0   \n",
       "2         No Data        critical         Buying a New Car       2144.0   \n",
       "3         No Data        critical           Home furniture       2073.0   \n",
       "4         No Data        critical     Support for Business       1276.0   \n",
       "\n",
       "  Account Savings Employment History Individual Stauts Other Loans  \\\n",
       "0           0-200          5-7 Years              Male          No   \n",
       "1         No Data           7+ Years              Male          No   \n",
       "2           0-200          2-5 Years              Male          No   \n",
       "3         No Data          2-5 Years           Married          No   \n",
       "4         No Data           7+ Years              Male          No   \n",
       "\n",
       "    Security / Collateral   Age Residence Status            Job  \\\n",
       "0  Property - Real Estate  47.0      House Owner       Services   \n",
       "1         Savings Account  52.0      House Owner  Skilled Labor   \n",
       "2                 Vehicle  48.0      House Owner  Skilled Labor   \n",
       "3                 Vehicle  25.0      House Owner  Skilled Labor   \n",
       "4             No Security  59.0          Renting       Services   \n",
       "\n",
       "  Completed Other loan? Good Loan  \n",
       "0                    No        No  \n",
       "1                    No        No  \n",
       "2                    No        No  \n",
       "3                   Yes        No  \n",
       "4                    No        No  "
      ]
     },
     "execution_count": 3,
     "metadata": {},
     "output_type": "execute_result"
    }
   ],
   "source": [
    " loan = pd.read_csv(\"D:\\Logistic Regression Dummy Data v3.csv\")\n",
    "loan.head()"
   ]
  },
  {
   "cell_type": "code",
   "execution_count": 4,
   "id": "e2353a4a",
   "metadata": {},
   "outputs": [
    {
     "data": {
      "text/plain": [
       "(1006, 14)"
      ]
     },
     "execution_count": 4,
     "metadata": {},
     "output_type": "execute_result"
    }
   ],
   "source": [
    "loan.shape"
   ]
  },
  {
   "cell_type": "code",
   "execution_count": 5,
   "id": "9715bdb8",
   "metadata": {
    "scrolled": false
   },
   "outputs": [
    {
     "name": "stdout",
     "output_type": "stream",
     "text": [
      "<class 'pandas.core.frame.DataFrame'>\n",
      "RangeIndex: 1006 entries, 0 to 1005\n",
      "Data columns (total 14 columns):\n",
      " #   Column                 Non-Null Count  Dtype  \n",
      "---  ------                 --------------  -----  \n",
      " 0   Type of Account        1004 non-null   object \n",
      " 1   Account History        1004 non-null   object \n",
      " 2   Reason for the Loan    1003 non-null   object \n",
      " 3   Loan Amount            1003 non-null   float64\n",
      " 4   Account Savings        1002 non-null   object \n",
      " 5   Employment History     1001 non-null   object \n",
      " 6   Individual Stauts      1001 non-null   object \n",
      " 7   Other Loans            1001 non-null   object \n",
      " 8   Security / Collateral  1001 non-null   object \n",
      " 9   Age                    1002 non-null   float64\n",
      " 10  Residence Status       1002 non-null   object \n",
      " 11  Job                    1002 non-null   object \n",
      " 12  Completed Other loan?  1002 non-null   object \n",
      " 13  Good Loan              1001 non-null   object \n",
      "dtypes: float64(2), object(12)\n",
      "memory usage: 110.2+ KB\n"
     ]
    }
   ],
   "source": [
    "loan.info()"
   ]
  },
  {
   "cell_type": "markdown",
   "id": "df804e87",
   "metadata": {},
   "source": [
    "Object Type: "
   ]
  },
  {
   "cell_type": "markdown",
   "id": "94acf651",
   "metadata": {},
   "source": [
    "##### Handling Null Values"
   ]
  },
  {
   "cell_type": "code",
   "execution_count": 6,
   "id": "6b3bd534",
   "metadata": {},
   "outputs": [
    {
     "data": {
      "text/plain": [
       "Type of Account          2\n",
       "Account History          2\n",
       "Reason for the Loan      3\n",
       "Loan Amount              3\n",
       "Account Savings          4\n",
       "Employment History       5\n",
       "Individual Stauts        5\n",
       "Other Loans              5\n",
       "Security / Collateral    5\n",
       "Age                      4\n",
       "Residence Status         4\n",
       "Job                      4\n",
       "Completed Other loan?    4\n",
       "Good Loan                5\n",
       "dtype: int64"
      ]
     },
     "execution_count": 6,
     "metadata": {},
     "output_type": "execute_result"
    }
   ],
   "source": [
    "loan.isnull().sum()"
   ]
  },
  {
   "cell_type": "code",
   "execution_count": 7,
   "id": "43ad074b",
   "metadata": {},
   "outputs": [],
   "source": [
    "loan['Type of Account'].dropna(inplace=True)\n",
    "loan.dropna(subset=['Type of Account'], how='all',inplace =True)\n",
    "#dropping rows which have null values in account type"
   ]
  },
  {
   "cell_type": "code",
   "execution_count": 8,
   "id": "4c90e4d7",
   "metadata": {},
   "outputs": [
    {
     "data": {
      "text/plain": [
       "Type of Account          0\n",
       "Account History          0\n",
       "Reason for the Loan      1\n",
       "Loan Amount              2\n",
       "Account Savings          3\n",
       "Employment History       3\n",
       "Individual Stauts        3\n",
       "Other Loans              3\n",
       "Security / Collateral    3\n",
       "Age                      3\n",
       "Residence Status         3\n",
       "Job                      3\n",
       "Completed Other loan?    3\n",
       "Good Loan                3\n",
       "dtype: int64"
      ]
     },
     "execution_count": 8,
     "metadata": {},
     "output_type": "execute_result"
    }
   ],
   "source": [
    "loan.isnull().sum()"
   ]
  },
  {
   "cell_type": "code",
   "execution_count": 9,
   "id": "c3d492cc",
   "metadata": {},
   "outputs": [],
   "source": [
    "loan.dropna(subset=['Loan Amount','Other Loans'], how='all',inplace =True)\n",
    "#dropping rows which have null values in voth loan amount and other loans"
   ]
  },
  {
   "cell_type": "code",
   "execution_count": 10,
   "id": "9da6580b",
   "metadata": {},
   "outputs": [],
   "source": [
    "loan.dropna(subset=['Good Loan'], how='all',inplace =True)\n",
    "#dropping rows which have null values in good loan"
   ]
  },
  {
   "cell_type": "code",
   "execution_count": 11,
   "id": "7980819f",
   "metadata": {},
   "outputs": [
    {
     "data": {
      "text/plain": [
       "No     536\n",
       "Yes    465\n",
       "Name: Good Loan, dtype: int64"
      ]
     },
     "execution_count": 11,
     "metadata": {},
     "output_type": "execute_result"
    }
   ],
   "source": [
    "loan['Good Loan'].value_counts()"
   ]
  },
  {
   "cell_type": "code",
   "execution_count": 12,
   "id": "6eb539db",
   "metadata": {},
   "outputs": [
    {
     "data": {
      "text/plain": [
       "Type of Account          0\n",
       "Account History          0\n",
       "Reason for the Loan      0\n",
       "Loan Amount              0\n",
       "Account Savings          0\n",
       "Employment History       0\n",
       "Individual Stauts        0\n",
       "Other Loans              0\n",
       "Security / Collateral    0\n",
       "Age                      0\n",
       "Residence Status         0\n",
       "Job                      0\n",
       "Completed Other loan?    0\n",
       "Good Loan                0\n",
       "dtype: int64"
      ]
     },
     "execution_count": 12,
     "metadata": {},
     "output_type": "execute_result"
    }
   ],
   "source": [
    "loan.isnull().sum()"
   ]
  },
  {
   "cell_type": "code",
   "execution_count": 13,
   "id": "afbe356a",
   "metadata": {
    "scrolled": true
   },
   "outputs": [
    {
     "data": {
      "text/plain": [
       "Type C     322\n",
       "Type B     310\n",
       "Type A     216\n",
       "No Data    153\n",
       "Name: Type of Account, dtype: int64"
      ]
     },
     "execution_count": 13,
     "metadata": {},
     "output_type": "execute_result"
    }
   ],
   "source": [
    "loan['Type of Account'].value_counts()"
   ]
  },
  {
   "cell_type": "code",
   "execution_count": 14,
   "id": "b756d892",
   "metadata": {},
   "outputs": [],
   "source": [
    "loan['Type of Account']=loan['Type of Account'].replace(['No Data'], 'Type D')"
   ]
  },
  {
   "cell_type": "code",
   "execution_count": 15,
   "id": "31a9ad8e",
   "metadata": {},
   "outputs": [
    {
     "data": {
      "text/html": [
       "<div>\n",
       "<style scoped>\n",
       "    .dataframe tbody tr th:only-of-type {\n",
       "        vertical-align: middle;\n",
       "    }\n",
       "\n",
       "    .dataframe tbody tr th {\n",
       "        vertical-align: top;\n",
       "    }\n",
       "\n",
       "    .dataframe thead th {\n",
       "        text-align: right;\n",
       "    }\n",
       "</style>\n",
       "<table border=\"1\" class=\"dataframe\">\n",
       "  <thead>\n",
       "    <tr style=\"text-align: right;\">\n",
       "      <th></th>\n",
       "      <th>Type of Account</th>\n",
       "      <th>Account History</th>\n",
       "      <th>Reason for the Loan</th>\n",
       "      <th>Loan Amount</th>\n",
       "      <th>Account Savings</th>\n",
       "      <th>Employment History</th>\n",
       "      <th>Individual Stauts</th>\n",
       "      <th>Other Loans</th>\n",
       "      <th>Security / Collateral</th>\n",
       "      <th>Age</th>\n",
       "      <th>Residence Status</th>\n",
       "      <th>Job</th>\n",
       "      <th>Completed Other loan?</th>\n",
       "      <th>Good Loan</th>\n",
       "    </tr>\n",
       "  </thead>\n",
       "  <tbody>\n",
       "    <tr>\n",
       "      <th>679</th>\n",
       "      <td>Type C</td>\n",
       "      <td>Good</td>\n",
       "      <td>Home furniture</td>\n",
       "      <td>-548541254.0</td>\n",
       "      <td>No Data</td>\n",
       "      <td>Unemployed</td>\n",
       "      <td>Female_</td>\n",
       "      <td>No</td>\n",
       "      <td>Vehicle</td>\n",
       "      <td>327.0</td>\n",
       "      <td>House Owner</td>\n",
       "      <td>Skilled Labor</td>\n",
       "      <td>Yes</td>\n",
       "      <td>Yes</td>\n",
       "    </tr>\n",
       "  </tbody>\n",
       "</table>\n",
       "</div>"
      ],
      "text/plain": [
       "    Type of Account Account History Reason for the Loan  Loan Amount  \\\n",
       "679          Type C            Good      Home furniture -548541254.0   \n",
       "\n",
       "    Account Savings Employment History Individual Stauts Other Loans  \\\n",
       "679         No Data         Unemployed           Female_          No   \n",
       "\n",
       "    Security / Collateral    Age Residence Status            Job  \\\n",
       "679               Vehicle  327.0      House Owner  Skilled Labor   \n",
       "\n",
       "    Completed Other loan? Good Loan  \n",
       "679                   Yes       Yes  "
      ]
     },
     "execution_count": 15,
     "metadata": {},
     "output_type": "execute_result"
    }
   ],
   "source": [
    "loan[loan['Age'] >100]"
   ]
  },
  {
   "cell_type": "code",
   "execution_count": 16,
   "id": "a6190a08",
   "metadata": {},
   "outputs": [],
   "source": [
    "loan = loan[loan['Age'] <100]"
   ]
  },
  {
   "cell_type": "code",
   "execution_count": 17,
   "id": "3ee3f29e",
   "metadata": {},
   "outputs": [
    {
     "data": {
      "text/plain": [
       "(1000, 14)"
      ]
     },
     "execution_count": 17,
     "metadata": {},
     "output_type": "execute_result"
    }
   ],
   "source": [
    "loan.shape"
   ]
  },
  {
   "cell_type": "code",
   "execution_count": 18,
   "id": "7919eea6",
   "metadata": {},
   "outputs": [],
   "source": [
    "#loan['Account Savings'].replace('<1',random.uniform(0.1,0.9))"
   ]
  },
  {
   "cell_type": "code",
   "execution_count": 19,
   "id": "5a1bbfa8",
   "metadata": {},
   "outputs": [
    {
     "data": {
      "text/plain": [
       "TV                         280\n",
       "Buying a New Car           234\n",
       "Home furniture             181\n",
       "Buying a Used Car          103\n",
       "Support for Business        97\n",
       "Learning / Edu purposes     50\n",
       "Renovation                  22\n",
       "Home Devices                12\n",
       "All other                   12\n",
       "Advance Edu/training         9\n",
       "Name: Reason for the Loan, dtype: int64"
      ]
     },
     "metadata": {},
     "output_type": "display_data"
    },
    {
     "data": {
      "text/plain": [
       "Male        548\n",
       "Female      310\n",
       "Married      92\n",
       "Divorced     50\n",
       "Name: Individual Stauts, dtype: int64"
      ]
     },
     "metadata": {},
     "output_type": "display_data"
    },
    {
     "data": {
      "text/plain": [
       "Vehicle                   332\n",
       "Property - Real Estate    282\n",
       "Savings Account           232\n",
       "No Security               154\n",
       "Name: Security / Collateral, dtype: int64"
      ]
     },
     "metadata": {},
     "output_type": "display_data"
    },
    {
     "data": {
      "text/plain": [
       "House Owner    713\n",
       "Renting        179\n",
       "Free           108\n",
       "Name: Residence Status, dtype: int64"
      ]
     },
     "metadata": {},
     "output_type": "display_data"
    },
    {
     "data": {
      "text/plain": [
       "Skilled Labor                630\n",
       "Services                     200\n",
       "Professional / Management    148\n",
       "Not Employed                  22\n",
       "Name: Job, dtype: int64"
      ]
     },
     "metadata": {},
     "output_type": "display_data"
    }
   ],
   "source": [
    "display(loan['Reason for the Loan'].value_counts())\n",
    "display(loan['Individual Stauts'].value_counts())\n",
    "display(loan['Security / Collateral'].value_counts())\n",
    "display(loan['Residence Status'].value_counts())\n",
    "display(loan['Job'].value_counts())"
   ]
  },
  {
   "cell_type": "code",
   "execution_count": 20,
   "id": "3dd35535",
   "metadata": {},
   "outputs": [
    {
     "name": "stdout",
     "output_type": "stream",
     "text": [
      "<class 'pandas.core.frame.DataFrame'>\n",
      "Int64Index: 1000 entries, 0 to 1003\n",
      "Data columns (total 14 columns):\n",
      " #   Column                 Non-Null Count  Dtype  \n",
      "---  ------                 --------------  -----  \n",
      " 0   Type of Account        1000 non-null   object \n",
      " 1   Account History        1000 non-null   object \n",
      " 2   Reason for the Loan    1000 non-null   object \n",
      " 3   Loan Amount            1000 non-null   float64\n",
      " 4   Account Savings        1000 non-null   object \n",
      " 5   Employment History     1000 non-null   object \n",
      " 6   Individual Stauts      1000 non-null   object \n",
      " 7   Other Loans            1000 non-null   object \n",
      " 8   Security / Collateral  1000 non-null   object \n",
      " 9   Age                    1000 non-null   float64\n",
      " 10  Residence Status       1000 non-null   object \n",
      " 11  Job                    1000 non-null   object \n",
      " 12  Completed Other loan?  1000 non-null   object \n",
      " 13  Good Loan              1000 non-null   object \n",
      "dtypes: float64(2), object(12)\n",
      "memory usage: 117.2+ KB\n"
     ]
    }
   ],
   "source": [
    "loan.info()"
   ]
  },
  {
   "cell_type": "code",
   "execution_count": 21,
   "id": "a0de2ff2",
   "metadata": {},
   "outputs": [],
   "source": [
    "loan['Individual Stauts'] = loan['Individual Stauts'].replace(['Female_'],'Female')\n",
    "#replacing value'female_' with female"
   ]
  },
  {
   "cell_type": "code",
   "execution_count": 22,
   "id": "3212de12",
   "metadata": {},
   "outputs": [
    {
     "data": {
      "text/plain": [
       "Male        548\n",
       "Female      310\n",
       "Married      92\n",
       "Divorced     50\n",
       "Name: Individual Stauts, dtype: int64"
      ]
     },
     "metadata": {},
     "output_type": "display_data"
    }
   ],
   "source": [
    "display(loan['Individual Stauts'].value_counts())"
   ]
  },
  {
   "cell_type": "code",
   "execution_count": 23,
   "id": "376e657a",
   "metadata": {},
   "outputs": [],
   "source": [
    "lst =  ['Other Loans','Completed Other loan?','Good Loan']\n",
    "\n",
    "def binary_map(x):\n",
    "    return x.map({'Yes': 1, \"No\": 0})\n",
    "loan[lst] = loan[lst].apply(binary_map)"
   ]
  },
  {
   "cell_type": "code",
   "execution_count": 24,
   "id": "fa77dfad",
   "metadata": {},
   "outputs": [
    {
     "name": "stdout",
     "output_type": "stream",
     "text": [
      "<class 'pandas.core.frame.DataFrame'>\n",
      "Int64Index: 1000 entries, 0 to 1003\n",
      "Data columns (total 14 columns):\n",
      " #   Column                 Non-Null Count  Dtype  \n",
      "---  ------                 --------------  -----  \n",
      " 0   Type of Account        1000 non-null   object \n",
      " 1   Account History        1000 non-null   object \n",
      " 2   Reason for the Loan    1000 non-null   object \n",
      " 3   Loan Amount            1000 non-null   float64\n",
      " 4   Account Savings        1000 non-null   object \n",
      " 5   Employment History     1000 non-null   object \n",
      " 6   Individual Stauts      1000 non-null   object \n",
      " 7   Other Loans            1000 non-null   int64  \n",
      " 8   Security / Collateral  1000 non-null   object \n",
      " 9   Age                    1000 non-null   float64\n",
      " 10  Residence Status       1000 non-null   object \n",
      " 11  Job                    1000 non-null   object \n",
      " 12  Completed Other loan?  1000 non-null   int64  \n",
      " 13  Good Loan              1000 non-null   int64  \n",
      "dtypes: float64(2), int64(3), object(9)\n",
      "memory usage: 117.2+ KB\n"
     ]
    }
   ],
   "source": [
    "loan['Other Loans'] = pd.to_numeric(loan['Other Loans'])\n",
    "loan['Completed Other loan?'] = pd.to_numeric(loan['Completed Other loan?'])\n",
    "loan['Good Loan'] = pd.to_numeric(loan['Good Loan'])\n",
    "loan.info()"
   ]
  },
  {
   "cell_type": "code",
   "execution_count": null,
   "id": "dd280011",
   "metadata": {},
   "outputs": [],
   "source": []
  },
  {
   "cell_type": "code",
   "execution_count": 25,
   "id": "3ee26a48",
   "metadata": {},
   "outputs": [
    {
     "data": {
      "text/html": [
       "<div>\n",
       "<style scoped>\n",
       "    .dataframe tbody tr th:only-of-type {\n",
       "        vertical-align: middle;\n",
       "    }\n",
       "\n",
       "    .dataframe tbody tr th {\n",
       "        vertical-align: top;\n",
       "    }\n",
       "\n",
       "    .dataframe thead th {\n",
       "        text-align: right;\n",
       "    }\n",
       "</style>\n",
       "<table border=\"1\" class=\"dataframe\">\n",
       "  <thead>\n",
       "    <tr style=\"text-align: right;\">\n",
       "      <th></th>\n",
       "      <th>Type of Account</th>\n",
       "      <th>Account History</th>\n",
       "      <th>Reason for the Loan</th>\n",
       "      <th>Loan Amount</th>\n",
       "      <th>Account Savings</th>\n",
       "      <th>Employment History</th>\n",
       "      <th>Individual Stauts</th>\n",
       "      <th>Other Loans</th>\n",
       "      <th>Security / Collateral</th>\n",
       "      <th>Age</th>\n",
       "      <th>Residence Status</th>\n",
       "      <th>Job</th>\n",
       "      <th>Completed Other loan?</th>\n",
       "      <th>Good Loan</th>\n",
       "    </tr>\n",
       "  </thead>\n",
       "  <tbody>\n",
       "    <tr>\n",
       "      <th>0</th>\n",
       "      <td>Type D</td>\n",
       "      <td>critical</td>\n",
       "      <td>Learning / Edu purposes</td>\n",
       "      <td>2116.0</td>\n",
       "      <td>0-200</td>\n",
       "      <td>5-7 Years</td>\n",
       "      <td>Male</td>\n",
       "      <td>0</td>\n",
       "      <td>Property - Real Estate</td>\n",
       "      <td>47.0</td>\n",
       "      <td>House Owner</td>\n",
       "      <td>Services</td>\n",
       "      <td>0</td>\n",
       "      <td>0</td>\n",
       "    </tr>\n",
       "    <tr>\n",
       "      <th>1</th>\n",
       "      <td>Type D</td>\n",
       "      <td>critical</td>\n",
       "      <td>TV</td>\n",
       "      <td>2438.0</td>\n",
       "      <td>No Data</td>\n",
       "      <td>7+ Years</td>\n",
       "      <td>Male</td>\n",
       "      <td>0</td>\n",
       "      <td>Savings Account</td>\n",
       "      <td>52.0</td>\n",
       "      <td>House Owner</td>\n",
       "      <td>Skilled Labor</td>\n",
       "      <td>0</td>\n",
       "      <td>0</td>\n",
       "    </tr>\n",
       "    <tr>\n",
       "      <th>2</th>\n",
       "      <td>Type D</td>\n",
       "      <td>critical</td>\n",
       "      <td>Buying a New Car</td>\n",
       "      <td>2144.0</td>\n",
       "      <td>0-200</td>\n",
       "      <td>2-5 Years</td>\n",
       "      <td>Male</td>\n",
       "      <td>0</td>\n",
       "      <td>Vehicle</td>\n",
       "      <td>48.0</td>\n",
       "      <td>House Owner</td>\n",
       "      <td>Skilled Labor</td>\n",
       "      <td>0</td>\n",
       "      <td>0</td>\n",
       "    </tr>\n",
       "    <tr>\n",
       "      <th>3</th>\n",
       "      <td>Type D</td>\n",
       "      <td>critical</td>\n",
       "      <td>Home furniture</td>\n",
       "      <td>2073.0</td>\n",
       "      <td>No Data</td>\n",
       "      <td>2-5 Years</td>\n",
       "      <td>Married</td>\n",
       "      <td>0</td>\n",
       "      <td>Vehicle</td>\n",
       "      <td>25.0</td>\n",
       "      <td>House Owner</td>\n",
       "      <td>Skilled Labor</td>\n",
       "      <td>1</td>\n",
       "      <td>0</td>\n",
       "    </tr>\n",
       "    <tr>\n",
       "      <th>4</th>\n",
       "      <td>Type D</td>\n",
       "      <td>critical</td>\n",
       "      <td>Support for Business</td>\n",
       "      <td>1276.0</td>\n",
       "      <td>No Data</td>\n",
       "      <td>7+ Years</td>\n",
       "      <td>Male</td>\n",
       "      <td>0</td>\n",
       "      <td>No Security</td>\n",
       "      <td>59.0</td>\n",
       "      <td>Renting</td>\n",
       "      <td>Services</td>\n",
       "      <td>0</td>\n",
       "      <td>0</td>\n",
       "    </tr>\n",
       "  </tbody>\n",
       "</table>\n",
       "</div>"
      ],
      "text/plain": [
       "  Type of Account Account History      Reason for the Loan  Loan Amount  \\\n",
       "0          Type D        critical  Learning / Edu purposes       2116.0   \n",
       "1          Type D        critical                       TV       2438.0   \n",
       "2          Type D        critical         Buying a New Car       2144.0   \n",
       "3          Type D        critical           Home furniture       2073.0   \n",
       "4          Type D        critical     Support for Business       1276.0   \n",
       "\n",
       "  Account Savings Employment History Individual Stauts  Other Loans  \\\n",
       "0           0-200          5-7 Years              Male            0   \n",
       "1         No Data           7+ Years              Male            0   \n",
       "2           0-200          2-5 Years              Male            0   \n",
       "3         No Data          2-5 Years           Married            0   \n",
       "4         No Data           7+ Years              Male            0   \n",
       "\n",
       "    Security / Collateral   Age Residence Status            Job  \\\n",
       "0  Property - Real Estate  47.0      House Owner       Services   \n",
       "1         Savings Account  52.0      House Owner  Skilled Labor   \n",
       "2                 Vehicle  48.0      House Owner  Skilled Labor   \n",
       "3                 Vehicle  25.0      House Owner  Skilled Labor   \n",
       "4             No Security  59.0          Renting       Services   \n",
       "\n",
       "   Completed Other loan?  Good Loan  \n",
       "0                      0          0  \n",
       "1                      0          0  \n",
       "2                      0          0  \n",
       "3                      1          0  \n",
       "4                      0          0  "
      ]
     },
     "execution_count": 25,
     "metadata": {},
     "output_type": "execute_result"
    }
   ],
   "source": [
    "loan.head()"
   ]
  },
  {
   "cell_type": "code",
   "execution_count": 26,
   "id": "cee8ad77",
   "metadata": {
    "scrolled": true
   },
   "outputs": [
    {
     "data": {
      "text/plain": [
       "2-5 Years     339\n",
       "7+ Years      253\n",
       "5-7 Years     174\n",
       "0-2 Years     172\n",
       "Unemployed     62\n",
       "Name: Employment History, dtype: int64"
      ]
     },
     "metadata": {},
     "output_type": "display_data"
    }
   ],
   "source": [
    "display(loan['Employment History'].value_counts())"
   ]
  },
  {
   "cell_type": "code",
   "execution_count": 27,
   "id": "c2c82d67",
   "metadata": {},
   "outputs": [],
   "source": [
    "loan['Employment History']= loan['Employment History'].replace({\"Unemployed\": 0, \"0-2 Years\": 2,\n",
    "                                                                \"2-5 Years\": 4,\"5-7 Years\": 6,\n",
    "                                                                \"7+ Years\":8})"
   ]
  },
  {
   "cell_type": "code",
   "execution_count": 28,
   "id": "51ebc221",
   "metadata": {
    "scrolled": true
   },
   "outputs": [
    {
     "data": {
      "text/plain": [
       "4    339\n",
       "8    253\n",
       "6    174\n",
       "2    172\n",
       "0     62\n",
       "Name: Employment History, dtype: int64"
      ]
     },
     "metadata": {},
     "output_type": "display_data"
    }
   ],
   "source": [
    "display(loan['Employment History'].value_counts())"
   ]
  },
  {
   "cell_type": "markdown",
   "id": "f84b32f4",
   "metadata": {},
   "source": [
    "### Statistics and Visualisation:"
   ]
  },
  {
   "cell_type": "code",
   "execution_count": 29,
   "id": "7df0ba8d",
   "metadata": {
    "scrolled": true
   },
   "outputs": [
    {
     "data": {
      "text/html": [
       "<div>\n",
       "<style scoped>\n",
       "    .dataframe tbody tr th:only-of-type {\n",
       "        vertical-align: middle;\n",
       "    }\n",
       "\n",
       "    .dataframe tbody tr th {\n",
       "        vertical-align: top;\n",
       "    }\n",
       "\n",
       "    .dataframe thead th {\n",
       "        text-align: right;\n",
       "    }\n",
       "</style>\n",
       "<table border=\"1\" class=\"dataframe\">\n",
       "  <thead>\n",
       "    <tr style=\"text-align: right;\">\n",
       "      <th></th>\n",
       "      <th>Loan Amount</th>\n",
       "      <th>Employment History</th>\n",
       "      <th>Other Loans</th>\n",
       "      <th>Age</th>\n",
       "      <th>Completed Other loan?</th>\n",
       "      <th>Good Loan</th>\n",
       "    </tr>\n",
       "  </thead>\n",
       "  <tbody>\n",
       "    <tr>\n",
       "      <th>count</th>\n",
       "      <td>1000.000000</td>\n",
       "      <td>1000.000000</td>\n",
       "      <td>1000.000000</td>\n",
       "      <td>1000.000000</td>\n",
       "      <td>1000.000000</td>\n",
       "      <td>1000.000000</td>\n",
       "    </tr>\n",
       "    <tr>\n",
       "      <th>mean</th>\n",
       "      <td>3281.740000</td>\n",
       "      <td>4.768000</td>\n",
       "      <td>0.093000</td>\n",
       "      <td>35.543000</td>\n",
       "      <td>0.038000</td>\n",
       "      <td>0.464000</td>\n",
       "    </tr>\n",
       "    <tr>\n",
       "      <th>std</th>\n",
       "      <td>2822.986025</td>\n",
       "      <td>2.416613</td>\n",
       "      <td>0.290578</td>\n",
       "      <td>11.413344</td>\n",
       "      <td>0.191292</td>\n",
       "      <td>0.498952</td>\n",
       "    </tr>\n",
       "    <tr>\n",
       "      <th>min</th>\n",
       "      <td>254.000000</td>\n",
       "      <td>0.000000</td>\n",
       "      <td>0.000000</td>\n",
       "      <td>18.000000</td>\n",
       "      <td>0.000000</td>\n",
       "      <td>0.000000</td>\n",
       "    </tr>\n",
       "    <tr>\n",
       "      <th>25%</th>\n",
       "      <td>1374.750000</td>\n",
       "      <td>4.000000</td>\n",
       "      <td>0.000000</td>\n",
       "      <td>27.000000</td>\n",
       "      <td>0.000000</td>\n",
       "      <td>0.000000</td>\n",
       "    </tr>\n",
       "    <tr>\n",
       "      <th>50%</th>\n",
       "      <td>2326.500000</td>\n",
       "      <td>4.000000</td>\n",
       "      <td>0.000000</td>\n",
       "      <td>33.000000</td>\n",
       "      <td>0.000000</td>\n",
       "      <td>0.000000</td>\n",
       "    </tr>\n",
       "    <tr>\n",
       "      <th>75%</th>\n",
       "      <td>3980.750000</td>\n",
       "      <td>8.000000</td>\n",
       "      <td>0.000000</td>\n",
       "      <td>42.000000</td>\n",
       "      <td>0.000000</td>\n",
       "      <td>1.000000</td>\n",
       "    </tr>\n",
       "    <tr>\n",
       "      <th>max</th>\n",
       "      <td>18427.000000</td>\n",
       "      <td>8.000000</td>\n",
       "      <td>1.000000</td>\n",
       "      <td>75.000000</td>\n",
       "      <td>1.000000</td>\n",
       "      <td>1.000000</td>\n",
       "    </tr>\n",
       "  </tbody>\n",
       "</table>\n",
       "</div>"
      ],
      "text/plain": [
       "        Loan Amount  Employment History  Other Loans          Age  \\\n",
       "count   1000.000000         1000.000000  1000.000000  1000.000000   \n",
       "mean    3281.740000            4.768000     0.093000    35.543000   \n",
       "std     2822.986025            2.416613     0.290578    11.413344   \n",
       "min      254.000000            0.000000     0.000000    18.000000   \n",
       "25%     1374.750000            4.000000     0.000000    27.000000   \n",
       "50%     2326.500000            4.000000     0.000000    33.000000   \n",
       "75%     3980.750000            8.000000     0.000000    42.000000   \n",
       "max    18427.000000            8.000000     1.000000    75.000000   \n",
       "\n",
       "       Completed Other loan?    Good Loan  \n",
       "count            1000.000000  1000.000000  \n",
       "mean                0.038000     0.464000  \n",
       "std                 0.191292     0.498952  \n",
       "min                 0.000000     0.000000  \n",
       "25%                 0.000000     0.000000  \n",
       "50%                 0.000000     0.000000  \n",
       "75%                 0.000000     1.000000  \n",
       "max                 1.000000     1.000000  "
      ]
     },
     "execution_count": 29,
     "metadata": {},
     "output_type": "execute_result"
    }
   ],
   "source": [
    "loan.describe()"
   ]
  },
  {
   "cell_type": "code",
   "execution_count": 30,
   "id": "0c6663a1",
   "metadata": {
    "scrolled": true
   },
   "outputs": [
    {
     "data": {
      "image/png": "[encoded data removed]",
      "text/plain": [
       "<Figure size 432x288 with 1 Axes>"
      ]
     },
     "metadata": {
      "needs_background": "light"
     },
     "output_type": "display_data"
    }
   ],
   "source": [
    "sns.countplot(x = 'Type of Account', data = loan, hue = 'Good Loan')\n",
    "plt.show()"
   ]
  },
  {
   "cell_type": "markdown",
   "id": "70b949a3",
   "metadata": {},
   "source": [
    "Creating Dummy Variables for categorical data types:"
   ]
  },
  {
   "cell_type": "code",
   "execution_count": 31,
   "id": "4eed77bf",
   "metadata": {},
   "outputs": [],
   "source": [
    "\n",
    "act= pd.get_dummies(loan['Type of Account'], prefix= 'Acc')\n",
    "loan = pd.concat([loan,act], axis=1)\n",
    "\n",
    "ach= pd.get_dummies(loan['Account History'], prefix= 'Acc_Hist')\n",
    "loan = pd.concat([loan,ach], axis=1)\n",
    "\n",
    "res = pd.get_dummies(loan['Reason for the Loan'], prefix='Reason')\n",
    "loan = pd.concat([loan,res], axis=1)\n",
    "\n",
    "\n",
    "acs= pd.get_dummies(loan['Account Savings'], prefix= 'Acc_Savings')\n",
    "loan = pd.concat([loan,acs], axis=1)\n",
    "\n",
    "\n",
    "indst = pd.get_dummies(loan['Individual Stauts'], prefix='Individual Status')\n",
    "loan = pd.concat([loan,indst], axis=1)\n",
    "\n",
    "\n",
    "sc = pd.get_dummies(loan['Security / Collateral'], prefix='Collateral')\n",
    "loan = pd.concat([loan,sc], axis=1)\n",
    "\n",
    "rs = pd.get_dummies(loan['Residence Status'], prefix='Residence')\n",
    "loan = pd.concat([loan,rs], axis=1)\n",
    "\n",
    "jb = pd.get_dummies(loan['Job'], prefix='Job')\n",
    "loan = pd.concat([loan,jb], axis=1)"
   ]
  },
  {
   "cell_type": "code",
   "execution_count": 32,
   "id": "fb8bab42",
   "metadata": {
    "scrolled": true
   },
   "outputs": [
    {
     "data": {
      "text/html": [
       "<div>\n",
       "<style scoped>\n",
       "    .dataframe tbody tr th:only-of-type {\n",
       "        vertical-align: middle;\n",
       "    }\n",
       "\n",
       "    .dataframe tbody tr th {\n",
       "        vertical-align: top;\n",
       "    }\n",
       "\n",
       "    .dataframe thead th {\n",
       "        text-align: right;\n",
       "    }\n",
       "</style>\n",
       "<table border=\"1\" class=\"dataframe\">\n",
       "  <thead>\n",
       "    <tr style=\"text-align: right;\">\n",
       "      <th></th>\n",
       "      <th>Type of Account</th>\n",
       "      <th>Account History</th>\n",
       "      <th>Reason for the Loan</th>\n",
       "      <th>Loan Amount</th>\n",
       "      <th>Account Savings</th>\n",
       "      <th>Employment History</th>\n",
       "      <th>Individual Stauts</th>\n",
       "      <th>Other Loans</th>\n",
       "      <th>Security / Collateral</th>\n",
       "      <th>Age</th>\n",
       "      <th>...</th>\n",
       "      <th>Collateral_Property - Real Estate</th>\n",
       "      <th>Collateral_Savings Account</th>\n",
       "      <th>Collateral_Vehicle</th>\n",
       "      <th>Residence_Free</th>\n",
       "      <th>Residence_House Owner</th>\n",
       "      <th>Residence_Renting</th>\n",
       "      <th>Job_Not Employed</th>\n",
       "      <th>Job_Professional / Management</th>\n",
       "      <th>Job_Services</th>\n",
       "      <th>Job_Skilled Labor</th>\n",
       "    </tr>\n",
       "  </thead>\n",
       "  <tbody>\n",
       "    <tr>\n",
       "      <th>0</th>\n",
       "      <td>Type D</td>\n",
       "      <td>critical</td>\n",
       "      <td>Learning / Edu purposes</td>\n",
       "      <td>2116.0</td>\n",
       "      <td>0-200</td>\n",
       "      <td>6</td>\n",
       "      <td>Male</td>\n",
       "      <td>0</td>\n",
       "      <td>Property - Real Estate</td>\n",
       "      <td>47.0</td>\n",
       "      <td>...</td>\n",
       "      <td>1</td>\n",
       "      <td>0</td>\n",
       "      <td>0</td>\n",
       "      <td>0</td>\n",
       "      <td>1</td>\n",
       "      <td>0</td>\n",
       "      <td>0</td>\n",
       "      <td>0</td>\n",
       "      <td>1</td>\n",
       "      <td>0</td>\n",
       "    </tr>\n",
       "    <tr>\n",
       "      <th>1</th>\n",
       "      <td>Type D</td>\n",
       "      <td>critical</td>\n",
       "      <td>TV</td>\n",
       "      <td>2438.0</td>\n",
       "      <td>No Data</td>\n",
       "      <td>8</td>\n",
       "      <td>Male</td>\n",
       "      <td>0</td>\n",
       "      <td>Savings Account</td>\n",
       "      <td>52.0</td>\n",
       "      <td>...</td>\n",
       "      <td>0</td>\n",
       "      <td>1</td>\n",
       "      <td>0</td>\n",
       "      <td>0</td>\n",
       "      <td>1</td>\n",
       "      <td>0</td>\n",
       "      <td>0</td>\n",
       "      <td>0</td>\n",
       "      <td>0</td>\n",
       "      <td>1</td>\n",
       "    </tr>\n",
       "    <tr>\n",
       "      <th>2</th>\n",
       "      <td>Type D</td>\n",
       "      <td>critical</td>\n",
       "      <td>Buying a New Car</td>\n",
       "      <td>2144.0</td>\n",
       "      <td>0-200</td>\n",
       "      <td>4</td>\n",
       "      <td>Male</td>\n",
       "      <td>0</td>\n",
       "      <td>Vehicle</td>\n",
       "      <td>48.0</td>\n",
       "      <td>...</td>\n",
       "      <td>0</td>\n",
       "      <td>0</td>\n",
       "      <td>1</td>\n",
       "      <td>0</td>\n",
       "      <td>1</td>\n",
       "      <td>0</td>\n",
       "      <td>0</td>\n",
       "      <td>0</td>\n",
       "      <td>0</td>\n",
       "      <td>1</td>\n",
       "    </tr>\n",
       "    <tr>\n",
       "      <th>3</th>\n",
       "      <td>Type D</td>\n",
       "      <td>critical</td>\n",
       "      <td>Home furniture</td>\n",
       "      <td>2073.0</td>\n",
       "      <td>No Data</td>\n",
       "      <td>4</td>\n",
       "      <td>Married</td>\n",
       "      <td>0</td>\n",
       "      <td>Vehicle</td>\n",
       "      <td>25.0</td>\n",
       "      <td>...</td>\n",
       "      <td>0</td>\n",
       "      <td>0</td>\n",
       "      <td>1</td>\n",
       "      <td>0</td>\n",
       "      <td>1</td>\n",
       "      <td>0</td>\n",
       "      <td>0</td>\n",
       "      <td>0</td>\n",
       "      <td>0</td>\n",
       "      <td>1</td>\n",
       "    </tr>\n",
       "    <tr>\n",
       "      <th>4</th>\n",
       "      <td>Type D</td>\n",
       "      <td>critical</td>\n",
       "      <td>Support for Business</td>\n",
       "      <td>1276.0</td>\n",
       "      <td>No Data</td>\n",
       "      <td>8</td>\n",
       "      <td>Male</td>\n",
       "      <td>0</td>\n",
       "      <td>No Security</td>\n",
       "      <td>59.0</td>\n",
       "      <td>...</td>\n",
       "      <td>0</td>\n",
       "      <td>0</td>\n",
       "      <td>0</td>\n",
       "      <td>0</td>\n",
       "      <td>0</td>\n",
       "      <td>1</td>\n",
       "      <td>0</td>\n",
       "      <td>0</td>\n",
       "      <td>1</td>\n",
       "      <td>0</td>\n",
       "    </tr>\n",
       "  </tbody>\n",
       "</table>\n",
       "<p>5 rows × 51 columns</p>\n",
       "</div>"
      ],
      "text/plain": [
       "  Type of Account Account History      Reason for the Loan  Loan Amount  \\\n",
       "0          Type D        critical  Learning / Edu purposes       2116.0   \n",
       "1          Type D        critical                       TV       2438.0   \n",
       "2          Type D        critical         Buying a New Car       2144.0   \n",
       "3          Type D        critical           Home furniture       2073.0   \n",
       "4          Type D        critical     Support for Business       1276.0   \n",
       "\n",
       "  Account Savings  Employment History Individual Stauts  Other Loans  \\\n",
       "0           0-200                   6              Male            0   \n",
       "1         No Data                   8              Male            0   \n",
       "2           0-200                   4              Male            0   \n",
       "3         No Data                   4           Married            0   \n",
       "4         No Data                   8              Male            0   \n",
       "\n",
       "    Security / Collateral   Age  ... Collateral_Property - Real Estate  \\\n",
       "0  Property - Real Estate  47.0  ...                                 1   \n",
       "1         Savings Account  52.0  ...                                 0   \n",
       "2                 Vehicle  48.0  ...                                 0   \n",
       "3                 Vehicle  25.0  ...                                 0   \n",
       "4             No Security  59.0  ...                                 0   \n",
       "\n",
       "  Collateral_Savings Account  Collateral_Vehicle  Residence_Free  \\\n",
       "0                          0                   0               0   \n",
       "1                          1                   0               0   \n",
       "2                          0                   1               0   \n",
       "3                          0                   1               0   \n",
       "4                          0                   0               0   \n",
       "\n",
       "   Residence_House Owner  Residence_Renting  Job_Not Employed  \\\n",
       "0                      1                  0                 0   \n",
       "1                      1                  0                 0   \n",
       "2                      1                  0                 0   \n",
       "3                      1                  0                 0   \n",
       "4                      0                  1                 0   \n",
       "\n",
       "   Job_Professional / Management  Job_Services  Job_Skilled Labor  \n",
       "0                              0             1                  0  \n",
       "1                              0             0                  1  \n",
       "2                              0             0                  1  \n",
       "3                              0             0                  1  \n",
       "4                              0             1                  0  \n",
       "\n",
       "[5 rows x 51 columns]"
      ]
     },
     "execution_count": 32,
     "metadata": {},
     "output_type": "execute_result"
    }
   ],
   "source": [
    "#pd.set_option(\"display.max_columns\", None)\n",
    "loan.head()"
   ]
  },
  {
   "cell_type": "code",
   "execution_count": 33,
   "id": "09812291",
   "metadata": {},
   "outputs": [],
   "source": [
    "ln= loan.drop(['Type of Account','Account History','Reason for the Loan','Account Savings',\n",
    "               'Individual Stauts','Security / Collateral','Residence Status','Job'],1)\n"
   ]
  },
  {
   "cell_type": "code",
   "execution_count": 34,
   "id": "88a3f80e",
   "metadata": {
    "scrolled": true
   },
   "outputs": [
    {
     "data": {
      "text/html": [
       "<div>\n",
       "<style scoped>\n",
       "    .dataframe tbody tr th:only-of-type {\n",
       "        vertical-align: middle;\n",
       "    }\n",
       "\n",
       "    .dataframe tbody tr th {\n",
       "        vertical-align: top;\n",
       "    }\n",
       "\n",
       "    .dataframe thead th {\n",
       "        text-align: right;\n",
       "    }\n",
       "</style>\n",
       "<table border=\"1\" class=\"dataframe\">\n",
       "  <thead>\n",
       "    <tr style=\"text-align: right;\">\n",
       "      <th></th>\n",
       "      <th>Loan Amount</th>\n",
       "      <th>Employment History</th>\n",
       "      <th>Other Loans</th>\n",
       "      <th>Age</th>\n",
       "      <th>Completed Other loan?</th>\n",
       "      <th>Good Loan</th>\n",
       "      <th>Acc_Type A</th>\n",
       "      <th>Acc_Type B</th>\n",
       "      <th>Acc_Type C</th>\n",
       "      <th>Acc_Type D</th>\n",
       "      <th>...</th>\n",
       "      <th>Collateral_Property - Real Estate</th>\n",
       "      <th>Collateral_Savings Account</th>\n",
       "      <th>Collateral_Vehicle</th>\n",
       "      <th>Residence_Free</th>\n",
       "      <th>Residence_House Owner</th>\n",
       "      <th>Residence_Renting</th>\n",
       "      <th>Job_Not Employed</th>\n",
       "      <th>Job_Professional / Management</th>\n",
       "      <th>Job_Services</th>\n",
       "      <th>Job_Skilled Labor</th>\n",
       "    </tr>\n",
       "  </thead>\n",
       "  <tbody>\n",
       "    <tr>\n",
       "      <th>0</th>\n",
       "      <td>2116.0</td>\n",
       "      <td>6</td>\n",
       "      <td>0</td>\n",
       "      <td>47.0</td>\n",
       "      <td>0</td>\n",
       "      <td>0</td>\n",
       "      <td>0</td>\n",
       "      <td>0</td>\n",
       "      <td>0</td>\n",
       "      <td>1</td>\n",
       "      <td>...</td>\n",
       "      <td>1</td>\n",
       "      <td>0</td>\n",
       "      <td>0</td>\n",
       "      <td>0</td>\n",
       "      <td>1</td>\n",
       "      <td>0</td>\n",
       "      <td>0</td>\n",
       "      <td>0</td>\n",
       "      <td>1</td>\n",
       "      <td>0</td>\n",
       "    </tr>\n",
       "    <tr>\n",
       "      <th>1</th>\n",
       "      <td>2438.0</td>\n",
       "      <td>8</td>\n",
       "      <td>0</td>\n",
       "      <td>52.0</td>\n",
       "      <td>0</td>\n",
       "      <td>0</td>\n",
       "      <td>0</td>\n",
       "      <td>0</td>\n",
       "      <td>0</td>\n",
       "      <td>1</td>\n",
       "      <td>...</td>\n",
       "      <td>0</td>\n",
       "      <td>1</td>\n",
       "      <td>0</td>\n",
       "      <td>0</td>\n",
       "      <td>1</td>\n",
       "      <td>0</td>\n",
       "      <td>0</td>\n",
       "      <td>0</td>\n",
       "      <td>0</td>\n",
       "      <td>1</td>\n",
       "    </tr>\n",
       "    <tr>\n",
       "      <th>2</th>\n",
       "      <td>2144.0</td>\n",
       "      <td>4</td>\n",
       "      <td>0</td>\n",
       "      <td>48.0</td>\n",
       "      <td>0</td>\n",
       "      <td>0</td>\n",
       "      <td>0</td>\n",
       "      <td>0</td>\n",
       "      <td>0</td>\n",
       "      <td>1</td>\n",
       "      <td>...</td>\n",
       "      <td>0</td>\n",
       "      <td>0</td>\n",
       "      <td>1</td>\n",
       "      <td>0</td>\n",
       "      <td>1</td>\n",
       "      <td>0</td>\n",
       "      <td>0</td>\n",
       "      <td>0</td>\n",
       "      <td>0</td>\n",
       "      <td>1</td>\n",
       "    </tr>\n",
       "    <tr>\n",
       "      <th>3</th>\n",
       "      <td>2073.0</td>\n",
       "      <td>4</td>\n",
       "      <td>0</td>\n",
       "      <td>25.0</td>\n",
       "      <td>1</td>\n",
       "      <td>0</td>\n",
       "      <td>0</td>\n",
       "      <td>0</td>\n",
       "      <td>0</td>\n",
       "      <td>1</td>\n",
       "      <td>...</td>\n",
       "      <td>0</td>\n",
       "      <td>0</td>\n",
       "      <td>1</td>\n",
       "      <td>0</td>\n",
       "      <td>1</td>\n",
       "      <td>0</td>\n",
       "      <td>0</td>\n",
       "      <td>0</td>\n",
       "      <td>0</td>\n",
       "      <td>1</td>\n",
       "    </tr>\n",
       "    <tr>\n",
       "      <th>4</th>\n",
       "      <td>1276.0</td>\n",
       "      <td>8</td>\n",
       "      <td>0</td>\n",
       "      <td>59.0</td>\n",
       "      <td>0</td>\n",
       "      <td>0</td>\n",
       "      <td>0</td>\n",
       "      <td>0</td>\n",
       "      <td>0</td>\n",
       "      <td>1</td>\n",
       "      <td>...</td>\n",
       "      <td>0</td>\n",
       "      <td>0</td>\n",
       "      <td>0</td>\n",
       "      <td>0</td>\n",
       "      <td>0</td>\n",
       "      <td>1</td>\n",
       "      <td>0</td>\n",
       "      <td>0</td>\n",
       "      <td>1</td>\n",
       "      <td>0</td>\n",
       "    </tr>\n",
       "  </tbody>\n",
       "</table>\n",
       "<p>5 rows × 43 columns</p>\n",
       "</div>"
      ],
      "text/plain": [
       "   Loan Amount  Employment History  Other Loans   Age  Completed Other loan?  \\\n",
       "0       2116.0                   6            0  47.0                      0   \n",
       "1       2438.0                   8            0  52.0                      0   \n",
       "2       2144.0                   4            0  48.0                      0   \n",
       "3       2073.0                   4            0  25.0                      1   \n",
       "4       1276.0                   8            0  59.0                      0   \n",
       "\n",
       "   Good Loan  Acc_Type A  Acc_Type B  Acc_Type C  Acc_Type D  ...  \\\n",
       "0          0           0           0           0           1  ...   \n",
       "1          0           0           0           0           1  ...   \n",
       "2          0           0           0           0           1  ...   \n",
       "3          0           0           0           0           1  ...   \n",
       "4          0           0           0           0           1  ...   \n",
       "\n",
       "   Collateral_Property - Real Estate  Collateral_Savings Account  \\\n",
       "0                                  1                           0   \n",
       "1                                  0                           1   \n",
       "2                                  0                           0   \n",
       "3                                  0                           0   \n",
       "4                                  0                           0   \n",
       "\n",
       "   Collateral_Vehicle  Residence_Free  Residence_House Owner  \\\n",
       "0                   0               0                      1   \n",
       "1                   0               0                      1   \n",
       "2                   1               0                      1   \n",
       "3                   1               0                      1   \n",
       "4                   0               0                      0   \n",
       "\n",
       "   Residence_Renting  Job_Not Employed  Job_Professional / Management  \\\n",
       "0                  0                 0                              0   \n",
       "1                  0                 0                              0   \n",
       "2                  0                 0                              0   \n",
       "3                  0                 0                              0   \n",
       "4                  1                 0                              0   \n",
       "\n",
       "   Job_Services  Job_Skilled Labor  \n",
       "0             1                  0  \n",
       "1             0                  1  \n",
       "2             0                  1  \n",
       "3             0                  1  \n",
       "4             1                  0  \n",
       "\n",
       "[5 rows x 43 columns]"
      ]
     },
     "execution_count": 34,
     "metadata": {},
     "output_type": "execute_result"
    }
   ],
   "source": [
    "ln.head()"
   ]
  },
  {
   "cell_type": "code",
   "execution_count": 35,
   "id": "cea88307",
   "metadata": {},
   "outputs": [
    {
     "name": "stdout",
     "output_type": "stream",
     "text": [
      "<class 'pandas.core.frame.DataFrame'>\n",
      "Int64Index: 1000 entries, 0 to 1003\n",
      "Data columns (total 43 columns):\n",
      " #   Column                             Non-Null Count  Dtype  \n",
      "---  ------                             --------------  -----  \n",
      " 0   Loan Amount                        1000 non-null   float64\n",
      " 1   Employment History                 1000 non-null   int64  \n",
      " 2   Other Loans                        1000 non-null   int64  \n",
      " 3   Age                                1000 non-null   float64\n",
      " 4   Completed Other loan?              1000 non-null   int64  \n",
      " 5   Good Loan                          1000 non-null   int64  \n",
      " 6   Acc_Type A                         1000 non-null   uint8  \n",
      " 7   Acc_Type B                         1000 non-null   uint8  \n",
      " 8   Acc_Type C                         1000 non-null   uint8  \n",
      " 9   Acc_Type D                         1000 non-null   uint8  \n",
      " 10  Acc_Hist_Average (known delays)    1000 non-null   uint8  \n",
      " 11  Acc_Hist_Good                      1000 non-null   uint8  \n",
      " 12  Acc_Hist_critical                  1000 non-null   uint8  \n",
      " 13  Reason_Advance Edu/training        1000 non-null   uint8  \n",
      " 14  Reason_All other                   1000 non-null   uint8  \n",
      " 15  Reason_Buying a New Car            1000 non-null   uint8  \n",
      " 16  Reason_Buying a Used Car           1000 non-null   uint8  \n",
      " 17  Reason_Home Devices                1000 non-null   uint8  \n",
      " 18  Reason_Home furniture              1000 non-null   uint8  \n",
      " 19  Reason_Learning / Edu purposes     1000 non-null   uint8  \n",
      " 20  Reason_Renovation                  1000 non-null   uint8  \n",
      " 21  Reason_Support for Business        1000 non-null   uint8  \n",
      " 22  Reason_TV                          1000 non-null   uint8  \n",
      " 23  Acc_Savings_0-200                  1000 non-null   uint8  \n",
      " 24  Acc_Savings_1000+                  1000 non-null   uint8  \n",
      " 25  Acc_Savings_200-500                1000 non-null   uint8  \n",
      " 26  Acc_Savings_500-1000               1000 non-null   uint8  \n",
      " 27  Acc_Savings_No Data                1000 non-null   uint8  \n",
      " 28  Individual Status_Divorced         1000 non-null   uint8  \n",
      " 29  Individual Status_Female           1000 non-null   uint8  \n",
      " 30  Individual Status_Male             1000 non-null   uint8  \n",
      " 31  Individual Status_Married          1000 non-null   uint8  \n",
      " 32  Collateral_No Security             1000 non-null   uint8  \n",
      " 33  Collateral_Property - Real Estate  1000 non-null   uint8  \n",
      " 34  Collateral_Savings Account         1000 non-null   uint8  \n",
      " 35  Collateral_Vehicle                 1000 non-null   uint8  \n",
      " 36  Residence_Free                     1000 non-null   uint8  \n",
      " 37  Residence_House Owner              1000 non-null   uint8  \n",
      " 38  Residence_Renting                  1000 non-null   uint8  \n",
      " 39  Job_Not Employed                   1000 non-null   uint8  \n",
      " 40  Job_Professional / Management      1000 non-null   uint8  \n",
      " 41  Job_Services                       1000 non-null   uint8  \n",
      " 42  Job_Skilled Labor                  1000 non-null   uint8  \n",
      "dtypes: float64(2), int64(4), uint8(37)\n",
      "memory usage: 123.1 KB\n"
     ]
    }
   ],
   "source": [
    "ln.info()"
   ]
  },
  {
   "cell_type": "code",
   "execution_count": 36,
   "id": "565913b1",
   "metadata": {},
   "outputs": [],
   "source": [
    "cor= ln.corr()\n",
    "#cor"
   ]
  },
  {
   "cell_type": "code",
   "execution_count": null,
   "id": "f6dd048a",
   "metadata": {},
   "outputs": [],
   "source": [
    "\n",
    "plt.figure(figsize = (30,15))       \n",
    "sns.heatmap(cor,annot = True)\n",
    "plt.tight_layout()"
   ]
  },
  {
   "cell_type": "markdown",
   "id": "0ef7be8b",
   "metadata": {},
   "source": [
    "#### Model Buliding:"
   ]
  },
  {
   "cell_type": "code",
   "execution_count": null,
   "id": "0ae3eb61",
   "metadata": {},
   "outputs": [],
   "source": [
    "##\n",
    "x= ln.drop(['Good Loan'], axis=1)\n",
    "x.head()"
   ]
  },
  {
   "cell_type": "code",
   "execution_count": null,
   "id": "fc698078",
   "metadata": {},
   "outputs": [],
   "source": [
    "y = loan['Good Loan']\n",
    "y.head()"
   ]
  },
  {
   "cell_type": "code",
   "execution_count": null,
   "id": "ea7ec39c",
   "metadata": {},
   "outputs": [],
   "source": [
    "#train -test split:\n",
    "x_train, x_test, y_train, y_test = train_test_split(x, y, test_size=0.3)"
   ]
  },
  {
   "cell_type": "code",
   "execution_count": null,
   "id": "4e096287",
   "metadata": {},
   "outputs": [],
   "source": [
    "\"\"\"\n",
    "scaler = StandardScaler()\n",
    "x_train = scaler.fit_transform(x_train)\n",
    "x_test = scaler.transform(x_test)\n",
    "\"\"\"\n"
   ]
  },
  {
   "cell_type": "code",
   "execution_count": null,
   "id": "a319609d",
   "metadata": {},
   "outputs": [],
   "source": [
    "log_reg = LogisticRegression()\n",
    "log_reg.fit(x_train, y_train)"
   ]
  },
  {
   "cell_type": "code",
   "execution_count": null,
   "id": "b74b4a0d",
   "metadata": {},
   "outputs": [],
   "source": [
    "print(log_reg.coef_)\n",
    "print(log_reg.intercept_)"
   ]
  },
  {
   "cell_type": "code",
   "execution_count": null,
   "id": "6774dd61",
   "metadata": {},
   "outputs": [],
   "source": [
    "y_pred = log_reg.predict(x_test)"
   ]
  },
  {
   "cell_type": "code",
   "execution_count": null,
   "id": "c3665925",
   "metadata": {},
   "outputs": [],
   "source": [
    "prob = log_reg.predict_proba(x_test)\n",
    "prob = prob.reshape(-1,1)"
   ]
  },
  {
   "cell_type": "code",
   "execution_count": null,
   "id": "441eb0da",
   "metadata": {},
   "outputs": [],
   "source": [
    "conf=confusion_matrix(y_test, y_pred)\n",
    "conf"
   ]
  },
  {
   "cell_type": "code",
   "execution_count": null,
   "id": "48ec50c0",
   "metadata": {},
   "outputs": [],
   "source": [
    "print(metrics.accuracy_score(y_test, y_pred))"
   ]
  },
  {
   "cell_type": "code",
   "execution_count": null,
   "id": "7e59a26f",
   "metadata": {},
   "outputs": [],
   "source": []
  },
  {
   "cell_type": "code",
   "execution_count": null,
   "id": "cd8dfab6",
   "metadata": {},
   "outputs": [],
   "source": []
  },
  {
   "cell_type": "code",
   "execution_count": null,
   "id": "c1b123d1",
   "metadata": {},
   "outputs": [],
   "source": [
    "TP = conf[1,1] # true positive \n",
    "TN = conf[0,0] # true negatives\n",
    "FP = conf[0,1] # false positives\n",
    "FN = conf[1,0] # false negatives"
   ]
  },
  {
   "cell_type": "code",
   "execution_count": null,
   "id": "2025b98b",
   "metadata": {},
   "outputs": [],
   "source": [
    "#Precision:\n",
    "Precision=TP/(TP+FP)\n",
    "Precision"
   ]
  },
  {
   "cell_type": "code",
   "execution_count": null,
   "id": "7c27833c",
   "metadata": {},
   "outputs": [],
   "source": [
    "#Recall:\n",
    "Recall = TP/(TP+FN)\n",
    "Recall"
   ]
  },
  {
   "cell_type": "code",
   "execution_count": null,
   "id": "aea6da91",
   "metadata": {},
   "outputs": [],
   "source": [
    "#fpr, tpr, thresholds = metrics.roc_curve( y_pred, prob, drop_intermediate = False )"
   ]
  },
  {
   "cell_type": "code",
   "execution_count": null,
   "id": "c47351ab",
   "metadata": {},
   "outputs": [],
   "source": [
    "\n",
    "roc "
   ]
  }
 ],
 "metadata": {
  "kernelspec": {
   "display_name": "Python 3",
   "language": "python",
   "name": "python3"
  },
  "language_info": {
   "codemirror_mode": {
    "name": "ipython",
    "version": 3
   },
   "file_extension": ".py",
   "mimetype": "text/x-python",
   "name": "python",
   "nbconvert_exporter": "python",
   "pygments_lexer": "ipython3",
   "version": "3.8.8"
  }
 },
 "nbformat": 4,
 "nbformat_minor": 5
}
