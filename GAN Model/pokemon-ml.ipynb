{
 "cells": [
  {
   "cell_type": "markdown",
   "metadata": {
    "papermill": {
     "duration": 0.044487,
     "end_time": "2021-02-11T12:04:57.557216",
     "exception": false,
     "start_time": "2021-02-11T12:04:57.512729",
     "status": "completed"
    },
    "tags": []
   },
   "source": [
    "# Pokemon"
   ]
  },
  {
   "cell_type": "markdown",
   "metadata": {
    "papermill": {
     "duration": 0.040044,
     "end_time": "2021-02-11T12:04:57.637996",
     "exception": false,
     "start_time": "2021-02-11T12:04:57.597952",
     "status": "completed"
    },
    "tags": []
   },
   "source": [
    "## Data content\n",
    "\n",
    "This database includes 21 variables per each of the 721 Pokémon of the first six generations, plus the Pokémon ID and its name. These variables are briefly described next:\n",
    "\n",
    "    Number. Pokémon ID in the Pokédex.\n",
    "    Name. Name of the Pokémon.\n",
    "    Type_1. Primary type.\n",
    "    Type_2. Second type, in case the Pokémon has it.\n",
    "    Total. Sum of all the base stats (Health Points, Attack, Defense, Special Attack, Special Defense, and Speed).\n",
    "    HP. Base Health Points.\n",
    "    Attack. Base Attack.\n",
    "    Defense. Base Defense.\n",
    "    Sp_Atk. Base Special Attack.\n",
    "    Sp_Def. Base Special Defense.\n",
    "    Speed. Base Speed.\n",
    "    Generation. Number of the generation when the Pokémon was introduced.\n",
    "    isLegendary. Boolean that indicates whether the Pokémon is Legendary or not.\n",
    "    Color. Colour of the Pokémon according to the Pokédex.\n",
    "    hasGender. Boolean that indicates if the Pokémon can be classified as female or male.\n",
    "    Pr_male. In case the Pokémon has Gender, the probability of its being male. The probability of being female is, of course, 1 minus this value.\n",
    "    EggGroup1. Egg Group of the Pokémon.\n",
    "    EggGroup2. Second Egg Group of the Pokémon, in case it has two.\n",
    "    hasMegaEvolution. Boolean that indicates whether the Pokémon is able to Mega-evolve or not.\n",
    "    Height_m. Height of the Pokémon, in meters.\n",
    "    Weight_kg. Weight of the Pokémon, in kilograms.\n",
    "    Catch_Rate. Catch Rate.\n",
    "    Body_Style. Body Style of the Pokémon according to the Pokédex."
   ]
  },
  {
   "cell_type": "markdown",
   "metadata": {
    "papermill": {
     "duration": 0.040155,
     "end_time": "2021-02-11T12:04:57.718620",
     "exception": false,
     "start_time": "2021-02-11T12:04:57.678465",
     "status": "completed"
    },
    "tags": []
   },
   "source": [
    "## Prepare data"
   ]
  },
  {
   "cell_type": "code",
   "execution_count": 1,
   "metadata": {
    "execution": {
     "iopub.execute_input": "2021-02-11T12:04:57.805625Z",
     "iopub.status.busy": "2021-02-11T12:04:57.804968Z",
     "iopub.status.idle": "2021-02-11T12:04:58.619108Z",
     "shell.execute_reply": "2021-02-11T12:04:58.619595Z"
    },
    "papermill": {
     "duration": 0.860937,
     "end_time": "2021-02-11T12:04:58.619975",
     "exception": false,
     "start_time": "2021-02-11T12:04:57.759038",
     "status": "completed"
    },
    "tags": []
   },
   "outputs": [],
   "source": [
    "import math\n",
    "import numpy as np\n",
    "import pandas as pd\n",
    "import seaborn as sns\n",
    "import matplotlib.pyplot as plt"
   ]
  },
  {
   "cell_type": "code",
   "execution_count": 2,
   "metadata": {
    "execution": {
     "iopub.execute_input": "2021-02-11T12:04:58.704309Z",
     "iopub.status.busy": "2021-02-11T12:04:58.703636Z",
     "iopub.status.idle": "2021-02-11T12:04:58.741134Z",
     "shell.execute_reply": "2021-02-11T12:04:58.740435Z"
    },
    "papermill": {
     "duration": 0.080528,
     "end_time": "2021-02-11T12:04:58.741277",
     "exception": false,
     "start_time": "2021-02-11T12:04:58.660749",
     "status": "completed"
    },
    "tags": []
   },
   "outputs": [],
   "source": [
    "train = pd.read_csv('../input/pokemon-datasets-for-ml/train_pokemon.csv')\n",
    "test = pd.read_csv('../input/pokemon-datasets-for-ml/test_pokemon.csv')"
   ]
  },
  {
   "cell_type": "code",
   "execution_count": 3,
   "metadata": {
    "execution": {
     "iopub.execute_input": "2021-02-11T12:04:58.826166Z",
     "iopub.status.busy": "2021-02-11T12:04:58.825461Z",
     "iopub.status.idle": "2021-02-11T12:04:58.871188Z",
     "shell.execute_reply": "2021-02-11T12:04:58.871659Z"
    },
    "papermill": {
     "duration": 0.090125,
     "end_time": "2021-02-11T12:04:58.871858",
     "exception": false,
     "start_time": "2021-02-11T12:04:58.781733",
     "status": "completed"
    },
    "tags": []
   },
   "outputs": [
    {
     "data": {
      "text/html": [
       "<div>\n",
       "<style scoped>\n",
       "    .dataframe tbody tr th:only-of-type {\n",
       "        vertical-align: middle;\n",
       "    }\n",
       "\n",
       "    .dataframe tbody tr th {\n",
       "        vertical-align: top;\n",
       "    }\n",
       "\n",
       "    .dataframe thead th {\n",
       "        text-align: right;\n",
       "    }\n",
       "</style>\n",
       "<table border=\"1\" class=\"dataframe\">\n",
       "  <thead>\n",
       "    <tr style=\"text-align: right;\">\n",
       "      <th></th>\n",
       "      <th>Number</th>\n",
       "      <th>Name</th>\n",
       "      <th>Type_1</th>\n",
       "      <th>Type_2</th>\n",
       "      <th>Total</th>\n",
       "      <th>HP</th>\n",
       "      <th>Attack</th>\n",
       "      <th>Defense</th>\n",
       "      <th>Sp_Atk</th>\n",
       "      <th>Sp_Def</th>\n",
       "      <th>...</th>\n",
       "      <th>hasGender</th>\n",
       "      <th>Pr_Male</th>\n",
       "      <th>Egg_Group_1</th>\n",
       "      <th>Egg_Group_2</th>\n",
       "      <th>hasMegaEvolution</th>\n",
       "      <th>Height_m</th>\n",
       "      <th>Weight_kg</th>\n",
       "      <th>Catch_Rate</th>\n",
       "      <th>Body_Style</th>\n",
       "      <th>shuffle</th>\n",
       "    </tr>\n",
       "  </thead>\n",
       "  <tbody>\n",
       "    <tr>\n",
       "      <th>0</th>\n",
       "      <td>696</td>\n",
       "      <td>Tyrunt</td>\n",
       "      <td>Rock</td>\n",
       "      <td>Dragon</td>\n",
       "      <td>362</td>\n",
       "      <td>58</td>\n",
       "      <td>89</td>\n",
       "      <td>77</td>\n",
       "      <td>45</td>\n",
       "      <td>45</td>\n",
       "      <td>...</td>\n",
       "      <td>True</td>\n",
       "      <td>0.875</td>\n",
       "      <td>Monster</td>\n",
       "      <td>Dragon</td>\n",
       "      <td>False</td>\n",
       "      <td>0.79</td>\n",
       "      <td>26.0</td>\n",
       "      <td>45</td>\n",
       "      <td>bipedal_tailed</td>\n",
       "      <td>0.806833</td>\n",
       "    </tr>\n",
       "    <tr>\n",
       "      <th>1</th>\n",
       "      <td>271</td>\n",
       "      <td>Lombre</td>\n",
       "      <td>Water</td>\n",
       "      <td>Grass</td>\n",
       "      <td>340</td>\n",
       "      <td>60</td>\n",
       "      <td>50</td>\n",
       "      <td>50</td>\n",
       "      <td>60</td>\n",
       "      <td>70</td>\n",
       "      <td>...</td>\n",
       "      <td>True</td>\n",
       "      <td>0.500</td>\n",
       "      <td>Water_1</td>\n",
       "      <td>Grass</td>\n",
       "      <td>False</td>\n",
       "      <td>1.19</td>\n",
       "      <td>32.5</td>\n",
       "      <td>120</td>\n",
       "      <td>bipedal_tailless</td>\n",
       "      <td>0.846142</td>\n",
       "    </tr>\n",
       "    <tr>\n",
       "      <th>2</th>\n",
       "      <td>335</td>\n",
       "      <td>Zangoose</td>\n",
       "      <td>Normal</td>\n",
       "      <td>NaN</td>\n",
       "      <td>458</td>\n",
       "      <td>73</td>\n",
       "      <td>115</td>\n",
       "      <td>60</td>\n",
       "      <td>60</td>\n",
       "      <td>60</td>\n",
       "      <td>...</td>\n",
       "      <td>True</td>\n",
       "      <td>0.500</td>\n",
       "      <td>Field</td>\n",
       "      <td>NaN</td>\n",
       "      <td>False</td>\n",
       "      <td>1.30</td>\n",
       "      <td>40.3</td>\n",
       "      <td>90</td>\n",
       "      <td>bipedal_tailed</td>\n",
       "      <td>0.414744</td>\n",
       "    </tr>\n",
       "  </tbody>\n",
       "</table>\n",
       "<p>3 rows × 24 columns</p>\n",
       "</div>"
      ],
      "text/plain": [
       "   Number      Name  Type_1  Type_2  Total  HP  Attack  Defense  Sp_Atk  \\\n",
       "0     696    Tyrunt    Rock  Dragon    362  58      89       77      45   \n",
       "1     271    Lombre   Water   Grass    340  60      50       50      60   \n",
       "2     335  Zangoose  Normal     NaN    458  73     115       60      60   \n",
       "\n",
       "   Sp_Def  ...  hasGender  Pr_Male  Egg_Group_1 Egg_Group_2  hasMegaEvolution  \\\n",
       "0      45  ...       True    0.875      Monster      Dragon             False   \n",
       "1      70  ...       True    0.500      Water_1       Grass             False   \n",
       "2      60  ...       True    0.500        Field         NaN             False   \n",
       "\n",
       "   Height_m Weight_kg Catch_Rate        Body_Style   shuffle  \n",
       "0      0.79      26.0         45    bipedal_tailed  0.806833  \n",
       "1      1.19      32.5        120  bipedal_tailless  0.846142  \n",
       "2      1.30      40.3         90    bipedal_tailed  0.414744  \n",
       "\n",
       "[3 rows x 24 columns]"
      ]
     },
     "execution_count": 3,
     "metadata": {},
     "output_type": "execute_result"
    }
   ],
   "source": [
    "train.head(3)"
   ]
  },
  {
   "cell_type": "code",
   "execution_count": 4,
   "metadata": {
    "execution": {
     "iopub.execute_input": "2021-02-11T12:04:58.959483Z",
     "iopub.status.busy": "2021-02-11T12:04:58.958827Z",
     "iopub.status.idle": "2021-02-11T12:04:58.963953Z",
     "shell.execute_reply": "2021-02-11T12:04:58.964444Z"
    },
    "papermill": {
     "duration": 0.050255,
     "end_time": "2021-02-11T12:04:58.964629",
     "exception": false,
     "start_time": "2021-02-11T12:04:58.914374",
     "status": "completed"
    },
    "tags": []
   },
   "outputs": [
    {
     "data": {
      "text/plain": [
       "(577, 24)"
      ]
     },
     "execution_count": 4,
     "metadata": {},
     "output_type": "execute_result"
    }
   ],
   "source": [
    "train.shape"
   ]
  },
  {
   "cell_type": "code",
   "execution_count": 5,
   "metadata": {
    "execution": {
     "iopub.execute_input": "2021-02-11T12:04:59.051270Z",
     "iopub.status.busy": "2021-02-11T12:04:59.050622Z",
     "iopub.status.idle": "2021-02-11T12:04:59.103163Z",
     "shell.execute_reply": "2021-02-11T12:04:59.103691Z"
    },
    "papermill": {
     "duration": 0.097713,
     "end_time": "2021-02-11T12:04:59.103890",
     "exception": false,
     "start_time": "2021-02-11T12:04:59.006177",
     "status": "completed"
    },
    "tags": []
   },
   "outputs": [
    {
     "data": {
      "text/html": [
       "<div>\n",
       "<style scoped>\n",
       "    .dataframe tbody tr th:only-of-type {\n",
       "        vertical-align: middle;\n",
       "    }\n",
       "\n",
       "    .dataframe tbody tr th {\n",
       "        vertical-align: top;\n",
       "    }\n",
       "\n",
       "    .dataframe thead th {\n",
       "        text-align: right;\n",
       "    }\n",
       "</style>\n",
       "<table border=\"1\" class=\"dataframe\">\n",
       "  <thead>\n",
       "    <tr style=\"text-align: right;\">\n",
       "      <th></th>\n",
       "      <th>Number</th>\n",
       "      <th>Total</th>\n",
       "      <th>HP</th>\n",
       "      <th>Attack</th>\n",
       "      <th>Defense</th>\n",
       "      <th>Sp_Atk</th>\n",
       "      <th>Sp_Def</th>\n",
       "      <th>Speed</th>\n",
       "      <th>Generation</th>\n",
       "      <th>Pr_Male</th>\n",
       "      <th>Height_m</th>\n",
       "      <th>Weight_kg</th>\n",
       "      <th>Catch_Rate</th>\n",
       "      <th>shuffle</th>\n",
       "    </tr>\n",
       "  </thead>\n",
       "  <tbody>\n",
       "    <tr>\n",
       "      <th>count</th>\n",
       "      <td>577.000000</td>\n",
       "      <td>577.000000</td>\n",
       "      <td>577.000000</td>\n",
       "      <td>577.000000</td>\n",
       "      <td>577.000000</td>\n",
       "      <td>577.000000</td>\n",
       "      <td>577.000000</td>\n",
       "      <td>577.000000</td>\n",
       "      <td>577.000000</td>\n",
       "      <td>512.000000</td>\n",
       "      <td>577.000000</td>\n",
       "      <td>577.000000</td>\n",
       "      <td>577.000000</td>\n",
       "      <td>577.000000</td>\n",
       "    </tr>\n",
       "    <tr>\n",
       "      <th>mean</th>\n",
       "      <td>365.173310</td>\n",
       "      <td>421.844021</td>\n",
       "      <td>68.736568</td>\n",
       "      <td>75.944541</td>\n",
       "      <td>71.135182</td>\n",
       "      <td>69.908146</td>\n",
       "      <td>69.885615</td>\n",
       "      <td>66.233969</td>\n",
       "      <td>3.350087</td>\n",
       "      <td>0.553711</td>\n",
       "      <td>1.186118</td>\n",
       "      <td>60.791508</td>\n",
       "      <td>99.535529</td>\n",
       "      <td>0.492639</td>\n",
       "    </tr>\n",
       "    <tr>\n",
       "      <th>std</th>\n",
       "      <td>207.850969</td>\n",
       "      <td>109.397402</td>\n",
       "      <td>25.911574</td>\n",
       "      <td>28.915893</td>\n",
       "      <td>29.712554</td>\n",
       "      <td>28.978504</td>\n",
       "      <td>27.363692</td>\n",
       "      <td>27.183131</td>\n",
       "      <td>1.668375</td>\n",
       "      <td>0.199488</td>\n",
       "      <td>1.124625</td>\n",
       "      <td>95.910128</td>\n",
       "      <td>76.706891</td>\n",
       "      <td>0.282454</td>\n",
       "    </tr>\n",
       "    <tr>\n",
       "      <th>min</th>\n",
       "      <td>3.000000</td>\n",
       "      <td>195.000000</td>\n",
       "      <td>1.000000</td>\n",
       "      <td>5.000000</td>\n",
       "      <td>5.000000</td>\n",
       "      <td>10.000000</td>\n",
       "      <td>20.000000</td>\n",
       "      <td>5.000000</td>\n",
       "      <td>1.000000</td>\n",
       "      <td>0.000000</td>\n",
       "      <td>0.100000</td>\n",
       "      <td>0.100000</td>\n",
       "      <td>3.000000</td>\n",
       "      <td>0.000197</td>\n",
       "    </tr>\n",
       "    <tr>\n",
       "      <th>25%</th>\n",
       "      <td>183.000000</td>\n",
       "      <td>325.000000</td>\n",
       "      <td>50.000000</td>\n",
       "      <td>55.000000</td>\n",
       "      <td>50.000000</td>\n",
       "      <td>47.000000</td>\n",
       "      <td>50.000000</td>\n",
       "      <td>45.000000</td>\n",
       "      <td>2.000000</td>\n",
       "      <td>0.500000</td>\n",
       "      <td>0.610000</td>\n",
       "      <td>9.900000</td>\n",
       "      <td>45.000000</td>\n",
       "      <td>0.248779</td>\n",
       "    </tr>\n",
       "    <tr>\n",
       "      <th>50%</th>\n",
       "      <td>366.000000</td>\n",
       "      <td>430.000000</td>\n",
       "      <td>65.000000</td>\n",
       "      <td>75.000000</td>\n",
       "      <td>67.000000</td>\n",
       "      <td>65.000000</td>\n",
       "      <td>65.000000</td>\n",
       "      <td>65.000000</td>\n",
       "      <td>3.000000</td>\n",
       "      <td>0.500000</td>\n",
       "      <td>0.990000</td>\n",
       "      <td>29.500000</td>\n",
       "      <td>60.000000</td>\n",
       "      <td>0.487075</td>\n",
       "    </tr>\n",
       "    <tr>\n",
       "      <th>75%</th>\n",
       "      <td>544.000000</td>\n",
       "      <td>500.000000</td>\n",
       "      <td>80.000000</td>\n",
       "      <td>95.000000</td>\n",
       "      <td>85.000000</td>\n",
       "      <td>90.000000</td>\n",
       "      <td>85.000000</td>\n",
       "      <td>85.000000</td>\n",
       "      <td>5.000000</td>\n",
       "      <td>0.500000</td>\n",
       "      <td>1.500000</td>\n",
       "      <td>64.800000</td>\n",
       "      <td>180.000000</td>\n",
       "      <td>0.739929</td>\n",
       "    </tr>\n",
       "    <tr>\n",
       "      <th>max</th>\n",
       "      <td>721.000000</td>\n",
       "      <td>720.000000</td>\n",
       "      <td>255.000000</td>\n",
       "      <td>160.000000</td>\n",
       "      <td>230.000000</td>\n",
       "      <td>154.000000</td>\n",
       "      <td>230.000000</td>\n",
       "      <td>160.000000</td>\n",
       "      <td>6.000000</td>\n",
       "      <td>1.000000</td>\n",
       "      <td>14.500000</td>\n",
       "      <td>950.000000</td>\n",
       "      <td>255.000000</td>\n",
       "      <td>0.997422</td>\n",
       "    </tr>\n",
       "  </tbody>\n",
       "</table>\n",
       "</div>"
      ],
      "text/plain": [
       "           Number       Total          HP      Attack     Defense      Sp_Atk  \\\n",
       "count  577.000000  577.000000  577.000000  577.000000  577.000000  577.000000   \n",
       "mean   365.173310  421.844021   68.736568   75.944541   71.135182   69.908146   \n",
       "std    207.850969  109.397402   25.911574   28.915893   29.712554   28.978504   \n",
       "min      3.000000  195.000000    1.000000    5.000000    5.000000   10.000000   \n",
       "25%    183.000000  325.000000   50.000000   55.000000   50.000000   47.000000   \n",
       "50%    366.000000  430.000000   65.000000   75.000000   67.000000   65.000000   \n",
       "75%    544.000000  500.000000   80.000000   95.000000   85.000000   90.000000   \n",
       "max    721.000000  720.000000  255.000000  160.000000  230.000000  154.000000   \n",
       "\n",
       "           Sp_Def       Speed  Generation     Pr_Male    Height_m   Weight_kg  \\\n",
       "count  577.000000  577.000000  577.000000  512.000000  577.000000  577.000000   \n",
       "mean    69.885615   66.233969    3.350087    0.553711    1.186118   60.791508   \n",
       "std     27.363692   27.183131    1.668375    0.199488    1.124625   95.910128   \n",
       "min     20.000000    5.000000    1.000000    0.000000    0.100000    0.100000   \n",
       "25%     50.000000   45.000000    2.000000    0.500000    0.610000    9.900000   \n",
       "50%     65.000000   65.000000    3.000000    0.500000    0.990000   29.500000   \n",
       "75%     85.000000   85.000000    5.000000    0.500000    1.500000   64.800000   \n",
       "max    230.000000  160.000000    6.000000    1.000000   14.500000  950.000000   \n",
       "\n",
       "       Catch_Rate     shuffle  \n",
       "count  577.000000  577.000000  \n",
       "mean    99.535529    0.492639  \n",
       "std     76.706891    0.282454  \n",
       "min      3.000000    0.000197  \n",
       "25%     45.000000    0.248779  \n",
       "50%     60.000000    0.487075  \n",
       "75%    180.000000    0.739929  \n",
       "max    255.000000    0.997422  "
      ]
     },
     "execution_count": 5,
     "metadata": {},
     "output_type": "execute_result"
    }
   ],
   "source": [
    "train.describe()"
   ]
  },
  {
   "cell_type": "code",
   "execution_count": 6,
   "metadata": {
    "execution": {
     "iopub.execute_input": "2021-02-11T12:04:59.192662Z",
     "iopub.status.busy": "2021-02-11T12:04:59.191891Z",
     "iopub.status.idle": "2021-02-11T12:04:59.238360Z",
     "shell.execute_reply": "2021-02-11T12:04:59.238831Z"
    },
    "papermill": {
     "duration": 0.092926,
     "end_time": "2021-02-11T12:04:59.239184",
     "exception": false,
     "start_time": "2021-02-11T12:04:59.146258",
     "status": "completed"
    },
    "tags": []
   },
   "outputs": [
    {
     "data": {
      "text/html": [
       "<div>\n",
       "<style scoped>\n",
       "    .dataframe tbody tr th:only-of-type {\n",
       "        vertical-align: middle;\n",
       "    }\n",
       "\n",
       "    .dataframe tbody tr th {\n",
       "        vertical-align: top;\n",
       "    }\n",
       "\n",
       "    .dataframe thead th {\n",
       "        text-align: right;\n",
       "    }\n",
       "</style>\n",
       "<table border=\"1\" class=\"dataframe\">\n",
       "  <thead>\n",
       "    <tr style=\"text-align: right;\">\n",
       "      <th></th>\n",
       "      <th>Name</th>\n",
       "      <th>Type_1</th>\n",
       "      <th>Type_2</th>\n",
       "      <th>Color</th>\n",
       "      <th>Egg_Group_1</th>\n",
       "      <th>Egg_Group_2</th>\n",
       "      <th>Body_Style</th>\n",
       "    </tr>\n",
       "  </thead>\n",
       "  <tbody>\n",
       "    <tr>\n",
       "      <th>count</th>\n",
       "      <td>577</td>\n",
       "      <td>577</td>\n",
       "      <td>286</td>\n",
       "      <td>577</td>\n",
       "      <td>577</td>\n",
       "      <td>153</td>\n",
       "      <td>577</td>\n",
       "    </tr>\n",
       "    <tr>\n",
       "      <th>unique</th>\n",
       "      <td>577</td>\n",
       "      <td>18</td>\n",
       "      <td>18</td>\n",
       "      <td>10</td>\n",
       "      <td>14</td>\n",
       "      <td>13</td>\n",
       "      <td>14</td>\n",
       "    </tr>\n",
       "    <tr>\n",
       "      <th>top</th>\n",
       "      <td>Marowak</td>\n",
       "      <td>Water</td>\n",
       "      <td>Flying</td>\n",
       "      <td>Blue</td>\n",
       "      <td>Field</td>\n",
       "      <td>Dragon</td>\n",
       "      <td>bipedal_tailed</td>\n",
       "    </tr>\n",
       "    <tr>\n",
       "      <th>freq</th>\n",
       "      <td>1</td>\n",
       "      <td>83</td>\n",
       "      <td>71</td>\n",
       "      <td>112</td>\n",
       "      <td>131</td>\n",
       "      <td>32</td>\n",
       "      <td>124</td>\n",
       "    </tr>\n",
       "  </tbody>\n",
       "</table>\n",
       "</div>"
      ],
      "text/plain": [
       "           Name Type_1  Type_2 Color Egg_Group_1 Egg_Group_2      Body_Style\n",
       "count       577    577     286   577         577         153             577\n",
       "unique      577     18      18    10          14          13              14\n",
       "top     Marowak  Water  Flying  Blue       Field      Dragon  bipedal_tailed\n",
       "freq          1     83      71   112         131          32             124"
      ]
     },
     "execution_count": 6,
     "metadata": {},
     "output_type": "execute_result"
    }
   ],
   "source": [
    "# describe(include = ['O']) will show the descriptive statistics of object data types.\n",
    "train.describe(include=['O'])"
   ]
  },
  {
   "cell_type": "code",
   "execution_count": 7,
   "metadata": {
    "execution": {
     "iopub.execute_input": "2021-02-11T12:04:59.328973Z",
     "iopub.status.busy": "2021-02-11T12:04:59.328274Z",
     "iopub.status.idle": "2021-02-11T12:04:59.631514Z",
     "shell.execute_reply": "2021-02-11T12:04:59.632122Z"
    },
    "papermill": {
     "duration": 0.349903,
     "end_time": "2021-02-11T12:04:59.632307",
     "exception": false,
     "start_time": "2021-02-11T12:04:59.282404",
     "status": "completed"
    },
    "tags": []
   },
   "outputs": [
    {
     "data": {
      "text/plain": [
       "<AxesSubplot:>"
      ]
     },
     "execution_count": 7,
     "metadata": {},
     "output_type": "execute_result"
    },
    {
     "data": {
      "image/png": "[encoded data removed]",
      "text/plain": [
       "<Figure size 432x288 with 1 Axes>"
      ]
     },
     "metadata": {
      "needs_background": "light"
     },
     "output_type": "display_data"
    }
   ],
   "source": [
    "# check for missing values\n",
    "sns.heatmap(train.isnull(),yticklabels=False,cbar=False,cmap='viridis')"
   ]
  },
  {
   "cell_type": "markdown",
   "metadata": {
    "papermill": {
     "duration": 0.043925,
     "end_time": "2021-02-11T12:04:59.720748",
     "exception": false,
     "start_time": "2021-02-11T12:04:59.676823",
     "status": "completed"
    },
    "tags": []
   },
   "source": [
    "Let's fill the rows in `Type_2` column that are currently null with `None`. "
   ]
  },
  {
   "cell_type": "code",
   "execution_count": 8,
   "metadata": {
    "execution": {
     "iopub.execute_input": "2021-02-11T12:04:59.813107Z",
     "iopub.status.busy": "2021-02-11T12:04:59.812465Z",
     "iopub.status.idle": "2021-02-11T12:04:59.816955Z",
     "shell.execute_reply": "2021-02-11T12:04:59.817434Z"
    },
    "papermill": {
     "duration": 0.051819,
     "end_time": "2021-02-11T12:04:59.817596",
     "exception": false,
     "start_time": "2021-02-11T12:04:59.765777",
     "status": "completed"
    },
    "tags": []
   },
   "outputs": [],
   "source": [
    "def fill_type_2(cols):\n",
    "    type_2 = cols[0]\n",
    "    if pd.isnull(type_2):\n",
    "        return \"None\"\n",
    "    else:\n",
    "        return type_2"
   ]
  },
  {
   "cell_type": "code",
   "execution_count": 9,
   "metadata": {
    "execution": {
     "iopub.execute_input": "2021-02-11T12:04:59.911830Z",
     "iopub.status.busy": "2021-02-11T12:04:59.911224Z",
     "iopub.status.idle": "2021-02-11T12:04:59.926442Z",
     "shell.execute_reply": "2021-02-11T12:04:59.926998Z"
    },
    "papermill": {
     "duration": 0.06444,
     "end_time": "2021-02-11T12:04:59.927180",
     "exception": false,
     "start_time": "2021-02-11T12:04:59.862740",
     "status": "completed"
    },
    "tags": []
   },
   "outputs": [],
   "source": [
    "train['Type_2'] = train[['Type_2']].apply(fill_type_2,axis=1)"
   ]
  },
  {
   "cell_type": "markdown",
   "metadata": {
    "papermill": {
     "duration": 0.044349,
     "end_time": "2021-02-11T12:05:00.017976",
     "exception": false,
     "start_time": "2021-02-11T12:04:59.973627",
     "status": "completed"
    },
    "tags": []
   },
   "source": [
    "Because the majority of the `Egg_Group_2` is `NaN`, we will drop from the dataset as it will not be of any help. Then, we will be in a position to start investigating our data."
   ]
  },
  {
   "cell_type": "code",
   "execution_count": 10,
   "metadata": {
    "execution": {
     "iopub.execute_input": "2021-02-11T12:05:00.114827Z",
     "iopub.status.busy": "2021-02-11T12:05:00.113815Z",
     "iopub.status.idle": "2021-02-11T12:05:00.117248Z",
     "shell.execute_reply": "2021-02-11T12:05:00.116717Z"
    },
    "papermill": {
     "duration": 0.054436,
     "end_time": "2021-02-11T12:05:00.117397",
     "exception": false,
     "start_time": "2021-02-11T12:05:00.062961",
     "status": "completed"
    },
    "tags": []
   },
   "outputs": [],
   "source": [
    "train.drop(columns=['Egg_Group_2'], inplace=True)"
   ]
  },
  {
   "cell_type": "code",
   "execution_count": 11,
   "metadata": {
    "execution": {
     "iopub.execute_input": "2021-02-11T12:05:00.216601Z",
     "iopub.status.busy": "2021-02-11T12:05:00.215291Z",
     "iopub.status.idle": "2021-02-11T12:05:00.535283Z",
     "shell.execute_reply": "2021-02-11T12:05:00.535749Z"
    },
    "papermill": {
     "duration": 0.37362,
     "end_time": "2021-02-11T12:05:00.535950",
     "exception": false,
     "start_time": "2021-02-11T12:05:00.162330",
     "status": "completed"
    },
    "tags": []
   },
   "outputs": [
    {
     "data": {
      "text/plain": [
       "<AxesSubplot:>"
      ]
     },
     "execution_count": 11,
     "metadata": {},
     "output_type": "execute_result"
    },
    {
     "data": {
      "image/png": "[encoded data removed]",
      "text/plain": [
       "<Figure size 432x288 with 1 Axes>"
      ]
     },
     "metadata": {
      "needs_background": "light"
     },
     "output_type": "display_data"
    }
   ],
   "source": [
    "sns.heatmap(train.isnull(),yticklabels=False,cbar=False,cmap='viridis')"
   ]
  },
  {
   "cell_type": "markdown",
   "metadata": {
    "papermill": {
     "duration": 0.046033,
     "end_time": "2021-02-11T12:05:00.627927",
     "exception": false,
     "start_time": "2021-02-11T12:05:00.581894",
     "status": "completed"
    },
    "tags": []
   },
   "source": [
    "## Relationship between Features and Legendary\n",
    "\n",
    "In this section, we will analyse the relationship between different features with respect to `isLegendary`."
   ]
  },
  {
   "cell_type": "code",
   "execution_count": 12,
   "metadata": {
    "execution": {
     "iopub.execute_input": "2021-02-11T12:05:00.726604Z",
     "iopub.status.busy": "2021-02-11T12:05:00.725604Z",
     "iopub.status.idle": "2021-02-11T12:05:00.736693Z",
     "shell.execute_reply": "2021-02-11T12:05:00.736154Z"
    },
    "papermill": {
     "duration": 0.063127,
     "end_time": "2021-02-11T12:05:00.736831",
     "exception": false,
     "start_time": "2021-02-11T12:05:00.673704",
     "status": "completed"
    },
    "tags": []
   },
   "outputs": [
    {
     "name": "stdout",
     "output_type": "stream",
     "text": [
      "Legendary: 41 (7.1%)\n",
      "Not Legendary: 536 (92.9%)\n",
      "Total: 577\n"
     ]
    }
   ],
   "source": [
    "legendary = train[train['isLegendary'] == 1]\n",
    "not_legendary = train[train['isLegendary'] == 0]\n",
    "\n",
    "print(\"Legendary: %i (%.1f%%)\"%(len(legendary), float(len(legendary))/len(train)*100.0))\n",
    "print(\"Not Legendary: %i (%.1f%%)\"%(len(not_legendary), float(len(not_legendary))/len(train)*100.0))\n",
    "print(\"Total: %i\"%len(train))"
   ]
  },
  {
   "cell_type": "code",
   "execution_count": 13,
   "metadata": {
    "execution": {
     "iopub.execute_input": "2021-02-11T12:05:00.836355Z",
     "iopub.status.busy": "2021-02-11T12:05:00.835672Z",
     "iopub.status.idle": "2021-02-11T12:05:00.839743Z",
     "shell.execute_reply": "2021-02-11T12:05:00.840209Z"
    },
    "papermill": {
     "duration": 0.057196,
     "end_time": "2021-02-11T12:05:00.840389",
     "exception": false,
     "start_time": "2021-02-11T12:05:00.783193",
     "status": "completed"
    },
    "tags": []
   },
   "outputs": [
    {
     "data": {
      "text/plain": [
       "Index(['Number', 'Name', 'Type_1', 'Type_2', 'Total', 'HP', 'Attack',\n",
       "       'Defense', 'Sp_Atk', 'Sp_Def', 'Speed', 'Generation', 'isLegendary',\n",
       "       'Color', 'hasGender', 'Pr_Male', 'Egg_Group_1', 'hasMegaEvolution',\n",
       "       'Height_m', 'Weight_kg', 'Catch_Rate', 'Body_Style', 'shuffle'],\n",
       "      dtype='object')"
      ]
     },
     "execution_count": 13,
     "metadata": {},
     "output_type": "execute_result"
    }
   ],
   "source": [
    "train.columns"
   ]
  },
  {
   "cell_type": "markdown",
   "metadata": {
    "papermill": {
     "duration": 0.046784,
     "end_time": "2021-02-11T12:05:00.934941",
     "exception": false,
     "start_time": "2021-02-11T12:05:00.888157",
     "status": "completed"
    },
    "tags": []
   },
   "source": [
    "## Correlating Features\n",
    "\n",
    "Heatmap of Correlation between different features:\n",
    "   - Positive numbers = Positive correlation, i.e. increase in one feature will increase the other feature & vice-versa.\n",
    "   - Negative numbers = Negative correlation, i.e. increase in one feature will decrease the other feature & vice-versa.\n",
    "\n",
    "In our case, we focus on which features have strong positive or negative correlation with the Survived feature."
   ]
  },
  {
   "cell_type": "code",
   "execution_count": 14,
   "metadata": {
    "execution": {
     "iopub.execute_input": "2021-02-11T12:05:01.033290Z",
     "iopub.status.busy": "2021-02-11T12:05:01.032591Z",
     "iopub.status.idle": "2021-02-11T12:05:02.620373Z",
     "shell.execute_reply": "2021-02-11T12:05:02.620881Z"
    },
    "papermill": {
     "duration": 1.638868,
     "end_time": "2021-02-11T12:05:02.621054",
     "exception": false,
     "start_time": "2021-02-11T12:05:00.982186",
     "status": "completed"
    },
    "tags": []
   },
   "outputs": [
    {
     "data": {
      "text/plain": [
       "<AxesSubplot:>"
      ]
     },
     "execution_count": 14,
     "metadata": {},
     "output_type": "execute_result"
    },
    {
     "data": {
      "image/png": "[encoded data removed]",
      "text/plain": [
       "<Figure size 1800x720 with 2 Axes>"
      ]
     },
     "metadata": {
      "needs_background": "light"
     },
     "output_type": "display_data"
    }
   ],
   "source": [
    "plt.figure(figsize=(25,10))\n",
    "train2 = train.drop(['Number','Name','hasGender','shuffle'], axis=1)\n",
    "sns.heatmap(train2.corr(), vmin= -1, vmax=1, square=True, annot=True)"
   ]
  },
  {
   "cell_type": "markdown",
   "metadata": {
    "papermill": {
     "duration": 0.053606,
     "end_time": "2021-02-11T12:05:02.725505",
     "exception": false,
     "start_time": "2021-02-11T12:05:02.671899",
     "status": "completed"
    },
    "tags": []
   },
   "source": [
    "Apparently, some feature have no correlation with legendary. These features are `hasMegaEvolution`,`Generation`."
   ]
  },
  {
   "cell_type": "code",
   "execution_count": 15,
   "metadata": {
    "execution": {
     "iopub.execute_input": "2021-02-11T12:05:02.838176Z",
     "iopub.status.busy": "2021-02-11T12:05:02.837323Z",
     "iopub.status.idle": "2021-02-11T12:05:06.021466Z",
     "shell.execute_reply": "2021-02-11T12:05:06.022602Z"
    },
    "papermill": {
     "duration": 3.245996,
     "end_time": "2021-02-11T12:05:06.022800",
     "exception": false,
     "start_time": "2021-02-11T12:05:02.776804",
     "status": "completed"
    },
    "tags": []
   },
   "outputs": [
    {
     "data": {
      "text/plain": [
       "Text(0.5, 1.0, 'Type_2 Distribution on Legendary')"
      ]
     },
     "execution_count": 15,
     "metadata": {},
     "output_type": "execute_result"
    },
    {
     "data": {
      "image/png": "[encoded data removed]",
      "text/plain": [
       "<Figure size 576x288 with 1 Axes>"
      ]
     },
     "metadata": {
      "needs_background": "light"
     },
     "output_type": "display_data"
    },
    {
     "data": {
      "image/png": "[encoded data removed]",
      "text/plain": [
       "<Figure size 1080x288 with 1 Axes>"
      ]
     },
     "metadata": {
      "needs_background": "light"
     },
     "output_type": "display_data"
    },
    {
     "data": {
      "image/png": "[encoded data removed]",
      "text/plain": [
       "<Figure size 1080x288 with 1 Axes>"
      ]
     },
     "metadata": {
      "needs_background": "light"
     },
     "output_type": "display_data"
    }
   ],
   "source": [
    "#boxplot of Attack vs. Legendary\n",
    "plt.figure(figsize=(8, 4))\n",
    "sns.boxplot(x='isLegendary',y='Attack',data=train, palette='rainbow')\n",
    "\n",
    "#stripplot of Attack vs. Legendary\n",
    "plt.figure(figsize=(15, 4))\n",
    "sns.stripplot(x='Type_1',y='Total',data=train, jitter=True,hue='isLegendary',palette=['r','b'],dodge=False).set_title('Type_1 Distribution on Legendary')\n",
    "\n",
    "#stripplot of Attack vs. Legendary\n",
    "plt.figure(figsize=(15, 4))\n",
    "sns.stripplot(x='Type_2',y='Total',data=train, jitter=True,hue='isLegendary',palette=['r','b'],dodge=False).set_title('Type_2 Distribution on Legendary')"
   ]
  },
  {
   "cell_type": "markdown",
   "metadata": {
    "papermill": {
     "duration": 0.054484,
     "end_time": "2021-02-11T12:05:06.132726",
     "exception": false,
     "start_time": "2021-02-11T12:05:06.078242",
     "status": "completed"
    },
    "tags": []
   },
   "source": [
    "### Type_1 vs Lengendary"
   ]
  },
  {
   "cell_type": "code",
   "execution_count": 16,
   "metadata": {
    "execution": {
     "iopub.execute_input": "2021-02-11T12:05:06.250690Z",
     "iopub.status.busy": "2021-02-11T12:05:06.250011Z",
     "iopub.status.idle": "2021-02-11T12:05:06.538263Z",
     "shell.execute_reply": "2021-02-11T12:05:06.538729Z"
    },
    "papermill": {
     "duration": 0.351142,
     "end_time": "2021-02-11T12:05:06.538926",
     "exception": false,
     "start_time": "2021-02-11T12:05:06.187784",
     "status": "completed"
    },
    "tags": []
   },
   "outputs": [
    {
     "data": {
      "text/plain": [
       "<AxesSubplot:xlabel='Type_1'>"
      ]
     },
     "execution_count": 16,
     "metadata": {},
     "output_type": "execute_result"
    },
    {
     "data": {
      "image/png": "[encoded data removed]",
      "text/plain": [
       "<Figure size 432x288 with 1 Axes>"
      ]
     },
     "metadata": {
      "needs_background": "light"
     },
     "output_type": "display_data"
    }
   ],
   "source": [
    "type_1 = train[['Type_1','isLegendary']].groupby(['Type_1'], as_index=False).mean().set_index('Type_1')\n",
    "type_1.sort_values(by='isLegendary',ascending=False).plot(kind='bar')"
   ]
  },
  {
   "cell_type": "markdown",
   "metadata": {
    "papermill": {
     "duration": 0.056402,
     "end_time": "2021-02-11T12:05:06.651605",
     "exception": false,
     "start_time": "2021-02-11T12:05:06.595203",
     "status": "completed"
    },
    "tags": []
   },
   "source": [
    "It seems that most legendary Pokemons are also a Flying type, followed by the Dragon type. There are no legendary Poison, Fighting or Bug types. Still, `Type_1` feature can be useful to predict legendary Pokemons."
   ]
  },
  {
   "cell_type": "code",
   "execution_count": 17,
   "metadata": {
    "execution": {
     "iopub.execute_input": "2021-02-11T12:05:06.785504Z",
     "iopub.status.busy": "2021-02-11T12:05:06.784744Z",
     "iopub.status.idle": "2021-02-11T12:05:07.049371Z",
     "shell.execute_reply": "2021-02-11T12:05:07.048810Z"
    },
    "papermill": {
     "duration": 0.341535,
     "end_time": "2021-02-11T12:05:07.049537",
     "exception": false,
     "start_time": "2021-02-11T12:05:06.708002",
     "status": "completed"
    },
    "tags": []
   },
   "outputs": [
    {
     "data": {
      "text/plain": [
       "<AxesSubplot:xlabel='Type_2'>"
      ]
     },
     "execution_count": 17,
     "metadata": {},
     "output_type": "execute_result"
    },
    {
     "data": {
      "image/png": "[encoded data removed]",
      "text/plain": [
       "<Figure size 432x288 with 1 Axes>"
      ]
     },
     "metadata": {
      "needs_background": "light"
     },
     "output_type": "display_data"
    }
   ],
   "source": [
    "type_2 = train[['Type_2','isLegendary']].groupby(['Type_2'], as_index=False).mean().set_index('Type_2')\n",
    "type_2.sort_values(by='isLegendary',ascending=False).plot(kind='bar')"
   ]
  },
  {
   "cell_type": "markdown",
   "metadata": {
    "papermill": {
     "duration": 0.057703,
     "end_time": "2021-02-11T12:05:07.164928",
     "exception": false,
     "start_time": "2021-02-11T12:05:07.107225",
     "status": "completed"
    },
    "tags": []
   },
   "source": [
    "Like Type_1, `Type_2` can be useful to predict legendary Pokemons."
   ]
  },
  {
   "cell_type": "markdown",
   "metadata": {
    "papermill": {
     "duration": 0.058254,
     "end_time": "2021-02-11T12:05:07.281298",
     "exception": false,
     "start_time": "2021-02-11T12:05:07.223044",
     "status": "completed"
    },
    "tags": []
   },
   "source": [
    "## Feature Extraction\n",
    "\n",
    "In this section, we select the appropriate features to train our classifier. Here, we create new features based on existing features. We also convert categorical features into numeric form."
   ]
  },
  {
   "cell_type": "code",
   "execution_count": 18,
   "metadata": {
    "execution": {
     "iopub.execute_input": "2021-02-11T12:05:07.401741Z",
     "iopub.status.busy": "2021-02-11T12:05:07.401098Z",
     "iopub.status.idle": "2021-02-11T12:05:07.404309Z",
     "shell.execute_reply": "2021-02-11T12:05:07.403669Z"
    },
    "papermill": {
     "duration": 0.065328,
     "end_time": "2021-02-11T12:05:07.404446",
     "exception": false,
     "start_time": "2021-02-11T12:05:07.339118",
     "status": "completed"
    },
    "tags": []
   },
   "outputs": [],
   "source": [
    "train_test_data = [train, test]"
   ]
  },
  {
   "cell_type": "code",
   "execution_count": 19,
   "metadata": {
    "execution": {
     "iopub.execute_input": "2021-02-11T12:05:07.528704Z",
     "iopub.status.busy": "2021-02-11T12:05:07.527970Z",
     "iopub.status.idle": "2021-02-11T12:05:07.531252Z",
     "shell.execute_reply": "2021-02-11T12:05:07.530600Z"
    },
    "papermill": {
     "duration": 0.069032,
     "end_time": "2021-02-11T12:05:07.531394",
     "exception": false,
     "start_time": "2021-02-11T12:05:07.462362",
     "status": "completed"
    },
    "tags": []
   },
   "outputs": [],
   "source": [
    "for dataset in train_test_data:\n",
    "    dataset['isLegendary'] = dataset['isLegendary'].map({True: 1, False: 0}).astype(int)"
   ]
  },
  {
   "cell_type": "code",
   "execution_count": 20,
   "metadata": {
    "execution": {
     "iopub.execute_input": "2021-02-11T12:05:07.659598Z",
     "iopub.status.busy": "2021-02-11T12:05:07.658935Z",
     "iopub.status.idle": "2021-02-11T12:05:07.664867Z",
     "shell.execute_reply": "2021-02-11T12:05:07.665385Z"
    },
    "papermill": {
     "duration": 0.075182,
     "end_time": "2021-02-11T12:05:07.665561",
     "exception": false,
     "start_time": "2021-02-11T12:05:07.590379",
     "status": "completed"
    },
    "tags": []
   },
   "outputs": [
    {
     "data": {
      "text/html": [
       "<div>\n",
       "<style scoped>\n",
       "    .dataframe tbody tr th:only-of-type {\n",
       "        vertical-align: middle;\n",
       "    }\n",
       "\n",
       "    .dataframe tbody tr th {\n",
       "        vertical-align: top;\n",
       "    }\n",
       "\n",
       "    .dataframe thead th {\n",
       "        text-align: right;\n",
       "    }\n",
       "</style>\n",
       "<table border=\"1\" class=\"dataframe\">\n",
       "  <thead>\n",
       "    <tr style=\"text-align: right;\">\n",
       "      <th></th>\n",
       "      <th>isLegendary</th>\n",
       "    </tr>\n",
       "    <tr>\n",
       "      <th>Type_1</th>\n",
       "      <th></th>\n",
       "    </tr>\n",
       "  </thead>\n",
       "  <tbody>\n",
       "    <tr>\n",
       "      <th>Flying</th>\n",
       "      <td>0.333333</td>\n",
       "    </tr>\n",
       "    <tr>\n",
       "      <th>Dragon</th>\n",
       "      <td>0.285714</td>\n",
       "    </tr>\n",
       "    <tr>\n",
       "      <th>Psychic</th>\n",
       "      <td>0.184211</td>\n",
       "    </tr>\n",
       "    <tr>\n",
       "      <th>Steel</th>\n",
       "      <td>0.166667</td>\n",
       "    </tr>\n",
       "    <tr>\n",
       "      <th>Fire</th>\n",
       "      <td>0.147059</td>\n",
       "    </tr>\n",
       "    <tr>\n",
       "      <th>Electric</th>\n",
       "      <td>0.096774</td>\n",
       "    </tr>\n",
       "    <tr>\n",
       "      <th>Ground</th>\n",
       "      <td>0.095238</td>\n",
       "    </tr>\n",
       "    <tr>\n",
       "      <th>Ice</th>\n",
       "      <td>0.095238</td>\n",
       "    </tr>\n",
       "    <tr>\n",
       "      <th>Fairy</th>\n",
       "      <td>0.062500</td>\n",
       "    </tr>\n",
       "    <tr>\n",
       "      <th>Ghost</th>\n",
       "      <td>0.055556</td>\n",
       "    </tr>\n",
       "    <tr>\n",
       "      <th>Rock</th>\n",
       "      <td>0.054054</td>\n",
       "    </tr>\n",
       "    <tr>\n",
       "      <th>Dark</th>\n",
       "      <td>0.043478</td>\n",
       "    </tr>\n",
       "    <tr>\n",
       "      <th>Grass</th>\n",
       "      <td>0.037736</td>\n",
       "    </tr>\n",
       "    <tr>\n",
       "      <th>Water</th>\n",
       "      <td>0.036145</td>\n",
       "    </tr>\n",
       "    <tr>\n",
       "      <th>Normal</th>\n",
       "      <td>0.027027</td>\n",
       "    </tr>\n",
       "    <tr>\n",
       "      <th>Poison</th>\n",
       "      <td>0.000000</td>\n",
       "    </tr>\n",
       "    <tr>\n",
       "      <th>Fighting</th>\n",
       "      <td>0.000000</td>\n",
       "    </tr>\n",
       "    <tr>\n",
       "      <th>Bug</th>\n",
       "      <td>0.000000</td>\n",
       "    </tr>\n",
       "  </tbody>\n",
       "</table>\n",
       "</div>"
      ],
      "text/plain": [
       "          isLegendary\n",
       "Type_1               \n",
       "Flying       0.333333\n",
       "Dragon       0.285714\n",
       "Psychic      0.184211\n",
       "Steel        0.166667\n",
       "Fire         0.147059\n",
       "Electric     0.096774\n",
       "Ground       0.095238\n",
       "Ice          0.095238\n",
       "Fairy        0.062500\n",
       "Ghost        0.055556\n",
       "Rock         0.054054\n",
       "Dark         0.043478\n",
       "Grass        0.037736\n",
       "Water        0.036145\n",
       "Normal       0.027027\n",
       "Poison       0.000000\n",
       "Fighting     0.000000\n",
       "Bug          0.000000"
      ]
     },
     "execution_count": 20,
     "metadata": {},
     "output_type": "execute_result"
    }
   ],
   "source": [
    "type_1.sort_values(by='isLegendary',ascending=False)"
   ]
  },
  {
   "cell_type": "markdown",
   "metadata": {
    "papermill": {
     "duration": 0.061796,
     "end_time": "2021-02-11T12:05:07.786117",
     "exception": false,
     "start_time": "2021-02-11T12:05:07.724321",
     "status": "completed"
    },
    "tags": []
   },
   "source": [
    "After that, we convert the categorical Title values into numeric form."
   ]
  },
  {
   "cell_type": "code",
   "execution_count": 21,
   "metadata": {
    "execution": {
     "iopub.execute_input": "2021-02-11T12:05:07.915196Z",
     "iopub.status.busy": "2021-02-11T12:05:07.914436Z",
     "iopub.status.idle": "2021-02-11T12:05:07.917625Z",
     "shell.execute_reply": "2021-02-11T12:05:07.917109Z"
    },
    "papermill": {
     "duration": 0.072983,
     "end_time": "2021-02-11T12:05:07.917786",
     "exception": false,
     "start_time": "2021-02-11T12:05:07.844803",
     "status": "completed"
    },
    "tags": []
   },
   "outputs": [],
   "source": [
    "type_1_mapping = {\"Fire\": 1, \"Dragon\": 2, \"Electric\": 3, \"Fighting\": 4, \"Ice\": 5, \"Flying\": 6, \"Water\": 7, \"Ghost\": 8, \"Steel\": 9, \"None\": 10, \"Fairy\": 11, \"Psychic\": 12, \"Ground\": 13, \"Rock\": 14, \"Bug\": 15, \"Poison\": 16, \"Normal\": 17, \"Dark\": 18, \"Grass\": 19}\n",
    "for dataset in train_test_data:\n",
    "    dataset['Type_1'] = dataset['Type_1'].map(type_1_mapping)\n",
    "    dataset['Type_1'] = dataset['Type_1'].fillna(0)"
   ]
  },
  {
   "cell_type": "markdown",
   "metadata": {
    "papermill": {
     "duration": 0.058517,
     "end_time": "2021-02-11T12:05:08.035332",
     "exception": false,
     "start_time": "2021-02-11T12:05:07.976815",
     "status": "completed"
    },
    "tags": []
   },
   "source": [
    "Now, let's do the same thing for `Type_2`. Luckily, both `Type_1` and `Type_2` have the same Pokemon types, so we can just copy & paste and replace `Type_1` for `Type_2`. "
   ]
  },
  {
   "cell_type": "code",
   "execution_count": 22,
   "metadata": {
    "execution": {
     "iopub.execute_input": "2021-02-11T12:05:08.164696Z",
     "iopub.status.busy": "2021-02-11T12:05:08.164004Z",
     "iopub.status.idle": "2021-02-11T12:05:08.166533Z",
     "shell.execute_reply": "2021-02-11T12:05:08.167151Z"
    },
    "papermill": {
     "duration": 0.073114,
     "end_time": "2021-02-11T12:05:08.167331",
     "exception": false,
     "start_time": "2021-02-11T12:05:08.094217",
     "status": "completed"
    },
    "tags": []
   },
   "outputs": [],
   "source": [
    "type_2_mapping = {\"Fire\": 1, \"Dragon\": 2, \"Electric\": 3, \"Fighting\": 4, \"Ice\": 5, \"Flying\": 6, \"Water\": 7, \"Ghost\": 8, \"Steel\": 9, \"None\": 10, \"Fairy\": 11, \"Psychic\": 12, \"Ground\": 13, \"Rock\": 14, \"Bug\": 15, \"Poison\": 16, \"Normal\": 17, \"Dark\": 18, \"Grass\": 19}\n",
    "for dataset in train_test_data:\n",
    "    dataset['Type_2'] = dataset['Type_2'].map(type_2_mapping)\n",
    "    dataset['Type_2'] = dataset['Type_2'].fillna(0)"
   ]
  },
  {
   "cell_type": "markdown",
   "metadata": {
    "papermill": {
     "duration": 0.059204,
     "end_time": "2021-02-11T12:05:08.289144",
     "exception": false,
     "start_time": "2021-02-11T12:05:08.229940",
     "status": "completed"
    },
    "tags": []
   },
   "source": [
    "### Pr_Male\n",
    "\n",
    "We first fill the NULL values of `Pr_Male` with a random number between (mean_Pr_Male - std_Pr_Male) and (mean_Pr_Male + std_Pr_Male). Then, we create a new column named Pr_Male_Band. This categorises Pr_Male into different ranges."
   ]
  },
  {
   "cell_type": "code",
   "execution_count": 23,
   "metadata": {
    "execution": {
     "iopub.execute_input": "2021-02-11T12:05:08.413069Z",
     "iopub.status.busy": "2021-02-11T12:05:08.412407Z",
     "iopub.status.idle": "2021-02-11T12:05:08.447790Z",
     "shell.execute_reply": "2021-02-11T12:05:08.447153Z"
    },
    "papermill": {
     "duration": 0.099513,
     "end_time": "2021-02-11T12:05:08.447953",
     "exception": false,
     "start_time": "2021-02-11T12:05:08.348440",
     "status": "completed"
    },
    "tags": []
   },
   "outputs": [
    {
     "name": "stdout",
     "output_type": "stream",
     "text": [
      "    Pr_Male_Band  isLegendary\n",
      "0  (-0.001, 0.2]     0.065954\n",
      "1     (0.2, 0.4]          NaN\n",
      "2     (0.4, 0.6]          NaN\n",
      "3     (0.6, 0.8]          NaN\n",
      "4     (0.8, 1.0]     0.250000\n"
     ]
    },
    {
     "name": "stderr",
     "output_type": "stream",
     "text": [
      "/opt/conda/lib/python3.7/site-packages/ipykernel_launcher.py:7: SettingWithCopyWarning: \n",
      "A value is trying to be set on a copy of a slice from a DataFrame\n",
      "\n",
      "See the caveats in the documentation: https://pandas.pydata.org/pandas-docs/stable/user_guide/indexing.html#returning-a-view-versus-a-copy\n",
      "  import sys\n"
     ]
    }
   ],
   "source": [
    "for dataset in train_test_data:\n",
    "    pr_male_avg = dataset['Pr_Male'].mean()\n",
    "    pr_male_std = dataset['Pr_Male'].std()\n",
    "    pr_male_null_count = dataset['Pr_Male'].isnull().sum()\n",
    "    \n",
    "    pr_male_null_random_list = np.random.uniform(pr_male_avg - pr_male_std, pr_male_avg + pr_male_std, pr_male_null_count)\n",
    "    dataset['Pr_Male'][np.isnan(dataset['Pr_Male'])] = pr_male_null_random_list\n",
    "    dataset['Pr_Male'] = dataset['Pr_Male'].astype(int)\n",
    "    \n",
    "train['Pr_Male_Band'] = pd.cut(train['Pr_Male'], 5)\n",
    "\n",
    "print(train[['Pr_Male_Band', 'isLegendary']].groupby(['Pr_Male_Band'], as_index=False).mean())"
   ]
  },
  {
   "cell_type": "markdown",
   "metadata": {
    "papermill": {
     "duration": 0.061151,
     "end_time": "2021-02-11T12:05:08.570257",
     "exception": false,
     "start_time": "2021-02-11T12:05:08.509106",
     "status": "completed"
    },
    "tags": []
   },
   "source": [
    "Now, we map `Pr_Male` according to `Pr_Male_Band`."
   ]
  },
  {
   "cell_type": "code",
   "execution_count": 24,
   "metadata": {
    "execution": {
     "iopub.execute_input": "2021-02-11T12:05:08.703580Z",
     "iopub.status.busy": "2021-02-11T12:05:08.702479Z",
     "iopub.status.idle": "2021-02-11T12:05:08.712565Z",
     "shell.execute_reply": "2021-02-11T12:05:08.711973Z"
    },
    "papermill": {
     "duration": 0.082238,
     "end_time": "2021-02-11T12:05:08.712713",
     "exception": false,
     "start_time": "2021-02-11T12:05:08.630475",
     "status": "completed"
    },
    "tags": []
   },
   "outputs": [],
   "source": [
    "for dataset in train_test_data:\n",
    "    dataset.loc[ dataset['Pr_Male'] <= 0.2, 'Pr_Male'] = 0\n",
    "    dataset.loc[(dataset['Pr_Male'] > 0.2) & (dataset['Pr_Male'] <= 0.4), 'Pr_Male'] = 1\n",
    "    dataset.loc[(dataset['Pr_Male'] > 0.4) & (dataset['Pr_Male'] <= 0.6), 'Pr_Male'] = 2\n",
    "    dataset.loc[(dataset['Pr_Male'] > 0.6) & (dataset['Pr_Male'] <= 0.8), 'Pr_Male'] = 3\n",
    "    dataset.loc[ dataset['Pr_Male'] >= 1, 'Pr_Male'] = 4"
   ]
  },
  {
   "cell_type": "markdown",
   "metadata": {
    "papermill": {
     "duration": 0.059661,
     "end_time": "2021-02-11T12:05:08.833376",
     "exception": false,
     "start_time": "2021-02-11T12:05:08.773715",
     "status": "completed"
    },
    "tags": []
   },
   "source": [
    "### Attack & Defense"
   ]
  },
  {
   "cell_type": "code",
   "execution_count": 25,
   "metadata": {
    "execution": {
     "iopub.execute_input": "2021-02-11T12:05:08.969530Z",
     "iopub.status.busy": "2021-02-11T12:05:08.964259Z",
     "iopub.status.idle": "2021-02-11T12:05:08.984589Z",
     "shell.execute_reply": "2021-02-11T12:05:08.985166Z"
    },
    "papermill": {
     "duration": 0.091565,
     "end_time": "2021-02-11T12:05:08.985341",
     "exception": false,
     "start_time": "2021-02-11T12:05:08.893776",
     "status": "completed"
    },
    "tags": []
   },
   "outputs": [
    {
     "name": "stdout",
     "output_type": "stream",
     "text": [
      "      Attack_Band  isLegendary\n",
      "0   (4.845, 36.0]     0.000000\n",
      "1    (36.0, 67.0]     0.005000\n",
      "2    (67.0, 98.0]     0.050505\n",
      "3   (98.0, 129.0]     0.196262\n",
      "4  (129.0, 160.0]     0.321429\n"
     ]
    },
    {
     "name": "stderr",
     "output_type": "stream",
     "text": [
      "/opt/conda/lib/python3.7/site-packages/ipykernel_launcher.py:7: SettingWithCopyWarning: \n",
      "A value is trying to be set on a copy of a slice from a DataFrame\n",
      "\n",
      "See the caveats in the documentation: https://pandas.pydata.org/pandas-docs/stable/user_guide/indexing.html#returning-a-view-versus-a-copy\n",
      "  import sys\n"
     ]
    }
   ],
   "source": [
    "for dataset in train_test_data:\n",
    "    attack_avg = dataset['Attack'].mean()\n",
    "    attack_std = dataset['Attack'].std()\n",
    "    attack_null_count = dataset['Attack'].isnull().sum()\n",
    "    \n",
    "    attack_null_random_list = np.random.randint(attack_avg - attack_std, attack_avg + attack_std, attack_null_count)\n",
    "    dataset['Attack'][np.isnan(dataset['Attack'])] = attack_null_random_list\n",
    "    dataset['Attack'] = dataset['Attack'].astype(int)\n",
    "    \n",
    "train['Attack_Band'] = pd.cut(train['Attack'], 5)\n",
    "\n",
    "print(train[['Attack_Band', 'isLegendary']].groupby(['Attack_Band'], as_index=False).mean())"
   ]
  },
  {
   "cell_type": "code",
   "execution_count": 26,
   "metadata": {
    "execution": {
     "iopub.execute_input": "2021-02-11T12:05:09.125077Z",
     "iopub.status.busy": "2021-02-11T12:05:09.124349Z",
     "iopub.status.idle": "2021-02-11T12:05:09.128179Z",
     "shell.execute_reply": "2021-02-11T12:05:09.127545Z"
    },
    "papermill": {
     "duration": 0.08242,
     "end_time": "2021-02-11T12:05:09.128321",
     "exception": false,
     "start_time": "2021-02-11T12:05:09.045901",
     "status": "completed"
    },
    "tags": []
   },
   "outputs": [],
   "source": [
    "for dataset in train_test_data:\n",
    "    dataset.loc[ dataset['Attack'] <= 36, 'Attack'] = 0\n",
    "    dataset.loc[(dataset['Attack'] > 36) & (dataset['Attack'] <= 67), 'Attack'] = 1\n",
    "    dataset.loc[(dataset['Attack'] > 67) & (dataset['Attack'] <= 98), 'Attack'] = 2\n",
    "    dataset.loc[(dataset['Attack'] > 98) & (dataset['Attack'] <= 129), 'Attack'] = 3\n",
    "    dataset.loc[ dataset['Attack'] >= 129, 'Attack'] = 4"
   ]
  },
  {
   "cell_type": "code",
   "execution_count": 27,
   "metadata": {
    "execution": {
     "iopub.execute_input": "2021-02-11T12:05:09.273416Z",
     "iopub.status.busy": "2021-02-11T12:05:09.266061Z",
     "iopub.status.idle": "2021-02-11T12:05:09.281967Z",
     "shell.execute_reply": "2021-02-11T12:05:09.282658Z"
    },
    "papermill": {
     "duration": 0.093376,
     "end_time": "2021-02-11T12:05:09.282899",
     "exception": false,
     "start_time": "2021-02-11T12:05:09.189523",
     "status": "completed"
    },
    "tags": []
   },
   "outputs": [
    {
     "name": "stdout",
     "output_type": "stream",
     "text": [
      "     Defense_Band  isLegendary\n",
      "0   (4.775, 50.0]     0.006061\n",
      "1    (50.0, 95.0]     0.056604\n",
      "2   (95.0, 140.0]     0.234568\n",
      "3  (140.0, 185.0]     0.200000\n",
      "4  (185.0, 230.0]     0.333333\n"
     ]
    },
    {
     "name": "stderr",
     "output_type": "stream",
     "text": [
      "/opt/conda/lib/python3.7/site-packages/ipykernel_launcher.py:7: SettingWithCopyWarning: \n",
      "A value is trying to be set on a copy of a slice from a DataFrame\n",
      "\n",
      "See the caveats in the documentation: https://pandas.pydata.org/pandas-docs/stable/user_guide/indexing.html#returning-a-view-versus-a-copy\n",
      "  import sys\n"
     ]
    }
   ],
   "source": [
    "for dataset in train_test_data:\n",
    "    defense_avg = dataset['Defense'].mean()\n",
    "    defense_std = dataset['Defense'].std()\n",
    "    defense_null_count = dataset['Defense'].isnull().sum()\n",
    "    \n",
    "    defense_null_random_list = np.random.randint(defense_avg - defense_std, defense_avg + defense_std, defense_null_count)\n",
    "    dataset['Defense'][np.isnan(dataset['Defense'])] = defense_null_random_list\n",
    "    dataset['Defense'] = dataset['Defense'].astype(int)\n",
    "    \n",
    "train['Defense_Band'] = pd.cut(train['Defense'], 5)\n",
    "\n",
    "print(train[['Defense_Band', 'isLegendary']].groupby(['Defense_Band'], as_index=False).mean())"
   ]
  },
  {
   "cell_type": "code",
   "execution_count": 28,
   "metadata": {
    "execution": {
     "iopub.execute_input": "2021-02-11T12:05:09.426451Z",
     "iopub.status.busy": "2021-02-11T12:05:09.425435Z",
     "iopub.status.idle": "2021-02-11T12:05:09.428640Z",
     "shell.execute_reply": "2021-02-11T12:05:09.429165Z"
    },
    "papermill": {
     "duration": 0.083224,
     "end_time": "2021-02-11T12:05:09.429359",
     "exception": false,
     "start_time": "2021-02-11T12:05:09.346135",
     "status": "completed"
    },
    "tags": []
   },
   "outputs": [],
   "source": [
    "for dataset in train_test_data:\n",
    "    dataset.loc[ dataset['Defense'] <= 50, 'Defense'] = 0\n",
    "    dataset.loc[(dataset['Defense'] > 50) & (dataset['Defense'] <= 95), 'Defense'] = 1\n",
    "    dataset.loc[(dataset['Defense'] > 95) & (dataset['Defense'] <= 140), 'Defense'] = 2\n",
    "    dataset.loc[(dataset['Defense'] > 140) & (dataset['Defense'] <= 230), 'Defense'] = 3\n",
    "    dataset.loc[ dataset['Defense'] >= 230, 'Defense'] = 4"
   ]
  },
  {
   "cell_type": "markdown",
   "metadata": {
    "papermill": {
     "duration": 0.061707,
     "end_time": "2021-02-11T12:05:09.553868",
     "exception": false,
     "start_time": "2021-02-11T12:05:09.492161",
     "status": "completed"
    },
    "tags": []
   },
   "source": [
    "### Catch Rate %"
   ]
  },
  {
   "cell_type": "code",
   "execution_count": 29,
   "metadata": {
    "execution": {
     "iopub.execute_input": "2021-02-11T12:05:09.707633Z",
     "iopub.status.busy": "2021-02-11T12:05:09.706561Z",
     "iopub.status.idle": "2021-02-11T12:05:09.712737Z",
     "shell.execute_reply": "2021-02-11T12:05:09.713267Z"
    },
    "papermill": {
     "duration": 0.093548,
     "end_time": "2021-02-11T12:05:09.713445",
     "exception": false,
     "start_time": "2021-02-11T12:05:09.619897",
     "status": "completed"
    },
    "tags": []
   },
   "outputs": [
    {
     "name": "stdout",
     "output_type": "stream",
     "text": [
      "  Catch_Rate_Band  isLegendary\n",
      "0   (2.748, 53.4]     0.163347\n",
      "1   (53.4, 103.8]     0.000000\n",
      "2  (103.8, 154.2]     0.000000\n",
      "3  (154.2, 204.6]     0.000000\n",
      "4  (204.6, 255.0]     0.000000\n"
     ]
    },
    {
     "name": "stderr",
     "output_type": "stream",
     "text": [
      "/opt/conda/lib/python3.7/site-packages/ipykernel_launcher.py:7: SettingWithCopyWarning: \n",
      "A value is trying to be set on a copy of a slice from a DataFrame\n",
      "\n",
      "See the caveats in the documentation: https://pandas.pydata.org/pandas-docs/stable/user_guide/indexing.html#returning-a-view-versus-a-copy\n",
      "  import sys\n"
     ]
    }
   ],
   "source": [
    "for dataset in train_test_data:\n",
    "    cr_avg = dataset['Catch_Rate'].mean()\n",
    "    cr_std = dataset['Catch_Rate'].std()\n",
    "    cr_null_count = dataset['Catch_Rate'].isnull().sum()\n",
    "    \n",
    "    cr_null_random_list = np.random.randint(cr_avg - cr_std, cr_avg + cr_std, cr_null_count)\n",
    "    dataset['Catch_Rate'][np.isnan(dataset['Catch_Rate'])] = cr_null_random_list\n",
    "    dataset['Catch_Rate'] = dataset['Catch_Rate'].astype(int)\n",
    "    \n",
    "train['Catch_Rate_Band'] = pd.cut(train['Catch_Rate'], 5)\n",
    "\n",
    "print(train[['Catch_Rate_Band', 'isLegendary']].groupby(['Catch_Rate_Band'], as_index=False).mean())"
   ]
  },
  {
   "cell_type": "code",
   "execution_count": 30,
   "metadata": {
    "execution": {
     "iopub.execute_input": "2021-02-11T12:05:09.856293Z",
     "iopub.status.busy": "2021-02-11T12:05:09.855566Z",
     "iopub.status.idle": "2021-02-11T12:05:09.858609Z",
     "shell.execute_reply": "2021-02-11T12:05:09.857995Z"
    },
    "papermill": {
     "duration": 0.082838,
     "end_time": "2021-02-11T12:05:09.858762",
     "exception": false,
     "start_time": "2021-02-11T12:05:09.775924",
     "status": "completed"
    },
    "tags": []
   },
   "outputs": [],
   "source": [
    "for dataset in train_test_data:\n",
    "    dataset.loc[ dataset['Catch_Rate'] <= 53, 'Catch_Rate'] = 0\n",
    "    dataset.loc[(dataset['Catch_Rate'] > 53) & (dataset['Catch_Rate'] <= 104), 'Catch_Rate'] = 1\n",
    "    dataset.loc[(dataset['Catch_Rate'] > 104) & (dataset['Catch_Rate'] <= 154), 'Catch_Rate'] = 2\n",
    "    dataset.loc[(dataset['Catch_Rate'] > 154) & (dataset['Catch_Rate'] <= 204), 'Catch_Rate'] = 3\n",
    "    dataset.loc[ dataset['Catch_Rate'] >= 255, 'Catch_Rate'] = 4"
   ]
  },
  {
   "cell_type": "markdown",
   "metadata": {
    "papermill": {
     "duration": 0.062561,
     "end_time": "2021-02-11T12:05:09.984582",
     "exception": false,
     "start_time": "2021-02-11T12:05:09.922021",
     "status": "completed"
    },
    "tags": []
   },
   "source": [
    "### Feature Selection\n",
    "\n",
    "We drop unnecessary columns/features and keep only the useful ones for our experiment."
   ]
  },
  {
   "cell_type": "code",
   "execution_count": 31,
   "metadata": {
    "execution": {
     "iopub.execute_input": "2021-02-11T12:05:10.115223Z",
     "iopub.status.busy": "2021-02-11T12:05:10.114558Z",
     "iopub.status.idle": "2021-02-11T12:05:10.118835Z",
     "shell.execute_reply": "2021-02-11T12:05:10.118284Z"
    },
    "papermill": {
     "duration": 0.071888,
     "end_time": "2021-02-11T12:05:10.118996",
     "exception": false,
     "start_time": "2021-02-11T12:05:10.047108",
     "status": "completed"
    },
    "tags": []
   },
   "outputs": [
    {
     "data": {
      "text/plain": [
       "Index(['Number', 'Name', 'Type_1', 'Type_2', 'Total', 'HP', 'Attack',\n",
       "       'Defense', 'Sp_Atk', 'Sp_Def', 'Speed', 'Generation', 'isLegendary',\n",
       "       'Color', 'hasGender', 'Pr_Male', 'Egg_Group_1', 'hasMegaEvolution',\n",
       "       'Height_m', 'Weight_kg', 'Catch_Rate', 'Body_Style', 'shuffle',\n",
       "       'Pr_Male_Band', 'Attack_Band', 'Defense_Band', 'Catch_Rate_Band'],\n",
       "      dtype='object')"
      ]
     },
     "execution_count": 31,
     "metadata": {},
     "output_type": "execute_result"
    }
   ],
   "source": [
    "train.columns"
   ]
  },
  {
   "cell_type": "code",
   "execution_count": 32,
   "metadata": {
    "execution": {
     "iopub.execute_input": "2021-02-11T12:05:10.252504Z",
     "iopub.status.busy": "2021-02-11T12:05:10.251837Z",
     "iopub.status.idle": "2021-02-11T12:05:10.258273Z",
     "shell.execute_reply": "2021-02-11T12:05:10.258861Z"
    },
    "papermill": {
     "duration": 0.077086,
     "end_time": "2021-02-11T12:05:10.259060",
     "exception": false,
     "start_time": "2021-02-11T12:05:10.181974",
     "status": "completed"
    },
    "tags": []
   },
   "outputs": [],
   "source": [
    "train_drop = ['Number', 'Name', 'Total', 'HP', 'Sp_Atk', 'Sp_Def', 'Speed', 'Generation','Color', 'hasGender', 'Egg_Group_1', 'hasMegaEvolution','Height_m', 'Weight_kg', 'Body_Style', 'shuffle','Pr_Male_Band', 'Attack_Band', 'Defense_Band', 'Catch_Rate_Band']\n",
    "train = train.drop(train_drop, axis=1)"
   ]
  },
  {
   "cell_type": "code",
   "execution_count": 33,
   "metadata": {
    "execution": {
     "iopub.execute_input": "2021-02-11T12:05:10.391960Z",
     "iopub.status.busy": "2021-02-11T12:05:10.391284Z",
     "iopub.status.idle": "2021-02-11T12:05:10.404007Z",
     "shell.execute_reply": "2021-02-11T12:05:10.403297Z"
    },
    "papermill": {
     "duration": 0.080887,
     "end_time": "2021-02-11T12:05:10.404166",
     "exception": false,
     "start_time": "2021-02-11T12:05:10.323279",
     "status": "completed"
    },
    "tags": []
   },
   "outputs": [
    {
     "data": {
      "text/html": [
       "<div>\n",
       "<style scoped>\n",
       "    .dataframe tbody tr th:only-of-type {\n",
       "        vertical-align: middle;\n",
       "    }\n",
       "\n",
       "    .dataframe tbody tr th {\n",
       "        vertical-align: top;\n",
       "    }\n",
       "\n",
       "    .dataframe thead th {\n",
       "        text-align: right;\n",
       "    }\n",
       "</style>\n",
       "<table border=\"1\" class=\"dataframe\">\n",
       "  <thead>\n",
       "    <tr style=\"text-align: right;\">\n",
       "      <th></th>\n",
       "      <th>Type_1</th>\n",
       "      <th>Type_2</th>\n",
       "      <th>Attack</th>\n",
       "      <th>Defense</th>\n",
       "      <th>isLegendary</th>\n",
       "      <th>Pr_Male</th>\n",
       "      <th>Catch_Rate</th>\n",
       "    </tr>\n",
       "  </thead>\n",
       "  <tbody>\n",
       "    <tr>\n",
       "      <th>0</th>\n",
       "      <td>14</td>\n",
       "      <td>2</td>\n",
       "      <td>2</td>\n",
       "      <td>1</td>\n",
       "      <td>0</td>\n",
       "      <td>0</td>\n",
       "      <td>0</td>\n",
       "    </tr>\n",
       "    <tr>\n",
       "      <th>1</th>\n",
       "      <td>7</td>\n",
       "      <td>19</td>\n",
       "      <td>1</td>\n",
       "      <td>0</td>\n",
       "      <td>0</td>\n",
       "      <td>0</td>\n",
       "      <td>2</td>\n",
       "    </tr>\n",
       "    <tr>\n",
       "      <th>2</th>\n",
       "      <td>17</td>\n",
       "      <td>10</td>\n",
       "      <td>3</td>\n",
       "      <td>1</td>\n",
       "      <td>0</td>\n",
       "      <td>0</td>\n",
       "      <td>1</td>\n",
       "    </tr>\n",
       "    <tr>\n",
       "      <th>3</th>\n",
       "      <td>19</td>\n",
       "      <td>11</td>\n",
       "      <td>0</td>\n",
       "      <td>1</td>\n",
       "      <td>0</td>\n",
       "      <td>0</td>\n",
       "      <td>3</td>\n",
       "    </tr>\n",
       "    <tr>\n",
       "      <th>4</th>\n",
       "      <td>14</td>\n",
       "      <td>13</td>\n",
       "      <td>1</td>\n",
       "      <td>3</td>\n",
       "      <td>0</td>\n",
       "      <td>0</td>\n",
       "      <td>0</td>\n",
       "    </tr>\n",
       "  </tbody>\n",
       "</table>\n",
       "</div>"
      ],
      "text/plain": [
       "   Type_1  Type_2  Attack  Defense  isLegendary  Pr_Male  Catch_Rate\n",
       "0      14       2       2        1            0        0           0\n",
       "1       7      19       1        0            0        0           2\n",
       "2      17      10       3        1            0        0           1\n",
       "3      19      11       0        1            0        0           3\n",
       "4      14      13       1        3            0        0           0"
      ]
     },
     "execution_count": 33,
     "metadata": {},
     "output_type": "execute_result"
    }
   ],
   "source": [
    "train.head()"
   ]
  },
  {
   "cell_type": "code",
   "execution_count": 34,
   "metadata": {
    "execution": {
     "iopub.execute_input": "2021-02-11T12:05:10.551351Z",
     "iopub.status.busy": "2021-02-11T12:05:10.543904Z",
     "iopub.status.idle": "2021-02-11T12:05:10.571277Z",
     "shell.execute_reply": "2021-02-11T12:05:10.570623Z"
    },
    "papermill": {
     "duration": 0.10227,
     "end_time": "2021-02-11T12:05:10.571434",
     "exception": false,
     "start_time": "2021-02-11T12:05:10.469164",
     "status": "completed"
    },
    "tags": []
   },
   "outputs": [
    {
     "data": {
      "text/html": [
       "<div>\n",
       "<style scoped>\n",
       "    .dataframe tbody tr th:only-of-type {\n",
       "        vertical-align: middle;\n",
       "    }\n",
       "\n",
       "    .dataframe tbody tr th {\n",
       "        vertical-align: top;\n",
       "    }\n",
       "\n",
       "    .dataframe thead th {\n",
       "        text-align: right;\n",
       "    }\n",
       "</style>\n",
       "<table border=\"1\" class=\"dataframe\">\n",
       "  <thead>\n",
       "    <tr style=\"text-align: right;\">\n",
       "      <th></th>\n",
       "      <th>Number</th>\n",
       "      <th>Name</th>\n",
       "      <th>Type_1</th>\n",
       "      <th>Type_2</th>\n",
       "      <th>Total</th>\n",
       "      <th>HP</th>\n",
       "      <th>Attack</th>\n",
       "      <th>Defense</th>\n",
       "      <th>Sp_Atk</th>\n",
       "      <th>Sp_Def</th>\n",
       "      <th>...</th>\n",
       "      <th>hasGender</th>\n",
       "      <th>Pr_Male</th>\n",
       "      <th>Egg_Group_1</th>\n",
       "      <th>Egg_Group_2</th>\n",
       "      <th>hasMegaEvolution</th>\n",
       "      <th>Height_m</th>\n",
       "      <th>Weight_kg</th>\n",
       "      <th>Catch_Rate</th>\n",
       "      <th>Body_Style</th>\n",
       "      <th>shuffle</th>\n",
       "    </tr>\n",
       "  </thead>\n",
       "  <tbody>\n",
       "    <tr>\n",
       "      <th>0</th>\n",
       "      <td>324</td>\n",
       "      <td>Torkoal</td>\n",
       "      <td>1</td>\n",
       "      <td>0.0</td>\n",
       "      <td>470</td>\n",
       "      <td>70</td>\n",
       "      <td>2</td>\n",
       "      <td>2</td>\n",
       "      <td>85</td>\n",
       "      <td>70</td>\n",
       "      <td>...</td>\n",
       "      <td>True</td>\n",
       "      <td>0</td>\n",
       "      <td>Field</td>\n",
       "      <td>NaN</td>\n",
       "      <td>False</td>\n",
       "      <td>0.51</td>\n",
       "      <td>80.4</td>\n",
       "      <td>1</td>\n",
       "      <td>quadruped</td>\n",
       "      <td>0.731225</td>\n",
       "    </tr>\n",
       "    <tr>\n",
       "      <th>1</th>\n",
       "      <td>425</td>\n",
       "      <td>Drifloon</td>\n",
       "      <td>8</td>\n",
       "      <td>6.0</td>\n",
       "      <td>348</td>\n",
       "      <td>90</td>\n",
       "      <td>1</td>\n",
       "      <td>0</td>\n",
       "      <td>60</td>\n",
       "      <td>44</td>\n",
       "      <td>...</td>\n",
       "      <td>True</td>\n",
       "      <td>0</td>\n",
       "      <td>Amorphous</td>\n",
       "      <td>NaN</td>\n",
       "      <td>False</td>\n",
       "      <td>0.41</td>\n",
       "      <td>1.2</td>\n",
       "      <td>2</td>\n",
       "      <td>head_arms</td>\n",
       "      <td>0.024422</td>\n",
       "    </tr>\n",
       "    <tr>\n",
       "      <th>2</th>\n",
       "      <td>165</td>\n",
       "      <td>Ledyba</td>\n",
       "      <td>15</td>\n",
       "      <td>6.0</td>\n",
       "      <td>265</td>\n",
       "      <td>40</td>\n",
       "      <td>0</td>\n",
       "      <td>0</td>\n",
       "      <td>40</td>\n",
       "      <td>80</td>\n",
       "      <td>...</td>\n",
       "      <td>True</td>\n",
       "      <td>0</td>\n",
       "      <td>Bug</td>\n",
       "      <td>NaN</td>\n",
       "      <td>False</td>\n",
       "      <td>0.99</td>\n",
       "      <td>10.8</td>\n",
       "      <td>4</td>\n",
       "      <td>two_wings</td>\n",
       "      <td>0.246488</td>\n",
       "    </tr>\n",
       "    <tr>\n",
       "      <th>3</th>\n",
       "      <td>78</td>\n",
       "      <td>Rapidash</td>\n",
       "      <td>1</td>\n",
       "      <td>0.0</td>\n",
       "      <td>500</td>\n",
       "      <td>65</td>\n",
       "      <td>3</td>\n",
       "      <td>1</td>\n",
       "      <td>80</td>\n",
       "      <td>80</td>\n",
       "      <td>...</td>\n",
       "      <td>True</td>\n",
       "      <td>0</td>\n",
       "      <td>Field</td>\n",
       "      <td>NaN</td>\n",
       "      <td>False</td>\n",
       "      <td>1.70</td>\n",
       "      <td>95.0</td>\n",
       "      <td>1</td>\n",
       "      <td>quadruped</td>\n",
       "      <td>0.969218</td>\n",
       "    </tr>\n",
       "    <tr>\n",
       "      <th>4</th>\n",
       "      <td>491</td>\n",
       "      <td>Darkrai</td>\n",
       "      <td>18</td>\n",
       "      <td>0.0</td>\n",
       "      <td>600</td>\n",
       "      <td>70</td>\n",
       "      <td>2</td>\n",
       "      <td>1</td>\n",
       "      <td>135</td>\n",
       "      <td>90</td>\n",
       "      <td>...</td>\n",
       "      <td>False</td>\n",
       "      <td>0</td>\n",
       "      <td>Undiscovered</td>\n",
       "      <td>NaN</td>\n",
       "      <td>False</td>\n",
       "      <td>1.50</td>\n",
       "      <td>50.5</td>\n",
       "      <td>0</td>\n",
       "      <td>bipedal_tailless</td>\n",
       "      <td>0.924239</td>\n",
       "    </tr>\n",
       "  </tbody>\n",
       "</table>\n",
       "<p>5 rows × 24 columns</p>\n",
       "</div>"
      ],
      "text/plain": [
       "   Number      Name  Type_1  Type_2  Total  HP  Attack  Defense  Sp_Atk  \\\n",
       "0     324   Torkoal       1     0.0    470  70       2        2      85   \n",
       "1     425  Drifloon       8     6.0    348  90       1        0      60   \n",
       "2     165    Ledyba      15     6.0    265  40       0        0      40   \n",
       "3      78  Rapidash       1     0.0    500  65       3        1      80   \n",
       "4     491   Darkrai      18     0.0    600  70       2        1     135   \n",
       "\n",
       "   Sp_Def  ...  hasGender  Pr_Male   Egg_Group_1 Egg_Group_2  \\\n",
       "0      70  ...       True        0         Field         NaN   \n",
       "1      44  ...       True        0     Amorphous         NaN   \n",
       "2      80  ...       True        0           Bug         NaN   \n",
       "3      80  ...       True        0         Field         NaN   \n",
       "4      90  ...      False        0  Undiscovered         NaN   \n",
       "\n",
       "   hasMegaEvolution  Height_m Weight_kg Catch_Rate        Body_Style   shuffle  \n",
       "0             False      0.51      80.4          1         quadruped  0.731225  \n",
       "1             False      0.41       1.2          2         head_arms  0.024422  \n",
       "2             False      0.99      10.8          4         two_wings  0.246488  \n",
       "3             False      1.70      95.0          1         quadruped  0.969218  \n",
       "4             False      1.50      50.5          0  bipedal_tailless  0.924239  \n",
       "\n",
       "[5 rows x 24 columns]"
      ]
     },
     "execution_count": 34,
     "metadata": {},
     "output_type": "execute_result"
    }
   ],
   "source": [
    "test.head()"
   ]
  },
  {
   "cell_type": "code",
   "execution_count": 35,
   "metadata": {
    "execution": {
     "iopub.execute_input": "2021-02-11T12:05:10.707963Z",
     "iopub.status.busy": "2021-02-11T12:05:10.707299Z",
     "iopub.status.idle": "2021-02-11T12:05:10.710136Z",
     "shell.execute_reply": "2021-02-11T12:05:10.710682Z"
    },
    "papermill": {
     "duration": 0.074133,
     "end_time": "2021-02-11T12:05:10.710878",
     "exception": false,
     "start_time": "2021-02-11T12:05:10.636745",
     "status": "completed"
    },
    "tags": []
   },
   "outputs": [],
   "source": [
    "test_drop = ['Number', 'Name', 'Total', 'HP', 'Sp_Atk', 'Sp_Def', 'Speed', 'Generation',\n",
    "       'Color', 'hasGender', 'Egg_Group_1', 'Egg_Group_2', 'isLegendary',\n",
    "       'hasMegaEvolution', 'Height_m', 'Weight_kg', 'Body_Style',\n",
    "       'shuffle']\n",
    "test = test.drop(test_drop, axis=1)"
   ]
  },
  {
   "cell_type": "code",
   "execution_count": 36,
   "metadata": {
    "execution": {
     "iopub.execute_input": "2021-02-11T12:05:10.844306Z",
     "iopub.status.busy": "2021-02-11T12:05:10.843486Z",
     "iopub.status.idle": "2021-02-11T12:05:10.857252Z",
     "shell.execute_reply": "2021-02-11T12:05:10.856504Z"
    },
    "papermill": {
     "duration": 0.081188,
     "end_time": "2021-02-11T12:05:10.857421",
     "exception": false,
     "start_time": "2021-02-11T12:05:10.776233",
     "status": "completed"
    },
    "tags": []
   },
   "outputs": [
    {
     "data": {
      "text/html": [
       "<div>\n",
       "<style scoped>\n",
       "    .dataframe tbody tr th:only-of-type {\n",
       "        vertical-align: middle;\n",
       "    }\n",
       "\n",
       "    .dataframe tbody tr th {\n",
       "        vertical-align: top;\n",
       "    }\n",
       "\n",
       "    .dataframe thead th {\n",
       "        text-align: right;\n",
       "    }\n",
       "</style>\n",
       "<table border=\"1\" class=\"dataframe\">\n",
       "  <thead>\n",
       "    <tr style=\"text-align: right;\">\n",
       "      <th></th>\n",
       "      <th>Type_1</th>\n",
       "      <th>Type_2</th>\n",
       "      <th>Attack</th>\n",
       "      <th>Defense</th>\n",
       "      <th>Pr_Male</th>\n",
       "      <th>Catch_Rate</th>\n",
       "    </tr>\n",
       "  </thead>\n",
       "  <tbody>\n",
       "    <tr>\n",
       "      <th>0</th>\n",
       "      <td>1</td>\n",
       "      <td>0.0</td>\n",
       "      <td>2</td>\n",
       "      <td>2</td>\n",
       "      <td>0</td>\n",
       "      <td>1</td>\n",
       "    </tr>\n",
       "    <tr>\n",
       "      <th>1</th>\n",
       "      <td>8</td>\n",
       "      <td>6.0</td>\n",
       "      <td>1</td>\n",
       "      <td>0</td>\n",
       "      <td>0</td>\n",
       "      <td>2</td>\n",
       "    </tr>\n",
       "    <tr>\n",
       "      <th>2</th>\n",
       "      <td>15</td>\n",
       "      <td>6.0</td>\n",
       "      <td>0</td>\n",
       "      <td>0</td>\n",
       "      <td>0</td>\n",
       "      <td>4</td>\n",
       "    </tr>\n",
       "    <tr>\n",
       "      <th>3</th>\n",
       "      <td>1</td>\n",
       "      <td>0.0</td>\n",
       "      <td>3</td>\n",
       "      <td>1</td>\n",
       "      <td>0</td>\n",
       "      <td>1</td>\n",
       "    </tr>\n",
       "    <tr>\n",
       "      <th>4</th>\n",
       "      <td>18</td>\n",
       "      <td>0.0</td>\n",
       "      <td>2</td>\n",
       "      <td>1</td>\n",
       "      <td>0</td>\n",
       "      <td>0</td>\n",
       "    </tr>\n",
       "  </tbody>\n",
       "</table>\n",
       "</div>"
      ],
      "text/plain": [
       "   Type_1  Type_2  Attack  Defense  Pr_Male  Catch_Rate\n",
       "0       1     0.0       2        2        0           1\n",
       "1       8     6.0       1        0        0           2\n",
       "2      15     6.0       0        0        0           4\n",
       "3       1     0.0       3        1        0           1\n",
       "4      18     0.0       2        1        0           0"
      ]
     },
     "execution_count": 36,
     "metadata": {},
     "output_type": "execute_result"
    }
   ],
   "source": [
    "test.head()"
   ]
  },
  {
   "cell_type": "markdown",
   "metadata": {
    "papermill": {
     "duration": 0.06519,
     "end_time": "2021-02-11T12:05:10.990004",
     "exception": false,
     "start_time": "2021-02-11T12:05:10.924814",
     "status": "completed"
    },
    "tags": []
   },
   "source": [
    "We are done with Feature Selection/Engineering. Now, we are ready to train a classifier with our feature set."
   ]
  },
  {
   "cell_type": "markdown",
   "metadata": {
    "papermill": {
     "duration": 0.065095,
     "end_time": "2021-02-11T12:05:11.120067",
     "exception": false,
     "start_time": "2021-02-11T12:05:11.054972",
     "status": "completed"
    },
    "tags": []
   },
   "source": [
    "## Classification & Accuracy\n",
    "Define training and testing set."
   ]
  },
  {
   "cell_type": "code",
   "execution_count": 37,
   "metadata": {
    "execution": {
     "iopub.execute_input": "2021-02-11T12:05:11.266538Z",
     "iopub.status.busy": "2021-02-11T12:05:11.264757Z",
     "iopub.status.idle": "2021-02-11T12:05:11.275363Z",
     "shell.execute_reply": "2021-02-11T12:05:11.275912Z"
    },
    "papermill": {
     "duration": 0.090578,
     "end_time": "2021-02-11T12:05:11.276109",
     "exception": false,
     "start_time": "2021-02-11T12:05:11.185531",
     "status": "completed"
    },
    "tags": []
   },
   "outputs": [
    {
     "data": {
      "text/plain": [
       "((577, 6), (577,), (144, 6))"
      ]
     },
     "execution_count": 37,
     "metadata": {},
     "output_type": "execute_result"
    }
   ],
   "source": [
    "X_train = train.drop('isLegendary', axis=1)\n",
    "y_train = train['isLegendary']\n",
    "X_test = test.copy()\n",
    "\n",
    "X_train.shape, y_train.shape, X_test.shape"
   ]
  },
  {
   "cell_type": "markdown",
   "metadata": {
    "papermill": {
     "duration": 0.069953,
     "end_time": "2021-02-11T12:05:11.422775",
     "exception": false,
     "start_time": "2021-02-11T12:05:11.352822",
     "status": "completed"
    },
    "tags": []
   },
   "source": [
    "There are many classifying algorithms. Among them, we will apply the following Classification algorithms to predict a legendary Pokémon:\n",
    "\n",
    "   - Logistic Regression\n",
    "   - Support Vector Machines (SVC)\n",
    "   - *k*-Nearest Neighbor (KNN)\n",
    "   - Decision Tree\n",
    "   - Random Forest\n",
    "   - Naive Bayes (GaussianNB)\n",
    "   - Perceptron\n",
    "   - Stochastic Gradient Descent (SGD)\n",
    "\n",
    "Here is the training and testing procedure:\n",
    "\n",
    "   - First, we train these classifiers with our training data.\n",
    "   - After that, using the trained classifier, we predict the Survival outcome of test data.\n",
    "   - Finally, we calculate the accuracy score (in percentange) of the trained classifier.\n",
    "\n",
    "**Please note**: that the accuracy score is generated based on our training dataset."
   ]
  },
  {
   "cell_type": "code",
   "execution_count": 38,
   "metadata": {
    "execution": {
     "iopub.execute_input": "2021-02-11T12:05:11.559412Z",
     "iopub.status.busy": "2021-02-11T12:05:11.558382Z",
     "iopub.status.idle": "2021-02-11T12:05:12.135076Z",
     "shell.execute_reply": "2021-02-11T12:05:12.135676Z"
    },
    "papermill": {
     "duration": 0.646107,
     "end_time": "2021-02-11T12:05:12.135883",
     "exception": false,
     "start_time": "2021-02-11T12:05:11.489776",
     "status": "completed"
    },
    "tags": []
   },
   "outputs": [],
   "source": [
    "# Importing Classifier Modules\n",
    "from sklearn.linear_model import LogisticRegression\n",
    "from sklearn.svm import SVC, LinearSVC\n",
    "from sklearn.neighbors import KNeighborsClassifier\n",
    "from sklearn.tree import DecisionTreeClassifier\n",
    "from sklearn.ensemble import RandomForestClassifier\n",
    "from sklearn.naive_bayes import GaussianNB\n",
    "from sklearn.linear_model import Perceptron\n",
    "from sklearn.linear_model import SGDClassifier"
   ]
  },
  {
   "cell_type": "markdown",
   "metadata": {
    "papermill": {
     "duration": 0.066004,
     "end_time": "2021-02-11T12:05:12.269055",
     "exception": false,
     "start_time": "2021-02-11T12:05:12.203051",
     "status": "completed"
    },
    "tags": []
   },
   "source": [
    "### Logistic Regression"
   ]
  },
  {
   "cell_type": "code",
   "execution_count": 39,
   "metadata": {
    "execution": {
     "iopub.execute_input": "2021-02-11T12:05:12.405867Z",
     "iopub.status.busy": "2021-02-11T12:05:12.404812Z",
     "iopub.status.idle": "2021-02-11T12:05:12.435897Z",
     "shell.execute_reply": "2021-02-11T12:05:12.435365Z"
    },
    "papermill": {
     "duration": 0.100439,
     "end_time": "2021-02-11T12:05:12.436045",
     "exception": false,
     "start_time": "2021-02-11T12:05:12.335606",
     "status": "completed"
    },
    "tags": []
   },
   "outputs": [
    {
     "name": "stdout",
     "output_type": "stream",
     "text": [
      "94.45 percent\n"
     ]
    }
   ],
   "source": [
    "clf = LogisticRegression()\n",
    "clf.fit(X_train, y_train)\n",
    "y_pred_log_reg = clf.predict(X_test)\n",
    "acc_log_reg = round( clf.score(X_train, y_train) * 100, 2)\n",
    "print(str(acc_log_reg) + ' percent')"
   ]
  },
  {
   "cell_type": "markdown",
   "metadata": {
    "papermill": {
     "duration": 0.06705,
     "end_time": "2021-02-11T12:05:12.570886",
     "exception": false,
     "start_time": "2021-02-11T12:05:12.503836",
     "status": "completed"
    },
    "tags": []
   },
   "source": [
    "### Support Vector Machine (SVM)"
   ]
  },
  {
   "cell_type": "code",
   "execution_count": 40,
   "metadata": {
    "execution": {
     "iopub.execute_input": "2021-02-11T12:05:12.713461Z",
     "iopub.status.busy": "2021-02-11T12:05:12.712729Z",
     "iopub.status.idle": "2021-02-11T12:05:12.725152Z",
     "shell.execute_reply": "2021-02-11T12:05:12.724398Z"
    },
    "papermill": {
     "duration": 0.088203,
     "end_time": "2021-02-11T12:05:12.725308",
     "exception": false,
     "start_time": "2021-02-11T12:05:12.637105",
     "status": "completed"
    },
    "tags": []
   },
   "outputs": [
    {
     "name": "stdout",
     "output_type": "stream",
     "text": [
      "92.89\n"
     ]
    }
   ],
   "source": [
    "clf = SVC()\n",
    "clf.fit(X_train, y_train)\n",
    "y_pred_svc = clf.predict(X_test)\n",
    "acc_svc = round(clf.score(X_train, y_train) * 100, 2)\n",
    "print (acc_svc)"
   ]
  },
  {
   "cell_type": "markdown",
   "metadata": {
    "papermill": {
     "duration": 0.070544,
     "end_time": "2021-02-11T12:05:12.863740",
     "exception": false,
     "start_time": "2021-02-11T12:05:12.793196",
     "status": "completed"
    },
    "tags": []
   },
   "source": [
    "### *k*-Nearest Neighbors"
   ]
  },
  {
   "cell_type": "code",
   "execution_count": 41,
   "metadata": {
    "execution": {
     "iopub.execute_input": "2021-02-11T12:05:13.011838Z",
     "iopub.status.busy": "2021-02-11T12:05:13.006916Z",
     "iopub.status.idle": "2021-02-11T12:05:13.049135Z",
     "shell.execute_reply": "2021-02-11T12:05:13.049968Z"
    },
    "papermill": {
     "duration": 0.117774,
     "end_time": "2021-02-11T12:05:13.050222",
     "exception": false,
     "start_time": "2021-02-11T12:05:12.932448",
     "status": "completed"
    },
    "tags": []
   },
   "outputs": [
    {
     "name": "stdout",
     "output_type": "stream",
     "text": [
      "95.67\n"
     ]
    }
   ],
   "source": [
    "clf = KNeighborsClassifier(n_neighbors = 3)\n",
    "clf.fit(X_train, y_train)\n",
    "y_pred_knn = clf.predict(X_test)\n",
    "acc_knn = round(clf.score(X_train, y_train) * 100, 2)\n",
    "print (acc_knn)"
   ]
  },
  {
   "cell_type": "markdown",
   "metadata": {
    "papermill": {
     "duration": 0.067491,
     "end_time": "2021-02-11T12:05:13.186171",
     "exception": false,
     "start_time": "2021-02-11T12:05:13.118680",
     "status": "completed"
    },
    "tags": []
   },
   "source": [
    "### Decision Tree"
   ]
  },
  {
   "cell_type": "code",
   "execution_count": 42,
   "metadata": {
    "execution": {
     "iopub.execute_input": "2021-02-11T12:05:13.327510Z",
     "iopub.status.busy": "2021-02-11T12:05:13.326731Z",
     "iopub.status.idle": "2021-02-11T12:05:13.339340Z",
     "shell.execute_reply": "2021-02-11T12:05:13.340411Z"
    },
    "papermill": {
     "duration": 0.087539,
     "end_time": "2021-02-11T12:05:13.340690",
     "exception": false,
     "start_time": "2021-02-11T12:05:13.253151",
     "status": "completed"
    },
    "tags": []
   },
   "outputs": [
    {
     "name": "stdout",
     "output_type": "stream",
     "text": [
      "98.79\n"
     ]
    }
   ],
   "source": [
    "clf = DecisionTreeClassifier()\n",
    "clf.fit(X_train, y_train)\n",
    "y_pred_decision_tree = clf.predict(X_test)\n",
    "acc_decision_tree = round(clf.score(X_train, y_train) * 100, 2)\n",
    "print (acc_decision_tree)"
   ]
  },
  {
   "cell_type": "markdown",
   "metadata": {
    "papermill": {
     "duration": 0.066716,
     "end_time": "2021-02-11T12:05:13.476990",
     "exception": false,
     "start_time": "2021-02-11T12:05:13.410274",
     "status": "completed"
    },
    "tags": []
   },
   "source": [
    "### Random Forest"
   ]
  },
  {
   "cell_type": "code",
   "execution_count": 43,
   "metadata": {
    "execution": {
     "iopub.execute_input": "2021-02-11T12:05:13.626426Z",
     "iopub.status.busy": "2021-02-11T12:05:13.621032Z",
     "iopub.status.idle": "2021-02-11T12:05:13.854446Z",
     "shell.execute_reply": "2021-02-11T12:05:13.853867Z"
    },
    "papermill": {
     "duration": 0.308761,
     "end_time": "2021-02-11T12:05:13.854592",
     "exception": false,
     "start_time": "2021-02-11T12:05:13.545831",
     "status": "completed"
    },
    "tags": []
   },
   "outputs": [
    {
     "name": "stdout",
     "output_type": "stream",
     "text": [
      "98.79\n"
     ]
    }
   ],
   "source": [
    "clf = RandomForestClassifier(n_estimators=100)\n",
    "clf.fit(X_train, y_train)\n",
    "y_pred_random_forest = clf.predict(X_test)\n",
    "acc_random_forest = round(clf.score(X_train, y_train) * 100, 2)\n",
    "print (acc_random_forest)"
   ]
  },
  {
   "cell_type": "markdown",
   "metadata": {
    "papermill": {
     "duration": 0.068316,
     "end_time": "2021-02-11T12:05:13.991033",
     "exception": false,
     "start_time": "2021-02-11T12:05:13.922717",
     "status": "completed"
    },
    "tags": []
   },
   "source": [
    "### Gaussian Naive Bayes"
   ]
  },
  {
   "cell_type": "code",
   "execution_count": 44,
   "metadata": {
    "execution": {
     "iopub.execute_input": "2021-02-11T12:05:14.141272Z",
     "iopub.status.busy": "2021-02-11T12:05:14.136455Z",
     "iopub.status.idle": "2021-02-11T12:05:14.147363Z",
     "shell.execute_reply": "2021-02-11T12:05:14.146777Z"
    },
    "papermill": {
     "duration": 0.087682,
     "end_time": "2021-02-11T12:05:14.147515",
     "exception": false,
     "start_time": "2021-02-11T12:05:14.059833",
     "status": "completed"
    },
    "tags": []
   },
   "outputs": [
    {
     "name": "stdout",
     "output_type": "stream",
     "text": [
      "64.12\n"
     ]
    }
   ],
   "source": [
    "clf = GaussianNB()\n",
    "clf.fit(X_train, y_train)\n",
    "y_pred_gnb = clf.predict(X_test)\n",
    "acc_gnb = round(clf.score(X_train, y_train) * 100, 2)\n",
    "print (acc_gnb)"
   ]
  },
  {
   "cell_type": "markdown",
   "metadata": {
    "papermill": {
     "duration": 0.070064,
     "end_time": "2021-02-11T12:05:14.286520",
     "exception": false,
     "start_time": "2021-02-11T12:05:14.216456",
     "status": "completed"
    },
    "tags": []
   },
   "source": [
    "### Perceptron"
   ]
  },
  {
   "cell_type": "code",
   "execution_count": 45,
   "metadata": {
    "execution": {
     "iopub.execute_input": "2021-02-11T12:05:14.437783Z",
     "iopub.status.busy": "2021-02-11T12:05:14.437116Z",
     "iopub.status.idle": "2021-02-11T12:05:14.449478Z",
     "shell.execute_reply": "2021-02-11T12:05:14.448891Z"
    },
    "papermill": {
     "duration": 0.090572,
     "end_time": "2021-02-11T12:05:14.449623",
     "exception": false,
     "start_time": "2021-02-11T12:05:14.359051",
     "status": "completed"
    },
    "tags": []
   },
   "outputs": [
    {
     "name": "stdout",
     "output_type": "stream",
     "text": [
      "93.93\n"
     ]
    }
   ],
   "source": [
    "clf = Perceptron(max_iter=5, tol=None)\n",
    "clf.fit(X_train, y_train)\n",
    "y_pred_perceptron = clf.predict(X_test)\n",
    "acc_perceptron = round(clf.score(X_train, y_train) * 100, 2)\n",
    "print (acc_perceptron)"
   ]
  },
  {
   "cell_type": "markdown",
   "metadata": {
    "papermill": {
     "duration": 0.068567,
     "end_time": "2021-02-11T12:05:14.589566",
     "exception": false,
     "start_time": "2021-02-11T12:05:14.520999",
     "status": "completed"
    },
    "tags": []
   },
   "source": [
    "### Stochastic Gradient Descent (SGD)"
   ]
  },
  {
   "cell_type": "code",
   "execution_count": 46,
   "metadata": {
    "execution": {
     "iopub.execute_input": "2021-02-11T12:05:14.731383Z",
     "iopub.status.busy": "2021-02-11T12:05:14.730693Z",
     "iopub.status.idle": "2021-02-11T12:05:14.744025Z",
     "shell.execute_reply": "2021-02-11T12:05:14.743479Z"
    },
    "papermill": {
     "duration": 0.085769,
     "end_time": "2021-02-11T12:05:14.744192",
     "exception": false,
     "start_time": "2021-02-11T12:05:14.658423",
     "status": "completed"
    },
    "tags": []
   },
   "outputs": [
    {
     "name": "stdout",
     "output_type": "stream",
     "text": [
      "92.03\n"
     ]
    }
   ],
   "source": [
    "clf = SGDClassifier(max_iter=5, tol=None)\n",
    "clf.fit(X_train, y_train)\n",
    "y_pred_sgd = clf.predict(X_test)\n",
    "acc_sgd = round(clf.score(X_train, y_train) * 100, 2)\n",
    "print (acc_sgd)"
   ]
  },
  {
   "cell_type": "markdown",
   "metadata": {
    "papermill": {
     "duration": 0.068347,
     "end_time": "2021-02-11T12:05:14.881331",
     "exception": false,
     "start_time": "2021-02-11T12:05:14.812984",
     "status": "completed"
    },
    "tags": []
   },
   "source": [
    "## Confusion Matrix\n",
    "\n",
    "A confusion matrix, also known as an error matrix, is a specific table layout that allows visualization of the performance of an algorithm. Each row of the matrix represents the instances in a predicted class while each column represents the instances in an actual class and *vice versa*. The name stems from the fact that it makes it easy to see if the system is confusing two classes (*i.e.* commonly mislabelling one as another).\n",
    "\n",
    "In predictive analytics, a table of confusion (sometimes also called a confusion matrix), is a table with two rows and two columns that reports the number of false positives, false negatives, true positives, and true negatives. This allows more detailed analysis than mere proportion of correct classifications (accuracy). Accuracy is not a reliable metric for the real performance of a classifier, because it will yield misleading results if the data set is unbalanced (that is, when the numbers of observations in different classes vary greatly). For example, if there were 95 cats and only 5 dogs in the data set, a particular classifier might classify all the observations as cats. The overall accuracy would be 95%, but in more detail the classifier would have a 100% recognition rate for the cat class but a 0% recognition rate for the dog class.\n",
    "\n",
    "Here's another guide explaining Confusion Matrix with example.\n",
    "\n",
    "In our Pokémon case:\n",
    "\n",
    "   - **True Positive**: The classifier predicted legendary and the Pokémon was actually a legendary.\n",
    "\n",
    "   - **True Negative**: The classifier predicted not legendary and the Pokémon was not a legendary.\n",
    "\n",
    "   - **False Positive**: The classifier predicted legendary but the Pokémon was not a legendary.\n",
    "\n",
    "   - **False Negative**: The classifier predicted not legendary the Pokémon was actually a legendary.\n",
    "    \n",
    "In the example code below, we plot a confusion matrix for the prediction of Random Forest Classifier on our training dataset. This shows how many entries are correctly and incorrectly predicted by our classifer."
   ]
  },
  {
   "cell_type": "code",
   "execution_count": 47,
   "metadata": {
    "execution": {
     "iopub.execute_input": "2021-02-11T12:05:15.029189Z",
     "iopub.status.busy": "2021-02-11T12:05:15.028441Z",
     "iopub.status.idle": "2021-02-11T12:05:15.648403Z",
     "shell.execute_reply": "2021-02-11T12:05:15.647726Z"
    },
    "papermill": {
     "duration": 0.697727,
     "end_time": "2021-02-11T12:05:15.648554",
     "exception": false,
     "start_time": "2021-02-11T12:05:14.950827",
     "status": "completed"
    },
    "tags": []
   },
   "outputs": [
    {
     "name": "stdout",
     "output_type": "stream",
     "text": [
      "Accuracy: 98 % \n",
      "\n",
      "Confusion Matrix in Numbers\n",
      "[[535   1]\n",
      " [  6  35]]\n",
      "\n",
      "Confusion Matrix in Percentage\n",
      "[[1.   0.  ]\n",
      " [0.15 0.85]]\n",
      "\n"
     ]
    },
    {
     "data": {
      "text/plain": [
       "<AxesSubplot:>"
      ]
     },
     "execution_count": 47,
     "metadata": {},
     "output_type": "execute_result"
    },
    {
     "data": {
      "image/png": "[encoded data removed]",
      "text/plain": [
       "<Figure size 1080x360 with 4 Axes>"
      ]
     },
     "metadata": {
      "needs_background": "light"
     },
     "output_type": "display_data"
    }
   ],
   "source": [
    "from sklearn.metrics import confusion_matrix\n",
    "import itertools\n",
    "\n",
    "clf = RandomForestClassifier(n_estimators=100)\n",
    "clf.fit(X_train, y_train)\n",
    "y_pred_random_forest_training_set = clf.predict(X_train)\n",
    "acc_random_forest = round(clf.score(X_train, y_train) * 100, 2)\n",
    "print (\"Accuracy: %i %% \\n\"%acc_random_forest)\n",
    "\n",
    "class_names = ['Legendary', 'Not Legendary']\n",
    "\n",
    "# Compute confusion matrix\n",
    "cnf_matrix = confusion_matrix(y_train, y_pred_random_forest_training_set)\n",
    "np.set_printoptions(precision=2)\n",
    "\n",
    "print ('Confusion Matrix in Numbers')\n",
    "print (cnf_matrix)\n",
    "print ('')\n",
    "\n",
    "cnf_matrix_percent = cnf_matrix.astype('float') / cnf_matrix.sum(axis=1)[:, np.newaxis]\n",
    "\n",
    "print ('Confusion Matrix in Percentage')\n",
    "print (cnf_matrix_percent)\n",
    "print ('')\n",
    "\n",
    "true_class_names = ['True Legendary', 'True Not Legendary']\n",
    "predicted_class_names = ['Predicted Legendary', 'Predicted Not Legendary']\n",
    "\n",
    "df_cnf_matrix = pd.DataFrame(cnf_matrix, \n",
    "                             index = true_class_names,\n",
    "                             columns = predicted_class_names)\n",
    "\n",
    "df_cnf_matrix_percent = pd.DataFrame(cnf_matrix_percent, \n",
    "                                     index = true_class_names,\n",
    "                                     columns = predicted_class_names)\n",
    "\n",
    "plt.figure(figsize = (15,5))\n",
    "\n",
    "plt.subplot(121)\n",
    "sns.heatmap(df_cnf_matrix, annot=True, fmt='d')\n",
    "\n",
    "plt.subplot(122)\n",
    "sns.heatmap(df_cnf_matrix_percent, annot=True)"
   ]
  },
  {
   "cell_type": "markdown",
   "metadata": {
    "papermill": {
     "duration": 0.070254,
     "end_time": "2021-02-11T12:05:15.789248",
     "exception": false,
     "start_time": "2021-02-11T12:05:15.718994",
     "status": "completed"
    },
    "tags": []
   },
   "source": [
    "## Comparing Models\n",
    "\n",
    "Let's compare the accuracy score of all the classifier models used above."
   ]
  },
  {
   "cell_type": "code",
   "execution_count": 48,
   "metadata": {
    "execution": {
     "iopub.execute_input": "2021-02-11T12:05:15.948898Z",
     "iopub.status.busy": "2021-02-11T12:05:15.947784Z",
     "iopub.status.idle": "2021-02-11T12:05:15.952475Z",
     "shell.execute_reply": "2021-02-11T12:05:15.951968Z"
    },
    "papermill": {
     "duration": 0.088849,
     "end_time": "2021-02-11T12:05:15.952620",
     "exception": false,
     "start_time": "2021-02-11T12:05:15.863771",
     "status": "completed"
    },
    "tags": []
   },
   "outputs": [
    {
     "data": {
      "text/html": [
       "<div>\n",
       "<style scoped>\n",
       "    .dataframe tbody tr th:only-of-type {\n",
       "        vertical-align: middle;\n",
       "    }\n",
       "\n",
       "    .dataframe tbody tr th {\n",
       "        vertical-align: top;\n",
       "    }\n",
       "\n",
       "    .dataframe thead th {\n",
       "        text-align: right;\n",
       "    }\n",
       "</style>\n",
       "<table border=\"1\" class=\"dataframe\">\n",
       "  <thead>\n",
       "    <tr style=\"text-align: right;\">\n",
       "      <th></th>\n",
       "      <th>Model</th>\n",
       "      <th>Score</th>\n",
       "    </tr>\n",
       "  </thead>\n",
       "  <tbody>\n",
       "    <tr>\n",
       "      <th>3</th>\n",
       "      <td>Decision Tree</td>\n",
       "      <td>98.79</td>\n",
       "    </tr>\n",
       "    <tr>\n",
       "      <th>4</th>\n",
       "      <td>Random Forest</td>\n",
       "      <td>98.79</td>\n",
       "    </tr>\n",
       "    <tr>\n",
       "      <th>2</th>\n",
       "      <td>KNN</td>\n",
       "      <td>95.67</td>\n",
       "    </tr>\n",
       "    <tr>\n",
       "      <th>0</th>\n",
       "      <td>Logistic Regression</td>\n",
       "      <td>94.45</td>\n",
       "    </tr>\n",
       "    <tr>\n",
       "      <th>6</th>\n",
       "      <td>Perceptron</td>\n",
       "      <td>93.93</td>\n",
       "    </tr>\n",
       "    <tr>\n",
       "      <th>1</th>\n",
       "      <td>Support Vector Machines</td>\n",
       "      <td>92.89</td>\n",
       "    </tr>\n",
       "    <tr>\n",
       "      <th>7</th>\n",
       "      <td>Stochastic Gradient Decent</td>\n",
       "      <td>92.03</td>\n",
       "    </tr>\n",
       "    <tr>\n",
       "      <th>5</th>\n",
       "      <td>Naive Bayes</td>\n",
       "      <td>64.12</td>\n",
       "    </tr>\n",
       "  </tbody>\n",
       "</table>\n",
       "</div>"
      ],
      "text/plain": [
       "                        Model  Score\n",
       "3               Decision Tree  98.79\n",
       "4               Random Forest  98.79\n",
       "2                         KNN  95.67\n",
       "0         Logistic Regression  94.45\n",
       "6                  Perceptron  93.93\n",
       "1     Support Vector Machines  92.89\n",
       "7  Stochastic Gradient Decent  92.03\n",
       "5                 Naive Bayes  64.12"
      ]
     },
     "execution_count": 48,
     "metadata": {},
     "output_type": "execute_result"
    }
   ],
   "source": [
    "models = pd.DataFrame({\n",
    "    'Model': ['Logistic Regression', 'Support Vector Machines', \n",
    "              'KNN', 'Decision Tree', 'Random Forest', 'Naive Bayes', \n",
    "              'Perceptron', 'Stochastic Gradient Decent'],\n",
    "    \n",
    "    'Score': [acc_log_reg, acc_svc, \n",
    "              acc_knn,  acc_decision_tree, acc_random_forest, acc_gnb, \n",
    "              acc_perceptron, acc_sgd]\n",
    "    })\n",
    "\n",
    "models.sort_values(by='Score', ascending=False)"
   ]
  },
  {
   "cell_type": "markdown",
   "metadata": {
    "papermill": {
     "duration": 0.070741,
     "end_time": "2021-02-11T12:05:16.094483",
     "exception": false,
     "start_time": "2021-02-11T12:05:16.023742",
     "status": "completed"
    },
    "tags": []
   },
   "source": [
    "From the above table, we can see that Decision Tree and Random Forest classfiers have the highest accuracy score.\n",
    "\n",
    "Between the two, we choose **Random Forest Classifier** as it has the ability to limit overfitting as compared to Decision Tree classifier."
   ]
  }
 ],
 "metadata": {
  "kernelspec": {
   "display_name": "Python 3",
   "language": "python",
   "name": "python3"
  },
  "language_info": {
   "codemirror_mode": {
    "name": "ipython",
    "version": 3
   },
   "file_extension": ".py",
   "mimetype": "text/x-python",
   "name": "python",
   "nbconvert_exporter": "python",
   "pygments_lexer": "ipython3",
   "version": "3.7.9"
  },
  "papermill": {
   "default_parameters": {},
   "duration": 25.305551,
   "end_time": "2021-02-11T12:05:16.875740",
   "environment_variables": {},
   "exception": null,
   "input_path": "__notebook__.ipynb",
   "output_path": "__notebook__.ipynb",
   "parameters": {},
   "start_time": "2021-02-11T12:04:51.570189",
   "version": "2.2.2"
  }
 },
 "nbformat": 4,
 "nbformat_minor": 4
}
