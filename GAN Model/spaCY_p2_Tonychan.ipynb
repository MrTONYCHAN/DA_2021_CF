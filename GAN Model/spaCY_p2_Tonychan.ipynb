{
 "cells": [
  {
   "cell_type": "markdown",
   "metadata": {
    "id": "OUM5oDH4Kv_2"
   },
   "source": [
    "\n",
    "\n",
    "```\n",
    "CHANDAN KUMAR - RAHUL AGNIHOTRI(T.L)\n",
    "```\n",
    "\n"
   ]
  },
  {
   "cell_type": "markdown",
   "metadata": {
    "id": "dJICZazBQEn1"
   },
   "source": [
    "#Initializing - spaCY \n",
    "#Install - Package | en_core_web_sm\n",
    "#Pipeline : Efficiency "
   ]
  },
  {
   "cell_type": "code",
   "execution_count": null,
   "metadata": {
    "colab": {
     "base_uri": "https://localhost:8080/",
     "height": 1000
    },
    "id": "55VEAPPDPw-d",
    "outputId": "7fbb6d3d-6c48-4f9c-c330-fd6284a70cef"
   },
   "outputs": [
    {
     "name": "stdout",
     "output_type": "stream",
     "text": [
      "Requirement already satisfied: pip in c:\\users\\tonyk\\anaconda3\\lib\\site-packages (21.0.1)\n",
      "Collecting pip\n",
      "  Downloading pip-21.3-py3-none-any.whl (1.7 MB)\n",
      "Requirement already satisfied: setuptools in c:\\users\\tonyk\\anaconda3\\lib\\site-packages (58.0.4)\n",
      "Collecting setuptools\n",
      "  Downloading setuptools-58.2.0-py3-none-any.whl (946 kB)\n",
      "Requirement already satisfied: wheel in c:\\users\\tonyk\\anaconda3\\lib\\site-packages (0.37.0)\n",
      "Installing collected packages: setuptools, pip\n",
      "  Attempting uninstall: setuptools\n",
      "    Found existing installation: setuptools 58.0.4\n",
      "    Uninstalling setuptools-58.0.4:\n",
      "      Successfully uninstalled setuptools-58.0.4\n",
      "  Attempting uninstall: pip\n",
      "    Found existing installation: pip 21.0.1\n",
      "    Uninstalling pip-21.0.1:\n",
      "      Successfully uninstalled pip-21.0.1\n"
     ]
    },
    {
     "name": "stderr",
     "output_type": "stream",
     "text": [
      "ERROR: Could not install packages due to an OSError: [WinError 5] Access is denied: 'C:\\\\Users\\\\tonyk\\\\AppData\\\\Local\\\\Temp\\\\pip-uninstall-l6iod40p\\\\pip.exe'\n",
      "Consider using the `--user` option or check the permissions.\n",
      "\n"
     ]
    },
    {
     "name": "stdout",
     "output_type": "stream",
     "text": [
      "Collecting spacy\n",
      "  Downloading spacy-3.1.3-cp38-cp38-win_amd64.whl (12.0 MB)\n",
      "Requirement already satisfied: packaging>=20.0 in c:\\users\\tonyk\\anaconda3\\lib\\site-packages (from spacy) (21.0)\n",
      "Collecting spacy-legacy<3.1.0,>=3.0.8\n",
      "  Downloading spacy_legacy-3.0.8-py2.py3-none-any.whl (14 kB)\n",
      "Collecting cymem<2.1.0,>=2.0.2\n",
      "  Downloading cymem-2.0.5-cp38-cp38-win_amd64.whl (36 kB)\n",
      "Collecting preshed<3.1.0,>=3.0.2\n",
      "  Downloading preshed-3.0.5-cp38-cp38-win_amd64.whl (112 kB)\n",
      "Collecting thinc<8.1.0,>=8.0.9\n",
      "  Downloading thinc-8.0.10-cp38-cp38-win_amd64.whl (1.0 MB)\n",
      "Collecting blis<0.8.0,>=0.4.0\n",
      "  Downloading blis-0.7.4-cp38-cp38-win_amd64.whl (6.5 MB)\n",
      "Requirement already satisfied: numpy>=1.15.0 in c:\\users\\tonyk\\anaconda3\\lib\\site-packages (from spacy) (1.21.2)\n",
      "Requirement already satisfied: requests<3.0.0,>=2.13.0 in c:\\users\\tonyk\\anaconda3\\lib\\site-packages (from spacy) (2.25.1)\n",
      "Collecting murmurhash<1.1.0,>=0.28.0\n",
      "  Downloading murmurhash-1.0.5-cp38-cp38-win_amd64.whl (21 kB)\n",
      "Collecting catalogue<2.1.0,>=2.0.6\n",
      "  Downloading catalogue-2.0.6-py3-none-any.whl (17 kB)\n",
      "Collecting pydantic!=1.8,!=1.8.1,<1.9.0,>=1.7.4\n",
      "  Downloading pydantic-1.8.2-cp38-cp38-win_amd64.whl (2.0 MB)\n",
      "Requirement already satisfied: setuptools in c:\\users\\tonyk\\anaconda3\\lib\\site-packages (from spacy) (58.2.0)\n",
      "Collecting typer<0.5.0,>=0.3.0\n",
      "  Downloading typer-0.4.0-py3-none-any.whl (27 kB)\n",
      "Collecting srsly<3.0.0,>=2.4.1\n",
      "  Downloading srsly-2.4.1-cp38-cp38-win_amd64.whl (451 kB)\n",
      "Requirement already satisfied: tqdm<5.0.0,>=4.38.0 in c:\\users\\tonyk\\anaconda3\\lib\\site-packages (from spacy) (4.62.2)\n",
      "Collecting wasabi<1.1.0,>=0.8.1\n",
      "  Downloading wasabi-0.8.2-py3-none-any.whl (23 kB)\n",
      "Requirement already satisfied: jinja2 in c:\\users\\tonyk\\anaconda3\\lib\\site-packages (from spacy) (3.0.1)\n",
      "Collecting pathy>=0.3.5\n",
      "  Downloading pathy-0.6.0-py3-none-any.whl (42 kB)\n",
      "Requirement already satisfied: pyparsing>=2.0.2 in c:\\users\\tonyk\\anaconda3\\lib\\site-packages (from packaging>=20.0->spacy) (2.4.7)\n",
      "Collecting smart-open<6.0.0,>=5.0.0\n",
      "  Downloading smart_open-5.2.1-py3-none-any.whl (58 kB)\n",
      "Requirement already satisfied: typing-extensions>=3.7.4.3 in c:\\users\\tonyk\\anaconda3\\lib\\site-packages (from pydantic!=1.8,!=1.8.1,<1.9.0,>=1.7.4->spacy) (3.10.0.2)\n",
      "Requirement already satisfied: certifi>=2017.4.17 in c:\\users\\tonyk\\anaconda3\\lib\\site-packages (from requests<3.0.0,>=2.13.0->spacy) (2021.10.8)\n",
      "Requirement already satisfied: idna<3,>=2.5 in c:\\users\\tonyk\\anaconda3\\lib\\site-packages (from requests<3.0.0,>=2.13.0->spacy) (2.10)\n",
      "Requirement already satisfied: chardet<5,>=3.0.2 in c:\\users\\tonyk\\anaconda3\\lib\\site-packages (from requests<3.0.0,>=2.13.0->spacy) (4.0.0)\n",
      "Requirement already satisfied: urllib3<1.27,>=1.21.1 in c:\\users\\tonyk\\anaconda3\\lib\\site-packages (from requests<3.0.0,>=2.13.0->spacy) (1.26.7)\n",
      "Requirement already satisfied: colorama in c:\\users\\tonyk\\anaconda3\\lib\\site-packages (from tqdm<5.0.0,>=4.38.0->spacy) (0.4.4)\n",
      "Requirement already satisfied: click<9.0.0,>=7.1.1 in c:\\users\\tonyk\\anaconda3\\lib\\site-packages (from typer<0.5.0,>=0.3.0->spacy) (8.0.1)\n",
      "Requirement already satisfied: MarkupSafe>=2.0 in c:\\users\\tonyk\\anaconda3\\lib\\site-packages (from jinja2->spacy) (2.0.1)\n",
      "Installing collected packages: murmurhash, cymem, catalogue, wasabi, typer, srsly, smart-open, pydantic, preshed, blis, thinc, spacy-legacy, pathy, spacy\n",
      "Successfully installed blis-0.7.4 catalogue-2.0.6 cymem-2.0.5 murmurhash-1.0.5 pathy-0.6.0 preshed-3.0.5 pydantic-1.8.2 smart-open-5.2.1 spacy-3.1.3 spacy-legacy-3.0.8 srsly-2.4.1 thinc-8.0.10 typer-0.4.0 wasabi-0.8.2\n",
      "Collecting en-core-web-sm==3.1.0\n",
      "  Downloading https://github.com/explosion/spacy-models/releases/download/en_core_web_sm-3.1.0/en_core_web_sm-3.1.0-py3-none-any.whl (13.6 MB)\n",
      "Requirement already satisfied: spacy<3.2.0,>=3.1.0 in c:\\users\\tonyk\\anaconda3\\lib\\site-packages (from en-core-web-sm==3.1.0) (3.1.3)\n",
      "Requirement already satisfied: wasabi<1.1.0,>=0.8.1 in c:\\users\\tonyk\\anaconda3\\lib\\site-packages (from spacy<3.2.0,>=3.1.0->en-core-web-sm==3.1.0) (0.8.2)\n",
      "Requirement already satisfied: blis<0.8.0,>=0.4.0 in c:\\users\\tonyk\\anaconda3\\lib\\site-packages (from spacy<3.2.0,>=3.1.0->en-core-web-sm==3.1.0) (0.7.4)\n",
      "Requirement already satisfied: murmurhash<1.1.0,>=0.28.0 in c:\\users\\tonyk\\anaconda3\\lib\\site-packages (from spacy<3.2.0,>=3.1.0->en-core-web-sm==3.1.0) (1.0.5)\n",
      "Requirement already satisfied: pydantic!=1.8,!=1.8.1,<1.9.0,>=1.7.4 in c:\\users\\tonyk\\anaconda3\\lib\\site-packages (from spacy<3.2.0,>=3.1.0->en-core-web-sm==3.1.0) (1.8.2)\n",
      "Requirement already satisfied: setuptools in c:\\users\\tonyk\\anaconda3\\lib\\site-packages (from spacy<3.2.0,>=3.1.0->en-core-web-sm==3.1.0) (58.2.0)\n",
      "Requirement already satisfied: spacy-legacy<3.1.0,>=3.0.8 in c:\\users\\tonyk\\anaconda3\\lib\\site-packages (from spacy<3.2.0,>=3.1.0->en-core-web-sm==3.1.0) (3.0.8)\n",
      "Requirement already satisfied: thinc<8.1.0,>=8.0.9 in c:\\users\\tonyk\\anaconda3\\lib\\site-packages (from spacy<3.2.0,>=3.1.0->en-core-web-sm==3.1.0) (8.0.10)\n",
      "Requirement already satisfied: pathy>=0.3.5 in c:\\users\\tonyk\\anaconda3\\lib\\site-packages (from spacy<3.2.0,>=3.1.0->en-core-web-sm==3.1.0) (0.6.0)\n",
      "Requirement already satisfied: packaging>=20.0 in c:\\users\\tonyk\\anaconda3\\lib\\site-packages (from spacy<3.2.0,>=3.1.0->en-core-web-sm==3.1.0) (21.0)\n",
      "Requirement already satisfied: srsly<3.0.0,>=2.4.1 in c:\\users\\tonyk\\anaconda3\\lib\\site-packages (from spacy<3.2.0,>=3.1.0->en-core-web-sm==3.1.0) (2.4.1)\n",
      "Requirement already satisfied: typer<0.5.0,>=0.3.0 in c:\\users\\tonyk\\anaconda3\\lib\\site-packages (from spacy<3.2.0,>=3.1.0->en-core-web-sm==3.1.0) (0.4.0)\n",
      "Requirement already satisfied: cymem<2.1.0,>=2.0.2 in c:\\users\\tonyk\\anaconda3\\lib\\site-packages (from spacy<3.2.0,>=3.1.0->en-core-web-sm==3.1.0) (2.0.5)\n",
      "Requirement already satisfied: numpy>=1.15.0 in c:\\users\\tonyk\\anaconda3\\lib\\site-packages (from spacy<3.2.0,>=3.1.0->en-core-web-sm==3.1.0) (1.21.2)\n",
      "Requirement already satisfied: preshed<3.1.0,>=3.0.2 in c:\\users\\tonyk\\anaconda3\\lib\\site-packages (from spacy<3.2.0,>=3.1.0->en-core-web-sm==3.1.0) (3.0.5)\n",
      "Requirement already satisfied: jinja2 in c:\\users\\tonyk\\anaconda3\\lib\\site-packages (from spacy<3.2.0,>=3.1.0->en-core-web-sm==3.1.0) (3.0.1)\n",
      "Requirement already satisfied: tqdm<5.0.0,>=4.38.0 in c:\\users\\tonyk\\anaconda3\\lib\\site-packages (from spacy<3.2.0,>=3.1.0->en-core-web-sm==3.1.0) (4.62.2)\n",
      "Requirement already satisfied: requests<3.0.0,>=2.13.0 in c:\\users\\tonyk\\anaconda3\\lib\\site-packages (from spacy<3.2.0,>=3.1.0->en-core-web-sm==3.1.0) (2.25.1)\n",
      "Requirement already satisfied: catalogue<2.1.0,>=2.0.6 in c:\\users\\tonyk\\anaconda3\\lib\\site-packages (from spacy<3.2.0,>=3.1.0->en-core-web-sm==3.1.0) (2.0.6)\n",
      "Requirement already satisfied: pyparsing>=2.0.2 in c:\\users\\tonyk\\anaconda3\\lib\\site-packages (from packaging>=20.0->spacy<3.2.0,>=3.1.0->en-core-web-sm==3.1.0) (2.4.7)\n",
      "Requirement already satisfied: smart-open<6.0.0,>=5.0.0 in c:\\users\\tonyk\\anaconda3\\lib\\site-packages (from pathy>=0.3.5->spacy<3.2.0,>=3.1.0->en-core-web-sm==3.1.0) (5.2.1)\n",
      "Requirement already satisfied: typing-extensions>=3.7.4.3 in c:\\users\\tonyk\\anaconda3\\lib\\site-packages (from pydantic!=1.8,!=1.8.1,<1.9.0,>=1.7.4->spacy<3.2.0,>=3.1.0->en-core-web-sm==3.1.0) (3.10.0.2)\n",
      "Requirement already satisfied: chardet<5,>=3.0.2 in c:\\users\\tonyk\\anaconda3\\lib\\site-packages (from requests<3.0.0,>=2.13.0->spacy<3.2.0,>=3.1.0->en-core-web-sm==3.1.0) (4.0.0)\n",
      "Requirement already satisfied: certifi>=2017.4.17 in c:\\users\\tonyk\\anaconda3\\lib\\site-packages (from requests<3.0.0,>=2.13.0->spacy<3.2.0,>=3.1.0->en-core-web-sm==3.1.0) (2021.10.8)\n",
      "Requirement already satisfied: idna<3,>=2.5 in c:\\users\\tonyk\\anaconda3\\lib\\site-packages (from requests<3.0.0,>=2.13.0->spacy<3.2.0,>=3.1.0->en-core-web-sm==3.1.0) (2.10)\n",
      "Requirement already satisfied: urllib3<1.27,>=1.21.1 in c:\\users\\tonyk\\anaconda3\\lib\\site-packages (from requests<3.0.0,>=2.13.0->spacy<3.2.0,>=3.1.0->en-core-web-sm==3.1.0) (1.26.7)\n",
      "Requirement already satisfied: colorama in c:\\users\\tonyk\\anaconda3\\lib\\site-packages (from tqdm<5.0.0,>=4.38.0->spacy<3.2.0,>=3.1.0->en-core-web-sm==3.1.0) (0.4.4)\n",
      "Requirement already satisfied: click<9.0.0,>=7.1.1 in c:\\users\\tonyk\\anaconda3\\lib\\site-packages (from typer<0.5.0,>=0.3.0->spacy<3.2.0,>=3.1.0->en-core-web-sm==3.1.0) (8.0.1)\n",
      "Requirement already satisfied: MarkupSafe>=2.0 in c:\\users\\tonyk\\anaconda3\\lib\\site-packages (from jinja2->spacy<3.2.0,>=3.1.0->en-core-web-sm==3.1.0) (2.0.1)\n",
      "Installing collected packages: en-core-web-sm\n",
      "Successfully installed en-core-web-sm-3.1.0\n",
      "[+] Download and installation successful\n",
      "You can now load the package via spacy.load('en_core_web_sm')\n"
     ]
    }
   ],
   "source": [
    "!pip install -U pip setuptools wheel\n",
    "!pip install -U spacy\n",
    "!python -m spacy download en_core_web_sm"
   ]
  },
  {
   "cell_type": "code",
   "execution_count": null,
   "metadata": {
    "id": "Rj3Ue5XpQmSX"
   },
   "outputs": [],
   "source": [
    "import spacy"
   ]
  },
  {
   "cell_type": "code",
   "execution_count": null,
   "metadata": {
    "id": "J47kJSOvRQI9"
   },
   "outputs": [],
   "source": [
    "nlp = spacy.load(\"en_core_web_sm\")"
   ]
  },
  {
   "cell_type": "markdown",
   "metadata": {
    "id": "Su1UkIdNRhm7"
   },
   "source": [
    "#Containers"
   ]
  },
  {
   "cell_type": "markdown",
   "metadata": {
    "id": "-bHuo_tXR74b"
   },
   "source": [
    "# BeautifulSoup : [https://en.wikipedia.org/wiki/Hacker](https://en.wikipedia.org/wiki/Hacker) : Wikipedia article"
   ]
  },
  {
   "cell_type": "code",
   "execution_count": null,
   "metadata": {
    "id": "B-blmhIgReKd"
   },
   "outputs": [],
   "source": [
    "import bs4\n",
    "import sys\n",
    "import requests\n",
    "\n",
    "res = requests.get('https://en.wikipedia.org/wiki/Hacker')\n",
    "res.raise_for_status()\n",
    "wiki = bs4.BeautifulSoup(res.text,\"html.parser\")\n",
    "\n",
    "filename = wiki.title.text.split(' - Wikipedia')[0]\n",
    "with open(filename, 'w+') as f:\n",
    "    for i in wiki.select('p'):\n",
    "        f.write(i.getText())\n",
    "\n"
   ]
  },
  {
   "cell_type": "markdown",
   "metadata": {
    "id": "wJQUGP0xstuA"
   },
   "source": [
    "# TEXT"
   ]
  },
  {
   "cell_type": "code",
   "execution_count": null,
   "metadata": {
    "colab": {
     "base_uri": "https://localhost:8080/",
     "height": 238
    },
    "id": "8RDCS6gOTKts",
    "outputId": "6e866f77-2821-456c-f5b4-16f82589df3b"
   },
   "outputs": [
    {
     "data": {
      "text/plain": [
       "'<!DOCTYPE html>\\n<html class=\"client-nojs\" lang=\"en\" dir=\"ltr\">\\n<head>\\n<meta charset=\"UTF-8\"/>\\n<title>Hacker - Wikipedia</title>\\n<script>document.documentElement.className=\"client-js\";RLCONF={\"wgBreakFrames\":!1,\"wgSeparatorTransformTable\":[\"\",\"\"],\"wgDigitTransformTable\":[\"\",\"\"],\"wgDefaultDateFormat\":\"dmy\",\"wgMonthNames\":[\"\",\"January\",\"February\",\"March\",\"April\",\"May\",\"June\",\"July\",\"August\",\"September\",\"October\",\"November\",\"December\"],\"wgRequestId\":\"b0296a00-bdcb-4659-991a-043ca1ac01e7\",\"wgCSPNonce\":!1,\"wgCanonicalNamespace\":\"\",\"wgCanonicalSpecialPageName\":!1,\"wgNamespaceNumber\":0,\"wgPageName\":\"Hacker\",\"wgTitle\":\"Hacker\",\"wgCurRevisionId\":1049374446,\"wgRevisionId\":1049374446,\"wgArticleId\":13533,\"wgIsArticle\":!0,\"wgIsRedirect\":!1,\"wgAction\":\"view\",\"wgUserName\":null,\"wgUserGroups\":[\"*\"],\"wgCategories\":[\"Webarchive template wayback links\",\"Articles with short description\",\"Short description is different from Wikidata\",\"Wikipedia indefinitely semi-protected pages\",\"Wikipedia articles needing reorganization from September 2017\",\"Articles that may contain original research from October 2020\",\\n\"All articles that may contain original research\",\"Articles with multiple maintenance issues\",\"Commons category link is on Wikidata\",\"Articles with GND identifiers\",\"Articles with BNF identifiers\",\"Articles with LCCN identifiers\",\"Hacking (computer security)\",\"Hacker culture\",\"Computing culture\",\"Computing terminology\",\"Computer programming\",\"Computer viruses\",\"Internet security\"],\"wgPageContentLanguage\":\"en\",\"wgPageContentModel\":\"wikitext\",\"wgRelevantPageName\":\"Hacker\",\"wgRelevantArticleId\":13533,\"wgIsProbablyEditable\":!1,\"wgRelevantPageIsProbablyEditable\":!1,\"wgRestrictionEdit\":[\"autoconfirmed\"],\"wgRestrictionMove\":[\"autoconfirmed\"],\"wgFlaggedRevsParams\":{\"tags\":{\"status\":{\"levels\":-1}}},\"wgMediaViewerOnClick\":!0,\"wgMediaViewerEnabledByDefault\":!0,\"wgPopupsFlags\":10,\"wgVisualEditor\":{\"pageLanguageCode\":\"en\",\"pageLanguageDir\":\"ltr\",\"pageVariantFallbacks\":\"en\"},\"wgMFDisplayWikibaseDescriptions\":{\"search\":!0,\"nearby\":!0,\"watchlist\":!0,\"tagline\":!1},\\n\"wgWMESchemaEditAttemptStepOversample\":!1,\"wgULSCurrentAutonym\":\"English\",\"wgNoticeProject\":\"wikipedia\",\"wgEditSubmitButtonLabelPublish\":!0,\"wgULSPosition\":\"interlanguage\",\"wgULSisCompactLinksEnabled\":!0,\"wgGENewcomerTasksGuidanceEnabled\":!0,\"wgGEAskQuestionEnabled\":!1,\"wgGELinkRecommendationsFrontendEnabled\":!1,\"wgCentralAuthMobileDomain\":!1,\"wgWikibaseItemId\":\"Q1487\"};RLSTATE={\"ext.globalCssJs.user.styles\":\"ready\",\"site.styles\":\"ready\",\"user.styles\":\"ready\",\"ext.globalCssJs.user\":\"ready\",\"user\":\"ready\",\"user.options\":\"loading\",\"ext.cite.styles\":\"ready\",\"skins.vector.styles.legacy\":\"ready\",\"jquery.makeCollapsible.styles\":\"ready\",\"ext.visualEditor.desktopArticleTarget.noscript\":\"ready\",\"ext.uls.interlanguage\":\"ready\",\"ext.wikimediaBadges\":\"ready\",\"wikibase.client.init\":\"ready\"};RLPAGEMODULES=[\"ext.cite.ux-enhancements\",\"site\",\"mediawiki.page.ready\",\"jquery.makeCollapsible\",\"mediawiki.toc\",\"skins.vector.legacy.js\",\"ext.gadget.ReferenceTooltips\",\"ext.gadget.charinsert\",\\n\"ext.gadget.extra-toolbar-buttons\",\"ext.gadget.refToolbar\",\"ext.gadget.switcher\",\"mmv.head\",\"mmv.bootstrap.autostart\",\"ext.popups\",\"ext.visualEditor.desktopArticleTarget.init\",\"ext.visualEditor.targetLoader\",\"ext.eventLogging\",\"ext.wikimediaEvents\",\"ext.navigationTiming\",\"ext.uls.compactlinks\",\"ext.uls.interface\",\"ext.cx.eventlogging.campaigns\",\"ext.centralNotice.geoIP\",\"ext.centralNotice.startUp\",\"ext.centralauth.centralautologin\",\"ext.growthExperiments.SuggestedEditSession\"];</script>\\n<script>(RLQ=window.RLQ||[]).push(function(){mw.loader.implement(\"user.options@1hzgi\",function($,jQuery,require,module){/*@nomin*/mw.user.tokens.set({\"patrolToken\":\"+\\\\\\\\\",\"watchToken\":\"+\\\\\\\\\",\"csrfToken\":\"+\\\\\\\\\"});\\n});});</script>\\n<link rel=\"stylesheet\" href=\"/w/load.php?lang=en&amp;modules=ext.cite.styles%7Cext.uls.interlanguage%7Cext.visualEditor.desktopArticleTarget.noscript%7Cext.wikimediaBadges%7Cjquery.makeCollapsible.styles%7Cskins.vector.styles.legacy%7Cwikibase.client.init&amp;only=styles&amp;skin=vector\"/>\\n<script async=\"\" src=\"/w/load.php?lang=en&amp;modules=startup&amp;only=scripts&amp;raw=1&amp;skin=vector\"></script>\\n<meta name=\"ResourceLoaderDynamicStyles\" content=\"\"/>\\n<link rel=\"stylesheet\" href=\"/w/load.php?lang=en&amp;modules=site.styles&amp;only=styles&amp;skin=vector\"/>\\n<meta name=\"generator\" content=\"MediaWiki 1.38.0-wmf.4\"/>\\n<meta name=\"referrer\" content=\"origin\"/>\\n<meta name=\"referrer\" content=\"origin-when-crossorigin\"/>\\n<meta name=\"referrer\" content=\"origin-when-cross-origin\"/>\\n<meta name=\"format-detection\" content=\"telephone=no\"/>\\n<meta property=\"og:title\" content=\"Hacker - Wikipedia\"/>\\n<meta property=\"og:type\" content=\"website\"/>\\n<link rel=\"preconnect\" href=\"//upload.wikimedia.org\"/>\\n<link rel=\"alternate\" media=\"only screen and (max-width: 720px)\" href=\"//en.m.wikipedia.org/wiki/Hacker\"/>\\n<link rel=\"apple-touch-icon\" href=\"/static/apple-touch/wikipedia.png\"/>\\n<link rel=\"shortcut icon\" href=\"/static/favicon/wikipedia.ico\"/>\\n<link rel=\"search\" type=\"application/opensearchdescription+xml\" href=\"/w/opensearch_desc.php\" title=\"Wikipedia (en)\"/>\\n<link rel=\"EditURI\" type=\"application/rsd+xml\" href=\"//en.wikipedia.org/w/api.php?action=rsd\"/>\\n<link rel=\"license\" href=\"https://creativecommons.org/licenses/by-sa/3.0/\"/>\\n<link rel=\"canonical\" href=\"https://en.wikipedia.org/wiki/Hacker\"/>\\n<link rel=\"dns-prefetch\" href=\"//meta.wikimedia.org\" />\\n<link rel=\"dns-prefetch\" href=\"//login.wikimedia.org\"/>\\n</head>\\n<body class=\"mediawiki ltr sitedir-ltr mw-hide-empty-elt ns-0 ns-subject page-Hacker rootpage-Hacker skin-vector action-view skin-vector-legacy\"><div id=\"mw-page-base\" class=\"noprint\"></div>\\n<div id=\"mw-head-base\" class=\"noprint\"></div>\\n<div id=\"content\" class=\"mw-body\" role=\"main\">\\n\\t<a id=\"top\"></a>\\n\\t<div id=\"siteNotice\"><!-- CentralNotice --></div>\\n\\t<div class=\"mw-indicators\">\\n\\t<div id=\"mw-indicator-pp-default\" class=\"mw-indicator\"><a href=\"/wiki/Wikipedia:Protection_policy#semi\" title=\"This article is semi-protected.\"><img alt=\"Page semi-protected\" src=\"//upload.wikimedia.org/wikipedia/en/thumb/1/1b/Semi-protection-shackle.svg/20px-Semi-protection-shackle.svg.png\" decoding=\"async\" width=\"20\" height=\"20\" srcset=\"//upload.wikimedia.org/wikipedia/en/thumb/1/1b/Semi-protection-shackle.svg/30px-Semi-protection-shackle.svg.png 1.5x, //upload.wikimedia.org/wikipedia/en/thumb/1/1b/Semi-protection-shackle.svg/40px-Semi-protection-shackle.svg.png 2x\" data-file-width=\"512\" data-file-height=\"512\" /></a></div>\\n\\t</div>\\n\\t<h1 id=\"firstHeading\" class=\"firstHeading\" >Hacker</h1>\\n\\t<div id=\"bodyContent\" class=\"vector-body\">\\n\\t\\t<div id=\"siteSub\" class=\"noprint\">From Wikipedia, the free encyclopedia</div>\\n\\t\\t<div id=\"contentSub\"></div>\\n\\t\\t<div id=\"contentSub2\"></div>\\n\\t\\t\\n\\t\\t<div id=\"jump-to-nav\"></div>\\n\\t\\t<a class=\"mw-jump-link\" href=\"#mw-head\">Jump to navigation</a>\\n\\t\\t<a class=\"mw-jump-link\" href=\"#searchInput\">Jump to search</a>\\n\\t\\t<div id=\"mw-content-text\" class=\"mw-body-content mw-content-ltr\" lang=\"en\" dir=\"ltr\"><div class=\"mw-parser-output\"><div class=\"shortdescription nomobile noexcerpt noprint searchaux\" style=\"display:none\">Computing term</div>\\n<style data-mw-deduplicate=\"TemplateStyles:r1033289096\">.mw-parser-output .hatnote{font-style:italic}.mw-parser-output div.hatnote{padding-left:1.6em;margin-bottom:0.5em}.mw-parser-output .hatnote i{font-style:normal}.mw-parser-output .hatnote+link+.hatnote{margin-top:-0.5em}</style><div role=\"note\" class=\"hatnote navigation-not-searchable\">For other uses, see <a href=\"/wiki/Hacker_(disambiguation)\" class=\"mw-disambig\" title=\"Hacker (disambiguation)\">Hacker (disambiguation)</a>.</div>\\n<p class=\"mw-empty-elt\">\\n</p>\\n<table class=\"box-Multiple_issues plainlinks metadata ambox ambox-content ambox-multiple_issues compact-ambox\" role=\"presentation\"><tbody><tr><td class=\"mbox-image\"><div style=\"width:52px\"><img alt=\"\" src=\"//upload.wikimedia.org/wikipedia/en/thumb/b/b4/Ambox_important.svg/40px-Ambox_important.svg.png\" decoding=\"async\" width=\"40\" height=\"40\" srcset=\"//upload.wikimedia.org/wikipedia/en/thumb/b/b4/Ambox_important.svg/60px-Ambox_important.svg.png 1.5x, //upload.wikimedia.org/wikipedia/en/thumb/b/b4/Ambox_important.svg/80px-Ambox_important.svg.png 2x\" data-file-width=\"40\" data-file-height=\"40\" /></div></td><td class=\"mbox-text\"><div class=\"mbox-text-span\"><div class=\"mw-collapsible\" style=\"width:95%; margin: 0.2em 0;\"><b>This article has multiple issues.</b> Please help to <b><a class=\"external text\" href=\"https://en.wikipedia.org/w/index.php?title=Hacker&amp;action=edit\">improve it</a></b> or discuss these issues on the <b><a href=\"/wiki/Talk:Hacker\" title=\"Talk:Hacker\">talk page</a></b>. <small><i>(<a href=\"/wiki/Help:Maintenance_template_removal\" title=\"Help:Maintenance template removal\">Learn how and when to remove these template messages</a>)</i></small>\\n<div class=\"mw-collapsible-content\" style=\"margin-top: 0.3em;\">\\n      <table class=\"box-Cleanup_reorganize plainlinks metadata ambox ambox-style\" role=\"presentation\"><tbody><tr><td class=\"mbox-image\"><div style=\"width:52px\"><img alt=\"Ambox rewrite.svg\" src=\"//upload.wikimedia.org/wikipedia/commons/thumb/1/1c/Ambox_rewrite.svg/40px-Ambox_rewrite.svg.png\" decoding=\"async\" width=\"40\" height=\"40\" srcset=\"//upload.wikimedia.org/wikipedia/commons/thumb/1/1c/Ambox_rewrite.svg/60px-Ambox_rewrite.svg.png 1.5x, //upload.wikimedia.org/wikipedia/commons/thumb/1/1c/Ambox_rewrite.svg/80px-Ambox_rewrite.svg.png 2x\" data-file-width=\"620\" data-file-height=\"620\" /></div></td><td class=\"mbox-text\"><div class=\"mbox-text-span\">This article <b>may be in need of reorganization to comply with Wikipedia\\'s <a href=\"/wiki/Wikipedia:Manual_of_Style/Layout\" title=\"Wikipedia:Manual of Style/Layout\">layout guidelines</a></b>.<span class=\"hide-when-compact\"> Please help by <a class=\"external text\" href=\"https://en.wikipedia.org/w/index.php?title=Hacker&amp;action=edit\">editing the article</a> to make improvements to the overall structure.</span>  <span class=\"date-container\"><i>(<span class=\"date\">September 2017</span>)</i></span><span class=\"hide-when-compact\"><i> (<a href=\"/wiki/Help:Maintenance_template_removal\" title=\"Help:Maintenance template removal\">Learn how and when to remove this template message</a>)</i></span></div></td></tr></tbody></table>\\n<table class=\"box-Original_research plainlinks metadata ambox ambox-content ambox-Original_research\" role=\"presentation\"><tbody><tr><td class=\"mbox-image\"><div style=\"width:52px\"><img alt=\"\" src=\"//upload.wikimedia.org/wikipedia/en/thumb/b/b4/Ambox_important.svg/40px-Ambox_important.svg.png\" decoding=\"async\" width=\"40\" height=\"40\" srcset=\"//upload.wikimedia.org/wikipedia/en/thumb/b/b4/Ambox_important.svg/60px-Ambox_important.svg.png 1.5x, //upload.wikimedia.org/wikipedia/en/thumb/b/b4/Ambox_important.svg/80px-Ambox_important.svg.png 2x\" data-file-width=\"40\" data-file-height=\"40\" /></div></td><td class=\"mbox-text\"><div class=\"mbox-text-span\">This article <b>possibly contains <a href=\"/wiki/Wikipedia:No_original_research\" title=\"Wikipedia:No original research\">original research</a></b>.<span class=\"hide-when-compact\"> Please <a class=\"external text\" href=\"https://en.wikipedia.org/w/index.php?title=Hacker&amp;action=edit\">improve it</a> by <a href=\"/wiki/Wikipedia:Verifiability\" title=\"Wikipedia:Verifiability\">verifying</a> the claims made and adding <a href=\"/wiki/Wikipedia:Citing_sources#Inline_citations\" title=\"Wikipedia:Citing sources\">inline citations</a>. Statements consisting only of original research should be removed.</span>  <span class=\"date-container\"><i>(<span class=\"date\">October 2020</span>)</i></span><span class=\"hide-when-compact\"><i> (<a href=\"/wiki/Help:Maintenance_template_removal\" title=\"Help:Maintenance template removal\">Learn how and when to remove this template message</a>)</i></span></div></td></tr></tbody></table>\\n    </div>\\n</div><span class=\"hide-when-compact\"><i> (<a href=\"/wiki/Help:Maintenance_template_removal\" title=\"Help:Maintenance template removal\">Learn how and when to remove this template message</a>)</i></span></div></td></tr></tbody></table>\\n<style data-mw-deduplicate=\"TemplateStyles:r1045330069\">.mw-parser-output .sidebar{width:22em;float:right;clear:right;margin:0.5em 0 1em 1em;background:#f8f9fa;border:1px solid #aaa;padding:0.2em;text-align:center;line-height:1.4em;font-size:88%;border-collapse:collapse;display:table}body.skin-minerva .mw-parser-output .sidebar{display:table!important;float:right!important;margin:0.5em 0 1em 1em!important}.mw-parser-output .sidebar-subgroup{width:100%;margin:0;border-spacing:0}.mw-parser-output .sidebar-left{float:left;clear:left;margin:0.5em 1em 1em 0}.mw-parser-output .sidebar-none{float:none;clear:both;margin:0.5em 1em 1em 0}.mw-parser-output .sidebar-outer-title{padding:0 0.4em 0.2em;font-size:125%;line-height:1.2em;font-weight:bold}.mw-parser-output .sidebar-top-image{padding:0.4em}.mw-parser-output .sidebar-top-caption,.mw-parser-output .sidebar-pretitle-with-top-image,.mw-parser-output .sidebar-caption{padding:0.2em 0.4em 0;line-height:1.2em}.mw-parser-output .sidebar-pretitle{padding:0.4em 0.4em 0;line-height:1.2em}.mw-parser-output .sidebar-title,.mw-parser-output .sidebar-title-with-pretitle{padding:0.2em 0.8em;font-size:145%;line-height:1.2em}.mw-parser-output .sidebar-title-with-pretitle{padding:0.1em 0.4em}.mw-parser-output .sidebar-image{padding:0.2em 0.4em 0.4em}.mw-parser-output .sidebar-heading{padding:0.1em 0.4em}.mw-parser-output .sidebar-content{padding:0 0.5em 0.4em}.mw-parser-output .sidebar-content-with-subgroup{padding:0.1em 0.4em 0.2em}.mw-parser-output .sidebar-above,.mw-parser-output .sidebar-below{padding:0.3em 0.8em;font-weight:bold}.mw-parser-output .sidebar-collapse .sidebar-above,.mw-parser-output .sidebar-collapse .sidebar-below{border-top:1px solid #aaa;border-bottom:1px solid #aaa}.mw-parser-output .sidebar-navbar{text-align:right;font-size:115%;padding:0 0.4em 0.4em}.mw-parser-output .sidebar-list-title{padding:0 0.4em;text-align:left;font-weight:bold;line-height:1.6em;font-size:105%}.mw-parser-output .sidebar-list-title-c{padding:0 0.4em;text-align:center;margin:0 3.3em}@media(max-width:720px){body.mediawiki .mw-parser-output .sidebar{width:100%!important;clear:both;float:none!important;margin-left:0!important;margin-right:0!important}}</style><table class=\"sidebar nomobile nowraplinks hlist\" style=\"width: 20em;\"><tbody><tr><td class=\"sidebar-pretitle\">This article is part of a series on</td></tr><tr><th class=\"sidebar-title-with-pretitle\"><a href=\"/wiki/Security_hacker\" title=\"Security hacker\">Computer hacking</a></th></tr><tr><th class=\"sidebar-heading navbox-abovebelow\">\\n<a href=\"/wiki/List_of_security_hacking_incidents\" title=\"List of security hacking incidents\">History</a></th></tr><tr><td class=\"sidebar-content\">\\n<ul><li><a href=\"/wiki/Phreaking\" title=\"Phreaking\">Phreaking</a></li>\\n<li><a href=\"/wiki/Cryptovirology\" title=\"Cryptovirology\">Cryptovirology</a></li>\\n<li><a href=\"/wiki/Hacking_of_consumer_electronics\" title=\"Hacking of consumer electronics\">Hacking of consumer electronics</a></li>\\n<li><a href=\"/wiki/List_of_hackers\" title=\"List of hackers\">List of hackers</a></li></ul></td>\\n</tr><tr><th class=\"sidebar-heading navbox-abovebelow\">\\n<a href=\"/wiki/Hacker_culture\" title=\"Hacker culture\">Hacker culture</a> &amp; <a href=\"/wiki/Hacker_ethic\" title=\"Hacker ethic\">ethic</a></th></tr><tr><td class=\"sidebar-content\">\\n<ul><li><a href=\"/wiki/Hacker_Manifesto\" title=\"Hacker Manifesto\">Hacker Manifesto</a></li>\\n<li><a href=\"/wiki/Black_hat_(computer_security)\" title=\"Black hat (computer security)\">Black hat</a></li>\\n<li><a href=\"/wiki/Grey_hat\" title=\"Grey hat\">Grey hat</a></li>\\n<li><a href=\"/wiki/White_hat_(computer_security)\" title=\"White hat (computer security)\">White hat</a></li>\\n<li><a href=\"/wiki/Hackerspace\" title=\"Hackerspace\">Hackerspace</a></li>\\n<li><a href=\"/wiki/Hackathon\" title=\"Hackathon\">Hackathon</a></li>\\n<li><a href=\"/wiki/Hacktivism\" title=\"Hacktivism\">Hacktivism</a></li>\\n<li><a href=\"/wiki/Maker_culture\" title=\"Maker culture\">Maker culture</a></li></ul></td>\\n</tr><tr><th class=\"sidebar-heading navbox-abovebelow\">\\n<a href=\"/wiki/Computer_security_conference\" title=\"Computer security conference\">Conferences</a></th></tr><tr><td class=\"sidebar-content\">\\n<ul><li><a href=\"/wiki/Black_Hat_Briefings\" title=\"Black Hat Briefings\">Black Hat Briefings</a></li>\\n<li><a href=\"/wiki/Chaos_Communication_Congress\" title=\"Chaos Communication Congress\">Chaos Communication Congress</a></li>\\n<li><a href=\"/wiki/DEF_CON\" title=\"DEF CON\">DEF CON</a></li>\\n<li><a href=\"/wiki/Hackers_on_Planet_Earth\" title=\"Hackers on Planet Earth\">Hackers on Planet Earth</a></li>\\n<li><a href=\"/wiki/Security_BSides\" title=\"Security BSides\">Security_BSides</a></li>\\n<li><a href=\"/wiki/ShmooCon\" title=\"ShmooCon\">ShmooCon</a></li>\\n<li><a href=\"/wiki/Summercon\" title=\"Summercon\">Summercon</a></li></ul></td>\\n</tr><tr><th class=\"sidebar-heading navbox-abovebelow\">\\n<a href=\"/wiki/Computer_crime\" class=\"mw-redirect\" title=\"Computer crime\">Computer crime</a></th></tr><tr><td class=\"sidebar-content\">\\n<ul><li><a href=\"/wiki/Crimeware\" title=\"Crimeware\">Crimeware</a></li>\\n<li><a href=\"/wiki/List_of_computer_criminals\" title=\"List of computer criminals\">List of computer criminals</a></li>\\n<li><a href=\"/wiki/Script_kiddie\" title=\"Script kiddie\">Script kiddie</a></li></ul></td>\\n</tr><tr><th class=\"sidebar-heading navbox-abovebelow\">\\n<a href=\"/wiki/Hacking_tool\" class=\"mw-redirect\" title=\"Hacking tool\">Hacking tools</a></th></tr><tr><td class=\"sidebar-content\">\\n<ul><li><a href=\"/wiki/List_of_digital_forensics_tools#Forensics-focused_operating_systems\" title=\"List of digital forensics tools\"> Forensics OS</a></li>\\n<li><a href=\"/wiki/Vulnerability_(computing)\" title=\"Vulnerability (computing)\">Vulnerability</a></li>\\n<li><a href=\"/wiki/Exploit_(computer_security)\" title=\"Exploit (computer security)\">Exploit</a></li>\\n<li><a href=\"/wiki/Payload_(computing)\" title=\"Payload (computing)\">Payload</a></li>\\n<li><a href=\"/wiki/Social_engineering_(security)\" title=\"Social engineering (security)\">Social engineering</a></li>\\n<li><a href=\"/wiki/Kali_Linux\" title=\"Kali Linux\">Kali</a></li></ul></td>\\n</tr><tr><th class=\"sidebar-heading navbox-abovebelow\">\\n<a href=\"/wiki/Hacker_culture\" title=\"Hacker culture\">Practice sites</a></th></tr><tr><td class=\"sidebar-content\">\\n<ul><li><a href=\"/wiki/HackThisSite\" title=\"HackThisSite\">HackThisSite</a></li>\\n<li><a href=\"/wiki/Zone-H\" title=\"Zone-H\">Zone-H</a></li></ul></td>\\n</tr><tr><th class=\"sidebar-heading navbox-abovebelow\">\\n<a href=\"/wiki/Malware\" title=\"Malware\">Malware</a></th></tr><tr><td class=\"sidebar-content\">\\n<ul><li><a href=\"/wiki/Rootkit\" title=\"Rootkit\">Rootkit</a></li>\\n<li><a href=\"/wiki/Backdoor_(computing)\" title=\"Backdoor (computing)\">Backdoor</a></li>\\n<li><a href=\"/wiki/Trojan_horse_(computing)\" title=\"Trojan horse (computing)\">Trojan horse</a></li>\\n<li><a href=\"/wiki/Computer_virus\" title=\"Computer virus\">Virus</a></li>\\n<li><a href=\"/wiki/Computer_worm\" title=\"Computer worm\">Worm</a></li>\\n<li><a href=\"/wiki/Spyware\" title=\"Spyware\">Spyware</a></li>\\n<li><a href=\"/wiki/Ransomware\" title=\"Ransomware\">Ransomware</a></li>\\n<li><a href=\"/wiki/Logic_bomb\" title=\"Logic bomb\">Logic bomb</a></li>\\n<li><a href=\"/wiki/Botnet\" title=\"Botnet\">Botnet</a></li>\\n<li><a href=\"/wiki/Keystroke_logging\" title=\"Keystroke logging\">Keystroke logging</a></li>\\n<li><a href=\"/wiki/Host-based_intrusion_detection_system\" title=\"Host-based intrusion detection system\">HIDS</a></li>\\n<li><a href=\"/wiki/Web_shell\" title=\"Web shell\">Web shell</a></li>\\n<li><a href=\"/wiki/Arbitrary_code_execution\" title=\"Arbitrary code execution\">RCE</a></li></ul></td>\\n</tr><tr><th class=\"sidebar-heading navbox-abovebelow\">\\n<a href=\"/wiki/Computer_security\" title=\"Computer security\">Computer security</a></th></tr><tr><td class=\"sidebar-content\">\\n<ul><li><a href=\"/wiki/Application_security\" title=\"Application security\">Application security</a></li>\\n<li><a href=\"/wiki/Network_security\" title=\"Network security\">Network security</a></li>\\n<li><a href=\"/wiki/Cloud_computing_security\" title=\"Cloud computing security\">Cloud computing security</a></li></ul></td>\\n</tr><tr><th class=\"sidebar-heading navbox-abovebelow\">\\n<a href=\"/wiki/Hacker_group\" title=\"Hacker group\">Groups</a></th></tr><tr><td class=\"sidebar-content\">\\n<ul><li><a href=\"/wiki/Anonymous_(group)\" class=\"mw-redirect\" title=\"Anonymous (group)\">Anonymous</a></li>\\n<li><a href=\"/wiki/Chaos_Computer_Club\" title=\"Chaos Computer Club\">Chaos Computer Club</a></li>\\n<li><a href=\"/wiki/Homebrew_Computer_Club\" title=\"Homebrew Computer Club\">Homebrew Computer Club</a> (defunct)</li>\\n<li><a href=\"/wiki/Legion_of_Doom_(hacking)\" title=\"Legion of Doom (hacking)\">Legion of Doom</a> (defunct)</li>\\n<li><a href=\"/wiki/Masters_of_Deception\" title=\"Masters of Deception\">Masters of Deception</a> (defunct)</li>\\n<li><a href=\"/wiki/LulzSec\" title=\"LulzSec\">LulzSec</a> (defunct)</li>\\n<li><a href=\"/wiki/Red_team\" title=\"Red team\">Red and Blue Teams</a></li></ul></td>\\n</tr><tr><th class=\"sidebar-heading navbox-abovebelow\">\\nPublications</th></tr><tr><td class=\"sidebar-content\">\\n<ul><li><i><a href=\"/wiki/2600:_The_Hacker_Quarterly\" title=\"2600: The Hacker Quarterly\">2600: The Hacker Quarterly</a></i></li>\\n<li><a href=\"/wiki/Hacker_News\" title=\"Hacker News\">Hacker News</a></li>\\n<li><i><a href=\"/wiki/Nuts_and_Volts\" title=\"Nuts and Volts\">Nuts and Volts</a></i></li>\\n<li><i><a href=\"/wiki/Phrack\" title=\"Phrack\">Phrack</a></i></li></ul></td>\\n</tr><tr><td class=\"sidebar-navbar\"><style data-mw-deduplicate=\"TemplateStyles:r992953826\">.mw-parser-output .navbar{display:inline;font-size:88%;font-weight:normal}.mw-parser-output .navbar-collapse{float:left;text-align:left}.mw-parser-output .navbar-boxtext{word-spacing:0}.mw-parser-output .navbar ul{display:inline-block;white-space:nowrap;line-height:inherit}.mw-parser-output .navbar-brackets::before{margin-right:-0.125em;content:\"[ \"}.mw-parser-output .navbar-brackets::after{margin-left:-0.125em;content:\" ]\"}.mw-parser-output .navbar li{word-spacing:-0.125em}.mw-parser-output .navbar-mini abbr{font-variant:small-caps;border-bottom:none;text-decoration:none;cursor:inherit}.mw-parser-output .navbar-ct-full{font-size:114%;margin:0 7em}.mw-parser-output .navbar-ct-mini{font-size:114%;margin:0 4em}.mw-parser-output .infobox .navbar{font-size:100%}.mw-parser-output .navbox .navbar{display:block;font-size:100%}.mw-parser-output .navbox-title .navbar{float:left;text-align:left;margin-right:0.5em}</style><div class=\"navbar plainlinks hlist navbar-mini\"><ul><li class=\"nv-view\"><a href=\"/wiki/Template:Computer_hacking\" title=\"Template:Computer hacking\"><abbr title=\"View this template\" style=\";text-decoration:inherit;\">v</abbr></a></li><li class=\"nv-talk\"><a href=\"/wiki/Template_talk:Computer_hacking\" title=\"Template talk:Computer hacking\"><abbr title=\"Discuss this template\" style=\";text-decoration:inherit;\">t</abbr></a></li><li class=\"nv-edit\"><a class=\"external text\" href=\"https://en.wikipedia.org/w/index.php?title=Template:Computer_hacking&amp;action=edit\"><abbr title=\"Edit this template\" style=\";text-decoration:inherit;\">e</abbr></a></li></ul></div></td></tr></tbody></table>\\n<p>A <b>hacker</b> is a person skilled in <a href=\"/wiki/Information_technology\" title=\"Information technology\">information technology</a> who uses their technical knowledge to achieve a goal or overcome an obstacle, within a computerized system by non-standard means. Though the term <i>hacker</i> has become associated in <a href=\"/wiki/Popular_culture\" title=\"Popular culture\">popular culture</a> with a <i><a href=\"/wiki/Security_hacker\" title=\"Security hacker\">security hacker</a></i>&#160;&#8211;&#32;someone who utilizes their technical know-how of <a href=\"/wiki/Bug_(computing)\" class=\"mw-redirect\" title=\"Bug (computing)\">bugs</a> or <a href=\"/wiki/Exploit_(computer_security)\" title=\"Exploit (computer security)\">exploits</a> to break into computer systems and access data which would otherwise be unavailable to them &#8211; hacking can also be utilized by legitimate figures in legal situations. For example, law enforcement agencies sometimes use hacking techniques in order to collect evidence on criminals and other malicious actors. This could include using anonymity tools (such as a <a href=\"/wiki/Virtual_private_network\" title=\"Virtual private network\">VPN</a>, or the <a href=\"/wiki/Dark_web\" title=\"Dark web\">dark web</a>) to mask their identities online, posing as criminals themselves.<sup id=\"cite_ref-1\" class=\"reference\"><a href=\"#cite_note-1\">&#91;1&#93;</a></sup><sup id=\"cite_ref-2\" class=\"reference\"><a href=\"#cite_note-2\">&#91;2&#93;</a></sup> Likewise, covert world agencies can employ hacking techniques in the legal conduct of their work. Oppositely, hacking and cyber-attacks are used extra- and illegally by law enforcement and security agencies (conducting warrantless activities), and employed by State actors as a weapon of both legal and illegal warfare. \\n</p>\\n<div id=\"toc\" class=\"toc\" role=\"navigation\" aria-labelledby=\"mw-toc-heading\"><input type=\"checkbox\" role=\"button\" id=\"toctogglecheckbox\" class=\"toctogglecheckbox\" style=\"display:none\" /><div class=\"toctitle\" lang=\"en\" dir=\"ltr\"><h2 id=\"mw-toc-heading\">Contents</h2><span class=\"toctogglespan\"><label class=\"toctogglelabel\" for=\"toctogglecheckbox\"></label></span></div>\\n<ul>\\n<li class=\"toclevel-1 tocsection-1\"><a href=\"#Definitions\"><span class=\"tocnumber\">1</span> <span class=\"toctext\">Definitions</span></a>\\n<ul>\\n<li class=\"toclevel-2 tocsection-2\"><a href=\"#General_definition\"><span class=\"tocnumber\">1.1</span> <span class=\"toctext\">General definition</span></a></li>\\n<li class=\"toclevel-2 tocsection-3\"><a href=\"#Representation_in_mainstream_media\"><span class=\"tocnumber\">1.2</span> <span class=\"toctext\">Representation in mainstream media</span></a></li>\\n<li class=\"toclevel-2 tocsection-4\"><a href=\"#Representation_in_network_news\"><span class=\"tocnumber\">1.3</span> <span class=\"toctext\">Representation in network news</span></a></li>\\n</ul>\\n</li>\\n<li class=\"toclevel-1 tocsection-5\"><a href=\"#Types\"><span class=\"tocnumber\">2</span> <span class=\"toctext\">Types</span></a>\\n<ul>\\n<li class=\"toclevel-2 tocsection-6\"><a href=\"#Hacker_culture\"><span class=\"tocnumber\">2.1</span> <span class=\"toctext\">Hacker culture</span></a></li>\\n<li class=\"toclevel-2 tocsection-7\"><a href=\"#Security_related_hacking\"><span class=\"tocnumber\">2.2</span> <span class=\"toctext\">Security related hacking</span></a>\\n<ul>\\n<li class=\"toclevel-3 tocsection-8\"><a href=\"#White_hat_hacker\"><span class=\"tocnumber\">2.2.1</span> <span class=\"toctext\">White hat hacker</span></a></li>\\n<li class=\"toclevel-3 tocsection-9\"><a href=\"#Black_hat_hacker\"><span class=\"tocnumber\">2.2.2</span> <span class=\"toctext\">Black hat hacker</span></a></li>\\n<li class=\"toclevel-3 tocsection-10\"><a href=\"#Grey_hat_hacker\"><span class=\"tocnumber\">2.2.3</span> <span class=\"toctext\">Grey hat hacker</span></a></li>\\n</ul>\\n</li>\\n</ul>\\n</li>\\n<li class=\"toclevel-1 tocsection-11\"><a href=\"#Motives\"><span class=\"tocnumber\">3</span> <span class=\"toctext\">Motives</span></a></li>\\n<li class=\"toclevel-1 tocsection-12\"><a href=\"#Overlaps_and_differences\"><span class=\"tocnumber\">4</span> <span class=\"toctext\">Overlaps and differences</span></a></li>\\n<li class=\"toclevel-1 tocsection-13\"><a href=\"#See_also\"><span class=\"tocnumber\">5</span> <span class=\"toctext\">See also</span></a></li>\\n<li class=\"toclevel-1 tocsection-14\"><a href=\"#References\"><span class=\"tocnumber\">6</span> <span class=\"toctext\">References</span></a></li>\\n<li class=\"toclevel-1 tocsection-15\"><a href=\"#Further_reading\"><span class=\"tocnumber\">7</span> <span class=\"toctext\">Further reading</span></a>\\n<ul>\\n<li class=\"toclevel-2 tocsection-16\"><a href=\"#Computer_security\"><span class=\"tocnumber\">7.1</span> <span class=\"toctext\">Computer security</span></a></li>\\n<li class=\"toclevel-2 tocsection-17\"><a href=\"#Free_software/open_source\"><span class=\"tocnumber\">7.2</span> <span class=\"toctext\">Free software/open source</span></a></li>\\n</ul>\\n</li>\\n<li class=\"toclevel-1 tocsection-18\"><a href=\"#External_links\"><span class=\"tocnumber\">8</span> <span class=\"toctext\">External links</span></a></li>\\n</ul>\\n</div>\\n\\n<h2><span class=\"mw-headline\" id=\"Definitions\">Definitions</span></h2>\\n<h3><span class=\"mw-headline\" id=\"General_definition\">General definition</span></h3>\\n<p>Reflecting the two types of hackers, there are two definitions of the word \"hacker\":\\n</p>\\n<ol><li>Originally, hacker simply meant advanced computer technology enthusiast (both hardware and software) and adherent of programming subculture; see <a href=\"/wiki/Hacker_culture\" title=\"Hacker culture\">hacker culture</a>.<sup id=\"cite_ref-3\" class=\"reference\"><a href=\"#cite_note-3\">&#91;3&#93;</a></sup></li>\\n<li>Someone who is able to subvert <a href=\"/wiki/Computer_security\" title=\"Computer security\">computer security</a>. If doing so for malicious purposes, the person can also be called a <a href=\"/wiki/Security_hacker\" title=\"Security hacker\">cracker</a>.<sup id=\"cite_ref-4\" class=\"reference\"><a href=\"#cite_note-4\">&#91;4&#93;</a></sup></li></ol>\\n<p>Today, mainstream usage of \"hacker\" mostly refers to computer criminals, due to the mass media usage of the word since the 1990s.<sup id=\"cite_ref-Skillings,_CNET,_2020_5-0\" class=\"reference\"><a href=\"#cite_note-Skillings,_CNET,_2020-5\">&#91;5&#93;</a></sup> This includes what hacker slang calls \"<a href=\"/wiki/Script_kiddie\" title=\"Script kiddie\">script kiddies</a>\", people breaking into computers using programs written by others, with very little knowledge about the way they work. This usage has become so predominant that the general public is largely unaware that different meanings exist.<sup id=\"cite_ref-6\" class=\"reference\"><a href=\"#cite_note-6\">&#91;6&#93;</a></sup> While the self-designation of hobbyists as hackers is generally acknowledged and accepted by computer security hackers, people from the programming subculture consider the computer intrusion related usage incorrect, and emphasize the difference between the two by calling security breakers \"crackers\" (analogous to a safecracker).\\n</p><p>The controversy is usually based on the assertion that the term originally meant someone messing about with something in a positive sense, that is, using playful cleverness to achieve a goal. But then, it is supposed, the meaning of the term shifted over the decades and came to refer to computer criminals.<sup id=\"cite_ref-7\" class=\"reference\"><a href=\"#cite_note-7\">&#91;7&#93;</a></sup>\\n</p><p>As the security-related usage has spread more widely, the original meaning has become less known. In popular usage and in the media, \"computer intruders\" or \"computer criminals\" is the exclusive meaning of the word today. (For example, \"An Internet \\'hacker\\' broke through state government security systems in March.\") In the computer enthusiast (Hacker Culture) community, the primary meaning is a complimentary description for a particularly brilliant programmer or technical expert. (For example, \"<a href=\"/wiki/Linus_Torvalds\" title=\"Linus Torvalds\">Linus Torvalds</a>, the creator of <a href=\"/wiki/Linux_kernel\" title=\"Linux kernel\">Linux</a>, is considered by some to be a hacker.\") A large segment of the technical community insist the latter is the \"correct\" usage of the word (see the <a href=\"/wiki/Jargon_File\" title=\"Jargon File\">Jargon File</a> definition below).\\n</p>\\n<h3><span class=\"mw-headline\" id=\"Representation_in_mainstream_media\">Representation in mainstream media</span></h3>\\n<p>The <a href=\"/wiki/Mainstream_media\" title=\"Mainstream media\">mainstream media</a>\\'s current usage of the term may be traced back to the early 1980s. When the term, previously used only among computer enthusiasts, was introduced to wider society by the mainstream media in 1983,<sup id=\"cite_ref-8\" class=\"reference\"><a href=\"#cite_note-8\">&#91;8&#93;</a></sup> even those in the computer community referred to computer intrusion as \"hacking\", although not as the exclusive definition of the word. In reaction to the increasing media use of the term exclusively with the criminal connotation, the computer community began to differentiate their terminology. Alternative terms such as \"<a href=\"/wiki/Security_cracking\" class=\"mw-redirect\" title=\"Security cracking\">cracker</a>\" were coined in an effort to maintain the distinction between \"hackers\" within the legitimate programmer community and those performing computer break-ins. Further terms such as \"<a href=\"/wiki/Black_hat_hacking\" class=\"mw-redirect\" title=\"Black hat hacking\">black hat</a>\", \"<a href=\"/wiki/White_hat_(computer_security)\" title=\"White hat (computer security)\">white hat</a>\" and \"<a href=\"/wiki/Gray_hat\" class=\"mw-redirect\" title=\"Gray hat\">gray hat</a>\" developed when laws against breaking into computers came into effect, to distinguish criminal activities from those activities which were legal.\\n</p>\\n<h3><span class=\"mw-headline\" id=\"Representation_in_network_news\">Representation in network news</span></h3>\\n<p>However, network news use of the term consistently pertained primarily to the criminal activities, despite the attempt by the technical community to preserve and distinguish the original meaning, so today the mainstream media and general public continue to describe computer criminals, with all levels of technical sophistication, as \"hackers\" and do not generally make use of the word in any of its non-criminal connotations. Members of the media sometimes seem unaware of the distinction, grouping legitimate \"hackers\" such as <a href=\"/wiki/Linus_Torvalds\" title=\"Linus Torvalds\">Linus Torvalds</a> and <a href=\"/wiki/Steve_Wozniak\" title=\"Steve Wozniak\">Steve Wozniak</a> along with criminal \"crackers\".<sup id=\"cite_ref-A_who&#39;s_who_of_hackers_9-0\" class=\"reference\"><a href=\"#cite_note-A_who&#39;s_who_of_hackers-9\">&#91;9&#93;</a></sup>\\n</p><p>As a result, the definition is still the subject of heated controversy. The wider dominance of the pejorative connotation is resented by many who object to the term being taken from their cultural <a href=\"/wiki/Jargon\" title=\"Jargon\">jargon</a> and used negatively,<sup id=\"cite_ref-10\" class=\"reference\"><a href=\"#cite_note-10\">&#91;10&#93;</a></sup> including those who have historically preferred to self-identify as hackers. Many advocate using the more recent and nuanced alternate terms when describing criminals and others who negatively take advantage of security flaws in software and hardware. Others prefer to follow common popular usage, arguing that the positive form is confusing and unlikely to become widespread in the general public. A minority still use the term in both senses despite the controversy, leaving context to clarify (or leave ambiguous) which meaning is intended.\\n</p><p>However, because the positive definition of hacker was widely used as the predominant form for many years before the negative definition was popularized, \"hacker\" can therefore be seen as a <a href=\"/wiki/Shibboleth\" title=\"Shibboleth\">shibboleth</a>, identifying those who use the technically-oriented sense (as opposed to the exclusively intrusion-oriented sense) as members of the computing community. On the other hand, due to the variety of industries software designers may find themselves in, many prefer not to be referred to as hackers because the word holds a negative denotation in many of those industries.\\n</p><p>A possible middle ground position has been suggested, based on the observation that \"hacking\" describes a collection of skills and tools which are used by hackers of both descriptions for differing reasons. The analogy is made to <a href=\"/wiki/Locksmithing\" title=\"Locksmithing\">locksmithing</a>, specifically picking locks, which is a skill which can be used for good or evil. The primary weakness of this analogy is the inclusion of <a href=\"/wiki/Script_kiddies\" class=\"mw-redirect\" title=\"Script kiddies\">script kiddies</a> in the popular usage of \"hacker,\" despite their lack of an underlying skill and knowledge base.\\n</p><p>Sometimes, \"hacker\" is simply used synonymously with \"geek\": \"A true hacker is not a group person. He\\'s a person who loves to stay up all night, he and the machine in a love-hate relationship... They\\'re kids who tended to be brilliant but not very interested in conventional goals It\\'s a term of derision and also the ultimate compliment.\"<sup id=\"cite_ref-11\" class=\"reference\"><a href=\"#cite_note-11\">&#91;11&#93;</a></sup>\\n</p><p>Fred Shapiro thinks that \"the common theory that \\'hacker\\' originally was a benign term and the malicious connotations of the word were a later perversion is untrue.\" He found that the malicious connotations were already present at MIT in 1963 (quoting <i><a href=\"/wiki/The_Tech_(newspaper)\" title=\"The Tech (newspaper)\">The Tech</a></i>, an MIT student newspaper), and at that time referred to unauthorized users of the telephone network,<sup id=\"cite_ref-shapiro_12-0\" class=\"reference\"><a href=\"#cite_note-shapiro-12\">&#91;12&#93;</a></sup><sup id=\"cite_ref-13\" class=\"reference\"><a href=\"#cite_note-13\">&#91;13&#93;</a></sup> that is, the <a href=\"/wiki/Phreaker\" class=\"mw-redirect\" title=\"Phreaker\">phreaker</a> movement that developed into the computer security hacker subculture of today.\\n</p>\\n<h2><span class=\"mw-headline\" id=\"Types\">Types</span></h2>\\n<h3><span class=\"mw-headline\" id=\"Hacker_culture\">Hacker culture</span></h3>\\n<link rel=\"mw-deduplicated-inline-style\" href=\"mw-data:TemplateStyles:r1033289096\"/><div role=\"note\" class=\"hatnote navigation-not-searchable\">Main article: <a href=\"/wiki/Hacker_culture\" title=\"Hacker culture\">Hacker culture</a></div>\\n<p><a href=\"/wiki/Hacker_culture\" title=\"Hacker culture\">Hacker culture</a> is an idea derived from a community of enthusiast <a href=\"/wiki/Computer_programmer\" class=\"mw-redirect\" title=\"Computer programmer\">computer programmers</a> and <a href=\"/wiki/Systems_designer\" class=\"mw-redirect\" title=\"Systems designer\">systems designers</a> in the 1960s around the <a href=\"/wiki/Massachusetts_Institute_of_Technology\" title=\"Massachusetts Institute of Technology\">Massachusetts Institute of Technology</a>\\'s (MIT\\'s) <a href=\"/wiki/Tech_Model_Railroad_Club\" title=\"Tech Model Railroad Club\">Tech Model Railroad Club</a> (TMRC)<sup id=\"cite_ref-14\" class=\"reference\"><a href=\"#cite_note-14\">&#91;14&#93;</a></sup> and the <a href=\"/wiki/MIT_Artificial_Intelligence_Laboratory\" class=\"mw-redirect\" title=\"MIT Artificial Intelligence Laboratory\">MIT Artificial Intelligence Laboratory</a>.<sup id=\"cite_ref-15\" class=\"reference\"><a href=\"#cite_note-15\">&#91;15&#93;</a></sup> The concept expanded to the hobbyist home computing community, focusing on hardware in the late 1970s (e.g. the <a href=\"/wiki/Homebrew_Computer_Club\" title=\"Homebrew Computer Club\">Homebrew Computer Club</a>)<sup id=\"cite_ref-16\" class=\"reference\"><a href=\"#cite_note-16\">&#91;16&#93;</a></sup> and on software (<a href=\"/wiki/Video_game\" title=\"Video game\">video games</a>,<sup id=\"cite_ref-17\" class=\"reference\"><a href=\"#cite_note-17\">&#91;17&#93;</a></sup> <a href=\"/wiki/Software_cracking\" title=\"Software cracking\">software cracking</a>, the <a href=\"/wiki/Demoscene\" title=\"Demoscene\">demoscene</a>) in the 1980s/1990s. Later, this would go on to encompass many new definitions such as art, and <a href=\"/wiki/Life_hacking\" class=\"mw-redirect\" title=\"Life hacking\">life hacking</a>.\\n</p>\\n<h3><span class=\"mw-headline\" id=\"Security_related_hacking\">Security related hacking</span></h3>\\n<link rel=\"mw-deduplicated-inline-style\" href=\"mw-data:TemplateStyles:r1033289096\"/><div role=\"note\" class=\"hatnote navigation-not-searchable\">Main article: <a href=\"/wiki/Security_hacker\" title=\"Security hacker\">Security hacker</a></div>\\n<p><a href=\"/wiki/Security_hacker\" title=\"Security hacker\">Security hackers</a> are people involved with circumvention of computer security. Among security hackers, there are several types, including:\\n</p>\\n<h4><span class=\"mw-headline\" id=\"White_hat_hacker\">White hat hacker</span></h4>\\n<link rel=\"mw-deduplicated-inline-style\" href=\"mw-data:TemplateStyles:r1033289096\"/><div role=\"note\" class=\"hatnote navigation-not-searchable\">Main article: <a href=\"/wiki/White_hat_(computer_security)\" title=\"White hat (computer security)\">White hat (computer security)</a></div>\\n<p><a href=\"/wiki/White_hat_(computer_security)\" title=\"White hat (computer security)\">White hats</a> are hackers who work to keep data safe from other hackers by finding system <a href=\"/wiki/Vulnerability_(computing)\" title=\"Vulnerability (computing)\">vulnerabilities</a> that can be mitigated. White hats are usually employed by the target system\\'s owner and are typically paid (sometimes quite well) for their work. Their work is not illegal because it is done with the system owner\\'s consent.\\n</p>\\n<h4><span class=\"mw-headline\" id=\"Black_hat_hacker\">Black hat hacker</span></h4>\\n<link rel=\"mw-deduplicated-inline-style\" href=\"mw-data:TemplateStyles:r1033289096\"/><div role=\"note\" class=\"hatnote navigation-not-searchable\">Main article: <a href=\"/wiki/Black_hat_hacking\" class=\"mw-redirect\" title=\"Black hat hacking\">Black hat hacking</a></div>\\n<p><a href=\"/wiki/Black_hat_hacking\" class=\"mw-redirect\" title=\"Black hat hacking\">Black hats</a> or crackers are hackers with malicious intentions. They often steal, exploit, and sell data, and are usually motivated by personal gain. Their work is usually illegal. A cracker is like a black hat hacker,<sup id=\"cite_ref-18\" class=\"reference\"><a href=\"#cite_note-18\">&#91;18&#93;</a></sup> but is specifically someone who is very skilled and tries via hacking to make profits or to benefit, not just to vandalize. Crackers find exploits for system vulnerabilities and often use them to their advantage by either selling the fix to the system owner or selling the exploit to other black hat hackers, who in turn use it to steal information or gain royalties.\\n</p>\\n<h4><span class=\"mw-headline\" id=\"Grey_hat_hacker\">Grey hat hacker</span></h4>\\n<link rel=\"mw-deduplicated-inline-style\" href=\"mw-data:TemplateStyles:r1033289096\"/><div role=\"note\" class=\"hatnote navigation-not-searchable\">Main article: <a href=\"/wiki/Grey_hat\" title=\"Grey hat\">Grey hat</a></div>\\n<p>A <a href=\"/wiki/Grey_hat\" title=\"Grey hat\">grey hat</a> is a computer hacker or computer security expert who may sometimes violate laws or typical <a href=\"/wiki/Hacker_ethic\" title=\"Hacker ethic\">ethical standards</a>, but does not have the malicious intent typical of a black hat hacker.\\n</p>\\n<h2><span class=\"mw-headline\" id=\"Motives\">Motives</span></h2>\\n<p>Four primary motives have been proposed as possibilities for why hackers attempt to break into computers and networks. First, there is a criminal financial gain to be had when hacking systems with the specific purpose of stealing <a href=\"/wiki/Credit_card_number\" class=\"mw-redirect\" title=\"Credit card number\">credit card numbers</a> or manipulating <a href=\"/wiki/Banking_system\" class=\"mw-redirect\" title=\"Banking system\">banking systems</a>. Second, many hackers thrive off of increasing their reputation within the hacker subculture and will leave their handles on websites they defaced or leave some other evidence as proof that they were involved in a specific hack. Third, corporate espionage allows companies to acquire information on products or services that can be stolen or used as leverage within the marketplace. And fourth, state-sponsored attacks provide nation states with both wartime and intelligence collection options conducted on, in, or through <a href=\"/wiki/Cyberspace\" title=\"Cyberspace\">cyberspace</a>.<sup id=\"cite_ref-19\" class=\"reference\"><a href=\"#cite_note-19\">&#91;19&#93;</a></sup>\\n</p>\\n<h2><span class=\"mw-headline\" id=\"Overlaps_and_differences\">Overlaps and differences</span></h2>\\n<p>The main basic difference between programmer subculture and computer security hacker is their mostly separate historical origin and development. However, the <i>Jargon File</i> reports that considerable overlap existed for the early phreaking at the beginning of the 1970s. An article from MIT\\'s student paper <i>The Tech</i> used the term hacker in this context already in 1963 in its pejorative meaning for someone messing with the phone system.<sup id=\"cite_ref-shapiro_12-1\" class=\"reference\"><a href=\"#cite_note-shapiro-12\">&#91;12&#93;</a></sup> The overlap quickly started to break when people joined in the activity who did it in a less responsible way.<sup id=\"cite_ref-20\" class=\"reference\"><a href=\"#cite_note-20\">&#91;20&#93;</a></sup> This was the case after the publication of an article exposing the activities of Draper and Engressia.\\n</p><p>According to Raymond, hackers from the programmer subculture usually work openly and use their real name, while computer security hackers prefer secretive groups and identity-concealing aliases.<sup id=\"cite_ref-Raymond-cracker_21-0\" class=\"reference\"><a href=\"#cite_note-Raymond-cracker-21\">&#91;21&#93;</a></sup> Also, their activities in practice are largely distinct. The former focus on creating new and improving existing infrastructure (especially the software environment they work with), while the latter primarily and strongly emphasize the general act of circumvention of security measures, with the effective use of the knowledge (which can be to report and help fixing the security bugs, or exploitation reasons) being only rather secondary. The most visible difference in these views was in the design of the MIT hackers\\' <a href=\"/wiki/Incompatible_Timesharing_System\" title=\"Incompatible Timesharing System\">Incompatible Timesharing System</a>, which deliberately did not have any security measures.\\n</p><p>There are some subtle overlaps, however, since basic knowledge about computer security is also common within the programmer subculture of hackers. For example, Ken Thompson noted during his 1983 <a href=\"/wiki/Turing_Award\" title=\"Turing Award\">Turing Award</a> lecture that it is possible to add code to the <a href=\"/wiki/UNIX\" class=\"mw-redirect\" title=\"UNIX\">UNIX</a> \"login\" command that would accept either the intended encrypted <a href=\"/wiki/Password\" title=\"Password\">password</a> or a particular known password, allowing a backdoor into the system with the latter password. He named his invention the \"<a href=\"/wiki/Trojan_horse_(computing)\" title=\"Trojan horse (computing)\">Trojan horse</a>\". Furthermore, Thompson argued, the <a href=\"/wiki/Compiler\" title=\"Compiler\">C compiler</a> itself could be modified to automatically generate the rogue code, to make detecting the modification even harder. Because the compiler is itself a program generated from a compiler, the Trojan horse could also be automatically installed in a new compiler program, without any detectable modification to the source of the new compiler. However, Thompson disassociated himself strictly from the computer security hackers: \"I would like to criticize the press in its handling of the \\'hackers,\\' the <a href=\"/wiki/The_414s\" title=\"The 414s\">414 gang</a>, the Dalton gang, etc. The acts performed by these kids are vandalism at best and probably trespass and theft at worst. ... I have watched kids testifying before Congress. It is clear that they are completely unaware of the seriousness of their acts.\"<sup id=\"cite_ref-22\" class=\"reference\"><a href=\"#cite_note-22\">&#91;22&#93;</a></sup>\\n</p><p>The programmer subculture of hackers sees secondary circumvention of security mechanisms as legitimate if it is done to get practical barriers out of the way for doing actual work. In special forms, that can even be an expression of playful cleverness.<sup id=\"cite_ref-23\" class=\"reference\"><a href=\"#cite_note-23\">&#91;23&#93;</a></sup> However, the systematic and primary engagement in such activities is not one of the actual interests of the programmer subculture of hackers and it does not have significance in its actual activities, either.<sup id=\"cite_ref-Raymond-cracker_21-1\" class=\"reference\"><a href=\"#cite_note-Raymond-cracker-21\">&#91;21&#93;</a></sup> A further difference is that, historically, members of the programmer subculture of hackers were working at academic institutions and used the computing environment there. In contrast, the prototypical computer security hacker had access exclusively to a home computer and a modem. However, since the mid-1990s, with home computers that could run Unix-like operating systems and with inexpensive internet home access being available for the first time, many people from outside of the academic world started to take part in the programmer subculture of hacking.\\n</p><p>Since the mid-1980s, there are some overlaps in ideas and members with the computer security hacking community. The most prominent case is Robert T. Morris, who was a user of MIT-AI, yet wrote the <a href=\"/wiki/Morris_worm\" title=\"Morris worm\">Morris worm</a>. The <i>Jargon File</i> hence calls him \"a true hacker who blundered\".<sup id=\"cite_ref-24\" class=\"reference\"><a href=\"#cite_note-24\">&#91;24&#93;</a></sup> Nevertheless, members of the programmer subculture have a tendency to look down on and disassociate from these overlaps. They commonly refer disparagingly to people in the computer security subculture as crackers and refuse to accept any definition of hacker that encompasses such activities. The computer security hacking subculture, on the other hand, tends not to distinguish between the two subcultures as harshly, acknowledging that they have much in common including many members, political and social goals, and a love of learning about technology. They restrict the use of the term cracker to their categories of <a href=\"/wiki/Script_kiddie\" title=\"Script kiddie\">script kiddies</a> and black hat hackers instead.\\n</p><p>All three subcultures have relations to hardware modifications. In the early days of network hacking, phreaks were building <a href=\"/wiki/Blue_box\" title=\"Blue box\">blue boxes</a> and various variants. The programmer subculture of hackers has stories about several hardware hacks in its folklore, such as a mysterious \"magic\" switch attached to a PDP-10 computer in MIT\\'s AI lab that, when switched off, crashed the computer.<sup id=\"cite_ref-25\" class=\"reference\"><a href=\"#cite_note-25\">&#91;25&#93;</a></sup> The early hobbyist hackers built their home computers themselves from construction kits. However, all these activities have died out during the 1980s when the phone network switched to digitally controlled switchboards, causing network hacking to shift to dialing remote computers with modems when pre-assembled inexpensive home computers were available and when academic institutions started to give individual mass-produced workstation computers to scientists instead of using a central timesharing system. The only kind of widespread hardware modification nowadays is <a href=\"/wiki/Case_modding\" title=\"Case modding\">case modding</a>.\\n</p><p>An encounter of the programmer and the computer security hacker subculture occurred at the end of the 1980s, when a group of computer security hackers, sympathizing with the <a href=\"/wiki/Chaos_Computer_Club\" title=\"Chaos Computer Club\">Chaos Computer Club</a> (which disclaimed any knowledge in these activities), broke into computers of American military organizations and academic institutions. They sold data from these machines to the Soviet secret service, one of them in order to fund his drug addiction. The case was solved when <a href=\"/wiki/Clifford_Stoll\" title=\"Clifford Stoll\">Clifford Stoll</a>, a scientist working as a system administrator, found ways to log the attacks and to trace them back (with the help of many others). <i><a href=\"/wiki/23_(film)\" title=\"23 (film)\">23</a></i>, a German film adaption with fictional elements, shows the events from the attackers\\' perspective. Stoll described the case in his book <i><a href=\"/wiki/The_Cuckoo%27s_Egg\" class=\"mw-redirect\" title=\"The Cuckoo&#39;s Egg\">The Cuckoo\\'s Egg</a></i> and in the TV documentary <i>The KGB, the Computer, and Me</i> from the other perspective. According to Eric S. Raymond, it \"nicely illustrates the difference between \\'hacker\\' and \\'cracker\\'. Stoll\\'s portrait of himself, his lady Martha, and his friends at Berkeley and on the Internet paints a marvelously vivid picture of how hackers and the people around them like to live and how they think.\"<sup id=\"cite_ref-26\" class=\"reference\"><a href=\"#cite_note-26\">&#91;26&#93;</a></sup>\\n</p>\\n<h2><span class=\"mw-headline\" id=\"See_also\">See also</span></h2>\\n<ul><li><a href=\"/wiki/Script_kiddie\" title=\"Script kiddie\">Script kiddie</a>, an unskilled computer security attacker</li></ul>\\n<h2><span class=\"mw-headline\" id=\"References\">References</span></h2>\\n<style data-mw-deduplicate=\"TemplateStyles:r1011085734\">.mw-parser-output .reflist{font-size:90%;margin-bottom:0.5em;list-style-type:decimal}.mw-parser-output .reflist .references{font-size:100%;margin-bottom:0;list-style-type:inherit}.mw-parser-output .reflist-columns-2{column-width:30em}.mw-parser-output .reflist-columns-3{column-width:25em}.mw-parser-output .reflist-columns{margin-top:0.3em}.mw-parser-output .reflist-columns ol{margin-top:0}.mw-parser-output .reflist-columns li{page-break-inside:avoid;break-inside:avoid-column}.mw-parser-output .reflist-upper-alpha{list-style-type:upper-alpha}.mw-parser-output .reflist-upper-roman{list-style-type:upper-roman}.mw-parser-output .reflist-lower-alpha{list-style-type:lower-alpha}.mw-parser-output .reflist-lower-greek{list-style-type:lower-greek}.mw-parser-output .reflist-lower-roman{list-style-type:lower-roman}</style><div class=\"reflist\">\\n<div class=\"mw-references-wrap mw-references-columns\"><ol class=\"references\">\\n<li id=\"cite_note-1\"><span class=\"mw-cite-backlink\"><b><a href=\"#cite_ref-1\">^</a></b></span> <span class=\"reference-text\"><style data-mw-deduplicate=\"TemplateStyles:r999302996\">.mw-parser-output cite.citation{font-style:inherit}.mw-parser-output .citation q{quotes:\"\\\\\"\"\"\\\\\"\"\"\\'\"\"\\'\"}.mw-parser-output .id-lock-free a,.mw-parser-output .citation .cs1-lock-free a{background:linear-gradient(transparent,transparent),url(\"//upload.wikimedia.org/wikipedia/commons/6/65/Lock-green.svg\")right 0.1em center/9px no-repeat}.mw-parser-output .id-lock-limited a,.mw-parser-output .id-lock-registration a,.mw-parser-output .citation .cs1-lock-limited a,.mw-parser-output .citation .cs1-lock-registration a{background:linear-gradient(transparent,transparent),url(\"//upload.wikimedia.org/wikipedia/commons/d/d6/Lock-gray-alt-2.svg\")right 0.1em center/9px no-repeat}.mw-parser-output .id-lock-subscription a,.mw-parser-output .citation .cs1-lock-subscription a{background:linear-gradient(transparent,transparent),url(\"//upload.wikimedia.org/wikipedia/commons/a/aa/Lock-red-alt-2.svg\")right 0.1em center/9px no-repeat}.mw-parser-output .cs1-subscription,.mw-parser-output .cs1-registration{color:#555}.mw-parser-output .cs1-subscription span,.mw-parser-output .cs1-registration span{border-bottom:1px dotted;cursor:help}.mw-parser-output .cs1-ws-icon a{background:linear-gradient(transparent,transparent),url(\"//upload.wikimedia.org/wikipedia/commons/4/4c/Wikisource-logo.svg\")right 0.1em center/12px no-repeat}.mw-parser-output code.cs1-code{color:inherit;background:inherit;border:none;padding:inherit}.mw-parser-output .cs1-hidden-error{display:none;font-size:100%}.mw-parser-output .cs1-visible-error{font-size:100%}.mw-parser-output .cs1-maint{display:none;color:#33aa33;margin-left:0.3em}.mw-parser-output .cs1-format{font-size:95%}.mw-parser-output .cs1-kern-left,.mw-parser-output .cs1-kern-wl-left{padding-left:0.2em}.mw-parser-output .cs1-kern-right,.mw-parser-output .cs1-kern-wl-right{padding-right:0.2em}.mw-parser-output .citation .mw-selflink{font-weight:inherit}</style><cite id=\"CITEREFGhappour2017\" class=\"citation journal cs1\">Ghappour, Ahmed (2017-01-01). <a rel=\"nofollow\" class=\"external text\" href=\"https://scholarship.law.bu.edu/faculty_scholarship/206\">\"Tallinn, Hacking, and Customary International Law\"</a>. <i>AJIL Unbound</i>. <b>111</b>: 224–228. <a href=\"/wiki/Doi_(identifier)\" class=\"mw-redirect\" title=\"Doi (identifier)\">doi</a>:<span class=\"cs1-lock-free\" title=\"Freely accessible\"><a rel=\"nofollow\" class=\"external text\" href=\"https://doi.org/10.1017%2Faju.2017.59\">10.1017/aju.2017.59</a></span>. <a href=\"/wiki/S2CID_(identifier)\" class=\"mw-redirect\" title=\"S2CID (identifier)\">S2CID</a>&#160;<a rel=\"nofollow\" class=\"external text\" href=\"https://api.semanticscholar.org/CorpusID:158071009\">158071009</a>.</cite><span title=\"ctx_ver=Z39.88-2004&amp;rft_val_fmt=info%3Aofi%2Ffmt%3Akev%3Amtx%3Ajournal&amp;rft.genre=article&amp;rft.jtitle=AJIL+Unbound&amp;rft.atitle=Tallinn%2C+Hacking%2C+and+Customary+International+Law&amp;rft.volume=111&amp;rft.pages=224-228&amp;rft.date=2017-01-01&amp;rft_id=info%3Adoi%2F10.1017%2Faju.2017.59&amp;rft_id=https%3A%2F%2Fapi.semanticscholar.org%2FCorpusID%3A158071009%23id-name%3DS2CID&amp;rft.aulast=Ghappour&amp;rft.aufirst=Ahmed&amp;rft_id=https%3A%2F%2Fscholarship.law.bu.edu%2Ffaculty_scholarship%2F206&amp;rfr_id=info%3Asid%2Fen.wikipedia.org%3AHacker\" class=\"Z3988\"></span></span>\\n</li>\\n<li id=\"cite_note-2\"><span class=\"mw-cite-backlink\"><b><a href=\"#cite_ref-2\">^</a></b></span> <span class=\"reference-text\"><link rel=\"mw-deduplicated-inline-style\" href=\"mw-data:TemplateStyles:r999302996\"/><cite id=\"CITEREFGhappour2017\" class=\"citation journal cs1\">Ghappour, Ahmed (2017-04-01). <a rel=\"nofollow\" class=\"external text\" href=\"https://scholarship.law.bu.edu/faculty_scholarship/204\">\"Searching Places Unknown: Law Enforcement Jurisdiction on the Dark Web\"</a>. <i>Stanford Law Review</i>. <b>69</b> (4): 1075.</cite><span title=\"ctx_ver=Z39.88-2004&amp;rft_val_fmt=info%3Aofi%2Ffmt%3Akev%3Amtx%3Ajournal&amp;rft.genre=article&amp;rft.jtitle=Stanford+Law+Review&amp;rft.atitle=Searching+Places+Unknown%3A+Law+Enforcement+Jurisdiction+on+the+Dark+Web&amp;rft.volume=69&amp;rft.issue=4&amp;rft.pages=1075&amp;rft.date=2017-04-01&amp;rft.aulast=Ghappour&amp;rft.aufirst=Ahmed&amp;rft_id=https%3A%2F%2Fscholarship.law.bu.edu%2Ffaculty_scholarship%2F204&amp;rfr_id=info%3Asid%2Fen.wikipedia.org%3AHacker\" class=\"Z3988\"></span></span>\\n</li>\\n<li id=\"cite_note-3\"><span class=\"mw-cite-backlink\"><b><a href=\"#cite_ref-3\">^</a></b></span> <span class=\"reference-text\"><link rel=\"mw-deduplicated-inline-style\" href=\"mw-data:TemplateStyles:r999302996\"/><cite class=\"citation book cs1\"><i><a href=\"/wiki/Hackers:_Heroes_of_the_Computer_Revolution\" title=\"Hackers: Heroes of the Computer Revolution\">Hackers: Heroes of the Computer Revolution</a></i>. 1984.</cite><span title=\"ctx_ver=Z39.88-2004&amp;rft_val_fmt=info%3Aofi%2Ffmt%3Akev%3Amtx%3Abook&amp;rft.genre=book&amp;rft.btitle=Hackers%3A+Heroes+of+the+Computer+Revolution&amp;rft.date=1984&amp;rfr_id=info%3Asid%2Fen.wikipedia.org%3AHacker\" class=\"Z3988\"></span></span>\\n</li>\\n<li id=\"cite_note-4\"><span class=\"mw-cite-backlink\"><b><a href=\"#cite_ref-4\">^</a></b></span> <span class=\"reference-text\"><link rel=\"mw-deduplicated-inline-style\" href=\"mw-data:TemplateStyles:r999302996\"/><cite class=\"citation web cs1\"><a rel=\"nofollow\" class=\"external text\" href=\"https://web.archive.org/web/20160605204821/https://tools.ietf.org/html/rfc1983\">\"Internet Users\\' Glossary\"</a>. Archived from <a rel=\"nofollow\" class=\"external text\" href=\"https://tools.ietf.org/html/rfc1983\">the original</a> on 2016-06-05.</cite><span title=\"ctx_ver=Z39.88-2004&amp;rft_val_fmt=info%3Aofi%2Ffmt%3Akev%3Amtx%3Abook&amp;rft.genre=unknown&amp;rft.btitle=Internet+Users%27+Glossary&amp;rft_id=https%3A%2F%2Ftools.ietf.org%2Fhtml%2Frfc1983&amp;rfr_id=info%3Asid%2Fen.wikipedia.org%3AHacker\" class=\"Z3988\"></span><a href=\"/wiki/Request_for_Comments\" title=\"Request for Comments\">RFC</a> 1983</span>\\n</li>\\n<li id=\"cite_note-Skillings,_CNET,_2020-5\"><span class=\"mw-cite-backlink\"><b><a href=\"#cite_ref-Skillings,_CNET,_2020_5-0\">^</a></b></span> <span class=\"reference-text\"><link rel=\"mw-deduplicated-inline-style\" href=\"mw-data:TemplateStyles:r999302996\"/><cite id=\"CITEREFSkillings2020\" class=\"citation web cs1\">Skillings, Jon (27 May 2020). <a rel=\"nofollow\" class=\"external text\" href=\"https://web.archive.org/web/20200528205149/https://www.cnet.com/news/in-95-these-people-defined-tech-gates-gosling-bezos-mitnick-and-more/\">\"In \\'95, these people defined tech: Gates, Bezos, Mitnick and more\"</a>. <i><a href=\"/wiki/CNET\" title=\"CNET\">CNET</a></i>. Archived from <a rel=\"nofollow\" class=\"external text\" href=\"https://www.cnet.com/news/in-95-these-people-defined-tech-gates-gosling-bezos-mitnick-and-more/\">the original</a> on 28 May 2020<span class=\"reference-accessdate\">. Retrieved <span class=\"nowrap\">28 May</span> 2020</span>. <q>The term \"hacker\" started out with a benign definition: It described computer programmers who were especially adept at solving technical problems. By the mid-1990s, however, it was widely used to refer to those who turned their skills toward breaking into computers, whether for mild mischief or criminal gain. Which brings us to <a href=\"/wiki/Kevin_Mitnick\" title=\"Kevin Mitnick\">Kevin Mitnick</a>.</q></cite><span title=\"ctx_ver=Z39.88-2004&amp;rft_val_fmt=info%3Aofi%2Ffmt%3Akev%3Amtx%3Ajournal&amp;rft.genre=unknown&amp;rft.jtitle=CNET&amp;rft.atitle=In+%2795%2C+these+people+defined+tech%3A+Gates%2C+Bezos%2C+Mitnick+and+more&amp;rft.date=2020-05-27&amp;rft.aulast=Skillings&amp;rft.aufirst=Jon&amp;rft_id=https%3A%2F%2Fwww.cnet.com%2Fnews%2Fin-95-these-people-defined-tech-gates-gosling-bezos-mitnick-and-more%2F&amp;rfr_id=info%3Asid%2Fen.wikipedia.org%3AHacker\" class=\"Z3988\"></span></span>\\n</li>\\n<li id=\"cite_note-6\"><span class=\"mw-cite-backlink\"><b><a href=\"#cite_ref-6\">^</a></b></span> <span class=\"reference-text\"><link rel=\"mw-deduplicated-inline-style\" href=\"mw-data:TemplateStyles:r999302996\"/><cite id=\"CITEREFYagoda\" class=\"citation magazine cs1\">Yagoda, Ben. <a rel=\"nofollow\" class=\"external text\" href=\"http://www.newyorker.com/tech/elements/a-short-history-of-hack\">\"A Short History of \"Hack<span class=\"cs1-kern-right\">\"</span>\"</a>. <i>The New Yorker</i><span class=\"reference-accessdate\">. Retrieved <span class=\"nowrap\">November 3,</span> 2015</span>.</cite><span title=\"ctx_ver=Z39.88-2004&amp;rft_val_fmt=info%3Aofi%2Ffmt%3Akev%3Amtx%3Ajournal&amp;rft.genre=article&amp;rft.jtitle=The+New+Yorker&amp;rft.atitle=A+Short+History+of+%22Hack%22&amp;rft.aulast=Yagoda&amp;rft.aufirst=Ben&amp;rft_id=http%3A%2F%2Fwww.newyorker.com%2Ftech%2Felements%2Fa-short-history-of-hack&amp;rfr_id=info%3Asid%2Fen.wikipedia.org%3AHacker\" class=\"Z3988\"></span></span>\\n</li>\\n<li id=\"cite_note-7\"><span class=\"mw-cite-backlink\"><b><a href=\"#cite_ref-7\">^</a></b></span> <span class=\"reference-text\"><link rel=\"mw-deduplicated-inline-style\" href=\"mw-data:TemplateStyles:r999302996\"/><cite class=\"citation web cs1\"><a rel=\"nofollow\" class=\"external text\" href=\"https://web.archive.org/web/20160516153012/https://tools.ietf.org/html/rfc1392\">\"Internet Users\\' Glossary\"</a>. Archived from <a rel=\"nofollow\" class=\"external text\" href=\"https://tools.ietf.org/html/rfc1392\">the original</a> on 2016-05-16.</cite><span title=\"ctx_ver=Z39.88-2004&amp;rft_val_fmt=info%3Aofi%2Ffmt%3Akev%3Amtx%3Abook&amp;rft.genre=unknown&amp;rft.btitle=Internet+Users%27+Glossary&amp;rft_id=https%3A%2F%2Ftools.ietf.org%2Fhtml%2Frfc1392&amp;rfr_id=info%3Asid%2Fen.wikipedia.org%3AHacker\" class=\"Z3988\"></span><a href=\"/wiki/Request_for_Comments\" title=\"Request for Comments\">RFC</a> 1392</span>\\n</li>\\n<li id=\"cite_note-8\"><span class=\"mw-cite-backlink\"><b><a href=\"#cite_ref-8\">^</a></b></span> <span class=\"reference-text\"><link rel=\"mw-deduplicated-inline-style\" href=\"mw-data:TemplateStyles:r999302996\"/><cite id=\"CITEREFDeffree2019\" class=\"citation web cs1\">Deffree, Suzanne (2019-09-05). <a rel=\"nofollow\" class=\"external text\" href=\"https://www.edn.com/hacker-is-used-by-mainstream-media-september-5-1983/\">\"EDN - \\'Hacker\\' is used by mainstream media, September 5, 1983\"</a>. <i>EDN</i><span class=\"reference-accessdate\">. Retrieved <span class=\"nowrap\">2020-09-07</span></span>.</cite><span title=\"ctx_ver=Z39.88-2004&amp;rft_val_fmt=info%3Aofi%2Ffmt%3Akev%3Amtx%3Ajournal&amp;rft.genre=unknown&amp;rft.jtitle=EDN&amp;rft.atitle=EDN+-+%27Hacker%27+is+used+by+mainstream+media%2C+September+5%2C+1983&amp;rft.date=2019-09-05&amp;rft.aulast=Deffree&amp;rft.aufirst=Suzanne&amp;rft_id=https%3A%2F%2Fwww.edn.com%2Fhacker-is-used-by-mainstream-media-september-5-1983%2F&amp;rfr_id=info%3Asid%2Fen.wikipedia.org%3AHacker\" class=\"Z3988\"></span></span>\\n</li>\\n<li id=\"cite_note-A_who&#39;s_who_of_hackers-9\"><span class=\"mw-cite-backlink\"><b><a href=\"#cite_ref-A_who&#39;s_who_of_hackers_9-0\">^</a></b></span> <span class=\"reference-text\"><link rel=\"mw-deduplicated-inline-style\" href=\"mw-data:TemplateStyles:r999302996\"/><cite id=\"CITEREFDuBois\" class=\"citation web cs1\">DuBois, Shelley. <a rel=\"nofollow\" class=\"external text\" href=\"https://web.archive.org/web/20110619062251/http://tech.fortune.cnn.com/2011/06/16/a-whos-who-of-hackers/\">\"A who\\'s who of hackers\"</a>. <i>Reporter</i>. Fortune Magazine. Archived from <a rel=\"nofollow\" class=\"external text\" href=\"http://tech.fortune.cnn.com/2011/06/16/a-whos-who-of-hackers/\">the original</a> on June 19, 2011<span class=\"reference-accessdate\">. Retrieved <span class=\"nowrap\">19 June</span> 2011</span>.</cite><span title=\"ctx_ver=Z39.88-2004&amp;rft_val_fmt=info%3Aofi%2Ffmt%3Akev%3Amtx%3Ajournal&amp;rft.genre=unknown&amp;rft.jtitle=Reporter&amp;rft.atitle=A+who%27s+who+of+hackers&amp;rft.aulast=DuBois&amp;rft.aufirst=Shelley&amp;rft_id=http%3A%2F%2Ftech.fortune.cnn.com%2F2011%2F06%2F16%2Fa-whos-who-of-hackers%2F&amp;rfr_id=info%3Asid%2Fen.wikipedia.org%3AHacker\" class=\"Z3988\"></span></span>\\n</li>\\n<li id=\"cite_note-10\"><span class=\"mw-cite-backlink\"><b><a href=\"#cite_ref-10\">^</a></b></span> <span class=\"reference-text\"><link rel=\"mw-deduplicated-inline-style\" href=\"mw-data:TemplateStyles:r999302996\"/><cite class=\"citation web cs1\"><a rel=\"nofollow\" class=\"external text\" href=\"https://web.archive.org/web/20060503072049/http://tmrc.mit.edu/hackers-ref.html\">\"TMRC site\"</a>. Archived from <a rel=\"nofollow\" class=\"external text\" href=\"http://tmrc.mit.edu/hackers-ref.html\">the original</a> on 2006-05-03.</cite><span title=\"ctx_ver=Z39.88-2004&amp;rft_val_fmt=info%3Aofi%2Ffmt%3Akev%3Amtx%3Abook&amp;rft.genre=unknown&amp;rft.btitle=TMRC+site&amp;rft_id=http%3A%2F%2Ftmrc.mit.edu%2Fhackers-ref.html&amp;rfr_id=info%3Asid%2Fen.wikipedia.org%3AHacker\" class=\"Z3988\"></span></span>\\n</li>\\n<li id=\"cite_note-11\"><span class=\"mw-cite-backlink\"><b><a href=\"#cite_ref-11\">^</a></b></span> <span class=\"reference-text\"><a href=\"/wiki/Alan_Kay\" title=\"Alan Kay\">Alan Kay</a> quoted in <a href=\"/wiki/Stewart_Brand\" title=\"Stewart Brand\">Stewart Brand</a>, \"S P A C E W A R: Fanatic Life and Symbolic Death Among the Computer Bums:\" In <i><a href=\"/wiki/Rolling_Stone\" title=\"Rolling Stone\">Rolling Stone</a></i> (1972)</span>\\n</li>\\n<li id=\"cite_note-shapiro-12\"><span class=\"mw-cite-backlink\">^ <a href=\"#cite_ref-shapiro_12-0\"><sup><i><b>a</b></i></sup></a> <a href=\"#cite_ref-shapiro_12-1\"><sup><i><b>b</b></i></sup></a></span> <span class=\"reference-text\">Fred Shapiro: <a rel=\"nofollow\" class=\"external text\" href=\"http://listserv.linguistlist.org/cgi-bin/wa?A2=ind0306B&amp;L=ads-l&amp;P=R5831&amp;m=24290\">Antedating of \"Hacker\"</a> <a rel=\"nofollow\" class=\"external text\" href=\"https://web.archive.org/web/20071025200829/http://listserv.linguistlist.org/cgi-bin/wa?A2=ind0306B&amp;L=ads-l&amp;P=R5831&amp;m=24290\">Archived</a> 2007-10-25 at the <a href=\"/wiki/Wayback_Machine\" title=\"Wayback Machine\">Wayback Machine</a>. <i>American Dialect Society Mailing List</i> (13. June 2003)</span>\\n</li>\\n<li id=\"cite_note-13\"><span class=\"mw-cite-backlink\"><b><a href=\"#cite_ref-13\">^</a></b></span> <span class=\"reference-text\"><link rel=\"mw-deduplicated-inline-style\" href=\"mw-data:TemplateStyles:r999302996\"/><cite class=\"citation web cs1\"><a rel=\"nofollow\" class=\"external text\" href=\"https://imranontech.com/2008/04/01/the-origin-of-hacker/\">\"The Origin of \"Hacker<span class=\"cs1-kern-right\">\"</span>\"</a>. April 1, 2008.</cite><span title=\"ctx_ver=Z39.88-2004&amp;rft_val_fmt=info%3Aofi%2Ffmt%3Akev%3Amtx%3Abook&amp;rft.genre=unknown&amp;rft.btitle=The+Origin+of+%22Hacker%22&amp;rft.date=2008-04-01&amp;rft_id=https%3A%2F%2Fimranontech.com%2F2008%2F04%2F01%2Fthe-origin-of-hacker%2F&amp;rfr_id=info%3Asid%2Fen.wikipedia.org%3AHacker\" class=\"Z3988\"></span></span>\\n</li>\\n<li id=\"cite_note-14\"><span class=\"mw-cite-backlink\"><b><a href=\"#cite_ref-14\">^</a></b></span> <span class=\"reference-text\"><link rel=\"mw-deduplicated-inline-style\" href=\"mw-data:TemplateStyles:r999302996\"/><cite id=\"CITEREFLondon2015\" class=\"citation web cs1\">London, Jay (6 April 2015). <a rel=\"nofollow\" class=\"external text\" href=\"https://web.archive.org/web/20160507193534/https://slice.mit.edu/2015/04/06/happy-birthday-hack/\">\"Happy 60th Birthday to the Word \"Hack<span class=\"cs1-kern-right\">\"</span>\"</a>. Archived from <a rel=\"nofollow\" class=\"external text\" href=\"https://slice.mit.edu/2015/04/06/happy-birthday-hack/\">the original</a> on 7 May 2016<span class=\"reference-accessdate\">. Retrieved <span class=\"nowrap\">16 December</span> 2016</span>.</cite><span title=\"ctx_ver=Z39.88-2004&amp;rft_val_fmt=info%3Aofi%2Ffmt%3Akev%3Amtx%3Abook&amp;rft.genre=unknown&amp;rft.btitle=Happy+60th+Birthday+to+the+Word+%22Hack%22&amp;rft.date=2015-04-06&amp;rft.aulast=London&amp;rft.aufirst=Jay&amp;rft_id=https%3A%2F%2Fslice.mit.edu%2F2015%2F04%2F06%2Fhappy-birthday-hack%2F&amp;rfr_id=info%3Asid%2Fen.wikipedia.org%3AHacker\" class=\"Z3988\"></span></span>\\n</li>\\n<li id=\"cite_note-15\"><span class=\"mw-cite-backlink\"><b><a href=\"#cite_ref-15\">^</a></b></span> <span class=\"reference-text\"><link rel=\"mw-deduplicated-inline-style\" href=\"mw-data:TemplateStyles:r999302996\"/><cite id=\"CITEREFRaymond2000\" class=\"citation web cs1\"><a href=\"/wiki/Eric_S._Raymond\" title=\"Eric S. Raymond\">Raymond, Eric</a> (25 August 2000). <a rel=\"nofollow\" class=\"external text\" href=\"http://www.catb.org/~esr/writings/cathedral-bazaar/hacker-history/ar01s02.html\">\"The Early Hackers\"</a>. <i>A Brief History of Hackerdom</i>. Thyrsus Enterprises<span class=\"reference-accessdate\">. Retrieved <span class=\"nowrap\">6 December</span> 2008</span>.</cite><span title=\"ctx_ver=Z39.88-2004&amp;rft_val_fmt=info%3Aofi%2Ffmt%3Akev%3Amtx%3Ajournal&amp;rft.genre=unknown&amp;rft.jtitle=A+Brief+History+of+Hackerdom&amp;rft.atitle=The+Early+Hackers&amp;rft.date=2000-08-25&amp;rft.aulast=Raymond&amp;rft.aufirst=Eric&amp;rft_id=http%3A%2F%2Fwww.catb.org%2F~esr%2Fwritings%2Fcathedral-bazaar%2Fhacker-history%2Far01s02.html&amp;rfr_id=info%3Asid%2Fen.wikipedia.org%3AHacker\" class=\"Z3988\"></span></span>\\n</li>\\n<li id=\"cite_note-16\"><span class=\"mw-cite-backlink\"><b><a href=\"#cite_ref-16\">^</a></b></span> <span class=\"reference-text\">Levy, part 2</span>\\n</li>\\n<li id=\"cite_note-17\"><span class=\"mw-cite-backlink\"><b><a href=\"#cite_ref-17\">^</a></b></span> <span class=\"reference-text\">Levy, part 3</span>\\n</li>\\n<li id=\"cite_note-18\"><span class=\"mw-cite-backlink\"><b><a href=\"#cite_ref-18\">^</a></b></span> <span class=\"reference-text\"><link rel=\"mw-deduplicated-inline-style\" href=\"mw-data:TemplateStyles:r999302996\"/><cite class=\"citation web cs1\"><a rel=\"nofollow\" class=\"external text\" href=\"https://web.archive.org/web/20110515044743/http://www.pctools.com/security-news/crackers-and-hackers/\">\"What are crackers and hackers? | Security News\"</a>. <i>www.pctools.com</i>. Archived from <a rel=\"nofollow\" class=\"external text\" href=\"http://www.pctools.com/security-news/crackers-and-hackers/\">the original</a> on May 15, 2011<span class=\"reference-accessdate\">. Retrieved <span class=\"nowrap\">2016-09-10</span></span>.</cite><span title=\"ctx_ver=Z39.88-2004&amp;rft_val_fmt=info%3Aofi%2Ffmt%3Akev%3Amtx%3Ajournal&amp;rft.genre=unknown&amp;rft.jtitle=www.pctools.com&amp;rft.atitle=What+are+crackers+and+hackers%3F+%7C+Security+News&amp;rft_id=http%3A%2F%2Fwww.pctools.com%2Fsecurity-news%2Fcrackers-and-hackers%2F&amp;rfr_id=info%3Asid%2Fen.wikipedia.org%3AHacker\" class=\"Z3988\"></span></span>\\n</li>\\n<li id=\"cite_note-19\"><span class=\"mw-cite-backlink\"><b><a href=\"#cite_ref-19\">^</a></b></span> <span class=\"reference-text\">Lloyd, Gene. \"Developing Algorithms to Identify Spoofed Internet Traffic\". Colorado Technical University, 2014</span>\\n</li>\\n<li id=\"cite_note-20\"><span class=\"mw-cite-backlink\"><b><a href=\"#cite_ref-20\">^</a></b></span> <span class=\"reference-text\"><link rel=\"mw-deduplicated-inline-style\" href=\"mw-data:TemplateStyles:r999302996\"/><cite class=\"citation book cs1\"><a rel=\"nofollow\" class=\"external text\" href=\"http://catb.org/~esr/jargon/html/P/phreaking.html\"><i>phreaking</i></a>. <i>The Jargon Lexicon</i><span class=\"reference-accessdate\">. Retrieved <span class=\"nowrap\">2008-10-18</span></span>.</cite><span title=\"ctx_ver=Z39.88-2004&amp;rft_val_fmt=info%3Aofi%2Ffmt%3Akev%3Amtx%3Abook&amp;rft.genre=book&amp;rft.btitle=phreaking&amp;rft_id=http%3A%2F%2Fcatb.org%2F~esr%2Fjargon%2Fhtml%2FP%2Fphreaking.html&amp;rfr_id=info%3Asid%2Fen.wikipedia.org%3AHacker\" class=\"Z3988\"></span></span>\\n</li>\\n<li id=\"cite_note-Raymond-cracker-21\"><span class=\"mw-cite-backlink\">^ <a href=\"#cite_ref-Raymond-cracker_21-0\"><sup><i><b>a</b></i></sup></a> <a href=\"#cite_ref-Raymond-cracker_21-1\"><sup><i><b>b</b></i></sup></a></span> <span class=\"reference-text\"><link rel=\"mw-deduplicated-inline-style\" href=\"mw-data:TemplateStyles:r999302996\"/><cite class=\"citation book cs1\"><a rel=\"nofollow\" class=\"external text\" href=\"http://catb.org/~esr/jargon/html/C/cracker.html\"><i>cracker</i></a>. <i>The Jargon Lexicon</i><span class=\"reference-accessdate\">. Retrieved <span class=\"nowrap\">2008-10-18</span></span>.</cite><span title=\"ctx_ver=Z39.88-2004&amp;rft_val_fmt=info%3Aofi%2Ffmt%3Akev%3Amtx%3Abook&amp;rft.genre=book&amp;rft.btitle=cracker&amp;rft_id=http%3A%2F%2Fcatb.org%2F~esr%2Fjargon%2Fhtml%2FC%2Fcracker.html&amp;rfr_id=info%3Asid%2Fen.wikipedia.org%3AHacker\" class=\"Z3988\"></span></span>\\n</li>\\n<li id=\"cite_note-22\"><span class=\"mw-cite-backlink\"><b><a href=\"#cite_ref-22\">^</a></b></span> <span class=\"reference-text\"><link rel=\"mw-deduplicated-inline-style\" href=\"mw-data:TemplateStyles:r999302996\"/><cite id=\"CITEREFThompson1984\" class=\"citation journal cs1\">Thompson, Ken (August 1984). <a rel=\"nofollow\" class=\"external text\" href=\"http://www.ece.cmu.edu/~ganger/712.fall02/papers/p761-thompson.pdf\">\"Reflections on Trusting Trust\"</a> <span class=\"cs1-format\">(PDF)</span>. <i>Communications of the ACM</i>. <b>27</b> (8): 761. <a href=\"/wiki/Doi_(identifier)\" class=\"mw-redirect\" title=\"Doi (identifier)\">doi</a>:<span class=\"cs1-lock-free\" title=\"Freely accessible\"><a rel=\"nofollow\" class=\"external text\" href=\"https://doi.org/10.1145%2F358198.358210\">10.1145/358198.358210</a></span>. <a href=\"/wiki/S2CID_(identifier)\" class=\"mw-redirect\" title=\"S2CID (identifier)\">S2CID</a>&#160;<a rel=\"nofollow\" class=\"external text\" href=\"https://api.semanticscholar.org/CorpusID:34854438\">34854438</a>.</cite><span title=\"ctx_ver=Z39.88-2004&amp;rft_val_fmt=info%3Aofi%2Ffmt%3Akev%3Amtx%3Ajournal&amp;rft.genre=article&amp;rft.jtitle=Communications+of+the+ACM&amp;rft.atitle=Reflections+on+Trusting+Trust&amp;rft.volume=27&amp;rft.issue=8&amp;rft.pages=761&amp;rft.date=1984-08&amp;rft_id=info%3Adoi%2F10.1145%2F358198.358210&amp;rft_id=https%3A%2F%2Fapi.semanticscholar.org%2FCorpusID%3A34854438%23id-name%3DS2CID&amp;rft.aulast=Thompson&amp;rft.aufirst=Ken&amp;rft_id=http%3A%2F%2Fwww.ece.cmu.edu%2F~ganger%2F712.fall02%2Fpapers%2Fp761-thompson.pdf&amp;rfr_id=info%3Asid%2Fen.wikipedia.org%3AHacker\" class=\"Z3988\"></span></span>\\n</li>\\n<li id=\"cite_note-23\"><span class=\"mw-cite-backlink\"><b><a href=\"#cite_ref-23\">^</a></b></span> <span class=\"reference-text\"><link rel=\"mw-deduplicated-inline-style\" href=\"mw-data:TemplateStyles:r999302996\"/><cite id=\"CITEREFRichard_Stallman2002\" class=\"citation web cs1\">Richard Stallman (2002). <a rel=\"nofollow\" class=\"external text\" href=\"https://www.gnu.org/philosophy/rms-hack.html\">\"The Hacker Community and Ethics: An Interview with Richard M. Stallman\"</a>. GNU Project<span class=\"reference-accessdate\">. Retrieved <span class=\"nowrap\">2008-10-18</span></span>.</cite><span title=\"ctx_ver=Z39.88-2004&amp;rft_val_fmt=info%3Aofi%2Ffmt%3Akev%3Amtx%3Abook&amp;rft.genre=unknown&amp;rft.btitle=The+Hacker+Community+and+Ethics%3A+An+Interview+with+Richard+M.+Stallman&amp;rft.pub=GNU+Project&amp;rft.date=2002&amp;rft.au=Richard+Stallman&amp;rft_id=https%3A%2F%2Fwww.gnu.org%2Fphilosophy%2Frms-hack.html&amp;rfr_id=info%3Asid%2Fen.wikipedia.org%3AHacker\" class=\"Z3988\"></span></span>\\n</li>\\n<li id=\"cite_note-24\"><span class=\"mw-cite-backlink\"><b><a href=\"#cite_ref-24\">^</a></b></span> <span class=\"reference-text\"><link rel=\"mw-deduplicated-inline-style\" href=\"mw-data:TemplateStyles:r999302996\"/><cite class=\"citation book cs1\"><a rel=\"nofollow\" class=\"external text\" href=\"http://catb.org/jargon/html/pt03.html#bibliography\"><i>Part III. Appendices</i></a>. <i>The Jargon Lexicon</i><span class=\"reference-accessdate\">. Retrieved <span class=\"nowrap\">2008-10-18</span></span>.</cite><span title=\"ctx_ver=Z39.88-2004&amp;rft_val_fmt=info%3Aofi%2Ffmt%3Akev%3Amtx%3Abook&amp;rft.genre=book&amp;rft.btitle=Part+III.+Appendices&amp;rft_id=http%3A%2F%2Fcatb.org%2Fjargon%2Fhtml%2Fpt03.html%23bibliography&amp;rfr_id=info%3Asid%2Fen.wikipedia.org%3AHacker\" class=\"Z3988\"></span></span>\\n</li>\\n<li id=\"cite_note-25\"><span class=\"mw-cite-backlink\"><b><a href=\"#cite_ref-25\">^</a></b></span> <span class=\"reference-text\"><link rel=\"mw-deduplicated-inline-style\" href=\"mw-data:TemplateStyles:r999302996\"/><cite class=\"citation book cs1\"><a rel=\"nofollow\" class=\"external text\" href=\"http://catb.org/~esr/jargon/html/magic-story.html\"><i>A Story About \\'Magic\\'<span></span></i></a>. <i>The Jargon Lexicon</i><span class=\"reference-accessdate\">. Retrieved <span class=\"nowrap\">2008-10-18</span></span>.</cite><span title=\"ctx_ver=Z39.88-2004&amp;rft_val_fmt=info%3Aofi%2Ffmt%3Akev%3Amtx%3Abook&amp;rft.genre=book&amp;rft.btitle=A+Story+About+%27Magic%27&amp;rft_id=http%3A%2F%2Fcatb.org%2F~esr%2Fjargon%2Fhtml%2Fmagic-story.html&amp;rfr_id=info%3Asid%2Fen.wikipedia.org%3AHacker\" class=\"Z3988\"></span></span>\\n</li>\\n<li id=\"cite_note-26\"><span class=\"mw-cite-backlink\"><b><a href=\"#cite_ref-26\">^</a></b></span> <span class=\"reference-text\"><link rel=\"mw-deduplicated-inline-style\" href=\"mw-data:TemplateStyles:r999302996\"/><cite class=\"citation book cs1\"><a rel=\"nofollow\" class=\"external text\" href=\"http://catb.org/jargon/html/pt03.html\"><i>Part III. Appendices</i></a>. <i>The Jargon Lexicon</i><span class=\"reference-accessdate\">. Retrieved <span class=\"nowrap\">2008-10-18</span></span>.</cite><span title=\"ctx_ver=Z39.88-2004&amp;rft_val_fmt=info%3Aofi%2Ffmt%3Akev%3Amtx%3Abook&amp;rft.genre=book&amp;rft.btitle=Part+III.+Appendices&amp;rft_id=http%3A%2F%2Fcatb.org%2Fjargon%2Fhtml%2Fpt03.html&amp;rfr_id=info%3Asid%2Fen.wikipedia.org%3AHacker\" class=\"Z3988\"></span></span>\\n</li>\\n</ol></div></div>\\n<h2><span class=\"mw-headline\" id=\"Further_reading\">Further reading</span></h2>\\n<style data-mw-deduplicate=\"TemplateStyles:r1011217839\">.mw-parser-output .refbegin{font-size:90%;margin-bottom:0.5em}.mw-parser-output .refbegin-hanging-indents>ul{margin-left:0}.mw-parser-output .refbegin-hanging-indents>ul>li{margin-left:0;padding-left:3.2em;text-indent:-3.2em}.mw-parser-output .refbegin-hanging-indents ul,.mw-parser-output .refbegin-hanging-indents ul li{list-style:none}@media(max-width:720px){.mw-parser-output .refbegin-hanging-indents>ul>li{padding-left:1.6em;text-indent:-1.6em}}.mw-parser-output .refbegin-100{font-size:100%}.mw-parser-output .refbegin-columns{margin-top:0.3em}.mw-parser-output .refbegin-columns ul{margin-top:0}.mw-parser-output .refbegin-columns li{page-break-inside:avoid;break-inside:avoid-column}</style><div class=\"refbegin\" style=\"\">\\n<ul><li>Michael Hasse: <a rel=\"nofollow\" class=\"external text\" href=\"http://elk.informatik.hs-augsburg.de/tmp/cdrom-oss/hasse_hacker.pdf\">Die Hacker: Strukturanalyse einer jugendlichen Subkultur</a> <a rel=\"nofollow\" class=\"external text\" href=\"https://web.archive.org/web/20170930174851/http://elk.informatik.hs-augsburg.de/tmp/cdrom-oss/hasse_hacker.pdf\">Archived</a> 2017-09-30 at the <a href=\"/wiki/Wayback_Machine\" title=\"Wayback Machine\">Wayback Machine</a> (1994)</li></ul>\\n</div>\\n<h3><span class=\"mw-headline\" id=\"Computer_security\">Computer security</span></h3>\\n<link rel=\"mw-deduplicated-inline-style\" href=\"mw-data:TemplateStyles:r1011217839\"/><div class=\"refbegin\" style=\"\">\\n<ul><li><link rel=\"mw-deduplicated-inline-style\" href=\"mw-data:TemplateStyles:r999302996\"/><cite id=\"CITEREFDreyfus1997\" class=\"citation book cs1\">Dreyfus, Suelette (1997). <i><a href=\"/wiki/Underground_(Suelette_Dreyfus_book)\" class=\"mw-redirect\" title=\"Underground (Suelette Dreyfus book)\">Underground: Tales of Hacking, Madness and Obsession on the Electronic Frontier</a></i>. Mandarin. <a href=\"/wiki/ISBN_(identifier)\" class=\"mw-redirect\" title=\"ISBN (identifier)\">ISBN</a>&#160;<a href=\"/wiki/Special:BookSources/1-86330-595-5\" title=\"Special:BookSources/1-86330-595-5\"><bdi>1-86330-595-5</bdi></a>.</cite><span title=\"ctx_ver=Z39.88-2004&amp;rft_val_fmt=info%3Aofi%2Ffmt%3Akev%3Amtx%3Abook&amp;rft.genre=book&amp;rft.btitle=Underground%3A+Tales+of+Hacking%2C+Madness+and+Obsession+on+the+Electronic+Frontier&amp;rft.pub=Mandarin&amp;rft.date=1997&amp;rft.isbn=1-86330-595-5&amp;rft.aulast=Dreyfus&amp;rft.aufirst=Suelette&amp;rfr_id=info%3Asid%2Fen.wikipedia.org%3AHacker\" class=\"Z3988\"></span></li>\\n<li><link rel=\"mw-deduplicated-inline-style\" href=\"mw-data:TemplateStyles:r999302996\"/><cite id=\"CITEREFHafnerMarkoff1991\" class=\"citation book cs1\"><a href=\"/wiki/Katie_Hafner\" title=\"Katie Hafner\">Hafner, Katie</a>; <a href=\"/wiki/John_Markoff\" title=\"John Markoff\">Markoff, John</a> (1991). <a rel=\"nofollow\" class=\"external text\" href=\"https://archive.org/details/cyberpunk00kati\"><i>Cyberpunk: Outlaws and Hackers on the Computer Frontier</i></a>. New York: <a href=\"/wiki/Simon_%26_Schuster\" title=\"Simon &amp; Schuster\">Simon &amp; Schuster</a>. <a href=\"/wiki/ISBN_(identifier)\" class=\"mw-redirect\" title=\"ISBN (identifier)\">ISBN</a>&#160;<a href=\"/wiki/Special:BookSources/0-671-68322-5\" title=\"Special:BookSources/0-671-68322-5\"><bdi>0-671-68322-5</bdi></a>.</cite><span title=\"ctx_ver=Z39.88-2004&amp;rft_val_fmt=info%3Aofi%2Ffmt%3Akev%3Amtx%3Abook&amp;rft.genre=book&amp;rft.btitle=Cyberpunk%3A+Outlaws+and+Hackers+on+the+Computer+Frontier&amp;rft.place=New+York&amp;rft.pub=Simon+%26+Schuster&amp;rft.date=1991&amp;rft.isbn=0-671-68322-5&amp;rft.aulast=Hafner&amp;rft.aufirst=Katie&amp;rft.au=Markoff%2C+John&amp;rft_id=https%3A%2F%2Farchive.org%2Fdetails%2Fcyberpunk00kati&amp;rfr_id=info%3Asid%2Fen.wikipedia.org%3AHacker\" class=\"Z3988\"></span></li>\\n<li><link rel=\"mw-deduplicated-inline-style\" href=\"mw-data:TemplateStyles:r999302996\"/><cite id=\"CITEREFLevy2002\" class=\"citation book cs1\">Levy, Steven (2002). <i>Crypto: How the Code Rebels Beat the Government Saving Privacy in the Digital Age</i>. Penguin. <a href=\"/wiki/ISBN_(identifier)\" class=\"mw-redirect\" title=\"ISBN (identifier)\">ISBN</a>&#160;<a href=\"/wiki/Special:BookSources/0-14-024432-8\" title=\"Special:BookSources/0-14-024432-8\"><bdi>0-14-024432-8</bdi></a>.</cite><span title=\"ctx_ver=Z39.88-2004&amp;rft_val_fmt=info%3Aofi%2Ffmt%3Akev%3Amtx%3Abook&amp;rft.genre=book&amp;rft.btitle=Crypto%3A+How+the+Code+Rebels+Beat+the+Government+Saving+Privacy+in+the+Digital+Age&amp;rft.pub=Penguin&amp;rft.date=2002&amp;rft.isbn=0-14-024432-8&amp;rft.aulast=Levy&amp;rft.aufirst=Steven&amp;rfr_id=info%3Asid%2Fen.wikipedia.org%3AHacker\" class=\"Z3988\"></span></li>\\n<li>Logik Bomb: <a rel=\"nofollow\" class=\"external text\" href=\"http://insecure.org/stf/hackenc.txt\">Hacker\\'s Encyclopedia</a> (1997)</li>\\n<li>Revelation: <a rel=\"nofollow\" class=\"external text\" href=\"http://www.textfiles.com/hacking/ulimate.txt\">The Ultimate Beginner\\'s Guide to Hacking &amp; Phreaking</a> (1996)</li>\\n<li><link rel=\"mw-deduplicated-inline-style\" href=\"mw-data:TemplateStyles:r999302996\"/><cite id=\"CITEREFSlatallaJoshua_Quittner1995\" class=\"citation book cs1\">Slatalla, Michelle; Joshua Quittner (1995). <span class=\"cs1-lock-registration\" title=\"Free registration required\"><a rel=\"nofollow\" class=\"external text\" href=\"https://archive.org/details/mastersofdecepti1994slat\"><i>Masters of Deception: The Gang That Ruled Cyberspace</i></a></span>. HarperCollins. <a href=\"/wiki/ISBN_(identifier)\" class=\"mw-redirect\" title=\"ISBN (identifier)\">ISBN</a>&#160;<a href=\"/wiki/Special:BookSources/0-06-017030-1\" title=\"Special:BookSources/0-06-017030-1\"><bdi>0-06-017030-1</bdi></a>.</cite><span title=\"ctx_ver=Z39.88-2004&amp;rft_val_fmt=info%3Aofi%2Ffmt%3Akev%3Amtx%3Abook&amp;rft.genre=book&amp;rft.btitle=Masters+of+Deception%3A+The+Gang+That+Ruled+Cyberspace&amp;rft.pub=HarperCollins&amp;rft.date=1995&amp;rft.isbn=0-06-017030-1&amp;rft.aulast=Slatalla&amp;rft.aufirst=Michelle&amp;rft.au=Joshua+Quittner&amp;rft_id=https%3A%2F%2Farchive.org%2Fdetails%2Fmastersofdecepti1994slat&amp;rfr_id=info%3Asid%2Fen.wikipedia.org%3AHacker\" class=\"Z3988\"></span></li>\\n<li><link rel=\"mw-deduplicated-inline-style\" href=\"mw-data:TemplateStyles:r999302996\"/><cite id=\"CITEREFSterling1992\" class=\"citation book cs1\"><a href=\"/wiki/Bruce_Sterling\" title=\"Bruce Sterling\">Sterling, Bruce</a> (1992). <a rel=\"nofollow\" class=\"external text\" href=\"https://archive.org/details/hackercrackdownl00ster\"><i>The Hacker Crackdown</i></a>. Bantam. <a href=\"/wiki/ISBN_(identifier)\" class=\"mw-redirect\" title=\"ISBN (identifier)\">ISBN</a>&#160;<a href=\"/wiki/Special:BookSources/0-553-08058-X\" title=\"Special:BookSources/0-553-08058-X\"><bdi>0-553-08058-X</bdi></a>.</cite><span title=\"ctx_ver=Z39.88-2004&amp;rft_val_fmt=info%3Aofi%2Ffmt%3Akev%3Amtx%3Abook&amp;rft.genre=book&amp;rft.btitle=The+Hacker+Crackdown&amp;rft.pub=Bantam&amp;rft.date=1992&amp;rft.isbn=0-553-08058-X&amp;rft.aulast=Sterling&amp;rft.aufirst=Bruce&amp;rft_id=https%3A%2F%2Farchive.org%2Fdetails%2Fhackercrackdownl00ster&amp;rfr_id=info%3Asid%2Fen.wikipedia.org%3AHacker\" class=\"Z3988\"></span></li>\\n<li><link rel=\"mw-deduplicated-inline-style\" href=\"mw-data:TemplateStyles:r999302996\"/><cite id=\"CITEREFTaylor1999\" class=\"citation book cs1\">Taylor, Paul A. (1999). <a rel=\"nofollow\" class=\"external text\" href=\"http://insecure.org/stf/them_and_us.txt\"><i>Hackers: Crime in the Digital Sublime</i></a>. Routledge. <a href=\"/wiki/ISBN_(identifier)\" class=\"mw-redirect\" title=\"ISBN (identifier)\">ISBN</a>&#160;<a href=\"/wiki/Special:BookSources/978-0-415-18072-6\" title=\"Special:BookSources/978-0-415-18072-6\"><bdi>978-0-415-18072-6</bdi></a>.</cite><span title=\"ctx_ver=Z39.88-2004&amp;rft_val_fmt=info%3Aofi%2Ffmt%3Akev%3Amtx%3Abook&amp;rft.genre=book&amp;rft.btitle=Hackers%3A+Crime+in+the+Digital+Sublime&amp;rft.pub=Routledge&amp;rft.date=1999&amp;rft.isbn=978-0-415-18072-6&amp;rft.aulast=Taylor&amp;rft.aufirst=Paul+A.&amp;rft_id=http%3A%2F%2Finsecure.org%2Fstf%2Fthem_and_us.txt&amp;rfr_id=info%3Asid%2Fen.wikipedia.org%3AHacker\" class=\"Z3988\"></span></li>\\n<li><link rel=\"mw-deduplicated-inline-style\" href=\"mw-data:TemplateStyles:r999302996\"/><cite id=\"CITEREFThomas2002\" class=\"citation book cs1\">Thomas, Douglas (2002). <i><a href=\"/wiki/Hacker_Culture\" title=\"Hacker Culture\">Hacker Culture</a></i>. University of Minnesota Press. <a href=\"/wiki/ISBN_(identifier)\" class=\"mw-redirect\" title=\"ISBN (identifier)\">ISBN</a>&#160;<a href=\"/wiki/Special:BookSources/0-8166-3345-2\" title=\"Special:BookSources/0-8166-3345-2\"><bdi>0-8166-3345-2</bdi></a>.</cite><span title=\"ctx_ver=Z39.88-2004&amp;rft_val_fmt=info%3Aofi%2Ffmt%3Akev%3Amtx%3Abook&amp;rft.genre=book&amp;rft.btitle=Hacker+Culture&amp;rft.pub=University+of+Minnesota+Press&amp;rft.date=2002&amp;rft.isbn=0-8166-3345-2&amp;rft.aulast=Thomas&amp;rft.aufirst=Douglas&amp;rfr_id=info%3Asid%2Fen.wikipedia.org%3AHacker\" class=\"Z3988\"></span></li>\\n<li><link rel=\"mw-deduplicated-inline-style\" href=\"mw-data:TemplateStyles:r999302996\"/><cite id=\"CITEREFVerton2002\" class=\"citation book cs1\">Verton, Dan (2002). <span class=\"cs1-lock-registration\" title=\"Free registration required\"><a rel=\"nofollow\" class=\"external text\" href=\"https://archive.org/details/hackerdiariescon0000vert\"><i>The Hacker Diaries: Confessions of Teenage Hackers</i></a></span>. McGraw-Hill Osborne Media. <a href=\"/wiki/ISBN_(identifier)\" class=\"mw-redirect\" title=\"ISBN (identifier)\">ISBN</a>&#160;<a href=\"/wiki/Special:BookSources/0-07-222364-2\" title=\"Special:BookSources/0-07-222364-2\"><bdi>0-07-222364-2</bdi></a>.</cite><span title=\"ctx_ver=Z39.88-2004&amp;rft_val_fmt=info%3Aofi%2Ffmt%3Akev%3Amtx%3Abook&amp;rft.genre=book&amp;rft.btitle=The+Hacker+Diaries%3A+Confessions+of+Teenage+Hackers&amp;rft.pub=McGraw-Hill+Osborne+Media&amp;rft.date=2002&amp;rft.isbn=0-07-222364-2&amp;rft.aulast=Verton&amp;rft.aufirst=Dan&amp;rft_id=https%3A%2F%2Farchive.org%2Fdetails%2Fhackerdiariescon0000vert&amp;rfr_id=info%3Asid%2Fen.wikipedia.org%3AHacker\" class=\"Z3988\"></span></li></ul>\\n</div>\\n<h3><span id=\"Free_software.2Fopen_source\"></span><span class=\"mw-headline\" id=\"Free_software/open_source\">Free software/open source</span></h3>\\n<link rel=\"mw-deduplicated-inline-style\" href=\"mw-data:TemplateStyles:r1011217839\"/><div class=\"refbegin\" style=\"\">\\n<ul><li><link rel=\"mw-deduplicated-inline-style\" href=\"mw-data:TemplateStyles:r999302996\"/><cite id=\"CITEREFGraham2004\" class=\"citation book cs1\"><a href=\"/wiki/Paul_Graham_(computer_programmer)\" class=\"mw-redirect\" title=\"Paul Graham (computer programmer)\">Graham, Paul</a> (2004). <i><a href=\"/wiki/Hackers_and_Painters\" class=\"mw-redirect\" title=\"Hackers and Painters\">Hackers and Painters</a></i>. Beijing: O\\'Reilly. <a href=\"/wiki/ISBN_(identifier)\" class=\"mw-redirect\" title=\"ISBN (identifier)\">ISBN</a>&#160;<a href=\"/wiki/Special:BookSources/0-596-00662-4\" title=\"Special:BookSources/0-596-00662-4\"><bdi>0-596-00662-4</bdi></a>.</cite><span title=\"ctx_ver=Z39.88-2004&amp;rft_val_fmt=info%3Aofi%2Ffmt%3Akev%3Amtx%3Abook&amp;rft.genre=book&amp;rft.btitle=Hackers+and+Painters&amp;rft.place=Beijing&amp;rft.pub=O%27Reilly&amp;rft.date=2004&amp;rft.isbn=0-596-00662-4&amp;rft.aulast=Graham&amp;rft.aufirst=Paul&amp;rfr_id=info%3Asid%2Fen.wikipedia.org%3AHacker\" class=\"Z3988\"></span></li>\\n<li><link rel=\"mw-deduplicated-inline-style\" href=\"mw-data:TemplateStyles:r999302996\"/><cite id=\"CITEREFHimanen2001\" class=\"citation book cs1\">Himanen, Pekka (2001). <a rel=\"nofollow\" class=\"external text\" href=\"https://archive.org/details/hackerethic00pekk\"><i>The Hacker Ethic and the Spirit of the Information Age</i></a>. Random House. <a href=\"/wiki/ISBN_(identifier)\" class=\"mw-redirect\" title=\"ISBN (identifier)\">ISBN</a>&#160;<a href=\"/wiki/Special:BookSources/0-375-50566-0\" title=\"Special:BookSources/0-375-50566-0\"><bdi>0-375-50566-0</bdi></a>.</cite><span title=\"ctx_ver=Z39.88-2004&amp;rft_val_fmt=info%3Aofi%2Ffmt%3Akev%3Amtx%3Abook&amp;rft.genre=book&amp;rft.btitle=The+Hacker+Ethic+and+the+Spirit+of+the+Information+Age&amp;rft.pub=Random+House&amp;rft.date=2001&amp;rft.isbn=0-375-50566-0&amp;rft.aulast=Himanen&amp;rft.aufirst=Pekka&amp;rft_id=https%3A%2F%2Farchive.org%2Fdetails%2Fhackerethic00pekk&amp;rfr_id=info%3Asid%2Fen.wikipedia.org%3AHacker\" class=\"Z3988\"></span></li>\\n<li><link rel=\"mw-deduplicated-inline-style\" href=\"mw-data:TemplateStyles:r999302996\"/><cite id=\"CITEREFLakhaniWolf2005\" class=\"citation book cs1\">Lakhani, Karim R.; Wolf, Robert G. (2005). <a rel=\"nofollow\" class=\"external text\" href=\"http://ocw.mit.edu/courses/sloan-school-of-management/15-352-managing-innovation-emerging-trends-spring-2005/readings/lakhaniwolf.pdf\">\"Why Hackers Do What They Do: Understanding Motivation and Effort in Free/Open Source Software Projects\"</a> <span class=\"cs1-format\">(PDF)</span>.  In Feller, J.; Fitzgerald, B.; Hissam, S.;  et&#160;al. (eds.). <i>Perspectives on Free and Open Source Software</i>. MIT Press.</cite><span title=\"ctx_ver=Z39.88-2004&amp;rft_val_fmt=info%3Aofi%2Ffmt%3Akev%3Amtx%3Abook&amp;rft.genre=bookitem&amp;rft.atitle=Why+Hackers+Do+What+They+Do%3A+Understanding+Motivation+and+Effort+in+Free%2FOpen+Source+Software+Projects&amp;rft.btitle=Perspectives+on+Free+and+Open+Source+Software&amp;rft.pub=MIT+Press&amp;rft.date=2005&amp;rft.aulast=Lakhani&amp;rft.aufirst=Karim+R.&amp;rft.au=Wolf%2C+Robert+G.&amp;rft_id=http%3A%2F%2Focw.mit.edu%2Fcourses%2Fsloan-school-of-management%2F15-352-managing-innovation-emerging-trends-spring-2005%2Freadings%2Flakhaniwolf.pdf&amp;rfr_id=info%3Asid%2Fen.wikipedia.org%3AHacker\" class=\"Z3988\"></span></li>\\n<li><link rel=\"mw-deduplicated-inline-style\" href=\"mw-data:TemplateStyles:r999302996\"/><cite id=\"CITEREFLevy1984\" class=\"citation book cs1\"><a href=\"/wiki/Steven_Levy\" title=\"Steven Levy\">Levy, Steven</a> (1984). <i><a href=\"/wiki/Hackers:_Heroes_of_the_Computer_Revolution\" title=\"Hackers: Heroes of the Computer Revolution\">Hackers: Heroes of the Computer Revolution</a></i>. Doubleday. <a href=\"/wiki/ISBN_(identifier)\" class=\"mw-redirect\" title=\"ISBN (identifier)\">ISBN</a>&#160;<a href=\"/wiki/Special:BookSources/0-385-19195-2\" title=\"Special:BookSources/0-385-19195-2\"><bdi>0-385-19195-2</bdi></a>.</cite><span title=\"ctx_ver=Z39.88-2004&amp;rft_val_fmt=info%3Aofi%2Ffmt%3Akev%3Amtx%3Abook&amp;rft.genre=book&amp;rft.btitle=Hackers%3A+Heroes+of+the+Computer+Revolution&amp;rft.pub=Doubleday&amp;rft.date=1984&amp;rft.isbn=0-385-19195-2&amp;rft.aulast=Levy&amp;rft.aufirst=Steven&amp;rfr_id=info%3Asid%2Fen.wikipedia.org%3AHacker\" class=\"Z3988\"></span></li>\\n<li><link rel=\"mw-deduplicated-inline-style\" href=\"mw-data:TemplateStyles:r999302996\"/><cite id=\"CITEREFRaymondSteele1996\" class=\"citation book cs1\">Raymond, Eric S.; Steele, Guy L., eds. (1996). <i><a href=\"/wiki/Jargon_File\" title=\"Jargon File\">The New Hacker\\'s Dictionary</a></i>. The MIT Press. <a href=\"/wiki/ISBN_(identifier)\" class=\"mw-redirect\" title=\"ISBN (identifier)\">ISBN</a>&#160;<a href=\"/wiki/Special:BookSources/0-262-68092-0\" title=\"Special:BookSources/0-262-68092-0\"><bdi>0-262-68092-0</bdi></a>.</cite><span title=\"ctx_ver=Z39.88-2004&amp;rft_val_fmt=info%3Aofi%2Ffmt%3Akev%3Amtx%3Abook&amp;rft.genre=book&amp;rft.btitle=The+New+Hacker%27s+Dictionary&amp;rft.pub=The+MIT+Press&amp;rft.date=1996&amp;rft.isbn=0-262-68092-0&amp;rfr_id=info%3Asid%2Fen.wikipedia.org%3AHacker\" class=\"Z3988\"></span></li>\\n<li><link rel=\"mw-deduplicated-inline-style\" href=\"mw-data:TemplateStyles:r999302996\"/><cite id=\"CITEREFRaymond2003\" class=\"citation book cs1\">Raymond, Eric S. (2003). <i><a href=\"/wiki/The_Art_of_Unix_Programming\" title=\"The Art of Unix Programming\">The Art of Unix Programming</a></i>. Prentice Hall International. <a href=\"/wiki/ISBN_(identifier)\" class=\"mw-redirect\" title=\"ISBN (identifier)\">ISBN</a>&#160;<a href=\"/wiki/Special:BookSources/0-13-142901-9\" title=\"Special:BookSources/0-13-142901-9\"><bdi>0-13-142901-9</bdi></a>.</cite><span title=\"ctx_ver=Z39.88-2004&amp;rft_val_fmt=info%3Aofi%2Ffmt%3Akev%3Amtx%3Abook&amp;rft.genre=book&amp;rft.btitle=The+Art+of+Unix+Programming&amp;rft.pub=Prentice+Hall+International&amp;rft.date=2003&amp;rft.isbn=0-13-142901-9&amp;rft.aulast=Raymond&amp;rft.aufirst=Eric+S.&amp;rfr_id=info%3Asid%2Fen.wikipedia.org%3AHacker\" class=\"Z3988\"></span></li>\\n<li><link rel=\"mw-deduplicated-inline-style\" href=\"mw-data:TemplateStyles:r999302996\"/><cite id=\"CITEREFTurkle1984\" class=\"citation book cs1\"><a href=\"/wiki/Sherry_Turkle\" title=\"Sherry Turkle\">Turkle, Sherry</a> (1984). <i>The Second Self: Computers and the Human Spirit</i>. MIT Press. <a href=\"/wiki/ISBN_(identifier)\" class=\"mw-redirect\" title=\"ISBN (identifier)\">ISBN</a>&#160;<a href=\"/wiki/Special:BookSources/0-262-70111-1\" title=\"Special:BookSources/0-262-70111-1\"><bdi>0-262-70111-1</bdi></a>.</cite><span title=\"ctx_ver=Z39.88-2004&amp;rft_val_fmt=info%3Aofi%2Ffmt%3Akev%3Amtx%3Abook&amp;rft.genre=book&amp;rft.btitle=The+Second+Self%3A+Computers+and+the+Human+Spirit&amp;rft.pub=MIT+Press&amp;rft.date=1984&amp;rft.isbn=0-262-70111-1&amp;rft.aulast=Turkle&amp;rft.aufirst=Sherry&amp;rfr_id=info%3Asid%2Fen.wikipedia.org%3AHacker\" class=\"Z3988\"></span></li></ul>\\n</div>\\n<h2><span class=\"mw-headline\" id=\"External_links\">External links</span></h2>\\n<ul><li><a href=\"/wiki/File:Wikibooks-logo-en-noslogan.svg\" class=\"image\"><img alt=\"\" src=\"//upload.wikimedia.org/wikipedia/commons/thumb/d/df/Wikibooks-logo-en-noslogan.svg/16px-Wikibooks-logo-en-noslogan.svg.png\" decoding=\"async\" width=\"16\" height=\"16\" class=\"noviewer\" srcset=\"//upload.wikimedia.org/wikipedia/commons/thumb/d/df/Wikibooks-logo-en-noslogan.svg/24px-Wikibooks-logo-en-noslogan.svg.png 1.5x, //upload.wikimedia.org/wikipedia/commons/thumb/d/df/Wikibooks-logo-en-noslogan.svg/32px-Wikibooks-logo-en-noslogan.svg.png 2x\" data-file-width=\"400\" data-file-height=\"400\" /></a> <a href=\"https://en.wikibooks.org/wiki/Hacking\" class=\"extiw\" title=\"wikibooks:Hacking\">Hacking</a> at Wikibooks</li>\\n<li><a href=\"/wiki/File:Wiktionary-logo-en-v2.svg\" class=\"image\"><img alt=\"\" src=\"//upload.wikimedia.org/wikipedia/commons/thumb/9/99/Wiktionary-logo-en-v2.svg/16px-Wiktionary-logo-en-v2.svg.png\" decoding=\"async\" width=\"16\" height=\"16\" class=\"noviewer\" srcset=\"//upload.wikimedia.org/wikipedia/commons/thumb/9/99/Wiktionary-logo-en-v2.svg/24px-Wiktionary-logo-en-v2.svg.png 1.5x, //upload.wikimedia.org/wikipedia/commons/thumb/9/99/Wiktionary-logo-en-v2.svg/32px-Wiktionary-logo-en-v2.svg.png 2x\" data-file-width=\"512\" data-file-height=\"512\" /></a> The dictionary definition of <a href=\"https://en.wiktionary.org/wiki/Hacker\" class=\"extiw\" title=\"wiktionary:Hacker\"><i>Hacker</i></a> at Wiktionary</li>\\n<li><a href=\"/wiki/File:Commons-logo.svg\" class=\"image\"><img alt=\"\" src=\"//upload.wikimedia.org/wikipedia/en/thumb/4/4a/Commons-logo.svg/12px-Commons-logo.svg.png\" decoding=\"async\" width=\"12\" height=\"16\" class=\"noviewer\" srcset=\"//upload.wikimedia.org/wikipedia/en/thumb/4/4a/Commons-logo.svg/18px-Commons-logo.svg.png 1.5x, //upload.wikimedia.org/wikipedia/en/thumb/4/4a/Commons-logo.svg/24px-Commons-logo.svg.png 2x\" data-file-width=\"1024\" data-file-height=\"1376\" /></a> Media related to <a href=\"https://commons.wikimedia.org/wiki/Category:Hackers\" class=\"extiw\" title=\"commons:Category:Hackers\">Hackers</a> at Wikimedia Commons</li></ul>\\n<div role=\"navigation\" class=\"navbox authority-control\" aria-labelledby=\"Authority_control_frameless_&amp;#124;text-top_&amp;#124;10px_&amp;#124;alt=Edit_this_at_Wikidata_&amp;#124;link=https&amp;#58;//www.wikidata.org/wiki/Q1487#identifiers&amp;#124;Edit_this_at_Wikidata\" style=\"padding:3px\"><table class=\"nowraplinks hlist mw-collapsible autocollapse navbox-inner\" style=\"border-spacing:0;background:transparent;color:inherit\"><tbody><tr><th scope=\"col\" class=\"navbox-title\" colspan=\"2\"><div id=\"Authority_control_frameless_&amp;#124;text-top_&amp;#124;10px_&amp;#124;alt=Edit_this_at_Wikidata_&amp;#124;link=https&amp;#58;//www.wikidata.org/wiki/Q1487#identifiers&amp;#124;Edit_this_at_Wikidata\" style=\"font-size:114%;margin:0 4em\"><a href=\"/wiki/Help:Authority_control\" title=\"Help:Authority control\">Authority control</a> <a href=\"https://www.wikidata.org/wiki/Q1487#identifiers\" title=\"Edit this at Wikidata\"><img alt=\"Edit this at Wikidata\" src=\"//upload.wikimedia.org/wikipedia/en/thumb/8/8a/OOjs_UI_icon_edit-ltr-progressive.svg/10px-OOjs_UI_icon_edit-ltr-progressive.svg.png\" decoding=\"async\" width=\"10\" height=\"10\" style=\"vertical-align: text-top\" srcset=\"//upload.wikimedia.org/wikipedia/en/thumb/8/8a/OOjs_UI_icon_edit-ltr-progressive.svg/15px-OOjs_UI_icon_edit-ltr-progressive.svg.png 1.5x, //upload.wikimedia.org/wikipedia/en/thumb/8/8a/OOjs_UI_icon_edit-ltr-progressive.svg/20px-OOjs_UI_icon_edit-ltr-progressive.svg.png 2x\" data-file-width=\"20\" data-file-height=\"20\" /></a></div></th></tr><tr><th scope=\"row\" class=\"navbox-group\" style=\"width:1%\">General</th><td class=\"navbox-list navbox-odd\" style=\"text-align:left;border-left-width:2px;border-left-style:solid;width:100%;padding:0px\"><div style=\"padding:0em 0.25em\">\\n<ul><li><span class=\"uid\"><a rel=\"nofollow\" class=\"external text\" href=\"https://d-nb.info/gnd/4113821-1\">Integrated Authority File (Germany)</a></span></li></ul>\\n</div></td></tr><tr><th scope=\"row\" class=\"navbox-group\" style=\"width:1%\">National libraries</th><td class=\"navbox-list navbox-even\" style=\"text-align:left;border-left-width:2px;border-left-style:solid;width:100%;padding:0px\"><div style=\"padding:0em 0.25em\">\\n<ul><li><span class=\"uid\"><a rel=\"nofollow\" class=\"external text\" href=\"https://catalogue.bnf.fr/ark:/12148/cb13770079h\">France</a> <a rel=\"nofollow\" class=\"external text\" href=\"https://data.bnf.fr/ark:/12148/cb13770079h\">(data)</a></span></li>\\n<li><span class=\"uid\"><a rel=\"nofollow\" class=\"external text\" href=\"https://id.loc.gov/authorities/subjects/sh94005931\">United States</a></span></li></ul>\\n</div></td></tr></tbody></table></div>\\n<!-- \\nNewPP limit report\\nParsed by mw1353\\nCached time: 20211016015543\\nCache expiry: 1814400\\nReduced expiry: false\\nComplications: [vary‐revision‐sha1]\\nCPU time usage: 0.710 seconds\\nReal time usage: 0.857 seconds\\nPreprocessor visited node count: 2282/1000000\\nPost‐expand include size: 96768/2097152 bytes\\nTemplate argument size: 6439/2097152 bytes\\nHighest expansion depth: 13/40\\nExpensive parser function count: 8/500\\nUnstrip recursion depth: 1/20\\nUnstrip post‐expand size: 104625/5000000 bytes\\nLua time usage: 0.438/10.000 seconds\\nLua memory usage: 8255752/52428800 bytes\\nNumber of Wikibase entities loaded: 1/400\\n-->\\n<!--\\nTransclusion expansion time report (%,ms,calls,template)\\n100.00%  754.931      1 -total\\n 29.17%  220.237      1 Template:Reflist\\n 13.80%  104.148      3 Template:Cite_journal\\n 12.96%   97.854      1 Template:Short_description\\n 12.56%   94.845     21 Template:Cite_book\\n 10.65%   80.385      1 Template:Computer_hacking\\n 10.20%   77.016      1 Template:Sidebar\\n  8.76%   66.095      3 Template:Ambox\\n  8.08%   60.989      1 Template:Pp-semi-indef\\n  7.78%   58.738      1 Template:Pagetype\\n-->\\n\\n<!-- Saved in parser cache with key enwiki:pcache:idhash:13533-0!canonical and timestamp 20211016015542 and revision id 1049374446. Serialized with JSON.\\n -->\\n</div><noscript><img src=\"//en.wikipedia.org/wiki/Special:CentralAutoLogin/start?type=1x1\" alt=\"\" title=\"\" width=\"1\" height=\"1\" style=\"border: none; position: absolute;\" /></noscript>\\n<div class=\"printfooter\">Retrieved from \"<a dir=\"ltr\" href=\"https://en.wikipedia.org/w/index.php?title=Hacker&amp;oldid=1049374446\">https://en.wikipedia.org/w/index.php?title=Hacker&amp;oldid=1049374446</a>\"</div></div>\\n\\t\\t<div id=\"catlinks\" class=\"catlinks\" data-mw=\"interface\"><div id=\"mw-normal-catlinks\" class=\"mw-normal-catlinks\"><a href=\"/wiki/Help:Category\" title=\"Help:Category\">Categories</a>: <ul><li><a href=\"/wiki/Category:Hacking_(computer_security)\" title=\"Category:Hacking (computer security)\">Hacking (computer security)</a></li><li><a href=\"/wiki/Category:Hacker_culture\" title=\"Category:Hacker culture\">Hacker culture</a></li><li><a href=\"/wiki/Category:Computing_culture\" title=\"Category:Computing culture\">Computing culture</a></li><li><a href=\"/wiki/Category:Computing_terminology\" title=\"Category:Computing terminology\">Computing terminology</a></li><li><a href=\"/wiki/Category:Computer_programming\" title=\"Category:Computer programming\">Computer programming</a></li><li><a href=\"/wiki/Category:Computer_viruses\" title=\"Category:Computer viruses\">Computer viruses</a></li><li><a href=\"/wiki/Category:Internet_security\" title=\"Category:Internet security\">Internet security</a></li></ul></div><div id=\"mw-hidden-catlinks\" class=\"mw-hidden-catlinks mw-hidden-cats-hidden\">Hidden categories: <ul><li><a href=\"/wiki/Category:Webarchive_template_wayback_links\" title=\"Category:Webarchive template wayback links\">Webarchive template wayback links</a></li><li><a href=\"/wiki/Category:Articles_with_short_description\" title=\"Category:Articles with short description\">Articles with short description</a></li><li><a href=\"/wiki/Category:Short_description_is_different_from_Wikidata\" title=\"Category:Short description is different from Wikidata\">Short description is different from Wikidata</a></li><li><a href=\"/wiki/Category:Wikipedia_indefinitely_semi-protected_pages\" title=\"Category:Wikipedia indefinitely semi-protected pages\">Wikipedia indefinitely semi-protected pages</a></li><li><a href=\"/wiki/Category:Wikipedia_articles_needing_reorganization_from_September_2017\" title=\"Category:Wikipedia articles needing reorganization from September 2017\">Wikipedia articles needing reorganization from September 2017</a></li><li><a href=\"/wiki/Category:Articles_that_may_contain_original_research_from_October_2020\" title=\"Category:Articles that may contain original research from October 2020\">Articles that may contain original research from October 2020</a></li><li><a href=\"/wiki/Category:All_articles_that_may_contain_original_research\" title=\"Category:All articles that may contain original research\">All articles that may contain original research</a></li><li><a href=\"/wiki/Category:Articles_with_multiple_maintenance_issues\" title=\"Category:Articles with multiple maintenance issues\">Articles with multiple maintenance issues</a></li><li><a href=\"/wiki/Category:Commons_category_link_is_on_Wikidata\" title=\"Category:Commons category link is on Wikidata\">Commons category link is on Wikidata</a></li><li><a href=\"/wiki/Category:Articles_with_GND_identifiers\" title=\"Category:Articles with GND identifiers\">Articles with GND identifiers</a></li><li><a href=\"/wiki/Category:Articles_with_BNF_identifiers\" title=\"Category:Articles with BNF identifiers\">Articles with BNF identifiers</a></li><li><a href=\"/wiki/Category:Articles_with_LCCN_identifiers\" title=\"Category:Articles with LCCN identifiers\">Articles with LCCN identifiers</a></li></ul></div></div>\\n\\t</div>\\n</div>\\n<div id=\\'mw-data-after-content\\'>\\n\\t<div class=\"read-more-container\"></div>\\n</div>\\n\\n<div id=\"mw-navigation\">\\n\\t<h2>Navigation menu</h2>\\n\\t<div id=\"mw-head\">\\n\\t\\t<nav id=\"p-personal\" class=\"mw-portlet mw-portlet-personal vector-user-menu-legacy vector-menu\" aria-labelledby=\"p-personal-label\" role=\"navigation\" \\n\\t >\\n\\t<h3 id=\"p-personal-label\" aria-label=\"\" class=\"vector-menu-heading\">\\n\\t\\t\\n\\t\\t<span>Personal tools</span>\\n\\t</h3>\\n\\t<div class=\"vector-menu-content\">\\n\\t\\t\\n\\t\\t<ul class=\"vector-menu-content-list\"><li id=\"pt-anonuserpage\" class=\"mw-list-item\"><span>Not logged in</span></li><li id=\"pt-anontalk\" class=\"mw-list-item\"><a href=\"/wiki/Special:MyTalk\" title=\"Discussion about edits from this IP address [n]\" accesskey=\"n\"><span>Talk</span></a></li><li id=\"pt-anoncontribs\" class=\"mw-list-item\"><a href=\"/wiki/Special:MyContributions\" title=\"A list of edits made from this IP address [y]\" accesskey=\"y\"><span>Contributions</span></a></li><li id=\"pt-createaccount\" class=\"mw-list-item\"><a href=\"/w/index.php?title=Special:CreateAccount&amp;returnto=Hacker\" title=\"You are encouraged to create an account and log in; however, it is not mandatory\"><span>Create account</span></a></li><li id=\"pt-login\" class=\"mw-list-item\"><a href=\"/w/index.php?title=Special:UserLogin&amp;returnto=Hacker\" title=\"You&#039;re encouraged to log in; however, it&#039;s not mandatory. [o]\" accesskey=\"o\"><span>Log in</span></a></li></ul>\\n\\t\\t\\n\\t</div>\\n</nav>\\n\\n\\t\\t<div id=\"left-navigation\">\\n\\t\\t\\t<nav id=\"p-namespaces\" class=\"mw-portlet mw-portlet-namespaces vector-menu vector-menu-tabs\" aria-labelledby=\"p-namespaces-label\" role=\"navigation\" \\n\\t >\\n\\t<h3 id=\"p-namespaces-label\" aria-label=\"\" class=\"vector-menu-heading\">\\n\\t\\t\\n\\t\\t<span>Namespaces</span>\\n\\t</h3>\\n\\t<div class=\"vector-menu-content\">\\n\\t\\t\\n\\t\\t<ul class=\"vector-menu-content-list\"><li id=\"ca-nstab-main\" class=\"selected mw-list-item\"><a href=\"/wiki/Hacker\" title=\"View the content page [c]\" accesskey=\"c\"><span>Article</span></a></li><li id=\"ca-talk\" class=\"mw-list-item\"><a href=\"/wiki/Talk:Hacker\" rel=\"discussion\" title=\"Discuss improvements to the content page [t]\" accesskey=\"t\"><span>Talk</span></a></li></ul>\\n\\t\\t\\n\\t</div>\\n</nav>\\n\\n\\t\\t\\t<nav id=\"p-variants\" class=\"mw-portlet mw-portlet-variants emptyPortlet vector-menu-dropdown-noicon vector-menu vector-menu-dropdown\" aria-labelledby=\"p-variants-label\" role=\"navigation\" \\n\\t >\\n\\t<input type=\"checkbox\"\\n\\t\\tid=\"p-variants-checkbox\"\\n\\t\\trole=\"button\"\\n\\t\\taria-haspopup=\"true\"\\n\\t\\tdata-event-name=\"ui.dropdown-p-variants\"\\n\\t\\tclass=\"vector-menu-checkbox\" aria-labelledby=\"p-variants-label\" />\\n\\t<h3 id=\"p-variants-label\" aria-label=\"Change language variant\" class=\"vector-menu-heading\">\\n\\t\\t\\n\\t\\t<span>Variants</span>\\n\\t\\t\\t<span class=\"vector-menu-checkbox-expanded\">expanded</span>\\n\\t\\t\\t<span class=\"vector-menu-checkbox-collapsed\">collapsed</span>\\n\\t</h3>\\n\\t<div class=\"vector-menu-content\">\\n\\t\\t\\n\\t\\t<ul class=\"vector-menu-content-list\"></ul>\\n\\t\\t\\n\\t</div>\\n</nav>\\n\\n\\t\\t</div>\\n\\t\\t<div id=\"right-navigation\">\\n\\t\\t\\t<nav id=\"p-views\" class=\"mw-portlet mw-portlet-views vector-menu vector-menu-tabs\" aria-labelledby=\"p-views-label\" role=\"navigation\" \\n\\t >\\n\\t<h3 id=\"p-views-label\" aria-label=\"\" class=\"vector-menu-heading\">\\n\\t\\t\\n\\t\\t<span>Views</span>\\n\\t</h3>\\n\\t<div class=\"vector-menu-content\">\\n\\t\\t\\n\\t\\t<ul class=\"vector-menu-content-list\"><li id=\"ca-view\" class=\"selected mw-list-item\"><a href=\"/wiki/Hacker\"><span>Read</span></a></li><li id=\"ca-viewsource\" class=\"mw-list-item\"><a href=\"/w/index.php?title=Hacker&amp;action=edit\" title=\"This page is protected.&#10;You can view its source [e]\" accesskey=\"e\"><span>View source</span></a></li><li id=\"ca-history\" class=\"mw-list-item\"><a href=\"/w/index.php?title=Hacker&amp;action=history\" title=\"Past revisions of this page [h]\" accesskey=\"h\"><span>View history</span></a></li></ul>\\n\\t\\t\\n\\t</div>\\n</nav>\\n\\n\\t\\t\\t<nav id=\"p-cactions\" class=\"mw-portlet mw-portlet-cactions emptyPortlet vector-menu-dropdown-noicon vector-menu vector-menu-dropdown\" aria-labelledby=\"p-cactions-label\" role=\"navigation\"  title=\"More options\"\\n\\t >\\n\\t<input type=\"checkbox\"\\n\\t\\tid=\"p-cactions-checkbox\"\\n\\t\\trole=\"button\"\\n\\t\\taria-haspopup=\"true\"\\n\\t\\tdata-event-name=\"ui.dropdown-p-cactions\"\\n\\t\\tclass=\"vector-menu-checkbox\" aria-labelledby=\"p-cactions-label\" />\\n\\t<h3 id=\"p-cactions-label\" aria-label=\"\" class=\"vector-menu-heading\">\\n\\t\\t\\n\\t\\t<span>More</span>\\n\\t\\t\\t<span class=\"vector-menu-checkbox-expanded\">expanded</span>\\n\\t\\t\\t<span class=\"vector-menu-checkbox-collapsed\">collapsed</span>\\n\\t</h3>\\n\\t<div class=\"vector-menu-content\">\\n\\t\\t\\n\\t\\t<ul class=\"vector-menu-content-list\"></ul>\\n\\t\\t\\n\\t</div>\\n</nav>\\n\\n\\t\\t\\t<div id=\"p-search\" role=\"search\" class=\" vector-search-box\">\\n\\t<div>\\n\\t\\t\\t<h3 >\\n\\t\\t\\t\\t<label for=\"searchInput\">Search</label>\\n\\t\\t\\t</h3>\\n\\t\\t<form action=\"/w/index.php\" id=\"searchform\"\\n\\t\\t\\tclass=\"vector-search-box-form\">\\n\\t\\t\\t<div id=\"simpleSearch\"\\n\\t\\t\\t\\tclass=\"vector-search-box-inner\"\\n\\t\\t\\t\\t data-search-loc=\"header-navigation\">\\n\\t\\t\\t\\t<input class=\"vector-search-box-input\"\\n\\t\\t\\t\\t\\t type=\"search\" name=\"search\" placeholder=\"Search Wikipedia\" autocapitalize=\"sentences\" title=\"Search Wikipedia [f]\" accesskey=\"f\" id=\"searchInput\"\\n\\t\\t\\t\\t/>\\n\\t\\t\\t\\t<input type=\"hidden\" name=\"title\" value=\"Special:Search\"/>\\n\\t\\t\\t\\t<input id=\"mw-searchButton\"\\n\\t\\t\\t\\t\\t class=\"searchButton mw-fallbackSearchButton\" type=\"submit\" name=\"fulltext\" title=\"Search Wikipedia for this text\" value=\"Search\" />\\n\\t\\t\\t\\t<input id=\"searchButton\"\\n\\t\\t\\t\\t\\t class=\"searchButton\" type=\"submit\" name=\"go\" title=\"Go to a page with this exact name if it exists\" value=\"Go\" />\\n\\t\\t\\t</div>\\n\\t\\t</form>\\n\\t</div>\\n</div>\\n\\n\\t\\t</div>\\n\\t</div>\\n\\t\\n<div id=\"mw-panel\">\\n\\t<div id=\"p-logo\" role=\"banner\">\\n\\t\\t<a class=\"mw-wiki-logo\" href=\"/wiki/Main_Page\"\\n\\t\\t\\ttitle=\"Visit the main page\"></a>\\n\\t</div>\\n\\t<nav id=\"p-navigation\" class=\"mw-portlet mw-portlet-navigation vector-menu vector-menu-portal portal\" aria-labelledby=\"p-navigation-label\" role=\"navigation\" \\n\\t >\\n\\t<h3 id=\"p-navigation-label\" aria-label=\"\" class=\"vector-menu-heading\">\\n\\t\\t\\n\\t\\t<span>Navigation</span>\\n\\t</h3>\\n\\t<div class=\"vector-menu-content\">\\n\\t\\t\\n\\t\\t<ul class=\"vector-menu-content-list\"><li id=\"n-mainpage-description\" class=\"mw-list-item\"><a href=\"/wiki/Main_Page\" title=\"Visit the main page [z]\" accesskey=\"z\"><span>Main page</span></a></li><li id=\"n-contents\" class=\"mw-list-item\"><a href=\"/wiki/Wikipedia:Contents\" title=\"Guides to browsing Wikipedia\"><span>Contents</span></a></li><li id=\"n-currentevents\" class=\"mw-list-item\"><a href=\"/wiki/Portal:Current_events\" title=\"Articles related to current events\"><span>Current events</span></a></li><li id=\"n-randompage\" class=\"mw-list-item\"><a href=\"/wiki/Special:Random\" title=\"Visit a randomly selected article [x]\" accesskey=\"x\"><span>Random article</span></a></li><li id=\"n-aboutsite\" class=\"mw-list-item\"><a href=\"/wiki/Wikipedia:About\" title=\"Learn about Wikipedia and how it works\"><span>About Wikipedia</span></a></li><li id=\"n-contactpage\" class=\"mw-list-item\"><a href=\"//en.wikipedia.org/wiki/Wikipedia:Contact_us\" title=\"How to contact Wikipedia\"><span>Contact us</span></a></li><li id=\"n-sitesupport\" class=\"mw-list-item\"><a href=\"https://donate.wikimedia.org/wiki/Special:FundraiserRedirector?utm_source=donate&amp;utm_medium=sidebar&amp;utm_campaign=C13_en.wikipedia.org&amp;uselang=en\" title=\"Support us by donating to the Wikimedia Foundation\"><span>Donate</span></a></li></ul>\\n\\t\\t\\n\\t</div>\\n</nav>\\n\\n\\t<nav id=\"p-interaction\" class=\"mw-portlet mw-portlet-interaction vector-menu vector-menu-portal portal\" aria-labelledby=\"p-interaction-label\" role=\"navigation\" \\n\\t >\\n\\t<h3 id=\"p-interaction-label\" aria-label=\"\" class=\"vector-menu-heading\">\\n\\t\\t\\n\\t\\t<span>Contribute</span>\\n\\t</h3>\\n\\t<div class=\"vector-menu-content\">\\n\\t\\t\\n\\t\\t<ul class=\"vector-menu-content-list\"><li id=\"n-help\" class=\"mw-list-item\"><a href=\"/wiki/Help:Contents\" title=\"Guidance on how to use and edit Wikipedia\"><span>Help</span></a></li><li id=\"n-introduction\" class=\"mw-list-item\"><a href=\"/wiki/Help:Introduction\" title=\"Learn how to edit Wikipedia\"><span>Learn to edit</span></a></li><li id=\"n-portal\" class=\"mw-list-item\"><a href=\"/wiki/Wikipedia:Community_portal\" title=\"The hub for editors\"><span>Community portal</span></a></li><li id=\"n-recentchanges\" class=\"mw-list-item\"><a href=\"/wiki/Special:RecentChanges\" title=\"A list of recent changes to Wikipedia [r]\" accesskey=\"r\"><span>Recent changes</span></a></li><li id=\"n-upload\" class=\"mw-list-item\"><a href=\"/wiki/Wikipedia:File_Upload_Wizard\" title=\"Add images or other media for use on Wikipedia\"><span>Upload file</span></a></li></ul>\\n\\t\\t\\n\\t</div>\\n</nav>\\n<nav id=\"p-tb\" class=\"mw-portlet mw-portlet-tb vector-menu vector-menu-portal portal\" aria-labelledby=\"p-tb-label\" role=\"navigation\" \\n\\t >\\n\\t<h3 id=\"p-tb-label\" aria-label=\"\" class=\"vector-menu-heading\">\\n\\t\\t\\n\\t\\t<span>Tools</span>\\n\\t</h3>\\n\\t<div class=\"vector-menu-content\">\\n\\t\\t\\n\\t\\t<ul class=\"vector-menu-content-list\"><li id=\"t-whatlinkshere\" class=\"mw-list-item\"><a href=\"/wiki/Special:WhatLinksHere/Hacker\" title=\"List of all English Wikipedia pages containing links to this page [j]\" accesskey=\"j\"><span>What links here</span></a></li><li id=\"t-recentchangeslinked\" class=\"mw-list-item\"><a href=\"/wiki/Special:RecentChangesLinked/Hacker\" rel=\"nofollow\" title=\"Recent changes in pages linked from this page [k]\" accesskey=\"k\"><span>Related changes</span></a></li><li id=\"t-upload\" class=\"mw-list-item\"><a href=\"/wiki/Wikipedia:File_Upload_Wizard\" title=\"Upload files [u]\" accesskey=\"u\"><span>Upload file</span></a></li><li id=\"t-specialpages\" class=\"mw-list-item\"><a href=\"/wiki/Special:SpecialPages\" title=\"A list of all special pages [q]\" accesskey=\"q\"><span>Special pages</span></a></li><li id=\"t-permalink\" class=\"mw-list-item\"><a href=\"/w/index.php?title=Hacker&amp;oldid=1049374446\" title=\"Permanent link to this revision of this page\"><span>Permanent link</span></a></li><li id=\"t-info\" class=\"mw-list-item\"><a href=\"/w/index.php?title=Hacker&amp;action=info\" title=\"More information about this page\"><span>Page information</span></a></li><li id=\"t-cite\" class=\"mw-list-item\"><a href=\"/w/index.php?title=Special:CiteThisPage&amp;page=Hacker&amp;id=1049374446&amp;wpFormIdentifier=titleform\" title=\"Information on how to cite this page\"><span>Cite this page</span></a></li><li id=\"t-wikibase\" class=\"mw-list-item\"><a href=\"https://www.wikidata.org/wiki/Special:EntityPage/Q1487\" title=\"Structured data on this page hosted by Wikidata [g]\" accesskey=\"g\"><span>Wikidata item</span></a></li></ul>\\n\\t\\t\\n\\t</div>\\n</nav>\\n<nav id=\"p-coll-print_export\" class=\"mw-portlet mw-portlet-coll-print_export vector-menu vector-menu-portal portal\" aria-labelledby=\"p-coll-print_export-label\" role=\"navigation\" \\n\\t >\\n\\t<h3 id=\"p-coll-print_export-label\" aria-label=\"\" class=\"vector-menu-heading\">\\n\\t\\t\\n\\t\\t<span>Print/export</span>\\n\\t</h3>\\n\\t<div class=\"vector-menu-content\">\\n\\t\\t\\n\\t\\t<ul class=\"vector-menu-content-list\"><li id=\"coll-download-as-rl\" class=\"mw-list-item\"><a href=\"/w/index.php?title=Special:DownloadAsPdf&amp;page=Hacker&amp;action=show-download-screen\" title=\"Download this page as a PDF file\"><span>Download as PDF</span></a></li><li id=\"t-print\" class=\"mw-list-item\"><a href=\"/w/index.php?title=Hacker&amp;printable=yes\" title=\"Printable version of this page [p]\" accesskey=\"p\"><span>Printable version</span></a></li></ul>\\n\\t\\t\\n\\t</div>\\n</nav>\\n<nav id=\"p-wikibase-otherprojects\" class=\"mw-portlet mw-portlet-wikibase-otherprojects vector-menu vector-menu-portal portal\" aria-labelledby=\"p-wikibase-otherprojects-label\" role=\"navigation\" \\n\\t >\\n\\t<h3 id=\"p-wikibase-otherprojects-label\" aria-label=\"\" class=\"vector-menu-heading\">\\n\\t\\t\\n\\t\\t<span>In other projects</span>\\n\\t</h3>\\n\\t<div class=\"vector-menu-content\">\\n\\t\\t\\n\\t\\t<ul class=\"vector-menu-content-list\"><li class=\"wb-otherproject-link wb-otherproject-commons mw-list-item\"><a href=\"https://commons.wikimedia.org/wiki/Category:Hackers\" hreflang=\"en\"><span>Wikimedia Commons</span></a></li></ul>\\n\\t\\t\\n\\t</div>\\n</nav>\\n\\n\\t<nav id=\"p-lang\" class=\"mw-portlet mw-portlet-lang vector-menu vector-menu-portal portal\" aria-labelledby=\"p-lang-label\" role=\"navigation\" \\n\\t >\\n\\t<h3 id=\"p-lang-label\" aria-label=\"\" class=\"vector-menu-heading\">\\n\\t\\t\\n\\t\\t<span>Languages</span>\\n\\t</h3>\\n\\t<div class=\"vector-menu-content\">\\n\\t\\t\\n\\t\\t<ul class=\"vector-menu-content-list\"><li class=\"interlanguage-link interwiki-af mw-list-item\"><a href=\"https://af.wikipedia.org/wiki/Kuberkraker\" title=\"Kuberkraker – Afrikaans\" lang=\"af\" hreflang=\"af\" class=\"interlanguage-link-target\"><span>Afrikaans</span></a></li><li class=\"interlanguage-link interwiki-ar mw-list-item\"><a href=\"https://ar.wikipedia.org/wiki/%D9%85%D8%AE%D8%AA%D8%B1%D9%82\" title=\"مخترق – Arabic\" lang=\"ar\" hreflang=\"ar\" class=\"interlanguage-link-target\"><span>العربية</span></a></li><li class=\"interlanguage-link interwiki-ast mw-list-item\"><a href=\"https://ast.wikipedia.org/wiki/Hacker\" title=\"Hacker – Asturian\" lang=\"ast\" hreflang=\"ast\" class=\"interlanguage-link-target\"><span>Asturianu</span></a></li><li class=\"interlanguage-link interwiki-az mw-list-item\"><a href=\"https://az.wikipedia.org/wiki/Haker\" title=\"Haker – Azerbaijani\" lang=\"az\" hreflang=\"az\" class=\"interlanguage-link-target\"><span>Azərbaycanca</span></a></li><li class=\"interlanguage-link interwiki-bh mw-list-item\"><a href=\"https://bh.wikipedia.org/wiki/%E0%A4%B9%E0%A5%88%E0%A4%95%E0%A4%B0\" title=\"हैकर – Bhojpuri\" lang=\"bh\" hreflang=\"bh\" class=\"interlanguage-link-target\"><span>भोजपुरी</span></a></li><li class=\"interlanguage-link interwiki-bs mw-list-item\"><a href=\"https://bs.wikipedia.org/wiki/Haker\" title=\"Haker – Bosnian\" lang=\"bs\" hreflang=\"bs\" class=\"interlanguage-link-target\"><span>Bosanski</span></a></li><li class=\"interlanguage-link interwiki-ca mw-list-item\"><a href=\"https://ca.wikipedia.org/wiki/Furoner\" title=\"Furoner – Catalan\" lang=\"ca\" hreflang=\"ca\" class=\"interlanguage-link-target\"><span>Català</span></a></li><li class=\"interlanguage-link interwiki-cv mw-list-item\"><a href=\"https://cv.wikipedia.org/wiki/%D0%A5%D0%B0%D0%BA%D0%B5%D1%80\" title=\"Хакер – Chuvash\" lang=\"cv\" hreflang=\"cv\" class=\"interlanguage-link-target\"><span>Чӑвашла</span></a></li><li class=\"interlanguage-link interwiki-cs mw-list-item\"><a href=\"https://cs.wikipedia.org/wiki/Hacker\" title=\"Hacker – Czech\" lang=\"cs\" hreflang=\"cs\" class=\"interlanguage-link-target\"><span>Čeština</span></a></li><li class=\"interlanguage-link interwiki-da mw-list-item\"><a href=\"https://da.wikipedia.org/wiki/Hacker\" title=\"Hacker – Danish\" lang=\"da\" hreflang=\"da\" class=\"interlanguage-link-target\"><span>Dansk</span></a></li><li class=\"interlanguage-link interwiki-de mw-list-item\"><a href=\"https://de.wikipedia.org/wiki/Hacker\" title=\"Hacker – German\" lang=\"de\" hreflang=\"de\" class=\"interlanguage-link-target\"><span>Deutsch</span></a></li><li class=\"interlanguage-link interwiki-et mw-list-item\"><a href=\"https://et.wikipedia.org/wiki/H%C3%A4kker\" title=\"Häkker – Estonian\" lang=\"et\" hreflang=\"et\" class=\"interlanguage-link-target\"><span>Eesti</span></a></li><li class=\"interlanguage-link interwiki-es mw-list-item\"><a href=\"https://es.wikipedia.org/wiki/Hacker\" title=\"Hacker – Spanish\" lang=\"es\" hreflang=\"es\" class=\"interlanguage-link-target\"><span>Español</span></a></li><li class=\"interlanguage-link interwiki-eo mw-list-item\"><a href=\"https://eo.wikipedia.org/wiki/Kodumulo\" title=\"Kodumulo – Esperanto\" lang=\"eo\" hreflang=\"eo\" class=\"interlanguage-link-target\"><span>Esperanto</span></a></li><li class=\"interlanguage-link interwiki-eu mw-list-item\"><a href=\"https://eu.wikipedia.org/wiki/Hacker\" title=\"Hacker – Basque\" lang=\"eu\" hreflang=\"eu\" class=\"interlanguage-link-target\"><span>Euskara</span></a></li><li class=\"interlanguage-link interwiki-fa mw-list-item\"><a href=\"https://fa.wikipedia.org/wiki/%D9%87%DA%A9%D8%B1\" title=\"هکر – Persian\" lang=\"fa\" hreflang=\"fa\" class=\"interlanguage-link-target\"><span>فارسی</span></a></li><li class=\"interlanguage-link interwiki-fr mw-list-item\"><a href=\"https://fr.wikipedia.org/wiki/Hacker_(sous-culture)\" title=\"Hacker (sous-culture) – French\" lang=\"fr\" hreflang=\"fr\" class=\"interlanguage-link-target\"><span>Français</span></a></li><li class=\"interlanguage-link interwiki-gl mw-list-item\"><a href=\"https://gl.wikipedia.org/wiki/Hacker\" title=\"Hacker – Galician\" lang=\"gl\" hreflang=\"gl\" class=\"interlanguage-link-target\"><span>Galego</span></a></li><li class=\"interlanguage-link interwiki-ko mw-list-item\"><a href=\"https://ko.wikipedia.org/wiki/%ED%95%B4%EC%BB%A4\" title=\"해커 – Korean\" lang=\"ko\" hreflang=\"ko\" class=\"interlanguage-link-target\"><span>한국어</span></a></li><li class=\"interlanguage-link interwiki-hy mw-list-item\"><a href=\"https://hy.wikipedia.org/wiki/%D5%80%D5%A1%D6%84%D5%A5%D6%80\" title=\"Հաքեր – Armenian\" lang=\"hy\" hreflang=\"hy\" class=\"interlanguage-link-target\"><span>Հայերեն</span></a></li><li class=\"interlanguage-link interwiki-hr mw-list-item\"><a href=\"https://hr.wikipedia.org/wiki/Haker\" title=\"Haker – Croatian\" lang=\"hr\" hreflang=\"hr\" class=\"interlanguage-link-target\"><span>Hrvatski</span></a></li><li class=\"interlanguage-link interwiki-id mw-list-item\"><a href=\"https://id.wikipedia.org/wiki/Peretas\" title=\"Peretas – Indonesian\" lang=\"id\" hreflang=\"id\" class=\"interlanguage-link-target\"><span>Bahasa Indonesia</span></a></li><li class=\"interlanguage-link interwiki-is mw-list-item\"><a href=\"https://is.wikipedia.org/wiki/T%C3%B6lvu%C3%BErj%C3%B3tur\" title=\"Tölvuþrjótur – Icelandic\" lang=\"is\" hreflang=\"is\" class=\"interlanguage-link-target\"><span>Íslenska</span></a></li><li class=\"interlanguage-link interwiki-it mw-list-item\"><a href=\"https://it.wikipedia.org/wiki/Hacker\" title=\"Hacker – Italian\" lang=\"it\" hreflang=\"it\" class=\"interlanguage-link-target\"><span>Italiano</span></a></li><li class=\"interlanguage-link interwiki-he mw-list-item\"><a href=\"https://he.wikipedia.org/wiki/%D7%94%D7%90%D7%A7%D7%A8\" title=\"האקר – Hebrew\" lang=\"he\" hreflang=\"he\" class=\"interlanguage-link-target\"><span>עברית</span></a></li><li class=\"interlanguage-link interwiki-jv mw-list-item\"><a href=\"https://jv.wikipedia.org/wiki/Hacker\" title=\"Hacker – Javanese\" lang=\"jv\" hreflang=\"jv\" class=\"interlanguage-link-target\"><span>Jawa</span></a></li><li class=\"interlanguage-link interwiki-ka mw-list-item\"><a href=\"https://ka.wikipedia.org/wiki/%E1%83%B0%E1%83%90%E1%83%99%E1%83%94%E1%83%A0%E1%83%98\" title=\"ჰაკერი – Georgian\" lang=\"ka\" hreflang=\"ka\" class=\"interlanguage-link-target\"><span>ქართული</span></a></li><li class=\"interlanguage-link interwiki-kk mw-list-item\"><a href=\"https://kk.wikipedia.org/wiki/%D0%A5%D0%B0%D0%BA%D0%B5%D1%80\" title=\"Хакер – Kazakh\" lang=\"kk\" hreflang=\"kk\" class=\"interlanguage-link-target\"><span>Қазақша</span></a></li><li class=\"interlanguage-link interwiki-sw mw-list-item\"><a href=\"https://sw.wikipedia.org/wiki/Mdukuzi\" title=\"Mdukuzi – Swahili\" lang=\"sw\" hreflang=\"sw\" class=\"interlanguage-link-target\"><span>Kiswahili</span></a></li><li class=\"interlanguage-link interwiki-ky mw-list-item\"><a href=\"https://ky.wikipedia.org/wiki/%D0%A5%D0%B0%D0%BA%D0%B5%D1%80\" title=\"Хакер – Kyrgyz\" lang=\"ky\" hreflang=\"ky\" class=\"interlanguage-link-target\"><span>Кыргызча</span></a></li><li class=\"interlanguage-link interwiki-lv mw-list-item\"><a href=\"https://lv.wikipedia.org/wiki/Ur%C4%B7is\" title=\"Urķis – Latvian\" lang=\"lv\" hreflang=\"lv\" class=\"interlanguage-link-target\"><span>Latviešu</span></a></li><li class=\"interlanguage-link interwiki-lb mw-list-item\"><a href=\"https://lb.wikipedia.org/wiki/Hacker\" title=\"Hacker – Luxembourgish\" lang=\"lb\" hreflang=\"lb\" class=\"interlanguage-link-target\"><span>Lëtzebuergesch</span></a></li><li class=\"interlanguage-link interwiki-lmo mw-list-item\"><a href=\"https://lmo.wikipedia.org/wiki/Hacker\" title=\"Hacker – Lombard\" lang=\"lmo\" hreflang=\"lmo\" class=\"interlanguage-link-target\"><span>Lombard</span></a></li><li class=\"interlanguage-link interwiki-hu mw-list-item\"><a href=\"https://hu.wikipedia.org/wiki/Hacker\" title=\"Hacker – Hungarian\" lang=\"hu\" hreflang=\"hu\" class=\"interlanguage-link-target\"><span>Magyar</span></a></li><li class=\"interlanguage-link interwiki-ms mw-list-item\"><a href=\"https://ms.wikipedia.org/wiki/Penggodam\" title=\"Penggodam – Malay\" lang=\"ms\" hreflang=\"ms\" class=\"interlanguage-link-target\"><span>Bahasa Melayu</span></a></li><li class=\"interlanguage-link interwiki-mn mw-list-item\"><a href=\"https://mn.wikipedia.org/wiki/%D0%A5%D0%B0%D0%BA%D0%B5%D1%80\" title=\"Хакер – Mongolian\" lang=\"mn\" hreflang=\"mn\" class=\"interlanguage-link-target\"><span>Монгол</span></a></li><li class=\"interlanguage-link interwiki-my mw-list-item\"><a href=\"https://my.wikipedia.org/wiki/%E1%80%9F%E1%80%80%E1%80%BA%E1%80%80%E1%80%AC\" title=\"ဟက်ကာ – Burmese\" lang=\"my\" hreflang=\"my\" class=\"interlanguage-link-target\"><span>မြန်မာဘာသာ</span></a></li><li class=\"interlanguage-link interwiki-nl mw-list-item\"><a href=\"https://nl.wikipedia.org/wiki/Hacker\" title=\"Hacker – Dutch\" lang=\"nl\" hreflang=\"nl\" class=\"interlanguage-link-target\"><span>Nederlands</span></a></li><li class=\"interlanguage-link interwiki-ja mw-list-item\"><a href=\"https://ja.wikipedia.org/wiki/%E3%83%8F%E3%83%83%E3%82%AB%E3%83%BC\" title=\"ハッカー – Japanese\" lang=\"ja\" hreflang=\"ja\" class=\"interlanguage-link-target\"><span>日本語</span></a></li><li class=\"interlanguage-link interwiki-no mw-list-item\"><a href=\"https://no.wikipedia.org/wiki/Datasnok\" title=\"Datasnok – Norwegian Bokmål\" lang=\"nb\" hreflang=\"nb\" class=\"interlanguage-link-target\"><span>Norsk bokmål</span></a></li><li class=\"interlanguage-link interwiki-mhr mw-list-item\"><a href=\"https://mhr.wikipedia.org/wiki/%D0%A5%D0%B0%D0%BA%D0%B5%D1%80\" title=\"Хакер – Eastern Mari\" lang=\"mhr\" hreflang=\"mhr\" class=\"interlanguage-link-target\"><span>Олык марий</span></a></li><li class=\"interlanguage-link interwiki-uz mw-list-item\"><a href=\"https://uz.wikipedia.org/wiki/Haker\" title=\"Haker – Uzbek\" lang=\"uz\" hreflang=\"uz\" class=\"interlanguage-link-target\"><span>Oʻzbekcha/ўзбекча</span></a></li><li class=\"interlanguage-link interwiki-pl mw-list-item\"><a href=\"https://pl.wikipedia.org/wiki/Haker_(slang_komputerowy)\" title=\"Haker (slang komputerowy) – Polish\" lang=\"pl\" hreflang=\"pl\" class=\"interlanguage-link-target\"><span>Polski</span></a></li><li class=\"interlanguage-link interwiki-pt mw-list-item\"><a href=\"https://pt.wikipedia.org/wiki/Hacker\" title=\"Hacker – Portuguese\" lang=\"pt\" hreflang=\"pt\" class=\"interlanguage-link-target\"><span>Português</span></a></li><li class=\"interlanguage-link interwiki-ro mw-list-item\"><a href=\"https://ro.wikipedia.org/wiki/Hacker\" title=\"Hacker – Romanian\" lang=\"ro\" hreflang=\"ro\" class=\"interlanguage-link-target\"><span>Română</span></a></li><li class=\"interlanguage-link interwiki-ru mw-list-item\"><a href=\"https://ru.wikipedia.org/wiki/%D0%A5%D0%B0%D0%BA%D0%B5%D1%80\" title=\"Хакер – Russian\" lang=\"ru\" hreflang=\"ru\" class=\"interlanguage-link-target\"><span>Русский</span></a></li><li class=\"interlanguage-link interwiki-sat mw-list-item\"><a href=\"https://sat.wikipedia.org/wiki/%E1%B1%A6%E1%B1%AE%E1%B1%A0%E1%B1%A4%E1%B1%9D\" title=\"ᱦᱮᱠᱤᱝ – Santali\" lang=\"sat\" hreflang=\"sat\" class=\"interlanguage-link-target\"><span>ᱥᱟᱱᱛᱟᱲᱤ</span></a></li><li class=\"interlanguage-link interwiki-sq mw-list-item\"><a href=\"https://sq.wikipedia.org/wiki/Hakeri\" title=\"Hakeri – Albanian\" lang=\"sq\" hreflang=\"sq\" class=\"interlanguage-link-target\"><span>Shqip</span></a></li><li class=\"interlanguage-link interwiki-scn mw-list-item\"><a href=\"https://scn.wikipedia.org/wiki/Hacker\" title=\"Hacker – Sicilian\" lang=\"scn\" hreflang=\"scn\" class=\"interlanguage-link-target\"><span>Sicilianu</span></a></li><li class=\"interlanguage-link interwiki-simple mw-list-item\"><a href=\"https://simple.wikipedia.org/wiki/Hacker\" title=\"Hacker – Simple English\" lang=\"en-simple\" hreflang=\"en-simple\" class=\"interlanguage-link-target\"><span>Simple English</span></a></li><li class=\"interlanguage-link interwiki-sk mw-list-item\"><a href=\"https://sk.wikipedia.org/wiki/Haker\" title=\"Haker – Slovak\" lang=\"sk\" hreflang=\"sk\" class=\"interlanguage-link-target\"><span>Slovenčina</span></a></li><li class=\"interlanguage-link interwiki-sl mw-list-item\"><a href=\"https://sl.wikipedia.org/wiki/Heker\" title=\"Heker – Slovenian\" lang=\"sl\" hreflang=\"sl\" class=\"interlanguage-link-target\"><span>Slovenščina</span></a></li><li class=\"interlanguage-link interwiki-sr mw-list-item\"><a href=\"https://sr.wikipedia.org/wiki/%D0%A5%D0%B0%D0%BA%D0%B5%D1%80\" title=\"Хакер – Serbian\" lang=\"sr\" hreflang=\"sr\" class=\"interlanguage-link-target\"><span>Српски / srpski</span></a></li><li class=\"interlanguage-link interwiki-fi mw-list-item\"><a href=\"https://fi.wikipedia.org/wiki/Hakkeri\" title=\"Hakkeri – Finnish\" lang=\"fi\" hreflang=\"fi\" class=\"interlanguage-link-target\"><span>Suomi</span></a></li><li class=\"interlanguage-link interwiki-sv mw-list-item\"><a href=\"https://sv.wikipedia.org/wiki/Hackare\" title=\"Hackare – Swedish\" lang=\"sv\" hreflang=\"sv\" class=\"interlanguage-link-target\"><span>Svenska</span></a></li><li class=\"interlanguage-link interwiki-tet mw-list-item\"><a href=\"https://tet.wikipedia.org/wiki/Hacker\" title=\"Hacker – Tetum\" lang=\"tet\" hreflang=\"tet\" class=\"interlanguage-link-target\"><span>Tetun</span></a></li><li class=\"interlanguage-link interwiki-th mw-list-item\"><a href=\"https://th.wikipedia.org/wiki/%E0%B8%99%E0%B8%B1%E0%B8%81%E0%B9%80%E0%B8%A5%E0%B8%87%E0%B8%84%E0%B8%AD%E0%B8%A1%E0%B8%9E%E0%B8%B4%E0%B8%A7%E0%B9%80%E0%B8%95%E0%B8%AD%E0%B8%A3%E0%B9%8C\" title=\"นักเลงคอมพิวเตอร์ – Thai\" lang=\"th\" hreflang=\"th\" class=\"interlanguage-link-target\"><span>ไทย</span></a></li><li class=\"interlanguage-link interwiki-tg mw-list-item\"><a href=\"https://tg.wikipedia.org/wiki/%D0%A0%D0%B0%D1%85%D0%BD%D0%B0%D0%B3%D0%B0%D1%80\" title=\"Рахнагар – Tajik\" lang=\"tg\" hreflang=\"tg\" class=\"interlanguage-link-target\"><span>Тоҷикӣ</span></a></li><li class=\"interlanguage-link interwiki-tr mw-list-item\"><a href=\"https://tr.wikipedia.org/wiki/Hacker\" title=\"Hacker – Turkish\" lang=\"tr\" hreflang=\"tr\" class=\"interlanguage-link-target\"><span>Türkçe</span></a></li><li class=\"interlanguage-link interwiki-uk mw-list-item\"><a href=\"https://uk.wikipedia.org/wiki/%D0%A5%D0%B0%D0%BA%D0%B5%D1%80\" title=\"Хакер – Ukrainian\" lang=\"uk\" hreflang=\"uk\" class=\"interlanguage-link-target\"><span>Українська</span></a></li><li class=\"interlanguage-link interwiki-ug mw-list-item\"><a href=\"https://ug.wikipedia.org/wiki/%D8%AE%D8%A7%D9%83%D9%83%D9%89%D8%B1\" title=\"خاككىر – Uyghur\" lang=\"ug\" hreflang=\"ug\" class=\"interlanguage-link-target\"><span>ئۇيغۇرچە / Uyghurche</span></a></li><li class=\"interlanguage-link interwiki-wuu mw-list-item\"><a href=\"https://wuu.wikipedia.org/wiki/%E9%BB%91%E5%AE%A2\" title=\"黑客 – Wu Chinese\" lang=\"wuu\" hreflang=\"wuu\" class=\"interlanguage-link-target\"><span>吴语</span></a></li><li class=\"interlanguage-link interwiki-yi mw-list-item\"><a href=\"https://yi.wikipedia.org/wiki/%D7%94%D7%A2%D7%A7%D7%A2%D7%A8\" title=\"העקער – Yiddish\" lang=\"yi\" hreflang=\"yi\" class=\"interlanguage-link-target\"><span>ייִדיש</span></a></li><li class=\"interlanguage-link interwiki-zh mw-list-item\"><a href=\"https://zh.wikipedia.org/wiki/%E9%BB%91%E5%AE%A2\" title=\"黑客 – Chinese\" lang=\"zh\" hreflang=\"zh\" class=\"interlanguage-link-target\"><span>中文</span></a></li></ul>\\n\\t\\t<div class=\"after-portlet after-portlet-lang\"><span class=\"wb-langlinks-edit wb-langlinks-link\"><a href=\"https://www.wikidata.org/wiki/Special:EntityPage/Q1487#sitelinks-wikipedia\" title=\"Edit interlanguage links\" class=\"wbc-editpage\">Edit links</a></span></div>\\n\\t</div>\\n</nav>\\n\\n</div>\\n\\n</div>\\n<footer id=\"footer\" class=\"mw-footer\" role=\"contentinfo\" >\\n\\t<ul id=\"footer-info\">\\n\\t<li id=\"footer-info-lastmod\"> This page was last edited on 11 October 2021, at 13:50<span class=\"anonymous-show\">&#160;(UTC)</span>.</li>\\n\\t<li id=\"footer-info-copyright\">Text is available under the <a rel=\"license\" href=\"//en.wikipedia.org/wiki/Wikipedia:Text_of_Creative_Commons_Attribution-ShareAlike_3.0_Unported_License\">Creative Commons Attribution-ShareAlike License</a><a rel=\"license\" href=\"//creativecommons.org/licenses/by-sa/3.0/\" style=\"display:none;\"></a>;\\nadditional terms may apply.  By using this site, you agree to the <a href=\"//foundation.wikimedia.org/wiki/Terms_of_Use\">Terms of Use</a> and <a href=\"//foundation.wikimedia.org/wiki/Privacy_policy\">Privacy Policy</a>. Wikipedia® is a registered trademark of the <a href=\"//www.wikimediafoundation.org/\">Wikimedia Foundation, Inc.</a>, a non-profit organization.</li>\\n</ul>\\n\\n\\t<ul id=\"footer-places\">\\n\\t<li id=\"footer-places-privacy\"><a href=\"https://foundation.wikimedia.org/wiki/Privacy_policy\" class=\"extiw\" title=\"wmf:Privacy policy\">Privacy policy</a></li>\\n\\t<li id=\"footer-places-about\"><a href=\"/wiki/Wikipedia:About\" title=\"Wikipedia:About\">About Wikipedia</a></li>\\n\\t<li id=\"footer-places-disclaimer\"><a href=\"/wiki/Wikipedia:General_disclaimer\" title=\"Wikipedia:General disclaimer\">Disclaimers</a></li>\\n\\t<li id=\"footer-places-contact\"><a href=\"//en.wikipedia.org/wiki/Wikipedia:Contact_us\">Contact Wikipedia</a></li>\\n\\t<li id=\"footer-places-mobileview\"><a href=\"//en.m.wikipedia.org/w/index.php?title=Hacker&amp;mobileaction=toggle_view_mobile\" class=\"noprint stopMobileRedirectToggle\">Mobile view</a></li>\\n\\t<li id=\"footer-places-developers\"><a href=\"https://www.mediawiki.org/wiki/Special:MyLanguage/How_to_contribute\">Developers</a></li>\\n\\t<li id=\"footer-places-statslink\"><a href=\"https://stats.wikimedia.org/#/en.wikipedia.org\">Statistics</a></li>\\n\\t<li id=\"footer-places-cookiestatement\"><a href=\"https://foundation.wikimedia.org/wiki/Cookie_statement\">Cookie statement</a></li>\\n</ul>\\n\\n\\t<ul id=\"footer-icons\" class=\"noprint\">\\n\\t<li id=\"footer-copyrightico\"><a href=\"https://wikimediafoundation.org/\"><img src=\"/static/images/footer/wikimedia-button.png\" srcset=\"/static/images/footer/wikimedia-button-1.5x.png 1.5x, /static/images/footer/wikimedia-button-2x.png 2x\" width=\"88\" height=\"31\" alt=\"Wikimedia Foundation\" loading=\"lazy\" /></a></li>\\n\\t<li id=\"footer-poweredbyico\"><a href=\"https://www.mediawiki.org/\"><img src=\"/static/images/footer/poweredby_mediawiki_88x31.png\" alt=\"Powered by MediaWiki\" srcset=\"/static/images/footer/poweredby_mediawiki_132x47.png 1.5x, /static/images/footer/poweredby_mediawiki_176x62.png 2x\" width=\"88\" height=\"31\" loading=\"lazy\"/></a></li>\\n</ul>\\n\\n</footer>\\n\\n\\n<script>(RLQ=window.RLQ||[]).push(function(){mw.config.set({\"wgPageParseReport\":{\"limitreport\":{\"cputime\":\"0.710\",\"walltime\":\"0.857\",\"ppvisitednodes\":{\"value\":2282,\"limit\":1000000},\"postexpandincludesize\":{\"value\":96768,\"limit\":2097152},\"templateargumentsize\":{\"value\":6439,\"limit\":2097152},\"expansiondepth\":{\"value\":13,\"limit\":40},\"expensivefunctioncount\":{\"value\":8,\"limit\":500},\"unstrip-depth\":{\"value\":1,\"limit\":20},\"unstrip-size\":{\"value\":104625,\"limit\":5000000},\"entityaccesscount\":{\"value\":1,\"limit\":400},\"timingprofile\":[\"100.00%  754.931      1 -total\",\" 29.17%  220.237      1 Template:Reflist\",\" 13.80%  104.148      3 Template:Cite_journal\",\" 12.96%   97.854      1 Template:Short_description\",\" 12.56%   94.845     21 Template:Cite_book\",\" 10.65%   80.385      1 Template:Computer_hacking\",\" 10.20%   77.016      1 Template:Sidebar\",\"  8.76%   66.095      3 Template:Ambox\",\"  8.08%   60.989      1 Template:Pp-semi-indef\",\"  7.78%   58.738      1 Template:Pagetype\"]},\"scribunto\":{\"limitreport-timeusage\":{\"value\":\"0.438\",\"limit\":\"10.000\"},\"limitreport-memusage\":{\"value\":8255752,\"limit\":52428800}},\"cachereport\":{\"origin\":\"mw1353\",\"timestamp\":\"20211016015543\",\"ttl\":1814400,\"transientcontent\":false}}});});</script>\\n<script type=\"application/ld+json\">{\"@context\":\"https:\\\\/\\\\/schema.org\",\"@type\":\"Article\",\"name\":\"Hacker\",\"url\":\"https:\\\\/\\\\/en.wikipedia.org\\\\/wiki\\\\/Hacker\",\"sameAs\":\"http:\\\\/\\\\/www.wikidata.org\\\\/entity\\\\/Q1487\",\"mainEntity\":\"http:\\\\/\\\\/www.wikidata.org\\\\/entity\\\\/Q1487\",\"author\":{\"@type\":\"Organization\",\"name\":\"Contributors to Wikimedia projects\"},\"publisher\":{\"@type\":\"Organization\",\"name\":\"Wikimedia Foundation, Inc.\",\"logo\":{\"@type\":\"ImageObject\",\"url\":\"https:\\\\/\\\\/www.wikimedia.org\\\\/static\\\\/images\\\\/wmf-hor-googpub.png\"}},\"datePublished\":\"2001-11-05T09:55:37Z\",\"dateModified\":\"2021-10-11T13:50:08Z\",\"headline\":\"computing term with a variety of meanings\"}</script>\\n<script>(RLQ=window.RLQ||[]).push(function(){mw.config.set({\"wgBackendResponseTime\":154,\"wgHostname\":\"mw1365\"});});</script>\\n</body></html>'"
      ]
     },
     "execution_count": 5,
     "metadata": {},
     "output_type": "execute_result"
    }
   ],
   "source": [
    "res.text"
   ]
  },
  {
   "cell_type": "code",
   "execution_count": null,
   "metadata": {
    "colab": {
     "base_uri": "https://localhost:8080/",
     "height": 35
    },
    "id": "u-m8p-NkTS6E",
    "outputId": "2260d5a5-d314-44ac-8d4f-d6a1aab2436f"
   },
   "outputs": [
    {
     "data": {
      "text/plain": [
       "'Hacker'"
      ]
     },
     "execution_count": 6,
     "metadata": {},
     "output_type": "execute_result"
    }
   ],
   "source": [
    "filename"
   ]
  },
  {
   "cell_type": "code",
   "execution_count": null,
   "metadata": {
    "colab": {
     "base_uri": "https://localhost:8080/",
     "height": 221
    },
    "id": "QKw5JbavUFoM",
    "outputId": "9cfad10d-f919-4322-f94c-0bae5315f0b8"
   },
   "outputs": [
    {
     "data": {
      "text/plain": [
       "'An encounter of the programmer and the computer security hacker subculture occurred at the end of the 1980s, when a group of computer security hackers, sympathizing with the Chaos Computer Club (which disclaimed any knowledge in these activities), broke into computers of American military organizations and academic institutions. They sold data from these machines to the Soviet secret service, one of them in order to fund his drug addiction. The case was solved when Clifford Stoll, a scientist working as a system administrator, found ways to log the attacks and to trace them back (with the help of many others). 23, a German film adaption with fictional elements, shows the events from the attackers\\' perspective. Stoll described the case in his book The Cuckoo\\'s Egg and in the TV documentary The KGB, the Computer, and Me from the other perspective. According to Eric S. Raymond, it \"nicely illustrates the difference between \\'hacker\\' and \\'cracker\\'. Stoll\\'s portrait of himself, his lady Martha, and his friends at Berkeley and on the Internet paints a marvelously vivid picture of how hackers and the people around them like to live and how they think.\"[26]\\n'"
      ]
     },
     "execution_count": 7,
     "metadata": {},
     "output_type": "execute_result"
    }
   ],
   "source": [
    "i.getText()"
   ]
  },
  {
   "cell_type": "code",
   "execution_count": null,
   "metadata": {
    "id": "2fE0VihoUQRT"
   },
   "outputs": [],
   "source": [
    "doc = nlp(i.getText())"
   ]
  },
  {
   "cell_type": "code",
   "execution_count": null,
   "metadata": {
    "colab": {
     "base_uri": "https://localhost:8080/"
    },
    "id": "-oAN91EsUYH0",
    "outputId": "15f0533b-00a1-4018-d45c-2910835fe674"
   },
   "outputs": [
    {
     "data": {
      "text/plain": [
       "An encounter of the programmer and the computer security hacker subculture occurred at the end of the 1980s, when a group of computer security hackers, sympathizing with the Chaos Computer Club (which disclaimed any knowledge in these activities), broke into computers of American military organizations and academic institutions. They sold data from these machines to the Soviet secret service, one of them in order to fund his drug addiction. The case was solved when Clifford Stoll, a scientist working as a system administrator, found ways to log the attacks and to trace them back (with the help of many others). 23, a German film adaption with fictional elements, shows the events from the attackers' perspective. Stoll described the case in his book The Cuckoo's Egg and in the TV documentary The KGB, the Computer, and Me from the other perspective. According to Eric S. Raymond, it \"nicely illustrates the difference between 'hacker' and 'cracker'. Stoll's portrait of himself, his lady Martha, and his friends at Berkeley and on the Internet paints a marvelously vivid picture of how hackers and the people around them like to live and how they think.\"[26]"
      ]
     },
     "execution_count": 9,
     "metadata": {},
     "output_type": "execute_result"
    }
   ],
   "source": [
    "doc"
   ]
  },
  {
   "cell_type": "code",
   "execution_count": null,
   "metadata": {
    "colab": {
     "base_uri": "https://localhost:8080/"
    },
    "id": "MxpVSD6MUdGO",
    "outputId": "19e764a4-6774-4602-a8fa-8fb6e39f179c"
   },
   "outputs": [
    {
     "name": "stdout",
     "output_type": "stream",
     "text": [
      "1167\n",
      "225\n"
     ]
    }
   ],
   "source": [
    "print (len(i.getText()))\n",
    "print (len(doc))"
   ]
  },
  {
   "cell_type": "code",
   "execution_count": null,
   "metadata": {
    "colab": {
     "base_uri": "https://localhost:8080/"
    },
    "id": "QX9ORVsxWJlT",
    "outputId": "4e1abffe-d3b0-4cdc-bf00-7ae721c6f65a"
   },
   "outputs": [
    {
     "name": "stdout",
     "output_type": "stream",
     "text": [
      "An --> DET\n",
      "encounter --> NOUN\n",
      "of --> ADP\n",
      "the --> DET\n",
      "programmer --> NOUN\n",
      "and --> CCONJ\n",
      "the --> DET\n",
      "computer --> NOUN\n",
      "security --> NOUN\n",
      "hacker --> NOUN\n"
     ]
    }
   ],
   "source": [
    "# Iterate over the tokens\n",
    "for token in doc[0:10]:\n",
    "  print(token.text, \"-->\", token.pos_) # Print the token and its part-of-speech tag"
   ]
  },
  {
   "cell_type": "code",
   "execution_count": null,
   "metadata": {
    "colab": {
     "base_uri": "https://localhost:8080/"
    },
    "id": "6bbSOZ7ipux5",
    "outputId": "4d6e9ae8-037c-4e95-fc66-5e5312a900e1"
   },
   "outputs": [
    {
     "name": "stdout",
     "output_type": "stream",
     "text": [
      "An\n",
      "encounter\n",
      "of\n",
      "the\n",
      "programmer\n",
      "and\n",
      "the\n",
      "computer\n",
      "security\n",
      "hacker\n"
     ]
    }
   ],
   "source": [
    "for token in i.getText().split()[:10]:\n",
    "    print (token)"
   ]
  },
  {
   "cell_type": "markdown",
   "metadata": {
    "id": "s5r0f9JWrtTA"
   },
   "source": [
    "if there is any symbols, let's say the parentheses are not removed or handled individually. To see this more clearly, let’s print off all tokens from index 5 to 8 in both the text and doc objects."
   ]
  },
  {
   "cell_type": "markdown",
   "metadata": {
    "id": "lQnk4sgksAb4"
   },
   "source": [
    "#Sentence Boundary Detection (SBD)"
   ]
  },
  {
   "cell_type": "markdown",
   "metadata": {
    "id": "zg5_nm5is7NB"
   },
   "source": [
    "In NLP, sentence boundary detection, or SBD, is the identification of sentences in a text. Again, this may seem fairly easy to do with rules. One could use split(“.”), but in English we use the period to also denote abbreviation."
   ]
  },
  {
   "cell_type": "code",
   "execution_count": null,
   "metadata": {
    "colab": {
     "base_uri": "https://localhost:8080/"
    },
    "id": "Fb_p-U5ir5rZ",
    "outputId": "86c8bf33-f72a-49d9-8dad-7d986280de7d"
   },
   "outputs": [
    {
     "name": "stdout",
     "output_type": "stream",
     "text": [
      "An encounter of the programmer and the computer security hacker subculture occurred at the end of the 1980s, when a group of computer security hackers, sympathizing with the Chaos Computer Club (which disclaimed any knowledge in these activities), broke into computers of American military organizations and academic institutions.\n",
      "They sold data from these machines to the Soviet secret service, one of them in order to fund his drug addiction.\n",
      "The case was solved when Clifford Stoll, a scientist working as a system administrator, found ways to log the attacks and to trace them back (with the help of many others).\n",
      "23, a German film adaption with fictional elements, shows the events from the attackers' perspective.\n",
      "Stoll described the case in his book The Cuckoo's Egg and in the TV documentary The KGB, the Computer, and Me from the other perspective.\n",
      "According to Eric S. Raymond, it \"nicely illustrates the difference between 'hacker' and 'cracker'.\n",
      "Stoll's portrait of himself, his lady Martha, and his friends at Berkeley and on the Internet paints a marvelously vivid picture of how hackers and the people around them like to live and how they think.\n",
      "\"[26]\n",
      "\n"
     ]
    }
   ],
   "source": [
    "for sent in doc.sents:\n",
    "    print (sent)"
   ]
  },
  {
   "cell_type": "code",
   "execution_count": null,
   "metadata": {
    "colab": {
     "base_uri": "https://localhost:8080/",
     "height": 86
    },
    "id": "CXYy3o4wt2XY",
    "outputId": "9086e608-8efd-4564-ff69-38a65c556203"
   },
   "outputs": [
    {
     "data": {
      "text/plain": [
       "\"\\nsent1 = doc.sents[0]\\nprint (sent1)\\n\\nTypeError                                 Traceback (most recent call last)\\n<ipython-input-22-d41723e99bb6> in <module>()\\n----> 1 sent1 = doc.sents[0]\\n      2 print (sent1)\\n\\nTypeError: 'generator' object is not subscriptable\\n\\nfor that we have to convert them into list.\\n\""
      ]
     },
     "execution_count": 14,
     "metadata": {},
     "output_type": "execute_result"
    }
   ],
   "source": [
    "\"\"\"\n",
    "sent1 = doc.sents[0]\n",
    "print (sent1)\n",
    "\n",
    "TypeError                                 Traceback (most recent call last)\n",
    "<ipython-input-22-d41723e99bb6> in <module>()\n",
    "----> 1 sent1 = doc.sents[0]\n",
    "      2 print (sent1)\n",
    "\n",
    "TypeError: 'generator' object is not subscriptable\n",
    "\n",
    "for that we have to convert them into list.\n",
    "\"\"\""
   ]
  },
  {
   "cell_type": "code",
   "execution_count": null,
   "metadata": {
    "colab": {
     "base_uri": "https://localhost:8080/"
    },
    "id": "eiqyiKUluYi4",
    "outputId": "3dfac218-1019-4d4b-c1f2-319d73c50822"
   },
   "outputs": [
    {
     "name": "stdout",
     "output_type": "stream",
     "text": [
      "An encounter of the programmer and the computer security hacker subculture occurred at the end of the 1980s, when a group of computer security hackers, sympathizing with the Chaos Computer Club (which disclaimed any knowledge in these activities), broke into computers of American military organizations and academic institutions.\n"
     ]
    }
   ],
   "source": [
    "sent1 = list(doc.sents)[0]\n",
    "print (sent1)"
   ]
  },
  {
   "cell_type": "markdown",
   "metadata": {
    "id": "1YpcQsZqu1tX"
   },
   "source": [
    "# Token Attributes"
   ]
  },
  {
   "cell_type": "markdown",
   "metadata": {
    "id": "FEE5t4ahu_sn"
   },
   "source": [
    "The token object contains a lot of different attributes that are VITAL do performing NLP in spaCy. We will be working with a few of them, such as:\n",
    "\n",
    ".text\n",
    "\n",
    ".head\n",
    "\n",
    ".left_edge\n",
    "\n",
    ".right_edge\n",
    "\n",
    ".ent_type_\n",
    "\n",
    ".iob_\n",
    "\n",
    ".lemma_\n",
    "\n",
    ".morph\n",
    "\n",
    ".pos_\n",
    "\n",
    ".dep_\n",
    "\n",
    ".lang_"
   ]
  },
  {
   "cell_type": "code",
   "execution_count": null,
   "metadata": {
    "colab": {
     "base_uri": "https://localhost:8080/"
    },
    "id": "T9E7rUa4xMAI",
    "outputId": "b4c5bf29-4cc2-4e2c-bba5-d3e635005e60"
   },
   "outputs": [
    {
     "data": {
      "text/plain": [
       "An encounter of the programmer and the computer security hacker subculture occurred at the end of the 1980s, when a group of computer security hackers, sympathizing with the Chaos Computer Club (which disclaimed any knowledge in these activities), broke into computers of American military organizations and academic institutions."
      ]
     },
     "execution_count": 16,
     "metadata": {},
     "output_type": "execute_result"
    }
   ],
   "source": [
    "sent1"
   ]
  },
  {
   "cell_type": "code",
   "execution_count": null,
   "metadata": {
    "colab": {
     "base_uri": "https://localhost:8080/"
    },
    "id": "2qmavJdTulg3",
    "outputId": "d51c1c5d-8f80-400a-a76d-c6004723399c"
   },
   "outputs": [
    {
     "name": "stdout",
     "output_type": "stream",
     "text": [
      "of\n"
     ]
    }
   ],
   "source": [
    "token2 = sent1[2]\n",
    "print (token2)"
   ]
  },
  {
   "cell_type": "code",
   "execution_count": null,
   "metadata": {
    "colab": {
     "base_uri": "https://localhost:8080/"
    },
    "id": "pHo6CVKgxREo",
    "outputId": "83f6bfcd-1807-4abb-f680-41544fcc2808"
   },
   "outputs": [
    {
     "name": "stdout",
     "output_type": "stream",
     "text": [
      "encounter\n",
      "This tells to which word it is governed by\n"
     ]
    }
   ],
   "source": [
    "#Head\n",
    "print(token2.head)\n",
    "print('This tells to which word it is governed by')"
   ]
  },
  {
   "cell_type": "markdown",
   "metadata": {
    "id": "vF6GvgXCxxE_"
   },
   "source": [
    "English has two articles: the and a/an. The is used to refer to specific or particular nouns; a/an is used to modify non-specific or non-particular nouns. We call the the definite article and a/an the indefinite article.\n",
    "\n",
    "the = definite article\n",
    "\n",
    "a/an = indefinite article\n",
    "\n",
    "[purdue.edu](https://owl.purdue.edu/owl/general_writing/grammar/using_articles.html)"
   ]
  },
  {
   "cell_type": "code",
   "execution_count": null,
   "metadata": {
    "colab": {
     "base_uri": "https://localhost:8080/"
    },
    "id": "_a-0erxgyJgf",
    "outputId": "a429f2d3-46a0-4d29-b4b2-61f4bb0b8fb0"
   },
   "outputs": [
    {
     "data": {
      "text/plain": [
       "of"
      ]
     },
     "execution_count": 19,
     "metadata": {},
     "output_type": "execute_result"
    }
   ],
   "source": [
    "#Left Edge \n",
    "token2.left_edge\n",
    "#The leftmost token of this token’s syntactic descendants."
   ]
  },
  {
   "cell_type": "code",
   "execution_count": null,
   "metadata": {
    "colab": {
     "base_uri": "https://localhost:8080/"
    },
    "id": "kaReU0YyyyCW",
    "outputId": "df59e258-371f-40ec-a692-ad47f85fef7f"
   },
   "outputs": [
    {
     "data": {
      "text/plain": [
       "subculture"
      ]
     },
     "execution_count": 20,
     "metadata": {},
     "output_type": "execute_result"
    }
   ],
   "source": [
    "#Right Edge\n",
    "token2.right_edge\n",
    "#The rightmost token of this token’s syntactic descendants."
   ]
  },
  {
   "cell_type": "code",
   "execution_count": null,
   "metadata": {
    "colab": {
     "base_uri": "https://localhost:8080/"
    },
    "id": "P3dK8DP0yym_",
    "outputId": "fd4725e4-34ad-458a-cdf0-fb0f8755b5da"
   },
   "outputs": [
    {
     "data": {
      "text/plain": [
       "0"
      ]
     },
     "execution_count": 21,
     "metadata": {},
     "output_type": "execute_result"
    }
   ],
   "source": [
    "#Entity Type\n",
    "token2.ent_type\n",
    "#Named entity type."
   ]
  },
  {
   "cell_type": "markdown",
   "metadata": {
    "id": "WpJhFQTxzQzG"
   },
   "source": [
    "#Part of Speech Tagging (POS)"
   ]
  },
  {
   "cell_type": "markdown",
   "metadata": {
    "id": "5fd6Go5azaie"
   },
   "source": [
    "In the field of computational linguistics, understanding parts-of-speech is essential. SpaCy offers an easy way to parse a text and identify its parts of speech. Below, we will iterate across each token (word or punctuation) in the text and identify its part of speech."
   ]
  },
  {
   "cell_type": "code",
   "execution_count": null,
   "metadata": {
    "colab": {
     "base_uri": "https://localhost:8080/"
    },
    "id": "8HNs3cAxyqzu",
    "outputId": "aa1a0096-af5e-4142-e59e-133333891d1d"
   },
   "outputs": [
    {
     "name": "stdout",
     "output_type": "stream",
     "text": [
      "An DET det\n",
      "encounter NOUN nsubj\n",
      "of ADP prep\n",
      "the DET det\n",
      "programmer NOUN pobj\n",
      "and CCONJ cc\n",
      "the DET det\n",
      "computer NOUN compound\n",
      "security NOUN compound\n",
      "hacker NOUN compound\n",
      "subculture NOUN conj\n",
      "occurred VERB ROOT\n",
      "at ADP prep\n",
      "the DET det\n",
      "end NOUN pobj\n",
      "of ADP prep\n",
      "the DET det\n",
      "1980s NOUN pobj\n",
      ", PUNCT punct\n",
      "when ADV advmod\n",
      "a DET det\n",
      "group NOUN nsubj\n",
      "of ADP prep\n",
      "computer NOUN compound\n",
      "security NOUN compound\n",
      "hackers NOUN pobj\n",
      ", PUNCT punct\n",
      "sympathizing VERB acl\n",
      "with ADP prep\n",
      "the DET det\n",
      "Chaos PROPN compound\n",
      "Computer PROPN compound\n",
      "Club PROPN pobj\n",
      "( PUNCT punct\n",
      "which DET nsubj\n",
      "disclaimed VERB relcl\n",
      "any DET det\n",
      "knowledge NOUN dobj\n",
      "in ADP prep\n",
      "these DET det\n",
      "activities NOUN pobj\n",
      ") PUNCT punct\n",
      ", PUNCT punct\n",
      "broke VERB relcl\n",
      "into ADP prep\n",
      "computers NOUN pobj\n",
      "of ADP prep\n",
      "American ADJ amod\n",
      "military ADJ amod\n",
      "organizations NOUN pobj\n",
      "and CCONJ cc\n",
      "academic ADJ amod\n",
      "institutions NOUN conj\n",
      ". PUNCT punct\n"
     ]
    }
   ],
   "source": [
    "for token in sent1:\n",
    "    print (token.text, token.pos_, token.dep_)"
   ]
  },
  {
   "cell_type": "markdown",
   "metadata": {
    "id": "ZjiVb0Cs3ouU"
   },
   "source": [
    "#Displacy || @!!"
   ]
  },
  {
   "cell_type": "code",
   "execution_count": null,
   "metadata": {
    "colab": {
     "base_uri": "https://localhost:8080/",
     "height": 86
    },
    "id": "EC-wouceze7M",
    "outputId": "f74b665e-a0cd-43f4-df25-d04578ab165b"
   },
   "outputs": [
    {
     "data": {
      "text/plain": [
       "'\\n\\nimport spacy\\nfrom spacy import displacy\\n\\ndisplacy.serve(doc, style=\"dep\")\\n\\n\\nimport spacy\\nfrom spacy import displacy\\n\\ndisplacy.serve(sent1, style=\"dep\")\\n\\n\\nimport spacy\\nfrom spacy import displacy\\n\\nnlp = spacy.load(\"en_core_web_sm\")\\ndoc = nlp(\"This is a sentence.\")\\ndisplacy.serve(doc, style=\"dep\")\\n'"
      ]
     },
     "execution_count": 23,
     "metadata": {},
     "output_type": "execute_result"
    }
   ],
   "source": [
    "\"\"\"\n",
    "\n",
    "import spacy\n",
    "from spacy import displacy\n",
    "\n",
    "displacy.serve(doc, style=\"dep\")\n",
    "\n",
    "\n",
    "import spacy\n",
    "from spacy import displacy\n",
    "\n",
    "displacy.serve(sent1, style=\"dep\")\n",
    "\n",
    "\n",
    "import spacy\n",
    "from spacy import displacy\n",
    "\n",
    "nlp = spacy.load(\"en_core_web_sm\")\n",
    "doc = nlp(\"This is a sentence.\")\n",
    "displacy.serve(doc, style=\"dep\")\n",
    "\"\"\""
   ]
  },
  {
   "cell_type": "code",
   "execution_count": null,
   "metadata": {
    "colab": {
     "base_uri": "https://localhost:8080/",
     "height": 727
    },
    "id": "HcxJRPk-0oQV",
    "outputId": "d6a81bee-7e16-47f1-d1d8-72afa1a9b70b"
   },
   "outputs": [
    {
     "name": "stdout",
     "output_type": "stream",
     "text": [
      "Collecting en-core-web-sm==3.1.0\n",
      "  Using cached https://github.com/explosion/spacy-models/releases/download/en_core_web_sm-3.1.0/en_core_web_sm-3.1.0-py3-none-any.whl (13.6 MB)\n",
      "Requirement already satisfied: spacy<3.2.0,>=3.1.0 in c:\\users\\tonyk\\anaconda3\\lib\\site-packages (from en-core-web-sm==3.1.0) (3.1.3)\n",
      "Requirement already satisfied: spacy-legacy<3.1.0,>=3.0.8 in c:\\users\\tonyk\\anaconda3\\lib\\site-packages (from spacy<3.2.0,>=3.1.0->en-core-web-sm==3.1.0) (3.0.8)\n",
      "Requirement already satisfied: packaging>=20.0 in c:\\users\\tonyk\\anaconda3\\lib\\site-packages (from spacy<3.2.0,>=3.1.0->en-core-web-sm==3.1.0) (21.0)\n",
      "Requirement already satisfied: murmurhash<1.1.0,>=0.28.0 in c:\\users\\tonyk\\anaconda3\\lib\\site-packages (from spacy<3.2.0,>=3.1.0->en-core-web-sm==3.1.0) (1.0.5)\n",
      "Requirement already satisfied: wasabi<1.1.0,>=0.8.1 in c:\\users\\tonyk\\anaconda3\\lib\\site-packages (from spacy<3.2.0,>=3.1.0->en-core-web-sm==3.1.0) (0.8.2)\n",
      "Requirement already satisfied: tqdm<5.0.0,>=4.38.0 in c:\\users\\tonyk\\anaconda3\\lib\\site-packages (from spacy<3.2.0,>=3.1.0->en-core-web-sm==3.1.0) (4.62.2)\n",
      "Requirement already satisfied: srsly<3.0.0,>=2.4.1 in c:\\users\\tonyk\\anaconda3\\lib\\site-packages (from spacy<3.2.0,>=3.1.0->en-core-web-sm==3.1.0) (2.4.1)\n",
      "Requirement already satisfied: setuptools in c:\\users\\tonyk\\anaconda3\\lib\\site-packages (from spacy<3.2.0,>=3.1.0->en-core-web-sm==3.1.0) (58.2.0)\n",
      "Requirement already satisfied: thinc<8.1.0,>=8.0.9 in c:\\users\\tonyk\\anaconda3\\lib\\site-packages (from spacy<3.2.0,>=3.1.0->en-core-web-sm==3.1.0) (8.0.10)\n",
      "Requirement already satisfied: cymem<2.1.0,>=2.0.2 in c:\\users\\tonyk\\anaconda3\\lib\\site-packages (from spacy<3.2.0,>=3.1.0->en-core-web-sm==3.1.0) (2.0.5)\n",
      "Requirement already satisfied: typer<0.5.0,>=0.3.0 in c:\\users\\tonyk\\anaconda3\\lib\\site-packages (from spacy<3.2.0,>=3.1.0->en-core-web-sm==3.1.0) (0.4.0)\n",
      "Requirement already satisfied: requests<3.0.0,>=2.13.0 in c:\\users\\tonyk\\anaconda3\\lib\\site-packages (from spacy<3.2.0,>=3.1.0->en-core-web-sm==3.1.0) (2.25.1)\n",
      "Requirement already satisfied: jinja2 in c:\\users\\tonyk\\anaconda3\\lib\\site-packages (from spacy<3.2.0,>=3.1.0->en-core-web-sm==3.1.0) (3.0.1)\n",
      "Requirement already satisfied: blis<0.8.0,>=0.4.0 in c:\\users\\tonyk\\anaconda3\\lib\\site-packages (from spacy<3.2.0,>=3.1.0->en-core-web-sm==3.1.0) (0.7.4)\n",
      "Requirement already satisfied: pydantic!=1.8,!=1.8.1,<1.9.0,>=1.7.4 in c:\\users\\tonyk\\anaconda3\\lib\\site-packages (from spacy<3.2.0,>=3.1.0->en-core-web-sm==3.1.0) (1.8.2)\n",
      "Requirement already satisfied: pathy>=0.3.5 in c:\\users\\tonyk\\anaconda3\\lib\\site-packages (from spacy<3.2.0,>=3.1.0->en-core-web-sm==3.1.0) (0.6.0)\n",
      "Requirement already satisfied: preshed<3.1.0,>=3.0.2 in c:\\users\\tonyk\\anaconda3\\lib\\site-packages (from spacy<3.2.0,>=3.1.0->en-core-web-sm==3.1.0) (3.0.5)\n",
      "Requirement already satisfied: catalogue<2.1.0,>=2.0.6 in c:\\users\\tonyk\\anaconda3\\lib\\site-packages (from spacy<3.2.0,>=3.1.0->en-core-web-sm==3.1.0) (2.0.6)\n",
      "Requirement already satisfied: numpy>=1.15.0 in c:\\users\\tonyk\\anaconda3\\lib\\site-packages (from spacy<3.2.0,>=3.1.0->en-core-web-sm==3.1.0) (1.21.2)\n",
      "Requirement already satisfied: pyparsing>=2.0.2 in c:\\users\\tonyk\\anaconda3\\lib\\site-packages (from packaging>=20.0->spacy<3.2.0,>=3.1.0->en-core-web-sm==3.1.0) (2.4.7)\n",
      "Requirement already satisfied: smart-open<6.0.0,>=5.0.0 in c:\\users\\tonyk\\anaconda3\\lib\\site-packages (from pathy>=0.3.5->spacy<3.2.0,>=3.1.0->en-core-web-sm==3.1.0) (5.2.1)\n",
      "Requirement already satisfied: typing-extensions>=3.7.4.3 in c:\\users\\tonyk\\anaconda3\\lib\\site-packages (from pydantic!=1.8,!=1.8.1,<1.9.0,>=1.7.4->spacy<3.2.0,>=3.1.0->en-core-web-sm==3.1.0) (3.10.0.2)\n",
      "Requirement already satisfied: urllib3<1.27,>=1.21.1 in c:\\users\\tonyk\\anaconda3\\lib\\site-packages (from requests<3.0.0,>=2.13.0->spacy<3.2.0,>=3.1.0->en-core-web-sm==3.1.0) (1.26.7)\n",
      "Requirement already satisfied: idna<3,>=2.5 in c:\\users\\tonyk\\anaconda3\\lib\\site-packages (from requests<3.0.0,>=2.13.0->spacy<3.2.0,>=3.1.0->en-core-web-sm==3.1.0) (2.10)\n",
      "Requirement already satisfied: certifi>=2017.4.17 in c:\\users\\tonyk\\anaconda3\\lib\\site-packages (from requests<3.0.0,>=2.13.0->spacy<3.2.0,>=3.1.0->en-core-web-sm==3.1.0) (2021.10.8)\n",
      "Requirement already satisfied: chardet<5,>=3.0.2 in c:\\users\\tonyk\\anaconda3\\lib\\site-packages (from requests<3.0.0,>=2.13.0->spacy<3.2.0,>=3.1.0->en-core-web-sm==3.1.0) (4.0.0)\n",
      "Requirement already satisfied: colorama in c:\\users\\tonyk\\anaconda3\\lib\\site-packages (from tqdm<5.0.0,>=4.38.0->spacy<3.2.0,>=3.1.0->en-core-web-sm==3.1.0) (0.4.4)\n",
      "Requirement already satisfied: click<9.0.0,>=7.1.1 in c:\\users\\tonyk\\anaconda3\\lib\\site-packages (from typer<0.5.0,>=0.3.0->spacy<3.2.0,>=3.1.0->en-core-web-sm==3.1.0) (8.0.1)\n",
      "Requirement already satisfied: MarkupSafe>=2.0 in c:\\users\\tonyk\\anaconda3\\lib\\site-packages (from jinja2->spacy<3.2.0,>=3.1.0->en-core-web-sm==3.1.0) (2.0.1)\n",
      "[!] As of spaCy v3.0, shortcuts like 'en' are deprecated. Please use the full\n",
      "pipeline package name 'en_core_web_sm' instead.\n",
      "[+] Download and installation successful\n",
      "You can now load the package via spacy.load('en_core_web_sm')\n"
     ]
    },
    {
     "data": {
      "text/html": [
       "<span class=\"tex2jax_ignore\"><svg xmlns=\"http://www.w3.org/2000/svg\" xmlns:xlink=\"http://www.w3.org/1999/xlink\" xml:lang=\"en\" id=\"eba0e224f5b24d129fed8412e85929d0-0\" class=\"displacy\" width=\"1450\" height=\"487.0\" direction=\"ltr\" style=\"max-width: none; height: 487.0px; color: #000000; background: #ffffff; font-family: Arial; direction: ltr\">\n",
       "<text class=\"displacy-token\" fill=\"currentColor\" text-anchor=\"middle\" y=\"397.0\">\n",
       "    <tspan class=\"displacy-word\" fill=\"currentColor\" x=\"50\">Rats</tspan>\n",
       "    <tspan class=\"displacy-tag\" dy=\"2em\" fill=\"currentColor\" x=\"50\">NOUN</tspan>\n",
       "</text>\n",
       "\n",
       "<text class=\"displacy-token\" fill=\"currentColor\" text-anchor=\"middle\" y=\"397.0\">\n",
       "    <tspan class=\"displacy-word\" fill=\"currentColor\" x=\"225\">are</tspan>\n",
       "    <tspan class=\"displacy-tag\" dy=\"2em\" fill=\"currentColor\" x=\"225\">AUX</tspan>\n",
       "</text>\n",
       "\n",
       "<text class=\"displacy-token\" fill=\"currentColor\" text-anchor=\"middle\" y=\"397.0\">\n",
       "    <tspan class=\"displacy-word\" fill=\"currentColor\" x=\"400\">various</tspan>\n",
       "    <tspan class=\"displacy-tag\" dy=\"2em\" fill=\"currentColor\" x=\"400\">ADJ</tspan>\n",
       "</text>\n",
       "\n",
       "<text class=\"displacy-token\" fill=\"currentColor\" text-anchor=\"middle\" y=\"397.0\">\n",
       "    <tspan class=\"displacy-word\" fill=\"currentColor\" x=\"575\">medium-</tspan>\n",
       "    <tspan class=\"displacy-tag\" dy=\"2em\" fill=\"currentColor\" x=\"575\">ADJ</tspan>\n",
       "</text>\n",
       "\n",
       "<text class=\"displacy-token\" fill=\"currentColor\" text-anchor=\"middle\" y=\"397.0\">\n",
       "    <tspan class=\"displacy-word\" fill=\"currentColor\" x=\"750\">sized,</tspan>\n",
       "    <tspan class=\"displacy-tag\" dy=\"2em\" fill=\"currentColor\" x=\"750\">ADJ</tspan>\n",
       "</text>\n",
       "\n",
       "<text class=\"displacy-token\" fill=\"currentColor\" text-anchor=\"middle\" y=\"397.0\">\n",
       "    <tspan class=\"displacy-word\" fill=\"currentColor\" x=\"925\">long-</tspan>\n",
       "    <tspan class=\"displacy-tag\" dy=\"2em\" fill=\"currentColor\" x=\"925\">ADV</tspan>\n",
       "</text>\n",
       "\n",
       "<text class=\"displacy-token\" fill=\"currentColor\" text-anchor=\"middle\" y=\"397.0\">\n",
       "    <tspan class=\"displacy-word\" fill=\"currentColor\" x=\"1100\">tailed</tspan>\n",
       "    <tspan class=\"displacy-tag\" dy=\"2em\" fill=\"currentColor\" x=\"1100\">VERB</tspan>\n",
       "</text>\n",
       "\n",
       "<text class=\"displacy-token\" fill=\"currentColor\" text-anchor=\"middle\" y=\"397.0\">\n",
       "    <tspan class=\"displacy-word\" fill=\"currentColor\" x=\"1275\">rodents.</tspan>\n",
       "    <tspan class=\"displacy-tag\" dy=\"2em\" fill=\"currentColor\" x=\"1275\">NOUN</tspan>\n",
       "</text>\n",
       "\n",
       "<g class=\"displacy-arrow\">\n",
       "    <path class=\"displacy-arc\" id=\"arrow-eba0e224f5b24d129fed8412e85929d0-0-0\" stroke-width=\"2px\" d=\"M70,352.0 C70,264.5 210.0,264.5 210.0,352.0\" fill=\"none\" stroke=\"currentColor\"/>\n",
       "    <text dy=\"1.25em\" style=\"font-size: 0.8em; letter-spacing: 1px\">\n",
       "        <textPath xlink:href=\"#arrow-eba0e224f5b24d129fed8412e85929d0-0-0\" class=\"displacy-label\" startOffset=\"50%\" side=\"left\" fill=\"currentColor\" text-anchor=\"middle\">nsubj</textPath>\n",
       "    </text>\n",
       "    <path class=\"displacy-arrowhead\" d=\"M70,354.0 L62,342.0 78,342.0\" fill=\"currentColor\"/>\n",
       "</g>\n",
       "\n",
       "<g class=\"displacy-arrow\">\n",
       "    <path class=\"displacy-arc\" id=\"arrow-eba0e224f5b24d129fed8412e85929d0-0-1\" stroke-width=\"2px\" d=\"M420,352.0 C420,89.5 1270.0,89.5 1270.0,352.0\" fill=\"none\" stroke=\"currentColor\"/>\n",
       "    <text dy=\"1.25em\" style=\"font-size: 0.8em; letter-spacing: 1px\">\n",
       "        <textPath xlink:href=\"#arrow-eba0e224f5b24d129fed8412e85929d0-0-1\" class=\"displacy-label\" startOffset=\"50%\" side=\"left\" fill=\"currentColor\" text-anchor=\"middle\">amod</textPath>\n",
       "    </text>\n",
       "    <path class=\"displacy-arrowhead\" d=\"M420,354.0 L412,342.0 428,342.0\" fill=\"currentColor\"/>\n",
       "</g>\n",
       "\n",
       "<g class=\"displacy-arrow\">\n",
       "    <path class=\"displacy-arc\" id=\"arrow-eba0e224f5b24d129fed8412e85929d0-0-2\" stroke-width=\"2px\" d=\"M595,352.0 C595,264.5 735.0,264.5 735.0,352.0\" fill=\"none\" stroke=\"currentColor\"/>\n",
       "    <text dy=\"1.25em\" style=\"font-size: 0.8em; letter-spacing: 1px\">\n",
       "        <textPath xlink:href=\"#arrow-eba0e224f5b24d129fed8412e85929d0-0-2\" class=\"displacy-label\" startOffset=\"50%\" side=\"left\" fill=\"currentColor\" text-anchor=\"middle\">advmod</textPath>\n",
       "    </text>\n",
       "    <path class=\"displacy-arrowhead\" d=\"M595,354.0 L587,342.0 603,342.0\" fill=\"currentColor\"/>\n",
       "</g>\n",
       "\n",
       "<g class=\"displacy-arrow\">\n",
       "    <path class=\"displacy-arc\" id=\"arrow-eba0e224f5b24d129fed8412e85929d0-0-3\" stroke-width=\"2px\" d=\"M770,352.0 C770,177.0 1265.0,177.0 1265.0,352.0\" fill=\"none\" stroke=\"currentColor\"/>\n",
       "    <text dy=\"1.25em\" style=\"font-size: 0.8em; letter-spacing: 1px\">\n",
       "        <textPath xlink:href=\"#arrow-eba0e224f5b24d129fed8412e85929d0-0-3\" class=\"displacy-label\" startOffset=\"50%\" side=\"left\" fill=\"currentColor\" text-anchor=\"middle\">amod</textPath>\n",
       "    </text>\n",
       "    <path class=\"displacy-arrowhead\" d=\"M770,354.0 L762,342.0 778,342.0\" fill=\"currentColor\"/>\n",
       "</g>\n",
       "\n",
       "<g class=\"displacy-arrow\">\n",
       "    <path class=\"displacy-arc\" id=\"arrow-eba0e224f5b24d129fed8412e85929d0-0-4\" stroke-width=\"2px\" d=\"M945,352.0 C945,264.5 1085.0,264.5 1085.0,352.0\" fill=\"none\" stroke=\"currentColor\"/>\n",
       "    <text dy=\"1.25em\" style=\"font-size: 0.8em; letter-spacing: 1px\">\n",
       "        <textPath xlink:href=\"#arrow-eba0e224f5b24d129fed8412e85929d0-0-4\" class=\"displacy-label\" startOffset=\"50%\" side=\"left\" fill=\"currentColor\" text-anchor=\"middle\">advmod</textPath>\n",
       "    </text>\n",
       "    <path class=\"displacy-arrowhead\" d=\"M945,354.0 L937,342.0 953,342.0\" fill=\"currentColor\"/>\n",
       "</g>\n",
       "\n",
       "<g class=\"displacy-arrow\">\n",
       "    <path class=\"displacy-arc\" id=\"arrow-eba0e224f5b24d129fed8412e85929d0-0-5\" stroke-width=\"2px\" d=\"M1120,352.0 C1120,264.5 1260.0,264.5 1260.0,352.0\" fill=\"none\" stroke=\"currentColor\"/>\n",
       "    <text dy=\"1.25em\" style=\"font-size: 0.8em; letter-spacing: 1px\">\n",
       "        <textPath xlink:href=\"#arrow-eba0e224f5b24d129fed8412e85929d0-0-5\" class=\"displacy-label\" startOffset=\"50%\" side=\"left\" fill=\"currentColor\" text-anchor=\"middle\">amod</textPath>\n",
       "    </text>\n",
       "    <path class=\"displacy-arrowhead\" d=\"M1120,354.0 L1112,342.0 1128,342.0\" fill=\"currentColor\"/>\n",
       "</g>\n",
       "\n",
       "<g class=\"displacy-arrow\">\n",
       "    <path class=\"displacy-arc\" id=\"arrow-eba0e224f5b24d129fed8412e85929d0-0-6\" stroke-width=\"2px\" d=\"M245,352.0 C245,2.0 1275.0,2.0 1275.0,352.0\" fill=\"none\" stroke=\"currentColor\"/>\n",
       "    <text dy=\"1.25em\" style=\"font-size: 0.8em; letter-spacing: 1px\">\n",
       "        <textPath xlink:href=\"#arrow-eba0e224f5b24d129fed8412e85929d0-0-6\" class=\"displacy-label\" startOffset=\"50%\" side=\"left\" fill=\"currentColor\" text-anchor=\"middle\">attr</textPath>\n",
       "    </text>\n",
       "    <path class=\"displacy-arrowhead\" d=\"M1275.0,354.0 L1283.0,342.0 1267.0,342.0\" fill=\"currentColor\"/>\n",
       "</g>\n",
       "</svg></span>"
      ],
      "text/plain": [
       "<IPython.core.display.HTML object>"
      ]
     },
     "metadata": {},
     "output_type": "display_data"
    },
    {
     "name": "stderr",
     "output_type": "stream",
     "text": [
      "C:\\Users\\tonyk\\anaconda3\\lib\\site-packages\\spacy\\displacy\\__init__.py:191: UserWarning: [W006] No entities to visualize found in Doc object. If this is surprising to you, make sure the Doc was processed using a model that supports named entity recognition, and check the `doc.ents` property manually if necessary.\n",
      "  warnings.warn(Warnings.W006)\n"
     ]
    },
    {
     "data": {
      "text/html": [
       "<span class=\"tex2jax_ignore\"><div class=\"entities\" style=\"line-height: 2.5; direction: ltr\">Rats are various medium-sized, long-tailed rodents.</div></span>"
      ],
      "text/plain": [
       "<IPython.core.display.HTML object>"
      ]
     },
     "metadata": {},
     "output_type": "display_data"
    }
   ],
   "source": [
    "!python -m spacy download en\n",
    "import spacy\n",
    "from spacy import displacy\n",
    "\n",
    "# In[2]:\n",
    "doc = nlp(\"Rats are various medium-sized, long-tailed rodents.\")\n",
    "displacy.render(doc, style=\"dep\")\n",
    "\n",
    "# In[3]:\n",
    "doc2 = nlp(\"Rats are various medium-sized, long-tailed rodents.\")\n",
    "displacy.render(doc2, style=\"ent\")"
   ]
  },
  {
   "cell_type": "markdown",
   "metadata": {
    "id": "9_wcII61AIVB"
   },
   "source": [
    "#Part of Speech Tagging (POS)"
   ]
  },
  {
   "cell_type": "markdown",
   "metadata": {
    "id": "C9zlmEgWAMMB"
   },
   "source": [
    "In the field of computational linguistics, understanding parts-of-speech is essential. SpaCy offers an easy way to parse a text and identify its parts of speech. Below, we will iterate across each token (word or punctuation) in the text and identify its part of speech."
   ]
  },
  {
   "cell_type": "code",
   "execution_count": null,
   "metadata": {
    "colab": {
     "base_uri": "https://localhost:8080/"
    },
    "id": "IbUrnvWc25-N",
    "outputId": "4e9808c0-3087-42ec-861c-d300625e0dd9"
   },
   "outputs": [
    {
     "name": "stdout",
     "output_type": "stream",
     "text": [
      "An DET det\n",
      "encounter NOUN nsubj\n",
      "of ADP prep\n",
      "the DET det\n",
      "programmer NOUN pobj\n",
      "and CCONJ cc\n",
      "the DET det\n",
      "computer NOUN compound\n",
      "security NOUN compound\n",
      "hacker NOUN compound\n",
      "subculture NOUN conj\n",
      "occurred VERB ROOT\n",
      "at ADP prep\n",
      "the DET det\n",
      "end NOUN pobj\n",
      "of ADP prep\n",
      "the DET det\n",
      "1980s NOUN pobj\n",
      ", PUNCT punct\n",
      "when ADV advmod\n",
      "a DET det\n",
      "group NOUN nsubj\n",
      "of ADP prep\n",
      "computer NOUN compound\n",
      "security NOUN compound\n",
      "hackers NOUN pobj\n",
      ", PUNCT punct\n",
      "sympathizing VERB acl\n",
      "with ADP prep\n",
      "the DET det\n",
      "Chaos PROPN compound\n",
      "Computer PROPN compound\n",
      "Club PROPN pobj\n",
      "( PUNCT punct\n",
      "which DET nsubj\n",
      "disclaimed VERB relcl\n",
      "any DET det\n",
      "knowledge NOUN dobj\n",
      "in ADP prep\n",
      "these DET det\n",
      "activities NOUN pobj\n",
      ") PUNCT punct\n",
      ", PUNCT punct\n",
      "broke VERB relcl\n",
      "into ADP prep\n",
      "computers NOUN pobj\n",
      "of ADP prep\n",
      "American ADJ amod\n",
      "military ADJ amod\n",
      "organizations NOUN pobj\n",
      "and CCONJ cc\n",
      "academic ADJ amod\n",
      "institutions NOUN conj\n",
      ". PUNCT punct\n"
     ]
    }
   ],
   "source": [
    "for token in sent1:\n",
    "    print (token.text, token.pos_, token.dep_)"
   ]
  },
  {
   "cell_type": "markdown",
   "metadata": {
    "id": "R2wCGPMEATtK"
   },
   "source": [
    "#Named Entity Recognition"
   ]
  },
  {
   "cell_type": "markdown",
   "metadata": {
    "id": "GVLSlTgTAZrh"
   },
   "source": [
    "Another essential task of NLP, is named entity recognition, or NER. I spoke about NER in the last notebook. Here, I’d like to demonstrate how to perform basic NER via spaCy. Again, we will iterate over the doc object as we did above, but instead of iterating over doc.sents, we will iterate over doc.ents. For our purposes right now, I simply want to print off each entity’s text (the string itself) and its corresponding label (note the _ after label). I will be explaining this process in much greater detail in the next two notebooks."
   ]
  },
  {
   "cell_type": "code",
   "execution_count": null,
   "metadata": {
    "id": "wQFs_qsF39iD"
   },
   "outputs": [],
   "source": [
    "for ent in doc.ents:\n",
    "    print (ent.text, ent.label_)"
   ]
  },
  {
   "cell_type": "code",
   "execution_count": null,
   "metadata": {
    "colab": {
     "base_uri": "https://localhost:8080/",
     "height": 221
    },
    "id": "c1IuP8o5AiEI",
    "outputId": "94ff093b-dcee-42f1-86f6-fab04b222e06"
   },
   "outputs": [
    {
     "data": {
      "text/html": [
       "<span class=\"tex2jax_ignore\"><div class=\"entities\" style=\"line-height: 2.5; direction: ltr\">An encounter of the programmer and the computer security hacker subculture occurred at \n",
       "<mark class=\"entity\" style=\"background: #bfe1d9; padding: 0.45em 0.6em; margin: 0 0.25em; line-height: 1; border-radius: 0.35em;\">\n",
       "    the end of the 1980s\n",
       "    <span style=\"font-size: 0.8em; font-weight: bold; line-height: 1; border-radius: 0.35em; vertical-align: middle; margin-left: 0.5rem\">DATE</span>\n",
       "</mark>\n",
       ", when a group of computer security hackers, sympathizing with \n",
       "<mark class=\"entity\" style=\"background: #7aecec; padding: 0.45em 0.6em; margin: 0 0.25em; line-height: 1; border-radius: 0.35em;\">\n",
       "    the Chaos Computer Club\n",
       "    <span style=\"font-size: 0.8em; font-weight: bold; line-height: 1; border-radius: 0.35em; vertical-align: middle; margin-left: 0.5rem\">ORG</span>\n",
       "</mark>\n",
       " (which disclaimed any knowledge in these activities), broke into computers of \n",
       "<mark class=\"entity\" style=\"background: #c887fb; padding: 0.45em 0.6em; margin: 0 0.25em; line-height: 1; border-radius: 0.35em;\">\n",
       "    American\n",
       "    <span style=\"font-size: 0.8em; font-weight: bold; line-height: 1; border-radius: 0.35em; vertical-align: middle; margin-left: 0.5rem\">NORP</span>\n",
       "</mark>\n",
       " military organizations and academic institutions. </div></span>"
      ],
      "text/plain": [
       "<IPython.core.display.HTML object>"
      ]
     },
     "metadata": {},
     "output_type": "display_data"
    }
   ],
   "source": [
    "displacy.render(sent1, style=\"ent\")"
   ]
  },
  {
   "cell_type": "markdown",
   "metadata": {
    "id": "D2XJp-vu3-Tk"
   },
   "source": [
    "#Word Vectors and spaCy"
   ]
  },
  {
   "cell_type": "code",
   "execution_count": null,
   "metadata": {
    "colab": {
     "base_uri": "https://localhost:8080/"
    },
    "id": "-cz77oJ24AeD",
    "outputId": "56c8f164-e006-485a-fc15-a2776e385dd8",
    "scrolled": true
   },
   "outputs": [
    {
     "name": "stdout",
     "output_type": "stream",
     "text": [
      "Collecting en-core-web-md==3.1.0\n",
      "  Downloading https://github.com/explosion/spacy-models/releases/download/en_core_web_md-3.1.0/en_core_web_md-3.1.0-py3-none-any.whl (45.4 MB)\n",
      "Requirement already satisfied: spacy<3.2.0,>=3.1.0 in c:\\users\\tonyk\\anaconda3\\lib\\site-packages (from en-core-web-md==3.1.0) (3.1.3)\n",
      "Requirement already satisfied: tqdm<5.0.0,>=4.38.0 in c:\\users\\tonyk\\anaconda3\\lib\\site-packages (from spacy<3.2.0,>=3.1.0->en-core-web-md==3.1.0) (4.62.2)\n",
      "Requirement already satisfied: cymem<2.1.0,>=2.0.2 in c:\\users\\tonyk\\anaconda3\\lib\\site-packages (from spacy<3.2.0,>=3.1.0->en-core-web-md==3.1.0) (2.0.5)\n",
      "Requirement already satisfied: pathy>=0.3.5 in c:\\users\\tonyk\\anaconda3\\lib\\site-packages (from spacy<3.2.0,>=3.1.0->en-core-web-md==3.1.0) (0.6.0)\n",
      "Requirement already satisfied: wasabi<1.1.0,>=0.8.1 in c:\\users\\tonyk\\anaconda3\\lib\\site-packages (from spacy<3.2.0,>=3.1.0->en-core-web-md==3.1.0) (0.8.2)\n",
      "Requirement already satisfied: pydantic!=1.8,!=1.8.1,<1.9.0,>=1.7.4 in c:\\users\\tonyk\\anaconda3\\lib\\site-packages (from spacy<3.2.0,>=3.1.0->en-core-web-md==3.1.0) (1.8.2)\n",
      "Requirement already satisfied: packaging>=20.0 in c:\\users\\tonyk\\anaconda3\\lib\\site-packages (from spacy<3.2.0,>=3.1.0->en-core-web-md==3.1.0) (21.0)\n",
      "Requirement already satisfied: spacy-legacy<3.1.0,>=3.0.8 in c:\\users\\tonyk\\anaconda3\\lib\\site-packages (from spacy<3.2.0,>=3.1.0->en-core-web-md==3.1.0) (3.0.8)\n",
      "Requirement already satisfied: srsly<3.0.0,>=2.4.1 in c:\\users\\tonyk\\anaconda3\\lib\\site-packages (from spacy<3.2.0,>=3.1.0->en-core-web-md==3.1.0) (2.4.1)\n",
      "Requirement already satisfied: blis<0.8.0,>=0.4.0 in c:\\users\\tonyk\\anaconda3\\lib\\site-packages (from spacy<3.2.0,>=3.1.0->en-core-web-md==3.1.0) (0.7.4)\n",
      "Requirement already satisfied: catalogue<2.1.0,>=2.0.6 in c:\\users\\tonyk\\anaconda3\\lib\\site-packages (from spacy<3.2.0,>=3.1.0->en-core-web-md==3.1.0) (2.0.6)\n",
      "Requirement already satisfied: setuptools in c:\\users\\tonyk\\anaconda3\\lib\\site-packages (from spacy<3.2.0,>=3.1.0->en-core-web-md==3.1.0) (58.2.0)\n",
      "Requirement already satisfied: requests<3.0.0,>=2.13.0 in c:\\users\\tonyk\\anaconda3\\lib\\site-packages (from spacy<3.2.0,>=3.1.0->en-core-web-md==3.1.0) (2.25.1)\n",
      "Requirement already satisfied: thinc<8.1.0,>=8.0.9 in c:\\users\\tonyk\\anaconda3\\lib\\site-packages (from spacy<3.2.0,>=3.1.0->en-core-web-md==3.1.0) (8.0.10)\n",
      "Requirement already satisfied: typer<0.5.0,>=0.3.0 in c:\\users\\tonyk\\anaconda3\\lib\\site-packages (from spacy<3.2.0,>=3.1.0->en-core-web-md==3.1.0) (0.4.0)\n",
      "Requirement already satisfied: jinja2 in c:\\users\\tonyk\\anaconda3\\lib\\site-packages (from spacy<3.2.0,>=3.1.0->en-core-web-md==3.1.0) (3.0.1)\n",
      "Requirement already satisfied: preshed<3.1.0,>=3.0.2 in c:\\users\\tonyk\\anaconda3\\lib\\site-packages (from spacy<3.2.0,>=3.1.0->en-core-web-md==3.1.0) (3.0.5)\n",
      "Requirement already satisfied: murmurhash<1.1.0,>=0.28.0 in c:\\users\\tonyk\\anaconda3\\lib\\site-packages (from spacy<3.2.0,>=3.1.0->en-core-web-md==3.1.0) (1.0.5)\n",
      "Requirement already satisfied: numpy>=1.15.0 in c:\\users\\tonyk\\anaconda3\\lib\\site-packages (from spacy<3.2.0,>=3.1.0->en-core-web-md==3.1.0) (1.21.2)\n",
      "Requirement already satisfied: pyparsing>=2.0.2 in c:\\users\\tonyk\\anaconda3\\lib\\site-packages (from packaging>=20.0->spacy<3.2.0,>=3.1.0->en-core-web-md==3.1.0) (2.4.7)\n",
      "Requirement already satisfied: smart-open<6.0.0,>=5.0.0 in c:\\users\\tonyk\\anaconda3\\lib\\site-packages (from pathy>=0.3.5->spacy<3.2.0,>=3.1.0->en-core-web-md==3.1.0) (5.2.1)\n",
      "Requirement already satisfied: typing-extensions>=3.7.4.3 in c:\\users\\tonyk\\anaconda3\\lib\\site-packages (from pydantic!=1.8,!=1.8.1,<1.9.0,>=1.7.4->spacy<3.2.0,>=3.1.0->en-core-web-md==3.1.0) (3.10.0.2)\n",
      "Requirement already satisfied: certifi>=2017.4.17 in c:\\users\\tonyk\\anaconda3\\lib\\site-packages (from requests<3.0.0,>=2.13.0->spacy<3.2.0,>=3.1.0->en-core-web-md==3.1.0) (2021.10.8)\n",
      "Requirement already satisfied: chardet<5,>=3.0.2 in c:\\users\\tonyk\\anaconda3\\lib\\site-packages (from requests<3.0.0,>=2.13.0->spacy<3.2.0,>=3.1.0->en-core-web-md==3.1.0) (4.0.0)\n",
      "Requirement already satisfied: urllib3<1.27,>=1.21.1 in c:\\users\\tonyk\\anaconda3\\lib\\site-packages (from requests<3.0.0,>=2.13.0->spacy<3.2.0,>=3.1.0->en-core-web-md==3.1.0) (1.26.7)\n",
      "Requirement already satisfied: idna<3,>=2.5 in c:\\users\\tonyk\\anaconda3\\lib\\site-packages (from requests<3.0.0,>=2.13.0->spacy<3.2.0,>=3.1.0->en-core-web-md==3.1.0) (2.10)\n",
      "Requirement already satisfied: colorama in c:\\users\\tonyk\\anaconda3\\lib\\site-packages (from tqdm<5.0.0,>=4.38.0->spacy<3.2.0,>=3.1.0->en-core-web-md==3.1.0) (0.4.4)\n",
      "Requirement already satisfied: click<9.0.0,>=7.1.1 in c:\\users\\tonyk\\anaconda3\\lib\\site-packages (from typer<0.5.0,>=0.3.0->spacy<3.2.0,>=3.1.0->en-core-web-md==3.1.0) (8.0.1)\n",
      "Requirement already satisfied: MarkupSafe>=2.0 in c:\\users\\tonyk\\anaconda3\\lib\\site-packages (from jinja2->spacy<3.2.0,>=3.1.0->en-core-web-md==3.1.0) (2.0.1)\n",
      "Installing collected packages: en-core-web-md\n",
      "Successfully installed en-core-web-md-3.1.0\n",
      "[+] Download and installation successful\n",
      "You can now load the package via spacy.load('en_core_web_md')\n"
     ]
    }
   ],
   "source": [
    "import spacy\n",
    "!python -m spacy download en_core_web_md"
   ]
  },
  {
   "cell_type": "code",
   "execution_count": null,
   "metadata": {
    "id": "AXEXeaut5y7T"
   },
   "outputs": [],
   "source": [
    "import bs4\n",
    "import sys\n",
    "import requests\n",
    "\n",
    "res = requests.get('https://en.wikipedia.org/wiki/Google')\n",
    "res.raise_for_status()\n",
    "wiki = bs4.BeautifulSoup(res.text,\"html.parser\")\n",
    "\n",
    "filename = wiki.title.text.split(' - Wikipedia')[0]\n",
    "with open(filename, 'w+') as f:\n",
    "    for i in wiki.select('p'):\n",
    "        f.write(i.getText())\n",
    "\n",
    "doc = nlp(i.getText())\n",
    "sentence1 = list(doc.sents)[0]\n"
   ]
  },
  {
   "cell_type": "code",
   "execution_count": null,
   "metadata": {
    "colab": {
     "base_uri": "https://localhost:8080/"
    },
    "id": "YfkHpeyk6HJr",
    "outputId": "1481e302-53c9-47cf-c24a-b6af2720a01a"
   },
   "outputs": [
    {
     "data": {
      "text/plain": [
       "In early June 2020, a $5 billion class-action lawsuit was filed against Google by a group of consumers, alleging that Chrome’s Incognito browsing mode still collects their user history.[338][339] The lawsuit became known in March 2021 when a federal judge denied Google's request to dismiss the case, ruling that they must face the group’s charges.[340][341] Reuters reported that the lawsuit alleged that Google's CEO Sundar Pichai sought to keep the users unaware of this issue.[342]"
      ]
     },
     "execution_count": 30,
     "metadata": {},
     "output_type": "execute_result"
    }
   ],
   "source": [
    "doc"
   ]
  },
  {
   "cell_type": "code",
   "execution_count": null,
   "metadata": {
    "colab": {
     "base_uri": "https://localhost:8080/"
    },
    "id": "v0iH8jQY6QaD",
    "outputId": "43b5f4d6-a5b4-41ff-a5ec-9c8751894051"
   },
   "outputs": [
    {
     "data": {
      "text/plain": [
       "In early June 2020, a $5 billion class-action lawsuit was filed against Google by a group of consumers, alleging that Chrome’s"
      ]
     },
     "execution_count": 31,
     "metadata": {},
     "output_type": "execute_result"
    }
   ],
   "source": [
    "sentence1"
   ]
  },
  {
   "cell_type": "code",
   "execution_count": null,
   "metadata": {
    "colab": {
     "base_uri": "https://localhost:8080/"
    },
    "id": "1tjq1vbS6X-K",
    "outputId": "b9d5e13f-7626-4c94-f7ee-007d601ef564"
   },
   "outputs": [
    {
     "name": "stdout",
     "output_type": "stream",
     "text": [
      "89 27\n"
     ]
    }
   ],
   "source": [
    "print(len(doc), len(sentence1))"
   ]
  },
  {
   "cell_type": "markdown",
   "metadata": {
    "id": "X66Db4Mp6lwI"
   },
   "source": [
    "#Word Vectors"
   ]
  },
  {
   "cell_type": "markdown",
   "metadata": {
    "id": "iqFh7NSO6ulx"
   },
   "source": [
    "Word vectors, or word embeddings, are numerical representations of words in multidimensional space through matrices. The purpose of the word vector is to get a computer system to understand a word. Computers cannot understand text efficiently. They can, however, process numbers quickly and well. For this reason, it is important to convert a word into a number.\n",
    "\n",
    "Initial methods for creating word vectors in a pipeline take all words in a corpus and convert them into a single, unique number. These words are then stored in a dictionary that would look like this: {“the”: 1, “a”, 2} etc. This is known as a bag of words. This approach to representing words numerically, however, only allow a computer to understand words numerically to identify unique words. It does not, however, allow a computer to understand meaning.\n",
    "\n",
    "Imagine this scenario:\n",
    "\n",
    "Tom loves to eat chocolate.\n",
    "\n",
    "Tom likes to eat chocolate.\n",
    "\n",
    "These sentences represented as a numerical array (list) would look like this:\n",
    "\n",
    "1, 2, 3, 4, 5\n",
    "\n",
    "1, 6, 3, 4, 5"
   ]
  },
  {
   "cell_type": "markdown",
   "metadata": {
    "id": "W5UBXVyj8IfJ"
   },
   "source": [
    "#Why use Word Vectors? !!!\n",
    "##The goal of word vectors is to achieve numerical understanding of language so that a computer can perform more complex tasks on that corpus.\n"
   ]
  },
  {
   "cell_type": "code",
   "execution_count": null,
   "metadata": {
    "colab": {
     "base_uri": "https://localhost:8080/"
    },
    "id": "EnFBF5B76i5q",
    "outputId": "1e55ef70-e4c4-4705-dc60-b23d86e92614"
   },
   "outputs": [
    {
     "name": "stdout",
     "output_type": "stream",
     "text": [
      "Collecting en-core-web-md==3.1.0\n",
      "  Using cached https://github.com/explosion/spacy-models/releases/download/en_core_web_md-3.1.0/en_core_web_md-3.1.0-py3-none-any.whl (45.4 MB)\n",
      "Requirement already satisfied: spacy<3.2.0,>=3.1.0 in c:\\users\\tonyk\\anaconda3\\lib\\site-packages (from en-core-web-md==3.1.0) (3.1.3)\n",
      "Requirement already satisfied: jinja2 in c:\\users\\tonyk\\anaconda3\\lib\\site-packages (from spacy<3.2.0,>=3.1.0->en-core-web-md==3.1.0) (3.0.1)\n",
      "Requirement already satisfied: wasabi<1.1.0,>=0.8.1 in c:\\users\\tonyk\\anaconda3\\lib\\site-packages (from spacy<3.2.0,>=3.1.0->en-core-web-md==3.1.0) (0.8.2)\n",
      "Requirement already satisfied: spacy-legacy<3.1.0,>=3.0.8 in c:\\users\\tonyk\\anaconda3\\lib\\site-packages (from spacy<3.2.0,>=3.1.0->en-core-web-md==3.1.0) (3.0.8)\n",
      "Requirement already satisfied: srsly<3.0.0,>=2.4.1 in c:\\users\\tonyk\\anaconda3\\lib\\site-packages (from spacy<3.2.0,>=3.1.0->en-core-web-md==3.1.0) (2.4.1)\n",
      "Requirement already satisfied: packaging>=20.0 in c:\\users\\tonyk\\anaconda3\\lib\\site-packages (from spacy<3.2.0,>=3.1.0->en-core-web-md==3.1.0) (21.0)\n",
      "Requirement already satisfied: numpy>=1.15.0 in c:\\users\\tonyk\\anaconda3\\lib\\site-packages (from spacy<3.2.0,>=3.1.0->en-core-web-md==3.1.0) (1.21.2)\n",
      "Requirement already satisfied: murmurhash<1.1.0,>=0.28.0 in c:\\users\\tonyk\\anaconda3\\lib\\site-packages (from spacy<3.2.0,>=3.1.0->en-core-web-md==3.1.0) (1.0.5)\n",
      "Requirement already satisfied: cymem<2.1.0,>=2.0.2 in c:\\users\\tonyk\\anaconda3\\lib\\site-packages (from spacy<3.2.0,>=3.1.0->en-core-web-md==3.1.0) (2.0.5)\n",
      "Requirement already satisfied: typer<0.5.0,>=0.3.0 in c:\\users\\tonyk\\anaconda3\\lib\\site-packages (from spacy<3.2.0,>=3.1.0->en-core-web-md==3.1.0) (0.4.0)\n",
      "Requirement already satisfied: tqdm<5.0.0,>=4.38.0 in c:\\users\\tonyk\\anaconda3\\lib\\site-packages (from spacy<3.2.0,>=3.1.0->en-core-web-md==3.1.0) (4.62.2)\n",
      "Requirement already satisfied: requests<3.0.0,>=2.13.0 in c:\\users\\tonyk\\anaconda3\\lib\\site-packages (from spacy<3.2.0,>=3.1.0->en-core-web-md==3.1.0) (2.25.1)\n",
      "Requirement already satisfied: pydantic!=1.8,!=1.8.1,<1.9.0,>=1.7.4 in c:\\users\\tonyk\\anaconda3\\lib\\site-packages (from spacy<3.2.0,>=3.1.0->en-core-web-md==3.1.0) (1.8.2)\n",
      "Requirement already satisfied: preshed<3.1.0,>=3.0.2 in c:\\users\\tonyk\\anaconda3\\lib\\site-packages (from spacy<3.2.0,>=3.1.0->en-core-web-md==3.1.0) (3.0.5)\n",
      "Requirement already satisfied: blis<0.8.0,>=0.4.0 in c:\\users\\tonyk\\anaconda3\\lib\\site-packages (from spacy<3.2.0,>=3.1.0->en-core-web-md==3.1.0) (0.7.4)\n",
      "Requirement already satisfied: setuptools in c:\\users\\tonyk\\anaconda3\\lib\\site-packages (from spacy<3.2.0,>=3.1.0->en-core-web-md==3.1.0) (58.2.0)\n",
      "Requirement already satisfied: catalogue<2.1.0,>=2.0.6 in c:\\users\\tonyk\\anaconda3\\lib\\site-packages (from spacy<3.2.0,>=3.1.0->en-core-web-md==3.1.0) (2.0.6)\n",
      "Requirement already satisfied: thinc<8.1.0,>=8.0.9 in c:\\users\\tonyk\\anaconda3\\lib\\site-packages (from spacy<3.2.0,>=3.1.0->en-core-web-md==3.1.0) (8.0.10)\n",
      "Requirement already satisfied: pathy>=0.3.5 in c:\\users\\tonyk\\anaconda3\\lib\\site-packages (from spacy<3.2.0,>=3.1.0->en-core-web-md==3.1.0) (0.6.0)\n",
      "Requirement already satisfied: pyparsing>=2.0.2 in c:\\users\\tonyk\\anaconda3\\lib\\site-packages (from packaging>=20.0->spacy<3.2.0,>=3.1.0->en-core-web-md==3.1.0) (2.4.7)\n",
      "Requirement already satisfied: smart-open<6.0.0,>=5.0.0 in c:\\users\\tonyk\\anaconda3\\lib\\site-packages (from pathy>=0.3.5->spacy<3.2.0,>=3.1.0->en-core-web-md==3.1.0) (5.2.1)\n",
      "Requirement already satisfied: typing-extensions>=3.7.4.3 in c:\\users\\tonyk\\anaconda3\\lib\\site-packages (from pydantic!=1.8,!=1.8.1,<1.9.0,>=1.7.4->spacy<3.2.0,>=3.1.0->en-core-web-md==3.1.0) (3.10.0.2)\n",
      "Requirement already satisfied: idna<3,>=2.5 in c:\\users\\tonyk\\anaconda3\\lib\\site-packages (from requests<3.0.0,>=2.13.0->spacy<3.2.0,>=3.1.0->en-core-web-md==3.1.0) (2.10)\n",
      "Requirement already satisfied: certifi>=2017.4.17 in c:\\users\\tonyk\\anaconda3\\lib\\site-packages (from requests<3.0.0,>=2.13.0->spacy<3.2.0,>=3.1.0->en-core-web-md==3.1.0) (2021.10.8)\n",
      "Requirement already satisfied: urllib3<1.27,>=1.21.1 in c:\\users\\tonyk\\anaconda3\\lib\\site-packages (from requests<3.0.0,>=2.13.0->spacy<3.2.0,>=3.1.0->en-core-web-md==3.1.0) (1.26.7)\n",
      "Requirement already satisfied: chardet<5,>=3.0.2 in c:\\users\\tonyk\\anaconda3\\lib\\site-packages (from requests<3.0.0,>=2.13.0->spacy<3.2.0,>=3.1.0->en-core-web-md==3.1.0) (4.0.0)\n",
      "Requirement already satisfied: colorama in c:\\users\\tonyk\\anaconda3\\lib\\site-packages (from tqdm<5.0.0,>=4.38.0->spacy<3.2.0,>=3.1.0->en-core-web-md==3.1.0) (0.4.4)\n",
      "Requirement already satisfied: click<9.0.0,>=7.1.1 in c:\\users\\tonyk\\anaconda3\\lib\\site-packages (from typer<0.5.0,>=0.3.0->spacy<3.2.0,>=3.1.0->en-core-web-md==3.1.0) (8.0.1)\n",
      "Requirement already satisfied: MarkupSafe>=2.0 in c:\\users\\tonyk\\anaconda3\\lib\\site-packages (from jinja2->spacy<3.2.0,>=3.1.0->en-core-web-md==3.1.0) (2.0.1)\n",
      "[+] Download and installation successful\n",
      "You can now load the package via spacy.load('en_core_web_md')\n"
     ]
    }
   ],
   "source": [
    "import spacy\n",
    "!python -m spacy download en_core_web_md"
   ]
  },
  {
   "cell_type": "code",
   "execution_count": null,
   "metadata": {
    "colab": {
     "base_uri": "https://localhost:8080/"
    },
    "id": "1tUSYkPq-OFO",
    "outputId": "1f3b6906-02c2-434b-8c47-2b5b1f017672"
   },
   "outputs": [
    {
     "name": "stdout",
     "output_type": "stream",
     "text": [
      "\n",
      "Usage:   \n",
      "  pip <command> [options]\n",
      "\n",
      "Commands:\n",
      "  install                     Install packages.\n",
      "  download                    Download packages.\n",
      "  uninstall                   Uninstall packages.\n",
      "  freeze                      Output installed packages in requirements format.\n",
      "  list                        List installed packages.\n",
      "  show                        Show information about installed packages.\n",
      "  check                       Verify installed packages have compatible dependencies.\n",
      "  config                      Manage local and global configuration.\n",
      "  search                      Search PyPI for packages.\n",
      "  cache                       Inspect and manage pip's wheel cache.\n",
      "  index                       Inspect information available from package indexes.\n",
      "  wheel                       Build wheels from your requirements.\n",
      "  hash                        Compute hashes of package archives.\n",
      "  completion                  A helper command used for command completion.\n",
      "  debug                       Show information useful for debugging.\n",
      "  help                        Show help for commands.\n",
      "\n",
      "General Options:\n",
      "  -h, --help                  Show help.\n",
      "  --debug                     Let unhandled exceptions propagate outside the\n",
      "                              main subroutine, instead of logging them to\n",
      "                              stderr.\n",
      "  --isolated                  Run pip in an isolated mode, ignoring\n",
      "                              environment variables and user configuration.\n",
      "  -v, --verbose               Give more output. Option is additive, and can be\n",
      "                              used up to 3 times.\n",
      "  -V, --version               Show version and exit.\n",
      "  -q, --quiet                 Give less output. Option is additive, and can be\n",
      "                              used up to 3 times (corresponding to WARNING,\n",
      "                              ERROR, and CRITICAL logging levels).\n",
      "  --log <path>                Path to a verbose appending log.\n",
      "  --no-input                  Disable prompting for input.\n",
      "  --proxy <proxy>             Specify a proxy in the form\n",
      "                              [user:passwd@]proxy.server:port.\n",
      "  --retries <retries>         Maximum number of retries each connection should\n",
      "                              attempt (default 5 times).\n",
      "  --timeout <sec>             Set the socket timeout (default 15 seconds).\n",
      "  --exists-action <action>    Default action when a path already exists:\n",
      "                              (s)witch, (i)gnore, (w)ipe, (b)ackup, (a)bort.\n",
      "  --trusted-host <hostname>   Mark this host or host:port pair as trusted,\n",
      "                              even though it does not have valid or any HTTPS.\n",
      "  --cert <path>               Path to PEM-encoded CA certificate bundle. If\n",
      "                              provided, overrides the default. See 'SSL\n",
      "                              Certificate Verification' in pip documentation\n",
      "                              for more information.\n",
      "  --client-cert <path>        Path to SSL client certificate, a single file\n",
      "                              containing the private key and the certificate\n",
      "                              in PEM format.\n",
      "  --cache-dir <dir>           Store the cache data in <dir>.\n",
      "  --no-cache-dir              Disable the cache.\n",
      "  --disable-pip-version-check\n",
      "                              Don't periodically check PyPI to determine\n",
      "                              whether a new version of pip is available for\n",
      "                              download. Implied with --no-index.\n",
      "  --no-color                  Suppress colored output.\n",
      "  --no-python-version-warning\n",
      "                              Silence deprecation warnings for upcoming\n",
      "                              unsupported Pythons.\n",
      "  --use-feature <feature>     Enable new functionality, that may be backward\n",
      "                              incompatible.\n",
      "  --use-deprecated <feature>  Enable deprecated functionality, that will be\n",
      "                              removed in the future.\n"
     ]
    }
   ],
   "source": [
    "!pip"
   ]
  },
  {
   "cell_type": "code",
   "execution_count": null,
   "metadata": {
    "colab": {
     "base_uri": "https://localhost:8080/"
    },
    "id": "O4eAwZwf8oCu",
    "outputId": "514e49ca-8f0d-4a09-ef95-5efa70850ddf"
   },
   "outputs": [
    {
     "name": "stderr",
     "output_type": "stream",
     "text": [
      "Python was not found; run without arguments to install from the Microsoft Store, or disable this shortcut from Settings > Manage App Execution Aliases.\n"
     ]
    }
   ],
   "source": [
    "!python3 -m pip install PyDictionary\n"
   ]
  },
  {
   "cell_type": "code",
   "execution_count": null,
   "metadata": {
    "colab": {
     "base_uri": "https://localhost:8080/"
    },
    "id": "32vzBO8D8fx_",
    "outputId": "ad835b60-de90-4e36-c849-c38cbb6335af"
   },
   "outputs": [
    {
     "name": "stdout",
     "output_type": "stream",
     "text": [
      "Requirement already satisfied: pip in c:\\users\\tonyk\\anaconda3\\lib\\site-packages (21.3)\n",
      "Requirement already satisfied: setuptools in c:\\users\\tonyk\\anaconda3\\lib\\site-packages (58.2.0)\n",
      "Requirement already satisfied: wheel in c:\\users\\tonyk\\anaconda3\\lib\\site-packages (0.37.0)\n"
     ]
    }
   ],
   "source": [
    "!python -m pip install --upgrade pip setuptools wheel"
   ]
  },
  {
   "cell_type": "code",
   "execution_count": null,
   "metadata": {
    "colab": {
     "base_uri": "https://localhost:8080/"
    },
    "id": "OPcAlQCC9Ej3",
    "outputId": "eb2066ca-1600-4d03-a41c-3fe378b85c7e"
   },
   "outputs": [
    {
     "name": "stdout",
     "output_type": "stream",
     "text": [
      "Collecting PyDictionary\n",
      "  Downloading PyDictionary-2.0.1-py3-none-any.whl (6.1 kB)\n",
      "Collecting bs4\n",
      "  Downloading bs4-0.0.1.tar.gz (1.1 kB)\n",
      "  Preparing metadata (setup.py): started\n",
      "  Preparing metadata (setup.py): finished with status 'done'\n",
      "Requirement already satisfied: requests in c:\\users\\tonyk\\anaconda3\\lib\\site-packages (from PyDictionary) (2.25.1)\n",
      "Collecting goslate\n",
      "  Downloading goslate-1.5.1.tar.gz (17 kB)\n",
      "  Preparing metadata (setup.py): started\n",
      "  Preparing metadata (setup.py): finished with status 'done'\n",
      "Requirement already satisfied: click in c:\\users\\tonyk\\anaconda3\\lib\\site-packages (from PyDictionary) (8.0.1)\n",
      "Requirement already satisfied: beautifulsoup4 in c:\\users\\tonyk\\anaconda3\\lib\\site-packages (from bs4->PyDictionary) (4.10.0)\n",
      "Requirement already satisfied: colorama in c:\\users\\tonyk\\anaconda3\\lib\\site-packages (from click->PyDictionary) (0.4.4)\n",
      "Collecting futures\n",
      "  Downloading futures-3.1.0.tar.gz (25 kB)\n",
      "  Preparing metadata (setup.py): started\n",
      "  Preparing metadata (setup.py): finished with status 'error'\n",
      "  Downloading futures-3.0.5.tar.gz (25 kB)\n",
      "  Preparing metadata (setup.py): started\n",
      "  Preparing metadata (setup.py): finished with status 'error'\n",
      "  Downloading futures-3.0.4.tar.gz (25 kB)\n",
      "  Preparing metadata (setup.py): started\n",
      "  Preparing metadata (setup.py): finished with status 'error'\n",
      "  Downloading futures-3.0.3.tar.gz (24 kB)\n",
      "  Preparing metadata (setup.py): started\n",
      "  Preparing metadata (setup.py): finished with status 'error'\n",
      "  Downloading futures-3.0.2.tar.gz (24 kB)\n",
      "  Preparing metadata (setup.py): started\n",
      "  Preparing metadata (setup.py): finished with status 'error'\n",
      "  Downloading futures-3.0.1.tar.gz (24 kB)\n",
      "  Preparing metadata (setup.py): started\n",
      "  Preparing metadata (setup.py): finished with status 'error'\n",
      "  Downloading futures-3.0.0.tar.gz (24 kB)\n",
      "  Preparing metadata (setup.py): started\n",
      "  Preparing metadata (setup.py): finished with status 'error'\n",
      "  Downloading futures-2.2.0-py2.py3-none-any.whl (16 kB)\n",
      "Requirement already satisfied: chardet<5,>=3.0.2 in c:\\users\\tonyk\\anaconda3\\lib\\site-packages (from requests->PyDictionary) (4.0.0)\n",
      "Requirement already satisfied: urllib3<1.27,>=1.21.1 in c:\\users\\tonyk\\anaconda3\\lib\\site-packages (from requests->PyDictionary) (1.26.7)\n",
      "Requirement already satisfied: certifi>=2017.4.17 in c:\\users\\tonyk\\anaconda3\\lib\\site-packages (from requests->PyDictionary) (2021.10.8)\n",
      "Requirement already satisfied: idna<3,>=2.5 in c:\\users\\tonyk\\anaconda3\\lib\\site-packages (from requests->PyDictionary) (2.10)\n",
      "Requirement already satisfied: soupsieve>1.2 in c:\\users\\tonyk\\anaconda3\\lib\\site-packages (from beautifulsoup4->bs4->PyDictionary) (2.2.1)\n",
      "Building wheels for collected packages: bs4, goslate\n",
      "  Building wheel for bs4 (setup.py): started\n",
      "  Building wheel for bs4 (setup.py): finished with status 'done'\n",
      "  Created wheel for bs4: filename=bs4-0.0.1-py3-none-any.whl size=1271 sha256=1c7433e9d134a6c923b202f2fc7192eb7ab1fb36e492d7c0d892948c97883b2b\n",
      "  Stored in directory: c:\\users\\tonyk\\appdata\\local\\pip\\cache\\wheels\\75\\78\\21\\68b124549c9bdc94f822c02fb9aa3578a669843f9767776bca\n",
      "  Building wheel for goslate (setup.py): started\n",
      "  Building wheel for goslate (setup.py): finished with status 'done'\n",
      "  Created wheel for goslate: filename=goslate-1.5.1-py3-none-any.whl size=11411 sha256=107ed2b75bed0eaa49d67e9db4bddf7cbaf2d6109b826f443011e700ff177d37\n",
      "  Stored in directory: c:\\users\\tonyk\\appdata\\local\\pip\\cache\\wheels\\ce\\7d\\3b\\d13c7465b077ff93da8b99a13a49ffcaada38cf4ce3a6772a8\n",
      "Successfully built bs4 goslate\n",
      "Installing collected packages: futures, goslate, bs4, PyDictionary\n",
      "Successfully installed PyDictionary-2.0.1 bs4-0.0.1 futures-2.2.0 goslate-1.5.1\n"
     ]
    },
    {
     "name": "stderr",
     "output_type": "stream",
     "text": [
      "  ERROR: Command errored out with exit status 1:\n",
      "   command: 'c:\\users\\tonyk\\anaconda3\\python.exe' -c 'import io, os, sys, setuptools, tokenize; sys.argv[0] = '\"'\"'C:\\\\Users\\\\tonyk\\\\AppData\\\\Local\\\\Temp\\\\pip-install-mlopsei1\\\\futures_fbc59f36c4ec4a578a3cbd820f52d740\\\\setup.py'\"'\"'; __file__='\"'\"'C:\\\\Users\\\\tonyk\\\\AppData\\\\Local\\\\Temp\\\\pip-install-mlopsei1\\\\futures_fbc59f36c4ec4a578a3cbd820f52d740\\\\setup.py'\"'\"';f = getattr(tokenize, '\"'\"'open'\"'\"', open)(__file__) if os.path.exists(__file__) else io.StringIO('\"'\"'from setuptools import setup; setup()'\"'\"');code = f.read().replace('\"'\"'\\r\\n'\"'\"', '\"'\"'\\n'\"'\"');f.close();exec(compile(code, __file__, '\"'\"'exec'\"'\"'))' egg_info --egg-base 'C:\\Users\\tonyk\\AppData\\Local\\Temp\\pip-pip-egg-info-03oe3g8t'\n",
      "       cwd: C:\\Users\\tonyk\\AppData\\Local\\Temp\\pip-install-mlopsei1\\futures_fbc59f36c4ec4a578a3cbd820f52d740\\\n",
      "  Complete output (24 lines):\n",
      "  Traceback (most recent call last):\n",
      "    File \"<string>\", line 1, in <module>\n",
      "    File \"c:\\users\\tonyk\\anaconda3\\lib\\site-packages\\setuptools\\__init__.py\", line 18, in <module>\n",
      "      from setuptools.dist import Distribution\n",
      "    File \"c:\\users\\tonyk\\anaconda3\\lib\\site-packages\\setuptools\\dist.py\", line 32, in <module>\n",
      "      from setuptools.extern.more_itertools import unique_everseen\n",
      "    File \"<frozen importlib._bootstrap>\", line 991, in _find_and_load\n",
      "    File \"<frozen importlib._bootstrap>\", line 975, in _find_and_load_unlocked\n",
      "    File \"<frozen importlib._bootstrap>\", line 657, in _load_unlocked\n",
      "    File \"<frozen importlib._bootstrap>\", line 556, in module_from_spec\n",
      "    File \"c:\\users\\tonyk\\anaconda3\\lib\\site-packages\\setuptools\\extern\\__init__.py\", line 52, in create_module\n",
      "      return self.load_module(spec.name)\n",
      "    File \"c:\\users\\tonyk\\anaconda3\\lib\\site-packages\\setuptools\\extern\\__init__.py\", line 37, in load_module\n",
      "      __import__(extant)\n",
      "    File \"c:\\users\\tonyk\\anaconda3\\lib\\site-packages\\setuptools\\_vendor\\more_itertools\\__init__.py\", line 1, in <module>\n",
      "      from .more import *  # noqa\n",
      "    File \"c:\\users\\tonyk\\anaconda3\\lib\\site-packages\\setuptools\\_vendor\\more_itertools\\more.py\", line 5, in <module>\n",
      "      from concurrent.futures import ThreadPoolExecutor\n",
      "    File \"C:\\Users\\tonyk\\AppData\\Local\\Temp\\pip-install-mlopsei1\\futures_fbc59f36c4ec4a578a3cbd820f52d740\\concurrent\\futures\\__init__.py\", line 8, in <module>\n",
      "      from concurrent.futures._base import (FIRST_COMPLETED,\n",
      "    File \"C:\\Users\\tonyk\\AppData\\Local\\Temp\\pip-install-mlopsei1\\futures_fbc59f36c4ec4a578a3cbd820f52d740\\concurrent\\futures\\_base.py\", line 357\n",
      "      raise type(self._exception), self._exception, self._traceback\n",
      "                                 ^\n",
      "  SyntaxError: invalid syntax\n",
      "  ----------------------------------------\n",
      "WARNING: Discarding https://files.pythonhosted.org/packages/25/83/113da7c7832a4efa80ec7fd5d25b2ea431d9a847cd78f1fa98ddd99d591a/futures-3.1.0.tar.gz#sha256=90a8c71762d53e4ebdb4f7893460761f4ce2f076df08bb4934f39e90464eb889 (from https://pypi.org/simple/futures/). Command errored out with exit status 1: python setup.py egg_info Check the logs for full command output.\n",
      "  ERROR: Command errored out with exit status 1:\n",
      "   command: 'c:\\users\\tonyk\\anaconda3\\python.exe' -c 'import io, os, sys, setuptools, tokenize; sys.argv[0] = '\"'\"'C:\\\\Users\\\\tonyk\\\\AppData\\\\Local\\\\Temp\\\\pip-install-mlopsei1\\\\futures_b6a60655f99d409a923c8c29674d82e8\\\\setup.py'\"'\"'; __file__='\"'\"'C:\\\\Users\\\\tonyk\\\\AppData\\\\Local\\\\Temp\\\\pip-install-mlopsei1\\\\futures_b6a60655f99d409a923c8c29674d82e8\\\\setup.py'\"'\"';f = getattr(tokenize, '\"'\"'open'\"'\"', open)(__file__) if os.path.exists(__file__) else io.StringIO('\"'\"'from setuptools import setup; setup()'\"'\"');code = f.read().replace('\"'\"'\\r\\n'\"'\"', '\"'\"'\\n'\"'\"');f.close();exec(compile(code, __file__, '\"'\"'exec'\"'\"'))' egg_info --egg-base 'C:\\Users\\tonyk\\AppData\\Local\\Temp\\pip-pip-egg-info-fg_30jax'\n",
      "       cwd: C:\\Users\\tonyk\\AppData\\Local\\Temp\\pip-install-mlopsei1\\futures_b6a60655f99d409a923c8c29674d82e8\\\n",
      "  Complete output (24 lines):\n",
      "  Traceback (most recent call last):\n",
      "    File \"<string>\", line 1, in <module>\n",
      "    File \"c:\\users\\tonyk\\anaconda3\\lib\\site-packages\\setuptools\\__init__.py\", line 18, in <module>\n",
      "      from setuptools.dist import Distribution\n",
      "    File \"c:\\users\\tonyk\\anaconda3\\lib\\site-packages\\setuptools\\dist.py\", line 32, in <module>\n",
      "      from setuptools.extern.more_itertools import unique_everseen\n",
      "    File \"<frozen importlib._bootstrap>\", line 991, in _find_and_load\n",
      "    File \"<frozen importlib._bootstrap>\", line 975, in _find_and_load_unlocked\n",
      "    File \"<frozen importlib._bootstrap>\", line 657, in _load_unlocked\n",
      "    File \"<frozen importlib._bootstrap>\", line 556, in module_from_spec\n",
      "    File \"c:\\users\\tonyk\\anaconda3\\lib\\site-packages\\setuptools\\extern\\__init__.py\", line 52, in create_module\n",
      "      return self.load_module(spec.name)\n",
      "    File \"c:\\users\\tonyk\\anaconda3\\lib\\site-packages\\setuptools\\extern\\__init__.py\", line 37, in load_module\n",
      "      __import__(extant)\n",
      "    File \"c:\\users\\tonyk\\anaconda3\\lib\\site-packages\\setuptools\\_vendor\\more_itertools\\__init__.py\", line 1, in <module>\n",
      "      from .more import *  # noqa\n",
      "    File \"c:\\users\\tonyk\\anaconda3\\lib\\site-packages\\setuptools\\_vendor\\more_itertools\\more.py\", line 5, in <module>\n",
      "      from concurrent.futures import ThreadPoolExecutor\n",
      "    File \"C:\\Users\\tonyk\\AppData\\Local\\Temp\\pip-install-mlopsei1\\futures_b6a60655f99d409a923c8c29674d82e8\\concurrent\\futures\\__init__.py\", line 8, in <module>\n",
      "      from concurrent.futures._base import (FIRST_COMPLETED,\n",
      "    File \"C:\\Users\\tonyk\\AppData\\Local\\Temp\\pip-install-mlopsei1\\futures_b6a60655f99d409a923c8c29674d82e8\\concurrent\\futures\\_base.py\", line 357\n",
      "      raise type(self._exception), self._exception, self._traceback\n",
      "                                 ^\n",
      "  SyntaxError: invalid syntax\n",
      "  ----------------------------------------\n",
      "WARNING: Discarding https://files.pythonhosted.org/packages/55/db/97c1ca37edab586a1ae03d6892b6633d8eaa23b23ac40c7e5bbc55423c78/futures-3.0.5.tar.gz#sha256=0542525145d5afc984c88f914a0c85c77527f65946617edb5274f72406f981df (from https://pypi.org/simple/futures/). Command errored out with exit status 1: python setup.py egg_info Check the logs for full command output.\n",
      "  ERROR: Command errored out with exit status 1:\n",
      "   command: 'c:\\users\\tonyk\\anaconda3\\python.exe' -c 'import io, os, sys, setuptools, tokenize; sys.argv[0] = '\"'\"'C:\\\\Users\\\\tonyk\\\\AppData\\\\Local\\\\Temp\\\\pip-install-mlopsei1\\\\futures_3a8264e79a45466086b693784f16cc0b\\\\setup.py'\"'\"'; __file__='\"'\"'C:\\\\Users\\\\tonyk\\\\AppData\\\\Local\\\\Temp\\\\pip-install-mlopsei1\\\\futures_3a8264e79a45466086b693784f16cc0b\\\\setup.py'\"'\"';f = getattr(tokenize, '\"'\"'open'\"'\"', open)(__file__) if os.path.exists(__file__) else io.StringIO('\"'\"'from setuptools import setup; setup()'\"'\"');code = f.read().replace('\"'\"'\\r\\n'\"'\"', '\"'\"'\\n'\"'\"');f.close();exec(compile(code, __file__, '\"'\"'exec'\"'\"'))' egg_info --egg-base 'C:\\Users\\tonyk\\AppData\\Local\\Temp\\pip-pip-egg-info-r1vl4j12'\n",
      "       cwd: C:\\Users\\tonyk\\AppData\\Local\\Temp\\pip-install-mlopsei1\\futures_3a8264e79a45466086b693784f16cc0b\\\n",
      "  Complete output (24 lines):\n",
      "  Traceback (most recent call last):\n",
      "    File \"<string>\", line 1, in <module>\n",
      "    File \"c:\\users\\tonyk\\anaconda3\\lib\\site-packages\\setuptools\\__init__.py\", line 18, in <module>\n",
      "      from setuptools.dist import Distribution\n",
      "    File \"c:\\users\\tonyk\\anaconda3\\lib\\site-packages\\setuptools\\dist.py\", line 32, in <module>\n",
      "      from setuptools.extern.more_itertools import unique_everseen\n",
      "    File \"<frozen importlib._bootstrap>\", line 991, in _find_and_load\n",
      "    File \"<frozen importlib._bootstrap>\", line 975, in _find_and_load_unlocked\n",
      "    File \"<frozen importlib._bootstrap>\", line 657, in _load_unlocked\n",
      "    File \"<frozen importlib._bootstrap>\", line 556, in module_from_spec\n",
      "    File \"c:\\users\\tonyk\\anaconda3\\lib\\site-packages\\setuptools\\extern\\__init__.py\", line 52, in create_module\n",
      "      return self.load_module(spec.name)\n",
      "    File \"c:\\users\\tonyk\\anaconda3\\lib\\site-packages\\setuptools\\extern\\__init__.py\", line 37, in load_module\n",
      "      __import__(extant)\n",
      "    File \"c:\\users\\tonyk\\anaconda3\\lib\\site-packages\\setuptools\\_vendor\\more_itertools\\__init__.py\", line 1, in <module>\n",
      "      from .more import *  # noqa\n",
      "    File \"c:\\users\\tonyk\\anaconda3\\lib\\site-packages\\setuptools\\_vendor\\more_itertools\\more.py\", line 5, in <module>\n",
      "      from concurrent.futures import ThreadPoolExecutor\n",
      "    File \"C:\\Users\\tonyk\\AppData\\Local\\Temp\\pip-install-mlopsei1\\futures_3a8264e79a45466086b693784f16cc0b\\concurrent\\futures\\__init__.py\", line 8, in <module>\n",
      "      from concurrent.futures._base import (FIRST_COMPLETED,\n",
      "    File \"C:\\Users\\tonyk\\AppData\\Local\\Temp\\pip-install-mlopsei1\\futures_3a8264e79a45466086b693784f16cc0b\\concurrent\\futures\\_base.py\", line 357\n",
      "      raise type(self._exception), self._exception, self._traceback\n",
      "                                 ^\n",
      "  SyntaxError: invalid syntax\n",
      "  ----------------------------------------\n",
      "WARNING: Discarding https://files.pythonhosted.org/packages/8d/73/b5fff618482bc06c9711e7cdc0d5d7eb1904d35898f48f2d7f9696b08bef/futures-3.0.4.tar.gz#sha256=19485d83f7bd2151c0aeaf88fbba3ee50dadfb222ffc3b66a344ef4952b782a3 (from https://pypi.org/simple/futures/). Command errored out with exit status 1: python setup.py egg_info Check the logs for full command output.\n",
      "  ERROR: Command errored out with exit status 1:\n",
      "   command: 'c:\\users\\tonyk\\anaconda3\\python.exe' -c 'import io, os, sys, setuptools, tokenize; sys.argv[0] = '\"'\"'C:\\\\Users\\\\tonyk\\\\AppData\\\\Local\\\\Temp\\\\pip-install-mlopsei1\\\\futures_768920c30b29415f86c2a6e8ae1a791c\\\\setup.py'\"'\"'; __file__='\"'\"'C:\\\\Users\\\\tonyk\\\\AppData\\\\Local\\\\Temp\\\\pip-install-mlopsei1\\\\futures_768920c30b29415f86c2a6e8ae1a791c\\\\setup.py'\"'\"';f = getattr(tokenize, '\"'\"'open'\"'\"', open)(__file__) if os.path.exists(__file__) else io.StringIO('\"'\"'from setuptools import setup; setup()'\"'\"');code = f.read().replace('\"'\"'\\r\\n'\"'\"', '\"'\"'\\n'\"'\"');f.close();exec(compile(code, __file__, '\"'\"'exec'\"'\"'))' egg_info --egg-base 'C:\\Users\\tonyk\\AppData\\Local\\Temp\\pip-pip-egg-info-f9gzpqj2'\n",
      "       cwd: C:\\Users\\tonyk\\AppData\\Local\\Temp\\pip-install-mlopsei1\\futures_768920c30b29415f86c2a6e8ae1a791c\\\n",
      "  Complete output (24 lines):\n",
      "  Traceback (most recent call last):\n",
      "    File \"<string>\", line 1, in <module>\n",
      "    File \"c:\\users\\tonyk\\anaconda3\\lib\\site-packages\\setuptools\\__init__.py\", line 18, in <module>\n",
      "      from setuptools.dist import Distribution\n",
      "    File \"c:\\users\\tonyk\\anaconda3\\lib\\site-packages\\setuptools\\dist.py\", line 32, in <module>\n",
      "      from setuptools.extern.more_itertools import unique_everseen\n",
      "    File \"<frozen importlib._bootstrap>\", line 991, in _find_and_load\n",
      "    File \"<frozen importlib._bootstrap>\", line 975, in _find_and_load_unlocked\n",
      "    File \"<frozen importlib._bootstrap>\", line 657, in _load_unlocked\n",
      "    File \"<frozen importlib._bootstrap>\", line 556, in module_from_spec\n",
      "    File \"c:\\users\\tonyk\\anaconda3\\lib\\site-packages\\setuptools\\extern\\__init__.py\", line 52, in create_module\n",
      "      return self.load_module(spec.name)\n",
      "    File \"c:\\users\\tonyk\\anaconda3\\lib\\site-packages\\setuptools\\extern\\__init__.py\", line 37, in load_module\n",
      "      __import__(extant)\n",
      "    File \"c:\\users\\tonyk\\anaconda3\\lib\\site-packages\\setuptools\\_vendor\\more_itertools\\__init__.py\", line 1, in <module>\n",
      "      from .more import *  # noqa\n",
      "    File \"c:\\users\\tonyk\\anaconda3\\lib\\site-packages\\setuptools\\_vendor\\more_itertools\\more.py\", line 5, in <module>\n",
      "      from concurrent.futures import ThreadPoolExecutor\n",
      "    File \"C:\\Users\\tonyk\\AppData\\Local\\Temp\\pip-install-mlopsei1\\futures_768920c30b29415f86c2a6e8ae1a791c\\concurrent\\futures\\__init__.py\", line 8, in <module>\n",
      "      from concurrent.futures._base import (FIRST_COMPLETED,\n",
      "    File \"C:\\Users\\tonyk\\AppData\\Local\\Temp\\pip-install-mlopsei1\\futures_768920c30b29415f86c2a6e8ae1a791c\\concurrent\\futures\\_base.py\", line 355\n",
      "      raise type(self._exception), self._exception, self._traceback\n",
      "                                 ^\n",
      "  SyntaxError: invalid syntax\n",
      "  ----------------------------------------\n",
      "WARNING: Discarding https://files.pythonhosted.org/packages/4c/dc/f9473006d4c9c52d4a4e977173fbcbfb1a8ef3a57e32e885edf994fd4a45/futures-3.0.3.tar.gz#sha256=2fe2342bb4fe8b8e217f0d21b5921cbe5408bf966d9f92025e707e881b198bed (from https://pypi.org/simple/futures/). Command errored out with exit status 1: python setup.py egg_info Check the logs for full command output.\n",
      "  ERROR: Command errored out with exit status 1:\n",
      "   command: 'c:\\users\\tonyk\\anaconda3\\python.exe' -c 'import io, os, sys, setuptools, tokenize; sys.argv[0] = '\"'\"'C:\\\\Users\\\\tonyk\\\\AppData\\\\Local\\\\Temp\\\\pip-install-mlopsei1\\\\futures_765f40782e70405fb42b24a5568f3274\\\\setup.py'\"'\"'; __file__='\"'\"'C:\\\\Users\\\\tonyk\\\\AppData\\\\Local\\\\Temp\\\\pip-install-mlopsei1\\\\futures_765f40782e70405fb42b24a5568f3274\\\\setup.py'\"'\"';f = getattr(tokenize, '\"'\"'open'\"'\"', open)(__file__) if os.path.exists(__file__) else io.StringIO('\"'\"'from setuptools import setup; setup()'\"'\"');code = f.read().replace('\"'\"'\\r\\n'\"'\"', '\"'\"'\\n'\"'\"');f.close();exec(compile(code, __file__, '\"'\"'exec'\"'\"'))' egg_info --egg-base 'C:\\Users\\tonyk\\AppData\\Local\\Temp\\pip-pip-egg-info-7iwb37k9'\n",
      "       cwd: C:\\Users\\tonyk\\AppData\\Local\\Temp\\pip-install-mlopsei1\\futures_765f40782e70405fb42b24a5568f3274\\\n",
      "  Complete output (24 lines):\n",
      "  Traceback (most recent call last):\n",
      "    File \"<string>\", line 1, in <module>\n",
      "    File \"c:\\users\\tonyk\\anaconda3\\lib\\site-packages\\setuptools\\__init__.py\", line 18, in <module>\n",
      "      from setuptools.dist import Distribution\n",
      "    File \"c:\\users\\tonyk\\anaconda3\\lib\\site-packages\\setuptools\\dist.py\", line 32, in <module>\n",
      "      from setuptools.extern.more_itertools import unique_everseen\n",
      "    File \"<frozen importlib._bootstrap>\", line 991, in _find_and_load\n",
      "    File \"<frozen importlib._bootstrap>\", line 975, in _find_and_load_unlocked\n",
      "    File \"<frozen importlib._bootstrap>\", line 657, in _load_unlocked\n",
      "    File \"<frozen importlib._bootstrap>\", line 556, in module_from_spec\n",
      "    File \"c:\\users\\tonyk\\anaconda3\\lib\\site-packages\\setuptools\\extern\\__init__.py\", line 52, in create_module\n",
      "      return self.load_module(spec.name)\n",
      "    File \"c:\\users\\tonyk\\anaconda3\\lib\\site-packages\\setuptools\\extern\\__init__.py\", line 37, in load_module\n",
      "      __import__(extant)\n",
      "    File \"c:\\users\\tonyk\\anaconda3\\lib\\site-packages\\setuptools\\_vendor\\more_itertools\\__init__.py\", line 1, in <module>\n",
      "      from .more import *  # noqa\n",
      "    File \"c:\\users\\tonyk\\anaconda3\\lib\\site-packages\\setuptools\\_vendor\\more_itertools\\more.py\", line 5, in <module>\n",
      "      from concurrent.futures import ThreadPoolExecutor\n",
      "    File \"C:\\Users\\tonyk\\AppData\\Local\\Temp\\pip-install-mlopsei1\\futures_765f40782e70405fb42b24a5568f3274\\concurrent\\futures\\__init__.py\", line 8, in <module>\n",
      "      from concurrent.futures._base import (FIRST_COMPLETED,\n",
      "    File \"C:\\Users\\tonyk\\AppData\\Local\\Temp\\pip-install-mlopsei1\\futures_765f40782e70405fb42b24a5568f3274\\concurrent\\futures\\_base.py\", line 355\n",
      "      raise type(self._exception), self._exception, self._traceback\n",
      "                                 ^\n",
      "  SyntaxError: invalid syntax\n",
      "  ----------------------------------------\n",
      "WARNING: Discarding https://files.pythonhosted.org/packages/f8/e7/fc0fcbeb9193ba2d4de00b065e7fd5aecd0679e93ce95a07322b2b1434f4/futures-3.0.2.tar.gz#sha256=dc3fc91508e49e0fd2f8625f0132d16e49c80f882e7e1d565c56b0d5dfbae257 (from https://pypi.org/simple/futures/). Command errored out with exit status 1: python setup.py egg_info Check the logs for full command output.\n",
      "  ERROR: Command errored out with exit status 1:\n",
      "   command: 'c:\\users\\tonyk\\anaconda3\\python.exe' -c 'import io, os, sys, setuptools, tokenize; sys.argv[0] = '\"'\"'C:\\\\Users\\\\tonyk\\\\AppData\\\\Local\\\\Temp\\\\pip-install-mlopsei1\\\\futures_2587894377e149fb8c2b9698dca23a8d\\\\setup.py'\"'\"'; __file__='\"'\"'C:\\\\Users\\\\tonyk\\\\AppData\\\\Local\\\\Temp\\\\pip-install-mlopsei1\\\\futures_2587894377e149fb8c2b9698dca23a8d\\\\setup.py'\"'\"';f = getattr(tokenize, '\"'\"'open'\"'\"', open)(__file__) if os.path.exists(__file__) else io.StringIO('\"'\"'from setuptools import setup; setup()'\"'\"');code = f.read().replace('\"'\"'\\r\\n'\"'\"', '\"'\"'\\n'\"'\"');f.close();exec(compile(code, __file__, '\"'\"'exec'\"'\"'))' egg_info --egg-base 'C:\\Users\\tonyk\\AppData\\Local\\Temp\\pip-pip-egg-info-cpzicl3m'\n",
      "       cwd: C:\\Users\\tonyk\\AppData\\Local\\Temp\\pip-install-mlopsei1\\futures_2587894377e149fb8c2b9698dca23a8d\\\n",
      "  Complete output (24 lines):\n",
      "  Traceback (most recent call last):\n",
      "    File \"<string>\", line 1, in <module>\n",
      "    File \"c:\\users\\tonyk\\anaconda3\\lib\\site-packages\\setuptools\\__init__.py\", line 18, in <module>\n",
      "      from setuptools.dist import Distribution\n",
      "    File \"c:\\users\\tonyk\\anaconda3\\lib\\site-packages\\setuptools\\dist.py\", line 32, in <module>\n",
      "      from setuptools.extern.more_itertools import unique_everseen\n",
      "    File \"<frozen importlib._bootstrap>\", line 991, in _find_and_load\n",
      "    File \"<frozen importlib._bootstrap>\", line 975, in _find_and_load_unlocked\n",
      "    File \"<frozen importlib._bootstrap>\", line 657, in _load_unlocked\n",
      "    File \"<frozen importlib._bootstrap>\", line 556, in module_from_spec\n",
      "    File \"c:\\users\\tonyk\\anaconda3\\lib\\site-packages\\setuptools\\extern\\__init__.py\", line 52, in create_module\n",
      "      return self.load_module(spec.name)\n",
      "    File \"c:\\users\\tonyk\\anaconda3\\lib\\site-packages\\setuptools\\extern\\__init__.py\", line 37, in load_module\n",
      "      __import__(extant)\n",
      "    File \"c:\\users\\tonyk\\anaconda3\\lib\\site-packages\\setuptools\\_vendor\\more_itertools\\__init__.py\", line 1, in <module>\n",
      "      from .more import *  # noqa\n",
      "    File \"c:\\users\\tonyk\\anaconda3\\lib\\site-packages\\setuptools\\_vendor\\more_itertools\\more.py\", line 5, in <module>\n",
      "      from concurrent.futures import ThreadPoolExecutor\n",
      "    File \"C:\\Users\\tonyk\\AppData\\Local\\Temp\\pip-install-mlopsei1\\futures_2587894377e149fb8c2b9698dca23a8d\\concurrent\\futures\\__init__.py\", line 8, in <module>\n",
      "      from concurrent.futures._base import (FIRST_COMPLETED,\n",
      "    File \"C:\\Users\\tonyk\\AppData\\Local\\Temp\\pip-install-mlopsei1\\futures_2587894377e149fb8c2b9698dca23a8d\\concurrent\\futures\\_base.py\", line 355\n",
      "      raise type(self._exception), self._exception, self._traceback\n",
      "                                 ^\n",
      "  SyntaxError: invalid syntax\n",
      "  ----------------------------------------\n",
      "WARNING: Discarding https://files.pythonhosted.org/packages/b2/2c/6b6a57379e47031c6f52e625e0e2b8f6702a8d1f61b6e0daee391e82c187/futures-3.0.1.tar.gz#sha256=f78f2ef458639d72a625cf9c7643cf5442bb222ac11c12bcc445c6ad1cd862e2 (from https://pypi.org/simple/futures/). Command errored out with exit status 1: python setup.py egg_info Check the logs for full command output.\n",
      "  ERROR: Command errored out with exit status 1:\n",
      "   command: 'c:\\users\\tonyk\\anaconda3\\python.exe' -c 'import io, os, sys, setuptools, tokenize; sys.argv[0] = '\"'\"'C:\\\\Users\\\\tonyk\\\\AppData\\\\Local\\\\Temp\\\\pip-install-mlopsei1\\\\futures_e8385cc95cf44a00ac8e55af5066d00e\\\\setup.py'\"'\"'; __file__='\"'\"'C:\\\\Users\\\\tonyk\\\\AppData\\\\Local\\\\Temp\\\\pip-install-mlopsei1\\\\futures_e8385cc95cf44a00ac8e55af5066d00e\\\\setup.py'\"'\"';f = getattr(tokenize, '\"'\"'open'\"'\"', open)(__file__) if os.path.exists(__file__) else io.StringIO('\"'\"'from setuptools import setup; setup()'\"'\"');code = f.read().replace('\"'\"'\\r\\n'\"'\"', '\"'\"'\\n'\"'\"');f.close();exec(compile(code, __file__, '\"'\"'exec'\"'\"'))' egg_info --egg-base 'C:\\Users\\tonyk\\AppData\\Local\\Temp\\pip-pip-egg-info-xxir1h0q'\n",
      "       cwd: C:\\Users\\tonyk\\AppData\\Local\\Temp\\pip-install-mlopsei1\\futures_e8385cc95cf44a00ac8e55af5066d00e\\\n",
      "  Complete output (24 lines):\n",
      "  Traceback (most recent call last):\n",
      "    File \"<string>\", line 1, in <module>\n",
      "    File \"c:\\users\\tonyk\\anaconda3\\lib\\site-packages\\setuptools\\__init__.py\", line 18, in <module>\n",
      "      from setuptools.dist import Distribution\n",
      "    File \"c:\\users\\tonyk\\anaconda3\\lib\\site-packages\\setuptools\\dist.py\", line 32, in <module>\n",
      "      from setuptools.extern.more_itertools import unique_everseen\n",
      "    File \"<frozen importlib._bootstrap>\", line 991, in _find_and_load\n",
      "    File \"<frozen importlib._bootstrap>\", line 975, in _find_and_load_unlocked\n",
      "    File \"<frozen importlib._bootstrap>\", line 657, in _load_unlocked\n",
      "    File \"<frozen importlib._bootstrap>\", line 556, in module_from_spec\n",
      "    File \"c:\\users\\tonyk\\anaconda3\\lib\\site-packages\\setuptools\\extern\\__init__.py\", line 52, in create_module\n",
      "      return self.load_module(spec.name)\n",
      "    File \"c:\\users\\tonyk\\anaconda3\\lib\\site-packages\\setuptools\\extern\\__init__.py\", line 37, in load_module\n",
      "      __import__(extant)\n",
      "    File \"c:\\users\\tonyk\\anaconda3\\lib\\site-packages\\setuptools\\_vendor\\more_itertools\\__init__.py\", line 1, in <module>\n",
      "      from .more import *  # noqa\n",
      "    File \"c:\\users\\tonyk\\anaconda3\\lib\\site-packages\\setuptools\\_vendor\\more_itertools\\more.py\", line 5, in <module>\n",
      "      from concurrent.futures import ThreadPoolExecutor\n",
      "    File \"C:\\Users\\tonyk\\AppData\\Local\\Temp\\pip-install-mlopsei1\\futures_e8385cc95cf44a00ac8e55af5066d00e\\concurrent\\futures\\__init__.py\", line 8, in <module>\n",
      "      from concurrent.futures._base import (FIRST_COMPLETED,\n",
      "    File \"C:\\Users\\tonyk\\AppData\\Local\\Temp\\pip-install-mlopsei1\\futures_e8385cc95cf44a00ac8e55af5066d00e\\concurrent\\futures\\_base.py\", line 354\n",
      "      raise type(self._exception), self._exception, self._traceback\n",
      "                                 ^\n",
      "  SyntaxError: invalid syntax\n",
      "  ----------------------------------------\n",
      "WARNING: Discarding https://files.pythonhosted.org/packages/ea/c9/35287369718fc05059e7a9d0d73c53745fe981010b4185b3858e7d46eff1/futures-3.0.0.tar.gz#sha256=d9cd7bb09aa01f0e4940af64c31fbd7045098b7b4354420d7838ea39e8b86ee3 (from https://pypi.org/simple/futures/). Command errored out with exit status 1: python setup.py egg_info Check the logs for full command output.\n"
     ]
    }
   ],
   "source": [
    "!pip install PyDictionary"
   ]
  },
  {
   "cell_type": "code",
   "execution_count": null,
   "metadata": {
    "colab": {
     "base_uri": "https://localhost:8080/"
    },
    "id": "pwmZAgBY8U6A",
    "outputId": "217ce1df-5e4c-4179-ec68-b769e91492d3"
   },
   "outputs": [
    {
     "data": {
      "text/plain": [
       "'from PyDictionary import PyDictionary\\n\\ndictionary=PyDictionary()\\ntext = \"Tom loves to eat chocolate\"\\n\\nwords = text.split()\\nfor word in words:\\n    syns = dictionary.synonym(word)\\n    print (f\"{word}: {syns[0:5]}\\n\")'"
      ]
     },
     "execution_count": 38,
     "metadata": {},
     "output_type": "execute_result"
    }
   ],
   "source": [
    "\"\"\"from PyDictionary import PyDictionary\n",
    "\n",
    "dictionary=PyDictionary()\n",
    "text = \"Tom loves to eat chocolate\"\n",
    "\n",
    "words = text.split()\n",
    "for word in words:\n",
    "    syns = dictionary.synonym(word)\n",
    "    print (f\"{word}: {syns[0:5]}\\n\")\"\"\""
   ]
  },
  {
   "cell_type": "code",
   "execution_count": null,
   "metadata": {
    "colab": {
     "base_uri": "https://localhost:8080/"
    },
    "id": "kDN50Ylx7iyn",
    "outputId": "405e252b-951e-4a86-9217-988fd4c9bfba"
   },
   "outputs": [
    {
     "data": {
      "text/plain": [
       "array([ 0.4243895 , -1.1357836 , -0.7388455 ,  1.167083  , -0.2539115 ,\n",
       "        2.2520673 ,  0.19665164, -0.16779786,  1.7895561 , -0.41019502,\n",
       "        0.1786462 , -0.3911984 , -0.73946637, -0.6672654 ,  0.3961728 ,\n",
       "       -0.08651794,  0.4821537 , -0.4229348 ,  0.9193083 ,  0.60310274,\n",
       "       -0.33057815,  0.032754  ,  0.16855478, -0.93061554, -0.8957278 ,\n",
       "       -0.5661322 , -0.4771945 ,  0.13321853, -0.46748042, -0.58423686,\n",
       "       -0.17528343, -0.36372685,  0.47082973, -0.92259556,  0.22647811,\n",
       "        0.52608585,  0.5512797 ,  0.242601  , -0.07193935,  1.3411673 ,\n",
       "       -0.35971162, -0.20665945, -0.07021008, -0.89095664,  0.7788221 ,\n",
       "       -0.02444953, -0.2349006 , -0.35710016, -0.10362059,  2.6946478 ,\n",
       "       -0.3586272 , -0.04248695,  0.24057104,  0.81911665, -0.2810368 ,\n",
       "       -0.5328187 ,  0.27691597, -0.5114486 , -0.2627864 , -0.14488788,\n",
       "       -0.2703958 ,  0.079225  ,  0.35097077, -0.16841477, -0.78943694,\n",
       "       -0.18967327,  0.34595585, -0.04254089,  0.30020756,  0.14128861,\n",
       "        1.0456654 ,  0.20573133, -0.28127033, -0.9887657 , -0.29745764,\n",
       "       -0.37062588, -0.17720033, -1.2718077 , -0.3856078 , -0.0289523 ,\n",
       "       -0.39626646,  0.44795015, -0.64208883,  1.0135452 , -0.68897784,\n",
       "       -0.12304396,  0.7100669 , -1.1201621 , -0.17382357, -0.7617698 ,\n",
       "        0.08615619, -1.0037254 ,  0.4771887 ,  2.1380663 ,  0.7782964 ,\n",
       "       -0.11653267], dtype=float32)"
      ]
     },
     "execution_count": 39,
     "metadata": {},
     "output_type": "execute_result"
    }
   ],
   "source": [
    "sentence1[0].vector"
   ]
  },
  {
   "cell_type": "markdown",
   "metadata": {
    "id": "dTTzf8vp7uR_"
   },
   "source": [
    "##Mapping-Word-Vector !!!"
   ]
  },
  {
   "cell_type": "code",
   "execution_count": null,
   "metadata": {
    "id": "DHO2kbug7-_f"
   },
   "outputs": [],
   "source": [
    "import numpy as np"
   ]
  },
  {
   "cell_type": "markdown",
   "metadata": {
    "id": "hocdKwe477iX"
   },
   "source": [
    "Once a word vector model is trained, we can do similarity matches very quickly and very reliably."
   ]
  },
  {
   "cell_type": "code",
   "execution_count": null,
   "metadata": {
    "colab": {
     "base_uri": "https://localhost:8080/"
    },
    "id": "8oauJNSb7y3_",
    "outputId": "9e95a41a-6721-4767-a046-4975f34663f0"
   },
   "outputs": [
    {
     "data": {
      "text/plain": [
       "'your_word = \"dog\"\\nms = nlp.vocab.vectors.most_similar(\\n    np.asarray([nlp.vocab.vectors[nlp.vocab.strings[your_word]]]), n=10)\\nwords = [nlp.vocab.strings[w] for w in ms[0][0]]\\ndistances = ms[2]\\nprint(words)'"
      ]
     },
     "execution_count": 41,
     "metadata": {},
     "output_type": "execute_result"
    }
   ],
   "source": [
    "\"\"\"your_word = \"dog\"\n",
    "ms = nlp.vocab.vectors.most_similar(\n",
    "    np.asarray([nlp.vocab.vectors[nlp.vocab.strings[your_word]]]), n=10)\n",
    "words = [nlp.vocab.strings[w] for w in ms[0][0]]\n",
    "distances = ms[2]\n",
    "print(words)\"\"\""
   ]
  },
  {
   "cell_type": "markdown",
   "metadata": {
    "id": "pQlSk8rx-hAW"
   },
   "source": [
    "#Doc Similarity $ : \n",
    "In spaCy we can do this same thing at the document level. Through word vectors we can calculate the similarity between two documents. Let’s look at the example from spaCy’s documentation."
   ]
  },
  {
   "cell_type": "code",
   "execution_count": null,
   "metadata": {
    "colab": {
     "base_uri": "https://localhost:8080/"
    },
    "id": "q7ikb3GV-zOH",
    "outputId": "6784fdeb-6295-4cef-aea4-b0a845c7da73"
   },
   "outputs": [
    {
     "name": "stdout",
     "output_type": "stream",
     "text": [
      "I like salty fries and hamburgers. <-> Fast food tastes very good. 0.77994864211694\n"
     ]
    }
   ],
   "source": [
    "nlp = spacy.load(\"en_core_web_md\")  # make sure to use larger package!\n",
    "doc1 = nlp(\"I like salty fries and hamburgers.\")\n",
    "doc2 = nlp(\"Fast food tastes very good.\")\n",
    "\n",
    "# Similarity of two documents\n",
    "print(doc1, \"<->\", doc2, doc1.similarity(doc2))"
   ]
  },
  {
   "cell_type": "markdown",
   "metadata": {
    "id": "8GdKF2jt_KlW"
   },
   "source": [
    "#Word Similarity"
   ]
  },
  {
   "cell_type": "code",
   "execution_count": null,
   "metadata": {
    "colab": {
     "base_uri": "https://localhost:8080/"
    },
    "id": "xu_qhfiY-rq2",
    "outputId": "6b4556b4-c2d3-4b6f-e6c0-dfde8ea742d0"
   },
   "outputs": [
    {
     "name": "stdout",
     "output_type": "stream",
     "text": [
      "salty fries <-> hamburgers 0.7304624\n"
     ]
    }
   ],
   "source": [
    "# Similarity of tokens and spans\n",
    "french_fries = doc1[2:4] # salty fries\n",
    "burgers = doc1[5] # hamburgers\n",
    "print(french_fries, \"<->\", burgers, french_fries.similarity(burgers))"
   ]
  },
  {
   "cell_type": "code",
   "execution_count": null,
   "metadata": {
    "colab": {
     "base_uri": "https://localhost:8080/"
    },
    "id": "UD0T0xfa_lqO",
    "outputId": "3e6b5883-6071-440d-dc1c-d191295c0bdf"
   },
   "outputs": [
    {
     "name": "stdout",
     "output_type": "stream",
     "text": [
      "tastes <-> good 0.4234938\n"
     ]
    }
   ],
   "source": [
    "food = doc2[2]\n",
    "good = doc2[4]\n",
    "\n",
    "print(food, \"<->\", good, food.similarity(good))"
   ]
  },
  {
   "cell_type": "code",
   "execution_count": null,
   "metadata": {
    "id": "VQysXh7bBd1W"
   },
   "outputs": [],
   "source": []
  },
  {
   "cell_type": "markdown",
   "metadata": {
    "id": "-2p6pcTlBiqO"
   },
   "source": [
    "#________________________________"
   ]
  },
  {
   "cell_type": "markdown",
   "metadata": {
    "id": "LHskFgGxBeyN"
   },
   "source": [
    "# spaCy’s Pipelines *"
   ]
  },
  {
   "cell_type": "markdown",
   "metadata": {
    "id": "_ZvqP-0ABkCF"
   },
   "source": [
    "SpaCy offers both heuristic (rules-based) and machine learning natural language processing solutions. These solutions are activated by pipes. In this notebook, you will learn about pipes and pipelines generally and the ones offered by spaCy specifically."
   ]
  },
  {
   "cell_type": "code",
   "execution_count": null,
   "metadata": {
    "id": "Ih8qg6AaBq8W"
   },
   "outputs": [],
   "source": [
    "import spacy"
   ]
  },
  {
   "cell_type": "markdown",
   "metadata": {
    "id": "E9X_nMbiB4Gs"
   },
   "source": [
    "##Standard Pipes (Components and Factories) Available from spaCy"
   ]
  },
  {
   "cell_type": "markdown",
   "metadata": {
    "id": "zbHi7pJpB6Oe"
   },
   "source": [
    "![image.png](data:image/png;base64,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)"
   ]
  },
  {
   "cell_type": "markdown",
   "metadata": {
    "id": "ijK2qqUAB_0u"
   },
   "source": [
    "SpaCy is much more than an NLP framework. It is also a way of designing and implementing complex pipelines. A pipeline is a sequence of pipes, or actors on data, that make alterations to the data or extract information from it. In some cases, later pipes require the output from earlier pipes."
   ]
  },
  {
   "cell_type": "markdown",
   "metadata": {
    "id": "XIcSyKsfCFst"
   },
   "source": [
    "#Attribute Rulers\n"
   ]
  },
  {
   "cell_type": "markdown",
   "metadata": {
    "id": "gezjwpI7CP5e"
   },
   "source": [
    "\n",
    "\n",
    "```\n",
    "\n",
    "Dependency Parser\n",
    "\n",
    "EntityLinker\n",
    "\n",
    "EntityRecognizer\n",
    "\n",
    "EntityRuler\n",
    "\n",
    "Lemmatizer\n",
    "\n",
    "Morpholog\n",
    "\n",
    "SentenceRecognizer\n",
    "\n",
    "Sentencizer\n",
    "\n",
    "SpanCategorizer\n",
    "\n",
    "Tagger\n",
    "\n",
    "TextCategorizer\n",
    "\n",
    "Tok2Vec\n",
    "\n",
    "Tokenizer\n",
    "\n",
    "TrainablePipe\n",
    "\n",
    "Transformer\n",
    "```\n",
    "\n"
   ]
  },
  {
   "cell_type": "markdown",
   "metadata": {
    "id": "o9QoR079CZk9"
   },
   "source": [
    "#Matchers"
   ]
  },
  {
   "cell_type": "markdown",
   "metadata": {
    "id": "-kgxDHZ5CceG"
   },
   "source": [
    "\n",
    "\n",
    "```\n",
    "DependencyMatcher\n",
    "\n",
    "Matcher\n",
    "\n",
    "PhraseMatcher\n",
    "```\n",
    "\n"
   ]
  },
  {
   "cell_type": "markdown",
   "metadata": {
    "id": "RMZa-TNPCprV"
   },
   "source": [
    "#off-the-shelf spaCy model :  Pipelines"
   ]
  },
  {
   "cell_type": "code",
   "execution_count": null,
   "metadata": {
    "id": "7pAAGLalB83m"
   },
   "outputs": [],
   "source": [
    "nlp = spacy.blank(\"en\")\n"
   ]
  },
  {
   "cell_type": "code",
   "execution_count": null,
   "metadata": {
    "colab": {
     "base_uri": "https://localhost:8080/"
    },
    "id": "ct_BTZJPC4AT",
    "outputId": "3a6b7add-e80a-4fa0-8384-0bde7cea2c4e"
   },
   "outputs": [
    {
     "data": {
      "text/plain": [
       "<spacy.pipeline.sentencizer.Sentencizer at 0x2190d958140>"
      ]
     },
     "execution_count": 47,
     "metadata": {},
     "output_type": "execute_result"
    }
   ],
   "source": [
    "nlp.add_pipe(\"sentencizer\") \n",
    "# to add a new pipe to it. We will simply add a sentencizer."
   ]
  },
  {
   "cell_type": "markdown",
   "metadata": {
    "id": "hGTJZ7IAC_1u"
   },
   "source": [
    "\n",
    "\n",
    "```\n",
    "A simple pipeline component to allow custom sentence boundary detection logic that doesn’t require \n",
    "\n",
    "the dependency parse. By default, sentence segmentation is performed by the DependencyParser, so the Sentencizer \n",
    "\n",
    "lets you implement a simpler, rule-based strategy that doesn’t require a statistical model to be loaded.\n",
    "```\n",
    "\n"
   ]
  },
  {
   "cell_type": "markdown",
   "metadata": {
    "id": "wViseKN3DfZt"
   },
   "source": [
    "#bs4"
   ]
  },
  {
   "cell_type": "code",
   "execution_count": null,
   "metadata": {
    "id": "pqv6vleZDBvV"
   },
   "outputs": [],
   "source": [
    "import requests\n",
    "from bs4 import BeautifulSoup\n",
    "s = requests.get(\"https://ocw.mit.edu/ans7870/6/6.006/s08/lecturenotes/files/t8.shakespeare.txt\")\n",
    "soup = BeautifulSoup(s.content).text.replace(\"-\\n\", \"\").replace(\"\\n\", \" \")\n",
    "nlp.max_length = 5278439"
   ]
  },
  {
   "cell_type": "code",
   "execution_count": null,
   "metadata": {
    "colab": {
     "base_uri": "https://localhost:8080/"
    },
    "id": "zzzYPdLmDo39",
    "outputId": "ea894617-dc0e-425c-9f60-fb87cbb91195"
   },
   "outputs": [
    {
     "name": "stdout",
     "output_type": "stream",
     "text": [
      "94133\n",
      "Wall time: 9.37 s\n"
     ]
    }
   ],
   "source": [
    "%%time\n",
    "doc = nlp(soup)\n",
    "print (len(list(doc.sents)))"
   ]
  },
  {
   "cell_type": "code",
   "execution_count": null,
   "metadata": {
    "id": "TSr7wL8CDtt0"
   },
   "outputs": [],
   "source": [
    "nlp2 = spacy.load(\"en_core_web_sm\")\n",
    "nlp2.max_length = 5278439"
   ]
  },
  {
   "cell_type": "code",
   "execution_count": null,
   "metadata": {
    "id": "K5wGIXrVDxZd"
   },
   "outputs": [],
   "source": [
    "\"\"\"%%time\n",
    "doc = nlp2(soup)\n",
    "print (len(list(doc.sents)))\"\"\""
   ]
  },
  {
   "cell_type": "markdown",
   "metadata": {
    "id": "21SzO_RAD35l"
   },
   "source": [
    "\n",
    "\n",
    "```\n",
    "The difference in time here is remarkable. Our text string was around 5.2 million characters.\n",
    "\n",
    "The blank model with just the Sentencizer completed its task in 11.\n",
    "\n",
    "54 seconds and found around 94k sentences\n",
    "```\n",
    "\n"
   ]
  },
  {
   "cell_type": "markdown",
   "metadata": {
    "id": "M0J-agX0JZLb"
   },
   "source": [
    "#____________________"
   ]
  },
  {
   "cell_type": "markdown",
   "metadata": {
    "id": "adzkXRRvB1mC"
   },
   "source": [
    "#Using SpaCy’s EntityRuler"
   ]
  },
  {
   "cell_type": "markdown",
   "metadata": {
    "id": "aoaHsG8VCNOR"
   },
   "source": [
    "# Introduction to Spacy’s EntityRuler"
   ]
  },
  {
   "cell_type": "markdown",
   "metadata": {
    "id": "K7znHtwuCf9J"
   },
   "source": [
    "#The Python library spaCy offers a few different methods for performing rules-based NER. One such method is via its EntityRuler."
   ]
  },
  {
   "cell_type": "markdown",
   "metadata": {
    "id": "skEOs62gCpjq"
   },
   "source": [
    "- The EntityRuler is a spaCy factory that allows one to create a set of patterns with corresponding labels. A factory in spaCy is a set of classes and functions preloaded in spaCy that perform set tasks. In the case of the EntityRuler, the factory at hand allows the user to create an EntityRuler, give it a set of instructions, and then use this instructions to find and label entities.\n",
    "\n",
    "- Once the user has created the EntityRuler and given it a set of instructions, the user can then add it to the spaCy pipeline as a new pipe. I have spoken in the past notebooks briefly about pipes, but perhaps it is good to address them in more detail here."
   ]
  },
  {
   "cell_type": "markdown",
   "metadata": {
    "id": "OTYe9PVuC0Eh"
   },
   "source": [
    "- A pipe is a component of a pipeline. A pipeline’s purpose is to take input data, perform some sort of operations on that input data, and then output those operations either as a new data or extracted metadata. \n",
    "\n",
    "- A pipe is an individual component of a pipeline. In the case of spaCy, there are a few different pipes that perform different tasks. The tokenizer, tokenizes the text into individual tokens; the parser, parses the text, and the NER identifies entities and labels them accordingly. \n",
    "\n",
    "- All of this data is stored in the Doc object."
   ]
  },
  {
   "cell_type": "code",
   "execution_count": null,
   "metadata": {
    "colab": {
     "base_uri": "https://localhost:8080/"
    },
    "id": "mW5r_74RJbsT",
    "outputId": "acbb1da5-8462-40d3-8e39-309eefd00ccd"
   },
   "outputs": [
    {
     "name": "stdout",
     "output_type": "stream",
     "text": [
      "Treblinka LOC\n",
      "Poland GPE\n"
     ]
    }
   ],
   "source": [
    "#Import the requisite library\n",
    "import spacy\n",
    "\n",
    "#Build upon the spaCy Small Model\n",
    "nlp = spacy.load(\"en_core_web_sm\")\n",
    "\n",
    "#Sample text\n",
    "text = \"The village of Treblinka is in Poland. Treblinka was also an extermination camp.\"\n",
    "\n",
    "#Create the Doc object\n",
    "doc = nlp(text)\n",
    "\n",
    "#extract entities\n",
    "for ent in doc.ents:\n",
    "    print (ent.text, ent.label_)"
   ]
  },
  {
   "cell_type": "markdown",
   "metadata": {
    "id": "7vGp0oc4DpqY"
   },
   "source": [
    "#Depending on the version of model you are using, some results may vary."
   ]
  },
  {
   "cell_type": "markdown",
   "metadata": {
    "id": "BNvecCrtERwJ"
   },
   "source": [
    "\n",
    "\n",
    "```\n",
    "The output from the code above demonstrates spaCy’s small model’s to identify Treblinka, which is a small village in Poland. \n",
    "\n",
    "As the sample text indicates, it was also an extermination camp during WWII. \n",
    "\n",
    "\n",
    "In the first sentence, the spaCy model tagged Treblinka as an LOC (location) and in the second it was missed entirely. \n",
    "\n",
    "\n",
    "Both are either imprecise or wrong. I would have accepted ORG for the second sentence, \n",
    "\n",
    "as spaCy’s model does not know how to classify an extermination camp, but what these results demonstrate is the model’s failure to generalize on data. \n",
    "```\n",
    "\n"
   ]
  },
  {
   "cell_type": "markdown",
   "metadata": {
    "id": "GpTY5wkA_X3h"
   },
   "source": [
    "##the model never encountered the word Treblinka."
   ]
  },
  {
   "cell_type": "code",
   "execution_count": null,
   "metadata": {
    "colab": {
     "base_uri": "https://localhost:8080/",
     "height": 229
    },
    "id": "pj6sgZtdDhaR",
    "outputId": "de1cc61d-2d0c-49f3-f26b-79bb4d8f0838"
   },
   "outputs": [
    {
     "name": "stdout",
     "output_type": "stream",
     "text": [
      "Treblinka LOC\n",
      "Poland GPE\n",
      "Treblinka GPE\n"
     ]
    }
   ],
   "source": [
    "#Import the requisite library\n",
    "import spacy\n",
    "\n",
    "#Build upon the spaCy Small Model\n",
    "nlp = spacy.load(\"en_core_web_sm\")\n",
    "\n",
    "#Sample text\n",
    "text = \"The village of Treblinka is in Poland. Treblinka was also an extermination camp.\"\n",
    "\n",
    "#Create the EntityRuler\n",
    "ruler = nlp.add_pipe('entity_ruler')\n",
    "\n",
    "#List of Entities and Patterns\n",
    "patterns = [\n",
    "                {\"label\": \"GPE\", \"pattern\": \"Treblinka\"}\n",
    "            ]\n",
    "\n",
    "ruler.add_patterns(patterns)\n",
    "\n",
    "\n",
    "doc = nlp(text)\n",
    "\n",
    "#extract entities\n",
    "for ent in doc.ents:\n",
    "    print (ent.text, ent.label_)"
   ]
  },
  {
   "cell_type": "code",
   "execution_count": null,
   "metadata": {
    "id": "4cUM9Sb3KhWx",
    "outputId": "aeb94d50-304e-4ad3-fd2c-a9e131fb976f",
    "scrolled": false
   },
   "outputs": [
    {
     "data": {
      "text/plain": [
       "{'summary': {'tok2vec': {'assigns': ['doc.tensor'],\n",
       "   'requires': [],\n",
       "   'scores': [],\n",
       "   'retokenizes': False},\n",
       "  'tagger': {'assigns': ['token.tag'],\n",
       "   'requires': [],\n",
       "   'scores': ['tag_acc'],\n",
       "   'retokenizes': False},\n",
       "  'parser': {'assigns': ['token.dep',\n",
       "    'token.head',\n",
       "    'token.is_sent_start',\n",
       "    'doc.sents'],\n",
       "   'requires': [],\n",
       "   'scores': ['dep_uas',\n",
       "    'dep_las',\n",
       "    'dep_las_per_type',\n",
       "    'sents_p',\n",
       "    'sents_r',\n",
       "    'sents_f'],\n",
       "   'retokenizes': False},\n",
       "  'attribute_ruler': {'assigns': [],\n",
       "   'requires': [],\n",
       "   'scores': [],\n",
       "   'retokenizes': False},\n",
       "  'lemmatizer': {'assigns': ['token.lemma'],\n",
       "   'requires': [],\n",
       "   'scores': ['lemma_acc'],\n",
       "   'retokenizes': False},\n",
       "  'ner': {'assigns': ['doc.ents', 'token.ent_iob', 'token.ent_type'],\n",
       "   'requires': [],\n",
       "   'scores': ['ents_f', 'ents_p', 'ents_r', 'ents_per_type'],\n",
       "   'retokenizes': False}},\n",
       " 'problems': {'tok2vec': [],\n",
       "  'tagger': [],\n",
       "  'parser': [],\n",
       "  'attribute_ruler': [],\n",
       "  'lemmatizer': [],\n",
       "  'ner': []},\n",
       " 'attrs': {'doc.sents': {'assigns': ['parser'], 'requires': []},\n",
       "  'token.ent_type': {'assigns': ['ner'], 'requires': []},\n",
       "  'token.lemma': {'assigns': ['lemmatizer'], 'requires': []},\n",
       "  'doc.tensor': {'assigns': ['tok2vec'], 'requires': []},\n",
       "  'token.head': {'assigns': ['parser'], 'requires': []},\n",
       "  'doc.ents': {'assigns': ['ner'], 'requires': []},\n",
       "  'token.ent_iob': {'assigns': ['ner'], 'requires': []},\n",
       "  'token.dep': {'assigns': ['parser'], 'requires': []},\n",
       "  'token.is_sent_start': {'assigns': ['parser'], 'requires': []},\n",
       "  'token.tag': {'assigns': ['tagger'], 'requires': []}}}"
      ]
     },
     "execution_count": 3,
     "metadata": {},
     "output_type": "execute_result"
    }
   ],
   "source": [
    "nlp = spacy.load(\"en_core_web_sm\")\n",
    "nlp.analyze_pipes()"
   ]
  },
  {
   "cell_type": "markdown",
   "metadata": {
    "id": "6hRsMsCIKhWy"
   },
   "source": [
    "ruler = nlp.add_pipe(“entity_ruler”, after=”ner”)\n",
    "\n",
    "In order for our EntityRuler to have primacy, we have to assign it to after the \"ner\" pipe"
   ]
  },
  {
   "cell_type": "code",
   "execution_count": null,
   "metadata": {
    "id": "DPQWAzpBKhWy",
    "outputId": "a23dcfaa-7f0e-47b3-9b3f-4691956b52a5"
   },
   "outputs": [
    {
     "name": "stdout",
     "output_type": "stream",
     "text": [
      "Treblinka LOC\n",
      "Poland GPE\n",
      "Treblinka GPE\n"
     ]
    }
   ],
   "source": [
    "#Build upon the spaCy Small Model\n",
    "nlp = spacy.load(\"en_core_web_sm\")\n",
    "\n",
    "#Sample text\n",
    "text = \"The village of Treblinka is in Poland. Treblinka was also an extermination camp.\"\n",
    "\n",
    "#Create the EntityRuler\n",
    "ruler = nlp.add_pipe(\"entity_ruler\", after=\"ner\")\n",
    "\n",
    "#List of Entities and Patterns\n",
    "patterns = [\n",
    "                {\"label\": \"GPE\", \"pattern\": \"Treblinka\"}\n",
    "            ]\n",
    "\n",
    "ruler.add_patterns(patterns)\n",
    "\n",
    "\n",
    "doc = nlp(text)\n",
    "\n",
    "#extract entities\n",
    "for ent in doc.ents:\n",
    "    print (ent.text, ent.label_)"
   ]
  },
  {
   "cell_type": "markdown",
   "metadata": {
    "id": "2z0eG8xTKhWy"
   },
   "source": [
    "# Introducing Complex Rules and Variance to the EntityRuler (Advanced)"
   ]
  },
  {
   "cell_type": "code",
   "execution_count": null,
   "metadata": {
    "id": "iFs7Ld5gKhWy"
   },
   "outputs": [],
   "source": [
    "#Import the requisite library\n",
    "import spacy\n",
    "\n",
    "#Sample text\n",
    "text = \"This is a sample number +91 96 9639 2042.\"\n",
    "\n",
    "#Build upon the spaCy Small Model\n",
    "nlp = spacy.blank(\"en\")\n",
    "\n",
    "#Create the Ruler and Add it\n",
    "ruler = nlp.add_pipe(\"entity_ruler\")\n",
    "\n",
    "#List of Entities and Patterns (source: https://spacy.io/usage/rule-based-matching)\n",
    "patterns = [\n",
    "                {\"label\": \"PHONE_NUMBER\", \"pattern\": [{\"ORTH\": \"+\"}, {\"SHAPE\": \"dd\"}, {\"SHAPE\": \"dd\"},\n",
    "                {\"ORTH\": \"-\", \"OP\": \"?\"}, {\"SHAPE\": \"dddd\"}, {\"ORTH\": \"-\", \"OP\": \"?\"}, {\"SHAPE\": \"dddd\"}]}\n",
    "            ]\n",
    "#add patterns to ruler\n",
    "ruler.add_patterns(patterns)\n",
    "\n",
    "\n",
    "\n",
    "#create the doc\n",
    "doc = nlp(text)\n",
    "\n",
    "#extract entities\n",
    "for ent in doc.ents:\n",
    "    print (ent.text, ent.label_)"
   ]
  },
  {
   "cell_type": "markdown",
   "metadata": {
    "id": "PaMPYMelKhWy"
   },
   "source": [
    "# The spaCy Matcher"
   ]
  },
  {
   "cell_type": "code",
   "execution_count": null,
   "metadata": {
    "id": "GfEBamYGKhWy"
   },
   "outputs": [],
   "source": [
    "import spacy"
   ]
  },
  {
   "cell_type": "code",
   "execution_count": null,
   "metadata": {
    "id": "HmkzR1W2KhWz"
   },
   "outputs": [],
   "source": [
    "from spacy.matcher import Matcher"
   ]
  },
  {
   "cell_type": "code",
   "execution_count": null,
   "metadata": {
    "id": "5HHiU3pSKhWz"
   },
   "outputs": [],
   "source": [
    "nlp = spacy.load(\"en_core_web_sm\")\n",
    "matcher = Matcher(nlp.vocab)\n",
    "pattern = [{\"LIKE_EMAIL\": True}]\n",
    "matcher.add(\"EMAIL_ADDRESS\", [pattern])\n",
    "doc = nlp(\"This is an email address: abc@outlook.com\")\n",
    "matches = matcher(doc)"
   ]
  },
  {
   "cell_type": "code",
   "execution_count": null,
   "metadata": {
    "id": "PpIP3MV6KhWz",
    "outputId": "2f14684f-8b7d-4431-af61-202f9fb83e75"
   },
   "outputs": [
    {
     "name": "stdout",
     "output_type": "stream",
     "text": [
      "[(16571425990740197027, 6, 7)]\n"
     ]
    }
   ],
   "source": [
    "print (matches)"
   ]
  },
  {
   "cell_type": "markdown",
   "metadata": {
    "id": "zts0psXcKhWz"
   },
   "source": [
    "Lexeme, start token, end token"
   ]
  },
  {
   "cell_type": "code",
   "execution_count": null,
   "metadata": {
    "id": "KNvx7DmPKhWz",
    "outputId": "819e647e-7225-48fe-8daf-0a8dc5e78101"
   },
   "outputs": [
    {
     "name": "stdout",
     "output_type": "stream",
     "text": [
      "EMAIL_ADDRESS\n"
     ]
    }
   ],
   "source": [
    "print (nlp.vocab[matches[0][0]].text)\n"
   ]
  },
  {
   "cell_type": "markdown",
   "metadata": {
    "id": "STd54VFPKhWz"
   },
   "source": [
    "# Attributes Taken by Matcher\n"
   ]
  },
  {
   "cell_type": "markdown",
   "metadata": {
    "id": "Dte5OGwjKhWz"
   },
   "source": [
    "ORTH - The exact verbatim of a token (str)\n",
    "\n",
    "TEXT - The exact verbatim of a token (str)\n",
    "\n",
    "LOWER - The lowercase form of the token text (str)\n",
    "\n",
    "LENGTH - The length of the token text (int)\n",
    "\n",
    "IS_ALPHA\n",
    "\n",
    "IS_ASCII\n",
    "\n",
    "IS_DIGIT\n",
    "\n",
    "IS_LOWER\n",
    "\n",
    "IS_UPPER\n",
    "\n",
    "IS_TITLE\n",
    "\n",
    "IS_PUNCT\n",
    "\n",
    "IS_SPACE\n",
    "\n",
    "IS_STOP\n",
    "\n",
    "IS_SENT_START\n",
    "\n",
    "LIKE_NUM\n",
    "\n",
    "LIKE_URL\n",
    "\n",
    "LIKE_EMAIL\n",
    "\n",
    "SPACY\n",
    "\n",
    "POS\n",
    "\n",
    "TAG\n",
    "\n",
    "MORPH\n",
    "\n",
    "DEP\n",
    "\n",
    "LEMMA\n",
    "\n",
    "SHAPE\n",
    "\n",
    "ENT_TYPE\n",
    "\n",
    "_ - Custom extension attributes (Dict[str, Any])\n",
    "\n",
    "OP"
   ]
  },
  {
   "cell_type": "markdown",
   "metadata": {
    "id": "h6BhAfW_KhW0"
   },
   "source": [
    "## Applied Matcher"
   ]
  },
  {
   "cell_type": "code",
   "execution_count": null,
   "metadata": {
    "id": "D5b8WSaXKhW0"
   },
   "outputs": [],
   "source": [
    "import bs4\n",
    "import sys\n",
    "import requests\n",
    "\n",
    "res = requests.get('https://en.wikipedia.org/wiki/Google')\n",
    "res.raise_for_status()\n",
    "wiki = bs4.BeautifulSoup(res.text,\"html.parser\")\n",
    "\n",
    "filename = wiki.title.text.split(' - Wikipedia')[0]\n",
    "with open(filename, 'w+') as f:\n",
    "    for i in wiki.select('p'):\n",
    "        f.write(i.getText())\n",
    "\n",
    "        \n",
    "nlp = spacy.load(\"en_core_web_sm\")\n",
    "doc = nlp(i.getText())\n",
    "text = list(doc.sents)[0]"
   ]
  },
  {
   "cell_type": "code",
   "execution_count": null,
   "metadata": {
    "id": "7UVkG89VKhW0",
    "outputId": "dd99a88e-6255-40c5-8075-64e4f9b3740f"
   },
   "outputs": [
    {
     "data": {
      "text/plain": [
       "In early June 2020, a $5 billion class-action lawsuit was filed against Google by a group of consumers, alleging that Chrome’s"
      ]
     },
     "execution_count": 18,
     "metadata": {},
     "output_type": "execute_result"
    }
   ],
   "source": [
    "text"
   ]
  },
  {
   "cell_type": "code",
   "execution_count": null,
   "metadata": {
    "id": "K4P6kdAEKhW0",
    "outputId": "13ed2482-ab18-483a-eecf-36f6c621e922"
   },
   "outputs": [
    {
     "data": {
      "text/plain": [
       "In early June 2020, a $5 billion class-action lawsuit was filed against Google by a group of consumers, alleging that Chrome’s Incognito browsing mode still collects their user history.[337][338] The lawsuit became known in March 2021 when a federal judge denied Google's request to dismiss the case, ruling that they must face the group’s charges.[339][340] Reuters reported that the lawsuit alleged that Google's CEO Sundar Pichai sought to keep the users unaware of this issue.[341]"
      ]
     },
     "execution_count": 19,
     "metadata": {},
     "output_type": "execute_result"
    }
   ],
   "source": [
    "doc"
   ]
  },
  {
   "cell_type": "markdown",
   "metadata": {
    "id": "DFljse_DKhW0"
   },
   "source": [
    "Grabbing all Proper Nouns"
   ]
  },
  {
   "cell_type": "code",
   "execution_count": null,
   "metadata": {
    "id": "zUsuXTFVKhW0",
    "outputId": "60bded3f-8bd8-476e-d638-6946678577a1"
   },
   "outputs": [
    {
     "name": "stdout",
     "output_type": "stream",
     "text": [
      "11\n",
      "(3232560085755078826, 2, 3) June\n",
      "(3232560085755078826, 16, 17) Google\n",
      "(3232560085755078826, 25, 26) Chrome\n",
      "(3232560085755078826, 27, 28) Incognito\n",
      "(3232560085755078826, 41, 42) March\n",
      "(3232560085755078826, 48, 49) Google\n",
      "(3232560085755078826, 66, 67) Reuters\n",
      "(3232560085755078826, 73, 74) Google\n",
      "(3232560085755078826, 75, 76) CEO\n",
      "(3232560085755078826, 76, 77) Sundar\n"
     ]
    }
   ],
   "source": [
    "matcher = Matcher(nlp.vocab)\n",
    "pattern = [{\"POS\": \"PROPN\"}]\n",
    "matcher.add(\"PROPER_NOUNS\", [pattern])\n",
    "matches = matcher(doc)\n",
    "print (len(matches))\n",
    "for match in matches[:10]:\n",
    "    print (match, doc[match[1]:match[2]])"
   ]
  },
  {
   "cell_type": "markdown",
   "metadata": {
    "id": "Bi5qFviUKhW0"
   },
   "source": [
    "Improving it with Multi-Word Tokens"
   ]
  },
  {
   "cell_type": "code",
   "execution_count": null,
   "metadata": {
    "id": "OFVTXHMAKhW1",
    "outputId": "4ef0b394-e550-4227-c1ec-c97a057ade2e"
   },
   "outputs": [
    {
     "name": "stdout",
     "output_type": "stream",
     "text": [
      "14\n",
      "(3232560085755078826, 2, 3) June\n",
      "(3232560085755078826, 16, 17) Google\n",
      "(3232560085755078826, 25, 26) Chrome\n",
      "(3232560085755078826, 27, 28) Incognito\n",
      "(3232560085755078826, 41, 42) March\n",
      "(3232560085755078826, 48, 49) Google\n",
      "(3232560085755078826, 66, 67) Reuters\n",
      "(3232560085755078826, 73, 74) Google\n",
      "(3232560085755078826, 75, 76) CEO\n",
      "(3232560085755078826, 75, 77) CEO Sundar\n"
     ]
    }
   ],
   "source": [
    "matcher = Matcher(nlp.vocab)\n",
    "pattern = [{\"POS\": \"PROPN\", \"OP\": \"+\"}]\n",
    "matcher.add(\"PROPER_NOUNS\", [pattern])\n",
    "matches = matcher(doc)\n",
    "print (len(matches))\n",
    "for match in matches[:10]:\n",
    "    print (match, doc[match[1]:match[2]])"
   ]
  },
  {
   "cell_type": "markdown",
   "metadata": {
    "id": "H5Kd-DDKKhW1"
   },
   "source": [
    "# Greedy Keyword Argument"
   ]
  },
  {
   "cell_type": "code",
   "execution_count": null,
   "metadata": {
    "id": "A-uVOCgEKhW1",
    "outputId": "e0149eea-4dee-46fc-e751-8789cdf9b55f"
   },
   "outputs": [
    {
     "name": "stdout",
     "output_type": "stream",
     "text": [
      "9\n",
      "(3232560085755078826, 75, 78) CEO Sundar Pichai\n",
      "(3232560085755078826, 2, 3) June\n",
      "(3232560085755078826, 16, 17) Google\n",
      "(3232560085755078826, 25, 26) Chrome\n",
      "(3232560085755078826, 27, 28) Incognito\n",
      "(3232560085755078826, 41, 42) March\n",
      "(3232560085755078826, 48, 49) Google\n",
      "(3232560085755078826, 66, 67) Reuters\n",
      "(3232560085755078826, 73, 74) Google\n"
     ]
    }
   ],
   "source": [
    "matcher = Matcher(nlp.vocab)\n",
    "pattern = [{\"POS\": \"PROPN\", \"OP\": \"+\"}]\n",
    "matcher.add(\"PROPER_NOUNS\", [pattern], greedy='LONGEST')\n",
    "matches = matcher(doc)\n",
    "print (len(matches))\n",
    "for match in matches[:10]:\n",
    "    print (match, doc[match[1]:match[2]])"
   ]
  },
  {
   "cell_type": "markdown",
   "metadata": {
    "id": "dH60a1aAKhW1"
   },
   "source": [
    "# Sorting it to Apperance"
   ]
  },
  {
   "cell_type": "code",
   "execution_count": null,
   "metadata": {
    "id": "N58PSTyFKhW1",
    "outputId": "c7b8ca89-ebe5-45e7-9df8-dca5aa0cb065"
   },
   "outputs": [
    {
     "name": "stdout",
     "output_type": "stream",
     "text": [
      "9\n",
      "(3232560085755078826, 2, 3) June\n",
      "(3232560085755078826, 16, 17) Google\n",
      "(3232560085755078826, 25, 26) Chrome\n",
      "(3232560085755078826, 27, 28) Incognito\n",
      "(3232560085755078826, 41, 42) March\n",
      "(3232560085755078826, 48, 49) Google\n",
      "(3232560085755078826, 66, 67) Reuters\n",
      "(3232560085755078826, 73, 74) Google\n",
      "(3232560085755078826, 75, 78) CEO Sundar Pichai\n"
     ]
    }
   ],
   "source": [
    "matcher = Matcher(nlp.vocab)\n",
    "pattern = [{\"POS\": \"PROPN\", \"OP\": \"+\"}]\n",
    "matcher.add(\"PROPER_NOUNS\", [pattern], greedy='LONGEST')\n",
    "matches = matcher(doc)\n",
    "matches.sort(key = lambda x: x[1])\n",
    "print (len(matches))\n",
    "for match in matches[:10]:\n",
    "    print (match, doc[match[1]:match[2]])"
   ]
  },
  {
   "cell_type": "markdown",
   "metadata": {
    "id": "S5AwT8rzKhW2"
   },
   "source": [
    "# Adding in Sequences"
   ]
  },
  {
   "cell_type": "code",
   "execution_count": null,
   "metadata": {
    "id": "AejIzfeiKhW2",
    "outputId": "2208df4d-ed77-4e33-c6ba-743e7882a36b"
   },
   "outputs": [
    {
     "name": "stdout",
     "output_type": "stream",
     "text": [
      "3\n",
      "(3232560085755078826, 27, 29) Incognito browsing\n",
      "(3232560085755078826, 66, 68) Reuters reported\n",
      "(3232560085755078826, 75, 79) CEO Sundar Pichai sought\n"
     ]
    }
   ],
   "source": [
    "matcher = Matcher(nlp.vocab)\n",
    "pattern = [{\"POS\": \"PROPN\", \"OP\": \"+\"}, {\"POS\": \"VERB\"}]\n",
    "matcher.add(\"PROPER_NOUNS\", [pattern], greedy='LONGEST')\n",
    "matches = matcher(doc)\n",
    "matches.sort(key = lambda x: x[1])\n",
    "print (len(matches))\n",
    "for match in matches[:10]:\n",
    "    print (match, doc[match[1]:match[2]])"
   ]
  },
  {
   "cell_type": "markdown",
   "metadata": {
    "id": "K3GTei9sKhW2"
   },
   "source": [
    "# Finding Quotes and Speakers"
   ]
  },
  {
   "cell_type": "code",
   "execution_count": null,
   "metadata": {
    "id": "lGlAf0sdKhW2",
    "outputId": "42196b36-79f2-444c-8059-aceb96b6a0e7"
   },
   "outputs": [
    {
     "data": {
      "text/plain": [
       "In early June 2020, a $5 billion class-action lawsuit was filed against Google by a group of consumers, alleging that Chrome’s"
      ]
     },
     "execution_count": 24,
     "metadata": {},
     "output_type": "execute_result"
    }
   ],
   "source": [
    "text"
   ]
  },
  {
   "cell_type": "code",
   "execution_count": null,
   "metadata": {
    "id": "PK9Nu2tqKhW2",
    "outputId": "c8bfd31a-548c-4bfe-a13f-6dde992aec7d"
   },
   "outputs": [
    {
     "name": "stdout",
     "output_type": "stream",
     "text": [
      "0\n"
     ]
    }
   ],
   "source": [
    "matcher = Matcher(nlp.vocab)\n",
    "pattern = [{'ORTH': \"'\"}, {'IS_ALPHA': True, \"OP\": \"+\"}, {'IS_PUNCT': True, \"OP\": \"*\"}, {'ORTH': \"'\"}]\n",
    "matcher.add(\"PROPER_NOUNS\", [pattern], greedy='LONGEST')\n",
    "\n",
    "matches = matcher(text)\n",
    "matches.sort(key = lambda x: x[1])\n",
    "print (len(matches))\n",
    "for match in matches[:10]:\n",
    "    print (match, text[match[1]:match[2]])"
   ]
  },
  {
   "cell_type": "code",
   "execution_count": null,
   "metadata": {
    "id": "W5Pq4kiSKhW2"
   },
   "outputs": [],
   "source": [
    "\"\"\"\n",
    "Find Speaker\n",
    "\n",
    "speak_lemmas = [\"think\", \"say\"]\n",
    "text = data[0][2][0].replace( \"`\", \"'\")\n",
    "matcher = Matcher(nlp.vocab)\n",
    "pattern1 = [{'ORTH': \"'\"}, {'IS_ALPHA': True, \"OP\": \"+\"}, {'IS_PUNCT': True, \"OP\": \"*\"}, {'ORTH': \"'\"}, {\"POS\": \"VERB\", \"LEMMA\": {\"IN\": speak_lemmas}}, {\"POS\": \"PROPN\", \"OP\": \"+\"}, {'ORTH': \"'\"}, {'IS_ALPHA': True, \"OP\": \"+\"}, {'IS_PUNCT': True, \"OP\": \"*\"}, {'ORTH': \"'\"}]\n",
    "matcher.add(\"PROPER_NOUNS\", [pattern1], greedy='LONGEST')\n",
    "doc = nlp(text)\n",
    "matches = matcher(doc)\n",
    "matches.sort(key = lambda x: x[1])\n",
    "print (len(matches))\n",
    "for match in matches[:10]:\n",
    "    print (match, doc[match[1]:match[2]])\n",
    "\n",
    "\n",
    "Adding More Patterns\n",
    "\n",
    "speak_lemmas = [\"think\", \"say\"]\n",
    "text = data[0][2][0].replace( \"`\", \"'\")\n",
    "matcher = Matcher(nlp.vocab)\n",
    "pattern1 = [{'ORTH': \"'\"}, {'IS_ALPHA': True, \"OP\": \"+\"}, {'IS_PUNCT': True, \"OP\": \"*\"}, {'ORTH': \"'\"}, {\"POS\": \"VERB\", \"LEMMA\": {\"IN\": speak_lemmas}}, {\"POS\": \"PROPN\", \"OP\": \"+\"}, {'ORTH': \"'\"}, {'IS_ALPHA': True, \"OP\": \"+\"}, {'IS_PUNCT': True, \"OP\": \"*\"}, {'ORTH': \"'\"}]\n",
    "pattern2 = [{'ORTH': \"'\"}, {'IS_ALPHA': True, \"OP\": \"+\"}, {'IS_PUNCT': True, \"OP\": \"*\"}, {'ORTH': \"'\"}, {\"POS\": \"VERB\", \"LEMMA\": {\"IN\": speak_lemmas}}, {\"POS\": \"PROPN\", \"OP\": \"+\"}]\n",
    "pattern3 = [{\"POS\": \"PROPN\", \"OP\": \"+\"},{\"POS\": \"VERB\", \"LEMMA\": {\"IN\": speak_lemmas}}, {'ORTH': \"'\"}, {'IS_ALPHA': True, \"OP\": \"+\"}, {'IS_PUNCT': True, \"OP\": \"*\"}, {'ORTH': \"'\"}]\n",
    "matcher.add(\"PROPER_NOUNS\", [pattern1, pattern2, pattern3], greedy='LONGEST')\n",
    "for text in data[0][2]:\n",
    "    text = text.replace(\"`\", \"'\")\n",
    "    doc = nlp(text)\n",
    "    matches = matcher(doc)\n",
    "    matches.sort(key = lambda x: x[1])\n",
    "    print (len(matches))\n",
    "    for match in matches[:10]:\n",
    "        print (match, doc[match[1]:match[2]])\n",
    "\n",
    "\"\"\""
   ]
  },
  {
   "cell_type": "markdown",
   "metadata": {
    "id": "SHRyMqh2KhW2"
   },
   "source": [
    "# Using RegEx with spaCy"
   ]
  },
  {
   "cell_type": "markdown",
   "metadata": {
    "id": "KbzkHyCQKhW3"
   },
   "source": [
    "Regular Expressions, or RegEx for short, is a way of achieving complex string matching based on simple or complex patterns. It can be used to perform finding and retrieving patterns or replacing matching patterns in a string with some other pattern."
   ]
  },
  {
   "cell_type": "markdown",
   "metadata": {
    "id": "349mWK8oKhW3"
   },
   "source": [
    "## The Strengths of RegEx"
   ]
  },
  {
   "cell_type": "markdown",
   "metadata": {
    "id": "4nyszcl2KhW3"
   },
   "source": [
    "There are several strengths to RegEx.\n",
    "\n",
    "1. Due to its complex syntax, it can allow for programmers to write robust rules in short spaces.\n",
    "\n",
    "2. It can allow the researcher to find all types of variance in strings\n",
    "\n",
    "3. It can perform remarkably quickly when compared to other methods.\n",
    "\n",
    "4. It is universally supported"
   ]
  },
  {
   "cell_type": "markdown",
   "metadata": {
    "id": "8CdogX5FKhW3"
   },
   "source": [
    "## The Weaknesses of RegEx"
   ]
  },
  {
   "cell_type": "markdown",
   "metadata": {
    "id": "zSx3Z4E-KhW3"
   },
   "source": [
    "Despite these strengths, there are a few weaknesses to RegEx.\n",
    "\n",
    "1. Its syntax is quite difficult for beginners. (I still find myself looking up how to do certain things).\n",
    "\n",
    "2. It order to work well, it requires a domain-expert to work alongside the programmer to think of all ways a pattern may vary in texts."
   ]
  },
  {
   "cell_type": "code",
   "execution_count": null,
   "metadata": {
    "id": "3tqwTIYpKhW3"
   },
   "outputs": [],
   "source": [
    "import re"
   ]
  },
  {
   "cell_type": "code",
   "execution_count": null,
   "metadata": {
    "id": "6sdhgvQHKhW3",
    "outputId": "bf679ade-3e51-4ede-cf3f-f13fe819c9f4"
   },
   "outputs": [
    {
     "name": "stdout",
     "output_type": "stream",
     "text": [
      "[('2 February', '2', 'February'), ('14 August', '4', 'August')]\n"
     ]
    }
   ],
   "source": [
    "pattern = r\"((\\d){1,2} (January|February|March|April|May|June|July|August|September|October|November|December))\"\n",
    "\n",
    "text = \"This is a date 2 February. Another date would be 14 August.\"\n",
    "matches = re.findall(pattern, text)\n",
    "print (matches)"
   ]
  },
  {
   "cell_type": "markdown",
   "metadata": {
    "id": "rNGBIZMEKhW7"
   },
   "source": [
    " (\\d){1,2}. This means that we are looking for any digit (0-9) that occurs either once or twice ({1,2})."
   ]
  },
  {
   "cell_type": "code",
   "execution_count": null,
   "metadata": {
    "id": "KrOPhvZjKhW7",
    "outputId": "47918007-c7a6-447b-c29e-61b8797d94dd"
   },
   "outputs": [
    {
     "name": "stdout",
     "output_type": "stream",
     "text": [
      "555-5555 PHONE_NUMBER\n"
     ]
    }
   ],
   "source": [
    "#Import the requisite library\n",
    "import spacy\n",
    "\n",
    "#Sample text\n",
    "text = \"This is a sample number 555-5555.\"\n",
    "\n",
    "#Build upon the spaCy Small Model\n",
    "nlp = spacy.blank(\"en\")\n",
    "\n",
    "#Create the Ruler and Add it\n",
    "ruler = nlp.add_pipe(\"entity_ruler\")\n",
    "\n",
    "#List of Entities and Patterns (source: https://spacy.io/usage/rule-based-matching)\n",
    "patterns = [\n",
    "                {\"label\": \"PHONE_NUMBER\", \"pattern\": [{\"SHAPE\": \"ddd\"},\n",
    "                {\"ORTH\": \"-\", \"OP\": \"?\"}, {\"SHAPE\": \"dddd\"}]}\n",
    "            ]\n",
    "#add patterns to ruler\n",
    "ruler.add_patterns(patterns)\n",
    "\n",
    "#create the doc\n",
    "doc = nlp(text)\n",
    "\n",
    "#extract entities\n",
    "for ent in doc.ents:\n",
    "    print (ent.text, ent.label_)"
   ]
  },
  {
   "cell_type": "code",
   "execution_count": null,
   "metadata": {
    "id": "42cSex-wKhW7",
    "outputId": "7de5f28b-bcfb-450c-e189-97da1da1fed3"
   },
   "outputs": [
    {
     "name": "stdout",
     "output_type": "stream",
     "text": [
      "<re.Match object; span=(0, 11), match='Paul Newman'>\n",
      "<re.Match object; span=(39, 53), match='Paul Hollywood'>\n"
     ]
    }
   ],
   "source": [
    "import re\n",
    "\n",
    "text = \"Paul Newman was an American actor, but Paul Hollywood is a British TV Host. The name Paul is quite common.\"\n",
    "\n",
    "pattern = r\"Paul [A-Z]\\w+\"\n",
    "\n",
    "matches = re.finditer(pattern, text)\n",
    "\n",
    "for match in matches:\n",
    "    print (match)"
   ]
  },
  {
   "cell_type": "markdown",
   "metadata": {
    "id": "MsrlS-FpKhW7"
   },
   "source": [
    " re.finditer(pattern, string, flags=0) Return an iterator yielding MatchObject instances over all non-overlapping matches for the RE pattern in string. "
   ]
  },
  {
   "cell_type": "markdown",
   "metadata": {
    "id": "BygejRJwKhW7"
   },
   "source": [
    "# Reconstruct Spans"
   ]
  },
  {
   "cell_type": "code",
   "execution_count": null,
   "metadata": {
    "id": "zA5v9U9HKhW7"
   },
   "outputs": [],
   "source": [
    "import re\n",
    "import spacy\n",
    "from spacy.tokens import Span"
   ]
  },
  {
   "cell_type": "code",
   "execution_count": null,
   "metadata": {
    "id": "n7vxSptiKhW7"
   },
   "outputs": [],
   "source": [
    "text = \"Paul Newman was an American actor, but Paul Hollywood is a British TV Host. The name Paul is quite common.\"\n",
    "pattern = r\"Paul [A-Z]\\w+\""
   ]
  },
  {
   "cell_type": "markdown",
   "metadata": {
    "id": "99jLHgTbKhW8"
   },
   "source": [
    "Create a blank spaCy English model and create the doc object of the text. It will have no entities in it because we are working with a blank model that does not have an “ner” component."
   ]
  },
  {
   "cell_type": "code",
   "execution_count": null,
   "metadata": {
    "id": "otN4sBGiKhW8"
   },
   "outputs": [],
   "source": [
    "nlp = spacy.blank(\"en\")\n",
    "doc = nlp(text)"
   ]
  },
  {
   "cell_type": "markdown",
   "metadata": {
    "id": "jPWutMIbKhW8"
   },
   "source": [
    "Even though this part is unnecessary, it is good to do it here because in other situations you will have entities. If you do, you need to store them as a separate list to which we will append things."
   ]
  },
  {
   "cell_type": "code",
   "execution_count": null,
   "metadata": {
    "id": "UIX8n4xhKhW8"
   },
   "outputs": [],
   "source": [
    "original_ents = list(doc.ents)"
   ]
  },
  {
   "cell_type": "markdown",
   "metadata": {
    "id": "goBcG679KhW8"
   },
   "source": [
    "let’s iterate over the results from re.finditer(). In this cell, we are goingg to grab the start and end from each match. we will then create a temporary span that will be equal to where the characters start and end in the doc object. This is important because tokens and characters do not always align correctly."
   ]
  },
  {
   "cell_type": "markdown",
   "metadata": {
    "id": "5I7Hs9GOKhW8"
   },
   "source": [
    "Finally, we append to mwt_ents, the start, end, and text. The text is not necessary but it will help with debugging.\n",
    "\n"
   ]
  },
  {
   "cell_type": "code",
   "execution_count": null,
   "metadata": {
    "id": "kfW17rx4KhW8"
   },
   "outputs": [],
   "source": [
    "mwt_ents = []\n",
    "for match in re.finditer(pattern, doc.text):\n",
    "    start, end = match.span()\n",
    "    span = doc.char_span(start, end)\n",
    "    if span is not None:\n",
    "        mwt_ents.append((span.start, span.end, span.text))"
   ]
  },
  {
   "cell_type": "markdown",
   "metadata": {
    "id": "N8GLJq38KhW8"
   },
   "source": [
    "# Inject the Spans into the doc.ents"
   ]
  },
  {
   "cell_type": "markdown",
   "metadata": {
    "id": "XpkXIPHlKhW8"
   },
   "source": [
    "using the spaCy Span class. This allows us to create a span object and assign it a custom label. With this data, we can append each Span to original_ents."
   ]
  },
  {
   "cell_type": "code",
   "execution_count": null,
   "metadata": {
    "id": "lIcSjOc9KhW9"
   },
   "outputs": [],
   "source": [
    "for ent in mwt_ents:\n",
    "    start, end, name = ent\n",
    "    per_ent = Span(doc, start, end, label=\"PERSON\")\n",
    "    original_ents.append(per_ent)"
   ]
  },
  {
   "cell_type": "markdown",
   "metadata": {
    "id": "lApXcqq3KhW9"
   },
   "source": [
    "And finally, we set doc.ents equal to original_ents. This effectively loads the spans back into the spaCy doc.ents."
   ]
  },
  {
   "cell_type": "code",
   "execution_count": null,
   "metadata": {
    "id": "2YN_zmlIKhW9"
   },
   "outputs": [],
   "source": [
    "doc.ents = original_ents"
   ]
  },
  {
   "cell_type": "markdown",
   "metadata": {
    "id": "FlxGGcM7KhW9"
   },
   "source": [
    "Let’s iterate over the ents as we normally would.\n",
    "\n"
   ]
  },
  {
   "cell_type": "code",
   "execution_count": null,
   "metadata": {
    "id": "MHYDirUSKhW9",
    "outputId": "d48c6b1c-970d-4ebd-85bd-dd95ce1101b1"
   },
   "outputs": [
    {
     "name": "stdout",
     "output_type": "stream",
     "text": [
      "Paul Newman PERSON\n",
      "Paul Hollywood PERSON\n"
     ]
    }
   ],
   "source": [
    "for ent in doc.ents:\n",
    "    print (ent.text, ent.label_)"
   ]
  },
  {
   "cell_type": "markdown",
   "metadata": {
    "id": "SpGfL9MBKhW-"
   },
   "source": [
    "# Give priority to Longer Spans"
   ]
  },
  {
   "cell_type": "markdown",
   "metadata": {
    "id": "tYtYJIpNKhW-"
   },
   "source": [
    "ometimes, the situation is not so neat. Sometimes our custom RegEx entities will overlap with spaCy’s Entities"
   ]
  },
  {
   "cell_type": "code",
   "execution_count": null,
   "metadata": {
    "id": "L-0R3zhyKhW-",
    "outputId": "6d220ec6-73ca-4695-d438-97e320c4632d"
   },
   "outputs": [
    {
     "name": "stdout",
     "output_type": "stream",
     "text": [
      "Paul Newman PERSON\n",
      "American NORP\n",
      "Paul Hollywood PERSON\n",
      "British NORP\n"
     ]
    }
   ],
   "source": [
    "import re\n",
    "import spacy\n",
    "\n",
    "text = \"Paul Newman was an American actor, but Paul Hollywood is a British TV Host.\"\n",
    "pattern = r\"Hollywood\"\n",
    "\n",
    "nlp = spacy.load(\"en_core_web_sm\")\n",
    "\n",
    "doc = nlp(text)\n",
    "for ent in doc.ents:\n",
    "    print (ent.text, ent.label_)"
   ]
  },
  {
   "cell_type": "code",
   "execution_count": null,
   "metadata": {
    "id": "Ye0mvliYKhW-",
    "outputId": "883384cc-d94c-4158-b57c-654d8f53b398"
   },
   "outputs": [
    {
     "name": "stdout",
     "output_type": "stream",
     "text": [
      "Paul Newman PERSON\n",
      "Paul Hollywood PERSON\n"
     ]
    }
   ],
   "source": [
    "from spacy.util import filter_spans\n",
    "filtered = filter_spans(original_ents)\n",
    "doc.ents = filtered\n",
    "for ent in doc.ents:\n",
    "    print (ent.text, ent.label_)"
   ]
  },
  {
   "cell_type": "markdown",
   "metadata": {
    "id": "lpl-4uIoKhW-"
   },
   "source": [
    "we have allowed the Paul Hollywood entity to be a PERSON, rather than CINEMA. This is because Hollywood is shorter than Paul Hollywood."
   ]
  }
 ],
 "metadata": {
  "colab": {
   "collapsed_sections": [
    "dJICZazBQEn1",
    "-bHuo_tXR74b",
    "wJQUGP0xstuA",
    "lQnk4sgksAb4",
    "1YpcQsZqu1tX",
    "WpJhFQTxzQzG",
    "ZjiVb0Cs3ouU",
    "9_wcII61AIVB",
    "R2wCGPMEATtK",
    "D2XJp-vu3-Tk",
    "W5UBXVyj8IfJ",
    "pQlSk8rx-hAW",
    "8GdKF2jt_KlW",
    "LHskFgGxBeyN",
    "E9X_nMbiB4Gs",
    "XIcSyKsfCFst",
    "o9QoR079CZk9",
    "RMZa-TNPCprV",
    "wViseKN3DfZt",
    "K7znHtwuCf9J",
    "7vGp0oc4DpqY",
    "2z0eG8xTKhWy",
    "PaMPYMelKhWy",
    "STd54VFPKhWz",
    "H5Kd-DDKKhW1",
    "dH60a1aAKhW1",
    "S5AwT8rzKhW2",
    "K3GTei9sKhW2",
    "SHRyMqh2KhW2",
    "BygejRJwKhW7",
    "N8GLJq38KhW8",
    "SpGfL9MBKhW-"
   ],
   "name": "spaCY_p2_Tonychan.ipynb",
   "provenance": []
  },
  "kernelspec": {
   "display_name": "Python 3 (ipykernel)",
   "language": "python",
   "name": "python3"
  },
  "language_info": {
   "codemirror_mode": {
    "name": "ipython",
    "version": 3
   },
   "file_extension": ".py",
   "mimetype": "text/x-python",
   "name": "python",
   "nbconvert_exporter": "python",
   "pygments_lexer": "ipython3",
   "version": "3.8.8"
  }
 },
 "nbformat": 4,
 "nbformat_minor": 1
}
