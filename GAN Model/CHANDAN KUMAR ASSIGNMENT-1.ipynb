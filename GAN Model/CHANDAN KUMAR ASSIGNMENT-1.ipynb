{
 "cells": [
  {
   "cell_type": "markdown",
   "id": "ce6cfae8",
   "metadata": {},
   "source": [
    "# ASSIGNMENT_1 DATATYPES - ANSWER SHEET"
   ]
  },
  {
   "cell_type": "markdown",
   "id": "ec951a8a",
   "metadata": {},
   "source": [
    "Q 1.) Python code to Check if a list contain an element."
   ]
  },
  {
   "cell_type": "code",
   "execution_count": 1,
   "id": "8a1aeefc",
   "metadata": {},
   "outputs": [
    {
     "name": "stdout",
     "output_type": "stream",
     "text": [
      "True\n",
      "True\n",
      "False\n",
      "2\n"
     ]
    }
   ],
   "source": [
    "# Using the list.count() function or ‘in’ statement.  We can check if the element exists on the list or not.\n",
    "\n",
    "# 'in' example - \n",
    "\n",
    "\"\"\"\n",
    "   The 'in' operator in Python checks whether a specified value is a constituent element of a sequence like \n",
    "   string, array, list, or tuple etc. When used in a condition, \n",
    "   the statement returns a Boolean result evaluating into either True or False .\n",
    "\"\"\"\n",
    "\n",
    "list1= [1,2,3,4,5]\n",
    "string1= \"N A R U T O\"\n",
    "tuple1=(11,22,33,44)\n",
    "\n",
    "print(5 in list1) #True\n",
    "print(\"U\" in string1) #True\n",
    "print(88 in tuple1) #False\n",
    "\n",
    "# 'list.count() example'\n",
    "\"\"\" The count() method returns the number of times the specified element appears in the list. \"\"\"\n",
    "\n",
    "# vowels list\n",
    "vowels = ['a', 'e', 'i', 'o', 'i', 'u']\n",
    "\n",
    "# count element 'i'\n",
    "count = vowels.count('i')\n",
    "print(count)\n",
    "\n"
   ]
  },
  {
   "cell_type": "markdown",
   "id": "c1531f25",
   "metadata": {},
   "source": [
    "Q 2.) How to iterate over more then 2 list at the same time. "
   ]
  },
  {
   "cell_type": "code",
   "execution_count": 2,
   "id": "d5527517",
   "metadata": {},
   "outputs": [
    {
     "name": "stdout",
     "output_type": "stream",
     "text": [
      "Naruto the Fox is 9\n",
      "Dragon Ball Z the Dragon is 8\n",
      "AOT the Demon is 2\n",
      "Death Note the human is 10\n"
     ]
    }
   ],
   "source": [
    "\"\"\" \n",
    " We can use zip() lists and then iterate over the zip object. \n",
    " A zip object is an iterator of tuples.\n",
    "\"\"\"\n",
    "\n",
    "Anime = ['Naruto', 'Dragon Ball Z', 'AOT', 'Death Note']\n",
    "animal = ['Fox', 'Dragon', 'Demon', 'human']\n",
    "num = [9, 8, 2, 10]\n",
    "n = zip(Anime, animal, num)\n",
    "n #=> <zip at 0x111081e48>\n",
    "for Anime,animal,num in n:\n",
    "    print(\"%s the %s is %s\" % (Anime, animal, num))\n",
    "    \n"
   ]
  },
  {
   "cell_type": "markdown",
   "id": "36e8f3a4",
   "metadata": {},
   "source": [
    "Q 3.) Does the list need to be homogenous with example."
   ]
  },
  {
   "cell_type": "code",
   "execution_count": 3,
   "id": "77190d29",
   "metadata": {},
   "outputs": [
    {
     "name": "stdout",
     "output_type": "stream",
     "text": [
      "['orange', 'apple', 'pear', 'banana', 'kiwi', 'apple', 'banana']\n"
     ]
    }
   ],
   "source": [
    "\"\"\"\n",
    " No,\n",
    " List can contain heterogeneous values such as integers, floats, strings, tuples, lists, and dictionaries \n",
    " but they are commonly used to store collections of homogeneous objects. Python lists are mutable sequences.\n",
    " Lists should always be used when we want to store items in some kind of order.\n",
    "\"\"\"\n",
    "# Lists are mutable sequences,\n",
    "# typically used to store collections of homogeneous items (where the precise degree of similarity will vary by application.\n",
    "\n",
    "fruits = ['orange', 'apple', 'pear', 'banana', 'kiwi', 'apple', 'banana']\n",
    "print(fruits)\n"
   ]
  },
  {
   "cell_type": "markdown",
   "id": "d6dc918f",
   "metadata": {},
   "source": [
    "Q 4.) What is the difference between append and extend."
   ]
  },
  {
   "cell_type": "code",
   "execution_count": 4,
   "id": "c2627ee6",
   "metadata": {},
   "outputs": [
    {
     "name": "stdout",
     "output_type": "stream",
     "text": [
      "[1, 2, 3, [4, 5]]\n",
      "[1, 2, 3, 4, 5]\n"
     ]
    }
   ],
   "source": [
    "\"\"\" append adds an element to a list, \n",
    "    and \n",
    "    extend concatenates the first list with another list (or another iterable, not necessarily a list.)\"\"\"\n",
    "\n",
    "#append: Appends object at the end.\n",
    "\n",
    "x = [1, 2, 3]\n",
    "x.append([4, 5])\n",
    "print(x)\n",
    "\n",
    "#extend: Extends list by appending elements from the iterable.\n",
    "\n",
    "x = [1, 2, 3]\n",
    "x.extend([4, 5])\n",
    "print(x)"
   ]
  },
  {
   "cell_type": "markdown",
   "id": "050000fc",
   "metadata": {},
   "source": [
    "Q 5.) Do python list store values or pointer?."
   ]
  },
  {
   "cell_type": "code",
   "execution_count": 5,
   "id": "164073dd",
   "metadata": {},
   "outputs": [
    {
     "name": "stdout",
     "output_type": "stream",
     "text": [
      "140729051981616\n",
      "140729051981648\n",
      "2031331750592\n",
      "140729051981616\n"
     ]
    }
   ],
   "source": [
    "\"\"\"\n",
    "Python lists don't store values themselves. \n",
    "They store pointers to values stored elsewhere in memory. \n",
    "This allows lists to be mutable.\n",
    "\"\"\"\n",
    "\"\"\"print( id(1) ) #=> 3763244385\n",
    "   print( id(2) ) #=> 3766444385\n",
    "\"\"\"\n",
    "print( id(1) ) #=> 140729051981616\n",
    "print( id(2) ) #=> 140729051981648\n",
    "n = [1,2]\n",
    "print( id(n) ) #=> 2127681296640\n",
    "print( id(n[0]) ) #=> 140729051981616\n"
   ]
  },
  {
   "cell_type": "markdown",
   "id": "5541f345",
   "metadata": {},
   "source": [
    "Q 6.) Difference between remove and pop."
   ]
  },
  {
   "cell_type": "code",
   "execution_count": 6,
   "id": "d8f93e51",
   "metadata": {},
   "outputs": [
    {
     "name": "stdout",
     "output_type": "stream",
     "text": [
      "['apple', 'apple', 'banana', 'banana', 'grape', 'orange', 'pear']\n",
      "pear\n",
      "['apple', 'apple', 'banana', 'banana', 'grape', 'kiwi', 'orange']\n"
     ]
    }
   ],
   "source": [
    "\"\"\"\n",
    "   pop([i])\n",
    "   Remove the item at the given position in the list, and return it.  \n",
    "   If no index is specified, a.pop() removes and returns the last item in the list. \n",
    "   (The square brackets around the i in the method signature denote that the parameter is optional,\n",
    "   not that we should type square brackets at that position.\n",
    "\"\"\"\n",
    "\n",
    "\n",
    "\"\"\"   \n",
    "   The remove() function, on the other hand, is used to remove \n",
    "   the value where we do not need the removed value to be returned.\n",
    "\"\"\"\n",
    "\n",
    "#remove(x) Remove the first item from the list whose value is equal to x. It raises a ValueError if there is no such item.\n",
    "\n",
    "fruits = ['apple', 'apple', 'banana', 'banana', 'grape', 'kiwi', 'orange', 'pear']\n",
    "fruits.remove('kiwi')\n",
    "print(fruits)\n",
    "\n",
    "#pop\n",
    "\n",
    "fruits = ['apple', 'apple', 'banana', 'banana', 'grape', 'kiwi', 'orange', 'pear']\n",
    "print(fruits.pop())\n",
    "print(fruits)"
   ]
  },
  {
   "cell_type": "markdown",
   "id": "ffba90a2",
   "metadata": {},
   "source": [
    "Q 7.) Python code to Remove duplicates from list."
   ]
  },
  {
   "cell_type": "code",
   "execution_count": 7,
   "id": "daf68feb",
   "metadata": {},
   "outputs": [
    {
     "data": {
      "text/plain": [
       "[1, 34, 3, 4, 5]"
      ]
     },
     "execution_count": 7,
     "metadata": {},
     "output_type": "execute_result"
    }
   ],
   "source": [
    "arr = [1,1,1,3,3,3,34,4,4,5]\n",
    "list(set(arr)) \n",
    "\n",
    "\n",
    "# WHY 3 COME'S AFTER THE 34 ?"
   ]
  },
  {
   "cell_type": "markdown",
   "id": "a9cb3caf",
   "metadata": {},
   "source": [
    "Q 8.) grocery_list = ['flour','cheese','carrots']\n",
    "      print value with their index."
   ]
  },
  {
   "cell_type": "code",
   "execution_count": 8,
   "id": "bbbdaa01",
   "metadata": {},
   "outputs": [
    {
     "name": "stdout",
     "output_type": "stream",
     "text": [
      "The grocery_list :  ['flour', 'cheese', 'carrots']\n",
      "index : value  \n",
      "0 : flour\n",
      "1 : cheese\n",
      "2 : carrots\n"
     ]
    }
   ],
   "source": [
    "grocery_list = ['flour','cheese','carrots']\n",
    "\n",
    "print(\"The grocery_list : \",grocery_list)\n",
    "print (\"index : value  \")\n",
    "\n",
    "for i in range(len(grocery_list)):\n",
    "    print (i, end = \" : \")\n",
    "    print (grocery_list[i])"
   ]
  },
  {
   "cell_type": "markdown",
   "id": "63f18986",
   "metadata": {},
   "source": [
    "Q 9. ) Write a python program to convert a tuple to a sting."
   ]
  },
  {
   "cell_type": "code",
   "execution_count": 9,
   "id": "b6b510be",
   "metadata": {},
   "outputs": [
    {
     "name": "stdout",
     "output_type": "stream",
     "text": [
      "NARUTO_UZUMAKI\n"
     ]
    }
   ],
   "source": [
    "# using str.join() The join() method is a string method and returns a string\n",
    "# using reduce() function. <!>\n",
    "\n",
    "\n",
    "tup = ('N', 'A', 'R', 'U', 'T', 'O', '_', 'U', 'Z','U', 'M', 'A','K', 'I')\n",
    "str =  ''.join(tup)\n",
    "print(str)"
   ]
  },
  {
   "cell_type": "markdown",
   "id": "6b05a0e4",
   "metadata": {},
   "source": [
    "Q 10.) Write a python program to find repeated items of a tuple."
   ]
  },
  {
   "cell_type": "code",
   "execution_count": 10,
   "id": "ad98c321",
   "metadata": {},
   "outputs": [
    {
     "name": "stdout",
     "output_type": "stream",
     "text": [
      "The tuple elements are -: (1, 3, 4, 3, 4, 5, 6, 7, 7)\n",
      "THE REPEATED ELEMENT IS : - 3 Times repeation is :  2  at : 2\n",
      "THE REPEATED ELEMENT IS : - 4 Times repeation is :  2  at : 3\n",
      "THE REPEATED ELEMENT IS : - 3 Times repeation is :  2  at : 4\n",
      "THE REPEATED ELEMENT IS : - 4 Times repeation is :  2  at : 5\n",
      "THE REPEATED ELEMENT IS : - 7 Times repeation is :  2  at : 8\n",
      "THE REPEATED ELEMENT IS : - 7 Times repeation is :  2  at : 9\n"
     ]
    }
   ],
   "source": [
    "tup=(1,3,4,3,4,5,6,7,7)  \n",
    "print(\"The tuple elements are -:\", tup)\n",
    "\n",
    "index = 0\n",
    "for i in tup:\n",
    "    index += 1\n",
    "    if tup.count(i) > 1:\n",
    "        print('THE REPEATED ELEMENT IS : -',i,\"Times repeation is : \", tup.count(i),\" at :\", index)"
   ]
  },
  {
   "cell_type": "markdown",
   "id": "360c8485",
   "metadata": {},
   "source": [
    "Q 11. ) Write a Python program to calculate the average value of the numbers in a given tuple of tuples\n",
    "     a). ((10, 10, 10, 12), (30, 45, 56, 45), (81, 80, 39, 32), (1, 2, 3, 4))\n",
    "     b). ((1, 1, -5), (30, -15, 56), (81, -60, -39), (-10, 2, 3))"
   ]
  },
  {
   "cell_type": "code",
   "execution_count": 11,
   "id": "df0fde8d",
   "metadata": {},
   "outputs": [
    {
     "name": "stdout",
     "output_type": "stream",
     "text": [
      "\n",
      "\tTHE ORIGINAL TUPLE IS :  ((10, 10, 10, 12), (30, 45, 56, 45), (81, 80, 39, 32), (1, 2, 3, 4))\n",
      "\n",
      " Average value of the number of the current tuple is : \n",
      "\t [30.5, 34.25, 27.0, 23.25]\n",
      "\n",
      "\tTHE ORIGINAL TUPLE IS :  ((1, 1, -5), (30, -15, 56), (81, -60, -39), (-10, 2, 3))\n",
      "\n",
      " Average value of the number of the current tuple is : \n",
      "\t [25.5, -18.0, 3.75]\n"
     ]
    }
   ],
   "source": [
    "def avg_tot(num):\n",
    "    result = [sum(x) / len(x) for x in zip(*num)]\n",
    "    return result\n",
    "\n",
    "num = ((10, 10, 10, 12), (30, 45, 56, 45), (81, 80, 39, 32), (1, 2, 3, 4))\n",
    "print (\"\\n\\tTHE ORIGINAL TUPLE IS : \",num)\n",
    "print (\"\\n Average value of the number of the current tuple is : \\n\\t\",avg_tot(num))\n",
    "\n",
    "num = ((1, 1, -5), (30, -15, 56), (81, -60, -39), (-10, 2, 3))\n",
    "print (\"\\n\\tTHE ORIGINAL TUPLE IS : \",num)\n",
    "print (\"\\n Average value of the number of the current tuple is : \\n\\t\",avg_tot(num))"
   ]
  },
  {
   "cell_type": "markdown",
   "id": "3985de78",
   "metadata": {},
   "source": [
    "Q 12.) Write a python script to check whether a given key already exits in a dictionary."
   ]
  },
  {
   "cell_type": "code",
   "execution_count": 12,
   "id": "9b88ab26",
   "metadata": {},
   "outputs": [
    {
     "name": "stdout",
     "output_type": "stream",
     "text": [
      "The Dictionary is :\n",
      "  {1: 20, 2: 30, 4: 30, 5: 30}\n",
      "\n",
      " ENTER THE KEY THAT YOU WANT TO CHECK : 4\n",
      "\n",
      " Key is present in the dictionary\n"
     ]
    }
   ],
   "source": [
    "D = {1: 20,2: 30,4: 30,5 :30}\n",
    "print(\"The Dictionary is :\\n \",D)\n",
    "\n",
    "def key(x):\n",
    "  if x in D:\n",
    "      print('\\n Key is present in the dictionary')\n",
    "  else:\n",
    "      print('\\n Key is not present in the dictionary')\n",
    "        \n",
    "n = int(input(\"\\n ENTER THE KEY THAT YOU WANT TO CHECK : \"))\n",
    "key(n)"
   ]
  },
  {
   "cell_type": "markdown",
   "id": "762d4aa0",
   "metadata": {},
   "source": [
    "Q 13.) Write a python code to merge two python dictionary."
   ]
  },
  {
   "cell_type": "code",
   "execution_count": 13,
   "id": "fcb94bd0",
   "metadata": {},
   "outputs": [
    {
     "name": "stdout",
     "output_type": "stream",
     "text": [
      "{'Ben': 10, 'Max': 200, 'kevin': 50, 'x': 300, 'y': 200, 'z': 400}\n",
      "{'Ben': 10, 'Max': 200, 'kevin': 50, 'x': 300, 'y': 200, 'z': 400}\n"
     ]
    }
   ],
   "source": [
    "\"\"\" Using the method update() \"\"\"\n",
    "\n",
    "d1 = {'Ben': 10, 'Max': 200, 'kevin': 50}\n",
    "d2 = {'x': 300, 'y': 200, 'z': 400}\n",
    "\n",
    "d = d1.copy()\n",
    "d.update(d2)\n",
    "print(d)\n",
    "\n",
    "d1.update(d2)\n",
    "print(d1)\n"
   ]
  },
  {
   "cell_type": "markdown",
   "id": "14d3f92d",
   "metadata": {},
   "source": [
    "Q 14.) Write a Python program to print all unique values in a dictionary.\n",
    "Sample Data : [{\"V\":\"S001\"}, {\"V\": \"S002\"}, {\"VI\": \"S001\"}, {\"VI\": \"S005\"}, {\"VII\":\"S005\"}, {\"V\":\"S009\"},{\"VIII\":\"S007\"}]"
   ]
  },
  {
   "cell_type": "code",
   "execution_count": 14,
   "id": "45f5950b",
   "metadata": {},
   "outputs": [
    {
     "name": "stdout",
     "output_type": "stream",
     "text": [
      "\n",
      "The Original List is: \n",
      " [{'V': 'S001'}, {'V': 'S002'}, {'VI': 'S001'}, {'VI': 'S005'}, {'VII': 'S005'}, {'V': 'S009'}, {'VIII': 'S007'}]\n",
      "\n",
      "Unique Values in the dictionary :  {'S005', 'S007', 'S009', 'S001', 'S002'}\n"
     ]
    }
   ],
   "source": [
    "L = [{\"V\":\"S001\"}, {\"V\": \"S002\"}, {\"VI\": \"S001\"}, {\"VI\": \"S005\"}, {\"VII\":\"S005\"}, {\"V\":\"S009\"},{\"VIII\":\"S007\"}]\n",
    "print(\"\\nThe Original List is: \\n\",L)\n",
    "\n",
    "unique_value = set( val for dic in L for val in dic.values())\n",
    "print(\"\\nUnique Values in the dictionary : \",unique_value)"
   ]
  },
  {
   "cell_type": "markdown",
   "id": "ccf41b34",
   "metadata": {},
   "source": [
    "Q 15. ) Write a Python program to find the highest 3 values of corresponding keys in a dictionary."
   ]
  },
  {
   "cell_type": "code",
   "execution_count": 15,
   "id": "a19faeb7",
   "metadata": {},
   "outputs": [
    {
     "name": "stdout",
     "output_type": "stream",
     "text": [
      "['f', 'd', 'B']\n"
     ]
    }
   ],
   "source": [
    "from heapq import nlargest\n",
    "\n",
    "my_dict = {'A':5, 'B':6945, 'C': 60,'d':40350, 'e':58, 'f': 204353}  \n",
    "third_val = nlargest(3, my_dict, key=my_dict.get)\n",
    "print(third_val) "
   ]
  },
  {
   "cell_type": "markdown",
   "id": "c3d90c0a",
   "metadata": {},
   "source": [
    "Q 17.) Output of given code snippt \n",
    "\n",
    "temp=10 \n",
    "def func():\n",
    "  \ttemp=20\n",
    "    print(temp)     \n",
    "print(temp)\n",
    "func()\n",
    "print(temp)\n",
    "\n",
    "Ans : \n",
    "\n",
    "10\n",
    "20\n",
    "10"
   ]
  },
  {
   "cell_type": "markdown",
   "id": "eab3d5bf",
   "metadata": {},
   "source": [
    "Q 18. ) Output of given code snippt\n",
    "\n",
    "my_tuple = ('sara', 6, 5, 0.97)\n",
    "my_list = ['sara', 6, 5, 0.97]\n",
    "print(my_tuple[0])     \n",
    "print(my_list[0])      \n",
    "my_tuple[0] = 'ansh'    \n",
    "my_list[0] = 'ansh'     \n",
    "print(my_tuple[0])     \n",
    "print(my_list[0])  \n",
    "\n",
    "ans : \n",
    "    \n",
    "sara\n",
    "sara\n",
    "\n",
    "Type error : tuple is immutable. Once Python has created a tuple in memory, it cannot be changed.\n",
    "    "
   ]
  },
  {
   "cell_type": "markdown",
   "id": "7e81e6cd",
   "metadata": {},
   "source": [
    "Q 19. ) Write a Python program to iterate over sets."
   ]
  },
  {
   "cell_type": "code",
   "execution_count": 16,
   "id": "2fd8d36d",
   "metadata": {},
   "outputs": [
    {
     "name": "stdout",
     "output_type": "stream",
     "text": [
      "0\n",
      "1\n",
      "2\n",
      "3\n",
      "4\n",
      "5\n",
      "6\n"
     ]
    }
   ],
   "source": [
    "n_set = set([0, 1, 2, 3, 4, 5, 5, 6])\n",
    "for n in n_set:\n",
    "  print(n)"
   ]
  },
  {
   "cell_type": "markdown",
   "id": "3f623e3d",
   "metadata": {},
   "source": [
    "Q 20. ) Write a Python program to remove an item from a set if it is present in the set."
   ]
  },
  {
   "cell_type": "code",
   "execution_count": 24,
   "id": "397a36a7",
   "metadata": {},
   "outputs": [
    {
     "name": "stdout",
     "output_type": "stream",
     "text": [
      "\n",
      "\tThe set items are:\n",
      " {0, 1, 2, 3, 4, 5}\n",
      "\n",
      "ENTER THE ITEM TO REMOVE FROM THE SET :\n",
      "4\n",
      "{0, 1, 2, 3, 5}\n"
     ]
    }
   ],
   "source": [
    "n_set = set([0, 1, 2, 3, 4, 5])\n",
    "print('\\n\\tThe set items are:\\n',n_set)\n",
    "\n",
    "n = int(input('\\nENTER THE ITEM TO REMOVE FROM THE SET :\\n' ))\n",
    "\n",
    "\n",
    "n_set.discard(n)\n",
    "print(n_set)\n",
    "\n",
    "\"\"\" NEED HELP \"\"\""
   ]
  },
  {
   "cell_type": "markdown",
   "id": "c15421bd",
   "metadata": {},
   "source": [
    "Q 16. ) Write a Python program to store a given dictionary in a json file.\n",
    "{'students': [{'firstName': 'Nikki', 'lastName': 'Roysden'}, {'firstName': 'Mervin', 'lastName': 'Friedland'}, \n",
    "{'firstName': 'Aron ', 'lastName': 'Wilkins'}], \n",
    "'teachers': [{'firstName': 'Amberly', 'lastName': 'Calico'}, {'firstName': 'Regine', 'lastName': 'Agtarap'}]}"
   ]
  },
  {
   "cell_type": "code",
   "execution_count": 26,
   "id": "9c8abc48",
   "metadata": {},
   "outputs": [
    {
     "name": "stdout",
     "output_type": "stream",
     "text": [
      "The Original dictionary: {'students': [{'firstName': 'Nikki', 'lastName': 'Roysden'}, {'firstName': 'Mervin', 'lastName': 'Friedland'}, {'firstName': 'Aron ', 'lastName': 'Wilkins'}], 'teachers': [{'firstName': 'Amberly', 'lastName': 'Calico'}, {'firstName': 'Regine', 'lastName': 'Agtarap'}]} <class 'dict'>\n",
      "\n",
      "Json file to dictionary:\n",
      "{'students': [{'firstName': 'Nikki', 'lastName': 'Roysden'}, {'firstName': 'Mervin', 'lastName': 'Friedland'}, {'firstName': 'Aron ', 'lastName': 'Wilkins'}], 'teachers': [{'firstName': 'Amberly', 'lastName': 'Calico'}, {'firstName': 'Regine', 'lastName': 'Agtarap'}]}\n"
     ]
    }
   ],
   "source": [
    " \"\"\" NEED HELP \"\"\"\n",
    "    \n",
    "d = {\"students\":[{\"firstName\": \"Nikki\", \"lastName\": \"Roysden\"},\n",
    "               {\"firstName\": \"Mervin\", \"lastName\": \"Friedland\"},\n",
    "               {\"firstName\": \"Aron \", \"lastName\": \"Wilkins\"}],\n",
    "    \"teachers\":[{\"firstName\": \"Amberly\", \"lastName\": \"Calico\"},\n",
    "               {\"firstName\": \"Regine\", \"lastName\": \"Agtarap\"}]}\n",
    "\n",
    "print(\"The Original dictionary:\", d,type(d))\n",
    "\n",
    "import json\n",
    " \n",
    "with open(\"dictionary\", \"w\") as f:\n",
    "    json.dump(d, f, indent = 4, sort_keys = True)\n",
    " \n",
    "print(\"\\nJson file to dictionary:\")\n",
    "with open('dictionary') as f:\n",
    "    data = json.load(f)\n",
    "print(data)\n",
    "\n"
   ]
  },
  {
   "cell_type": "code",
   "execution_count": null,
   "id": "b217aa71",
   "metadata": {},
   "outputs": [],
   "source": []
  }
 ],
 "metadata": {
  "kernelspec": {
   "display_name": "Python 3",
   "language": "python",
   "name": "python3"
  },
  "language_info": {
   "codemirror_mode": {
    "name": "ipython",
    "version": 3
   },
   "file_extension": ".py",
   "mimetype": "text/x-python",
   "name": "python",
   "nbconvert_exporter": "python",
   "pygments_lexer": "ipython3",
   "version": "3.8.8"
  }
 },
 "nbformat": 4,
 "nbformat_minor": 5
}
